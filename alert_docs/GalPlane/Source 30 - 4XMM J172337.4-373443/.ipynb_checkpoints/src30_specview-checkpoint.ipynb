{
 "cells": [
  {
   "cell_type": "code",
   "execution_count": 1,
   "metadata": {},
   "outputs": [],
   "source": [
    "%load_ext wurlitzer\n",
    "import glob\n",
    "import os\n",
    "from xspec import *\n",
    "from stingray import Lightcurve\n",
    "from astropy.io import fits\n",
    "import matplotlib.pyplot as plt\n",
    "plt.rcParams['figure.figsize'] = [12,8]\n",
    "os.chdir('pps/')\n",
    "\n",
    "Fit.statMethod = \"chi\"\n",
    "Fit.nIterations = 100000\n",
    "Fit.delta = 1e-4\n",
    "Fit.criticalDelta = 1e-4"
   ]
  },
  {
   "cell_type": "code",
   "execution_count": 2,
   "metadata": {},
   "outputs": [],
   "source": [
    "import numpy as np\n",
    "out_arr = np.full((4,19),-np.inf,dtype=object)"
   ]
  },
  {
   "cell_type": "code",
   "execution_count": 3,
   "metadata": {},
   "outputs": [
    {
     "name": "stdout",
     "output_type": "stream",
     "text": [
      "\n",
      "1 spectrum  in use\n",
      " \n",
      "Spectral Data File: P0886080501PNS003SRSPEC000C.FTZ  Spectrum 1\n",
      "Net count rate (cts/s) for Spectrum:1  2.188e-03 +/- 6.543e-04 (20.4 % total)\n",
      " Assigned to Data Group 1 and Plot Group 1\n",
      "  Noticed Channels:  1-13\n",
      "  Telescope: XMM Instrument: EPN  Channel Type: PI\n",
      "  Exposure Time: 2.545e+04 sec\n",
      " Using fit statistic: chi\n",
      " Using Background File                P0886080501PNS003BGSPEC000C.FTZ\n",
      "  Background Exposure Time: 2.545e+04 sec\n",
      " Using Response (RMF) File            epn_e3_ff20_sdY8.rmf for Source 1\n",
      " Using Auxiliary Response (ARF) File  P0886080501PNS003SRCARF000C.FTZ\n",
      "\n"
     ]
    },
    {
     "data": {
      "image/svg+xml": [
       "<svg xmlns=\"http://www.w3.org/2000/svg\" xmlns:xlink=\"http://www.w3.org/1999/xlink\" style=\"fill-rule: nonzero; stroke-linecap: round; stroke-linejoin: round; transform: scale(1,-1);\" version=\"1.1\" viewbox=\"          225.691605            27.140120          7374.125488          5618.850098\" width=\"100%\" height=\"100%\" preserveAspectRatio=\"xMidYMid\">\n",
       "<style>\n",
       "  .fn { font-family: Arial,Helvetica,sans-serif; }\n",
       "  .fN { font-family: Arial,Helvetica,sans-serif; font-weight: bold;}\n",
       "  .fr { font-family: Times,Times-Roman,Times New Roman,serif; }\n",
       "  .fR { font-family: Times,Times-Roman,Times New Roman,serif; font-weight: bold;}\n",
       "  .fi { font-family: Times,Times-Roman,Times New Roman,serif; font-style: italic;}\n",
       "  .fI { font-family: Times,Times-Roman,Times New Roman,serif; font-style: italic; font-weight: bold;}\n",
       "  .fs { font-family: Zapf-Chancery,Apple Chancery,URW Chancery L,cursive;}\n",
       "  .fS { font-family: Zapf-Chancery,Apple Chancery,URW Chancery L,cursive;font-weight:bold}\n",
       "  .fc { font-family: Arial Narrow,Helvetica Narrow,Arial,Helvetica,sans-serif;}\n",
       "  .fC { font-family: Arial Narrow,Helvetica Narrow,Arial,Helvetica,sans-serif; font-weight:bold;}\n",
       "</style>\n",
       "<g style=\"color: rgb(0, 0, 0); fill: currentColor; stroke: currentColor; stroke-width: 8\">\n",
       "\n",
       "<path fill=\"none\" d=\"M 742 576 l 5935 0 l 0 4607 l -5935 0 l 0 -4607 M 1040 576 l 0 33 M 1359 576 l 0 33 M 1620 576 l 0 33  M 1841 576 l 0 33 M 2033 576 l 0 33 M 2201 576 l 0 33 M 2352 576 l 0 66 M 3345 576 l 0 33 M 3926 576 l 0 33  M 4338 576 l 0 33 M 4657 576 l 0 33 M 4919 576 l 0 33 M 5139 576 l 0 33 M 5331 576 l 0 33 M 5499 576 l 0 33  M 5650 576 l 0 66 M 6643 576 l 0 33 M 1040 5150 l 0 33 M 1359 5150 l 0 33 M 1620 5150 l 0 33 M 1841 5150 l 0 33  M 2033 5150 l 0 33 M 2201 5150 l 0 33 M 2352 5117 l 0 66 M 3345 5150 l 0 33 M 3926 5150 l 0 33 M 4338 5150 l 0 33  M 4657 5150 l 0 33 M 4919 5150 l 0 33 M 5139 5150 l 0 33 M 5331 5150 l 0 33 M 5499 5150 l 0 33 M 5650 5117 l 0 66  M 6643 5150 l 0 33 \"/>\n",
       "<text transform=\"translate(2307,403) scale(1,-1)\"><tspan class=\"fn\" style=\"font-size: 886%;\">1</tspan></text>\n",
       "<text transform=\"translate(5561,403) scale(1,-1)\"><tspan class=\"fn\" style=\"font-size: 886%;\">10</tspan></text>\n",
       "<text transform=\"translate(1248,403) scale(1,-1)\"><tspan class=\"fn\" style=\"font-size: 886%;\">0.5</tspan></text>\n",
       "<text transform=\"translate(3300,403) scale(1,-1)\"><tspan class=\"fn\" style=\"font-size: 886%;\">2</tspan></text>\n",
       "<text transform=\"translate(4613,403) scale(1,-1)\"><tspan class=\"fn\" style=\"font-size: 886%;\">5</tspan></text>\n",
       "<text transform=\"translate(6554,403) scale(1,-1)\"><tspan class=\"fn\" style=\"font-size: 886%;\">20</tspan></text>\n",
       "\n",
       "<path fill=\"none\" d=\"M 742 576 l 66 0 M 742 1090 l 33 0 M 742 1390 l 33 0 M 742 1604 l 33 0 M 742 1769 l 33 0 M 742 1904 l 33 0  M 742 2019 l 33 0 M 742 2117 l 33 0 M 742 2205 l 33 0 M 742 2283 l 66 0 M 742 2797 l 33 0 M 742 3097 l 33 0  M 742 3311 l 33 0 M 742 3476 l 33 0 M 742 3611 l 33 0 M 742 3726 l 33 0 M 742 3825 l 33 0 M 742 3912 l 33 0  M 742 3990 l 66 0 M 742 4504 l 33 0 M 742 4804 l 33 0 M 742 5018 l 33 0 M 742 5183 l 33 0 M 6611 576 l 66 0  M 6644 1090 l 33 0 M 6644 1390 l 33 0 M 6644 1604 l 33 0 M 6644 1769 l 33 0 M 6644 1904 l 33 0 M 6644 2019 l 33 0  M 6644 2117 l 33 0 M 6644 2205 l 33 0 M 6611 2283 l 66 0 M 6644 2797 l 33 0 M 6644 3097 l 33 0 M 6644 3311 l 33 0  M 6644 3476 l 33 0 M 6644 3611 l 33 0 M 6644 3726 l 33 0 M 6644 3825 l 33 0 M 6644 3912 l 33 0 M 6611 3990 l 66 0  M 6644 4504 l 33 0 M 6644 4804 l 33 0 M 6644 5018 l 33 0 M 6644 5183 l 33 0 \"/>\n",
       "<text transform=\"translate(641,432) scale(1,-1) rotate(-90)\"><tspan class=\"fn\" style=\"font-size: 886%;\">10<tspan style=\"font-size: 60%;\" dy=\"-0.6em\">−5<tspan style=\"font-size: 166.667%;\" dy=\"+0.36em\"/></tspan></tspan></text>\n",
       "<text transform=\"translate(641,2139) scale(1,-1) rotate(-90)\"><tspan class=\"fn\" style=\"font-size: 886%;\">10<tspan style=\"font-size: 60%;\" dy=\"-0.6em\">−4<tspan style=\"font-size: 166.667%;\" dy=\"+0.36em\"/></tspan></tspan></text>\n",
       "<text transform=\"translate(641,3846) scale(1,-1) rotate(-90)\"><tspan class=\"fn\" style=\"font-size: 886%;\">10<tspan style=\"font-size: 60%;\" dy=\"-0.6em\">−3<tspan style=\"font-size: 166.667%;\" dy=\"+0.36em\"/></tspan></tspan></text>\n",
       "</g>\n",
       "<g style=\"color: rgb(0, 0, 0); fill: currentColor; stroke: currentColor; stroke-width: 4\">\n",
       "<defs>\n",
       "<symbol id=\"M1\" overflow=\"visible\">\n",
       "<circle r=\"1\" fill=\"none\" stroke-width=\"1\"/>\n",
       "</symbol>\n",
       "</defs>\n",
       "<use xlink:href=\"#M1\" transform=\"translate(1312, 3777) scale(4.430)\"/>\n",
       "\n",
       "<path fill=\"none\" d=\"M 742 3777 l 977 0 M 1312 2718 l 0 1478 \"/>\n",
       "<use xlink:href=\"#M1\" transform=\"translate(2025, 3838) scale(4.430)\"/>\n",
       "\n",
       "<path fill=\"none\" d=\"M 1719 3838 l 558 0 M 2025 2919 l 0 1317 \"/>\n",
       "<use xlink:href=\"#M1\" transform=\"translate(2564, 4086) scale(4.430)\"/>\n",
       "\n",
       "<path fill=\"none\" d=\"M 2376 4086 l 355 0 M 2564 3505 l 0 902 \"/>\n",
       "<use xlink:href=\"#M1\" transform=\"translate(2893, 4048) scale(4.430)\"/>\n",
       "\n",
       "<path fill=\"none\" d=\"M 2731 4048 l 308 0 M 2893 3500 l 0 860 \"/>\n",
       "<use xlink:href=\"#M1\" transform=\"translate(3153, 4443) scale(4.430)\"/>\n",
       "\n",
       "<path fill=\"none\" d=\"M 3039 4443 l 219 0 M 3153 4102 l 0 573 M 3519 576 l 0 2039 \"/>\n",
       "<use xlink:href=\"#M1\" transform=\"translate(3940, 2400) scale(4.430)\"/>\n",
       "\n",
       "<path fill=\"none\" d=\"M 3740 2400 l 376 0 M 3940 576 l 0 2629 \"/>\n",
       "<use xlink:href=\"#M1\" transform=\"translate(4290, 2385) scale(4.430)\"/>\n",
       "\n",
       "<path fill=\"none\" d=\"M 4116 2385 l 330 0 M 4290 576 l 0 2555 M 4661 576 l 0 150 M 5408 576 l 0 1767 \"/>\n",
       "<use xlink:href=\"#M1\" transform=\"translate(6214, 1236) scale(4.430)\"/>\n",
       "\n",
       "<path fill=\"none\" d=\"M 5526 1236 l 1151 0 M 6214 576 l 0 1090 \"/>\n",
       "</g>\n",
       "<g style=\"color: rgb(0, 0, 0); fill: currentColor; stroke: currentColor; stroke-width: 8\">\n",
       "<text transform=\"translate(370,2317) scale(1,-1) rotate(-90)\"><tspan class=\"fn\" style=\"font-size: 886%;\">counts s<tspan style=\"font-size: 60%;\" dy=\"-0.6em\">−1<tspan style=\"font-size: 166.667%;\" dy=\"+0.36em\"> keV<tspan style=\"font-size: 60%;\" dy=\"-0.6em\">−1<tspan style=\"font-size: 166.667%;\" dy=\"+0.36em\"/></tspan></tspan></tspan></tspan></text>\n",
       "<text transform=\"translate(3255,215) scale(1,-1)\"><tspan class=\"fn\" style=\"font-size: 886%;\">Energy (keV)</tspan></text>\n",
       "<text transform=\"translate(3534,5442) scale(1,-1)\"><tspan class=\"fn\" style=\"font-size: 886%;\"><tspan class=\"fR\">data</tspan></tspan></text>\n",
       "</g>\n",
       "<g style=\"color: rgb(0, 0, 0); fill: currentColor; stroke: currentColor; stroke-width: 4\">\n",
       "<text transform=\"translate(6246,46) scale(1,-1)\"><tspan class=\"fn\" style=\"font-size: 531.6%;\">rwebbe  3−Sep−2025 09:55</tspan></text>\n",
       "</g>\n",
       "<!-- _PGPLOT_SVG_ATEND: viewbox=\"          225.691605            27.140120          7374.125488          5618.850098\" -->\n",
       "</svg>"
      ],
      "text/plain": [
       "<IPython.core.display.SVG object>"
      ]
     },
     "metadata": {},
     "output_type": "display_data"
    }
   ],
   "source": [
    "spec_fnames = glob.glob('P*PNS*SRSPEC*.FTZ')\n",
    "\n",
    "spec = Spectrum(spec_fnames[0])\n",
    "Plot.device=\"/svg\"\n",
    "Plot.xAxis=\"keV\"\n",
    "Plot.xLog=True\n",
    "Plot.yLog=True\n",
    "Plot.addCommand(\"Rescale Y 0.00001 0.005\")\n",
    "Plot(\"data\")"
   ]
  },
  {
   "cell_type": "code",
   "execution_count": 4,
   "metadata": {
    "scrolled": false
   },
   "outputs": [
    {
     "name": "stdout",
     "output_type": "stream",
     "text": [
      "      No channels ignored (no channels in specified range)\n",
      "     1 channels (13) ignored in spectrum #     1\n",
      "\n",
      "\n",
      "========================================================================\n",
      "Model TBabs<1>*bbody<2> Source No.: 1   Active/On\n",
      "Model Model Component  Parameter  Unit     Value\n",
      " par  comp\n",
      "   1    1   TBabs      nH         10^22    1.00000      +/-  0.0          \n",
      "   2    2   bbody      kT         keV      3.00000      +/-  0.0          \n",
      "   3    2   bbody      norm                1.00000      +/-  0.0          \n",
      "________________________________________________________________________\n",
      "\n",
      "tbvabs Version 2.3\n",
      "Cosmic absorption with grains and H2, modified from\n",
      "Wilms, Allen, & McCray, 2000, ApJ 542, 914-924\n",
      "Questions: Joern Wilms\n",
      "joern.wilms@sternwarte.uni-erlangen.de\n",
      "joern.wilms@fau.de\n",
      "\n",
      "http://pulsar.sternwarte.uni-erlangen.de/wilms/research/tbabs/\n",
      "\n",
      "PLEASE NOTICE:\n",
      "To get the model described by the above paper\n",
      "you will also have to set the abundances:\n",
      "   abund wilm\n",
      "\n",
      "Note that this routine ignores the current cross section setting\n",
      "as it always HAS to use the Verner cross sections as a baseline.\n",
      "\n",
      "Fit statistic  : Chi-Squared              1.202837e+13     using 12 bins.\n",
      "\n",
      "Test statistic : Chi-Squared              1.202837e+13     using 12 bins.\n",
      " Null hypothesis probability of 0.000000e+00 with 9 degrees of freedom\n",
      " Current data and model not fit yet.\n",
      "                                   Parameters\n",
      "Chi-Squared  |beta|/N    Lvl          1:nH          2:kT        3:norm\n",
      " Due to zero model norms, the following fit parameters are temporarily frozen:1 2 \n",
      "37.6344      1.97446e+06  -3       1.00000       3.00000       0.00000\n",
      " Due to zero model norms, the following fit parameters are temporarily frozen:1 2 \n",
      "37.6344      1.97446e+06  -3       1.00000       3.00000       0.00000\n",
      "====================\n",
      " Variances and Principal Axes\n",
      "                 3  \n",
      " 3.3255E-13|  1.0000  \n",
      "--------------------\n",
      "\n",
      "============\n",
      "  Covariance Matrix\n",
      "        1   \n",
      "   3.325e-13\n",
      "------------\n",
      "\n",
      "========================================================================\n",
      "Model TBabs<1>*bbody<2> Source No.: 1   Active/On\n",
      "Model Model Component  Parameter  Unit     Value\n",
      " par  comp\n",
      "   1    1   TBabs      nH         10^22    1.00000      +/-  -1.00000     \n",
      "   2    2   bbody      kT         keV      3.00000      +/-  -1.00000     \n",
      "   3    2   bbody      norm                0.0          +/-  5.76669E-07  \n",
      "________________________________________________________________________\n",
      "\n",
      "\n",
      "Fit statistic  : Chi-Squared                 37.6344     using 12 bins.\n",
      "\n",
      "Test statistic : Chi-Squared                 37.6344     using 12 bins.\n",
      " Null hypothesis probability of 2.0270e-05 with 9 degrees of freedom\n"
     ]
    },
    {
     "data": {
      "image/svg+xml": [
       "<svg xmlns=\"http://www.w3.org/2000/svg\" xmlns:xlink=\"http://www.w3.org/1999/xlink\" style=\"fill-rule: nonzero; stroke-linecap: round; stroke-linejoin: round; transform: scale(1,-1);\" version=\"1.1\" viewbox=\"           -8.104365            27.140120          7607.921387          5564.965820\" width=\"100%\" height=\"100%\" preserveAspectRatio=\"xMidYMid\">\n",
       "<style>\n",
       "  .fn { font-family: Arial,Helvetica,sans-serif; }\n",
       "  .fN { font-family: Arial,Helvetica,sans-serif; font-weight: bold;}\n",
       "  .fr { font-family: Times,Times-Roman,Times New Roman,serif; }\n",
       "  .fR { font-family: Times,Times-Roman,Times New Roman,serif; font-weight: bold;}\n",
       "  .fi { font-family: Times,Times-Roman,Times New Roman,serif; font-style: italic;}\n",
       "  .fI { font-family: Times,Times-Roman,Times New Roman,serif; font-style: italic; font-weight: bold;}\n",
       "  .fs { font-family: Zapf-Chancery,Apple Chancery,URW Chancery L,cursive;}\n",
       "  .fS { font-family: Zapf-Chancery,Apple Chancery,URW Chancery L,cursive;font-weight:bold}\n",
       "  .fc { font-family: Arial Narrow,Helvetica Narrow,Arial,Helvetica,sans-serif;}\n",
       "  .fC { font-family: Arial Narrow,Helvetica Narrow,Arial,Helvetica,sans-serif; font-weight:bold;}\n",
       "</style>\n",
       "<g style=\"color: rgb(0, 0, 0); fill: currentColor; stroke: currentColor; stroke-width: 8\">\n",
       "\n",
       "<path fill=\"none\" d=\"M 742 2304 l 5935 0 l 0 2879 l -5935 0 l 0 -2879 M 1111 2304 l 0 28 M 1508 2304 l 0 28 M 1832 2304 l 0 28  M 2106 2304 l 0 28 M 2343 2304 l 0 28 M 2552 2304 l 0 28 M 2740 2304 l 0 56 M 3971 2304 l 0 28 M 4692 2304 l 0 28  M 5203 2304 l 0 28 M 5599 2304 l 0 28 M 5923 2304 l 0 28 M 6197 2304 l 0 28 M 6435 2304 l 0 28 M 6644 2304 l 0 28  M 1111 5155 l 0 28 M 1508 5155 l 0 28 M 1832 5155 l 0 28 M 2106 5155 l 0 28 M 2343 5155 l 0 28 M 2552 5155 l 0 28  M 2740 5127 l 0 56 M 3971 5155 l 0 28 M 4692 5155 l 0 28 M 5203 5155 l 0 28 M 5599 5155 l 0 28 M 5923 5155 l 0 28  M 6197 5155 l 0 28 M 6435 5155 l 0 28 M 6644 5155 l 0 28 M 742 2304 l 56 0 M 742 2625 l 28 0 M 742 2813 l 28 0  M 742 2946 l 28 0 M 742 3049 l 28 0 M 742 3134 l 28 0 M 742 3205 l 28 0 M 742 3267 l 28 0 M 742 3322 l 28 0  M 742 3370 l 56 0 M 742 3692 l 28 0 M 742 3880 l 28 0 M 742 4013 l 28 0 M 742 4116 l 28 0 M 742 4201 l 28 0  M 742 4272 l 28 0 M 742 4334 l 28 0 M 742 4389 l 28 0 M 742 4437 l 56 0 M 742 4759 l 28 0 M 742 4946 l 28 0  M 742 5080 l 28 0 M 742 5183 l 28 0 M 6621 2304 l 56 0 M 6649 2625 l 28 0 M 6649 2813 l 28 0 M 6649 2946 l 28 0  M 6649 3049 l 28 0 M 6649 3134 l 28 0 M 6649 3205 l 28 0 M 6649 3267 l 28 0 M 6649 3322 l 28 0 M 6621 3370 l 56 0  M 6649 3692 l 28 0 M 6649 3880 l 28 0 M 6649 4013 l 28 0 M 6649 4116 l 28 0 M 6649 4201 l 28 0 M 6649 4272 l 28 0  M 6649 4334 l 28 0 M 6649 4389 l 28 0 M 6621 4437 l 56 0 M 6649 4759 l 28 0 M 6649 4946 l 28 0 M 6649 5080 l 28 0  M 6649 5183 l 28 0 \"/>\n",
       "<text transform=\"translate(412,2266) scale(1,-1)\"><tspan class=\"fn\" style=\"font-size: 753.1%;\">10<tspan style=\"font-size: 60%;\" dy=\"-0.6em\">−5<tspan style=\"font-size: 166.667%;\" dy=\"+0.36em\"/></tspan></tspan></text>\n",
       "<text transform=\"translate(412,3333) scale(1,-1)\"><tspan class=\"fn\" style=\"font-size: 753.1%;\">10<tspan style=\"font-size: 60%;\" dy=\"-0.6em\">−4<tspan style=\"font-size: 166.667%;\" dy=\"+0.36em\"/></tspan></tspan></text>\n",
       "<text transform=\"translate(412,4400) scale(1,-1)\"><tspan class=\"fn\" style=\"font-size: 753.1%;\">10<tspan style=\"font-size: 60%;\" dy=\"-0.6em\">−3<tspan style=\"font-size: 166.667%;\" dy=\"+0.36em\"/></tspan></tspan></text>\n",
       "</g>\n",
       "<g style=\"color: rgb(0, 0, 0); fill: currentColor; stroke: currentColor; stroke-width: 4\">\n",
       "<defs>\n",
       "<symbol id=\"M1\" overflow=\"visible\">\n",
       "<circle r=\"1\" fill=\"none\" stroke-width=\"1\"/>\n",
       "</symbol>\n",
       "</defs>\n",
       "<use xlink:href=\"#M1\" transform=\"translate(1450, 4304) scale(4.430)\"/>\n",
       "\n",
       "<path fill=\"none\" d=\"M 742 4304 l 1213 0 M 1450 3643 l 0 923 \"/>\n",
       "<use xlink:href=\"#M1\" transform=\"translate(2334, 4342) scale(4.430)\"/>\n",
       "\n",
       "<path fill=\"none\" d=\"M 1955 4342 l 691 0 M 2334 3768 l 0 823 \"/>\n",
       "<use xlink:href=\"#M1\" transform=\"translate(3003, 4497) scale(4.430)\"/>\n",
       "\n",
       "<path fill=\"none\" d=\"M 2769 4497 l 441 0 M 3003 4134 l 0 564 \"/>\n",
       "<use xlink:href=\"#M1\" transform=\"translate(3411, 4474) scale(4.430)\"/>\n",
       "\n",
       "<path fill=\"none\" d=\"M 3210 4474 l 382 0 M 3411 4131 l 0 538 \"/>\n",
       "<use xlink:href=\"#M1\" transform=\"translate(3733, 4720) scale(4.430)\"/>\n",
       "\n",
       "<path fill=\"none\" d=\"M 3592 4720 l 271 0 M 3733 4508 l 0 358 M 4187 2304 l 0 1274 \"/>\n",
       "<use xlink:href=\"#M1\" transform=\"translate(4709, 3444) scale(4.430)\"/>\n",
       "\n",
       "<path fill=\"none\" d=\"M 4461 3444 l 466 0 M 4709 2304 l 0 1643 \"/>\n",
       "<use xlink:href=\"#M1\" transform=\"translate(5144, 3434) scale(4.430)\"/>\n",
       "\n",
       "<path fill=\"none\" d=\"M 4927 3434 l 411 0 M 5144 2304 l 0 1596 M 5604 2304 l 0 94 M 6531 2304 l 0 1104 \"/>\n",
       "</g>\n",
       "<g style=\"color: rgb(0, 0, 0); fill: currentColor; stroke: currentColor; stroke-width: 8\">\n",
       "<text transform=\"translate(111,3265) scale(1,-1) rotate(-90)\"><tspan class=\"fn\" style=\"font-size: 753.1%;\">counts s<tspan style=\"font-size: 60%;\" dy=\"-0.6em\">−1<tspan style=\"font-size: 166.667%;\" dy=\"+0.36em\"> keV<tspan style=\"font-size: 60%;\" dy=\"-0.6em\">−1<tspan style=\"font-size: 166.667%;\" dy=\"+0.36em\"/></tspan></tspan></tspan></tspan></text>\n",
       "<text transform=\"translate(2971,5403) scale(1,-1)\"><tspan class=\"fn\" style=\"font-size: 753.1%;\"><tspan class=\"fR\">data and folded model</tspan></tspan></text>\n",
       "\n",
       "<path fill=\"none\" d=\"M 742 576 l 5935 0 l 0 1728 l -5935 0 l 0 -1728 M 1111 576 l 0 28 M 1508 576 l 0 28 M 1832 576 l 0 28  M 2106 576 l 0 28 M 2343 576 l 0 28 M 2552 576 l 0 28 M 2740 576 l 0 56 M 3971 576 l 0 28 M 4692 576 l 0 28  M 5203 576 l 0 28 M 5599 576 l 0 28 M 5923 576 l 0 28 M 6197 576 l 0 28 M 6435 576 l 0 28 M 6644 576 l 0 28  M 1111 2275 l 0 29 M 1508 2275 l 0 29 M 1832 2275 l 0 29 M 2106 2275 l 0 29 M 2343 2275 l 0 29 M 2552 2275 l 0 29  M 2740 2247 l 0 57 M 3971 2275 l 0 29 M 4692 2275 l 0 29 M 5203 2275 l 0 29 M 5599 2275 l 0 29 M 5923 2275 l 0 29  M 6197 2275 l 0 29 M 6435 2275 l 0 29 M 6644 2275 l 0 29 \"/>\n",
       "<text transform=\"translate(2701,429) scale(1,-1)\"><tspan class=\"fn\" style=\"font-size: 753.1%;\">1</tspan></text>\n",
       "<text transform=\"translate(1413,429) scale(1,-1)\"><tspan class=\"fn\" style=\"font-size: 753.1%;\">0.5</tspan></text>\n",
       "<text transform=\"translate(3933,429) scale(1,-1)\"><tspan class=\"fn\" style=\"font-size: 753.1%;\">2</tspan></text>\n",
       "<text transform=\"translate(5561,429) scale(1,-1)\"><tspan class=\"fn\" style=\"font-size: 753.1%;\">5</tspan></text>\n",
       "\n",
       "<path fill=\"none\" d=\"M 742 646 l 56 0 M 742 812 l 28 0 M 742 978 l 28 0 M 742 1144 l 28 0 M 742 1310 l 28 0 M 742 1476 l 56 0  M 742 1642 l 28 0 M 742 1808 l 28 0 M 742 1974 l 28 0 M 742 2141 l 28 0 M 6621 646 l 56 0 M 6649 812 l 28 0  M 6649 978 l 28 0 M 6649 1144 l 28 0 M 6649 1310 l 28 0 M 6621 1476 l 56 0 M 6649 1642 l 28 0 M 6649 1808 l 28 0  M 6649 1974 l 28 0 M 6649 2141 l 28 0 \"/>\n",
       "<text transform=\"translate(580,608) scale(1,-1)\"><tspan class=\"fn\" style=\"font-size: 753.1%;\">0</tspan></text>\n",
       "<text transform=\"translate(240,1439) scale(1,-1)\"><tspan class=\"fn\" style=\"font-size: 753.1%;\">5×10<tspan style=\"font-size: 60%;\" dy=\"-0.6em\">−3<tspan style=\"font-size: 166.667%;\" dy=\"+0.36em\"/></tspan></tspan></text>\n",
       "</g>\n",
       "<g style=\"color: rgb(0, 0, 0); fill: currentColor; stroke: currentColor; stroke-width: 4\">\n",
       "<use xlink:href=\"#M1\" transform=\"translate(1450, 770) scale(4.430)\"/>\n",
       "\n",
       "<path fill=\"none\" d=\"M 742 770 l 1213 0 M 1450 676 l 0 189 \"/>\n",
       "<use xlink:href=\"#M1\" transform=\"translate(2334, 781) scale(4.430)\"/>\n",
       "\n",
       "<path fill=\"none\" d=\"M 1955 781 l 691 0 M 2334 685 l 0 192 \"/>\n",
       "<use xlink:href=\"#M1\" transform=\"translate(2708, 2262) scale(4.430)\"/>\n",
       "\n",
       "<path fill=\"none\" d=\"M 2646 2262 l 123 0 M 2708 1833 l 0 471 \"/>\n",
       "<use xlink:href=\"#M1\" transform=\"translate(3003, 835) scale(4.430)\"/>\n",
       "\n",
       "<path fill=\"none\" d=\"M 2769 835 l 441 0 M 3003 732 l 0 205 \"/>\n",
       "<use xlink:href=\"#M1\" transform=\"translate(3411, 825) scale(4.430)\"/>\n",
       "\n",
       "<path fill=\"none\" d=\"M 3210 825 l 382 0 M 3411 731 l 0 188 \"/>\n",
       "<use xlink:href=\"#M1\" transform=\"translate(3733, 952) scale(4.430)\"/>\n",
       "\n",
       "<path fill=\"none\" d=\"M 3592 952 l 271 0 M 3733 839 l 0 225 \"/>\n",
       "<use xlink:href=\"#M1\" transform=\"translate(4187, 632) scale(4.430)\"/>\n",
       "\n",
       "<path fill=\"none\" d=\"M 3863 632 l 598 0 M 4187 593 l 0 79 \"/>\n",
       "<use xlink:href=\"#M1\" transform=\"translate(4709, 665) scale(4.430)\"/>\n",
       "\n",
       "<path fill=\"none\" d=\"M 4461 665 l 466 0 M 4709 627 l 0 76 \"/>\n",
       "<use xlink:href=\"#M1\" transform=\"translate(5144, 665) scale(4.430)\"/>\n",
       "\n",
       "<path fill=\"none\" d=\"M 4927 665 l 411 0 M 5144 632 l 0 66 \"/>\n",
       "<use xlink:href=\"#M1\" transform=\"translate(5604, 627) scale(4.430)\"/>\n",
       "\n",
       "<path fill=\"none\" d=\"M 5338 627 l 497 0 M 5604 605 l 0 43 \"/>\n",
       "<use xlink:href=\"#M1\" transform=\"translate(6123, 617) scale(4.430)\"/>\n",
       "\n",
       "<path fill=\"none\" d=\"M 5835 617 l 536 0 M 6123 602 l 0 30 \"/>\n",
       "<use xlink:href=\"#M1\" transform=\"translate(6531, 643) scale(4.430)\"/>\n",
       "\n",
       "<path fill=\"none\" d=\"M 6371 643 l 306 0 M 6531 623 l 0 41 \"/>\n",
       "</g>\n",
       "<g style=\"color: rgb(0, 0, 0); fill: currentColor; stroke: currentColor; stroke-width: 8\">\n",
       "<text transform=\"translate(111,962) scale(1,-1) rotate(-90)\"><tspan class=\"fn\" style=\"font-size: 753.1%;\">counts s<tspan style=\"font-size: 60%;\" dy=\"-0.6em\">−1<tspan style=\"font-size: 166.667%;\" dy=\"+0.36em\"> keV<tspan style=\"font-size: 60%;\" dy=\"-0.6em\">−1<tspan style=\"font-size: 166.667%;\" dy=\"+0.36em\"/></tspan></tspan></tspan></tspan></text>\n",
       "<text transform=\"translate(3323,269) scale(1,-1)\"><tspan class=\"fn\" style=\"font-size: 753.1%;\">Energy (keV)</tspan></text>\n",
       "</g>\n",
       "<g style=\"color: rgb(0, 255, 0); fill: currentColor; stroke: currentColor; stroke-width: 8\">\n",
       "\n",
       "<path fill=\"none\" d=\"M 742 646 l 5935 0 \"/>\n",
       "</g>\n",
       "<g style=\"color: rgb(0, 0, 0); fill: currentColor; stroke: currentColor; stroke-width: 4\">\n",
       "<text transform=\"translate(6246,46) scale(1,-1)\"><tspan class=\"fn\" style=\"font-size: 531.6%;\">rwebbe  3−Sep−2025 09:55</tspan></text>\n",
       "</g>\n",
       "<!-- _PGPLOT_SVG_ATEND: viewbox=\"           -8.104365            27.140120          7607.921387          5564.965820\" -->\n",
       "</svg>"
      ],
      "text/plain": [
       "<IPython.core.display.SVG object>"
      ]
     },
     "metadata": {},
     "output_type": "display_data"
    }
   ],
   "source": [
    "spec.ignore(\"**-0.2 12.0-**\")\n",
    "mo = Model(\"tbabs*bbody\")\n",
    "Fit.perform()\n",
    "Plot(\"data resid\")"
   ]
  },
  {
   "cell_type": "code",
   "execution_count": 5,
   "metadata": {},
   "outputs": [
    {
     "name": "stdout",
     "output_type": "stream",
     "text": [
      "Cannot do error calc: Reduced Chi^2 (= 4.1816) > maximum (2)\n"
     ]
    },
    {
     "ename": "Exception",
     "evalue": "Error executing command: error",
     "output_type": "error",
     "traceback": [
      "\u001b[0;31m---------------------------------------------------------------------------\u001b[0m",
      "\u001b[0;31mException\u001b[0m                                 Traceback (most recent call last)",
      "\u001b[0;32m<ipython-input-5-21d339ad0c88>\u001b[0m in \u001b[0;36m<module>\u001b[0;34m\u001b[0m\n\u001b[0;32m----> 1\u001b[0;31m \u001b[0mFit\u001b[0m\u001b[0;34m.\u001b[0m\u001b[0merror\u001b[0m\u001b[0;34m(\u001b[0m\u001b[0;34m\"1\"\u001b[0m\u001b[0;34m)\u001b[0m\u001b[0;34m\u001b[0m\u001b[0;34m\u001b[0m\u001b[0m\n\u001b[0m\u001b[1;32m      2\u001b[0m \u001b[0mFit\u001b[0m\u001b[0;34m.\u001b[0m\u001b[0merror\u001b[0m\u001b[0;34m(\u001b[0m\u001b[0;34m\"2\"\u001b[0m\u001b[0;34m)\u001b[0m\u001b[0;34m\u001b[0m\u001b[0;34m\u001b[0m\u001b[0m\n\u001b[1;32m      3\u001b[0m \u001b[0;34m\u001b[0m\u001b[0m\n\u001b[1;32m      4\u001b[0m \u001b[0mout_arr\u001b[0m\u001b[0;34m[\u001b[0m\u001b[0;36m0\u001b[0m\u001b[0;34m,\u001b[0m\u001b[0;36m0\u001b[0m\u001b[0;34m]\u001b[0m \u001b[0;34m=\u001b[0m \u001b[0;34m'bbody'\u001b[0m\u001b[0;34m\u001b[0m\u001b[0;34m\u001b[0m\u001b[0m\n\u001b[1;32m      5\u001b[0m \u001b[0mout_arr\u001b[0m\u001b[0;34m[\u001b[0m\u001b[0;36m0\u001b[0m\u001b[0;34m,\u001b[0m\u001b[0;36m1\u001b[0m\u001b[0;34m:\u001b[0m\u001b[0;36m4\u001b[0m\u001b[0;34m]\u001b[0m \u001b[0;34m=\u001b[0m \u001b[0mmo\u001b[0m\u001b[0;34m.\u001b[0m\u001b[0mTBabs\u001b[0m\u001b[0;34m.\u001b[0m\u001b[0mnH\u001b[0m\u001b[0;34m.\u001b[0m\u001b[0mvalues\u001b[0m\u001b[0;34m[\u001b[0m\u001b[0;36m0\u001b[0m\u001b[0;34m]\u001b[0m\u001b[0;34m,\u001b[0m \u001b[0mmo\u001b[0m\u001b[0;34m.\u001b[0m\u001b[0mTBabs\u001b[0m\u001b[0;34m.\u001b[0m\u001b[0mnH\u001b[0m\u001b[0;34m.\u001b[0m\u001b[0mvalues\u001b[0m\u001b[0;34m[\u001b[0m\u001b[0;36m0\u001b[0m\u001b[0;34m]\u001b[0m \u001b[0;34m-\u001b[0m \u001b[0mmo\u001b[0m\u001b[0;34m.\u001b[0m\u001b[0mTBabs\u001b[0m\u001b[0;34m.\u001b[0m\u001b[0mnH\u001b[0m\u001b[0;34m.\u001b[0m\u001b[0merror\u001b[0m\u001b[0;34m[\u001b[0m\u001b[0;36m0\u001b[0m\u001b[0;34m]\u001b[0m\u001b[0;34m,\u001b[0m \u001b[0mmo\u001b[0m\u001b[0;34m.\u001b[0m\u001b[0mTBabs\u001b[0m\u001b[0;34m.\u001b[0m\u001b[0mnH\u001b[0m\u001b[0;34m.\u001b[0m\u001b[0merror\u001b[0m\u001b[0;34m[\u001b[0m\u001b[0;36m1\u001b[0m\u001b[0;34m]\u001b[0m \u001b[0;34m-\u001b[0m \u001b[0mmo\u001b[0m\u001b[0;34m.\u001b[0m\u001b[0mTBabs\u001b[0m\u001b[0;34m.\u001b[0m\u001b[0mnH\u001b[0m\u001b[0;34m.\u001b[0m\u001b[0mvalues\u001b[0m\u001b[0;34m[\u001b[0m\u001b[0;36m0\u001b[0m\u001b[0;34m]\u001b[0m\u001b[0;34m\u001b[0m\u001b[0;34m\u001b[0m\u001b[0m\n",
      "\u001b[0;32m~/astro_soft/heasoft-6.32.1/x86_64-pc-linux-gnu-libc2.31/lib/python/xspec/fit.py\u001b[0m in \u001b[0;36merror\u001b[0;34m(self, argString, respPar)\u001b[0m\n\u001b[1;32m    423\u001b[0m             \u001b[0merrorArgs\u001b[0m \u001b[0;34m=\u001b[0m \u001b[0;34m[\u001b[0m\u001b[0;34m\"error\"\u001b[0m\u001b[0;34m]\u001b[0m\u001b[0;34m\u001b[0m\u001b[0;34m\u001b[0m\u001b[0m\n\u001b[1;32m    424\u001b[0m         \u001b[0merrorArgs\u001b[0m \u001b[0;34m+=\u001b[0m \u001b[0margString\u001b[0m\u001b[0;34m.\u001b[0m\u001b[0msplit\u001b[0m\u001b[0;34m(\u001b[0m\u001b[0;34m)\u001b[0m\u001b[0;34m\u001b[0m\u001b[0;34m\u001b[0m\u001b[0m\n\u001b[0;32m--> 425\u001b[0;31m         \u001b[0m_pyXspec\u001b[0m\u001b[0;34m.\u001b[0m\u001b[0mdoXspecCmd\u001b[0m\u001b[0;34m(\u001b[0m\u001b[0merrorArgs\u001b[0m\u001b[0;34m)\u001b[0m\u001b[0;34m\u001b[0m\u001b[0;34m\u001b[0m\u001b[0m\n\u001b[0m\u001b[1;32m    426\u001b[0m \u001b[0;34m\u001b[0m\u001b[0m\n\u001b[1;32m    427\u001b[0m     \u001b[0;32mdef\u001b[0m \u001b[0mftest\u001b[0m\u001b[0;34m(\u001b[0m\u001b[0mself\u001b[0m\u001b[0;34m,\u001b[0m \u001b[0mchisq2\u001b[0m\u001b[0;34m,\u001b[0m \u001b[0mdof2\u001b[0m\u001b[0;34m,\u001b[0m \u001b[0mchisq1\u001b[0m\u001b[0;34m,\u001b[0m \u001b[0mdof1\u001b[0m\u001b[0;34m)\u001b[0m\u001b[0;34m:\u001b[0m\u001b[0;34m\u001b[0m\u001b[0;34m\u001b[0m\u001b[0m\n",
      "\u001b[0;31mException\u001b[0m: Error executing command: error"
     ]
    }
   ],
   "source": [
    "Fit.error(\"1\")\n",
    "Fit.error(\"2\")\n",
    "\n",
    "out_arr[0,0] = 'bbody'\n",
    "out_arr[0,1:4] = mo.TBabs.nH.values[0], mo.TBabs.nH.values[0] - mo.TBabs.nH.error[0], mo.TBabs.nH.error[1] - mo.TBabs.nH.values[0]\n",
    "out_arr[0,4:7] = mo.bbody.kT.values[0], mo.bbody.kT.values[0] - mo.bbody.kT.error[0], mo.bbody.kT.error[1] - mo.bbody.kT.values[0]\n",
    "out_arr[0,-2:] = Fit.dof, Fit.statistic / Fit.dof\n"
   ]
  },
  {
   "cell_type": "code",
   "execution_count": null,
   "metadata": {
    "scrolled": false
   },
   "outputs": [],
   "source": [
    "AllModels.clear()\n",
    "mo = Model(\"tbabs*powerlaw\")\n",
    "Fit.perform()\n",
    "Plot(\"data resid\")"
   ]
  },
  {
   "cell_type": "code",
   "execution_count": null,
   "metadata": {},
   "outputs": [],
   "source": [
    "Fit.error(\"1\")\n",
    "Fit.error(\"2\")\n",
    "\n",
    "out_arr[1,0] = 'powerlaw'\n",
    "out_arr[1,1:4] = mo.TBabs.nH.values[0], mo.TBabs.nH.values[0] - mo.TBabs.nH.error[0], mo.TBabs.nH.error[1] - mo.TBabs.nH.values[0]\n",
    "out_arr[1,14:17] = mo.powerlaw.PhoIndex.values[0], mo.powerlaw.PhoIndex.values[0] - mo.powerlaw.PhoIndex.error[0], mo.powerlaw.PhoIndex.error[1] - mo.powerlaw.PhoIndex.values[0]\n",
    "out_arr[1,-2:] = Fit.dof, Fit.statistic / Fit.dof\n"
   ]
  },
  {
   "cell_type": "code",
   "execution_count": null,
   "metadata": {
    "scrolled": false
   },
   "outputs": [],
   "source": [
    "AllModels.clear()\n",
    "mo = Model(\"tbabs*bremss\")\n",
    "Fit.perform()\n",
    "Plot(\"data resid\")"
   ]
  },
  {
   "cell_type": "code",
   "execution_count": null,
   "metadata": {},
   "outputs": [],
   "source": [
    "Fit.error(\"1\")\n",
    "Fit.error(\"2\")\n",
    "\n",
    "out_arr[3,0] = 'bremss'\n",
    "out_arr[3,1:4] = mo.TBabs.nH.values[0], mo.TBabs.nH.values[0] - mo.TBabs.nH.error[0], mo.TBabs.nH.error[1] - mo.TBabs.nH.values[0]\n",
    "out_arr[3,4:7] = mo.bremss.kT.values[0], mo.bremss.kT.values[0] - mo.bremss.kT.error[0], mo.bremss.kT.error[1] - mo.bremss.kT.values[0]\n",
    "out_arr[3,-2:] = Fit.dof, Fit.statistic / Fit.dof\n"
   ]
  },
  {
   "cell_type": "code",
   "execution_count": null,
   "metadata": {
    "scrolled": false
   },
   "outputs": [],
   "source": [
    "AllModels.clear()\n",
    "mo = Model(\"tbabs*apec\")\n",
    "Fit.perform()\n",
    "Plot(\"data resid\")"
   ]
  },
  {
   "cell_type": "code",
   "execution_count": null,
   "metadata": {},
   "outputs": [],
   "source": [
    "Fit.error(\"1\")\n",
    "Fit.error(\"2\")\n",
    "\n",
    "out_arr[2,0] = 'apec'\n",
    "out_arr[2,1:4] = mo.TBabs.nH.values[0], mo.TBabs.nH.values[0] - mo.TBabs.nH.error[0], mo.TBabs.nH.error[1] - mo.TBabs.nH.values[0]\n",
    "out_arr[2,13] = mo.apec.Abundanc.values[0]\n",
    "out_arr[2,4:7] = mo.apec.kT.values[0], mo.apec.kT.values[0] - mo.apec.kT.error[0], mo.apec.kT.error[1] - mo.apec.kT.values[0]\n",
    "out_arr[2,-2:] = Fit.dof, Fit.statistic / Fit.dof\n"
   ]
  },
  {
   "cell_type": "code",
   "execution_count": null,
   "metadata": {},
   "outputs": [],
   "source": [
    "np.savetxt('../spec30_output.csv',out_arr,fmt=['%s','%.2f','%.2f','%.2f','%.2f','%.2f','%.2f','%.2f','%.2f','%.2f','%.2f','%.2f','%.2f','%.1f','%.2f','%.2f','%.2f','%i','%.2f'],delimiter=',')\n"
   ]
  },
  {
   "cell_type": "code",
   "execution_count": null,
   "metadata": {},
   "outputs": [],
   "source": [
    "AllModels.calcFlux(\".2 12.0\")"
   ]
  },
  {
   "cell_type": "code",
   "execution_count": null,
   "metadata": {},
   "outputs": [],
   "source": [
    "plx = 0.6261\n",
    "d_kpc = 1/plx\n",
    "F_x = 6.3097*10**-15\n",
    "\n",
    "L_x = 4*3.14*F_x*(d_kpc*3.086*10**21)**2\n",
    "print(L_x)"
   ]
  },
  {
   "cell_type": "code",
   "execution_count": null,
   "metadata": {},
   "outputs": [],
   "source": [
    "import numpy as np\n",
    "print(d_kpc)\n",
    "print(np.log10(L_x))"
   ]
  },
  {
   "cell_type": "code",
   "execution_count": null,
   "metadata": {},
   "outputs": [],
   "source": [
    "F_opt = 1.05*10**-5 * 10**(-0.4*15.23)\n",
    "print('Optical Flux: ',F_opt)\n",
    "print('F_x / F_opt: ', np.log10(F_x/F_opt))"
   ]
  },
  {
   "cell_type": "code",
   "execution_count": null,
   "metadata": {
    "scrolled": false
   },
   "outputs": [],
   "source": [
    "AllModels.clear()\n",
    "mo = Model(\"tbabs*(apec+apec)\")\n",
    "mo.apec.kT = 0.5\n",
    "mo.apec_3.kT = 4.0\n",
    "Fit.perform()\n",
    "Plot(\"data resid\")"
   ]
  }
 ],
 "metadata": {
  "kernelspec": {
   "display_name": "Python 3 (ipykernel)",
   "language": "python",
   "name": "python3"
  },
  "language_info": {
   "codemirror_mode": {
    "name": "ipython",
    "version": 3
   },
   "file_extension": ".py",
   "mimetype": "text/x-python",
   "name": "python",
   "nbconvert_exporter": "python",
   "pygments_lexer": "ipython3",
   "version": "3.8.10"
  }
 },
 "nbformat": 4,
 "nbformat_minor": 4
}
