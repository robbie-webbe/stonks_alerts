{
 "cells": [
  {
   "cell_type": "code",
   "execution_count": 1,
   "metadata": {},
   "outputs": [
    {
     "name": "stderr",
     "output_type": "stream",
     "text": [
      "Holoviews not imported. Some visualizations will not be available.\n",
      "PyMultiNest not imported.  MultiNest fits will not work.\n",
      "/home/rwebbe/.local/lib/python3.8/site-packages/astroARIADNE/fitter.py:43: UserWarning: (py)MultiNest installation (or libmultinest.dylib) not detected.\n",
      "  warnings.warn(\n"
     ]
    }
   ],
   "source": [
    "from astroARIADNE.star import Star\n",
    "from astroARIADNE.fitter import Fitter\n",
    "from dustmaps.config import config\n",
    "config['data_dir'] = '/home/rwebbe/data/dustmaps'"
   ]
  },
  {
   "cell_type": "code",
   "execution_count": 2,
   "metadata": {
    "scrolled": true
   },
   "outputs": [
    {
     "name": "stdout",
     "output_type": "stream",
     "text": [
      "\n",
      "\t\t#####################################\n",
      "\t\t##             ARIADNE             ##\n",
      "\t\t#####################################\n",
      "   spectrAl eneRgy dIstribution bAyesian moDel averagiNg fittEr\n",
      "\n",
      "\t\t\tAuthor : Jose Vines\n",
      "\t\t\tContact : jose . vines at ug . uchile . cl\n",
      "\t\t\tStar : 5974320678635826176\n",
      "\t\t*** LOOKING UP ARCHIVAL INFORMATION ***\n",
      "INFO: Query finished. [astroquery.utils.tap.core]\n",
      "INFO: Query finished. [astroquery.utils.tap.core]\n",
      "Star not found in catalog TYCHO2.\n",
      "INFO: Query finished. [astroquery.utils.tap.core]\n",
      "Star not found in catalog Pan-STARRS.\n",
      "INFO: Query finished. [astroquery.utils.tap.core]\n",
      "Star not found in catalog SDSS.\n",
      "INFO: Query finished. [astroquery.utils.tap.core]\n",
      "INFO: Query finished. [astroquery.utils.tap.core]\n",
      "INFO: Query finished. [astroquery.utils.tap.core]\n",
      "Star not found in catalog APASS.\n",
      "Looking online for archival magnitudes for star 5974320678635826176\n",
      "Checking catalog All-WISE\n",
      "Warning!: CatalogWarning\n",
      "Warning message: Catalog WISE entry is either an extended source, is of bad quality or is contaminated. Skipping.\n",
      "Checking catalog Gaia DR3\n",
      "Checking catalog 2MASS\n",
      "Checking catalog GLIMPSE\n",
      "Warning!: CatalogWarning\n",
      "Warning message: Star is not available in catalog GALEX. Skipping\n",
      "Checking catalog TICv8\n",
      "Checking catalog SkyMapper DR1.1\n",
      "Warning!: CatalogWarning\n",
      "Warning message: uPSF magnitude not found! Skipping.\n",
      "Warning!: CatalogWarning\n",
      "Warning message: vPSF magnitude not found! Skipping.\n",
      "Warning!: CatalogWarning\n",
      "Warning message: iPSF magnitude not found! Skipping.\n",
      "Warning!: CatalogWarning\n",
      "Warning message: zPSF magnitude not found! Skipping.\n",
      "Warning!: CatalogWarning\n",
      "Warning message: Star is not available in catalog STROMGREN_PAUNZ. Skipping\n",
      "Warning!: CatalogWarning\n",
      "Warning message: Star is not available in catalog STROMGREN_HAUCK. Skipping\n",
      "Warning!: CatalogWarning\n",
      "Warning message: Star is not available in catalog MERMILLIOD. Skipping\n",
      "\t\t\tGaia DR3 ID : 5974320678635826176\n",
      "\t\t\tTIC : 200100558\n",
      "\t\t\tGaia Effective temperature : 3780.962 +/- 361.083\n",
      "\t\t\tGaia Stellar radius : 3.282 +/- 2.737\n",
      "\t\t\tGaia Stellar Luminosity : 1.984 +/- 0.290\n",
      "\t\t\tGaia Parallax : 0.679 +/- 0.036\n",
      "\t\t\tBailer-Jones distance : 1487.994 +/- 90.017\n",
      "\t\t\tMaximum Av : 19.117\n",
      "\n",
      "\t\t       Filter       \tMagnitude\tUncertainty\n",
      "\t\t--------------------\t---------\t-----------\n",
      "\t\t    SkyMapper_g     \t 16.4330 \t  0.0250   \n",
      "\t\t    GaiaDR2v2_BP    \t 16.2913 \t  0.0053   \n",
      "\t\t    SkyMapper_r     \t 15.3060 \t  0.0270   \n",
      "\t\t    GaiaDR2v2_G     \t 15.2323 \t  0.0030   \n",
      "\t\t    GaiaDR2v2_RP    \t 14.2146 \t  0.0048   \n",
      "\t\t        TESS        \t 14.1865 \t  0.0422   \n",
      "\t\t      2MASS_J       \t 12.5780 \t  0.0220   \n",
      "\t\t      2MASS_H       \t 11.8590 \t  0.0240   \n",
      "\t\t      2MASS_Ks      \t 11.6020 \t  0.0240   \n",
      "\t\t  SPITZER_IRAC_36   \t 11.3190 \t  0.0370   \n",
      "\t\t  SPITZER_IRAC_45   \t 11.3100 \t  0.0550   \n",
      "\n"
     ]
    }
   ],
   "source": [
    "gaia_id = 5974320678635826176\n",
    "ra = 260.906310\n",
    "dec = -37.5783870\n",
    "starname = str(gaia_id)\n",
    "s = Star(starname, ra, dec, g_id = gaia_id, dustmap='Planck16')"
   ]
  },
  {
   "cell_type": "code",
   "execution_count": 3,
   "metadata": {},
   "outputs": [
    {
     "name": "stdout",
     "output_type": "stream",
     "text": [
      "Created the directory ariadnefit\n",
      "\n",
      "\t\t*** EXECUTING MAIN FITTING ROUTINE ***\n",
      "\t\t\tSelected engine : Bayesian Model Averaging\n",
      "\t\t\tLive points : 500\n",
      "\t\t\tlog Evidence tolerance : 0.5\n",
      "\t\t\tFree parameters : 17\n",
      "\t\t\tBounding : multi\n",
      "\t\t\tSampling : rwalk\n",
      "\t\t\tN threads : 4\n",
      "\n"
     ]
    }
   ],
   "source": [
    "out_folder = 'ariadnefit'\n",
    "\n",
    "engine = 'dynesty'\n",
    "nlive = 500\n",
    "dlogz = 0.5\n",
    "bound = 'multi'\n",
    "sample = 'rwalk'\n",
    "threads = 4\n",
    "dynamic = False\n",
    "setup = [engine, nlive, dlogz, bound, sample, threads, dynamic]\n",
    "\n",
    "models = ['phoenix','btsettl','btnextgen','btcond','kurucz','ck04']\n",
    "f = Fitter()\n",
    "f.star = s\n",
    "f.setup = setup\n",
    "f.av_law = 'fitzpatrick'\n",
    "f.out_folder = out_folder\n",
    "f.bma = True\n",
    "f.models = models\n",
    "f.n_samples = 100000\n",
    "\n",
    "f.prior_setup = {'teff': ('default'),'logg': ('default'),'z': ('default'),'dist': ('default'),'rad': ('default'),'Av': ('default')}\n",
    "f.initialize()\n"
   ]
  },
  {
   "cell_type": "code",
   "execution_count": 4,
   "metadata": {},
   "outputs": [
    {
     "name": "stdout",
     "output_type": "stream",
     "text": [
      "\t\t\tFITTING MODEL : phoenix\n"
     ]
    },
    {
     "name": "stderr",
     "output_type": "stream",
     "text": [
      "9333it [12:55, 12.03it/s, +500 | bound: 102 | nc: 1 | ncall: 206582 | eff(%):  4.771 | loglstar:   -inf < 293.468 <    inf | logz: 275.357 +/-  0.189 | dlogz:  0.001 >  0.500] \n"
     ]
    },
    {
     "name": "stdout",
     "output_type": "stream",
     "text": [
      "\t\t\tFITTING MODEL : btsettl\n"
     ]
    },
    {
     "name": "stderr",
     "output_type": "stream",
     "text": [
      "8936it [14:11, 10.50it/s, +500 | bound: 97 | nc: 1 | ncall: 198453 | eff(%):  4.767 | loglstar:   -inf < 291.584 <    inf | logz: 274.241 +/-    nan | dlogz:  0.001 >  0.500]  \n"
     ]
    },
    {
     "name": "stdout",
     "output_type": "stream",
     "text": [
      "\t\t\tFITTING MODEL : btnextgen\n"
     ]
    },
    {
     "name": "stderr",
     "output_type": "stream",
     "text": [
      "9753it [16:48,  9.67it/s, +500 | bound: 110 | nc: 1 | ncall: 218366 | eff(%):  4.706 | loglstar:   -inf < 293.961 <    inf | logz: 274.950 +/-    nan | dlogz:  0.001 >  0.500] \n"
     ]
    },
    {
     "name": "stdout",
     "output_type": "stream",
     "text": [
      "\t\t\tFITTING MODEL : btcond\n"
     ]
    },
    {
     "name": "stderr",
     "output_type": "stream",
     "text": [
      "9512it [11:35, 13.68it/s, +500 | bound: 104 | nc: 1 | ncall: 211396 | eff(%):  4.747 | loglstar:   -inf < 292.569 <    inf | logz: 274.035 +/-    nan | dlogz:  0.001 >  0.500] \n"
     ]
    },
    {
     "name": "stdout",
     "output_type": "stream",
     "text": [
      "\t\t*** AVERAGING POSTERIOR SAMPLES ***\n"
     ]
    },
    {
     "name": "stderr",
     "output_type": "stream",
     "text": [
      "100%|██████████| 21/21 [00:02<00:00,  9.68it/s]\n"
     ]
    },
    {
     "name": "stdout",
     "output_type": "stream",
     "text": [
      "\t\t*** ESTIMATING AGE AND MASS USING MIST ISOCHRONES ***\n"
     ]
    },
    {
     "name": "stderr",
     "output_type": "stream",
     "text": [
      "15852it [03:07, 84.75it/s, +500 | bound: 195 | nc: 1 | ncall: 472070 | eff(%):  3.468 | loglstar:   -inf < -13.930 <    inf | logz: -41.165 +/-  9.710 | dlogz:  0.000 >  0.010]\n"
     ]
    },
    {
     "name": "stdout",
     "output_type": "stream",
     "text": [
      "\n",
      "\t\t\tFitting finished.\n",
      "\t\t\tBest fit parameters are:\n",
      "\t\t\tteff : 4235.2872 + 248.0933 - 253.7317 [3789.8470, 5475.7534]\n",
      "\t\t\tlogg : 4.1165 + 0.4091 - 0.3900 [3.5284, 5.4399]\n",
      "\t\t\t[Fe/H] : -0.2709 + 0.1677 - 0.1712 [-0.7914, 0.2530]\n",
      "\t\t\tdist : 1712.3055 + 142.8248 - 111.3193 [1506.4698, 2132.3785]\n",
      "\t\t\trad : 4.7451 + 0.5315 - 0.3697 [3.7669, 6.0700]\n",
      "\t\t\tAv : 1.3276 + 0.3659 - 0.3659 [0.5670, 2.7123]\n",
      "\t\t\tAngular Diameter : 0.0259 + 0.0031 - 0.0030 [0.0181, 0.0338]\n",
      "\t\t\tGrav mass : 8.3332 + 13.6603 - 4.5534 [2.2619, 138.8648]\n",
      "\t\t\tLuminosity : 6.4214 + 2.3942 - 1.5562 [3.3688, 18.3923]\n",
      "\t\t\tIso mass : 0.9883 + 0.2373 - 0.1072 [0.7280, 2.0831]\n",
      "\t\t\tAge (Gyr) : 12.1357 + 1.3083 - 7.9851 [0.0001, 13.4891]\n",
      "\t\t\tEEP : 479.6450 + 7.3230 - 8.7875 [76.8827, 503.0784]\n",
      "\t\t\tExcess g noise : 0.1021 + 0.0893 - 0.0580 [0.0066, 0.4749]\n",
      "\t\t\tExcess BP noise : 0.0632 + 0.0288 - 0.0265 [0.0056, 0.1440]\n",
      "\t\t\tExcess r noise : 0.1532 + 0.1307 - 0.0891 [0.0146, 0.6068]\n",
      "\t\t\tExcess G noise : 0.0199 + 0.0131 - 0.0089 [0.0039, 0.0825]\n",
      "\t\t\tExcess RP noise : 0.0505 + 0.0255 - 0.0204 [0.0088, 0.1355]\n",
      "\t\t\tExcess TESS noise : 0.1698 + 0.2181 - 0.1163 [0.0041, 0.8706]\n",
      "\t\t\tExcess J noise : 0.1716 + 0.0945 - 0.0693 [0.0315, 0.5024]\n",
      "\t\t\tExcess H noise : 0.1131 + 0.1018 - 0.0575 [0.0113, 0.5024]\n",
      "\t\t\tExcess Ks noise : 0.1204 + 0.0888 - 0.0577 [0.0139, 0.4562]\n",
      "\t\t\tExcess IRAC 36 noise : 0.3055 + 0.2007 - 0.1210 [0.0746, 0.8966]\n",
      "\t\t\tExcess IRAC 45 noise : 0.3674 + 0.1895 - 0.1507 [0.0703, 1.3579]\n",
      "\t\t\tMamajek Spectral Type : K6V\n",
      "\t\t\tphoenix probability : 0.4427\n",
      "\t\t\tbtsettl probability : 0.1449\n",
      "\t\t\tbtnextgen probability : 0.2944\n",
      "\t\t\tbtcond probability : 0.1180\n",
      "\t\t\tElapsed time : 1 hours, 0 minutes and 7.66 seconds\n"
     ]
    }
   ],
   "source": [
    "f.fit_bma()"
   ]
  },
  {
   "cell_type": "code",
   "execution_count": 1,
   "metadata": {},
   "outputs": [
    {
     "name": "stdout",
     "output_type": "stream",
     "text": [
      "L_X / L_Bol:  7.397140810415175e-05 -4.130936114081078\n"
     ]
    }
   ],
   "source": [
    "import numpy as np\n",
    "\n",
    "Lbol_sun = 4 * 10**33\n",
    "L_bol = Lbol_sun * 6.4214\n",
    "L_x = 1.9*10**30\n",
    "\n",
    "print(\"L_X / L_Bol: \",L_x/L_bol,np.log10(L_x/L_bol))"
   ]
  }
 ],
 "metadata": {
  "kernelspec": {
   "display_name": "Python 3 (ipykernel)",
   "language": "python",
   "name": "python3"
  },
  "language_info": {
   "codemirror_mode": {
    "name": "ipython",
    "version": 3
   },
   "file_extension": ".py",
   "mimetype": "text/x-python",
   "name": "python",
   "nbconvert_exporter": "python",
   "pygments_lexer": "ipython3",
   "version": "3.8.10"
  }
 },
 "nbformat": 4,
 "nbformat_minor": 4
}
