{
 "cells": [
  {
   "cell_type": "code",
   "execution_count": 1,
   "metadata": {},
   "outputs": [],
   "source": [
    "%load_ext wurlitzer\n",
    "import numpy as np\n",
    "import glob\n",
    "import os\n",
    "import matplotlib.pyplot as plt\n",
    "from astropy.io import fits\n",
    "from xspec import *\n",
    "plt.rcParams['figure.figsize'] = [9,6]\n",
    "\n",
    "Fit.statMethod = \"chi\"\n",
    "Fit.nIterations = 100000\n",
    "Fit.delta = 1e-4\n",
    "Fit.criticalDelta = 1e-4"
   ]
  },
  {
   "cell_type": "code",
   "execution_count": 2,
   "metadata": {},
   "outputs": [],
   "source": [
    "import numpy as np\n",
    "out_arr = np.full((4,19),-np.inf,dtype=object)"
   ]
  },
  {
   "cell_type": "code",
   "execution_count": 3,
   "metadata": {},
   "outputs": [
    {
     "name": "stdout",
     "output_type": "stream",
     "text": [
      "***Warning: Detected response matrix energy bin value = 0 (or neg).\n",
      "     XSPEC will instead use small finite value (response file will not be altered).\n",
      "\n",
      "1 spectrum  in use\n",
      " \n",
      "Spectral Data File: 0886090501_M2166grpspec.fits  Spectrum 1\n",
      "Net count rate (cts/s) for Spectrum:1  3.349e-03 +/- 6.529e-04 (65.7 % total)\n",
      " Assigned to Data Group 1 and Plot Group 1\n",
      "  Noticed Channels:  1-4\n",
      "  Telescope: XMM Instrument: EMOS2  Channel Type: PI\n",
      "  Exposure Time: 1.295e+04 sec\n",
      " Using fit statistic: chi\n",
      " Using Background File                0886090501_M2166spec_bkg.fits\n",
      "  Background Exposure Time: 1.295e+04 sec\n",
      " Using Response (RMF) File            0886090501_M2166spec.rmf for Source 1\n",
      " Using Auxiliary Response (ARF) File  0886090501_M2166spec.arf\n",
      "\n"
     ]
    }
   ],
   "source": [
    "spec_file = sorted(glob.glob(\"*grpspec.fits\"))\n",
    "spec = Spectrum(spec_file[0])\n",
    "\n",
    "#spec = Spectrum(glob.glob(\"*M2166spec.fits\")[0],backFile=glob.glob(\"*spec_bkg.fits\")[0],respFile=glob.glob(\"*.rmf\")[0],arfFile=glob.glob(\"*.arf\")[0])\n"
   ]
  },
  {
   "cell_type": "code",
   "execution_count": 4,
   "metadata": {},
   "outputs": [
    {
     "data": {
      "image/svg+xml": [
       "<svg xmlns=\"http://www.w3.org/2000/svg\" xmlns:xlink=\"http://www.w3.org/1999/xlink\" style=\"fill-rule: nonzero; stroke-linecap: round; stroke-linejoin: round; transform: scale(1,-1);\" version=\"1.1\" viewbox=\"          225.691238            27.140120          7357.857910          5618.850098\" width=\"100%\" height=\"100%\" preserveAspectRatio=\"xMidYMid\">\n",
       "<style>\n",
       "  .fn { font-family: Arial,Helvetica,sans-serif; }\n",
       "  .fN { font-family: Arial,Helvetica,sans-serif; font-weight: bold;}\n",
       "  .fr { font-family: Times,Times-Roman,Times New Roman,serif; }\n",
       "  .fR { font-family: Times,Times-Roman,Times New Roman,serif; font-weight: bold;}\n",
       "  .fi { font-family: Times,Times-Roman,Times New Roman,serif; font-style: italic;}\n",
       "  .fI { font-family: Times,Times-Roman,Times New Roman,serif; font-style: italic; font-weight: bold;}\n",
       "  .fs { font-family: Zapf-Chancery,Apple Chancery,URW Chancery L,cursive;}\n",
       "  .fS { font-family: Zapf-Chancery,Apple Chancery,URW Chancery L,cursive;font-weight:bold}\n",
       "  .fc { font-family: Arial Narrow,Helvetica Narrow,Arial,Helvetica,sans-serif;}\n",
       "  .fC { font-family: Arial Narrow,Helvetica Narrow,Arial,Helvetica,sans-serif; font-weight:bold;}\n",
       "</style>\n",
       "<g style=\"color: rgb(0, 0, 0); fill: currentColor; stroke: currentColor; stroke-width: 8\">\n",
       "\n",
       "<path fill=\"none\" d=\"M 742 576 l 5935 0 l 0 4607 l -5935 0 l 0 -4607 M 1529 576 l 0 33 M 2063 576 l 0 33 M 2441 576 l 0 33  M 2735 576 l 0 33 M 2975 576 l 0 33 M 3178 576 l 0 33 M 3354 576 l 0 33 M 3509 576 l 0 33 M 3647 576 l 0 66  M 4560 576 l 0 33 M 5094 576 l 0 33 M 5472 576 l 0 33 M 5766 576 l 0 33 M 6006 576 l 0 33 M 6209 576 l 0 33  M 6385 576 l 0 33 M 6540 576 l 0 33 M 1529 5150 l 0 33 M 2063 5150 l 0 33 M 2441 5150 l 0 33 M 2735 5150 l 0 33  M 2975 5150 l 0 33 M 3178 5150 l 0 33 M 3354 5150 l 0 33 M 3509 5150 l 0 33 M 3647 5117 l 0 66 M 4560 5150 l 0 33  M 5094 5150 l 0 33 M 5472 5150 l 0 33 M 5766 5150 l 0 33 M 6006 5150 l 0 33 M 6209 5150 l 0 33 M 6385 5150 l 0 33  M 6540 5150 l 0 33 \"/>\n",
       "<text transform=\"translate(3603,403) scale(1,-1)\"><tspan class=\"fn\" style=\"font-size: 886%;\">1</tspan></text>\n",
       "<text transform=\"translate(1417,403) scale(1,-1)\"><tspan class=\"fn\" style=\"font-size: 886%;\">0.2</tspan></text>\n",
       "<text transform=\"translate(2623,403) scale(1,-1)\"><tspan class=\"fn\" style=\"font-size: 886%;\">0.5</tspan></text>\n",
       "<text transform=\"translate(4515,403) scale(1,-1)\"><tspan class=\"fn\" style=\"font-size: 886%;\">2</tspan></text>\n",
       "<text transform=\"translate(5721,403) scale(1,-1)\"><tspan class=\"fn\" style=\"font-size: 886%;\">5</tspan></text>\n",
       "\n",
       "<path fill=\"none\" d=\"M 742 576 l 66 0 M 742 951 l 33 0 M 742 1170 l 33 0 M 742 1326 l 33 0 M 742 1446 l 33 0 M 742 1545 l 33 0  M 742 1629 l 33 0 M 742 1701 l 33 0 M 742 1764 l 33 0 M 742 1821 l 66 0 M 742 2196 l 33 0 M 742 2416 l 33 0  M 742 2571 l 33 0 M 742 2692 l 33 0 M 742 2791 l 33 0 M 742 2874 l 33 0 M 742 2946 l 33 0 M 742 3010 l 33 0  M 742 3067 l 66 0 M 742 3442 l 33 0 M 742 3661 l 33 0 M 742 3817 l 33 0 M 742 3938 l 33 0 M 742 4036 l 33 0  M 742 4120 l 33 0 M 742 4192 l 33 0 M 742 4256 l 33 0 M 742 4313 l 66 0 M 742 4687 l 33 0 M 742 4907 l 33 0  M 742 5062 l 33 0 M 6611 576 l 66 0 M 6644 951 l 33 0 M 6644 1170 l 33 0 M 6644 1326 l 33 0 M 6644 1446 l 33 0  M 6644 1545 l 33 0 M 6644 1629 l 33 0 M 6644 1701 l 33 0 M 6644 1764 l 33 0 M 6611 1821 l 66 0 M 6644 2196 l 33 0  M 6644 2416 l 33 0 M 6644 2571 l 33 0 M 6644 2692 l 33 0 M 6644 2791 l 33 0 M 6644 2874 l 33 0 M 6644 2946 l 33 0  M 6644 3010 l 33 0 M 6611 3067 l 66 0 M 6644 3442 l 33 0 M 6644 3661 l 33 0 M 6644 3817 l 33 0 M 6644 3938 l 33 0  M 6644 4036 l 33 0 M 6644 4120 l 33 0 M 6644 4192 l 33 0 M 6644 4256 l 33 0 M 6611 4313 l 66 0 M 6644 4687 l 33 0  M 6644 4907 l 33 0 M 6644 5062 l 33 0 \"/>\n",
       "<text transform=\"translate(641,432) scale(1,-1) rotate(-90)\"><tspan class=\"fn\" style=\"font-size: 886%;\">10<tspan style=\"font-size: 60%;\" dy=\"-0.6em\">−5<tspan style=\"font-size: 166.667%;\" dy=\"+0.36em\"/></tspan></tspan></text>\n",
       "<text transform=\"translate(641,1678) scale(1,-1) rotate(-90)\"><tspan class=\"fn\" style=\"font-size: 886%;\">10<tspan style=\"font-size: 60%;\" dy=\"-0.6em\">−4<tspan style=\"font-size: 166.667%;\" dy=\"+0.36em\"/></tspan></tspan></text>\n",
       "<text transform=\"translate(641,2923) scale(1,-1) rotate(-90)\"><tspan class=\"fn\" style=\"font-size: 886%;\">10<tspan style=\"font-size: 60%;\" dy=\"-0.6em\">−3<tspan style=\"font-size: 166.667%;\" dy=\"+0.36em\"/></tspan></tspan></text>\n",
       "<text transform=\"translate(641,4157) scale(1,-1) rotate(-90)\"><tspan class=\"fn\" style=\"font-size: 886%;\">0.01</tspan></text>\n",
       "</g>\n",
       "<g style=\"color: rgb(0, 0, 0); fill: currentColor; stroke: currentColor; stroke-width: 4\">\n",
       "<defs>\n",
       "<symbol id=\"M1\" overflow=\"visible\">\n",
       "<circle r=\"1\" fill=\"none\" stroke-width=\"1\"/>\n",
       "</symbol>\n",
       "</defs>\n",
       "<use xlink:href=\"#M1\" transform=\"translate(3320, 2470) scale(4.430)\"/>\n",
       "\n",
       "<path fill=\"none\" d=\"M 742 2470 l 3395 0 M 3320 1779 l 0 985 \"/>\n",
       "<use xlink:href=\"#M1\" transform=\"translate(4455, 3108) scale(4.430)\"/>\n",
       "\n",
       "<path fill=\"none\" d=\"M 4137 3108 l 575 0 M 4455 2867 l 0 407 \"/>\n",
       "<use xlink:href=\"#M1\" transform=\"translate(5000, 2944) scale(4.430)\"/>\n",
       "\n",
       "<path fill=\"none\" d=\"M 4712 2944 l 525 0 M 5000 2710 l 0 397 \"/>\n",
       "<use xlink:href=\"#M1\" transform=\"translate(6145, 2128) scale(4.430)\"/>\n",
       "\n",
       "<path fill=\"none\" d=\"M 5237 2128 l 1440 0 M 6145 1925 l 0 350 \"/>\n",
       "</g>\n",
       "<g style=\"color: rgb(0, 0, 0); fill: currentColor; stroke: currentColor; stroke-width: 8\">\n",
       "<text transform=\"translate(370,2317) scale(1,-1) rotate(-90)\"><tspan class=\"fn\" style=\"font-size: 886%;\">counts s<tspan style=\"font-size: 60%;\" dy=\"-0.6em\">−1<tspan style=\"font-size: 166.667%;\" dy=\"+0.36em\"> keV<tspan style=\"font-size: 60%;\" dy=\"-0.6em\">−1<tspan style=\"font-size: 166.667%;\" dy=\"+0.36em\"/></tspan></tspan></tspan></tspan></text>\n",
       "<text transform=\"translate(3255,215) scale(1,-1)\"><tspan class=\"fn\" style=\"font-size: 886%;\">Energy (keV)</tspan></text>\n",
       "<text transform=\"translate(3534,5442) scale(1,-1)\"><tspan class=\"fn\" style=\"font-size: 886%;\"><tspan class=\"fR\">data</tspan></tspan></text>\n",
       "</g>\n",
       "<g style=\"color: rgb(0, 0, 0); fill: currentColor; stroke: currentColor; stroke-width: 4\">\n",
       "<text transform=\"translate(6246,46) scale(1,-1)\"><tspan class=\"fn\" style=\"font-size: 531.6%;\">rwebbe  3−Sep−2025 10:41</tspan></text>\n",
       "</g>\n",
       "<!-- _PGPLOT_SVG_ATEND: viewbox=\"          225.691238            27.140120          7357.857910          5618.850098\" -->\n",
       "</svg>"
      ],
      "text/plain": [
       "<IPython.core.display.SVG object>"
      ]
     },
     "metadata": {},
     "output_type": "display_data"
    }
   ],
   "source": [
    "Plot.device =\"/svg\"\n",
    "Plot.xAxis=\"keV\"\n",
    "Plot.xLog=True\n",
    "Plot.yLog=True\n",
    "Plot.addCommand(\"Rescale Y 0.00001 0.05\")\n",
    "Plot(\"data\")"
   ]
  },
  {
   "cell_type": "code",
   "execution_count": 5,
   "metadata": {
    "scrolled": false
   },
   "outputs": [
    {
     "name": "stdout",
     "output_type": "stream",
     "text": [
      "     1 channels (1) ignored in spectrum #     1\n",
      "      No channels ignored (no channels in specified range)\n",
      "\n",
      "\n",
      "========================================================================\n",
      "Model TBabs<1>*bbody<2> Source No.: 1   Active/On\n",
      "Model Model Component  Parameter  Unit     Value\n",
      " par  comp\n",
      "   1    1   TBabs      nH         10^22    1.00000      +/-  0.0          \n",
      "   2    2   bbody      kT         keV      3.00000      +/-  0.0          \n",
      "   3    2   bbody      norm                1.00000      +/-  0.0          \n",
      "________________________________________________________________________\n",
      "\n",
      "tbvabs Version 2.3\n",
      "Cosmic absorption with grains and H2, modified from\n",
      "Wilms, Allen, & McCray, 2000, ApJ 542, 914-924\n",
      "Questions: Joern Wilms\n",
      "joern.wilms@sternwarte.uni-erlangen.de\n",
      "joern.wilms@fau.de\n",
      "\n",
      "http://pulsar.sternwarte.uni-erlangen.de/wilms/research/tbabs/\n",
      "\n",
      "PLEASE NOTICE:\n",
      "To get the model described by the above paper\n",
      "you will also have to set the abundances:\n",
      "   abund wilm\n",
      "\n",
      "Note that this routine ignores the current cross se"
     ]
    },
    {
     "name": "stderr",
     "output_type": "stream",
     "text": [
      "GammQ: A <=  0\n",
      "GammQ: A <=  0\n"
     ]
    },
    {
     "name": "stdout",
     "output_type": "stream",
     "text": [
      "ction setting\n",
      "as it always HAS to use the Verner cross sections as a baseline.\n",
      "\n",
      "Fit statistic  : Chi-Squared              2.447744e+11     using 3 bins.\n",
      "\n",
      "Test statistic : Chi-Squared              2.447744e+11     using 3 bins.\n",
      " Cannot calculate null hypothesis probability.\n",
      " Current data and model not fit yet.\n",
      "                                   Parameters\n",
      "Chi-Squared  |beta|/N    Lvl          1:nH          2:kT        3:norm\n",
      "1.00086      0.435638     -3      0.440177       1.13764   1.84827e-06\n",
      "0.00514504   730079       -4      0.358301       1.22190   2.38939e-06\n",
      "7.26231e-07  46418        -5      0.378784       1.20779   2.40217e-06\n",
      "2.08427e-13  79.6767      -6      0.378607       1.20809   2.40266e-06\n",
      "========================================\n",
      " Variances and Principal Axes\n",
      "                 1        2        3  \n",
      " 2.2107E-13| -0.0000  -0.0000   1.0000  \n",
      " 8.1011E-02| -0.2800  -0.9600  -0.0000  \n",
      " 4.9816E+00|  0.9600  -0.2800  -0.0000  \n",
      "----------------------------------------\n",
      "\n",
      "====================================\n",
      "  Covariance Matrix\n",
      "        1           2           3   \n",
      "   4.597e+00  -1.317e+00  -1.028e-07\n",
      "  -1.317e+00   4.653e-01   2.209e-07\n",
      "  -1.028e-07   2.209e-07   6.408e-13\n",
      "------------------------------------\n",
      "\n",
      "========================================================================\n",
      "Model TBabs<1>*bbody<2> Source No.: 1   Active/On\n",
      "Model Model Component  Parameter  Unit     Value\n",
      " par  comp\n",
      "   1    1   TBabs      nH         10^22    0.378607     +/-  2.14414      \n",
      "   2    2   bbody      kT         keV      1.20809      +/-  0.682120     \n",
      "   3    2   bbody      norm                2.40266E-06  +/-  8.00508E-07  \n",
      "________________________________________________________________________\n",
      "\n",
      "\n",
      "Fit statistic  : Chi-Squared                   2e-13     using 3 bins.\n",
      "\n",
      "Test statistic : Chi-Squared                   2e-13     using 3 bins.\n",
      " Cannot calculate null hypothesis probability.\n"
     ]
    },
    {
     "data": {
      "image/svg+xml": [
       "<svg xmlns=\"http://www.w3.org/2000/svg\" xmlns:xlink=\"http://www.w3.org/1999/xlink\" style=\"fill-rule: nonzero; stroke-linecap: round; stroke-linejoin: round; transform: scale(1,-1);\" version=\"1.1\" viewbox=\"           -8.104305            27.140120          7591.653809          5564.965820\" width=\"100%\" height=\"100%\" preserveAspectRatio=\"xMidYMid\">\n",
       "<style>\n",
       "  .fn { font-family: Arial,Helvetica,sans-serif; }\n",
       "  .fN { font-family: Arial,Helvetica,sans-serif; font-weight: bold;}\n",
       "  .fr { font-family: Times,Times-Roman,Times New Roman,serif; }\n",
       "  .fR { font-family: Times,Times-Roman,Times New Roman,serif; font-weight: bold;}\n",
       "  .fi { font-family: Times,Times-Roman,Times New Roman,serif; font-style: italic;}\n",
       "  .fI { font-family: Times,Times-Roman,Times New Roman,serif; font-style: italic; font-weight: bold;}\n",
       "  .fs { font-family: Zapf-Chancery,Apple Chancery,URW Chancery L,cursive;}\n",
       "  .fS { font-family: Zapf-Chancery,Apple Chancery,URW Chancery L,cursive;font-weight:bold}\n",
       "  .fc { font-family: Arial Narrow,Helvetica Narrow,Arial,Helvetica,sans-serif;}\n",
       "  .fC { font-family: Arial Narrow,Helvetica Narrow,Arial,Helvetica,sans-serif; font-weight:bold;}\n",
       "</style>\n",
       "<g style=\"color: rgb(0, 0, 0); fill: currentColor; stroke: currentColor; stroke-width: 8\">\n",
       "\n",
       "<path fill=\"none\" d=\"M 742 2304 l 5935 0 l 0 2879 l -5935 0 l 0 -2879 M 1731 2304 l 0 28 M 2978 2304 l 0 28 M 3862 2304 l 0 28  M 4549 2304 l 0 28 M 5109 2304 l 0 28 M 5583 2304 l 0 28 M 5994 2304 l 0 28 M 6356 2304 l 0 28 M 1731 5155 l 0 28  M 2978 5155 l 0 28 M 3862 5155 l 0 28 M 4549 5155 l 0 28 M 5109 5155 l 0 28 M 5583 5155 l 0 28 M 5994 5155 l 0 28  M 6356 5155 l 0 28 M 742 2304 l 56 0 M 742 2538 l 28 0 M 742 2675 l 28 0 M 742 2772 l 28 0 M 742 2848 l 28 0  M 742 2909 l 28 0 M 742 2961 l 28 0 M 742 3007 l 28 0 M 742 3046 l 28 0 M 742 3082 l 56 0 M 742 3316 l 28 0  M 742 3453 l 28 0 M 742 3551 l 28 0 M 742 3626 l 28 0 M 742 3688 l 28 0 M 742 3740 l 28 0 M 742 3785 l 28 0  M 742 3825 l 28 0 M 742 3861 l 56 0 M 742 4095 l 28 0 M 742 4232 l 28 0 M 742 4329 l 28 0 M 742 4405 l 28 0  M 742 4466 l 28 0 M 742 4518 l 28 0 M 742 4564 l 28 0 M 742 4603 l 28 0 M 742 4639 l 56 0 M 742 4873 l 28 0  M 742 5010 l 28 0 M 742 5108 l 28 0 M 6621 2304 l 56 0 M 6649 2538 l 28 0 M 6649 2675 l 28 0 M 6649 2772 l 28 0  M 6649 2848 l 28 0 M 6649 2909 l 28 0 M 6649 2961 l 28 0 M 6649 3007 l 28 0 M 6649 3046 l 28 0 M 6621 3082 l 56 0  M 6649 3316 l 28 0 M 6649 3453 l 28 0 M 6649 3551 l 28 0 M 6649 3626 l 28 0 M 6649 3688 l 28 0 M 6649 3740 l 28 0  M 6649 3785 l 28 0 M 6649 3825 l 28 0 M 6621 3861 l 56 0 M 6649 4095 l 28 0 M 6649 4232 l 28 0 M 6649 4329 l 28 0  M 6649 4405 l 28 0 M 6649 4466 l 28 0 M 6649 4518 l 28 0 M 6649 4564 l 28 0 M 6649 4603 l 28 0 M 6621 4639 l 56 0  M 6649 4873 l 28 0 M 6649 5010 l 28 0 M 6649 5108 l 28 0 \"/>\n",
       "<text transform=\"translate(412,2266) scale(1,-1)\"><tspan class=\"fn\" style=\"font-size: 753.1%;\">10<tspan style=\"font-size: 60%;\" dy=\"-0.6em\">−5<tspan style=\"font-size: 166.667%;\" dy=\"+0.36em\"/></tspan></tspan></text>\n",
       "<text transform=\"translate(412,3045) scale(1,-1)\"><tspan class=\"fn\" style=\"font-size: 753.1%;\">10<tspan style=\"font-size: 60%;\" dy=\"-0.6em\">−4<tspan style=\"font-size: 166.667%;\" dy=\"+0.36em\"/></tspan></tspan></text>\n",
       "<text transform=\"translate(412,3823) scale(1,-1)\"><tspan class=\"fn\" style=\"font-size: 753.1%;\">10<tspan style=\"font-size: 60%;\" dy=\"-0.6em\">−3<tspan style=\"font-size: 166.667%;\" dy=\"+0.36em\"/></tspan></tspan></text>\n",
       "<text transform=\"translate(391,4602) scale(1,-1)\"><tspan class=\"fn\" style=\"font-size: 753.1%;\">0.01</tspan></text>\n",
       "</g>\n",
       "<g style=\"color: rgb(0, 0, 0); fill: currentColor; stroke: currentColor; stroke-width: 4\">\n",
       "<defs>\n",
       "<symbol id=\"M1\" overflow=\"visible\">\n",
       "<circle r=\"1\" fill=\"none\" stroke-width=\"1\"/>\n",
       "</symbol>\n",
       "</defs>\n",
       "<use xlink:href=\"#M1\" transform=\"translate(1487, 3886) scale(4.430)\"/>\n",
       "\n",
       "<path fill=\"none\" d=\"M 742 3886 l 1344 0 M 1487 3736 l 0 254 \"/>\n",
       "<use xlink:href=\"#M1\" transform=\"translate(2760, 3784) scale(4.430)\"/>\n",
       "\n",
       "<path fill=\"none\" d=\"M 2086 3784 l 1226 0 M 2760 3637 l 0 248 \"/>\n",
       "<use xlink:href=\"#M1\" transform=\"translate(5434, 3274) scale(4.430)\"/>\n",
       "\n",
       "<path fill=\"none\" d=\"M 3312 3274 l 3365 0 M 5434 3147 l 0 218 \"/>\n",
       "</g>\n",
       "<g style=\"color: rgb(0, 0, 0); fill: currentColor; stroke: currentColor; stroke-width: 8\">\n",
       "\n",
       "<path fill=\"none\" d=\"M 742 3886 l 1344 0 l 0 -102 l 1226 0 l 0 -510 l 3365 0 M 742 3886 l 1344 0 M 1487 3886 l 0 0 M 2086 3784 l 1226 0  M 2760 3784 l 0 0 M 3312 3274 l 3365 0 M 5434 3274 l 0 0 \"/>\n",
       "<text transform=\"translate(111,3265) scale(1,-1) rotate(-90)\"><tspan class=\"fn\" style=\"font-size: 753.1%;\">counts s<tspan style=\"font-size: 60%;\" dy=\"-0.6em\">−1<tspan style=\"font-size: 166.667%;\" dy=\"+0.36em\"> keV<tspan style=\"font-size: 60%;\" dy=\"-0.6em\">−1<tspan style=\"font-size: 166.667%;\" dy=\"+0.36em\"/></tspan></tspan></tspan></tspan></text>\n",
       "<text transform=\"translate(2971,5403) scale(1,-1)\"><tspan class=\"fn\" style=\"font-size: 753.1%;\"><tspan class=\"fR\">data and folded model</tspan></tspan></text>\n",
       "\n",
       "<path fill=\"none\" d=\"M 742 576 l 5935 0 l 0 1728 l -5935 0 l 0 -1728 M 1731 576 l 0 28 M 2978 576 l 0 28 M 3862 576 l 0 28  M 4549 576 l 0 28 M 5109 576 l 0 28 M 5583 576 l 0 28 M 5994 576 l 0 28 M 6356 576 l 0 28 M 1731 2275 l 0 29  M 2978 2275 l 0 29 M 3862 2275 l 0 29 M 4549 2275 l 0 29 M 5109 2275 l 0 29 M 5583 2275 l 0 29 M 5994 2275 l 0 29  M 6356 2275 l 0 29 \"/>\n",
       "<text transform=\"translate(1693,429) scale(1,-1)\"><tspan class=\"fn\" style=\"font-size: 753.1%;\">2</tspan></text>\n",
       "<text transform=\"translate(4510,429) scale(1,-1)\"><tspan class=\"fn\" style=\"font-size: 753.1%;\">5</tspan></text>\n",
       "\n",
       "<path fill=\"none\" d=\"M 742 606 l 28 0 M 742 874 l 56 0 M 742 1142 l 28 0 M 742 1410 l 56 0 M 742 1679 l 28 0 M 742 1947 l 56 0  M 742 2215 l 28 0 M 6649 606 l 28 0 M 6621 874 l 56 0 M 6649 1142 l 28 0 M 6621 1410 l 56 0 M 6649 1679 l 28 0  M 6621 1947 l 56 0 M 6649 2215 l 28 0 \"/>\n",
       "<text transform=\"translate(116,837) scale(1,-1)\"><tspan class=\"fn\" style=\"font-size: 753.1%;\">−2×10<tspan style=\"font-size: 60%;\" dy=\"-0.6em\">−11<tspan style=\"font-size: 166.667%;\" dy=\"+0.36em\"/></tspan></tspan></text>\n",
       "<text transform=\"translate(580,1373) scale(1,-1)\"><tspan class=\"fn\" style=\"font-size: 753.1%;\">0</tspan></text>\n",
       "<text transform=\"translate(195,1910) scale(1,-1)\"><tspan class=\"fn\" style=\"font-size: 753.1%;\">2×10<tspan style=\"font-size: 60%;\" dy=\"-0.6em\">−11<tspan style=\"font-size: 166.667%;\" dy=\"+0.36em\"/></tspan></tspan></text>\n",
       "</g>\n",
       "<g style=\"color: rgb(0, 0, 0); fill: currentColor; stroke: currentColor; stroke-width: 4\">\n",
       "<use xlink:href=\"#M1\" transform=\"translate(1487, 617) scale(4.430)\"/>\n",
       "\n",
       "<path fill=\"none\" d=\"M 742 617 l 1344 0 M 1487 576 l 0 1728 \"/>\n",
       "<use xlink:href=\"#M1\" transform=\"translate(2760, 2262) scale(4.430)\"/>\n",
       "\n",
       "<path fill=\"none\" d=\"M 2086 2262 l 1226 0 M 2760 576 l 0 1728 \"/>\n",
       "<use xlink:href=\"#M1\" transform=\"translate(5434, 2053) scale(4.430)\"/>\n",
       "\n",
       "<path fill=\"none\" d=\"M 3312 2053 l 3365 0 M 5434 576 l 0 1728 \"/>\n",
       "</g>\n",
       "<g style=\"color: rgb(0, 0, 0); fill: currentColor; stroke: currentColor; stroke-width: 8\">\n",
       "<text transform=\"translate(111,962) scale(1,-1) rotate(-90)\"><tspan class=\"fn\" style=\"font-size: 753.1%;\">counts s<tspan style=\"font-size: 60%;\" dy=\"-0.6em\">−1<tspan style=\"font-size: 166.667%;\" dy=\"+0.36em\"> keV<tspan style=\"font-size: 60%;\" dy=\"-0.6em\">−1<tspan style=\"font-size: 166.667%;\" dy=\"+0.36em\"/></tspan></tspan></tspan></tspan></text>\n",
       "<text transform=\"translate(3323,269) scale(1,-1)\"><tspan class=\"fn\" style=\"font-size: 753.1%;\">Energy (keV)</tspan></text>\n",
       "</g>\n",
       "<g style=\"color: rgb(0, 255, 0); fill: currentColor; stroke: currentColor; stroke-width: 8\">\n",
       "\n",
       "<path fill=\"none\" d=\"M 742 1410 l 5935 0 \"/>\n",
       "</g>\n",
       "<g style=\"color: rgb(0, 0, 0); fill: currentColor; stroke: currentColor; stroke-width: 4\">\n",
       "<text transform=\"translate(6246,46) scale(1,-1)\"><tspan class=\"fn\" style=\"font-size: 531.6%;\">rwebbe  3−Sep−2025 10:41</tspan></text>\n",
       "</g>\n",
       "<!-- _PGPLOT_SVG_ATEND: viewbox=\"           -8.104305            27.140120          7591.653809          5564.965820\" -->\n",
       "</svg>"
      ],
      "text/plain": [
       "<IPython.core.display.SVG object>"
      ]
     },
     "metadata": {},
     "output_type": "display_data"
    },
    {
     "name": "stdout",
     "output_type": "stream",
     "text": [
      " Model Flux 3.1135e-05 photons (1.8445e-13 ergs/cm^2/s) range (0.20000 - 12.000 keV)\n"
     ]
    }
   ],
   "source": [
    "spec.ignore(\"**-0.2 12.0-**\")\n",
    "AllModels.clear()\n",
    "mo1 = Model(\"tbabs*bbody\")\n",
    "Fit.perform()\n",
    "Plot(\"data resid\")\n",
    "AllModels.calcFlux(\"0.2 12.0\")"
   ]
  },
  {
   "cell_type": "code",
   "execution_count": 6,
   "metadata": {},
   "outputs": [
    {
     "name": "stderr",
     "output_type": "stream",
     "text": [
      "***Warning: Ill-formed Fit problem - number of variable parameters exceeds number of bins\n"
     ]
    },
    {
     "ename": "Exception",
     "evalue": "Error executing command: error",
     "output_type": "error",
     "traceback": [
      "\u001b[0;31m---------------------------------------------------------------------------\u001b[0m",
      "\u001b[0;31mException\u001b[0m                                 Traceback (most recent call last)",
      "\u001b[0;32m<ipython-input-6-21d339ad0c88>\u001b[0m in \u001b[0;36m<module>\u001b[0;34m\u001b[0m\n\u001b[0;32m----> 1\u001b[0;31m \u001b[0mFit\u001b[0m\u001b[0;34m.\u001b[0m\u001b[0merror\u001b[0m\u001b[0;34m(\u001b[0m\u001b[0;34m\"1\"\u001b[0m\u001b[0;34m)\u001b[0m\u001b[0;34m\u001b[0m\u001b[0;34m\u001b[0m\u001b[0m\n\u001b[0m\u001b[1;32m      2\u001b[0m \u001b[0mFit\u001b[0m\u001b[0;34m.\u001b[0m\u001b[0merror\u001b[0m\u001b[0;34m(\u001b[0m\u001b[0;34m\"2\"\u001b[0m\u001b[0;34m)\u001b[0m\u001b[0;34m\u001b[0m\u001b[0;34m\u001b[0m\u001b[0m\n\u001b[1;32m      3\u001b[0m \u001b[0;34m\u001b[0m\u001b[0m\n\u001b[1;32m      4\u001b[0m \u001b[0mout_arr\u001b[0m\u001b[0;34m[\u001b[0m\u001b[0;36m0\u001b[0m\u001b[0;34m,\u001b[0m\u001b[0;36m0\u001b[0m\u001b[0;34m]\u001b[0m \u001b[0;34m=\u001b[0m \u001b[0;34m'bbody'\u001b[0m\u001b[0;34m\u001b[0m\u001b[0;34m\u001b[0m\u001b[0m\n\u001b[1;32m      5\u001b[0m \u001b[0mout_arr\u001b[0m\u001b[0;34m[\u001b[0m\u001b[0;36m0\u001b[0m\u001b[0;34m,\u001b[0m\u001b[0;36m1\u001b[0m\u001b[0;34m:\u001b[0m\u001b[0;36m4\u001b[0m\u001b[0;34m]\u001b[0m \u001b[0;34m=\u001b[0m \u001b[0mmo\u001b[0m\u001b[0;34m.\u001b[0m\u001b[0mTBabs\u001b[0m\u001b[0;34m.\u001b[0m\u001b[0mnH\u001b[0m\u001b[0;34m.\u001b[0m\u001b[0mvalues\u001b[0m\u001b[0;34m[\u001b[0m\u001b[0;36m0\u001b[0m\u001b[0;34m]\u001b[0m\u001b[0;34m,\u001b[0m \u001b[0mmo\u001b[0m\u001b[0;34m.\u001b[0m\u001b[0mTBabs\u001b[0m\u001b[0;34m.\u001b[0m\u001b[0mnH\u001b[0m\u001b[0;34m.\u001b[0m\u001b[0mvalues\u001b[0m\u001b[0;34m[\u001b[0m\u001b[0;36m0\u001b[0m\u001b[0;34m]\u001b[0m \u001b[0;34m-\u001b[0m \u001b[0mmo\u001b[0m\u001b[0;34m.\u001b[0m\u001b[0mTBabs\u001b[0m\u001b[0;34m.\u001b[0m\u001b[0mnH\u001b[0m\u001b[0;34m.\u001b[0m\u001b[0merror\u001b[0m\u001b[0;34m[\u001b[0m\u001b[0;36m0\u001b[0m\u001b[0;34m]\u001b[0m\u001b[0;34m,\u001b[0m \u001b[0mmo\u001b[0m\u001b[0;34m.\u001b[0m\u001b[0mTBabs\u001b[0m\u001b[0;34m.\u001b[0m\u001b[0mnH\u001b[0m\u001b[0;34m.\u001b[0m\u001b[0merror\u001b[0m\u001b[0;34m[\u001b[0m\u001b[0;36m1\u001b[0m\u001b[0;34m]\u001b[0m \u001b[0;34m-\u001b[0m \u001b[0mmo\u001b[0m\u001b[0;34m.\u001b[0m\u001b[0mTBabs\u001b[0m\u001b[0;34m.\u001b[0m\u001b[0mnH\u001b[0m\u001b[0;34m.\u001b[0m\u001b[0mvalues\u001b[0m\u001b[0;34m[\u001b[0m\u001b[0;36m0\u001b[0m\u001b[0;34m]\u001b[0m\u001b[0;34m\u001b[0m\u001b[0;34m\u001b[0m\u001b[0m\n",
      "\u001b[0;32m~/astro_soft/heasoft-6.32.1/x86_64-pc-linux-gnu-libc2.31/lib/python/xspec/fit.py\u001b[0m in \u001b[0;36merror\u001b[0;34m(self, argString, respPar)\u001b[0m\n\u001b[1;32m    423\u001b[0m             \u001b[0merrorArgs\u001b[0m \u001b[0;34m=\u001b[0m \u001b[0;34m[\u001b[0m\u001b[0;34m\"error\"\u001b[0m\u001b[0;34m]\u001b[0m\u001b[0;34m\u001b[0m\u001b[0;34m\u001b[0m\u001b[0m\n\u001b[1;32m    424\u001b[0m         \u001b[0merrorArgs\u001b[0m \u001b[0;34m+=\u001b[0m \u001b[0margString\u001b[0m\u001b[0;34m.\u001b[0m\u001b[0msplit\u001b[0m\u001b[0;34m(\u001b[0m\u001b[0;34m)\u001b[0m\u001b[0;34m\u001b[0m\u001b[0;34m\u001b[0m\u001b[0m\n\u001b[0;32m--> 425\u001b[0;31m         \u001b[0m_pyXspec\u001b[0m\u001b[0;34m.\u001b[0m\u001b[0mdoXspecCmd\u001b[0m\u001b[0;34m(\u001b[0m\u001b[0merrorArgs\u001b[0m\u001b[0;34m)\u001b[0m\u001b[0;34m\u001b[0m\u001b[0;34m\u001b[0m\u001b[0m\n\u001b[0m\u001b[1;32m    426\u001b[0m \u001b[0;34m\u001b[0m\u001b[0m\n\u001b[1;32m    427\u001b[0m     \u001b[0;32mdef\u001b[0m \u001b[0mftest\u001b[0m\u001b[0;34m(\u001b[0m\u001b[0mself\u001b[0m\u001b[0;34m,\u001b[0m \u001b[0mchisq2\u001b[0m\u001b[0;34m,\u001b[0m \u001b[0mdof2\u001b[0m\u001b[0;34m,\u001b[0m \u001b[0mchisq1\u001b[0m\u001b[0;34m,\u001b[0m \u001b[0mdof1\u001b[0m\u001b[0;34m)\u001b[0m\u001b[0;34m:\u001b[0m\u001b[0;34m\u001b[0m\u001b[0;34m\u001b[0m\u001b[0m\n",
      "\u001b[0;31mException\u001b[0m: Error executing command: error"
     ]
    }
   ],
   "source": [
    "Fit.error(\"1\")\n",
    "Fit.error(\"2\")\n",
    "\n",
    "out_arr[0,0] = 'bbody'\n",
    "out_arr[0,1:4] = mo.TBabs.nH.values[0], mo.TBabs.nH.values[0] - mo.TBabs.nH.error[0], mo.TBabs.nH.error[1] - mo.TBabs.nH.values[0]\n",
    "out_arr[0,4:7] = mo.bbody.kT.values[0], mo.bbody.kT.values[0] - mo.bbody.kT.error[0], mo.bbody.kT.error[1] - mo.bbody.kT.values[0]\n",
    "out_arr[0,-2:] = Fit.dof, Fit.statistic / Fit.dof\n"
   ]
  },
  {
   "cell_type": "code",
   "execution_count": null,
   "metadata": {
    "scrolled": false
   },
   "outputs": [],
   "source": [
    "AllModels.clear()\n",
    "mo = Model(\"tbabs*powerlaw\")\n",
    "Fit.perform()\n",
    "Plot(\"data resid\")"
   ]
  },
  {
   "cell_type": "code",
   "execution_count": null,
   "metadata": {},
   "outputs": [],
   "source": [
    "Fit.error(\"1\")\n",
    "Fit.error(\"2\")\n",
    "\n",
    "out_arr[1,0] = 'powerlaw'\n",
    "out_arr[1,1:4] = mo.TBabs.nH.values[0], mo.TBabs.nH.values[0] - mo.TBabs.nH.error[0], mo.TBabs.nH.error[1] - mo.TBabs.nH.values[0]\n",
    "out_arr[1,14:17] = mo.powerlaw.PhoIndex.values[0], mo.powerlaw.PhoIndex.values[0] - mo.powerlaw.PhoIndex.error[0], mo.powerlaw.PhoIndex.error[1] - mo.powerlaw.PhoIndex.values[0]\n",
    "out_arr[1,-2:] = Fit.dof, Fit.statistic / Fit.dof\n"
   ]
  },
  {
   "cell_type": "code",
   "execution_count": null,
   "metadata": {},
   "outputs": [],
   "source": [
    "AllModels.clear()\n",
    "mo = Model(\"tbabs*bremss\")\n",
    "Fit.perform()\n",
    "Plot(\"data resid\")"
   ]
  },
  {
   "cell_type": "code",
   "execution_count": null,
   "metadata": {},
   "outputs": [],
   "source": [
    "Fit.error(\"1\")\n",
    "Fit.error(\"2\")\n",
    "\n",
    "out_arr[3,0] = 'bremss'\n",
    "out_arr[3,1:4] = mo.TBabs.nH.values[0], mo.TBabs.nH.values[0] - mo.TBabs.nH.error[0], mo.TBabs.nH.error[1] - mo.TBabs.nH.values[0]\n",
    "out_arr[3,4:7] = mo.bremss.kT.values[0], mo.bremss.kT.values[0] - mo.bremss.kT.error[0], mo.bremss.kT.error[1] - mo.bremss.kT.values[0]\n",
    "out_arr[3,-2:] = Fit.dof, Fit.statistic / Fit.dof\n"
   ]
  },
  {
   "cell_type": "code",
   "execution_count": null,
   "metadata": {
    "scrolled": false
   },
   "outputs": [],
   "source": [
    "AllModels.clear()\n",
    "mo = Model(\"tbabs*apec\")\n",
    "Fit.perform()\n",
    "Plot(\"data resid\")"
   ]
  },
  {
   "cell_type": "code",
   "execution_count": null,
   "metadata": {},
   "outputs": [],
   "source": [
    "Fit.error(\"1\")\n",
    "Fit.error(\"2\")\n",
    "\n",
    "out_arr[2,0] = 'apec'\n",
    "out_arr[2,1:4] = mo.TBabs.nH.values[0], mo.TBabs.nH.values[0] - mo.TBabs.nH.error[0], mo.TBabs.nH.error[1] - mo.TBabs.nH.values[0]\n",
    "out_arr[2,13] = mo.apec.Abundanc.values[0]\n",
    "out_arr[2,4:7] = mo.apec.kT.values[0], mo.apec.kT.values[0] - mo.apec.kT.error[0], mo.apec.kT.error[1] - mo.apec.kT.values[0]\n",
    "out_arr[2,-2:] = Fit.dof, Fit.statistic / Fit.dof\n"
   ]
  },
  {
   "cell_type": "code",
   "execution_count": null,
   "metadata": {},
   "outputs": [],
   "source": [
    "np.savetxt('../spec11_output.csv',out_arr,fmt=['%s','%.2f','%.2f','%.2f','%.2f','%.2f','%.2f','%.2f','%.2f','%.2f','%.2f','%.2f','%.2f','%.1f','%.2f','%.2f','%.2f','%i','%.2f'],delimiter=',')\n"
   ]
  },
  {
   "cell_type": "code",
   "execution_count": null,
   "metadata": {},
   "outputs": [],
   "source": [
    "AllModels.calcFlux(\".2 12.0\")"
   ]
  },
  {
   "cell_type": "code",
   "execution_count": null,
   "metadata": {},
   "outputs": [],
   "source": [
    "#plx = 0.6016\n",
    "d_kpc = 8\n",
    "F_x = 2.3418*10**-13\n",
    "\n",
    "L_x = 4*3.14*F_x*(d_kpc*3.086*10**21)**2\n",
    "print(L_x)"
   ]
  },
  {
   "cell_type": "code",
   "execution_count": null,
   "metadata": {},
   "outputs": [],
   "source": [
    "import numpy as np\n",
    "print(d_kpc)\n",
    "print(np.log10(L_x))"
   ]
  },
  {
   "cell_type": "code",
   "execution_count": null,
   "metadata": {},
   "outputs": [],
   "source": [
    "F_opt = 1.05*10**-5 * 10**(-0.4*21.05)\n",
    "print('Optical Flux: ',F_opt)\n",
    "print('F_x / F_opt: ', np.log10(F_x/F_opt))"
   ]
  },
  {
   "cell_type": "code",
   "execution_count": null,
   "metadata": {
    "scrolled": false
   },
   "outputs": [],
   "source": [
    "AllModels.clear()\n",
    "mo = Model(\"tbabs*raymond\")\n",
    "mo.raymond.Abundanc=0.3\n",
    "Fit.perform()\n",
    "Plot(\"data resid\")"
   ]
  },
  {
   "cell_type": "code",
   "execution_count": null,
   "metadata": {
    "scrolled": false
   },
   "outputs": [],
   "source": [
    "AllModels.clear()\n",
    "mo = Model(\"tbabs*apec\")\n",
    "mo.apec.Abundanc=0.3\n",
    "Fit.perform()\n",
    "Plot(\"data resid\")"
   ]
  }
 ],
 "metadata": {
  "kernelspec": {
   "display_name": "Python 3 (ipykernel)",
   "language": "python",
   "name": "python3"
  },
  "language_info": {
   "codemirror_mode": {
    "name": "ipython",
    "version": 3
   },
   "file_extension": ".py",
   "mimetype": "text/x-python",
   "name": "python",
   "nbconvert_exporter": "python",
   "pygments_lexer": "ipython3",
   "version": "3.8.10"
  }
 },
 "nbformat": 4,
 "nbformat_minor": 4
}
