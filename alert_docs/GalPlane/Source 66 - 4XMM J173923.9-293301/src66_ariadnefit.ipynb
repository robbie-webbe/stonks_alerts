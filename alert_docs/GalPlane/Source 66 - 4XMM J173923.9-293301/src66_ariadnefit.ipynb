{
 "cells": [
  {
   "cell_type": "code",
   "execution_count": 1,
   "metadata": {},
   "outputs": [
    {
     "name": "stderr",
     "output_type": "stream",
     "text": [
      "Holoviews not imported. Some visualizations will not be available.\n",
      "PyMultiNest not imported.  MultiNest fits will not work.\n",
      "/home/rwebbe/.local/lib/python3.8/site-packages/astroARIADNE/fitter.py:43: UserWarning: (py)MultiNest installation (or libmultinest.dylib) not detected.\n",
      "  warnings.warn(\n"
     ]
    }
   ],
   "source": [
    "from astroARIADNE.star import Star\n",
    "from astroARIADNE.fitter import Fitter\n",
    "from dustmaps.config import config\n",
    "config['data_dir'] = '/home/rwebbe/data/dustmaps'"
   ]
  },
  {
   "cell_type": "code",
   "execution_count": 2,
   "metadata": {
    "scrolled": true
   },
   "outputs": [
    {
     "name": "stdout",
     "output_type": "stream",
     "text": [
      "\n",
      "\t\t#####################################\n",
      "\t\t##             ARIADNE             ##\n",
      "\t\t#####################################\n",
      "   spectrAl eneRgy dIstribution bAyesian moDel averagiNg fittEr\n",
      "\n",
      "\t\t\tAuthor : Jose Vines\n",
      "\t\t\tContact : jose . vines at ug . uchile . cl\n",
      "\t\t\tStar : 4057030162253566336\n",
      "\t\t*** LOOKING UP ARCHIVAL INFORMATION ***\n",
      "INFO: Query finished. [astroquery.utils.tap.core]\n",
      "Warning!: CatalogWarning\n",
      "Warning message: Parameter radius not found! Be advised.\n",
      "Warning!: CatalogWarning\n",
      "Warning message: Parameter lum not found! Be advised.\n",
      "INFO: Query finished. [astroquery.utils.tap.core]\n",
      "Star not found in catalog TYCHO2.\n",
      "INFO: Query finished. [astroquery.utils.tap.core]\n",
      "INFO: Query finished. [astroquery.utils.tap.core]\n",
      "Star not found in catalog SDSS.\n",
      "INFO: Query finished. [astroquery.utils.tap.core]\n",
      "Star not found in catalog Wise.\n",
      "INFO: Query finished. [astroquery.utils.tap.core]\n",
      "INFO: Query finished. [astroquery.utils.tap.core]\n",
      "Star not found in catalog APASS.\n",
      "Looking online for archival magnitudes for star 4057030162253566336\n",
      "Checking catalog Pan-STARRS1\n",
      "Checking catalog Gaia DR3\n",
      "Checking catalog 2MASS\n",
      "Warning!: CatalogWarning\n",
      "Warning message: Catalog 2MASS_J entry is either an extended source, is of bad quality or is contaminated. Skipping.\n",
      "Warning!: CatalogWarning\n",
      "Warning message: Catalog 2MASS_H entry is either an extended source, is of bad quality or is contaminated. Skipping.\n",
      "Warning!: CatalogWarning\n",
      "Warning message: Catalog 2MASS_Ks entry is either an extended source, is of bad quality or is contaminated. Skipping.\n",
      "Checking catalog GLIMPSE\n",
      "Warning!: CatalogWarning\n",
      "Warning message: Star is not available in catalog GALEX. Skipping\n",
      "Checking catalog TICv8\n",
      "Warning!: CatalogWarning\n",
      "Warning message: Star is not available in catalog SkyMapper. Skipping\n",
      "Warning!: CatalogWarning\n",
      "Warning message: Star is not available in catalog STROMGREN_PAUNZ. Skipping\n",
      "Warning!: CatalogWarning\n",
      "Warning message: Star is not available in catalog STROMGREN_HAUCK. Skipping\n",
      "Warning!: CatalogWarning\n",
      "Warning message: Star is not available in catalog MERMILLIOD. Skipping\n",
      "\t\t\tGaia DR3 ID : 4057030162253566336\n",
      "\t\t\tTIC : 201343403\n",
      "\t\t\tGaia Effective temperature : 3517.815 +/- 381.978\n",
      "\t\t\tGaia Stellar radius : 0.000 +/- 0.000\n",
      "\t\t\tGaia Stellar Luminosity : 0.000 +/- 0.000\n",
      "\t\t\tGaia Parallax : 0.219 +/- 0.115\n",
      "\t\t\tBailer-Jones distance : 4643.325 +/- 2224.464\n",
      "\t\t\tMaximum Av : 15.610\n",
      "\n",
      "\t\t       Filter       \tMagnitude\tUncertainty\n",
      "\t\t--------------------\t---------\t-----------\n",
      "\t\t       PS1_g        \t 19.9310 \t  0.0149   \n",
      "\t\t    GaiaDR2v2_BP    \t 18.6940 \t  0.0193   \n",
      "\t\t       PS1_r        \t 17.3024 \t  0.0214   \n",
      "\t\t    GaiaDR2v2_G     \t 16.3847 \t  0.0033   \n",
      "\t\t       PS1_i        \t 15.7951 \t  0.0029   \n",
      "\t\t    GaiaDR2v2_RP    \t 14.9963 \t  0.0060   \n",
      "\t\t        TESS        \t 14.5450 \t  0.3781   \n",
      "\t\t       PS1_z        \t 14.8080 \t  0.0062   \n",
      "\t\t       PS1_y        \t 14.1643 \t  0.0066   \n",
      "\t\t  SPITZER_IRAC_36   \t 10.2890 \t  0.0410   \n",
      "\t\t  SPITZER_IRAC_45   \t 10.3600 \t  0.0460   \n",
      "\n"
     ]
    }
   ],
   "source": [
    "gaia_id = 4057030162253566336\n",
    "ra = 264.8499332\n",
    "dec = -29.5504713\n",
    "starname = str(gaia_id)\n",
    "s = Star(starname, ra, dec, g_id = gaia_id, dustmap='Planck16')"
   ]
  },
  {
   "cell_type": "code",
   "execution_count": 3,
   "metadata": {},
   "outputs": [
    {
     "name": "stdout",
     "output_type": "stream",
     "text": [
      "Created the directory ariadnefit\n",
      "\n",
      "\t\t*** EXECUTING MAIN FITTING ROUTINE ***\n",
      "\t\t\tSelected engine : Bayesian Model Averaging\n",
      "\t\t\tLive points : 500\n",
      "\t\t\tlog Evidence tolerance : 0.5\n",
      "\t\t\tFree parameters : 17\n",
      "\t\t\tBounding : multi\n",
      "\t\t\tSampling : rwalk\n",
      "\t\t\tN threads : 4\n",
      "\n"
     ]
    }
   ],
   "source": [
    "out_folder = 'ariadnefit'\n",
    "\n",
    "engine = 'dynesty'\n",
    "nlive = 500\n",
    "dlogz = 0.5\n",
    "bound = 'multi'\n",
    "sample = 'rwalk'\n",
    "threads = 4\n",
    "dynamic = False\n",
    "setup = [engine, nlive, dlogz, bound, sample, threads, dynamic]\n",
    "\n",
    "models = ['phoenix','btsettl','btnextgen','btcond','kurucz','ck04']\n",
    "f = Fitter()\n",
    "f.star = s\n",
    "f.setup = setup\n",
    "f.av_law = 'fitzpatrick'\n",
    "f.out_folder = out_folder\n",
    "f.bma = True\n",
    "f.models = models\n",
    "f.n_samples = 100000\n",
    "\n",
    "f.prior_setup = {'teff': ('default'),'logg': ('default'),'z': ('default'),'dist': ('default'),'rad': ('default'),'Av': ('default')}\n",
    "f.initialize()\n"
   ]
  },
  {
   "cell_type": "code",
   "execution_count": 4,
   "metadata": {},
   "outputs": [
    {
     "name": "stdout",
     "output_type": "stream",
     "text": [
      "\t\t\tFITTING MODEL : phoenix\n"
     ]
    },
    {
     "name": "stderr",
     "output_type": "stream",
     "text": [
      "13075it [15:35, 13.98it/s, +500 | bound: 154 | nc: 1 | ncall: 302450 | eff(%):  4.496 | loglstar:   -inf < 286.909 <    inf | logz: 261.311 +/-  0.233 | dlogz:  0.001 >  0.500]\n"
     ]
    },
    {
     "name": "stdout",
     "output_type": "stream",
     "text": [
      "\t\t\tFITTING MODEL : btsettl\n"
     ]
    },
    {
     "name": "stderr",
     "output_type": "stream",
     "text": [
      "13127it [14:58, 14.61it/s, +500 | bound: 153 | nc: 1 | ncall: 302748 | eff(%):  4.509 | loglstar:   -inf < 286.873 <    inf | logz: 261.108 +/-    nan | dlogz:  0.001 >  0.500]\n"
     ]
    },
    {
     "name": "stdout",
     "output_type": "stream",
     "text": [
      "\t\t\tFITTING MODEL : btnextgen\n"
     ]
    },
    {
     "name": "stderr",
     "output_type": "stream",
     "text": [
      "13213it [14:13, 15.48it/s, +500 | bound: 158 | nc: 1 | ncall: 304871 | eff(%):  4.505 | loglstar:   -inf < 285.312 <    inf | logz: 259.381 +/-    nan | dlogz:  0.001 >  0.500]\n"
     ]
    },
    {
     "name": "stdout",
     "output_type": "stream",
     "text": [
      "\t\t\tFITTING MODEL : btcond\n"
     ]
    },
    {
     "name": "stderr",
     "output_type": "stream",
     "text": [
      "13614it [08:40, 26.14it/s, +500 | bound: 162 | nc: 1 | ncall: 315398 | eff(%):  4.482 | loglstar:   -inf < 287.415 <    inf | logz: 260.680 +/-    nan | dlogz:  0.001 >  0.500]\n"
     ]
    },
    {
     "name": "stdout",
     "output_type": "stream",
     "text": [
      "\t\t*** AVERAGING POSTERIOR SAMPLES ***\n"
     ]
    },
    {
     "name": "stderr",
     "output_type": "stream",
     "text": [
      "100%|██████████| 21/21 [00:01<00:00, 19.68it/s]\n"
     ]
    },
    {
     "name": "stdout",
     "output_type": "stream",
     "text": [
      "\t\t*** ESTIMATING AGE AND MASS USING MIST ISOCHRONES ***\n"
     ]
    },
    {
     "name": "stderr",
     "output_type": "stream",
     "text": [
      "11448it [01:02, 183.50it/s, +500 | bound: 132 | nc: 1 | ncall: 300723 | eff(%):  3.980 | loglstar:   -inf < -28.394 <    inf | logz: -46.830 +/- 10.447 | dlogz:  0.000 >  0.010]\n"
     ]
    },
    {
     "name": "stdout",
     "output_type": "stream",
     "text": [
      "\n",
      "\t\t\tFitting finished.\n",
      "\t\t\tBest fit parameters are:\n",
      "\t\t\tteff : 5169.4145 + 567.2762 - 550.3426 [4102.5966, 6625.7056]\n",
      "\t\t\tlogg : 4.4055 + 0.4643 - 0.5316 [3.5509, 5.5629]\n",
      "\t\t\t[Fe/H] : -0.1543 + 0.1439 - 0.1855 [-0.6723, 0.2807]\n",
      "\t\t\tdist : 11248.3949 + 3315.2640 - 2396.5764 [5896.0410, 17838.9800]\n",
      "\t\t\trad : 52.4221 + 12.6960 - 13.2325 [25.7784, 79.0658]\n",
      "\t\t\tAv : 6.2955 + 0.5346 - 0.4539 [4.7019, 7.7177]\n",
      "\t\t\tAngular Diameter : 0.0410 + 0.0155 - 0.0128 [0.0172, 0.0983]\n",
      "\t\t\tGrav mass : 1339.1825 + 3730.3976 - 1044.5113 [145.4553, 30436.2834]\n",
      "\t\t\tLuminosity : 1466.0692 + 1405.7506 - 728.9077 [346.6752, 8130.3684]\n",
      "\t\t\tIso mass : 1.1012 + 0.7225 - 0.2518 [0.5867, 3.8597]\n",
      "\t\t\tAge (Gyr) : 1.5789 + 7.3529 - 1.3082 [0.0001, 13.4429]\n",
      "\t\t\tEEP : 664.7501 + 13.1249 - 10.9374 [80.6938, 732.5619]\n",
      "\t\t\tExcess PS1_g noise : 0.1389 + 0.0746 - 0.0485 [0.0217, 0.3755]\n",
      "\t\t\tExcess BP noise : 0.2788 + 0.0896 - 0.0617 [0.1509, 0.5902]\n",
      "\t\t\tExcess PS1_r noise : 0.1028 + 0.1027 - 0.0496 [0.0125, 0.5419]\n",
      "\t\t\tExcess G noise : 0.1245 + 0.0167 - 0.0149 [0.0868, 0.1659]\n",
      "\t\t\tExcess PS1_i noise : 0.0550 + 0.0202 - 0.0175 [0.0097, 0.1086]\n",
      "\t\t\tExcess RP noise : 0.0719 + 0.0281 - 0.0201 [0.0242, 0.1825]\n",
      "\t\t\tExcess TESS noise : 1.7070 + 1.5296 - 0.9687 [0.1774, 7.7997]\n",
      "\t\t\tExcess PS1_z noise : 0.0533 + 0.0274 - 0.0188 [0.0096, 0.1534]\n",
      "\t\t\tExcess PS1_y noise : 0.0829 + 0.0354 - 0.0320 [0.0144, 0.1816]\n",
      "\t\t\tExcess IRAC 36 noise : 0.2686 + 0.1697 - 0.1085 [0.0460, 0.8780]\n",
      "\t\t\tExcess IRAC 45 noise : 0.2960 + 0.1534 - 0.1193 [0.0574, 0.9039]\n",
      "\t\t\tMamajek Spectral Type : K1V\n",
      "\t\t\tphoenix probability : 0.4010\n",
      "\t\t\tbtsettl probability : 0.3275\n",
      "\t\t\tbtnextgen probability : 0.0582\n",
      "\t\t\tbtcond probability : 0.2134\n",
      "\t\t\tElapsed time : 55 minutes and 39.29 seconds\n"
     ]
    }
   ],
   "source": [
    "f.fit_bma()"
   ]
  },
  {
   "cell_type": "code",
   "execution_count": 1,
   "metadata": {},
   "outputs": [
    {
     "name": "stdout",
     "output_type": "stream",
     "text": [
      "L_X / L_Bol:  3.240109140518418e-05 -4.489440360680242\n"
     ]
    }
   ],
   "source": [
    "import numpy as np\n",
    "\n",
    "Lbol_sun = 4 * 10**33\n",
    "L_bol = Lbol_sun * 1466\n",
    "L_x = 1.9*10**32\n",
    "\n",
    "print(\"L_X / L_Bol: \",L_x/L_bol,np.log10(L_x/L_bol))"
   ]
  }
 ],
 "metadata": {
  "kernelspec": {
   "display_name": "Python 3 (ipykernel)",
   "language": "python",
   "name": "python3"
  },
  "language_info": {
   "codemirror_mode": {
    "name": "ipython",
    "version": 3
   },
   "file_extension": ".py",
   "mimetype": "text/x-python",
   "name": "python",
   "nbconvert_exporter": "python",
   "pygments_lexer": "ipython3",
   "version": "3.8.10"
  }
 },
 "nbformat": 4,
 "nbformat_minor": 4
}
