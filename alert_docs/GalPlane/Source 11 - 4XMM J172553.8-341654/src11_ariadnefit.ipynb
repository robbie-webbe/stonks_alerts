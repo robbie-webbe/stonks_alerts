{
 "cells": [
  {
   "cell_type": "code",
   "execution_count": 1,
   "metadata": {},
   "outputs": [
    {
     "name": "stderr",
     "output_type": "stream",
     "text": [
      "Holoviews not imported. Some visualizations will not be available.\n",
      "PyMultiNest not imported.  MultiNest fits will not work.\n",
      "/home/rwebbe/.local/lib/python3.8/site-packages/astroARIADNE/fitter.py:43: UserWarning: (py)MultiNest installation (or libmultinest.dylib) not detected.\n",
      "  warnings.warn(\n"
     ]
    }
   ],
   "source": [
    "from astroARIADNE.star import Star\n",
    "from astroARIADNE.fitter import Fitter\n",
    "from dustmaps.config import config\n",
    "config['data_dir'] = '/home/rwebbe/data/dustmaps'"
   ]
  },
  {
   "cell_type": "code",
   "execution_count": 2,
   "metadata": {
    "scrolled": true
   },
   "outputs": [
    {
     "name": "stdout",
     "output_type": "stream",
     "text": [
      "\n",
      "\t\t#####################################\n",
      "\t\t##             ARIADNE             ##\n",
      "\t\t#####################################\n",
      "   spectrAl eneRgy dIstribution bAyesian moDel averagiNg fittEr\n",
      "\n",
      "\t\t\tAuthor : Jose Vines\n",
      "\t\t\tContact : jose . vines at ug . uchile . cl\n",
      "\t\t\tStar : 5976041513112049920\n",
      "\t\t*** LOOKING UP ARCHIVAL INFORMATION ***\n",
      "INFO: Query finished. [astroquery.utils.tap.core]\n",
      "Warning!: CatalogWarning\n",
      "Warning message: Parameter teff not found! Be advised.\n",
      "Warning!: CatalogWarning\n",
      "Warning message: Parameter radius not found! Be advised.\n",
      "Warning!: CatalogWarning\n",
      "Warning message: Parameter lum not found! Be advised.\n",
      "INFO: Query finished. [astroquery.utils.tap.core]\n",
      "Star not found in catalog TYCHO2.\n",
      "INFO: Query finished. [astroquery.utils.tap.core]\n",
      "Star not found in catalog Pan-STARRS.\n",
      "INFO: Query finished. [astroquery.utils.tap.core]\n",
      "Star not found in catalog SDSS.\n",
      "INFO: Query finished. [astroquery.utils.tap.core]\n",
      "Star not found in catalog Wise.\n",
      "INFO: Query finished. [astroquery.utils.tap.core]\n",
      "INFO: Query finished. [astroquery.utils.tap.core]\n",
      "Star not found in catalog APASS.\n",
      "Looking online for archival magnitudes for star 5976041513112049920\n",
      "Checking catalog Gaia DR3\n",
      "Checking catalog 2MASS\n",
      "Warning!: CatalogWarning\n",
      "Warning message: Catalog 2MASS_J entry is either an extended source, is of bad quality or is contaminated. Skipping.\n",
      "Warning!: CatalogWarning\n",
      "Warning message: Catalog 2MASS_H entry is either an extended source, is of bad quality or is contaminated. Skipping.\n",
      "Warning!: CatalogWarning\n",
      "Warning message: Catalog 2MASS_Ks entry is either an extended source, is of bad quality or is contaminated. Skipping.\n",
      "Checking catalog GLIMPSE\n",
      "Warning!: CatalogWarning\n",
      "Warning message: Star is not available in catalog GALEX. Skipping\n",
      "Checking catalog TICv8\n",
      "Warning!: CatalogWarning\n",
      "Warning message: Star is not available in catalog SkyMapper. Skipping\n",
      "Warning!: CatalogWarning\n",
      "Warning message: Star is not available in catalog STROMGREN_PAUNZ. Skipping\n",
      "Warning!: CatalogWarning\n",
      "Warning message: Star is not available in catalog STROMGREN_HAUCK. Skipping\n",
      "Warning!: CatalogWarning\n",
      "Warning message: Star is not available in catalog MERMILLIOD. Skipping\n",
      "\t\t\tGaia DR3 ID : 5976041513112049920\n",
      "\t\t\tTIC : 159482777\n",
      "\t\t\tGaia Effective temperature : 0.000 +/- 0.000\n",
      "\t\t\tGaia Stellar radius : 0.000 +/- 0.000\n",
      "\t\t\tGaia Stellar Luminosity : 0.000 +/- 0.000\n",
      "\t\t\tGaia Parallax : 0.654 +/- 0.215\n",
      "\t\t\tBailer-Jones distance : 2050.271 +/- 769.507\n",
      "\t\t\tMaximum Av : 21.695\n",
      "\n",
      "\t\t       Filter       \tMagnitude\tUncertainty\n",
      "\t\t--------------------\t---------\t-----------\n",
      "\t\t    GaiaDR2v2_BP    \t 20.6100 \t  0.1118   \n",
      "\t\t    GaiaDR2v2_G     \t 18.5553 \t  0.0045   \n",
      "\t\t    GaiaDR2v2_RP    \t 17.0332 \t  0.0146   \n",
      "\t\t        TESS        \t 17.2722 \t  0.0352   \n",
      "\t\t  SPITZER_IRAC_36   \t 11.5200 \t  0.2070   \n",
      "\t\t  SPITZER_IRAC_45   \t 11.6510 \t  0.2540   \n",
      "\n"
     ]
    }
   ],
   "source": [
    "gaia_id = 5976041513112049920\n",
    "ra = 261.4736447\n",
    "dec = -34.2820653\n",
    "starname = str(gaia_id)\n",
    "s = Star(starname, ra, dec, g_id = gaia_id, dustmap='Planck16')"
   ]
  },
  {
   "cell_type": "code",
   "execution_count": 3,
   "metadata": {},
   "outputs": [
    {
     "name": "stdout",
     "output_type": "stream",
     "text": [
      "Created the directory ariadnefit\n",
      "\n",
      "\t\t*** EXECUTING MAIN FITTING ROUTINE ***\n",
      "\t\t\tSelected engine : Bayesian Model Averaging\n",
      "\t\t\tLive points : 500\n",
      "\t\t\tlog Evidence tolerance : 0.5\n",
      "\t\t\tFree parameters : 12\n",
      "\t\t\tBounding : multi\n",
      "\t\t\tSampling : rwalk\n",
      "\t\t\tN threads : 4\n",
      "\n"
     ]
    }
   ],
   "source": [
    "out_folder = 'ariadnefit'\n",
    "\n",
    "engine = 'dynesty'\n",
    "nlive = 500\n",
    "dlogz = 0.5\n",
    "bound = 'multi'\n",
    "sample = 'rwalk'\n",
    "threads = 4\n",
    "dynamic = False\n",
    "setup = [engine, nlive, dlogz, bound, sample, threads, dynamic]\n",
    "\n",
    "models = ['phoenix','btsettl','btnextgen','btcond','kurucz','ck04']\n",
    "f = Fitter()\n",
    "f.star = s\n",
    "f.setup = setup\n",
    "f.av_law = 'fitzpatrick'\n",
    "f.out_folder = out_folder\n",
    "f.bma = True\n",
    "f.models = models\n",
    "f.n_samples = 100000\n",
    "\n",
    "f.prior_setup = {'teff': ('default'),'logg': ('default'),'z': ('default'),'dist': ('default'),'rad': ('default'),'Av': ('default')}\n",
    "f.initialize()\n"
   ]
  },
  {
   "cell_type": "code",
   "execution_count": 4,
   "metadata": {},
   "outputs": [
    {
     "name": "stdout",
     "output_type": "stream",
     "text": [
      "\t\t\tFITTING MODEL : phoenix\n"
     ]
    },
    {
     "name": "stderr",
     "output_type": "stream",
     "text": [
      "6672it [02:03, 53.82it/s, +500 | bound: 66 | nc: 1 | ncall: 141059 | eff(%):  5.102 | loglstar:   -inf < 168.276 <    inf | logz: 155.492 +/-  0.161 | dlogz:  0.001 >  0.500] \n"
     ]
    },
    {
     "name": "stdout",
     "output_type": "stream",
     "text": [
      "\t\t\tFITTING MODEL : btsettl\n"
     ]
    },
    {
     "name": "stderr",
     "output_type": "stream",
     "text": [
      "6484it [01:57, 55.30it/s, +500 | bound: 64 | nc: 1 | ncall: 136480 | eff(%):  5.136 | loglstar:   -inf < 168.080 <    inf | logz: 155.719 +/-    nan | dlogz:  0.001 >  0.500] \n"
     ]
    },
    {
     "name": "stdout",
     "output_type": "stream",
     "text": [
      "\t\t\tFITTING MODEL : btnextgen\n"
     ]
    },
    {
     "name": "stderr",
     "output_type": "stream",
     "text": [
      "6677it [02:04, 53.73it/s, +500 | bound: 67 | nc: 1 | ncall: 141564 | eff(%):  5.088 | loglstar:   -inf < 167.986 <    inf | logz: 155.206 +/-    nan | dlogz:  0.001 >  0.500]  \n"
     ]
    },
    {
     "name": "stdout",
     "output_type": "stream",
     "text": [
      "\t\t\tFITTING MODEL : btcond\n"
     ]
    },
    {
     "name": "stderr",
     "output_type": "stream",
     "text": [
      "7136it [02:10, 54.50it/s, +500 | bound: 73 | nc: 1 | ncall: 152166 | eff(%):  5.035 | loglstar:   -inf < 169.880 <    inf | logz: 156.117 +/-    nan | dlogz:  0.001 >  0.500]  \n"
     ]
    },
    {
     "name": "stdout",
     "output_type": "stream",
     "text": [
      "\t\t*** AVERAGING POSTERIOR SAMPLES ***\n"
     ]
    },
    {
     "name": "stderr",
     "output_type": "stream",
     "text": [
      "100%|██████████| 16/16 [00:00<00:00, 42.20it/s]\n"
     ]
    },
    {
     "name": "stdout",
     "output_type": "stream",
     "text": [
      "\t\t*** ESTIMATING AGE AND MASS USING MIST ISOCHRONES ***\n"
     ]
    },
    {
     "name": "stderr",
     "output_type": "stream",
     "text": [
      "11432it [00:52, 217.30it/s, +500 | bound: 132 | nc: 1 | ncall: 299410 | eff(%):  3.992 | loglstar:   -inf < -14.791 <    inf | logz: -33.249 +/-  7.462 | dlogz:  0.000 >  0.010]\n"
     ]
    },
    {
     "name": "stdout",
     "output_type": "stream",
     "text": [
      "\n",
      "\t\t\tFitting finished.\n",
      "\t\t\tBest fit parameters are:\n",
      "\t\t\tteff : 4692.5345 + 858.6202 - 462.3340 [3767.8666, 6579.6118]\n",
      "\t\t\tlogg : 4.4643 + 0.5641 - 0.3927 [3.5861, 5.7139]\n",
      "\t\t\t[Fe/H] : -0.1389 + 0.1656 - 0.1893 [-0.7135, 0.2970]\n",
      "\t\t\tdist : 4392.3517 + 1270.7329 - 1155.2118 [2351.4776, 8108.2828]\n",
      "\t\t\trad : 4.9818 + 2.1075 - 1.3795 [2.2611, 13.7185]\n",
      "\t\t\tAv : 4.1096 + 0.8752 - 0.8341 [2.0447, 6.1197]\n",
      "\t\t\tAngular Diameter : 0.0101 + 0.0059 - 0.0034 [0.0037, 0.0331]\n",
      "\t\t\tGrav mass : 17.9791 + 58.2517 - 10.5912 [2.0923, 642.8607]\n",
      "\t\t\tLuminosity : 10.2489 + 15.1593 - 5.9555 [1.5864, 108.2433]\n",
      "\t\t\tIso mass : 0.7848 + 0.3244 - 0.1836 [0.2891, 2.1191]\n",
      "\t\t\tAge (Gyr) : 0.8571 + 10.1480 - 0.8569 [0.0001, 13.4406]\n",
      "\t\t\tEEP : 340.5283 + 90.1214 - 74.3859 [74.4557, 502.1746]\n",
      "\t\t\tExcess BP noise : 0.6396 + 0.6648 - 0.3835 [0.0515, 2.5998]\n",
      "\t\t\tExcess G noise : 0.0356 + 0.0250 - 0.0160 [0.0043, 0.1109]\n",
      "\t\t\tExcess RP noise : 0.1078 + 0.0933 - 0.0539 [0.0131, 0.4060]\n",
      "\t\t\tExcess TESS noise : 0.3291 + 0.1696 - 0.1404 [0.0279, 0.9023]\n",
      "\t\t\tExcess IRAC 36 noise : 1.4032 + 0.8856 - 0.5704 [0.3675, 4.8554]\n",
      "\t\t\tExcess IRAC 45 noise : 1.5906 + 1.0484 - 0.6621 [0.3031, 5.8026]\n",
      "\t\t\tMamajek Spectral Type : K3.5V\n",
      "\t\t\tphoenix probability : 0.2053\n",
      "\t\t\tbtsettl probability : 0.2573\n",
      "\t\t\tbtnextgen probability : 0.1541\n",
      "\t\t\tbtcond probability : 0.3833\n",
      "\t\t\tElapsed time : 10 minutes and 16.60 seconds\n"
     ]
    }
   ],
   "source": [
    "f.fit_bma()"
   ]
  },
  {
   "cell_type": "code",
   "execution_count": 1,
   "metadata": {},
   "outputs": [
    {
     "name": "stdout",
     "output_type": "stream",
     "text": [
      "L_X / L_Bol:  0.0016099288704153616 -2.793193311464121\n"
     ]
    }
   ],
   "source": [
    "import numpy as np\n",
    "\n",
    "Lbol_sun = 4 * 10**33\n",
    "L_bol = Lbol_sun * 10.2489\n",
    "L_x = 6.6*10**31\n",
    "\n",
    "print(\"L_X / L_Bol: \",L_x/L_bol,np.log10(L_x/L_bol))"
   ]
  }
 ],
 "metadata": {
  "kernelspec": {
   "display_name": "Python 3 (ipykernel)",
   "language": "python",
   "name": "python3"
  },
  "language_info": {
   "codemirror_mode": {
    "name": "ipython",
    "version": 3
   },
   "file_extension": ".py",
   "mimetype": "text/x-python",
   "name": "python",
   "nbconvert_exporter": "python",
   "pygments_lexer": "ipython3",
   "version": "3.8.10"
  }
 },
 "nbformat": 4,
 "nbformat_minor": 4
}
