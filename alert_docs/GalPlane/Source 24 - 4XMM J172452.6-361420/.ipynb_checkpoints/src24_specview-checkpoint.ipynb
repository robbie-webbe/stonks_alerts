{
 "cells": [
  {
   "cell_type": "code",
   "execution_count": 1,
   "metadata": {},
   "outputs": [],
   "source": [
    "%load_ext wurlitzer\n",
    "import glob\n",
    "import os\n",
    "from xspec import *\n",
    "from stingray import Lightcurve\n",
    "from astropy.io import fits\n",
    "import matplotlib.pyplot as plt\n",
    "plt.rcParams['figure.figsize'] = [12,8]\n",
    "\n",
    "Fit.statMethod = \"chi\"\n",
    "Fit.nIterations = 100000\n",
    "Fit.delta = 1e-4\n",
    "Fit.criticalDelta = 1e-4"
   ]
  },
  {
   "cell_type": "code",
   "execution_count": 2,
   "metadata": {},
   "outputs": [],
   "source": [
    "import numpy as np\n",
    "out_arr = np.full((4,19),-np.inf,dtype=object)"
   ]
  },
  {
   "cell_type": "code",
   "execution_count": 3,
   "metadata": {},
   "outputs": [
    {
     "name": "stdout",
     "output_type": "stream",
     "text": [
      "***Warning: Detected response matrix energy bin value = 0 (or neg).\n",
      "     XSPEC will instead use small finite value (response file will not be altered).\n",
      "\n",
      "1 spectrum  in use\n",
      " \n",
      "Spectral Data File: 0886070601_M225grpspec.fits  Spectrum 1\n",
      "Net count rate (cts/s) for Spectrum:1  1.958e-03 +/- 3.639e-04 (61.5 % total)\n",
      " Assigned to Data Group 1 and Plot Group 1\n",
      "  Noticed Channels:  1-5\n",
      "  Telescope: XMM Instrument: EMOS2  Channel Type: PI\n",
      "  Exposure Time: 2.636e+04 sec\n",
      " Using fit statistic: chi\n",
      " Using Background File                0886070601_M225spec_bkg.fits\n",
      "  Background Exposure Time: 2.636e+04 sec\n",
      " Using Response (RMF) File            0886070601_M225spec.rmf for Source 1\n",
      " Using Auxiliary Response (ARF) File  0886070601_M225spec.arf\n",
      "\n"
     ]
    },
    {
     "data": {
      "image/svg+xml": [
       "<svg xmlns=\"http://www.w3.org/2000/svg\" xmlns:xlink=\"http://www.w3.org/1999/xlink\" style=\"fill-rule: nonzero; stroke-linecap: round; stroke-linejoin: round; transform: scale(1,-1);\" version=\"1.1\" viewbox=\"          225.691238            27.140120          7374.125488          5618.850098\" width=\"100%\" height=\"100%\" preserveAspectRatio=\"xMidYMid\">\n",
       "<style>\n",
       "  .fn { font-family: Arial,Helvetica,sans-serif; }\n",
       "  .fN { font-family: Arial,Helvetica,sans-serif; font-weight: bold;}\n",
       "  .fr { font-family: Times,Times-Roman,Times New Roman,serif; }\n",
       "  .fR { font-family: Times,Times-Roman,Times New Roman,serif; font-weight: bold;}\n",
       "  .fi { font-family: Times,Times-Roman,Times New Roman,serif; font-style: italic;}\n",
       "  .fI { font-family: Times,Times-Roman,Times New Roman,serif; font-style: italic; font-weight: bold;}\n",
       "  .fs { font-family: Zapf-Chancery,Apple Chancery,URW Chancery L,cursive;}\n",
       "  .fS { font-family: Zapf-Chancery,Apple Chancery,URW Chancery L,cursive;font-weight:bold}\n",
       "  .fc { font-family: Arial Narrow,Helvetica Narrow,Arial,Helvetica,sans-serif;}\n",
       "  .fC { font-family: Arial Narrow,Helvetica Narrow,Arial,Helvetica,sans-serif; font-weight:bold;}\n",
       "</style>\n",
       "<g style=\"color: rgb(0, 0, 0); fill: currentColor; stroke: currentColor; stroke-width: 8\">\n",
       "\n",
       "<path fill=\"none\" d=\"M 742 576 l 5935 0 l 0 4607 l -5935 0 l 0 -4607 M 1529 576 l 0 33 M 2063 576 l 0 33 M 2441 576 l 0 33  M 2735 576 l 0 33 M 2975 576 l 0 33 M 3178 576 l 0 33 M 3354 576 l 0 33 M 3509 576 l 0 33 M 3647 576 l 0 66  M 4560 576 l 0 33 M 5094 576 l 0 33 M 5472 576 l 0 33 M 5766 576 l 0 33 M 6006 576 l 0 33 M 6209 576 l 0 33  M 6385 576 l 0 33 M 6540 576 l 0 33 M 1529 5150 l 0 33 M 2063 5150 l 0 33 M 2441 5150 l 0 33 M 2735 5150 l 0 33  M 2975 5150 l 0 33 M 3178 5150 l 0 33 M 3354 5150 l 0 33 M 3509 5150 l 0 33 M 3647 5117 l 0 66 M 4560 5150 l 0 33  M 5094 5150 l 0 33 M 5472 5150 l 0 33 M 5766 5150 l 0 33 M 6006 5150 l 0 33 M 6209 5150 l 0 33 M 6385 5150 l 0 33  M 6540 5150 l 0 33 \"/>\n",
       "<text transform=\"translate(3603,403) scale(1,-1)\"><tspan class=\"fn\" style=\"font-size: 886%;\">1</tspan></text>\n",
       "<text transform=\"translate(1417,403) scale(1,-1)\"><tspan class=\"fn\" style=\"font-size: 886%;\">0.2</tspan></text>\n",
       "<text transform=\"translate(2623,403) scale(1,-1)\"><tspan class=\"fn\" style=\"font-size: 886%;\">0.5</tspan></text>\n",
       "<text transform=\"translate(4515,403) scale(1,-1)\"><tspan class=\"fn\" style=\"font-size: 886%;\">2</tspan></text>\n",
       "<text transform=\"translate(5721,403) scale(1,-1)\"><tspan class=\"fn\" style=\"font-size: 886%;\">5</tspan></text>\n",
       "\n",
       "<path fill=\"none\" d=\"M 742 576 l 66 0 M 742 1090 l 33 0 M 742 1390 l 33 0 M 742 1604 l 33 0 M 742 1769 l 33 0 M 742 1904 l 33 0  M 742 2019 l 33 0 M 742 2117 l 33 0 M 742 2205 l 33 0 M 742 2283 l 66 0 M 742 2797 l 33 0 M 742 3097 l 33 0  M 742 3311 l 33 0 M 742 3476 l 33 0 M 742 3611 l 33 0 M 742 3726 l 33 0 M 742 3825 l 33 0 M 742 3912 l 33 0  M 742 3990 l 66 0 M 742 4504 l 33 0 M 742 4804 l 33 0 M 742 5018 l 33 0 M 742 5183 l 33 0 M 6611 576 l 66 0  M 6644 1090 l 33 0 M 6644 1390 l 33 0 M 6644 1604 l 33 0 M 6644 1769 l 33 0 M 6644 1904 l 33 0 M 6644 2019 l 33 0  M 6644 2117 l 33 0 M 6644 2205 l 33 0 M 6611 2283 l 66 0 M 6644 2797 l 33 0 M 6644 3097 l 33 0 M 6644 3311 l 33 0  M 6644 3476 l 33 0 M 6644 3611 l 33 0 M 6644 3726 l 33 0 M 6644 3825 l 33 0 M 6644 3912 l 33 0 M 6611 3990 l 66 0  M 6644 4504 l 33 0 M 6644 4804 l 33 0 M 6644 5018 l 33 0 M 6644 5183 l 33 0 \"/>\n",
       "<text transform=\"translate(641,432) scale(1,-1) rotate(-90)\"><tspan class=\"fn\" style=\"font-size: 886%;\">10<tspan style=\"font-size: 60%;\" dy=\"-0.6em\">−5<tspan style=\"font-size: 166.667%;\" dy=\"+0.36em\"/></tspan></tspan></text>\n",
       "<text transform=\"translate(641,2139) scale(1,-1) rotate(-90)\"><tspan class=\"fn\" style=\"font-size: 886%;\">10<tspan style=\"font-size: 60%;\" dy=\"-0.6em\">−4<tspan style=\"font-size: 166.667%;\" dy=\"+0.36em\"/></tspan></tspan></text>\n",
       "<text transform=\"translate(641,3846) scale(1,-1) rotate(-90)\"><tspan class=\"fn\" style=\"font-size: 886%;\">10<tspan style=\"font-size: 60%;\" dy=\"-0.6em\">−3<tspan style=\"font-size: 166.667%;\" dy=\"+0.36em\"/></tspan></tspan></text>\n",
       "</g>\n",
       "<g style=\"color: rgb(0, 0, 0); fill: currentColor; stroke: currentColor; stroke-width: 4\">\n",
       "<defs>\n",
       "<symbol id=\"M1\" overflow=\"visible\">\n",
       "<circle r=\"1\" fill=\"none\" stroke-width=\"1\"/>\n",
       "</symbol>\n",
       "</defs>\n",
       "<use xlink:href=\"#M1\" transform=\"translate(2722, 3432) scale(4.430)\"/>\n",
       "\n",
       "<path fill=\"none\" d=\"M 742 3432 l 2737 0 M 2722 3025 l 0 668 \"/>\n",
       "<use xlink:href=\"#M1\" transform=\"translate(3718, 4300) scale(4.430)\"/>\n",
       "\n",
       "<path fill=\"none\" d=\"M 3479 4300 l 441 0 M 3718 4058 l 0 424 \"/>\n",
       "<use xlink:href=\"#M1\" transform=\"translate(4179, 3622) scale(4.430)\"/>\n",
       "\n",
       "<path fill=\"none\" d=\"M 3920 3622 l 475 0 M 4179 3120 l 0 799 \"/>\n",
       "<use xlink:href=\"#M1\" transform=\"translate(4769, 3184) scale(4.430)\"/>\n",
       "\n",
       "<path fill=\"none\" d=\"M 4395 3184 l 665 0 M 4769 2817 l 0 611 \"/>\n",
       "<use xlink:href=\"#M1\" transform=\"translate(6103, 1757) scale(4.430)\"/>\n",
       "\n",
       "<path fill=\"none\" d=\"M 5060 1757 l 1617 0 M 6103 1146 l 0 941 \"/>\n",
       "</g>\n",
       "<g style=\"color: rgb(0, 0, 0); fill: currentColor; stroke: currentColor; stroke-width: 8\">\n",
       "<text transform=\"translate(370,2317) scale(1,-1) rotate(-90)\"><tspan class=\"fn\" style=\"font-size: 886%;\">counts s<tspan style=\"font-size: 60%;\" dy=\"-0.6em\">−1<tspan style=\"font-size: 166.667%;\" dy=\"+0.36em\"> keV<tspan style=\"font-size: 60%;\" dy=\"-0.6em\">−1<tspan style=\"font-size: 166.667%;\" dy=\"+0.36em\"/></tspan></tspan></tspan></tspan></text>\n",
       "<text transform=\"translate(3255,215) scale(1,-1)\"><tspan class=\"fn\" style=\"font-size: 886%;\">Energy (keV)</tspan></text>\n",
       "<text transform=\"translate(3534,5442) scale(1,-1)\"><tspan class=\"fn\" style=\"font-size: 886%;\"><tspan class=\"fR\">data</tspan></tspan></text>\n",
       "</g>\n",
       "<g style=\"color: rgb(0, 0, 0); fill: currentColor; stroke: currentColor; stroke-width: 4\">\n",
       "<text transform=\"translate(6246,46) scale(1,-1)\"><tspan class=\"fn\" style=\"font-size: 531.6%;\">rwebbe  3−Sep−2025 09:53</tspan></text>\n",
       "</g>\n",
       "<!-- _PGPLOT_SVG_ATEND: viewbox=\"          225.691238            27.140120          7374.125488          5618.850098\" -->\n",
       "</svg>"
      ],
      "text/plain": [
       "<IPython.core.display.SVG object>"
      ]
     },
     "metadata": {},
     "output_type": "display_data"
    },
    {
     "name": "stdout",
     "output_type": "stream",
     "text": [
      "     1 channels (1) ignored in spectrum #     1\n",
      "      No channels ignored (no channels in specified range)\n",
      "\n"
     ]
    }
   ],
   "source": [
    "spec_fnames = glob.glob('*grpspec*')\n",
    "\n",
    "spec = Spectrum(spec_fnames[0])\n",
    "Plot.device=\"/svg\"\n",
    "Plot.xAxis=\"keV\"\n",
    "Plot.xLog=True\n",
    "Plot.yLog=True\n",
    "Plot.addCommand(\"Rescale Y 0.00001 0.005\")\n",
    "Plot(\"data\")\n",
    "spec.ignore(\"**-0.2 12.0-**\")"
   ]
  },
  {
   "cell_type": "code",
   "execution_count": 4,
   "metadata": {
    "scrolled": false
   },
   "outputs": [
    {
     "data": {
      "image/svg+xml": [
       "<svg xmlns=\"http://www.w3.org/2000/svg\" xmlns:xlink=\"http://www.w3.org/1999/xlink\" style=\"fill-rule: nonzero; stroke-linecap: round; stroke-linejoin: round; transform: scale(1,-1);\" version=\"1.1\" viewbox=\"           -8.104305            27.140120          7607.921387          5564.965820\" width=\"100%\" height=\"100%\" preserveAspectRatio=\"xMidYMid\">\n",
       "<style>\n",
       "  .fn { font-family: Arial,Helvetica,sans-serif; }\n",
       "  .fN { font-family: Arial,Helvetica,sans-serif; font-weight: bold;}\n",
       "  .fr { font-family: Times,Times-Roman,Times New Roman,serif; }\n",
       "  .fR { font-family: Times,Times-Roman,Times New Roman,serif; font-weight: bold;}\n",
       "  .fi { font-family: Times,Times-Roman,Times New Roman,serif; font-style: italic;}\n",
       "  .fI { font-family: Times,Times-Roman,Times New Roman,serif; font-style: italic; font-weight: bold;}\n",
       "  .fs { font-family: Zapf-Chancery,Apple Chancery,URW Chancery L,cursive;}\n",
       "  .fS { font-family: Zapf-Chancery,Apple Chancery,URW Chancery L,cursive;font-weight:bold}\n",
       "  .fc { font-family: Arial Narrow,Helvetica Narrow,Arial,Helvetica,sans-serif;}\n",
       "  .fC { font-family: Arial Narrow,Helvetica Narrow,Arial,Helvetica,sans-serif; font-weight:bold;}\n",
       "</style>\n",
       "<g style=\"color: rgb(0, 0, 0); fill: currentColor; stroke: currentColor; stroke-width: 8\">\n",
       "\n",
       "<path fill=\"none\" d=\"M 742 2304 l 5935 0 l 0 2879 l -5935 0 l 0 -2879 M 797 2304 l 0 28 M 1054 2304 l 0 56 M 2748 2304 l 0 28  M 3738 2304 l 0 28 M 4441 2304 l 0 28 M 4986 2304 l 0 28 M 5432 2304 l 0 28 M 5808 2304 l 0 28 M 6134 2304 l 0 28  M 6422 2304 l 0 28 M 797 5155 l 0 28 M 1054 5127 l 0 56 M 2748 5155 l 0 28 M 3738 5155 l 0 28 M 4441 5155 l 0 28  M 4986 5155 l 0 28 M 5432 5155 l 0 28 M 5808 5155 l 0 28 M 6134 5155 l 0 28 M 6422 5155 l 0 28 M 742 2304 l 56 0  M 742 2625 l 28 0 M 742 2813 l 28 0 M 742 2946 l 28 0 M 742 3049 l 28 0 M 742 3134 l 28 0 M 742 3205 l 28 0  M 742 3267 l 28 0 M 742 3322 l 28 0 M 742 3370 l 56 0 M 742 3692 l 28 0 M 742 3880 l 28 0 M 742 4013 l 28 0  M 742 4116 l 28 0 M 742 4201 l 28 0 M 742 4272 l 28 0 M 742 4334 l 28 0 M 742 4389 l 28 0 M 742 4437 l 56 0  M 742 4759 l 28 0 M 742 4946 l 28 0 M 742 5080 l 28 0 M 742 5183 l 28 0 M 6621 2304 l 56 0 M 6649 2625 l 28 0  M 6649 2813 l 28 0 M 6649 2946 l 28 0 M 6649 3049 l 28 0 M 6649 3134 l 28 0 M 6649 3205 l 28 0 M 6649 3267 l 28 0  M 6649 3322 l 28 0 M 6621 3370 l 56 0 M 6649 3692 l 28 0 M 6649 3880 l 28 0 M 6649 4013 l 28 0 M 6649 4116 l 28 0  M 6649 4201 l 28 0 M 6649 4272 l 28 0 M 6649 4334 l 28 0 M 6649 4389 l 28 0 M 6621 4437 l 56 0 M 6649 4759 l 28 0  M 6649 4946 l 28 0 M 6649 5080 l 28 0 M 6649 5183 l 28 0 \"/>\n",
       "<text transform=\"translate(412,2266) scale(1,-1)\"><tspan class=\"fn\" style=\"font-size: 753.1%;\">10<tspan style=\"font-size: 60%;\" dy=\"-0.6em\">−5<tspan style=\"font-size: 166.667%;\" dy=\"+0.36em\"/></tspan></tspan></text>\n",
       "<text transform=\"translate(412,3333) scale(1,-1)\"><tspan class=\"fn\" style=\"font-size: 753.1%;\">10<tspan style=\"font-size: 60%;\" dy=\"-0.6em\">−4<tspan style=\"font-size: 166.667%;\" dy=\"+0.36em\"/></tspan></tspan></text>\n",
       "<text transform=\"translate(412,4400) scale(1,-1)\"><tspan class=\"fn\" style=\"font-size: 753.1%;\">10<tspan style=\"font-size: 60%;\" dy=\"-0.6em\">−3<tspan style=\"font-size: 166.667%;\" dy=\"+0.36em\"/></tspan></tspan></text>\n",
       "</g>\n",
       "<g style=\"color: rgb(0, 0, 0); fill: currentColor; stroke: currentColor; stroke-width: 4\">\n",
       "<defs>\n",
       "<symbol id=\"M1\" overflow=\"visible\">\n",
       "<circle r=\"1\" fill=\"none\" stroke-width=\"1\"/>\n",
       "</symbol>\n",
       "</defs>\n",
       "<use xlink:href=\"#M1\" transform=\"translate(1185, 4631) scale(4.430)\"/>\n",
       "\n",
       "<path fill=\"none\" d=\"M 742 4631 l 818 0 M 1185 4480 l 0 265 \"/>\n",
       "<use xlink:href=\"#M1\" transform=\"translate(2041, 4207) scale(4.430)\"/>\n",
       "\n",
       "<path fill=\"none\" d=\"M 1560 4207 l 882 0 M 2041 3894 l 0 499 \"/>\n",
       "<use xlink:href=\"#M1\" transform=\"translate(3136, 3933) scale(4.430)\"/>\n",
       "\n",
       "<path fill=\"none\" d=\"M 2442 3933 l 1234 0 M 3136 3704 l 0 382 \"/>\n",
       "<use xlink:href=\"#M1\" transform=\"translate(5611, 3042) scale(4.430)\"/>\n",
       "\n",
       "<path fill=\"none\" d=\"M 3676 3042 l 3001 0 M 5611 2660 l 0 588 \"/>\n",
       "</g>\n",
       "<g style=\"color: rgb(0, 0, 0); fill: currentColor; stroke: currentColor; stroke-width: 8\">\n",
       "\n",
       "<path fill=\"none\" d=\"M 742 4335 l 818 0 l 0 62 l 882 0 l 0 -413 l 1234 0 l 0 -1274 l 3001 0 M 742 4335 l 818 0 M 1185 4335 l 0 0  M 1560 4397 l 882 0 M 2041 4397 l 0 0 M 2442 3984 l 1234 0 M 3136 3984 l 0 0 M 3676 2710 l 3001 0 M 5611 2710 l 0 0  \"/>\n",
       "<text transform=\"translate(111,3265) scale(1,-1) rotate(-90)\"><tspan class=\"fn\" style=\"font-size: 753.1%;\">counts s<tspan style=\"font-size: 60%;\" dy=\"-0.6em\">−1<tspan style=\"font-size: 166.667%;\" dy=\"+0.36em\"> keV<tspan style=\"font-size: 60%;\" dy=\"-0.6em\">−1<tspan style=\"font-size: 166.667%;\" dy=\"+0.36em\"/></tspan></tspan></tspan></tspan></text>\n",
       "<text transform=\"translate(2971,5403) scale(1,-1)\"><tspan class=\"fn\" style=\"font-size: 753.1%;\"><tspan class=\"fR\">data and folded model</tspan></tspan></text>\n",
       "\n",
       "<path fill=\"none\" d=\"M 742 576 l 5935 0 l 0 1728 l -5935 0 l 0 -1728 M 797 576 l 0 28 M 1054 576 l 0 56 M 2748 576 l 0 28  M 3738 576 l 0 28 M 4441 576 l 0 28 M 4986 576 l 0 28 M 5432 576 l 0 28 M 5808 576 l 0 28 M 6134 576 l 0 28  M 6422 576 l 0 28 M 797 2275 l 0 29 M 1054 2247 l 0 57 M 2748 2275 l 0 29 M 3738 2275 l 0 29 M 4441 2275 l 0 29  M 4986 2275 l 0 29 M 5432 2275 l 0 29 M 5808 2275 l 0 29 M 6134 2275 l 0 29 M 6422 2275 l 0 29 \"/>\n",
       "<text transform=\"translate(1016,429) scale(1,-1)\"><tspan class=\"fn\" style=\"font-size: 753.1%;\">1</tspan></text>\n",
       "<text transform=\"translate(2709,429) scale(1,-1)\"><tspan class=\"fn\" style=\"font-size: 753.1%;\">2</tspan></text>\n",
       "<text transform=\"translate(4948,429) scale(1,-1)\"><tspan class=\"fn\" style=\"font-size: 753.1%;\">5</tspan></text>\n",
       "\n",
       "<path fill=\"none\" d=\"M 742 631 l 28 0 M 742 791 l 28 0 M 742 952 l 28 0 M 742 1112 l 56 0 M 742 1273 l 28 0 M 742 1433 l 28 0  M 742 1594 l 28 0 M 742 1754 l 28 0 M 742 1914 l 56 0 M 742 2075 l 28 0 M 742 2235 l 28 0 M 6649 631 l 28 0  M 6649 791 l 28 0 M 6649 952 l 28 0 M 6621 1112 l 56 0 M 6649 1273 l 28 0 M 6649 1433 l 28 0 M 6649 1594 l 28 0  M 6649 1754 l 28 0 M 6621 1914 l 56 0 M 6649 2075 l 28 0 M 6649 2235 l 28 0 \"/>\n",
       "<text transform=\"translate(580,1075) scale(1,-1)\"><tspan class=\"fn\" style=\"font-size: 753.1%;\">0</tspan></text>\n",
       "<text transform=\"translate(240,1877) scale(1,-1)\"><tspan class=\"fn\" style=\"font-size: 753.1%;\">5×10<tspan style=\"font-size: 60%;\" dy=\"-0.6em\">−4<tspan style=\"font-size: 166.667%;\" dy=\"+0.36em\"/></tspan></tspan></text>\n",
       "</g>\n",
       "<g style=\"color: rgb(0, 0, 0); fill: currentColor; stroke: currentColor; stroke-width: 4\">\n",
       "<use xlink:href=\"#M1\" transform=\"translate(1185, 2262) scale(4.430)\"/>\n",
       "\n",
       "<path fill=\"none\" d=\"M 742 2262 l 818 0 M 1185 1584 l 0 720 \"/>\n",
       "<use xlink:href=\"#M1\" transform=\"translate(2041, 617) scale(4.430)\"/>\n",
       "\n",
       "<path fill=\"none\" d=\"M 1560 617 l 882 0 M 2041 576 l 0 521 \"/>\n",
       "<use xlink:href=\"#M1\" transform=\"translate(3136, 1050) scale(4.430)\"/>\n",
       "\n",
       "<path fill=\"none\" d=\"M 2442 1050 l 1234 0 M 3136 839 l 0 422 \"/>\n",
       "<use xlink:href=\"#M1\" transform=\"translate(5611, 1153) scale(4.430)\"/>\n",
       "\n",
       "<path fill=\"none\" d=\"M 3676 1153 l 3001 0 M 5611 1108 l 0 89 \"/>\n",
       "</g>\n",
       "<g style=\"color: rgb(0, 0, 0); fill: currentColor; stroke: currentColor; stroke-width: 8\">\n",
       "<text transform=\"translate(111,962) scale(1,-1) rotate(-90)\"><tspan class=\"fn\" style=\"font-size: 753.1%;\">counts s<tspan style=\"font-size: 60%;\" dy=\"-0.6em\">−1<tspan style=\"font-size: 166.667%;\" dy=\"+0.36em\"> keV<tspan style=\"font-size: 60%;\" dy=\"-0.6em\">−1<tspan style=\"font-size: 166.667%;\" dy=\"+0.36em\"/></tspan></tspan></tspan></tspan></text>\n",
       "<text transform=\"translate(3323,269) scale(1,-1)\"><tspan class=\"fn\" style=\"font-size: 753.1%;\">Energy (keV)</tspan></text>\n",
       "</g>\n",
       "<g style=\"color: rgb(0, 255, 0); fill: currentColor; stroke: currentColor; stroke-width: 8\">\n",
       "\n",
       "<path fill=\"none\" d=\"M 742 1112 l 5935 0 \"/>\n",
       "</g>\n",
       "<g style=\"color: rgb(0, 0, 0); fill: currentColor; stroke: currentColor; stroke-width: 4\">\n",
       "<text transform=\"translate(6246,46) scale(1,-1)\"><tspan class=\"fn\" style=\"font-size: 531.6%;\">rwebbe  3−Sep−2025 09:53</tspan></text>\n",
       "</g>\n",
       "<!-- _PGPLOT_SVG_ATEND: viewbox=\"           -8.104305            27.140120          7607.921387          5564.965820\" -->\n",
       "</svg>"
      ],
      "text/plain": [
       "<IPython.core.display.SVG object>"
      ]
     },
     "metadata": {},
     "output_type": "display_data"
    },
    {
     "name": "stdout",
     "output_type": "stream",
     "text": [
      "\n",
      "========================================================================\n",
      "Model TBabs<1>*bbody<2> Source No.: 1   Active/On\n",
      "Model Model Component  Parameter  Unit     Value\n",
      " par  comp\n",
      "   1    1   TBabs      nH         10^22    1.00000      +/-  0.0          \n",
      "   2    2   bbody      kT         keV      3.00000      +/-  0.0          \n",
      "   3    2   bbody      norm                1.00000      +/-  0.0          \n",
      "________________________________________________________________________\n",
      "\n",
      "tbvabs Version 2.3\n",
      "Cosmic absorption with grains and H2, modified from\n",
      "Wilms, Allen, & McCray, 2000, ApJ 542, 914-924\n",
      "Questions: Joern Wilms\n",
      "joern.wilms@sternwarte.uni-erlangen.de\n",
      "joern.wilms@fau.de\n",
      "\n",
      "http://pulsar.sternwarte.uni-erlangen.de/wilms/research/tbabs/\n",
      "\n",
      "PLEASE NOTICE:\n",
      "To get the model described by the above paper\n",
      "you will also have to set the abundances:\n",
      "   abund wilm\n",
      "\n",
      "Note that this routine ignores the current cross section setting\n",
      "as it always HAS to use the Verner cross sections as a baseline.\n",
      "\n",
      "Fit statistic  : Chi-Squared              6.654989e+12     using 4 bins.\n",
      "\n",
      "Test statistic : Chi-Squared              6.654989e+12     using 4 bins.\n",
      " Null hypothesis probability of 0.000000e+00 with 1 degrees of freedom\n",
      " Current data and model not fit yet.\n",
      "                                   Parameters\n",
      "Chi-Squared  |beta|/N    Lvl          1:nH          2:kT        3:norm\n",
      "19.6123      0.258187      0      0.321285       3.14385   8.36935e-07\n",
      "19.4999      566356        0      0.135285       3.16391   7.67028e-07\n",
      "19.2181      786252        0     0.0441104       3.10390   7.34353e-07\n",
      "18.8985      878112        0    0.00268882       3.01381   7.12775e-07\n",
      "18.6809      919314        0   0.000346134       2.92059   6.90876e-07\n",
      "18.5095      939113        0   7.09564e-05       2.83414   6.65095e-07\n",
      "18.3481      973694        0   5.41199e-06       2.74922   6.37729e-07\n",
      "18.1801      1.0189e+06    0   1.49553e-06       2.66316   6.09838e-07\n",
      "17.9958      1.07218e+06   0   5.60517e-07       2.57452   5.81846e-07\n",
      "17.7883      1.1329e+06    0   1.15701e-07       2.48252   5.53923e-07\n",
      "17.5509      1.20154e+06   0   1.04504e-08       2.38654   5.26133e-07\n",
      "17.2743      1.27936e+06   0   4.26636e-09       2.28572   4.98504e-07\n",
      "16.9477      1.36806e+06   0   1.38500e-09       2.17944   4.71053e-07\n",
      "16.5547      1.47036e+06   0   5.70689e-11       2.06667   4.43802e-07\n",
      "16.0732      1.58985e+06   0   1.93443e-11       1.94655   4.16848e-07\n",
      "15.4746      1.73129e+06   0   2.54474e-12       1.81824   3.90133e-07\n",
      "14.7208      1.90444e+06   0   6.98729e-13       1.68183   3.64031e-07\n",
      "13.7447      2.11895e+06   0   3.06438e-13       1.53773   3.40132e-07\n",
      "12.533       2.35815e+06   0   1.45611e-13       1.38848   3.16695e-07\n",
      "11.3301      2.67447e+06  -1   6.33764e-14       1.12525   2.24741e-07\n",
      "11.3214      5.98697e+06  -2   2.27693e-14      0.986970   1.76355e-07\n",
      "5.65299      8.97804e+06  -3   1.08171e-14      0.473924   2.11862e-07\n",
      "5.22001      6.67418e+06  -2   6.70289e-16      0.522089   1.69570e-07\n",
      "***Warning: Zero alpha-matrix diagonal element for parameter 1\n",
      " Parameter 1 is pegged at 6.70289e-16 due to zero or negative pivot element, likely\n",
      " caused by the fit being insensitive to the parameter.\n",
      "4.88048      6.73877e+06  -3   6.70289e-16      0.541344   1.96361e-07\n",
      "4.86541      234143       -4   6.70289e-16      0.553946   2.00297e-07\n",
      "4.85783      35845.8      -5   6.70289e-16      0.563175   2.02783e-07\n",
      "4.85406      16519.5      -6   6.70289e-16      0.569791   2.04569e-07\n",
      "4.85226      8073         -7   6.70289e-16      0.574410   2.05821e-07\n",
      "4.85143      3695.2       -8   6.70289e-16      0.577585   2.06684e-07\n",
      "4.85104      1526.89      -9   6.70289e-16      0.579739   2.07269e-07\n",
      "4.85087      716.989     -10   6.70289e-16      0.581181   2.07661e-07\n",
      "4.8508       274.308     -11   6.70289e-16      0.582157   2.07926e-07\n",
      "***Warning: Zero alpha-matrix diagonal element for parameter 1\n",
      " Parameter 1 is pegged at 6.70289e-16 due to zero or negative pivot element, likely\n",
      " caused by the fit being insensitive to the parameter.\n",
      "4.85076      127.904      -3   6.70289e-16      0.582810   2.08104e-07\n",
      "==============================\n",
      " Variances and Principal Axes\n",
      "                 2        3  \n",
      " 1.9736E-15| -0.0000   1.0000  \n",
      " 2.0575E-02|  1.0000   0.0000  \n",
      "------------------------------\n",
      "\n",
      "========================\n",
      "  Covariance Matrix\n",
      "        1           2   \n",
      "   2.058e-02   5.576e-09\n",
      "   5.576e-09   3.484e-15\n",
      "------------------------\n",
      "\n",
      "========================================================================\n",
      "Model TBabs<1>*bbody<2> Source No.: 1   Active/On\n",
      "Model Model Component  Parameter  Unit     Value\n",
      " par  comp\n",
      "   1    1   TBabs      nH         10^22    6.70289E-16  +/-  -1.00000     \n",
      "   2    2   bbody      kT         keV      0.582810     +/-  0.143440     \n",
      "   3    2   bbody      norm                2.08104E-07  +/-  5.90295E-08  \n",
      "________________________________________________________________________\n",
      "\n",
      "\n",
      "Fit statistic  : Chi-Squared                  4.8508     using 4 bins.\n",
      "\n",
      "Test statistic : Chi-Squared                  4.8508     using 4 bins.\n",
      " Null hypothesis probability of 2.7634e-02 with 1 degrees of freedom\n"
     ]
    }
   ],
   "source": [
    "AllModels.clear()\n",
    "mo = Model(\"tbabs*bbody\")\n",
    "Fit.perform()\n",
    "Plot(\"data resid\")"
   ]
  },
  {
   "cell_type": "code",
   "execution_count": 5,
   "metadata": {},
   "outputs": [
    {
     "name": "stdout",
     "output_type": "stream",
     "text": [
      "Cannot do error calc: Reduced Chi^2 (= 4.85076) > maximum (2)\n"
     ]
    },
    {
     "ename": "Exception",
     "evalue": "Error executing command: error",
     "output_type": "error",
     "traceback": [
      "\u001b[0;31m---------------------------------------------------------------------------\u001b[0m",
      "\u001b[0;31mException\u001b[0m                                 Traceback (most recent call last)",
      "\u001b[0;32m<ipython-input-5-21d339ad0c88>\u001b[0m in \u001b[0;36m<module>\u001b[0;34m\u001b[0m\n\u001b[0;32m----> 1\u001b[0;31m \u001b[0mFit\u001b[0m\u001b[0;34m.\u001b[0m\u001b[0merror\u001b[0m\u001b[0;34m(\u001b[0m\u001b[0;34m\"1\"\u001b[0m\u001b[0;34m)\u001b[0m\u001b[0;34m\u001b[0m\u001b[0;34m\u001b[0m\u001b[0m\n\u001b[0m\u001b[1;32m      2\u001b[0m \u001b[0mFit\u001b[0m\u001b[0;34m.\u001b[0m\u001b[0merror\u001b[0m\u001b[0;34m(\u001b[0m\u001b[0;34m\"2\"\u001b[0m\u001b[0;34m)\u001b[0m\u001b[0;34m\u001b[0m\u001b[0;34m\u001b[0m\u001b[0m\n\u001b[1;32m      3\u001b[0m \u001b[0;34m\u001b[0m\u001b[0m\n\u001b[1;32m      4\u001b[0m \u001b[0mout_arr\u001b[0m\u001b[0;34m[\u001b[0m\u001b[0;36m0\u001b[0m\u001b[0;34m,\u001b[0m\u001b[0;36m0\u001b[0m\u001b[0;34m]\u001b[0m \u001b[0;34m=\u001b[0m \u001b[0;34m'bbody'\u001b[0m\u001b[0;34m\u001b[0m\u001b[0;34m\u001b[0m\u001b[0m\n\u001b[1;32m      5\u001b[0m \u001b[0mout_arr\u001b[0m\u001b[0;34m[\u001b[0m\u001b[0;36m0\u001b[0m\u001b[0;34m,\u001b[0m\u001b[0;36m1\u001b[0m\u001b[0;34m:\u001b[0m\u001b[0;36m4\u001b[0m\u001b[0;34m]\u001b[0m \u001b[0;34m=\u001b[0m \u001b[0mmo\u001b[0m\u001b[0;34m.\u001b[0m\u001b[0mTBabs\u001b[0m\u001b[0;34m.\u001b[0m\u001b[0mnH\u001b[0m\u001b[0;34m.\u001b[0m\u001b[0mvalues\u001b[0m\u001b[0;34m[\u001b[0m\u001b[0;36m0\u001b[0m\u001b[0;34m]\u001b[0m\u001b[0;34m,\u001b[0m \u001b[0mmo\u001b[0m\u001b[0;34m.\u001b[0m\u001b[0mTBabs\u001b[0m\u001b[0;34m.\u001b[0m\u001b[0mnH\u001b[0m\u001b[0;34m.\u001b[0m\u001b[0mvalues\u001b[0m\u001b[0;34m[\u001b[0m\u001b[0;36m0\u001b[0m\u001b[0;34m]\u001b[0m \u001b[0;34m-\u001b[0m \u001b[0mmo\u001b[0m\u001b[0;34m.\u001b[0m\u001b[0mTBabs\u001b[0m\u001b[0;34m.\u001b[0m\u001b[0mnH\u001b[0m\u001b[0;34m.\u001b[0m\u001b[0merror\u001b[0m\u001b[0;34m[\u001b[0m\u001b[0;36m0\u001b[0m\u001b[0;34m]\u001b[0m\u001b[0;34m,\u001b[0m \u001b[0mmo\u001b[0m\u001b[0;34m.\u001b[0m\u001b[0mTBabs\u001b[0m\u001b[0;34m.\u001b[0m\u001b[0mnH\u001b[0m\u001b[0;34m.\u001b[0m\u001b[0merror\u001b[0m\u001b[0;34m[\u001b[0m\u001b[0;36m1\u001b[0m\u001b[0;34m]\u001b[0m \u001b[0;34m-\u001b[0m \u001b[0mmo\u001b[0m\u001b[0;34m.\u001b[0m\u001b[0mTBabs\u001b[0m\u001b[0;34m.\u001b[0m\u001b[0mnH\u001b[0m\u001b[0;34m.\u001b[0m\u001b[0mvalues\u001b[0m\u001b[0;34m[\u001b[0m\u001b[0;36m0\u001b[0m\u001b[0;34m]\u001b[0m\u001b[0;34m\u001b[0m\u001b[0;34m\u001b[0m\u001b[0m\n",
      "\u001b[0;32m~/astro_soft/heasoft-6.32.1/x86_64-pc-linux-gnu-libc2.31/lib/python/xspec/fit.py\u001b[0m in \u001b[0;36merror\u001b[0;34m(self, argString, respPar)\u001b[0m\n\u001b[1;32m    423\u001b[0m             \u001b[0merrorArgs\u001b[0m \u001b[0;34m=\u001b[0m \u001b[0;34m[\u001b[0m\u001b[0;34m\"error\"\u001b[0m\u001b[0;34m]\u001b[0m\u001b[0;34m\u001b[0m\u001b[0;34m\u001b[0m\u001b[0m\n\u001b[1;32m    424\u001b[0m         \u001b[0merrorArgs\u001b[0m \u001b[0;34m+=\u001b[0m \u001b[0margString\u001b[0m\u001b[0;34m.\u001b[0m\u001b[0msplit\u001b[0m\u001b[0;34m(\u001b[0m\u001b[0;34m)\u001b[0m\u001b[0;34m\u001b[0m\u001b[0;34m\u001b[0m\u001b[0m\n\u001b[0;32m--> 425\u001b[0;31m         \u001b[0m_pyXspec\u001b[0m\u001b[0;34m.\u001b[0m\u001b[0mdoXspecCmd\u001b[0m\u001b[0;34m(\u001b[0m\u001b[0merrorArgs\u001b[0m\u001b[0;34m)\u001b[0m\u001b[0;34m\u001b[0m\u001b[0;34m\u001b[0m\u001b[0m\n\u001b[0m\u001b[1;32m    426\u001b[0m \u001b[0;34m\u001b[0m\u001b[0m\n\u001b[1;32m    427\u001b[0m     \u001b[0;32mdef\u001b[0m \u001b[0mftest\u001b[0m\u001b[0;34m(\u001b[0m\u001b[0mself\u001b[0m\u001b[0;34m,\u001b[0m \u001b[0mchisq2\u001b[0m\u001b[0;34m,\u001b[0m \u001b[0mdof2\u001b[0m\u001b[0;34m,\u001b[0m \u001b[0mchisq1\u001b[0m\u001b[0;34m,\u001b[0m \u001b[0mdof1\u001b[0m\u001b[0;34m)\u001b[0m\u001b[0;34m:\u001b[0m\u001b[0;34m\u001b[0m\u001b[0;34m\u001b[0m\u001b[0m\n",
      "\u001b[0;31mException\u001b[0m: Error executing command: error"
     ]
    }
   ],
   "source": [
    "Fit.error(\"1\")\n",
    "Fit.error(\"2\")\n",
    "\n",
    "out_arr[0,0] = 'bbody'\n",
    "out_arr[0,1:4] = mo.TBabs.nH.values[0], mo.TBabs.nH.values[0] - mo.TBabs.nH.error[0], mo.TBabs.nH.error[1] - mo.TBabs.nH.values[0]\n",
    "out_arr[0,4:7] = mo.bbody.kT.values[0], mo.bbody.kT.values[0] - mo.bbody.kT.error[0], mo.bbody.kT.error[1] - mo.bbody.kT.values[0]\n",
    "out_arr[0,-2:] = Fit.dof, Fit.statistic / Fit.dof\n"
   ]
  },
  {
   "cell_type": "code",
   "execution_count": null,
   "metadata": {
    "scrolled": false
   },
   "outputs": [],
   "source": [
    "AllModels.clear()\n",
    "mo = Model(\"tbabs*bremss\")\n",
    "Fit.perform()\n",
    "Plot(\"data resid\")"
   ]
  },
  {
   "cell_type": "code",
   "execution_count": null,
   "metadata": {},
   "outputs": [],
   "source": [
    "Fit.error(\"1\")\n",
    "Fit.error(\"2\")\n",
    "\n",
    "out_arr[3,0] = 'bremss'\n",
    "out_arr[3,1:4] = mo.TBabs.nH.values[0], mo.TBabs.nH.values[0] - mo.TBabs.nH.error[0], mo.TBabs.nH.error[1] - mo.TBabs.nH.values[0]\n",
    "out_arr[3,4:7] = mo.bremss.kT.values[0], mo.bremss.kT.values[0] - mo.bremss.kT.error[0], mo.bremss.kT.error[1] - mo.bremss.kT.values[0]\n",
    "out_arr[3,-2:] = Fit.dof, Fit.statistic / Fit.dof\n"
   ]
  },
  {
   "cell_type": "code",
   "execution_count": null,
   "metadata": {
    "scrolled": false
   },
   "outputs": [],
   "source": [
    "AllModels.clear()\n",
    "mo = Model(\"tbabs*apec\")\n",
    "Fit.perform()\n",
    "Plot(\"data resid\")"
   ]
  },
  {
   "cell_type": "code",
   "execution_count": null,
   "metadata": {},
   "outputs": [],
   "source": [
    "Fit.error(\"1\")\n",
    "Fit.error(\"2\")\n",
    "\n",
    "out_arr[2,0] = 'apec'\n",
    "out_arr[2,1:4] = mo.TBabs.nH.values[0], mo.TBabs.nH.values[0] - mo.TBabs.nH.error[0], mo.TBabs.nH.error[1] - mo.TBabs.nH.values[0]\n",
    "out_arr[2,13] = mo.apec.Abundanc.values[0]\n",
    "out_arr[2,4:7] = mo.apec.kT.values[0], mo.apec.kT.values[0] - mo.apec.kT.error[0], mo.apec.kT.error[1] - mo.apec.kT.values[0]\n",
    "out_arr[2,-2:] = Fit.dof, Fit.statistic / Fit.dof\n"
   ]
  },
  {
   "cell_type": "code",
   "execution_count": null,
   "metadata": {
    "scrolled": false
   },
   "outputs": [],
   "source": [
    "AllModels.clear()\n",
    "mo = Model(\"tbabs*powerlaw\")\n",
    "Fit.perform()\n",
    "Plot(\"data resid\")"
   ]
  },
  {
   "cell_type": "code",
   "execution_count": null,
   "metadata": {},
   "outputs": [],
   "source": [
    "Fit.error(\"1\")\n",
    "Fit.error(\"2\")\n",
    "\n",
    "out_arr[1,0] = 'powerlaw'\n",
    "out_arr[1,1:4] = mo.TBabs.nH.values[0], mo.TBabs.nH.values[0] - mo.TBabs.nH.error[0], mo.TBabs.nH.error[1] - mo.TBabs.nH.values[0]\n",
    "out_arr[1,14:17] = mo.powerlaw.PhoIndex.values[0], mo.powerlaw.PhoIndex.values[0] - mo.powerlaw.PhoIndex.error[0], mo.powerlaw.PhoIndex.error[1] - mo.powerlaw.PhoIndex.values[0]\n",
    "out_arr[1,-2:] = Fit.dof, Fit.statistic / Fit.dof\n"
   ]
  },
  {
   "cell_type": "code",
   "execution_count": null,
   "metadata": {},
   "outputs": [],
   "source": [
    "np.savetxt('../spec24_output.csv',out_arr,fmt=['%s','%.2f','%.2f','%.2f','%.2f','%.2f','%.2f','%.2f','%.2f','%.2f','%.2f','%.2f','%.2f','%.1f','%.2f','%.2f','%.2f','%i','%.2f'],delimiter=',')\n"
   ]
  },
  {
   "cell_type": "code",
   "execution_count": null,
   "metadata": {},
   "outputs": [],
   "source": [
    "AllModels.calcFlux(\".2 12.0\")"
   ]
  },
  {
   "cell_type": "code",
   "execution_count": null,
   "metadata": {},
   "outputs": [],
   "source": [
    "plx = 2.3643\n",
    "d_kpc = 1/plx\n",
    "F_x = 3.0597*10**-14\n",
    "\n",
    "L_x = 4*3.14*F_x*(d_kpc*3.086*10**21)**2\n",
    "print(L_x)"
   ]
  },
  {
   "cell_type": "code",
   "execution_count": null,
   "metadata": {},
   "outputs": [],
   "source": [
    "import numpy as np\n",
    "print(d_kpc)\n",
    "print(np.log10(L_x))"
   ]
  },
  {
   "cell_type": "code",
   "execution_count": null,
   "metadata": {},
   "outputs": [],
   "source": [
    "F_opt = 1.05*10**-5 * 10**(-0.4*13.65)\n",
    "print('Optical Flux: ',F_opt)\n",
    "print('F_x / F_opt: ', np.log10(F_x/F_opt))"
   ]
  }
 ],
 "metadata": {
  "kernelspec": {
   "display_name": "Python 3 (ipykernel)",
   "language": "python",
   "name": "python3"
  },
  "language_info": {
   "codemirror_mode": {
    "name": "ipython",
    "version": 3
   },
   "file_extension": ".py",
   "mimetype": "text/x-python",
   "name": "python",
   "nbconvert_exporter": "python",
   "pygments_lexer": "ipython3",
   "version": "3.8.10"
  }
 },
 "nbformat": 4,
 "nbformat_minor": 4
}
