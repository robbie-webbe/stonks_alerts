{
 "cells": [
  {
   "cell_type": "code",
   "execution_count": 1,
   "metadata": {},
   "outputs": [
    {
     "name": "stderr",
     "output_type": "stream",
     "text": [
      "Holoviews not imported. Some visualizations will not be available.\n",
      "PyMultiNest not imported.  MultiNest fits will not work.\n",
      "/home/rwebbe/.local/lib/python3.8/site-packages/astroARIADNE/fitter.py:43: UserWarning: (py)MultiNest installation (or libmultinest.dylib) not detected.\n",
      "  warnings.warn(\n"
     ]
    }
   ],
   "source": [
    "from astroARIADNE.star import Star\n",
    "from astroARIADNE.fitter import Fitter\n",
    "from dustmaps.config import config\n",
    "config['data_dir'] = '/home/rwebbe/data/dustmaps'"
   ]
  },
  {
   "cell_type": "code",
   "execution_count": 2,
   "metadata": {
    "scrolled": true
   },
   "outputs": [
    {
     "name": "stdout",
     "output_type": "stream",
     "text": [
      "\n",
      "\t\t#####################################\n",
      "\t\t##             ARIADNE             ##\n",
      "\t\t#####################################\n",
      "   spectrAl eneRgy dIstribution bAyesian moDel averagiNg fittEr\n",
      "\n",
      "\t\t\tAuthor : Jose Vines\n",
      "\t\t\tContact : jose . vines at ug . uchile . cl\n",
      "\t\t\tStar : 5974547521627967232\n",
      "\t\t*** LOOKING UP ARCHIVAL INFORMATION ***\n",
      "INFO: Query finished. [astroquery.utils.tap.core]\n",
      "INFO: Query finished. [astroquery.utils.tap.core]\n",
      "Star not found in catalog TYCHO2.\n",
      "INFO: Query finished. [astroquery.utils.tap.core]\n",
      "Star not found in catalog Pan-STARRS.\n",
      "INFO: Query finished. [astroquery.utils.tap.core]\n",
      "Star not found in catalog SDSS.\n",
      "INFO: Query finished. [astroquery.utils.tap.core]\n",
      "Star not found in catalog Wise.\n",
      "INFO: Query finished. [astroquery.utils.tap.core]\n",
      "INFO: Query finished. [astroquery.utils.tap.core]\n",
      "Looking online for archival magnitudes for star 5974547521627967232\n",
      "Checking catalog APASS\n",
      "Warning!: CatalogWarning\n",
      "Warning message: Star is not available in catalog APASS. Skipping\n",
      "Checking catalog Gaia DR3\n",
      "Checking catalog 2MASS\n",
      "Checking catalog GLIMPSE\n",
      "Warning!: CatalogWarning\n",
      "Warning message: Star is not available in catalog GALEX. Skipping\n",
      "Checking catalog TICv8\n",
      "Warning!: CatalogWarning\n",
      "Warning message: Star is not available in catalog SkyMapper. Skipping\n",
      "Warning!: CatalogWarning\n",
      "Warning message: Star is not available in catalog STROMGREN_PAUNZ. Skipping\n",
      "Warning!: CatalogWarning\n",
      "Warning message: Star is not available in catalog STROMGREN_HAUCK. Skipping\n",
      "Warning!: CatalogWarning\n",
      "Warning message: Star is not available in catalog MERMILLIOD. Skipping\n",
      "\t\t\tGaia DR3 ID : 5974547521627967232\n",
      "\t\t\tTIC : 463692217\n",
      "\t\t\tGaia Effective temperature : 4499.333 +/- 315.417\n",
      "\t\t\tGaia Stellar radius : 1.256 +/- 0.796\n",
      "\t\t\tGaia Stellar Luminosity : 0.583 +/- 0.017\n",
      "\t\t\tGaia Parallax : 2.417 +/- 0.017\n",
      "\t\t\tBailer-Jones distance : 415.400 +/- 3.478\n",
      "\t\t\tMaximum Av : 29.711\n",
      "\n",
      "\t\t       Filter       \tMagnitude\tUncertainty\n",
      "\t\t--------------------\t---------\t-----------\n",
      "\t\t    GaiaDR2v2_BP    \t 14.2918 \t  0.0037   \n",
      "\t\t    GaiaDR2v2_G     \t 13.6531 \t  0.0028   \n",
      "\t\t    GaiaDR2v2_RP    \t 12.8739 \t  0.0043   \n",
      "\t\t        TESS        \t 12.9468 \t  0.0061   \n",
      "\t\t      2MASS_J       \t 11.8490 \t  0.0260   \n",
      "\t\t      2MASS_H       \t 11.4270 \t  0.0270   \n",
      "\t\t      2MASS_Ks      \t 11.3150 \t  0.0270   \n",
      "\t\t  SPITZER_IRAC_36   \t 11.1720 \t  0.0360   \n",
      "\t\t  SPITZER_IRAC_45   \t 11.1870 \t  0.0470   \n",
      "\n"
     ]
    }
   ],
   "source": [
    "gaia_id = 5974547521627967232\n",
    "ra = 261.2194808\n",
    "dec = -36.2388858\n",
    "starname = str(gaia_id)\n",
    "s = Star(starname, ra, dec, g_id = gaia_id, dustmap='Planck16')"
   ]
  },
  {
   "cell_type": "code",
   "execution_count": 3,
   "metadata": {},
   "outputs": [
    {
     "name": "stdout",
     "output_type": "stream",
     "text": [
      "Created the directory ariadnefit\n",
      "\n",
      "\t\t*** EXECUTING MAIN FITTING ROUTINE ***\n",
      "\t\t\tSelected engine : Bayesian Model Averaging\n",
      "\t\t\tLive points : 500\n",
      "\t\t\tlog Evidence tolerance : 0.5\n",
      "\t\t\tFree parameters : 15\n",
      "\t\t\tBounding : multi\n",
      "\t\t\tSampling : rwalk\n",
      "\t\t\tN threads : 4\n",
      "\n"
     ]
    }
   ],
   "source": [
    "out_folder = 'ariadnefit'\n",
    "\n",
    "engine = 'dynesty'\n",
    "nlive = 500\n",
    "dlogz = 0.5\n",
    "bound = 'multi'\n",
    "sample = 'rwalk'\n",
    "threads = 4\n",
    "dynamic = False\n",
    "setup = [engine, nlive, dlogz, bound, sample, threads, dynamic]\n",
    "\n",
    "models = ['phoenix','btsettl','btnextgen','btcond','kurucz','ck04']\n",
    "f = Fitter()\n",
    "f.star = s\n",
    "f.setup = setup\n",
    "f.av_law = 'fitzpatrick'\n",
    "f.out_folder = out_folder\n",
    "f.bma = True\n",
    "f.models = models\n",
    "f.n_samples = 100000\n",
    "\n",
    "f.prior_setup = {'teff': ('default'),'logg': ('default'),'z': ('default'),'dist': ('default'),'rad': ('default'),'Av': ('default')}\n",
    "f.initialize()\n"
   ]
  },
  {
   "cell_type": "code",
   "execution_count": 4,
   "metadata": {},
   "outputs": [
    {
     "name": "stdout",
     "output_type": "stream",
     "text": [
      "\t\t\tFITTING MODEL : phoenix\n"
     ]
    },
    {
     "name": "stderr",
     "output_type": "stream",
     "text": [
      "9990it [07:03, 23.61it/s, +500 | bound: 110 | nc: 1 | ncall: 223159 | eff(%):  4.711 | loglstar:   -inf < 238.996 <    inf | logz: 219.615 +/-  0.201 | dlogz:  0.001 >  0.500]  \n"
     ]
    },
    {
     "name": "stdout",
     "output_type": "stream",
     "text": [
      "\t\t\tFITTING MODEL : btsettl\n"
     ]
    },
    {
     "name": "stderr",
     "output_type": "stream",
     "text": [
      "10147it [11:29, 14.72it/s, +500 | bound: 113 | nc: 1 | ncall: 228467 | eff(%):  4.670 | loglstar:   -inf < 238.536 <    inf | logz: 218.818 +/-    nan | dlogz:  0.001 >  0.500] \n"
     ]
    },
    {
     "name": "stdout",
     "output_type": "stream",
     "text": [
      "\t\t\tFITTING MODEL : kurucz\n"
     ]
    },
    {
     "name": "stderr",
     "output_type": "stream",
     "text": [
      "10463it [13:56, 12.51it/s, +500 | bound: 118 | nc: 1 | ncall: 237054 | eff(%):  4.634 | loglstar:   -inf < 238.931 <    inf | logz: 218.473 +/-    nan | dlogz:  0.001 >  0.500] \n"
     ]
    },
    {
     "name": "stdout",
     "output_type": "stream",
     "text": [
      "\t\t\tFITTING MODEL : ck04\n"
     ]
    },
    {
     "name": "stderr",
     "output_type": "stream",
     "text": [
      "10312it [15:46, 10.90it/s, +500 | bound: 116 | nc: 1 | ncall: 232686 | eff(%):  4.657 | loglstar:   -inf < 238.595 <    inf | logz: 218.453 +/-    nan | dlogz:  0.001 >  0.500] \n"
     ]
    },
    {
     "name": "stdout",
     "output_type": "stream",
     "text": [
      "\t\t*** AVERAGING POSTERIOR SAMPLES ***\n"
     ]
    },
    {
     "name": "stderr",
     "output_type": "stream",
     "text": [
      "100%|██████████| 19/19 [00:02<00:00,  8.99it/s]\n"
     ]
    },
    {
     "name": "stdout",
     "output_type": "stream",
     "text": [
      "\t\t*** ESTIMATING AGE AND MASS USING MIST ISOCHRONES ***\n"
     ]
    },
    {
     "name": "stderr",
     "output_type": "stream",
     "text": [
      "19596it [04:22, 74.54it/s, +500 | bound: 242 | nc: 1 | ncall: 590999 | eff(%):  3.403 | loglstar:   -inf <  2.480 <    inf | logz: -32.236 +/-  9.710 | dlogz:  0.000 >  0.010]  \n"
     ]
    },
    {
     "name": "stdout",
     "output_type": "stream",
     "text": [
      "\n",
      "\t\t\tFitting finished.\n",
      "\t\t\tBest fit parameters are:\n",
      "\t\t\tteff : 4781.2428 + 273.5620 - 174.9003 [4471.8038, 5808.2214]\n",
      "\t\t\tlogg : 4.9029 + 0.3626 - 0.8482 [3.6144, 5.5438]\n",
      "\t\t\t[Fe/H] : -0.0841 + 0.1701 - 0.1939 [-0.6352, 0.3821]\n",
      "\t\t\tdist : 422.8123 + 7.5419 - 4.1217 [415.9720, 442.1931]\n",
      "\t\t\trad : 1.2311 + 0.0601 - 0.0501 [1.0781, 1.3504]\n",
      "\t\t\tAv : 0.4157 + 0.2849 - 0.2035 [0.0539, 1.4016]\n",
      "\t\t\tAngular Diameter : 0.0270 + 0.0013 - 0.0012 [0.0236, 0.0300]\n",
      "\t\t\tGrav mass : 0.9677 + 6.0890 - 0.7526 [0.2151, 20.6713]\n",
      "\t\t\tLuminosity : 0.7170 + 0.1850 - 0.1170 [0.4792, 1.6081]\n",
      "\t\t\tIso mass : 0.9540 + 0.0860 - 0.0567 [0.6703, 1.2175]\n",
      "\t\t\tAge (Gyr) : 12.5412 + 0.9472 - 7.5778 [0.0018, 13.4884]\n",
      "\t\t\tEEP : 413.9971 + 16.1156 - 61.4408 [130.9667, 432.1272]\n",
      "\t\t\tExcess BP noise : 0.0225 + 0.0187 - 0.0122 [0.0022, 0.0828]\n",
      "\t\t\tExcess G noise : 0.0181 + 0.0144 - 0.0105 [0.0014, 0.0696]\n",
      "\t\t\tExcess RP noise : 0.0291 + 0.0289 - 0.0164 [0.0020, 0.1020]\n",
      "\t\t\tExcess TESS noise : 0.0348 + 0.0380 - 0.0201 [0.0026, 0.1360]\n",
      "\t\t\tExcess J noise : 0.1598 + 0.1332 - 0.0784 [0.0148, 0.6007]\n",
      "\t\t\tExcess H noise : 0.1269 + 0.1486 - 0.0714 [0.0111, 0.5862]\n",
      "\t\t\tExcess Ks noise : 0.1221 + 0.1330 - 0.0751 [0.0084, 0.6496]\n",
      "\t\t\tExcess IRAC 36 noise : 0.1533 + 0.2219 - 0.1026 [0.0063, 0.8329]\n",
      "\t\t\tExcess IRAC 45 noise : 0.1547 + 0.1890 - 0.0995 [0.0089, 1.0001]\n",
      "\t\t\tMamajek Spectral Type : K3V\n",
      "\t\t\tphoenix probability : 0.4801\n",
      "\t\t\tbtsettl probability : 0.2164\n",
      "\t\t\tkurucz probability : 0.1533\n",
      "\t\t\tck04 probability : 0.1503\n",
      "\t\t\tElapsed time : 53 minutes and 59.41 seconds\n"
     ]
    }
   ],
   "source": [
    "f.fit_bma()"
   ]
  },
  {
   "cell_type": "code",
   "execution_count": 1,
   "metadata": {},
   "outputs": [
    {
     "name": "stdout",
     "output_type": "stream",
     "text": [
      "L_X / L_Bol:  0.00022663877266387728 -3.644665790352907\n"
     ]
    }
   ],
   "source": [
    "import numpy as np\n",
    "\n",
    "Lbol_sun = 4 * 10**33\n",
    "L_bol = Lbol_sun * 0.7170\n",
    "L_x = 6.5*10**29\n",
    "\n",
    "print(\"L_X / L_Bol: \",L_x/L_bol,np.log10(L_x/L_bol))"
   ]
  }
 ],
 "metadata": {
  "kernelspec": {
   "display_name": "Python 3 (ipykernel)",
   "language": "python",
   "name": "python3"
  },
  "language_info": {
   "codemirror_mode": {
    "name": "ipython",
    "version": 3
   },
   "file_extension": ".py",
   "mimetype": "text/x-python",
   "name": "python",
   "nbconvert_exporter": "python",
   "pygments_lexer": "ipython3",
   "version": "3.8.10"
  }
 },
 "nbformat": 4,
 "nbformat_minor": 4
}
