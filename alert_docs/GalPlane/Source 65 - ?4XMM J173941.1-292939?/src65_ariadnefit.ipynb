{
 "cells": [
  {
   "cell_type": "code",
   "execution_count": 1,
   "metadata": {},
   "outputs": [
    {
     "name": "stderr",
     "output_type": "stream",
     "text": [
      "Holoviews not imported. Some visualizations will not be available.\n",
      "PyMultiNest not imported.  MultiNest fits will not work.\n",
      "/home/rwebbe/.local/lib/python3.8/site-packages/astroARIADNE/fitter.py:43: UserWarning: (py)MultiNest installation (or libmultinest.dylib) not detected.\n",
      "  warnings.warn(\n"
     ]
    }
   ],
   "source": [
    "from astroARIADNE.star import Star\n",
    "from astroARIADNE.fitter import Fitter\n",
    "from dustmaps.config import config\n",
    "config['data_dir'] = '/home/rwebbe/data/dustmaps'"
   ]
  },
  {
   "cell_type": "code",
   "execution_count": 2,
   "metadata": {
    "scrolled": true
   },
   "outputs": [
    {
     "name": "stdout",
     "output_type": "stream",
     "text": [
      "\n",
      "\t\t#####################################\n",
      "\t\t##             ARIADNE             ##\n",
      "\t\t#####################################\n",
      "   spectrAl eneRgy dIstribution bAyesian moDel averagiNg fittEr\n",
      "\n",
      "\t\t\tAuthor : Jose Vines\n",
      "\t\t\tContact : jose . vines at ug . uchile . cl\n",
      "\t\t\tStar : 4057036553166169600\n",
      "\t\t*** LOOKING UP ARCHIVAL INFORMATION ***\n",
      "INFO: Query finished. [astroquery.utils.tap.core]\n",
      "Warning!: CatalogWarning\n",
      "Warning message: Invalid parallax found (plx <= 0)\n",
      "Warning!: CatalogWarning\n",
      "Warning message: Parameter teff not found! Be advised.\n",
      "Warning!: CatalogWarning\n",
      "Warning message: Parameter radius not found! Be advised.\n",
      "Warning!: CatalogWarning\n",
      "Warning message: Parameter lum not found! Be advised.\n",
      "INFO: Query finished. [astroquery.utils.tap.core]\n",
      "Star not found in catalog TYCHO2.\n",
      "INFO: Query finished. [astroquery.utils.tap.core]\n",
      "INFO: Query finished. [astroquery.utils.tap.core]\n",
      "Star not found in catalog SDSS.\n",
      "INFO: Query finished. [astroquery.utils.tap.core]\n",
      "Star not found in catalog Wise.\n",
      "INFO: Query finished. [astroquery.utils.tap.core]\n",
      "INFO: Query finished. [astroquery.utils.tap.core]\n",
      "Star not found in catalog APASS.\n",
      "Looking online for archival magnitudes for star 4057036553166169600\n",
      "Checking catalog Pan-STARRS1\n",
      "Warning!: CatalogWarning\n",
      "Warning message: gmag magnitude error not found, assigning error.\n",
      "Checking catalog Gaia DR3\n",
      "Checking catalog 2MASS\n",
      "Checking catalog GLIMPSE\n",
      "Warning!: CatalogWarning\n",
      "Warning message: Star is not available in catalog GALEX. Skipping\n",
      "Checking catalog TICv8\n",
      "Checking catalog SkyMapper DR1.1\n",
      "Warning!: CatalogWarning\n",
      "Warning message: Catalog SkyMapper entry is either an extended source, is of bad quality or is contaminated. Skipping.\n",
      "Warning!: CatalogWarning\n",
      "Warning message: Star is not available in catalog STROMGREN_PAUNZ. Skipping\n",
      "Warning!: CatalogWarning\n",
      "Warning message: Star is not available in catalog STROMGREN_HAUCK. Skipping\n",
      "Warning!: CatalogWarning\n",
      "Warning message: Star is not available in catalog MERMILLIOD. Skipping\n",
      "\t\t\tGaia DR3 ID : 4057036553166169600\n",
      "\t\t\tTIC : 201344292\n",
      "\t\t\tGaia Effective temperature : 0.000 +/- 0.000\n",
      "\t\t\tGaia Stellar radius : 0.000 +/- 0.000\n",
      "\t\t\tGaia Stellar Luminosity : 0.000 +/- 0.000\n",
      "\t\t\tGaia Parallax : -1.000 +/- -1.000\n",
      "\t\t\tBailer-Jones distance : 4905.897 +/- 2196.008\n",
      "\t\t\tMaximum Av : 16.134\n",
      "\n",
      "\t\t       Filter       \tMagnitude\tUncertainty\n",
      "\t\t--------------------\t---------\t-----------\n",
      "\t\t       PS1_g        \t 22.1280 \t  0.0000   \n",
      "\t\t    GaiaDR2v2_BP    \t 21.2119 \t  0.1208   \n",
      "\t\t       PS1_r        \t 19.8877 \t  0.0588   \n",
      "\t\t    GaiaDR2v2_G     \t 18.4100 \t  0.0042   \n",
      "\t\t       PS1_i        \t 18.0279 \t  0.0131   \n",
      "\t\t    GaiaDR2v2_RP    \t 16.9119 \t  0.0102   \n",
      "\t\t        TESS        \t 16.5828 \t  0.2985   \n",
      "\t\t       PS1_z        \t 16.6620 \t  0.0145   \n",
      "\t\t       PS1_y        \t 15.7781 \t  0.0266   \n",
      "\t\t      2MASS_J       \t 13.4530 \t  0.0200   \n",
      "\t\t      2MASS_H       \t 12.0740 \t  0.0220   \n",
      "\t\t      2MASS_Ks      \t 11.5440 \t  0.0200   \n",
      "\t\t  SPITZER_IRAC_36   \t 11.1000 \t  0.0460   \n",
      "\t\t  SPITZER_IRAC_45   \t 11.0460 \t  0.0660   \n",
      "\n"
     ]
    }
   ],
   "source": [
    "gaia_id = 4057036553166169600\n",
    "ra = 264.9206645\n",
    "dec = -29.4937173\n",
    "starname = str(gaia_id)\n",
    "s = Star(starname, ra, dec, g_id = gaia_id, dustmap='Planck16')"
   ]
  },
  {
   "cell_type": "code",
   "execution_count": 3,
   "metadata": {},
   "outputs": [
    {
     "name": "stdout",
     "output_type": "stream",
     "text": [
      "Created the directory ariadnefit\n",
      "\n",
      "\t\t*** EXECUTING MAIN FITTING ROUTINE ***\n",
      "\t\t\tSelected engine : Bayesian Model Averaging\n",
      "\t\t\tLive points : 500\n",
      "\t\t\tlog Evidence tolerance : 0.5\n",
      "\t\t\tFree parameters : 20\n",
      "\t\t\tBounding : multi\n",
      "\t\t\tSampling : rwalk\n",
      "\t\t\tN threads : 4\n",
      "\n"
     ]
    }
   ],
   "source": [
    "out_folder = 'ariadnefit'\n",
    "\n",
    "engine = 'dynesty'\n",
    "nlive = 500\n",
    "dlogz = 0.5\n",
    "bound = 'multi'\n",
    "sample = 'rwalk'\n",
    "threads = 4\n",
    "dynamic = False\n",
    "setup = [engine, nlive, dlogz, bound, sample, threads, dynamic]\n",
    "\n",
    "models = ['phoenix','btsettl','btnextgen','btcond','kurucz','ck04']\n",
    "f = Fitter()\n",
    "f.star = s\n",
    "f.setup = setup\n",
    "f.av_law = 'fitzpatrick'\n",
    "f.out_folder = out_folder\n",
    "f.bma = True\n",
    "f.models = models\n",
    "f.n_samples = 100000\n",
    "\n",
    "f.prior_setup = {'teff': ('default'),'logg': ('default'),'z': ('default'),'dist': ('default'),'rad': ('default'),'Av': ('default')}\n",
    "f.initialize()\n"
   ]
  },
  {
   "cell_type": "code",
   "execution_count": 4,
   "metadata": {},
   "outputs": [
    {
     "name": "stdout",
     "output_type": "stream",
     "text": [
      "\t\t\tFITTING MODEL : phoenix\n"
     ]
    },
    {
     "name": "stderr",
     "output_type": "stream",
     "text": [
      "11305it [15:02, 12.52it/s, +500 | bound: 128 | nc: 1 | ncall: 257467 | eff(%):  4.594 | loglstar:   -inf < 376.311 <    inf | logz: 354.253 +/-  0.216 | dlogz:  0.001 >  0.500]\n"
     ]
    },
    {
     "name": "stdout",
     "output_type": "stream",
     "text": [
      "\t\t\tFITTING MODEL : btsettl\n"
     ]
    },
    {
     "name": "stderr",
     "output_type": "stream",
     "text": [
      "12430it [15:38, 13.25it/s, +500 | bound: 145 | nc: 1 | ncall: 286242 | eff(%):  4.525 | loglstar:   -inf < 377.417 <    inf | logz: 353.055 +/-    nan | dlogz:  0.001 >  0.500]\n"
     ]
    },
    {
     "name": "stdout",
     "output_type": "stream",
     "text": [
      "\t\t\tFITTING MODEL : btnextgen\n"
     ]
    },
    {
     "name": "stderr",
     "output_type": "stream",
     "text": [
      "12379it [14:57, 13.79it/s, +500 | bound: 146 | nc: 1 | ncall: 284613 | eff(%):  4.533 | loglstar:   -inf < 377.779 <    inf | logz: 353.550 +/-    nan | dlogz:  0.001 >  0.500]\n"
     ]
    },
    {
     "name": "stdout",
     "output_type": "stream",
     "text": [
      "\t\t\tFITTING MODEL : btcond\n"
     ]
    },
    {
     "name": "stderr",
     "output_type": "stream",
     "text": [
      "12484it [08:51, 23.47it/s, +500 | bound: 145 | nc: 1 | ncall: 287181 | eff(%):  4.529 | loglstar:   -inf < 381.122 <    inf | logz: 356.633 +/-    nan | dlogz:  0.001 >  0.500]\n"
     ]
    },
    {
     "name": "stdout",
     "output_type": "stream",
     "text": [
      "\t\t*** AVERAGING POSTERIOR SAMPLES ***\n"
     ]
    },
    {
     "name": "stderr",
     "output_type": "stream",
     "text": [
      "100%|██████████| 24/24 [00:00<00:00, 26.90it/s]\n"
     ]
    },
    {
     "name": "stdout",
     "output_type": "stream",
     "text": [
      "\t\t*** ESTIMATING AGE AND MASS USING MIST ISOCHRONES ***\n"
     ]
    },
    {
     "name": "stderr",
     "output_type": "stream",
     "text": [
      "13277it [01:17, 172.21it/s, +500 | bound: 156 | nc: 1 | ncall: 388230 | eff(%):  3.553 | loglstar:   -inf < -38.090 <    inf | logz: -60.213 +/- 10.769 | dlogz:  0.000 >  0.010]\n"
     ]
    },
    {
     "name": "stdout",
     "output_type": "stream",
     "text": [
      "\n",
      "\t\t\tFitting finished.\n",
      "\t\t\tBest fit parameters are:\n",
      "\t\t\tteff : 4448.5216 + 704.9889 - 422.9933 [3790.5320, 6591.6879]\n",
      "\t\t\tlogg : 3.8569 + 0.8480 - 0.2348 [3.5307, 5.4745]\n",
      "\t\t\t[Fe/H] : 0.0035 + 0.2037 - 0.2037 [-0.7948, 0.4441]\n",
      "\t\t\tdist : 9781.4036 + 6399.8173 - 2206.8335 [5422.9073, 21918.9881]\n",
      "\t\t\trad : 38.6544 + 23.0302 - 8.2402 [21.7515, 84.7147]\n",
      "\t\t\tAv : 8.4252 + 0.7985 - 1.2622 [6.7380, 10.5761]\n",
      "\t\t\tAngular Diameter : 0.0344 + 0.0218 - 0.0141 [0.0120, 0.1078]\n",
      "\t\t\tGrav mass : 648.6657 + 1319.7472 - 565.6060 [83.0598, 31756.9933]\n",
      "\t\t\tLuminosity : 571.5567 + 925.7969 - 308.5990 [120.5274, 7218.3036]\n",
      "\t\t\tIso mass : 1.0166 + 0.4329 - 0.1443 [0.5645, 3.4406]\n",
      "\t\t\tAge (Gyr) : 3.9242 + 8.3884 - 3.3824 [0.0457, 13.4851]\n",
      "\t\t\tEEP : 478.9715 + 55.0106 - 114.2527 [110.8239, 743.4454]\n",
      "\t\t\tExcess PS1_g noise : 1.4954 + 1.7370 - 0.9504 [0.1189, 9.9181]\n",
      "\t\t\tExcess BP noise : 0.8915 + 0.3745 - 0.3879 [0.2094, 4.2084]\n",
      "\t\t\tExcess PS1_r noise : 0.3390 + 0.3820 - 0.2168 [0.0137, 1.5522]\n",
      "\t\t\tExcess G noise : 0.1567 + 0.0426 - 0.0165 [0.1090, 0.2456]\n",
      "\t\t\tExcess PS1_i noise : 0.2409 + 0.0928 - 0.1058 [0.0439, 0.5292]\n",
      "\t\t\tExcess RP noise : 0.1109 + 0.0629 - 0.0477 [0.0297, 0.3320]\n",
      "\t\t\tExcess TESS noise : 0.7118 + 1.2230 - 0.5028 [0.0324, 4.0955]\n",
      "\t\t\tExcess PS1_z noise : 0.1719 + 0.1004 - 0.0551 [0.0148, 0.4975]\n",
      "\t\t\tExcess PS1_y noise : 0.0725 + 0.1730 - 0.0554 [0.0033, 0.6908]\n",
      "\t\t\tExcess J noise : 0.0930 + 0.1138 - 0.0704 [0.0045, 0.5445]\n",
      "\t\t\tExcess H noise : 0.0388 + 0.0955 - 0.0248 [0.0025, 0.5737]\n",
      "\t\t\tExcess Ks noise : 0.1096 + 0.1309 - 0.0854 [0.0042, 0.5478]\n",
      "\t\t\tExcess IRAC 36 noise : 0.0728 + 0.2131 - 0.0506 [0.0041, 1.0841]\n",
      "\t\t\tExcess IRAC 45 noise : 0.1147 + 0.1968 - 0.0825 [0.0067, 1.9050]\n",
      "\t\t\tMamajek Spectral Type : K5V\n",
      "\t\t\tphoenix probability : 0.0793\n",
      "\t\t\tbtsettl probability : 0.0240\n",
      "\t\t\tbtnextgen probability : 0.0393\n",
      "\t\t\tbtcond probability : 0.8574\n",
      "\t\t\tElapsed time : 56 minutes and 53.48 seconds\n"
     ]
    }
   ],
   "source": [
    "f.fit_bma()"
   ]
  },
  {
   "cell_type": "code",
   "execution_count": 1,
   "metadata": {},
   "outputs": [
    {
     "name": "stdout",
     "output_type": "stream",
     "text": [
      "L_X / L_Bol:  0.00027116864940517847 -3.566760521948641\n"
     ]
    }
   ],
   "source": [
    "import numpy as np\n",
    "\n",
    "Lbol_sun = 4 * 10**33\n",
    "L_bol = Lbol_sun * 571.6\n",
    "L_x = 6.2*10**32\n",
    "\n",
    "print(\"L_X / L_Bol: \",L_x/L_bol,np.log10(L_x/L_bol))"
   ]
  }
 ],
 "metadata": {
  "kernelspec": {
   "display_name": "Python 3 (ipykernel)",
   "language": "python",
   "name": "python3"
  },
  "language_info": {
   "codemirror_mode": {
    "name": "ipython",
    "version": 3
   },
   "file_extension": ".py",
   "mimetype": "text/x-python",
   "name": "python",
   "nbconvert_exporter": "python",
   "pygments_lexer": "ipython3",
   "version": "3.8.10"
  }
 },
 "nbformat": 4,
 "nbformat_minor": 4
}
