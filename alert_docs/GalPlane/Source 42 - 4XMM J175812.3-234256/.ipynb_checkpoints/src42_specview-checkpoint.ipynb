{
 "cells": [
  {
   "cell_type": "code",
   "execution_count": 1,
   "metadata": {},
   "outputs": [],
   "source": [
    "%load_ext wurlitzer\n",
    "import glob\n",
    "import os\n",
    "from xspec import *\n",
    "from stingray import Lightcurve\n",
    "from astropy.io import fits\n",
    "import matplotlib.pyplot as plt\n",
    "plt.rcParams['figure.figsize'] = [12,8]\n",
    "\n",
    "Fit.statMethod = \"chi\"\n",
    "Fit.nIterations = 100000\n",
    "Fit.delta = 1e-4\n",
    "Fit.criticalDelta = 1e-4"
   ]
  },
  {
   "cell_type": "code",
   "execution_count": 2,
   "metadata": {},
   "outputs": [],
   "source": [
    "import numpy as np\n",
    "out_arr = np.full((4,19),-np.inf,dtype=object)"
   ]
  },
  {
   "cell_type": "code",
   "execution_count": 3,
   "metadata": {},
   "outputs": [
    {
     "name": "stdout",
     "output_type": "stream",
     "text": [
      "***Warning: Detected response matrix energy bin value = 0 (or neg).\n",
      "     XSPEC will instead use small finite value (response file will not be altered).\n",
      "\n",
      "1 spectrum  in use\n",
      " \n",
      "Spectral Data File: 0886110301_M251grpspec.fits  Spectrum 1\n",
      "Net count rate (cts/s) for Spectrum:1  2.658e-03 +/- 4.563e-04 (64.8 % total)\n",
      " Assigned to Data Group 1 and Plot Group 1\n",
      "  Noticed Channels:  1-5\n",
      "  Telescope: XMM Instrument: EMOS2  Channel Type: PI\n",
      "  Exposure Time: 2.144e+04 sec\n",
      " Using fit statistic: chi\n",
      " Using Background File                0886110301_M251spec_bkg.fits\n",
      "  Background Exposure Time: 2.144e+04 sec\n",
      " Using Response (RMF) File            0886110301_M251spec.rmf for Source 1\n",
      " Using Auxiliary Response (ARF) File  0886110301_M251spec.arf\n",
      "\n"
     ]
    },
    {
     "data": {
      "image/svg+xml": [
       "<svg xmlns=\"http://www.w3.org/2000/svg\" xmlns:xlink=\"http://www.w3.org/1999/xlink\" style=\"fill-rule: nonzero; stroke-linecap: round; stroke-linejoin: round; transform: scale(1,-1);\" version=\"1.1\" viewbox=\"          225.691238            27.140120          7374.125488          5618.850586\" width=\"100%\" height=\"100%\" preserveAspectRatio=\"xMidYMid\">\n",
       "<style>\n",
       "  .fn { font-family: Arial,Helvetica,sans-serif; }\n",
       "  .fN { font-family: Arial,Helvetica,sans-serif; font-weight: bold;}\n",
       "  .fr { font-family: Times,Times-Roman,Times New Roman,serif; }\n",
       "  .fR { font-family: Times,Times-Roman,Times New Roman,serif; font-weight: bold;}\n",
       "  .fi { font-family: Times,Times-Roman,Times New Roman,serif; font-style: italic;}\n",
       "  .fI { font-family: Times,Times-Roman,Times New Roman,serif; font-style: italic; font-weight: bold;}\n",
       "  .fs { font-family: Zapf-Chancery,Apple Chancery,URW Chancery L,cursive;}\n",
       "  .fS { font-family: Zapf-Chancery,Apple Chancery,URW Chancery L,cursive;font-weight:bold}\n",
       "  .fc { font-family: Arial Narrow,Helvetica Narrow,Arial,Helvetica,sans-serif;}\n",
       "  .fC { font-family: Arial Narrow,Helvetica Narrow,Arial,Helvetica,sans-serif; font-weight:bold;}\n",
       "</style>\n",
       "<g style=\"color: rgb(0, 0, 0); fill: currentColor; stroke: currentColor; stroke-width: 8\">\n",
       "\n",
       "<path fill=\"none\" d=\"M 742 576 l 5935 0 l 0 4607 l -5935 0 l 0 -4607 M 1529 576 l 0 33 M 2063 576 l 0 33 M 2441 576 l 0 33  M 2735 576 l 0 33 M 2975 576 l 0 33 M 3178 576 l 0 33 M 3354 576 l 0 33 M 3509 576 l 0 33 M 3647 576 l 0 66  M 4560 576 l 0 33 M 5094 576 l 0 33 M 5472 576 l 0 33 M 5766 576 l 0 33 M 6006 576 l 0 33 M 6209 576 l 0 33  M 6385 576 l 0 33 M 6540 576 l 0 33 M 1529 5150 l 0 33 M 2063 5150 l 0 33 M 2441 5150 l 0 33 M 2735 5150 l 0 33  M 2975 5150 l 0 33 M 3178 5150 l 0 33 M 3354 5150 l 0 33 M 3509 5150 l 0 33 M 3647 5117 l 0 66 M 4560 5150 l 0 33  M 5094 5150 l 0 33 M 5472 5150 l 0 33 M 5766 5150 l 0 33 M 6006 5150 l 0 33 M 6209 5150 l 0 33 M 6385 5150 l 0 33  M 6540 5150 l 0 33 \"/>\n",
       "<text transform=\"translate(3603,403) scale(1,-1)\"><tspan class=\"fn\" style=\"font-size: 886%;\">1</tspan></text>\n",
       "<text transform=\"translate(1417,403) scale(1,-1)\"><tspan class=\"fn\" style=\"font-size: 886%;\">0.2</tspan></text>\n",
       "<text transform=\"translate(2623,403) scale(1,-1)\"><tspan class=\"fn\" style=\"font-size: 886%;\">0.5</tspan></text>\n",
       "<text transform=\"translate(4515,403) scale(1,-1)\"><tspan class=\"fn\" style=\"font-size: 886%;\">2</tspan></text>\n",
       "<text transform=\"translate(5721,403) scale(1,-1)\"><tspan class=\"fn\" style=\"font-size: 886%;\">5</tspan></text>\n",
       "\n",
       "<path fill=\"none\" d=\"M 742 576 l 33 0 M 742 758 l 33 0 M 742 913 l 33 0 M 742 1046 l 33 0 M 742 1164 l 33 0 M 742 1269 l 66 0  M 742 1963 l 33 0 M 742 2368 l 33 0 M 742 2656 l 33 0 M 742 2880 l 33 0 M 742 3062 l 33 0 M 742 3216 l 33 0  M 742 3350 l 33 0 M 742 3468 l 33 0 M 742 3573 l 66 0 M 742 4266 l 33 0 M 742 4672 l 33 0 M 742 4960 l 33 0  M 742 5183 l 33 0 M 6644 576 l 33 0 M 6644 758 l 33 0 M 6644 913 l 33 0 M 6644 1046 l 33 0 M 6644 1164 l 33 0  M 6611 1269 l 66 0 M 6644 1963 l 33 0 M 6644 2368 l 33 0 M 6644 2656 l 33 0 M 6644 2880 l 33 0 M 6644 3062 l 33 0  M 6644 3216 l 33 0 M 6644 3350 l 33 0 M 6644 3468 l 33 0 M 6611 3573 l 66 0 M 6644 4266 l 33 0 M 6644 4672 l 33 0  M 6644 4960 l 33 0 M 6644 5183 l 33 0 \"/>\n",
       "<text transform=\"translate(641,1126) scale(1,-1) rotate(-90)\"><tspan class=\"fn\" style=\"font-size: 886%;\">10<tspan style=\"font-size: 60%;\" dy=\"-0.6em\">−4<tspan style=\"font-size: 166.667%;\" dy=\"+0.36em\"/></tspan></tspan></text>\n",
       "<text transform=\"translate(641,3429) scale(1,-1) rotate(-90)\"><tspan class=\"fn\" style=\"font-size: 886%;\">10<tspan style=\"font-size: 60%;\" dy=\"-0.6em\">−3<tspan style=\"font-size: 166.667%;\" dy=\"+0.36em\"/></tspan></tspan></text>\n",
       "</g>\n",
       "<g style=\"color: rgb(0, 0, 0); fill: currentColor; stroke: currentColor; stroke-width: 4\">\n",
       "<defs>\n",
       "<symbol id=\"M1\" overflow=\"visible\">\n",
       "<circle r=\"1\" fill=\"none\" stroke-width=\"1\"/>\n",
       "</symbol>\n",
       "</defs>\n",
       "<use xlink:href=\"#M1\" transform=\"translate(2793, 2654) scale(4.430)\"/>\n",
       "\n",
       "<path fill=\"none\" d=\"M 742 2654 l 2817 0 M 2793 1778 l 0 1336 \"/>\n",
       "<use xlink:href=\"#M1\" transform=\"translate(3876, 3438) scale(4.430)\"/>\n",
       "\n",
       "<path fill=\"none\" d=\"M 3559 3438 l 573 0 M 3876 2859 l 0 943 \"/>\n",
       "<use xlink:href=\"#M1\" transform=\"translate(4513, 2624) scale(4.430)\"/>\n",
       "\n",
       "<path fill=\"none\" d=\"M 4132 2624 l 676 0 M 4513 1915 l 0 1120 \"/>\n",
       "<use xlink:href=\"#M1\" transform=\"translate(5196, 2469) scale(4.430)\"/>\n",
       "\n",
       "<path fill=\"none\" d=\"M 4808 2469 l 687 0 M 5196 2057 l 0 703 \"/>\n",
       "<use xlink:href=\"#M1\" transform=\"translate(6215, 1752) scale(4.430)\"/>\n",
       "\n",
       "<path fill=\"none\" d=\"M 5495 1752 l 1182 0 M 6215 1450 l 0 533 \"/>\n",
       "</g>\n",
       "<g style=\"color: rgb(0, 0, 0); fill: currentColor; stroke: currentColor; stroke-width: 8\">\n",
       "<text transform=\"translate(370,2317) scale(1,-1) rotate(-90)\"><tspan class=\"fn\" style=\"font-size: 886%;\">counts s<tspan style=\"font-size: 60%;\" dy=\"-0.6em\">−1<tspan style=\"font-size: 166.667%;\" dy=\"+0.36em\"> keV<tspan style=\"font-size: 60%;\" dy=\"-0.6em\">−1<tspan style=\"font-size: 166.667%;\" dy=\"+0.36em\"/></tspan></tspan></tspan></tspan></text>\n",
       "<text transform=\"translate(3255,215) scale(1,-1)\"><tspan class=\"fn\" style=\"font-size: 886%;\">Energy (keV)</tspan></text>\n",
       "<text transform=\"translate(3534,5442) scale(1,-1)\"><tspan class=\"fn\" style=\"font-size: 886%;\"><tspan class=\"fR\">data</tspan></tspan></text>\n",
       "</g>\n",
       "<g style=\"color: rgb(0, 0, 0); fill: currentColor; stroke: currentColor; stroke-width: 4\">\n",
       "<text transform=\"translate(6246,46) scale(1,-1)\"><tspan class=\"fn\" style=\"font-size: 531.6%;\">rwebbe  3−Sep−2025 10:58</tspan></text>\n",
       "</g>\n",
       "<!-- _PGPLOT_SVG_ATEND: viewbox=\"          225.691238            27.140120          7374.125488          5618.850586\" -->\n",
       "</svg>"
      ],
      "text/plain": [
       "<IPython.core.display.SVG object>"
      ]
     },
     "metadata": {},
     "output_type": "display_data"
    },
    {
     "name": "stdout",
     "output_type": "stream",
     "text": [
      "     1 channels (1) ignored in spectrum #     1\n",
      "      No channels ignored (no channels in specified range)\n",
      "\n"
     ]
    }
   ],
   "source": [
    "spec_fnames = glob.glob('*grpspec*')\n",
    "\n",
    "spec = Spectrum(spec_fnames[0])\n",
    "Plot.device=\"/svg\"\n",
    "Plot.xAxis=\"keV\"\n",
    "Plot.xLog=True\n",
    "Plot.yLog=True\n",
    "Plot.addCommand(\"Rescale Y 0.00005 0.005\")\n",
    "Plot(\"data\")\n",
    "spec.ignore(\"**-0.2 12.0-**\")"
   ]
  },
  {
   "cell_type": "code",
   "execution_count": 4,
   "metadata": {
    "scrolled": false
   },
   "outputs": [
    {
     "name": "stdout",
     "output_type": "stream",
     "text": [
      "\n",
      "========================================================================\n",
      "Model TBabs<1>*bbody<2> Source No.: 1   Active/On\n",
      "Model Model Component  Parameter  Unit     Value\n",
      " par  comp\n",
      "   1    1   TBabs      nH         10^22    1.00000      +/-  0.0          \n",
      "   2    2   bbody      kT         keV      3.00000      +/-  0.0          \n",
      "   3    2   bbody      norm                1.00000      +/-  0.0          \n",
      "________________________________________________________________________\n",
      "\n",
      "tbvabs Version 2.3\n",
      "Cosmic absorption with grains and H2, modified from\n",
      "Wilms, Allen, & McCray, 2000, ApJ 542, 914-924\n",
      "Questions: Joern Wilms\n",
      "joern.wilms@sternwarte.uni-erlangen.de\n",
      "joern.wilms@fau.de\n",
      "\n",
      "http://pulsar.sternwarte.uni-erlangen.de/wilms/research/tbabs/\n",
      "\n",
      "PLEASE NOTICE:\n",
      "To get the model described by the above paper\n",
      "you will also have to set the abundances:\n",
      "   abund wilm\n",
      "\n",
      "Note that this routine ignores the current cross section setting\n",
      "as it always HAS to use the Verner cross sections as a baseline.\n",
      "\n",
      "Fit statistic  : Chi-Squared              5.786408e+11     using 4 bins.\n",
      "\n",
      "Test statistic : Chi-Squared              5.786408e+11     using 4 bins.\n",
      " Null hypothesis probability of 0.000000e+00 with 1 degrees of freedom\n",
      " Current data and model not fit yet.\n",
      "                                   Parameters\n",
      "Chi-Squared  |beta|/N    Lvl          1:nH          2:kT        3:norm\n",
      "3.49593      0.241967     -1      0.130895       3.26020   6.87252e-06\n",
      "2.97596      129831        0    0.00622684       3.25114   6.98281e-06\n",
      "2.94395      91083.8       0   3.43083e-05       3.25607   7.02651e-06\n",
      "2.94076      86495.6       0   1.04517e-05       3.26243   7.06272e-06\n",
      "2.93952      85134.1       0   4.48266e-06       3.26910   7.09689e-06\n",
      "2.93901      84399.2       0   1.49251e-06       3.27585   7.13019e-06\n",
      "2.9388       83901.6       0   7.43265e-07       3.28260   7.16304e-06\n",
      "2.93871      83497.2       0   3.67744e-07       3.28931   7.19562e-06\n",
      "========================================\n",
      " Variances and Principal Axes\n",
      "                 1        2        3  \n",
      " 1.9684E-12| -0.0000  -0.0000   1.0000  \n",
      " 6.3103E-01|  0.9612   0.2760   0.0000  \n",
      " 9.0770E+00| -0.2760   0.9612   0.0000  \n",
      "----------------------------------------\n",
      "\n",
      "====================================\n",
      "  Covariance Matrix\n",
      "        1           2           3   \n",
      "   1.274e+00  -2.240e+00  -9.391e-06\n",
      "  -2.240e+00   8.434e+00   3.834e-05\n",
      "  -9.391e-06   3.834e-05   1.772e-10\n",
      "------------------------------------\n",
      "\n",
      "========================================================================\n",
      "Model TBabs<1>*bbody<2> Source No.: 1   Active/On\n",
      "Model Model Component  Parameter  Unit     Value\n",
      " par  comp\n",
      "   1    1   TBabs      nH         10^22    3.67744E-07  +/-  1.12882      \n",
      "   2    2   bbody      kT         keV      3.28931      +/-  2.90410      \n",
      "   3    2   bbody      norm                7.19562E-06  +/-  1.33123E-05  \n",
      "________________________________________________________________________\n",
      "\n",
      "\n",
      "Fit statistic  : Chi-Squared                  2.9387     using 4 bins.\n",
      "\n",
      "Test statistic : Chi-Squared                  2.9387     using 4 bins.\n",
      " Null hypothesis probability of 8.6480e-02 with 1 degrees of freedom\n"
     ]
    },
    {
     "data": {
      "image/svg+xml": [
       "<svg xmlns=\"http://www.w3.org/2000/svg\" xmlns:xlink=\"http://www.w3.org/1999/xlink\" style=\"fill-rule: nonzero; stroke-linecap: round; stroke-linejoin: round; transform: scale(1,-1);\" version=\"1.1\" viewbox=\"           -8.104305            27.140120          7607.921387          5564.966309\" width=\"100%\" height=\"100%\" preserveAspectRatio=\"xMidYMid\">\n",
       "<style>\n",
       "  .fn { font-family: Arial,Helvetica,sans-serif; }\n",
       "  .fN { font-family: Arial,Helvetica,sans-serif; font-weight: bold;}\n",
       "  .fr { font-family: Times,Times-Roman,Times New Roman,serif; }\n",
       "  .fR { font-family: Times,Times-Roman,Times New Roman,serif; font-weight: bold;}\n",
       "  .fi { font-family: Times,Times-Roman,Times New Roman,serif; font-style: italic;}\n",
       "  .fI { font-family: Times,Times-Roman,Times New Roman,serif; font-style: italic; font-weight: bold;}\n",
       "  .fs { font-family: Zapf-Chancery,Apple Chancery,URW Chancery L,cursive;}\n",
       "  .fS { font-family: Zapf-Chancery,Apple Chancery,URW Chancery L,cursive;font-weight:bold}\n",
       "  .fc { font-family: Arial Narrow,Helvetica Narrow,Arial,Helvetica,sans-serif;}\n",
       "  .fC { font-family: Arial Narrow,Helvetica Narrow,Arial,Helvetica,sans-serif; font-weight:bold;}\n",
       "</style>\n",
       "<g style=\"color: rgb(0, 0, 0); fill: currentColor; stroke: currentColor; stroke-width: 8\">\n",
       "\n",
       "<path fill=\"none\" d=\"M 742 2304 l 5935 0 l 0 2879 l -5935 0 l 0 -2879 M 910 2304 l 0 56 M 2647 2304 l 0 28 M 3663 2304 l 0 28  M 4384 2304 l 0 28 M 4943 2304 l 0 28 M 5400 2304 l 0 28 M 5786 2304 l 0 28 M 6121 2304 l 0 28 M 6416 2304 l 0 28  M 910 5127 l 0 56 M 2647 5155 l 0 28 M 3663 5155 l 0 28 M 4384 5155 l 0 28 M 4943 5155 l 0 28 M 5400 5155 l 0 28  M 5786 5155 l 0 28 M 6121 5155 l 0 28 M 6416 5155 l 0 28 M 742 2304 l 28 0 M 742 2418 l 28 0 M 742 2514 l 28 0  M 742 2597 l 28 0 M 742 2671 l 28 0 M 742 2737 l 56 0 M 742 3170 l 28 0 M 742 3424 l 28 0 M 742 3604 l 28 0  M 742 3743 l 28 0 M 742 3857 l 28 0 M 742 3954 l 28 0 M 742 4037 l 28 0 M 742 4111 l 28 0 M 742 4177 l 56 0  M 742 4610 l 28 0 M 742 4864 l 28 0 M 742 5044 l 28 0 M 742 5183 l 28 0 M 6649 2304 l 28 0 M 6649 2418 l 28 0  M 6649 2514 l 28 0 M 6649 2597 l 28 0 M 6649 2671 l 28 0 M 6621 2737 l 56 0 M 6649 3170 l 28 0 M 6649 3424 l 28 0  M 6649 3604 l 28 0 M 6649 3743 l 28 0 M 6649 3857 l 28 0 M 6649 3954 l 28 0 M 6649 4037 l 28 0 M 6649 4111 l 28 0  M 6621 4177 l 56 0 M 6649 4610 l 28 0 M 6649 4864 l 28 0 M 6649 5044 l 28 0 M 6649 5183 l 28 0 \"/>\n",
       "<text transform=\"translate(412,2700) scale(1,-1)\"><tspan class=\"fn\" style=\"font-size: 753.1%;\">10<tspan style=\"font-size: 60%;\" dy=\"-0.6em\">−4<tspan style=\"font-size: 166.667%;\" dy=\"+0.36em\"/></tspan></tspan></text>\n",
       "<text transform=\"translate(412,4140) scale(1,-1)\"><tspan class=\"fn\" style=\"font-size: 753.1%;\">10<tspan style=\"font-size: 60%;\" dy=\"-0.6em\">−3<tspan style=\"font-size: 166.667%;\" dy=\"+0.36em\"/></tspan></tspan></text>\n",
       "</g>\n",
       "<g style=\"color: rgb(0, 0, 0); fill: currentColor; stroke: currentColor; stroke-width: 4\">\n",
       "<defs>\n",
       "<symbol id=\"M1\" overflow=\"visible\">\n",
       "<circle r=\"1\" fill=\"none\" stroke-width=\"1\"/>\n",
       "</symbol>\n",
       "</defs>\n",
       "<use xlink:href=\"#M1\" transform=\"translate(1346, 4092) scale(4.430)\"/>\n",
       "\n",
       "<path fill=\"none\" d=\"M 742 4092 l 1091 0 M 1346 3730 l 0 590 \"/>\n",
       "<use xlink:href=\"#M1\" transform=\"translate(2558, 3584) scale(4.430)\"/>\n",
       "\n",
       "<path fill=\"none\" d=\"M 1833 3584 l 1286 0 M 2558 3140 l 0 700 \"/>\n",
       "<use xlink:href=\"#M1\" transform=\"translate(3858, 3487) scale(4.430)\"/>\n",
       "\n",
       "<path fill=\"none\" d=\"M 3119 3487 l 1308 0 M 3858 3230 l 0 439 \"/>\n",
       "<use xlink:href=\"#M1\" transform=\"translate(5797, 3038) scale(4.430)\"/>\n",
       "\n",
       "<path fill=\"none\" d=\"M 4427 3038 l 2250 0 M 5797 2850 l 0 333 \"/>\n",
       "</g>\n",
       "<g style=\"color: rgb(0, 0, 0); fill: currentColor; stroke: currentColor; stroke-width: 8\">\n",
       "\n",
       "<path fill=\"none\" d=\"M 742 3340 l 1091 0 l 0 188 l 1286 0 l 0 33 l 1308 0 l 0 -607 l 2250 0 M 742 3340 l 1091 0 M 1346 3340 l 0 0  M 1833 3528 l 1286 0 M 2558 3528 l 0 0 M 3119 3561 l 1308 0 M 3858 3561 l 0 0 M 4427 2954 l 2250 0 M 5797 2954 l 0 0  \"/>\n",
       "<text transform=\"translate(111,3265) scale(1,-1) rotate(-90)\"><tspan class=\"fn\" style=\"font-size: 753.1%;\">counts s<tspan style=\"font-size: 60%;\" dy=\"-0.6em\">−1<tspan style=\"font-size: 166.667%;\" dy=\"+0.36em\"> keV<tspan style=\"font-size: 60%;\" dy=\"-0.6em\">−1<tspan style=\"font-size: 166.667%;\" dy=\"+0.36em\"/></tspan></tspan></tspan></tspan></text>\n",
       "<text transform=\"translate(2971,5403) scale(1,-1)\"><tspan class=\"fn\" style=\"font-size: 753.1%;\"><tspan class=\"fR\">data and folded model</tspan></tspan></text>\n",
       "\n",
       "<path fill=\"none\" d=\"M 742 576 l 5935 0 l 0 1728 l -5935 0 l 0 -1728 M 910 576 l 0 56 M 2647 576 l 0 28 M 3663 576 l 0 28  M 4384 576 l 0 28 M 4943 576 l 0 28 M 5400 576 l 0 28 M 5786 576 l 0 28 M 6121 576 l 0 28 M 6416 576 l 0 28  M 910 2247 l 0 57 M 2647 2275 l 0 29 M 3663 2275 l 0 29 M 4384 2275 l 0 29 M 4943 2275 l 0 29 M 5400 2275 l 0 29  M 5786 2275 l 0 29 M 6121 2275 l 0 29 M 6416 2275 l 0 29 \"/>\n",
       "<text transform=\"translate(872,429) scale(1,-1)\"><tspan class=\"fn\" style=\"font-size: 753.1%;\">1</tspan></text>\n",
       "<text transform=\"translate(2609,429) scale(1,-1)\"><tspan class=\"fn\" style=\"font-size: 753.1%;\">2</tspan></text>\n",
       "<text transform=\"translate(4905,429) scale(1,-1)\"><tspan class=\"fn\" style=\"font-size: 753.1%;\">5</tspan></text>\n",
       "\n",
       "<path fill=\"none\" d=\"M 742 721 l 56 0 M 742 974 l 28 0 M 742 1226 l 56 0 M 742 1478 l 28 0 M 742 1730 l 56 0 M 742 1982 l 28 0  M 742 2234 l 56 0 M 6621 721 l 56 0 M 6649 974 l 28 0 M 6621 1226 l 56 0 M 6649 1478 l 28 0 M 6621 1730 l 56 0  M 6649 1982 l 28 0 M 6621 2234 l 56 0 \"/>\n",
       "<text transform=\"translate(580,684) scale(1,-1)\"><tspan class=\"fn\" style=\"font-size: 753.1%;\">0</tspan></text>\n",
       "<text transform=\"translate(240,1188) scale(1,-1)\"><tspan class=\"fn\" style=\"font-size: 753.1%;\">2×10<tspan style=\"font-size: 60%;\" dy=\"-0.6em\">−4<tspan style=\"font-size: 166.667%;\" dy=\"+0.36em\"/></tspan></tspan></text>\n",
       "<text transform=\"translate(240,1693) scale(1,-1)\"><tspan class=\"fn\" style=\"font-size: 753.1%;\">4×10<tspan style=\"font-size: 60%;\" dy=\"-0.6em\">−4<tspan style=\"font-size: 166.667%;\" dy=\"+0.36em\"/></tspan></tspan></text>\n",
       "<text transform=\"translate(240,2197) scale(1,-1)\"><tspan class=\"fn\" style=\"font-size: 753.1%;\">6×10<tspan style=\"font-size: 60%;\" dy=\"-0.6em\">−4<tspan style=\"font-size: 166.667%;\" dy=\"+0.36em\"/></tspan></tspan></text>\n",
       "</g>\n",
       "<g style=\"color: rgb(0, 0, 0); fill: currentColor; stroke: currentColor; stroke-width: 4\">\n",
       "<use xlink:href=\"#M1\" transform=\"translate(1346, 2262) scale(4.430)\"/>\n",
       "\n",
       "<path fill=\"none\" d=\"M 742 2262 l 1091 0 M 1346 1295 l 0 1009 \"/>\n",
       "<use xlink:href=\"#M1\" transform=\"translate(2558, 805) scale(4.430)\"/>\n",
       "\n",
       "<path fill=\"none\" d=\"M 1833 805 l 1286 0 M 2558 576 l 0 725 \"/>\n",
       "<use xlink:href=\"#M1\" transform=\"translate(3858, 617) scale(4.430)\"/>\n",
       "\n",
       "<path fill=\"none\" d=\"M 3119 617 l 1308 0 M 3858 576 l 0 324 \"/>\n",
       "<use xlink:href=\"#M1\" transform=\"translate(5797, 773) scale(4.430)\"/>\n",
       "\n",
       "<path fill=\"none\" d=\"M 4427 773 l 2250 0 M 5797 667 l 0 212 \"/>\n",
       "</g>\n",
       "<g style=\"color: rgb(0, 0, 0); fill: currentColor; stroke: currentColor; stroke-width: 8\">\n",
       "<text transform=\"translate(111,962) scale(1,-1) rotate(-90)\"><tspan class=\"fn\" style=\"font-size: 753.1%;\">counts s<tspan style=\"font-size: 60%;\" dy=\"-0.6em\">−1<tspan style=\"font-size: 166.667%;\" dy=\"+0.36em\"> keV<tspan style=\"font-size: 60%;\" dy=\"-0.6em\">−1<tspan style=\"font-size: 166.667%;\" dy=\"+0.36em\"/></tspan></tspan></tspan></tspan></text>\n",
       "<text transform=\"translate(3323,269) scale(1,-1)\"><tspan class=\"fn\" style=\"font-size: 753.1%;\">Energy (keV)</tspan></text>\n",
       "</g>\n",
       "<g style=\"color: rgb(0, 255, 0); fill: currentColor; stroke: currentColor; stroke-width: 8\">\n",
       "\n",
       "<path fill=\"none\" d=\"M 742 721 l 5935 0 \"/>\n",
       "</g>\n",
       "<g style=\"color: rgb(0, 0, 0); fill: currentColor; stroke: currentColor; stroke-width: 4\">\n",
       "<text transform=\"translate(6246,46) scale(1,-1)\"><tspan class=\"fn\" style=\"font-size: 531.6%;\">rwebbe  3−Sep−2025 10:58</tspan></text>\n",
       "</g>\n",
       "<!-- _PGPLOT_SVG_ATEND: viewbox=\"           -8.104305            27.140120          7607.921387          5564.966309\" -->\n",
       "</svg>"
      ],
      "text/plain": [
       "<IPython.core.display.SVG object>"
      ]
     },
     "metadata": {},
     "output_type": "display_data"
    }
   ],
   "source": [
    "AllModels.clear()\n",
    "mo = Model(\"tbabs*bbody\")\n",
    "Fit.perform()\n",
    "Plot(\"data resid\")"
   ]
  },
  {
   "cell_type": "code",
   "execution_count": 5,
   "metadata": {},
   "outputs": [
    {
     "name": "stdout",
     "output_type": "stream",
     "text": [
      "Cannot do error calc: Reduced Chi^2 (= 2.93871) > maximum (2)\n"
     ]
    },
    {
     "ename": "Exception",
     "evalue": "Error executing command: error",
     "output_type": "error",
     "traceback": [
      "\u001b[0;31m---------------------------------------------------------------------------\u001b[0m",
      "\u001b[0;31mException\u001b[0m                                 Traceback (most recent call last)",
      "\u001b[0;32m<ipython-input-5-21d339ad0c88>\u001b[0m in \u001b[0;36m<module>\u001b[0;34m\u001b[0m\n\u001b[0;32m----> 1\u001b[0;31m \u001b[0mFit\u001b[0m\u001b[0;34m.\u001b[0m\u001b[0merror\u001b[0m\u001b[0;34m(\u001b[0m\u001b[0;34m\"1\"\u001b[0m\u001b[0;34m)\u001b[0m\u001b[0;34m\u001b[0m\u001b[0;34m\u001b[0m\u001b[0m\n\u001b[0m\u001b[1;32m      2\u001b[0m \u001b[0mFit\u001b[0m\u001b[0;34m.\u001b[0m\u001b[0merror\u001b[0m\u001b[0;34m(\u001b[0m\u001b[0;34m\"2\"\u001b[0m\u001b[0;34m)\u001b[0m\u001b[0;34m\u001b[0m\u001b[0;34m\u001b[0m\u001b[0m\n\u001b[1;32m      3\u001b[0m \u001b[0;34m\u001b[0m\u001b[0m\n\u001b[1;32m      4\u001b[0m \u001b[0mout_arr\u001b[0m\u001b[0;34m[\u001b[0m\u001b[0;36m0\u001b[0m\u001b[0;34m,\u001b[0m\u001b[0;36m0\u001b[0m\u001b[0;34m]\u001b[0m \u001b[0;34m=\u001b[0m \u001b[0;34m'bbody'\u001b[0m\u001b[0;34m\u001b[0m\u001b[0;34m\u001b[0m\u001b[0m\n\u001b[1;32m      5\u001b[0m \u001b[0mout_arr\u001b[0m\u001b[0;34m[\u001b[0m\u001b[0;36m0\u001b[0m\u001b[0;34m,\u001b[0m\u001b[0;36m1\u001b[0m\u001b[0;34m:\u001b[0m\u001b[0;36m4\u001b[0m\u001b[0;34m]\u001b[0m \u001b[0;34m=\u001b[0m \u001b[0mmo\u001b[0m\u001b[0;34m.\u001b[0m\u001b[0mTBabs\u001b[0m\u001b[0;34m.\u001b[0m\u001b[0mnH\u001b[0m\u001b[0;34m.\u001b[0m\u001b[0mvalues\u001b[0m\u001b[0;34m[\u001b[0m\u001b[0;36m0\u001b[0m\u001b[0;34m]\u001b[0m\u001b[0;34m,\u001b[0m \u001b[0mmo\u001b[0m\u001b[0;34m.\u001b[0m\u001b[0mTBabs\u001b[0m\u001b[0;34m.\u001b[0m\u001b[0mnH\u001b[0m\u001b[0;34m.\u001b[0m\u001b[0mvalues\u001b[0m\u001b[0;34m[\u001b[0m\u001b[0;36m0\u001b[0m\u001b[0;34m]\u001b[0m \u001b[0;34m-\u001b[0m \u001b[0mmo\u001b[0m\u001b[0;34m.\u001b[0m\u001b[0mTBabs\u001b[0m\u001b[0;34m.\u001b[0m\u001b[0mnH\u001b[0m\u001b[0;34m.\u001b[0m\u001b[0merror\u001b[0m\u001b[0;34m[\u001b[0m\u001b[0;36m0\u001b[0m\u001b[0;34m]\u001b[0m\u001b[0;34m,\u001b[0m \u001b[0mmo\u001b[0m\u001b[0;34m.\u001b[0m\u001b[0mTBabs\u001b[0m\u001b[0;34m.\u001b[0m\u001b[0mnH\u001b[0m\u001b[0;34m.\u001b[0m\u001b[0merror\u001b[0m\u001b[0;34m[\u001b[0m\u001b[0;36m1\u001b[0m\u001b[0;34m]\u001b[0m \u001b[0;34m-\u001b[0m \u001b[0mmo\u001b[0m\u001b[0;34m.\u001b[0m\u001b[0mTBabs\u001b[0m\u001b[0;34m.\u001b[0m\u001b[0mnH\u001b[0m\u001b[0;34m.\u001b[0m\u001b[0mvalues\u001b[0m\u001b[0;34m[\u001b[0m\u001b[0;36m0\u001b[0m\u001b[0;34m]\u001b[0m\u001b[0;34m\u001b[0m\u001b[0;34m\u001b[0m\u001b[0m\n",
      "\u001b[0;32m~/astro_soft/heasoft-6.32.1/x86_64-pc-linux-gnu-libc2.31/lib/python/xspec/fit.py\u001b[0m in \u001b[0;36merror\u001b[0;34m(self, argString, respPar)\u001b[0m\n\u001b[1;32m    423\u001b[0m             \u001b[0merrorArgs\u001b[0m \u001b[0;34m=\u001b[0m \u001b[0;34m[\u001b[0m\u001b[0;34m\"error\"\u001b[0m\u001b[0;34m]\u001b[0m\u001b[0;34m\u001b[0m\u001b[0;34m\u001b[0m\u001b[0m\n\u001b[1;32m    424\u001b[0m         \u001b[0merrorArgs\u001b[0m \u001b[0;34m+=\u001b[0m \u001b[0margString\u001b[0m\u001b[0;34m.\u001b[0m\u001b[0msplit\u001b[0m\u001b[0;34m(\u001b[0m\u001b[0;34m)\u001b[0m\u001b[0;34m\u001b[0m\u001b[0;34m\u001b[0m\u001b[0m\n\u001b[0;32m--> 425\u001b[0;31m         \u001b[0m_pyXspec\u001b[0m\u001b[0;34m.\u001b[0m\u001b[0mdoXspecCmd\u001b[0m\u001b[0;34m(\u001b[0m\u001b[0merrorArgs\u001b[0m\u001b[0;34m)\u001b[0m\u001b[0;34m\u001b[0m\u001b[0;34m\u001b[0m\u001b[0m\n\u001b[0m\u001b[1;32m    426\u001b[0m \u001b[0;34m\u001b[0m\u001b[0m\n\u001b[1;32m    427\u001b[0m     \u001b[0;32mdef\u001b[0m \u001b[0mftest\u001b[0m\u001b[0;34m(\u001b[0m\u001b[0mself\u001b[0m\u001b[0;34m,\u001b[0m \u001b[0mchisq2\u001b[0m\u001b[0;34m,\u001b[0m \u001b[0mdof2\u001b[0m\u001b[0;34m,\u001b[0m \u001b[0mchisq1\u001b[0m\u001b[0;34m,\u001b[0m \u001b[0mdof1\u001b[0m\u001b[0;34m)\u001b[0m\u001b[0;34m:\u001b[0m\u001b[0;34m\u001b[0m\u001b[0;34m\u001b[0m\u001b[0m\n",
      "\u001b[0;31mException\u001b[0m: Error executing command: error"
     ]
    }
   ],
   "source": [
    "Fit.error(\"1\")\n",
    "Fit.error(\"2\")\n",
    "\n",
    "out_arr[0,0] = 'bbody'\n",
    "out_arr[0,1:4] = mo.TBabs.nH.values[0], mo.TBabs.nH.values[0] - mo.TBabs.nH.error[0], mo.TBabs.nH.error[1] - mo.TBabs.nH.values[0]\n",
    "out_arr[0,4:7] = mo.bbody.kT.values[0], mo.bbody.kT.values[0] - mo.bbody.kT.error[0], mo.bbody.kT.error[1] - mo.bbody.kT.values[0]\n",
    "out_arr[0,-2:] = Fit.dof, Fit.statistic / Fit.dof\n"
   ]
  },
  {
   "cell_type": "code",
   "execution_count": null,
   "metadata": {
    "scrolled": false
   },
   "outputs": [],
   "source": [
    "AllModels.clear()\n",
    "mo = Model(\"tbabs*bremss\")\n",
    "Fit.perform()\n",
    "Plot(\"data resid\")"
   ]
  },
  {
   "cell_type": "code",
   "execution_count": null,
   "metadata": {},
   "outputs": [],
   "source": [
    "Fit.error(\"1\")\n",
    "Fit.error(\"2\")\n",
    "\n",
    "out_arr[3,0] = 'bremss'\n",
    "out_arr[3,1:4] = mo.TBabs.nH.values[0], mo.TBabs.nH.values[0] - mo.TBabs.nH.error[0], mo.TBabs.nH.error[1] - mo.TBabs.nH.values[0]\n",
    "out_arr[3,4:7] = mo.bremss.kT.values[0], mo.bremss.kT.values[0] - mo.bremss.kT.error[0], mo.bremss.kT.error[1] - mo.bremss.kT.values[0]\n",
    "out_arr[3,-2:] = Fit.dof, Fit.statistic / Fit.dof\n"
   ]
  },
  {
   "cell_type": "code",
   "execution_count": null,
   "metadata": {
    "scrolled": false
   },
   "outputs": [],
   "source": [
    "AllModels.clear()\n",
    "mo = Model(\"tbabs*apec\")\n",
    "Fit.perform()\n",
    "Plot(\"data resid\")"
   ]
  },
  {
   "cell_type": "code",
   "execution_count": null,
   "metadata": {},
   "outputs": [],
   "source": [
    "Fit.error(\"1\")\n",
    "Fit.error(\"2\")\n",
    "\n",
    "out_arr[2,0] = 'apec'\n",
    "out_arr[2,1:4] = mo.TBabs.nH.values[0], mo.TBabs.nH.values[0] - mo.TBabs.nH.error[0], mo.TBabs.nH.error[1] - mo.TBabs.nH.values[0]\n",
    "out_arr[2,13] = mo.apec.Abundanc.values[0]\n",
    "out_arr[2,4:7] = mo.apec.kT.values[0], mo.apec.kT.values[0] - mo.apec.kT.error[0], mo.apec.kT.error[1] - mo.apec.kT.values[0]\n",
    "out_arr[2,-2:] = Fit.dof, Fit.statistic / Fit.dof\n"
   ]
  },
  {
   "cell_type": "code",
   "execution_count": null,
   "metadata": {
    "scrolled": false
   },
   "outputs": [],
   "source": [
    "AllModels.clear()\n",
    "mo = Model(\"tbabs*powerlaw\")\n",
    "Fit.perform()\n",
    "Plot(\"data resid\")"
   ]
  },
  {
   "cell_type": "code",
   "execution_count": null,
   "metadata": {},
   "outputs": [],
   "source": [
    "Fit.error(\"1\")\n",
    "Fit.error(\"2\")\n",
    "\n",
    "out_arr[1,0] = 'powerlaw'\n",
    "out_arr[1,1:4] = mo.TBabs.nH.values[0], mo.TBabs.nH.values[0] - mo.TBabs.nH.error[0], mo.TBabs.nH.error[1] - mo.TBabs.nH.values[0]\n",
    "out_arr[1,14:17] = mo.powerlaw.PhoIndex.values[0], mo.powerlaw.PhoIndex.values[0] - mo.powerlaw.PhoIndex.error[0], mo.powerlaw.PhoIndex.error[1] - mo.powerlaw.PhoIndex.values[0]\n",
    "out_arr[1,-2:] = Fit.dof, Fit.statistic / Fit.dof\n"
   ]
  },
  {
   "cell_type": "code",
   "execution_count": null,
   "metadata": {},
   "outputs": [],
   "source": [
    "np.savetxt('../spec42_output.csv',out_arr,fmt=['%s','%.2f','%.2f','%.2f','%.2f','%.2f','%.2f','%.2f','%.2f','%.2f','%.2f','%.2f','%.2f','%.1f','%.2f','%.2f','%.2f','%i','%.2f'],delimiter=',')\n"
   ]
  },
  {
   "cell_type": "code",
   "execution_count": null,
   "metadata": {},
   "outputs": [],
   "source": [
    "AllModels.calcFlux(\".2 12.0\")"
   ]
  },
  {
   "cell_type": "code",
   "execution_count": null,
   "metadata": {},
   "outputs": [],
   "source": [
    "plx = 2.6453\n",
    "d_kpc = 1/plx\n",
    "F_x = 4.0753*10**-13\n",
    "\n",
    "L_x = 4*3.14*F_x*(d_kpc*3.086*10**21)**2\n",
    "print(L_x)"
   ]
  },
  {
   "cell_type": "code",
   "execution_count": null,
   "metadata": {},
   "outputs": [],
   "source": [
    "import numpy as np\n",
    "print(d_kpc)\n",
    "print(np.log10(L_x))"
   ]
  },
  {
   "cell_type": "code",
   "execution_count": null,
   "metadata": {},
   "outputs": [],
   "source": [
    "F_opt = 1.05*10**-5 * 10**(-0.4*20.51)\n",
    "print('Optical Flux: ',F_opt)\n",
    "print('F_x / F_opt: ', np.log10(F_x/F_opt))"
   ]
  }
 ],
 "metadata": {
  "kernelspec": {
   "display_name": "Python 3 (ipykernel)",
   "language": "python",
   "name": "python3"
  },
  "language_info": {
   "codemirror_mode": {
    "name": "ipython",
    "version": 3
   },
   "file_extension": ".py",
   "mimetype": "text/x-python",
   "name": "python",
   "nbconvert_exporter": "python",
   "pygments_lexer": "ipython3",
   "version": "3.8.10"
  }
 },
 "nbformat": 4,
 "nbformat_minor": 4
}
