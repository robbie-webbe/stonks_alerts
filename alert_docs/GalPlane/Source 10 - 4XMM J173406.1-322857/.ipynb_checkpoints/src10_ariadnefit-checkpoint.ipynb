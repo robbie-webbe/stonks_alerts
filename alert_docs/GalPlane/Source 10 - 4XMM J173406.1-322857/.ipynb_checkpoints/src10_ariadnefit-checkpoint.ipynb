{
 "cells": [
  {
   "cell_type": "code",
   "execution_count": 1,
   "metadata": {},
   "outputs": [
    {
     "name": "stderr",
     "output_type": "stream",
     "text": [
      "Holoviews not imported. Some visualizations will not be available.\n",
      "PyMultiNest not imported.  MultiNest fits will not work.\n",
      "/home/rwebbe/.local/lib/python3.8/site-packages/astroARIADNE/fitter.py:43: UserWarning: (py)MultiNest installation (or libmultinest.dylib) not detected.\n",
      "  warnings.warn(\n"
     ]
    }
   ],
   "source": [
    "from astroARIADNE.star import Star\n",
    "from astroARIADNE.fitter import Fitter\n",
    "from dustmaps.config import config\n",
    "config['data_dir'] = '/home/rwebbe/data/dustmaps'"
   ]
  },
  {
   "cell_type": "code",
   "execution_count": 2,
   "metadata": {
    "scrolled": true
   },
   "outputs": [
    {
     "name": "stdout",
     "output_type": "stream",
     "text": [
      "\n",
      "\t\t#####################################\n",
      "\t\t##             ARIADNE             ##\n",
      "\t\t#####################################\n",
      "   spectrAl eneRgy dIstribution bAyesian moDel averagiNg fittEr\n",
      "\n",
      "\t\t\tAuthor : Jose Vines\n",
      "\t\t\tContact : jose . vines at ug . uchile . cl\n",
      "\t\t\tStar : 4054631272700204672\n",
      "\t\t*** LOOKING UP ARCHIVAL INFORMATION ***\n",
      "INFO: Query finished. [astroquery.utils.tap.core]\n",
      "Warning!: CatalogWarning\n",
      "Warning message: Parameter teff not found! Be advised.\n",
      "Warning!: CatalogWarning\n",
      "Warning message: Parameter radius not found! Be advised.\n",
      "Warning!: CatalogWarning\n",
      "Warning message: Parameter lum not found! Be advised.\n",
      "INFO: Query finished. [astroquery.utils.tap.core]\n",
      "Star not found in catalog TYCHO2.\n",
      "INFO: Query finished. [astroquery.utils.tap.core]\n",
      "INFO: Query finished. [astroquery.utils.tap.core]\n",
      "Star not found in catalog SDSS.\n",
      "INFO: Query finished. [astroquery.utils.tap.core]\n",
      "Star not found in catalog Wise.\n",
      "INFO: Query finished. [astroquery.utils.tap.core]\n",
      "Star not found in catalog 2MASS.\n",
      "INFO: Query finished. [astroquery.utils.tap.core]\n",
      "Star not found in catalog APASS.\n",
      "Looking online for archival magnitudes for star 4054631272700204672\n",
      "Checking catalog Pan-STARRS1\n",
      "Warning!: CatalogWarning\n",
      "Warning message: rmag magnitude not found! Skipping.\n",
      "Warning!: CatalogWarning\n",
      "Warning message: imag magnitude not found! Skipping.\n",
      "Warning!: CatalogWarning\n",
      "Warning message: zmag magnitude not found! Skipping.\n",
      "Warning!: CatalogWarning\n",
      "Warning message: ymag magnitude not found! Skipping.\n",
      "Checking catalog Gaia DR3\n",
      "Warning!: CatalogWarning\n",
      "Warning message: Star is not available in catalog GALEX. Skipping\n",
      "Checking catalog TICv8\n",
      "Warning!: CatalogWarning\n",
      "Warning message: Star is not available in catalog SkyMapper. Skipping\n",
      "Warning!: CatalogWarning\n",
      "Warning message: Star is not available in catalog STROMGREN_PAUNZ. Skipping\n",
      "Warning!: CatalogWarning\n",
      "Warning message: Star is not available in catalog STROMGREN_HAUCK. Skipping\n",
      "Warning!: CatalogWarning\n",
      "Warning message: Star is not available in catalog MERMILLIOD. Skipping\n",
      "\t\t\tGaia DR3 ID : 4054631272700204672\n",
      "\t\t\tTIC : 1422849581\n",
      "\t\t\tGaia Effective temperature : 0.000 +/- 0.000\n",
      "\t\t\tGaia Stellar radius : 0.000 +/- 0.000\n",
      "\t\t\tGaia Stellar Luminosity : 0.000 +/- 0.000\n",
      "\t\t\tGaia Parallax : 1.081 +/- 0.195\n",
      "\t\t\tBailer-Jones distance : 1066.974 +/- 364.490\n",
      "\t\t\tMaximum Av : 48.843\n",
      "\n",
      "\t\t       Filter       \tMagnitude\tUncertainty\n",
      "\t\t--------------------\t---------\t-----------\n",
      "\t\t       PS1_g        \t 20.0150 \t  0.0233   \n",
      "\t\t    GaiaDR2v2_BP    \t 19.4143 \t  0.0498   \n",
      "\t\t    GaiaDR2v2_G     \t 18.3552 \t  0.0035   \n",
      "\t\t    GaiaDR2v2_RP    \t 17.2238 \t  0.0127   \n",
      "\t\t        TESS        \t 17.3506 \t  0.1931   \n",
      "\n"
     ]
    }
   ],
   "source": [
    "gaia_id = 4054631272700204672\n",
    "ra = 263.527068\n",
    "dec = -32.482018\n",
    "starname = str(gaia_id)\n",
    "s = Star(starname, ra, dec, g_id = gaia_id, dustmap='Planck16')"
   ]
  },
  {
   "cell_type": "code",
   "execution_count": 3,
   "metadata": {},
   "outputs": [
    {
     "name": "stdout",
     "output_type": "stream",
     "text": [
      "Created the directory ariadnefit\n",
      "\n",
      "\t\t*** EXECUTING MAIN FITTING ROUTINE ***\n",
      "\t\t\tSelected engine : Bayesian Model Averaging\n",
      "\t\t\tLive points : 500\n",
      "\t\t\tlog Evidence tolerance : 0.5\n",
      "\t\t\tFree parameters : 11\n",
      "\t\t\tBounding : multi\n",
      "\t\t\tSampling : rwalk\n",
      "\t\t\tN threads : 4\n",
      "\n"
     ]
    }
   ],
   "source": [
    "out_folder = 'ariadnefit'\n",
    "\n",
    "engine = 'dynesty'\n",
    "nlive = 500\n",
    "dlogz = 0.5\n",
    "bound = 'multi'\n",
    "sample = 'rwalk'\n",
    "threads = 4\n",
    "dynamic = False\n",
    "setup = [engine, nlive, dlogz, bound, sample, threads, dynamic]\n",
    "\n",
    "models = ['phoenix','btsettl','btnextgen','btcond','kurucz','ck04']\n",
    "f = Fitter()\n",
    "f.star = s\n",
    "f.setup = setup\n",
    "f.av_law = 'fitzpatrick'\n",
    "f.out_folder = out_folder\n",
    "f.bma = True\n",
    "f.models = models\n",
    "f.n_samples = 100000\n",
    "\n",
    "f.prior_setup = {'teff': ('default'),'logg': ('default'),'z': ('default'),'dist': ('default'),'rad': ('default'),'Av': ('default')}\n",
    "f.initialize()\n"
   ]
  },
  {
   "cell_type": "code",
   "execution_count": 4,
   "metadata": {},
   "outputs": [
    {
     "name": "stdout",
     "output_type": "stream",
     "text": [
      "\t\t\tNOT ENOUGH POINTS TO MAKE THE FIT! !\n"
     ]
    }
   ],
   "source": [
    "f.fit_bma()"
   ]
  }
 ],
 "metadata": {
  "kernelspec": {
   "display_name": "Python 3 (ipykernel)",
   "language": "python",
   "name": "python3"
  },
  "language_info": {
   "codemirror_mode": {
    "name": "ipython",
    "version": 3
   },
   "file_extension": ".py",
   "mimetype": "text/x-python",
   "name": "python",
   "nbconvert_exporter": "python",
   "pygments_lexer": "ipython3",
   "version": "3.8.10"
  }
 },
 "nbformat": 4,
 "nbformat_minor": 4
}
