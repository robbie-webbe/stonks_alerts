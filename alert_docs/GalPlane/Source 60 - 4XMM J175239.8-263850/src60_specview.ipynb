{
 "cells": [
  {
   "cell_type": "code",
   "execution_count": 1,
   "metadata": {},
   "outputs": [],
   "source": [
    "%load_ext wurlitzer\n",
    "import numpy as np\n",
    "import glob\n",
    "import os\n",
    "import matplotlib.pyplot as plt\n",
    "from astropy.io import fits\n",
    "from xspec import *\n",
    "plt.rcParams['figure.figsize'] = [9,6]"
   ]
  },
  {
   "cell_type": "code",
   "execution_count": 2,
   "metadata": {},
   "outputs": [],
   "source": [
    "import numpy as np\n",
    "out_arr = np.full((4,19),-np.inf,dtype=object)"
   ]
  },
  {
   "cell_type": "code",
   "execution_count": 3,
   "metadata": {},
   "outputs": [
    {
     "name": "stdout",
     "output_type": "stream",
     "text": [
      "\n",
      "1 spectrum  in use\n",
      " \n",
      "Spectral Data File: 0932200101_PN17grpspec.fits  Spectrum 1\n",
      "Net count rate (cts/s) for Spectrum:1  8.219e-03 +/- 1.418e-03 (71.0 % total)\n",
      " Assigned to Data Group 1 and Plot Group 1\n",
      "  Noticed Channels:  1-8\n",
      "  Telescope: XMM Instrument: EPN  Channel Type: PI\n",
      "  Exposure Time: 7427 sec\n",
      " Using fit statistic: chi\n",
      " Using Background File                0932200101_PN17spec_bkg.fits\n",
      "  Background Exposure Time: 7427 sec\n",
      " Using Response (RMF) File            0932200101_PN17spec.rmf for Source 1\n",
      " Using Auxiliary Response (ARF) File  0932200101_PN17spec.arf\n",
      "\n"
     ]
    }
   ],
   "source": [
    "spec_file = sorted(glob.glob(\"*grpspec.fits\"))\n",
    "spec = Spectrum(spec_file[0])"
   ]
  },
  {
   "cell_type": "code",
   "execution_count": 4,
   "metadata": {},
   "outputs": [
    {
     "data": {
      "image/svg+xml": [
       "<svg xmlns=\"http://www.w3.org/2000/svg\" xmlns:xlink=\"http://www.w3.org/1999/xlink\" style=\"fill-rule: nonzero; stroke-linecap: round; stroke-linejoin: round; transform: scale(1,-1);\" version=\"1.1\" viewbox=\"          225.691483            27.140120          7374.125488          5618.850098\" width=\"100%\" height=\"100%\" preserveAspectRatio=\"xMidYMid\">\n",
       "<style>\n",
       "  .fn { font-family: Arial,Helvetica,sans-serif; }\n",
       "  .fN { font-family: Arial,Helvetica,sans-serif; font-weight: bold;}\n",
       "  .fr { font-family: Times,Times-Roman,Times New Roman,serif; }\n",
       "  .fR { font-family: Times,Times-Roman,Times New Roman,serif; font-weight: bold;}\n",
       "  .fi { font-family: Times,Times-Roman,Times New Roman,serif; font-style: italic;}\n",
       "  .fI { font-family: Times,Times-Roman,Times New Roman,serif; font-style: italic; font-weight: bold;}\n",
       "  .fs { font-family: Zapf-Chancery,Apple Chancery,URW Chancery L,cursive;}\n",
       "  .fS { font-family: Zapf-Chancery,Apple Chancery,URW Chancery L,cursive;font-weight:bold}\n",
       "  .fc { font-family: Arial Narrow,Helvetica Narrow,Arial,Helvetica,sans-serif;}\n",
       "  .fC { font-family: Arial Narrow,Helvetica Narrow,Arial,Helvetica,sans-serif; font-weight:bold;}\n",
       "</style>\n",
       "<g style=\"color: rgb(0, 0, 0); fill: currentColor; stroke: currentColor; stroke-width: 8\">\n",
       "\n",
       "<path fill=\"none\" d=\"M 742 576 l 5935 0 l 0 4607 l -5935 0 l 0 -4607 M 1490 576 l 0 33 M 1977 576 l 0 33 M 2323 576 l 0 33  M 2591 576 l 0 33 M 2810 576 l 0 33 M 2995 576 l 0 33 M 3156 576 l 0 33 M 3297 576 l 0 33 M 3424 576 l 0 66  M 4256 576 l 0 33 M 4743 576 l 0 33 M 5089 576 l 0 33 M 5357 576 l 0 33 M 5576 576 l 0 33 M 5761 576 l 0 33  M 5922 576 l 0 33 M 6063 576 l 0 33 M 6190 576 l 0 66 M 1490 5150 l 0 33 M 1977 5150 l 0 33 M 2323 5150 l 0 33  M 2591 5150 l 0 33 M 2810 5150 l 0 33 M 2995 5150 l 0 33 M 3156 5150 l 0 33 M 3297 5150 l 0 33 M 3424 5117 l 0 66  M 4256 5150 l 0 33 M 4743 5150 l 0 33 M 5089 5150 l 0 33 M 5357 5150 l 0 33 M 5576 5150 l 0 33 M 5761 5150 l 0 33  M 5922 5150 l 0 33 M 6063 5150 l 0 33 M 6190 5117 l 0 66 \"/>\n",
       "<text transform=\"translate(3379,403) scale(1,-1)\"><tspan class=\"fn\" style=\"font-size: 886%;\">1</tspan></text>\n",
       "<text transform=\"translate(6101,403) scale(1,-1)\"><tspan class=\"fn\" style=\"font-size: 886%;\">10</tspan></text>\n",
       "\n",
       "<path fill=\"none\" d=\"M 742 576 l 66 0 M 742 951 l 33 0 M 742 1170 l 33 0 M 742 1326 l 33 0 M 742 1446 l 33 0 M 742 1545 l 33 0  M 742 1629 l 33 0 M 742 1701 l 33 0 M 742 1764 l 33 0 M 742 1821 l 66 0 M 742 2196 l 33 0 M 742 2416 l 33 0  M 742 2571 l 33 0 M 742 2692 l 33 0 M 742 2791 l 33 0 M 742 2874 l 33 0 M 742 2946 l 33 0 M 742 3010 l 33 0  M 742 3067 l 66 0 M 742 3442 l 33 0 M 742 3661 l 33 0 M 742 3817 l 33 0 M 742 3938 l 33 0 M 742 4036 l 33 0  M 742 4120 l 33 0 M 742 4192 l 33 0 M 742 4256 l 33 0 M 742 4313 l 66 0 M 742 4687 l 33 0 M 742 4907 l 33 0  M 742 5062 l 33 0 M 6611 576 l 66 0 M 6644 951 l 33 0 M 6644 1170 l 33 0 M 6644 1326 l 33 0 M 6644 1446 l 33 0  M 6644 1545 l 33 0 M 6644 1629 l 33 0 M 6644 1701 l 33 0 M 6644 1764 l 33 0 M 6611 1821 l 66 0 M 6644 2196 l 33 0  M 6644 2416 l 33 0 M 6644 2571 l 33 0 M 6644 2692 l 33 0 M 6644 2791 l 33 0 M 6644 2874 l 33 0 M 6644 2946 l 33 0  M 6644 3010 l 33 0 M 6611 3067 l 66 0 M 6644 3442 l 33 0 M 6644 3661 l 33 0 M 6644 3817 l 33 0 M 6644 3938 l 33 0  M 6644 4036 l 33 0 M 6644 4120 l 33 0 M 6644 4192 l 33 0 M 6644 4256 l 33 0 M 6611 4313 l 66 0 M 6644 4687 l 33 0  M 6644 4907 l 33 0 M 6644 5062 l 33 0 \"/>\n",
       "<text transform=\"translate(641,432) scale(1,-1) rotate(-90)\"><tspan class=\"fn\" style=\"font-size: 886%;\">10<tspan style=\"font-size: 60%;\" dy=\"-0.6em\">−5<tspan style=\"font-size: 166.667%;\" dy=\"+0.36em\"/></tspan></tspan></text>\n",
       "<text transform=\"translate(641,1678) scale(1,-1) rotate(-90)\"><tspan class=\"fn\" style=\"font-size: 886%;\">10<tspan style=\"font-size: 60%;\" dy=\"-0.6em\">−4<tspan style=\"font-size: 166.667%;\" dy=\"+0.36em\"/></tspan></tspan></text>\n",
       "<text transform=\"translate(641,2923) scale(1,-1) rotate(-90)\"><tspan class=\"fn\" style=\"font-size: 886%;\">10<tspan style=\"font-size: 60%;\" dy=\"-0.6em\">−3<tspan style=\"font-size: 166.667%;\" dy=\"+0.36em\"/></tspan></tspan></text>\n",
       "<text transform=\"translate(641,4157) scale(1,-1) rotate(-90)\"><tspan class=\"fn\" style=\"font-size: 886%;\">0.01</tspan></text>\n",
       "</g>\n",
       "<g style=\"color: rgb(0, 0, 0); fill: currentColor; stroke: currentColor; stroke-width: 4\">\n",
       "<defs>\n",
       "<symbol id=\"M1\" overflow=\"visible\">\n",
       "<circle r=\"1\" fill=\"none\" stroke-width=\"1\"/>\n",
       "</symbol>\n",
       "</defs>\n",
       "<use xlink:href=\"#M1\" transform=\"translate(1186, 4219) scale(4.430)\"/>\n",
       "\n",
       "<path fill=\"none\" d=\"M 742 4219 l 768 0 M 1186 3692 l 0 789 \"/>\n",
       "<use xlink:href=\"#M1\" transform=\"translate(1671, 4489) scale(4.430)\"/>\n",
       "\n",
       "<path fill=\"none\" d=\"M 1510 4489 l 303 0 M 1671 3962 l 0 789 \"/>\n",
       "<use xlink:href=\"#M1\" transform=\"translate(1961, 4486) scale(4.430)\"/>\n",
       "\n",
       "<path fill=\"none\" d=\"M 1813 4486 l 279 0 M 1961 4095 l 0 615 \"/>\n",
       "<use xlink:href=\"#M1\" transform=\"translate(3795, 2560) scale(4.430)\"/>\n",
       "\n",
       "<path fill=\"none\" d=\"M 2092 2560 l 2381 0 M 3795 2033 l 0 789 \"/>\n",
       "<use xlink:href=\"#M1\" transform=\"translate(4694, 3188) scale(4.430)\"/>\n",
       "\n",
       "<path fill=\"none\" d=\"M 4473 3188 l 408 0 M 4694 2939 l 0 418 \"/>\n",
       "<use xlink:href=\"#M1\" transform=\"translate(5080, 3125) scale(4.430)\"/>\n",
       "\n",
       "<path fill=\"none\" d=\"M 4881 3125 l 369 0 M 5080 2919 l 0 354 \"/>\n",
       "<use xlink:href=\"#M1\" transform=\"translate(5466, 2855) scale(4.430)\"/>\n",
       "\n",
       "<path fill=\"none\" d=\"M 5250 2855 l 398 0 M 5466 2606 l 0 418 \"/>\n",
       "<use xlink:href=\"#M1\" transform=\"translate(6270, 1942) scale(4.430)\"/>\n",
       "\n",
       "<path fill=\"none\" d=\"M 5648 1942 l 1029 0 M 6270 1432 l 0 768 \"/>\n",
       "</g>\n",
       "<g style=\"color: rgb(0, 0, 0); fill: currentColor; stroke: currentColor; stroke-width: 8\">\n",
       "<text transform=\"translate(370,2317) scale(1,-1) rotate(-90)\"><tspan class=\"fn\" style=\"font-size: 886%;\">counts s<tspan style=\"font-size: 60%;\" dy=\"-0.6em\">−1<tspan style=\"font-size: 166.667%;\" dy=\"+0.36em\"> keV<tspan style=\"font-size: 60%;\" dy=\"-0.6em\">−1<tspan style=\"font-size: 166.667%;\" dy=\"+0.36em\"/></tspan></tspan></tspan></tspan></text>\n",
       "<text transform=\"translate(3255,215) scale(1,-1)\"><tspan class=\"fn\" style=\"font-size: 886%;\">Energy (keV)</tspan></text>\n",
       "<text transform=\"translate(3534,5442) scale(1,-1)\"><tspan class=\"fn\" style=\"font-size: 886%;\"><tspan class=\"fR\">data</tspan></tspan></text>\n",
       "</g>\n",
       "<g style=\"color: rgb(0, 0, 0); fill: currentColor; stroke: currentColor; stroke-width: 4\">\n",
       "<text transform=\"translate(6246,46) scale(1,-1)\"><tspan class=\"fn\" style=\"font-size: 531.6%;\">rwebbe  3−Sep−2025 11:37</tspan></text>\n",
       "</g>\n",
       "<!-- _PGPLOT_SVG_ATEND: viewbox=\"          225.691483            27.140120          7374.125488          5618.850098\" -->\n",
       "</svg>"
      ],
      "text/plain": [
       "<IPython.core.display.SVG object>"
      ]
     },
     "metadata": {},
     "output_type": "display_data"
    }
   ],
   "source": [
    "Plot.device =\"/svg\"\n",
    "Plot.xAxis=\"keV\"\n",
    "Plot.xLog=True\n",
    "Plot.yLog=True\n",
    "Plot.addCommand(\"Rescale Y 0.00001 0.05\")\n",
    "Plot(\"data\")"
   ]
  },
  {
   "cell_type": "code",
   "execution_count": 5,
   "metadata": {
    "scrolled": false
   },
   "outputs": [
    {
     "data": {
      "image/svg+xml": [
       "<svg xmlns=\"http://www.w3.org/2000/svg\" xmlns:xlink=\"http://www.w3.org/1999/xlink\" style=\"fill-rule: nonzero; stroke-linecap: round; stroke-linejoin: round; transform: scale(1,-1);\" version=\"1.1\" viewbox=\"           -8.104365            27.140120          7607.921387          5564.965820\" width=\"100%\" height=\"100%\" preserveAspectRatio=\"xMidYMid\">\n",
       "<style>\n",
       "  .fn { font-family: Arial,Helvetica,sans-serif; }\n",
       "  .fN { font-family: Arial,Helvetica,sans-serif; font-weight: bold;}\n",
       "  .fr { font-family: Times,Times-Roman,Times New Roman,serif; }\n",
       "  .fR { font-family: Times,Times-Roman,Times New Roman,serif; font-weight: bold;}\n",
       "  .fi { font-family: Times,Times-Roman,Times New Roman,serif; font-style: italic;}\n",
       "  .fI { font-family: Times,Times-Roman,Times New Roman,serif; font-style: italic; font-weight: bold;}\n",
       "  .fs { font-family: Zapf-Chancery,Apple Chancery,URW Chancery L,cursive;}\n",
       "  .fS { font-family: Zapf-Chancery,Apple Chancery,URW Chancery L,cursive;font-weight:bold}\n",
       "  .fc { font-family: Arial Narrow,Helvetica Narrow,Arial,Helvetica,sans-serif;}\n",
       "  .fC { font-family: Arial Narrow,Helvetica Narrow,Arial,Helvetica,sans-serif; font-weight:bold;}\n",
       "</style>\n",
       "<g style=\"color: rgb(0, 0, 0); fill: currentColor; stroke: currentColor; stroke-width: 8\">\n",
       "\n",
       "<path fill=\"none\" d=\"M 742 2304 l 5935 0 l 0 2879 l -5935 0 l 0 -2879 M 1412 2304 l 0 28 M 1907 2304 l 0 28 M 2292 2304 l 0 28  M 2606 2304 l 0 28 M 2872 2304 l 0 28 M 3102 2304 l 0 28 M 3305 2304 l 0 28 M 3486 2304 l 0 56 M 4681 2304 l 0 28  M 5380 2304 l 0 28 M 5875 2304 l 0 28 M 6260 2304 l 0 28 M 6574 2304 l 0 28 M 1412 5155 l 0 28 M 1907 5155 l 0 28  M 2292 5155 l 0 28 M 2606 5155 l 0 28 M 2872 5155 l 0 28 M 3102 5155 l 0 28 M 3305 5155 l 0 28 M 3486 5127 l 0 56  M 4681 5155 l 0 28 M 5380 5155 l 0 28 M 5875 5155 l 0 28 M 6260 5155 l 0 28 M 6574 5155 l 0 28 M 742 2304 l 56 0  M 742 2538 l 28 0 M 742 2675 l 28 0 M 742 2772 l 28 0 M 742 2848 l 28 0 M 742 2909 l 28 0 M 742 2961 l 28 0  M 742 3007 l 28 0 M 742 3046 l 28 0 M 742 3082 l 56 0 M 742 3316 l 28 0 M 742 3453 l 28 0 M 742 3551 l 28 0  M 742 3626 l 28 0 M 742 3688 l 28 0 M 742 3740 l 28 0 M 742 3785 l 28 0 M 742 3825 l 28 0 M 742 3861 l 56 0  M 742 4095 l 28 0 M 742 4232 l 28 0 M 742 4329 l 28 0 M 742 4405 l 28 0 M 742 4466 l 28 0 M 742 4518 l 28 0  M 742 4564 l 28 0 M 742 4603 l 28 0 M 742 4639 l 56 0 M 742 4873 l 28 0 M 742 5010 l 28 0 M 742 5108 l 28 0  M 6621 2304 l 56 0 M 6649 2538 l 28 0 M 6649 2675 l 28 0 M 6649 2772 l 28 0 M 6649 2848 l 28 0 M 6649 2909 l 28 0  M 6649 2961 l 28 0 M 6649 3007 l 28 0 M 6649 3046 l 28 0 M 6621 3082 l 56 0 M 6649 3316 l 28 0 M 6649 3453 l 28 0  M 6649 3551 l 28 0 M 6649 3626 l 28 0 M 6649 3688 l 28 0 M 6649 3740 l 28 0 M 6649 3785 l 28 0 M 6649 3825 l 28 0  M 6621 3861 l 56 0 M 6649 4095 l 28 0 M 6649 4232 l 28 0 M 6649 4329 l 28 0 M 6649 4405 l 28 0 M 6649 4466 l 28 0  M 6649 4518 l 28 0 M 6649 4564 l 28 0 M 6649 4603 l 28 0 M 6621 4639 l 56 0 M 6649 4873 l 28 0 M 6649 5010 l 28 0  M 6649 5108 l 28 0 \"/>\n",
       "<text transform=\"translate(412,2266) scale(1,-1)\"><tspan class=\"fn\" style=\"font-size: 753.1%;\">10<tspan style=\"font-size: 60%;\" dy=\"-0.6em\">−5<tspan style=\"font-size: 166.667%;\" dy=\"+0.36em\"/></tspan></tspan></text>\n",
       "<text transform=\"translate(412,3045) scale(1,-1)\"><tspan class=\"fn\" style=\"font-size: 753.1%;\">10<tspan style=\"font-size: 60%;\" dy=\"-0.6em\">−4<tspan style=\"font-size: 166.667%;\" dy=\"+0.36em\"/></tspan></tspan></text>\n",
       "<text transform=\"translate(412,3823) scale(1,-1)\"><tspan class=\"fn\" style=\"font-size: 753.1%;\">10<tspan style=\"font-size: 60%;\" dy=\"-0.6em\">−3<tspan style=\"font-size: 166.667%;\" dy=\"+0.36em\"/></tspan></tspan></text>\n",
       "<text transform=\"translate(391,4602) scale(1,-1)\"><tspan class=\"fn\" style=\"font-size: 753.1%;\">0.01</tspan></text>\n",
       "</g>\n",
       "<g style=\"color: rgb(0, 0, 0); fill: currentColor; stroke: currentColor; stroke-width: 4\">\n",
       "<defs>\n",
       "<symbol id=\"M1\" overflow=\"visible\">\n",
       "<circle r=\"1\" fill=\"none\" stroke-width=\"1\"/>\n",
       "</symbol>\n",
       "</defs>\n",
       "<use xlink:href=\"#M1\" transform=\"translate(973, 4749) scale(4.430)\"/>\n",
       "\n",
       "<path fill=\"none\" d=\"M 742 4749 l 434 0 M 973 4420 l 0 493 \"/>\n",
       "<use xlink:href=\"#M1\" transform=\"translate(1388, 4747) scale(4.430)\"/>\n",
       "\n",
       "<path fill=\"none\" d=\"M 1176 4747 l 401 0 M 1388 4503 l 0 385 \"/>\n",
       "<use xlink:href=\"#M1\" transform=\"translate(4020, 3544) scale(4.430)\"/>\n",
       "\n",
       "<path fill=\"none\" d=\"M 1577 3544 l 3415 0 M 4020 3214 l 0 493 \"/>\n",
       "<use xlink:href=\"#M1\" transform=\"translate(5309, 3936) scale(4.430)\"/>\n",
       "\n",
       "<path fill=\"none\" d=\"M 4992 3936 l 585 0 M 5309 3781 l 0 261 \"/>\n",
       "<use xlink:href=\"#M1\" transform=\"translate(5862, 3897) scale(4.430)\"/>\n",
       "\n",
       "<path fill=\"none\" d=\"M 5577 3897 l 530 0 M 5862 3768 l 0 222 \"/>\n",
       "<use xlink:href=\"#M1\" transform=\"translate(6415, 3728) scale(4.430)\"/>\n",
       "\n",
       "<path fill=\"none\" d=\"M 6107 3728 l 570 0 M 6415 3572 l 0 262 \"/>\n",
       "</g>\n",
       "<g style=\"color: rgb(0, 0, 0); fill: currentColor; stroke: currentColor; stroke-width: 8\">\n",
       "\n",
       "<path fill=\"none\" d=\"M 742 2673 l 434 0 l 0 -3 l 401 0 l 0 886 l 3415 0 l 0 356 l 585 0 l 0 3 l 530 0 l 0 -197  l 570 0 M 742 2673 l 434 0 M 973 2673 l 0 0 M 1176 2670 l 401 0 M 1388 2670 l 0 0 M 1577 3556 l 3415 0  M 4020 3556 l 0 0 M 4992 3912 l 585 0 M 5309 3912 l 0 0 M 5577 3915 l 530 0 M 5862 3915 l 0 0 M 6107 3718 l 570 0  M 6415 3718 l 0 0 \"/>\n",
       "<text transform=\"translate(111,3265) scale(1,-1) rotate(-90)\"><tspan class=\"fn\" style=\"font-size: 753.1%;\">counts s<tspan style=\"font-size: 60%;\" dy=\"-0.6em\">−1<tspan style=\"font-size: 166.667%;\" dy=\"+0.36em\"> keV<tspan style=\"font-size: 60%;\" dy=\"-0.6em\">−1<tspan style=\"font-size: 166.667%;\" dy=\"+0.36em\"/></tspan></tspan></tspan></tspan></text>\n",
       "<text transform=\"translate(2971,5403) scale(1,-1)\"><tspan class=\"fn\" style=\"font-size: 753.1%;\"><tspan class=\"fR\">data and folded model</tspan></tspan></text>\n",
       "\n",
       "<path fill=\"none\" d=\"M 742 576 l 5935 0 l 0 1728 l -5935 0 l 0 -1728 M 1412 576 l 0 28 M 1907 576 l 0 28 M 2292 576 l 0 28  M 2606 576 l 0 28 M 2872 576 l 0 28 M 3102 576 l 0 28 M 3305 576 l 0 28 M 3486 576 l 0 56 M 4681 576 l 0 28  M 5380 576 l 0 28 M 5875 576 l 0 28 M 6260 576 l 0 28 M 6574 576 l 0 28 M 1412 2275 l 0 29 M 1907 2275 l 0 29  M 2292 2275 l 0 29 M 2606 2275 l 0 29 M 2872 2275 l 0 29 M 3102 2275 l 0 29 M 3305 2275 l 0 29 M 3486 2247 l 0 57  M 4681 2275 l 0 29 M 5380 2275 l 0 29 M 5875 2275 l 0 29 M 6260 2275 l 0 29 M 6574 2275 l 0 29 \"/>\n",
       "<text transform=\"translate(3448,429) scale(1,-1)\"><tspan class=\"fn\" style=\"font-size: 753.1%;\">1</tspan></text>\n",
       "<text transform=\"translate(2197,429) scale(1,-1)\"><tspan class=\"fn\" style=\"font-size: 753.1%;\">0.5</tspan></text>\n",
       "<text transform=\"translate(4643,429) scale(1,-1)\"><tspan class=\"fn\" style=\"font-size: 753.1%;\">2</tspan></text>\n",
       "<text transform=\"translate(6222,429) scale(1,-1)\"><tspan class=\"fn\" style=\"font-size: 753.1%;\">5</tspan></text>\n",
       "\n",
       "<path fill=\"none\" d=\"M 742 624 l 56 0 M 742 743 l 28 0 M 742 861 l 28 0 M 742 980 l 28 0 M 742 1098 l 28 0 M 742 1216 l 56 0  M 742 1335 l 28 0 M 742 1453 l 28 0 M 742 1572 l 28 0 M 742 1690 l 28 0 M 742 1808 l 56 0 M 742 1927 l 28 0  M 742 2045 l 28 0 M 742 2163 l 28 0 M 742 2282 l 28 0 M 6621 624 l 56 0 M 6649 743 l 28 0 M 6649 861 l 28 0  M 6649 980 l 28 0 M 6649 1098 l 28 0 M 6621 1216 l 56 0 M 6649 1335 l 28 0 M 6649 1453 l 28 0 M 6649 1572 l 28 0  M 6649 1690 l 28 0 M 6621 1808 l 56 0 M 6649 1927 l 28 0 M 6649 2045 l 28 0 M 6649 2163 l 28 0 M 6649 2282 l 28 0  \"/>\n",
       "<text transform=\"translate(580,587) scale(1,-1)\"><tspan class=\"fn\" style=\"font-size: 753.1%;\">0</tspan></text>\n",
       "<text transform=\"translate(240,1179) scale(1,-1)\"><tspan class=\"fn\" style=\"font-size: 753.1%;\">5×10<tspan style=\"font-size: 60%;\" dy=\"-0.6em\">−3<tspan style=\"font-size: 166.667%;\" dy=\"+0.36em\"/></tspan></tspan></text>\n",
       "<text transform=\"translate(391,1771) scale(1,-1)\"><tspan class=\"fn\" style=\"font-size: 753.1%;\">0.01</tspan></text>\n",
       "</g>\n",
       "<g style=\"color: rgb(0, 0, 0); fill: currentColor; stroke: currentColor; stroke-width: 4\">\n",
       "<use xlink:href=\"#M1\" transform=\"translate(973, 2262) scale(4.430)\"/>\n",
       "\n",
       "<path fill=\"none\" d=\"M 742 2262 l 434 0 M 973 1240 l 0 1064 \"/>\n",
       "<use xlink:href=\"#M1\" transform=\"translate(1388, 2252) scale(4.430)\"/>\n",
       "\n",
       "<path fill=\"none\" d=\"M 1176 2252 l 401 0 M 1388 1413 l 0 891 \"/>\n",
       "<use xlink:href=\"#M1\" transform=\"translate(4020, 623) scale(4.430)\"/>\n",
       "\n",
       "<path fill=\"none\" d=\"M 1577 623 l 3415 0 M 4020 594 l 0 57 \"/>\n",
       "<use xlink:href=\"#M1\" transform=\"translate(5309, 634) scale(4.430)\"/>\n",
       "\n",
       "<path fill=\"none\" d=\"M 4992 634 l 585 0 M 5309 580 l 0 109 \"/>\n",
       "<use xlink:href=\"#M1\" transform=\"translate(5862, 617) scale(4.430)\"/>\n",
       "\n",
       "<path fill=\"none\" d=\"M 5577 617 l 530 0 M 5862 576 l 0 83 \"/>\n",
       "<use xlink:href=\"#M1\" transform=\"translate(6415, 627) scale(4.430)\"/>\n",
       "\n",
       "<path fill=\"none\" d=\"M 6107 627 l 570 0 M 6415 597 l 0 59 \"/>\n",
       "</g>\n",
       "<g style=\"color: rgb(0, 0, 0); fill: currentColor; stroke: currentColor; stroke-width: 8\">\n",
       "<text transform=\"translate(111,962) scale(1,-1) rotate(-90)\"><tspan class=\"fn\" style=\"font-size: 753.1%;\">counts s<tspan style=\"font-size: 60%;\" dy=\"-0.6em\">−1<tspan style=\"font-size: 166.667%;\" dy=\"+0.36em\"> keV<tspan style=\"font-size: 60%;\" dy=\"-0.6em\">−1<tspan style=\"font-size: 166.667%;\" dy=\"+0.36em\"/></tspan></tspan></tspan></tspan></text>\n",
       "<text transform=\"translate(3323,269) scale(1,-1)\"><tspan class=\"fn\" style=\"font-size: 753.1%;\">Energy (keV)</tspan></text>\n",
       "</g>\n",
       "<g style=\"color: rgb(0, 255, 0); fill: currentColor; stroke: currentColor; stroke-width: 8\">\n",
       "\n",
       "<path fill=\"none\" d=\"M 742 624 l 5935 0 \"/>\n",
       "</g>\n",
       "<g style=\"color: rgb(0, 0, 0); fill: currentColor; stroke: currentColor; stroke-width: 4\">\n",
       "<text transform=\"translate(6246,46) scale(1,-1)\"><tspan class=\"fn\" style=\"font-size: 531.6%;\">rwebbe  3−Sep−2025 11:37</tspan></text>\n",
       "</g>\n",
       "<!-- _PGPLOT_SVG_ATEND: viewbox=\"           -8.104365            27.140120          7607.921387          5564.965820\" -->\n",
       "</svg>"
      ],
      "text/plain": [
       "<IPython.core.display.SVG object>"
      ]
     },
     "metadata": {},
     "output_type": "display_data"
    },
    {
     "name": "stdout",
     "output_type": "stream",
     "text": [
      "     1 channels (1) ignored in spectrum #     1\n",
      "     1 channels (8) ignored in spectrum #     1\n",
      "\n",
      "\n",
      "========================================================================\n",
      "Model TBabs<1>*bbody<2> Source No.: 1   Active/On\n",
      "Model Model Component  Parameter  Unit     Value\n",
      " par  comp\n",
      "   1    1   TBabs      nH         10^22    1.00000      +/-  0.0          \n",
      "   2    2   bbody      kT         keV      3.00000      +/-  0.0          \n",
      "   3    2   bbody      norm                1.00000      +/-  0.0          \n",
      "________________________________________________________________________\n",
      "\n",
      "tbvabs Version 2.3\n",
      "Cosmic absorption with grains and H2, modified from\n",
      "Wilms, Allen, & McCray, 2000, ApJ 542, 914-924\n",
      "Questions: Joern Wilms\n",
      "joern.wilms@sternwarte.uni-erlangen.de\n",
      "joern.wilms@fau.de\n",
      "\n",
      "http://pulsar.sternwarte.uni-erlangen.de/wilms/research/tbabs/\n",
      "\n",
      "PLEASE NOTICE:\n",
      "To get the model described by the above paper\n",
      "you will also have to set the abundances:\n",
      "   abund wilm\n",
      "\n",
      "Note that this routine ignores the current cross section setting\n",
      "as it always HAS to use the Verner cross sections as a baseline.\n",
      "\n",
      "Fit statistic  : Chi-Squared              8.227247e+11     using 6 bins.\n",
      "\n",
      "Test statistic : Chi-Squared              8.227247e+11     using 6 bins.\n",
      " Null hypothesis probability of 0.000000e+00 with 3 degrees of freedom\n",
      " Current data and model not fit yet.\n",
      "                                   Parameters\n",
      "Chi-Squared  |beta|/N    Lvl          1:nH          2:kT        3:norm\n",
      "8.46434      0.262811     -1      0.285480       2.87360   4.71317e-06\n",
      "8.20261      47819.8      -1      0.527756       2.70660   4.29772e-06\n",
      "8.02562      15825.1      -1      0.648282       2.53080   3.83287e-06\n",
      "7.82441      7535.86      -1      0.750355       2.34824   3.39134e-06\n",
      "7.59446      6103.89      -1      0.879195       2.15966   2.98923e-06\n",
      "7.33589      4562.18      -1       1.04629       1.96626   2.63223e-06\n",
      "7.0576       1521.85      -1       1.26457       1.77150   2.33008e-06\n",
      "6.78784      3639.05      -1       1.54415       1.58417   2.09750e-06\n",
      "6.64275      10718.9      -2       2.41737       1.15027   1.65884e-06\n",
      "6.4062       364660       -3       2.75072       1.17595   1.88937e-06\n",
      "Number of trials exceeded: continue fitting? 6.40569      19543.2      -4       2.73681       1.17625   1.89404e-06\n",
      "========================================\n",
      " Variances and Principal Axes\n",
      "                 1        2        3  \n",
      " 1.3197E-13| -0.0000  -0.0000   1.0000  \n",
      " 8.0145E-02| -0.1533  -0.9882  -0.0000  \n",
      " 7.4558E+00|  0.9882  -0.1533   0.0000  \n",
      "----------------------------------------\n",
      "\n",
      "====================================\n",
      "  Covariance Matrix\n",
      "        1           2           3   \n",
      "   7.282e+00  -1.118e+00   7.570e-07\n",
      "  -1.118e+00   2.536e-01  -4.355e-08\n",
      "   7.570e-07  -4.355e-08   2.749e-13\n",
      "------------------------------------\n",
      "\n",
      "========================================================================\n",
      "Model TBabs<1>*bbody<2> Source No.: 1   Active/On\n",
      "Model Model Component  Parameter  Unit     Value\n",
      " par  comp\n",
      "   1    1   TBabs      nH         10^22    2.73681      +/-  2.69859      \n",
      "   2    2   bbody      kT         keV      1.17625      +/-  0.503562     \n",
      "   3    2   bbody      norm                1.89404E-06  +/-  5.24337E-07  \n",
      "________________________________________________________________________\n",
      "\n",
      "\n",
      "Fit statistic  : Chi-Squared                    6.41     using 6 bins.\n",
      "\n",
      "Test statistic : Chi-Squared                    6.41     using 6 bins.\n",
      " Null hypothesis probability of 9.35e-02 with 3 degrees of freedom\n"
     ]
    }
   ],
   "source": [
    "spec.ignore(\"**-0.2 12.0-**\")\n",
    "AllModels.clear()\n",
    "mo1 = Model(\"tbabs*bbody\")\n",
    "Fit.perform()\n",
    "Plot(\"data resid\")"
   ]
  },
  {
   "cell_type": "code",
   "execution_count": 6,
   "metadata": {},
   "outputs": [
    {
     "name": "stdout",
     "output_type": "stream",
     "text": [
      "Cannot do error calc: Reduced Chi^2 (= 2.13523) > maximum (2)\n"
     ]
    },
    {
     "ename": "Exception",
     "evalue": "Error executing command: error",
     "output_type": "error",
     "traceback": [
      "\u001b[0;31m---------------------------------------------------------------------------\u001b[0m",
      "\u001b[0;31mException\u001b[0m                                 Traceback (most recent call last)",
      "\u001b[0;32m<ipython-input-6-21d339ad0c88>\u001b[0m in \u001b[0;36m<module>\u001b[0;34m\u001b[0m\n\u001b[0;32m----> 1\u001b[0;31m \u001b[0mFit\u001b[0m\u001b[0;34m.\u001b[0m\u001b[0merror\u001b[0m\u001b[0;34m(\u001b[0m\u001b[0;34m\"1\"\u001b[0m\u001b[0;34m)\u001b[0m\u001b[0;34m\u001b[0m\u001b[0;34m\u001b[0m\u001b[0m\n\u001b[0m\u001b[1;32m      2\u001b[0m \u001b[0mFit\u001b[0m\u001b[0;34m.\u001b[0m\u001b[0merror\u001b[0m\u001b[0;34m(\u001b[0m\u001b[0;34m\"2\"\u001b[0m\u001b[0;34m)\u001b[0m\u001b[0;34m\u001b[0m\u001b[0;34m\u001b[0m\u001b[0m\n\u001b[1;32m      3\u001b[0m \u001b[0;34m\u001b[0m\u001b[0m\n\u001b[1;32m      4\u001b[0m \u001b[0mout_arr\u001b[0m\u001b[0;34m[\u001b[0m\u001b[0;36m0\u001b[0m\u001b[0;34m,\u001b[0m\u001b[0;36m0\u001b[0m\u001b[0;34m]\u001b[0m \u001b[0;34m=\u001b[0m \u001b[0;34m'bbody'\u001b[0m\u001b[0;34m\u001b[0m\u001b[0;34m\u001b[0m\u001b[0m\n\u001b[1;32m      5\u001b[0m \u001b[0mout_arr\u001b[0m\u001b[0;34m[\u001b[0m\u001b[0;36m0\u001b[0m\u001b[0;34m,\u001b[0m\u001b[0;36m1\u001b[0m\u001b[0;34m:\u001b[0m\u001b[0;36m4\u001b[0m\u001b[0;34m]\u001b[0m \u001b[0;34m=\u001b[0m \u001b[0mmo\u001b[0m\u001b[0;34m.\u001b[0m\u001b[0mTBabs\u001b[0m\u001b[0;34m.\u001b[0m\u001b[0mnH\u001b[0m\u001b[0;34m.\u001b[0m\u001b[0mvalues\u001b[0m\u001b[0;34m[\u001b[0m\u001b[0;36m0\u001b[0m\u001b[0;34m]\u001b[0m\u001b[0;34m,\u001b[0m \u001b[0mmo\u001b[0m\u001b[0;34m.\u001b[0m\u001b[0mTBabs\u001b[0m\u001b[0;34m.\u001b[0m\u001b[0mnH\u001b[0m\u001b[0;34m.\u001b[0m\u001b[0mvalues\u001b[0m\u001b[0;34m[\u001b[0m\u001b[0;36m0\u001b[0m\u001b[0;34m]\u001b[0m \u001b[0;34m-\u001b[0m \u001b[0mmo\u001b[0m\u001b[0;34m.\u001b[0m\u001b[0mTBabs\u001b[0m\u001b[0;34m.\u001b[0m\u001b[0mnH\u001b[0m\u001b[0;34m.\u001b[0m\u001b[0merror\u001b[0m\u001b[0;34m[\u001b[0m\u001b[0;36m0\u001b[0m\u001b[0;34m]\u001b[0m\u001b[0;34m,\u001b[0m \u001b[0mmo\u001b[0m\u001b[0;34m.\u001b[0m\u001b[0mTBabs\u001b[0m\u001b[0;34m.\u001b[0m\u001b[0mnH\u001b[0m\u001b[0;34m.\u001b[0m\u001b[0merror\u001b[0m\u001b[0;34m[\u001b[0m\u001b[0;36m1\u001b[0m\u001b[0;34m]\u001b[0m \u001b[0;34m-\u001b[0m \u001b[0mmo\u001b[0m\u001b[0;34m.\u001b[0m\u001b[0mTBabs\u001b[0m\u001b[0;34m.\u001b[0m\u001b[0mnH\u001b[0m\u001b[0;34m.\u001b[0m\u001b[0mvalues\u001b[0m\u001b[0;34m[\u001b[0m\u001b[0;36m0\u001b[0m\u001b[0;34m]\u001b[0m\u001b[0;34m\u001b[0m\u001b[0;34m\u001b[0m\u001b[0m\n",
      "\u001b[0;32m~/astro_soft/heasoft-6.32.1/x86_64-pc-linux-gnu-libc2.31/lib/python/xspec/fit.py\u001b[0m in \u001b[0;36merror\u001b[0;34m(self, argString, respPar)\u001b[0m\n\u001b[1;32m    423\u001b[0m             \u001b[0merrorArgs\u001b[0m \u001b[0;34m=\u001b[0m \u001b[0;34m[\u001b[0m\u001b[0;34m\"error\"\u001b[0m\u001b[0;34m]\u001b[0m\u001b[0;34m\u001b[0m\u001b[0;34m\u001b[0m\u001b[0m\n\u001b[1;32m    424\u001b[0m         \u001b[0merrorArgs\u001b[0m \u001b[0;34m+=\u001b[0m \u001b[0margString\u001b[0m\u001b[0;34m.\u001b[0m\u001b[0msplit\u001b[0m\u001b[0;34m(\u001b[0m\u001b[0;34m)\u001b[0m\u001b[0;34m\u001b[0m\u001b[0;34m\u001b[0m\u001b[0m\n\u001b[0;32m--> 425\u001b[0;31m         \u001b[0m_pyXspec\u001b[0m\u001b[0;34m.\u001b[0m\u001b[0mdoXspecCmd\u001b[0m\u001b[0;34m(\u001b[0m\u001b[0merrorArgs\u001b[0m\u001b[0;34m)\u001b[0m\u001b[0;34m\u001b[0m\u001b[0;34m\u001b[0m\u001b[0m\n\u001b[0m\u001b[1;32m    426\u001b[0m \u001b[0;34m\u001b[0m\u001b[0m\n\u001b[1;32m    427\u001b[0m     \u001b[0;32mdef\u001b[0m \u001b[0mftest\u001b[0m\u001b[0;34m(\u001b[0m\u001b[0mself\u001b[0m\u001b[0;34m,\u001b[0m \u001b[0mchisq2\u001b[0m\u001b[0;34m,\u001b[0m \u001b[0mdof2\u001b[0m\u001b[0;34m,\u001b[0m \u001b[0mchisq1\u001b[0m\u001b[0;34m,\u001b[0m \u001b[0mdof1\u001b[0m\u001b[0;34m)\u001b[0m\u001b[0;34m:\u001b[0m\u001b[0;34m\u001b[0m\u001b[0;34m\u001b[0m\u001b[0m\n",
      "\u001b[0;31mException\u001b[0m: Error executing command: error"
     ]
    }
   ],
   "source": [
    "Fit.error(\"1\")\n",
    "Fit.error(\"2\")\n",
    "\n",
    "out_arr[0,0] = 'bbody'\n",
    "out_arr[0,1:4] = mo.TBabs.nH.values[0], mo.TBabs.nH.values[0] - mo.TBabs.nH.error[0], mo.TBabs.nH.error[1] - mo.TBabs.nH.values[0]\n",
    "out_arr[0,4:7] = mo.bbody.kT.values[0], mo.bbody.kT.values[0] - mo.bbody.kT.error[0], mo.bbody.kT.error[1] - mo.bbody.kT.values[0]\n",
    "out_arr[0,-2:] = Fit.dof, Fit.statistic / Fit.dof\n"
   ]
  },
  {
   "cell_type": "code",
   "execution_count": null,
   "metadata": {},
   "outputs": [],
   "source": [
    "AllModels.clear()\n",
    "mo = Model(\"tbabs*bremss\")\n",
    "Fit.perform()\n",
    "Plot(\"data resid\")"
   ]
  },
  {
   "cell_type": "code",
   "execution_count": null,
   "metadata": {},
   "outputs": [],
   "source": [
    "Fit.error(\"1\")\n",
    "Fit.error(\"2\")\n",
    "\n",
    "out_arr[3,0] = 'bremss'\n",
    "out_arr[3,1:4] = mo.TBabs.nH.values[0], mo.TBabs.nH.values[0] - mo.TBabs.nH.error[0], mo.TBabs.nH.error[1] - mo.TBabs.nH.values[0]\n",
    "out_arr[3,4:7] = mo.bremss.kT.values[0], mo.bremss.kT.values[0] - mo.bremss.kT.error[0], mo.bremss.kT.error[1] - mo.bremss.kT.values[0]\n",
    "out_arr[3,-2:] = Fit.dof, Fit.statistic / Fit.dof\n"
   ]
  },
  {
   "cell_type": "code",
   "execution_count": null,
   "metadata": {
    "scrolled": false
   },
   "outputs": [],
   "source": [
    "AllModels.clear()\n",
    "mo = Model(\"tbabs*apec\")\n",
    "Fit.perform()\n",
    "Plot(\"data resid\")"
   ]
  },
  {
   "cell_type": "code",
   "execution_count": null,
   "metadata": {},
   "outputs": [],
   "source": [
    "Fit.error(\"1\")\n",
    "Fit.error(\"2\")\n",
    "\n",
    "out_arr[2,0] = 'apec'\n",
    "out_arr[2,1:4] = mo.TBabs.nH.values[0], mo.TBabs.nH.values[0] - mo.TBabs.nH.error[0], mo.TBabs.nH.error[1] - mo.TBabs.nH.values[0]\n",
    "out_arr[2,13] = mo.apec.Abundanc.values[0]\n",
    "out_arr[2,4:7] = mo.apec.kT.values[0], mo.apec.kT.values[0] - mo.apec.kT.error[0], mo.apec.kT.error[1] - mo.apec.kT.values[0]\n",
    "out_arr[2,-2:] = Fit.dof, Fit.statistic / Fit.dof\n"
   ]
  },
  {
   "cell_type": "code",
   "execution_count": null,
   "metadata": {},
   "outputs": [],
   "source": [
    "AllModels.clear()\n",
    "mo = Model(\"tbabs*powerlaw\")\n",
    "Fit.perform()\n",
    "Plot(\"data resid\")"
   ]
  },
  {
   "cell_type": "code",
   "execution_count": null,
   "metadata": {},
   "outputs": [],
   "source": [
    "Fit.error(\"1\")\n",
    "Fit.error(\"2\")\n",
    "\n",
    "out_arr[1,0] = 'powerlaw'\n",
    "out_arr[1,1:4] = mo.TBabs.nH.values[0], mo.TBabs.nH.values[0] - mo.TBabs.nH.error[0], mo.TBabs.nH.error[1] - mo.TBabs.nH.values[0]\n",
    "out_arr[1,14:17] = mo.powerlaw.PhoIndex.values[0], mo.powerlaw.PhoIndex.values[0] - mo.powerlaw.PhoIndex.error[0], mo.powerlaw.PhoIndex.error[1] - mo.powerlaw.PhoIndex.values[0]\n",
    "out_arr[1,-2:] = Fit.dof, Fit.statistic / Fit.dof\n"
   ]
  },
  {
   "cell_type": "code",
   "execution_count": null,
   "metadata": {},
   "outputs": [],
   "source": [
    "np.savetxt('../spec60_output.csv',out_arr,fmt=['%s','%.2f','%.2f','%.2f','%.2f','%.2f','%.2f','%.2f','%.2f','%.2f','%.2f','%.2f','%.2f','%.1f','%.2f','%.2f','%.2f','%i','%.2f'],delimiter=',')\n"
   ]
  },
  {
   "cell_type": "code",
   "execution_count": null,
   "metadata": {},
   "outputs": [],
   "source": [
    "AllModels.calcFlux(\".2 12.0\")"
   ]
  },
  {
   "cell_type": "code",
   "execution_count": null,
   "metadata": {},
   "outputs": [],
   "source": [
    "#plx = 1.4843\n",
    "d_kpc = 8\n",
    "F_x = 1.8924*10**-13\n",
    "\n",
    "L_x = 4*3.14*F_x*(d_kpc*3.086*10**21)**2\n",
    "print(L_x)"
   ]
  },
  {
   "cell_type": "code",
   "execution_count": null,
   "metadata": {},
   "outputs": [],
   "source": [
    "import numpy as np\n",
    "print(d_kpc)\n",
    "print(np.log10(L_x))"
   ]
  },
  {
   "cell_type": "code",
   "execution_count": null,
   "metadata": {},
   "outputs": [],
   "source": [
    "F_opt = 1.05*10**-5 * 10**(-0.4*20.7)\n",
    "print('Optical Flux: ',F_opt)\n",
    "print('F_x / F_opt: ', np.log10(F_x/F_opt))"
   ]
  },
  {
   "cell_type": "code",
   "execution_count": null,
   "metadata": {
    "scrolled": false
   },
   "outputs": [],
   "source": [
    "AllModels.clear()\n",
    "mo = Model(\"tbabs*(bbody+bbody)\")\n",
    "mo.bbody.kT = 0.2\n",
    "mo.bbody_3.kT = 3.0\n",
    "Fit.perform()\n",
    "Plot(\"data resid\")"
   ]
  },
  {
   "cell_type": "code",
   "execution_count": null,
   "metadata": {
    "scrolled": false
   },
   "outputs": [],
   "source": [
    "AllModels.clear()\n",
    "mo = Model(\"tbabs*(bbody+powerlaw)\")\n",
    "mo.bbody.kT = 0.5\n",
    "mo.powerlaw.PhoIndex = 3.0\n",
    "Fit.perform()\n",
    "Plot(\"data resid\")"
   ]
  }
 ],
 "metadata": {
  "kernelspec": {
   "display_name": "Python 3 (ipykernel)",
   "language": "python",
   "name": "python3"
  },
  "language_info": {
   "codemirror_mode": {
    "name": "ipython",
    "version": 3
   },
   "file_extension": ".py",
   "mimetype": "text/x-python",
   "name": "python",
   "nbconvert_exporter": "python",
   "pygments_lexer": "ipython3",
   "version": "3.8.10"
  }
 },
 "nbformat": 4,
 "nbformat_minor": 4
}
