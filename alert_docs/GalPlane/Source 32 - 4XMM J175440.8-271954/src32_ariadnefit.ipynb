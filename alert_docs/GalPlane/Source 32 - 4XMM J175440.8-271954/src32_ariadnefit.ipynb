{
 "cells": [
  {
   "cell_type": "code",
   "execution_count": 1,
   "metadata": {},
   "outputs": [
    {
     "name": "stderr",
     "output_type": "stream",
     "text": [
      "Holoviews not imported. Some visualizations will not be available.\n",
      "PyMultiNest not imported.  MultiNest fits will not work.\n",
      "/home/rwebbe/.local/lib/python3.8/site-packages/astroARIADNE/fitter.py:43: UserWarning: (py)MultiNest installation (or libmultinest.dylib) not detected.\n",
      "  warnings.warn(\n"
     ]
    }
   ],
   "source": [
    "from astroARIADNE.star import Star\n",
    "from astroARIADNE.fitter import Fitter\n",
    "from dustmaps.config import config\n",
    "config['data_dir'] = '/home/rwebbe/data/dustmaps'"
   ]
  },
  {
   "cell_type": "code",
   "execution_count": 2,
   "metadata": {
    "scrolled": true
   },
   "outputs": [
    {
     "name": "stdout",
     "output_type": "stream",
     "text": [
      "\n",
      "\t\t#####################################\n",
      "\t\t##             ARIADNE             ##\n",
      "\t\t#####################################\n",
      "   spectrAl eneRgy dIstribution bAyesian moDel averagiNg fittEr\n",
      "\n",
      "\t\t\tAuthor : Jose Vines\n",
      "\t\t\tContact : jose . vines at ug . uchile . cl\n",
      "\t\t\tStar : 4063606139499981440\n",
      "\t\t*** LOOKING UP ARCHIVAL INFORMATION ***\n",
      "INFO: Query finished. [astroquery.utils.tap.core]\n",
      "INFO: Query finished. [astroquery.utils.tap.core]\n",
      "Star not found in catalog TYCHO2.\n",
      "INFO: Query finished. [astroquery.utils.tap.core]\n",
      "Star not found in catalog Pan-STARRS.\n",
      "INFO: Query finished. [astroquery.utils.tap.core]\n",
      "Star not found in catalog SDSS.\n",
      "INFO: Query finished. [astroquery.utils.tap.core]\n",
      "INFO: Query finished. [astroquery.utils.tap.core]\n",
      "INFO: Query finished. [astroquery.utils.tap.core]\n",
      "Looking online for archival magnitudes for star 4063606139499981440\n",
      "Checking catalog APASS\n",
      "Warning!: CatalogWarning\n",
      "Warning message: Star is not available in catalog APASS. Skipping\n",
      "Checking catalog All-WISE\n",
      "Checking catalog Gaia DR3\n",
      "Checking catalog 2MASS\n",
      "Checking catalog GLIMPSE\n",
      "Warning!: CatalogWarning\n",
      "Warning message: Star is not available in catalog GALEX. Skipping\n",
      "Checking catalog TICv8\n",
      "Warning!: CatalogWarning\n",
      "Warning message: Star is not available in catalog SkyMapper. Skipping\n",
      "Warning!: CatalogWarning\n",
      "Warning message: Star is not available in catalog STROMGREN_PAUNZ. Skipping\n",
      "Warning!: CatalogWarning\n",
      "Warning message: Star is not available in catalog STROMGREN_HAUCK. Skipping\n",
      "Warning!: CatalogWarning\n",
      "Warning message: Star is not available in catalog MERMILLIOD. Skipping\n",
      "\t\t\tGaia DR3 ID : 4063606139499981440\n",
      "\t\t\tTIC : 133738204\n",
      "\t\t\tGaia Effective temperature : 4307.880 +/- 168.727\n",
      "\t\t\tGaia Stellar radius : 7.302 +/- 3.037\n",
      "\t\t\tGaia Stellar Luminosity : 16.542 +/- 1.631\n",
      "\t\t\tGaia Parallax : 1.247 +/- 0.028\n",
      "\t\t\tBailer-Jones distance : 815.439 +/- 21.067\n",
      "\t\t\tMaximum Av : 17.879\n",
      "\n",
      "\t\t       Filter       \tMagnitude\tUncertainty\n",
      "\t\t--------------------\t---------\t-----------\n",
      "\t\t    GaiaDR2v2_BP    \t 12.4684 \t  0.0059   \n",
      "\t\t    GaiaDR2v2_G     \t 11.6953 \t  0.0032   \n",
      "\t\t    GaiaDR2v2_RP    \t 10.8217 \t  0.0055   \n",
      "\t\t        TESS        \t 10.8680 \t  0.0289   \n",
      "\t\t      2MASS_J       \t 9.5550  \t  0.0220   \n",
      "\t\t      2MASS_H       \t 8.9320  \t  0.0250   \n",
      "\t\t      2MASS_Ks      \t 8.7050  \t  0.0230   \n",
      "\t\t    WISE_RSR_W1     \t 8.5920  \t  0.0280   \n",
      "\t\t  SPITZER_IRAC_36   \t 8.5870  \t  0.0450   \n",
      "\t\t  SPITZER_IRAC_45   \t 8.7090  \t  0.0360   \n",
      "\t\t    WISE_RSR_W2     \t 8.7670  \t  0.0260   \n",
      "\n"
     ]
    }
   ],
   "source": [
    "gaia_id = 4063606139499981440\n",
    "ra = 268.6696234\n",
    "dec = -27.3320750\n",
    "starname = str(gaia_id)\n",
    "s = Star(starname, ra, dec, g_id = gaia_id, dustmap='Planck16')"
   ]
  },
  {
   "cell_type": "code",
   "execution_count": 3,
   "metadata": {},
   "outputs": [
    {
     "name": "stdout",
     "output_type": "stream",
     "text": [
      "Created the directory ariadnefit\n",
      "\n",
      "\t\t*** EXECUTING MAIN FITTING ROUTINE ***\n",
      "\t\t\tSelected engine : Bayesian Model Averaging\n",
      "\t\t\tLive points : 500\n",
      "\t\t\tlog Evidence tolerance : 0.5\n",
      "\t\t\tFree parameters : 17\n",
      "\t\t\tBounding : multi\n",
      "\t\t\tSampling : rwalk\n",
      "\t\t\tN threads : 4\n",
      "\n"
     ]
    }
   ],
   "source": [
    "out_folder = 'ariadnefit'\n",
    "\n",
    "engine = 'dynesty'\n",
    "nlive = 500\n",
    "dlogz = 0.5\n",
    "bound = 'multi'\n",
    "sample = 'rwalk'\n",
    "threads = 4\n",
    "dynamic = False\n",
    "setup = [engine, nlive, dlogz, bound, sample, threads, dynamic]\n",
    "\n",
    "models = ['phoenix','btsettl','btnextgen','btcond','kurucz','ck04']\n",
    "f = Fitter()\n",
    "f.star = s\n",
    "f.setup = setup\n",
    "f.av_law = 'fitzpatrick'\n",
    "f.out_folder = out_folder\n",
    "f.bma = True\n",
    "f.models = models\n",
    "f.n_samples = 100000\n",
    "\n",
    "f.prior_setup = {'teff': ('default'),'logg': ('default'),'z': ('default'),'dist': ('default'),'rad': ('default'),'Av': ('default')}\n",
    "f.initialize()\n"
   ]
  },
  {
   "cell_type": "code",
   "execution_count": 4,
   "metadata": {},
   "outputs": [
    {
     "name": "stdout",
     "output_type": "stream",
     "text": [
      "\t\t\tFITTING MODEL : phoenix\n"
     ]
    },
    {
     "name": "stderr",
     "output_type": "stream",
     "text": [
      "9434it [14:02, 11.20it/s, +500 | bound: 103 | nc: 1 | ncall: 210467 | eff(%):  4.731 | loglstar:   -inf < 269.828 <    inf | logz: 251.489 +/-  0.192 | dlogz:  0.001 >  0.500] \n"
     ]
    },
    {
     "name": "stdout",
     "output_type": "stream",
     "text": [
      "\t\t\tFITTING MODEL : btsettl\n"
     ]
    },
    {
     "name": "stderr",
     "output_type": "stream",
     "text": [
      "9547it [16:36,  9.58it/s, +500 | bound: 105 | nc: 1 | ncall: 213087 | eff(%):  4.726 | loglstar:   -inf < 270.161 <    inf | logz: 251.610 +/-    nan | dlogz:  0.001 >  0.500]\n"
     ]
    },
    {
     "name": "stdout",
     "output_type": "stream",
     "text": [
      "\t\t\tFITTING MODEL : kurucz\n"
     ]
    },
    {
     "name": "stderr",
     "output_type": "stream",
     "text": [
      "11038it [14:54, 12.34it/s, +500 | bound: 125 | nc: 1 | ncall: 250958 | eff(%):  4.607 | loglstar:   -inf < 273.776 <    inf | logz: 252.096 +/-    nan | dlogz:  0.001 >  0.500]\n"
     ]
    },
    {
     "name": "stdout",
     "output_type": "stream",
     "text": [
      "\t\t\tFITTING MODEL : ck04\n"
     ]
    },
    {
     "name": "stderr",
     "output_type": "stream",
     "text": [
      "9248it [08:50, 17.42it/s, +500 | bound: 103 | nc: 1 | ncall: 206970 | eff(%):  4.721 | loglstar:   -inf < 270.549 <    inf | logz: 252.506 +/-    nan | dlogz:  0.001 >  0.500] \n"
     ]
    },
    {
     "name": "stdout",
     "output_type": "stream",
     "text": [
      "\t\t*** AVERAGING POSTERIOR SAMPLES ***\n"
     ]
    },
    {
     "name": "stderr",
     "output_type": "stream",
     "text": [
      "100%|██████████| 21/21 [00:01<00:00, 12.58it/s]\n"
     ]
    },
    {
     "name": "stdout",
     "output_type": "stream",
     "text": [
      "\t\t*** ESTIMATING AGE AND MASS USING MIST ISOCHRONES ***\n"
     ]
    },
    {
     "name": "stderr",
     "output_type": "stream",
     "text": [
      "/home/rwebbe/.local/lib/python3.8/site-packages/tables/attributeset.py:459: NaturalNameWarning: object name is not a valid Python identifier: 'axis1_name[Fe/H]'; it does not match the pattern ``^[a-zA-Z_][a-zA-Z0-9_]*$``; you will not be able to use natural naming to access this object; using ``getattr()`` will still work, though\n",
      "  check_attribute_name(name)\n",
      "20067it [03:38, 91.87it/s, +500 | bound: 248 | nc: 1 | ncall: 642762 | eff(%):  3.202 | loglstar:   -inf <  4.203 <    inf | logz: -31.496 +/- 10.399 | dlogz:  0.000 >  0.010]\n"
     ]
    },
    {
     "name": "stdout",
     "output_type": "stream",
     "text": [
      "\n",
      "\t\t\tFitting finished.\n",
      "\t\t\tBest fit parameters are:\n",
      "\t\t\tteff : 4401.8122 + 227.6688 - 212.8208 [3966.2719, 5386.7273]\n",
      "\t\t\tlogg : 4.1428 + 0.4120 - 0.3390 [3.5379, 5.0972]\n",
      "\t\t\t[Fe/H] : -0.1402 + 0.1747 - 0.1780 [-0.6542, 0.3503]\n",
      "\t\t\tdist : 856.0648 + 37.5109 - 22.1218 [817.5921, 961.3840]\n",
      "\t\t\trad : 8.5441 + 0.5273 - 0.3934 [7.4561, 9.9501]\n",
      "\t\t\tAv : 0.6259 + 0.3597 - 0.2546 [0.1444, 1.7992]\n",
      "\t\t\tAngular Diameter : 0.0920 + 0.0068 - 0.0053 [0.0791, 0.1089]\n",
      "\t\t\tGrav mass : 28.9930 + 46.2310 - 15.0251 [8.1891, 353.7658]\n",
      "\t\t\tLuminosity : 24.8426 + 6.1381 - 5.1428 [15.2206, 55.3673]\n",
      "\t\t\tIso mass : 1.0197 + 0.3181 - 0.1024 [0.8479, 1.9376]\n",
      "\t\t\tAge (Gyr) : 7.0916 + 6.3142 - 3.6598 [1.5013, 13.4862]\n",
      "\t\t\tEEP : 514.1469 + 6.0138 - 4.1504 [501.7804, 527.1063]\n",
      "\t\t\tExcess BP noise : 0.0547 + 0.0307 - 0.0264 [0.0048, 0.1481]\n",
      "\t\t\tExcess G noise : 0.0222 + 0.0169 - 0.0105 [0.0026, 0.0757]\n",
      "\t\t\tExcess RP noise : 0.0353 + 0.0292 - 0.0171 [0.0048, 0.1292]\n",
      "\t\t\tExcess TESS noise : 0.1072 + 0.1174 - 0.0679 [0.0062, 0.5549]\n",
      "\t\t\tExcess J noise : 0.1012 + 0.1090 - 0.0576 [0.0093, 0.4750]\n",
      "\t\t\tExcess H noise : 0.1263 + 0.1158 - 0.0755 [0.0070, 0.5316]\n",
      "\t\t\tExcess Ks noise : 0.1125 + 0.1119 - 0.0596 [0.0107, 0.4440]\n",
      "\t\t\tExcess W1 noise : 0.1620 + 0.1087 - 0.0833 [0.0189, 0.5606]\n",
      "\t\t\tExcess IRAC 36 noise : 0.2727 + 0.2240 - 0.1645 [0.0242, 1.0707]\n",
      "\t\t\tExcess IRAC 45 noise : 0.1518 + 0.1332 - 0.0969 [0.0040, 0.7284]\n",
      "\t\t\tExcess W2 noise : 0.1188 + 0.1238 - 0.0698 [0.0062, 0.6793]\n",
      "\t\t\tMamajek Spectral Type : K5V\n",
      "\t\t\tphoenix probability : 0.1486\n",
      "\t\t\tbtsettl probability : 0.1677\n",
      "\t\t\tkurucz probability : 0.2728\n",
      "\t\t\tck04 probability : 0.4108\n",
      "\t\t\tElapsed time : 59 minutes and 23.51 seconds\n"
     ]
    }
   ],
   "source": [
    "f.fit_bma()"
   ]
  },
  {
   "cell_type": "code",
   "execution_count": 1,
   "metadata": {},
   "outputs": [
    {
     "name": "stdout",
     "output_type": "stream",
     "text": [
      "L_X / L_Bol:  4.729778686610903e-05 -4.325159180072402\n"
     ]
    }
   ],
   "source": [
    "import numpy as np\n",
    "\n",
    "Lbol_sun = 4 * 10**33\n",
    "L_bol = Lbol_sun * 24.8426\n",
    "L_x = 4.7*10**30\n",
    "\n",
    "print(\"L_X / L_Bol: \",L_x/L_bol,np.log10(L_x/L_bol))"
   ]
  }
 ],
 "metadata": {
  "kernelspec": {
   "display_name": "Python 3 (ipykernel)",
   "language": "python",
   "name": "python3"
  },
  "language_info": {
   "codemirror_mode": {
    "name": "ipython",
    "version": 3
   },
   "file_extension": ".py",
   "mimetype": "text/x-python",
   "name": "python",
   "nbconvert_exporter": "python",
   "pygments_lexer": "ipython3",
   "version": "3.8.10"
  }
 },
 "nbformat": 4,
 "nbformat_minor": 4
}
