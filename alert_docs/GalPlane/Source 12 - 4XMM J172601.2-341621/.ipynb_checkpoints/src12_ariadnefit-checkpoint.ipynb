{
 "cells": [
  {
   "cell_type": "code",
   "execution_count": 1,
   "metadata": {},
   "outputs": [
    {
     "name": "stderr",
     "output_type": "stream",
     "text": [
      "Holoviews not imported. Some visualizations will not be available.\n",
      "PyMultiNest not imported.  MultiNest fits will not work.\n",
      "/home/rwebbe/.local/lib/python3.8/site-packages/astroARIADNE/fitter.py:43: UserWarning: (py)MultiNest installation (or libmultinest.dylib) not detected.\n",
      "  warnings.warn(\n"
     ]
    }
   ],
   "source": [
    "from astroARIADNE.star import Star\n",
    "from astroARIADNE.fitter import Fitter\n",
    "from dustmaps.config import config\n",
    "config['data_dir'] = '/home/rwebbe/data/dustmaps'"
   ]
  },
  {
   "cell_type": "code",
   "execution_count": 2,
   "metadata": {
    "scrolled": true
   },
   "outputs": [
    {
     "name": "stdout",
     "output_type": "stream",
     "text": [
      "\n",
      "\t\t#####################################\n",
      "\t\t##             ARIADNE             ##\n",
      "\t\t#####################################\n",
      "   spectrAl eneRgy dIstribution bAyesian moDel averagiNg fittEr\n",
      "\n",
      "\t\t\tAuthor : Jose Vines\n",
      "\t\t\tContact : jose . vines at ug . uchile . cl\n",
      "\t\t\tStar : 5976041581831377920\n",
      "\t\t*** LOOKING UP ARCHIVAL INFORMATION ***\n",
      "INFO: Query finished. [astroquery.utils.tap.core]\n",
      "Warning!: CatalogWarning\n",
      "Warning message: Parameter teff not found! Be advised.\n",
      "Warning!: CatalogWarning\n",
      "Warning message: Parameter radius not found! Be advised.\n",
      "Warning!: CatalogWarning\n",
      "Warning message: Parameter lum not found! Be advised.\n",
      "INFO: Query finished. [astroquery.utils.tap.core]\n",
      "Star not found in catalog TYCHO2.\n",
      "INFO: Query finished. [astroquery.utils.tap.core]\n",
      "Star not found in catalog Pan-STARRS.\n",
      "INFO: Query finished. [astroquery.utils.tap.core]\n",
      "Star not found in catalog SDSS.\n",
      "INFO: Query finished. [astroquery.utils.tap.core]\n",
      "Star not found in catalog Wise.\n",
      "INFO: Query finished. [astroquery.utils.tap.core]\n",
      "INFO: Query finished. [astroquery.utils.tap.core]\n",
      "Star not found in catalog APASS.\n",
      "Looking online for archival magnitudes for star 5976041581831377920\n",
      "Checking catalog Gaia DR3\n",
      "Checking catalog 2MASS\n",
      "Warning!: CatalogWarning\n",
      "Warning message: Catalog 2MASS_Ks entry is either an extended source, is of bad quality or is contaminated. Skipping.\n",
      "Checking catalog GLIMPSE\n",
      "Warning!: CatalogWarning\n",
      "Warning message: Star is not available in catalog GALEX. Skipping\n",
      "Checking catalog TICv8\n",
      "Warning!: CatalogWarning\n",
      "Warning message: Star is not available in catalog SkyMapper. Skipping\n",
      "Warning!: CatalogWarning\n",
      "Warning message: Star is not available in catalog STROMGREN_PAUNZ. Skipping\n",
      "Warning!: CatalogWarning\n",
      "Warning message: Star is not available in catalog STROMGREN_HAUCK. Skipping\n",
      "Warning!: CatalogWarning\n",
      "Warning message: Star is not available in catalog MERMILLIOD. Skipping\n",
      "\t\t\tGaia DR3 ID : 5976041581831377920\n",
      "\t\t\tTIC : 159482649\n",
      "\t\t\tGaia Effective temperature : 0.000 +/- 0.000\n",
      "\t\t\tGaia Stellar radius : 0.000 +/- 0.000\n",
      "\t\t\tGaia Stellar Luminosity : 0.000 +/- 0.000\n",
      "\t\t\tGaia Parallax : 0.678 +/- 0.136\n",
      "\t\t\tBailer-Jones distance : 1598.402 +/- 343.100\n",
      "\t\t\tMaximum Av : 22.023\n",
      "\n",
      "\t\t       Filter       \tMagnitude\tUncertainty\n",
      "\t\t--------------------\t---------\t-----------\n",
      "\t\t    GaiaDR2v2_BP    \t 19.1550 \t  0.0293   \n",
      "\t\t    GaiaDR2v2_G     \t 17.1804 \t  0.0039   \n",
      "\t\t    GaiaDR2v2_RP    \t 15.7288 \t  0.0067   \n",
      "\t\t        TESS        \t 15.9474 \t  0.0119   \n",
      "\t\t      2MASS_J       \t 12.8500 \t  0.0280   \n",
      "\t\t      2MASS_H       \t 11.6160 \t  0.0390   \n",
      "\t\t  SPITZER_IRAC_36   \t 10.6130 \t  0.0480   \n",
      "\t\t  SPITZER_IRAC_45   \t 10.4380 \t  0.0520   \n",
      "\n"
     ]
    }
   ],
   "source": [
    "gaia_id = 5976041581831377920\n",
    "ra = 261.5044946\n",
    "dec = -34.2726798\n",
    "starname = str(gaia_id)\n",
    "s = Star(starname, ra, dec, g_id = gaia_id, dustmap='Planck16')"
   ]
  },
  {
   "cell_type": "code",
   "execution_count": 3,
   "metadata": {},
   "outputs": [
    {
     "name": "stdout",
     "output_type": "stream",
     "text": [
      "Created the directory ariadnefit\n",
      "\n",
      "\t\t*** EXECUTING MAIN FITTING ROUTINE ***\n",
      "\t\t\tSelected engine : Bayesian Model Averaging\n",
      "\t\t\tLive points : 500\n",
      "\t\t\tlog Evidence tolerance : 0.5\n",
      "\t\t\tFree parameters : 14\n",
      "\t\t\tBounding : multi\n",
      "\t\t\tSampling : rwalk\n",
      "\t\t\tN threads : 4\n",
      "\n"
     ]
    }
   ],
   "source": [
    "out_folder = 'ariadnefit'\n",
    "\n",
    "engine = 'dynesty'\n",
    "nlive = 500\n",
    "dlogz = 0.5\n",
    "bound = 'multi'\n",
    "sample = 'rwalk'\n",
    "threads = 4\n",
    "dynamic = False\n",
    "setup = [engine, nlive, dlogz, bound, sample, threads, dynamic]\n",
    "\n",
    "models = ['phoenix','btsettl','btnextgen','btcond','kurucz','ck04']\n",
    "f = Fitter()\n",
    "f.star = s\n",
    "f.setup = setup\n",
    "f.av_law = 'fitzpatrick'\n",
    "f.out_folder = out_folder\n",
    "f.bma = True\n",
    "f.models = models\n",
    "f.n_samples = 100000\n",
    "\n",
    "f.prior_setup = {'teff': ('default'),'logg': ('default'),'z': ('default'),'dist': ('default'),'rad': ('default'),'Av': ('default')}\n",
    "f.initialize()\n"
   ]
  },
  {
   "cell_type": "code",
   "execution_count": 4,
   "metadata": {},
   "outputs": [
    {
     "name": "stdout",
     "output_type": "stream",
     "text": [
      "\t\t\tFITTING MODEL : phoenix\n"
     ]
    },
    {
     "name": "stderr",
     "output_type": "stream",
     "text": [
      "8493it [03:13, 43.97it/s, +500 | bound: 90 | nc: 1 | ncall: 185686 | eff(%):  4.856 | loglstar:   -inf < 209.531 <    inf | logz: 193.182 +/-  0.185 | dlogz:  0.001 >  0.500] \n"
     ]
    },
    {
     "name": "stdout",
     "output_type": "stream",
     "text": [
      "\t\t\tFITTING MODEL : btsettl\n"
     ]
    },
    {
     "name": "stderr",
     "output_type": "stream",
     "text": [
      "8722it [03:16, 44.43it/s, +500 | bound: 93 | nc: 1 | ncall: 191749 | eff(%):  4.822 | loglstar:   -inf < 209.160 <    inf | logz: 192.289 +/-    nan | dlogz:  0.001 >  0.500]  \n"
     ]
    },
    {
     "name": "stdout",
     "output_type": "stream",
     "text": [
      "\t\t\tFITTING MODEL : btnextgen\n"
     ]
    },
    {
     "name": "stderr",
     "output_type": "stream",
     "text": [
      "9149it [03:24, 44.69it/s, +500 | bound: 100 | nc: 1 | ncall: 203572 | eff(%):  4.752 | loglstar:   -inf < 209.511 <    inf | logz: 191.758 +/-    nan | dlogz:  0.001 >  0.500] \n"
     ]
    },
    {
     "name": "stdout",
     "output_type": "stream",
     "text": [
      "\t\t\tFITTING MODEL : btcond\n"
     ]
    },
    {
     "name": "stderr",
     "output_type": "stream",
     "text": [
      "8664it [03:11, 45.24it/s, +500 | bound: 93 | nc: 1 | ncall: 190486 | eff(%):  4.824 | loglstar:   -inf < 208.953 <    inf | logz: 192.228 +/-    nan | dlogz:  0.001 >  0.500]  \n"
     ]
    },
    {
     "name": "stdout",
     "output_type": "stream",
     "text": [
      "\t\t*** AVERAGING POSTERIOR SAMPLES ***\n"
     ]
    },
    {
     "name": "stderr",
     "output_type": "stream",
     "text": [
      "100%|██████████| 18/18 [00:00<00:00, 35.05it/s]\n"
     ]
    },
    {
     "name": "stdout",
     "output_type": "stream",
     "text": [
      "\t\t*** ESTIMATING AGE AND MASS USING MIST ISOCHRONES ***\n"
     ]
    },
    {
     "name": "stderr",
     "output_type": "stream",
     "text": [
      "12481it [01:05, 191.13it/s, +500 | bound: 148 | nc: 1 | ncall: 353371 | eff(%):  3.679 | loglstar:   -inf < -23.782 <    inf | logz: -44.308 +/- 11.799 | dlogz:  0.000 >  0.010]\n"
     ]
    },
    {
     "name": "stdout",
     "output_type": "stream",
     "text": [
      "\n",
      "\t\t\tFitting finished.\n",
      "\t\t\tBest fit parameters are:\n",
      "\t\t\tteff : 4566.7275 + 402.7033 - 282.7492 [3829.8660, 6391.7448]\n",
      "\t\t\tlogg : 4.3246 + 0.7978 - 0.4701 [3.5696, 5.6922]\n",
      "\t\t\t[Fe/H] : -0.1881 + 0.1525 - 0.1802 [-0.6525, 0.3838]\n",
      "\t\t\tdist : 2655.3516 + 510.8360 - 527.0530 [1641.7881, 4066.2319]\n",
      "\t\t\trad : 5.9796 + 1.6385 - 1.3710 [3.5386, 13.5367]\n",
      "\t\t\tAv : 3.9234 + 0.6663 - 0.4442 [2.6026, 6.0977]\n",
      "\t\t\tAngular Diameter : 0.0204 + 0.0080 - 0.0053 [0.0104, 0.0572]\n",
      "\t\t\tGrav mass : 20.6354 + 75.5322 - 17.7723 [2.8631, 709.3112]\n",
      "\t\t\tLuminosity : 13.5114 + 11.5274 - 5.9383 [3.3813, 107.4769]\n",
      "\t\t\tIso mass : 0.9633 + 0.2220 - 0.1480 [0.3241, 2.3357]\n",
      "\t\t\tAge (Gyr) : 8.3007 + 4.7819 - 8.1202 [0.0001, 13.4435]\n",
      "\t\t\tEEP : 467.7529 + 35.3298 - 157.9448 [50.0306, 671.4185]\n",
      "\t\t\tExcess BP noise : 0.2378 + 0.1242 - 0.1197 [0.0165, 0.6894]\n",
      "\t\t\tExcess G noise : 0.0464 + 0.0266 - 0.0300 [0.0054, 0.1186]\n",
      "\t\t\tExcess RP noise : 0.0511 + 0.0507 - 0.0227 [0.0126, 0.1870]\n",
      "\t\t\tExcess TESS noise : 0.2009 + 0.0675 - 0.0542 [0.0894, 0.3953]\n",
      "\t\t\tExcess J noise : 0.3658 + 0.1385 - 0.1045 [0.0984, 0.8228]\n",
      "\t\t\tExcess H noise : 0.5175 + 0.2047 - 0.1375 [0.1913, 1.1443]\n",
      "\t\t\tExcess IRAC 36 noise : 0.5834 + 0.2252 - 0.1513 [0.2327, 1.3364]\n",
      "\t\t\tExcess IRAC 45 noise : 0.6171 + 0.1771 - 0.1469 [0.2930, 1.4158]\n",
      "\t\t\tMamajek Spectral Type : K4.5V\n",
      "\t\t\tphoenix probability : 0.4913\n",
      "\t\t\tbtsettl probability : 0.2011\n",
      "\t\t\tbtnextgen probability : 0.1183\n",
      "\t\t\tbtcond probability : 0.1892\n",
      "\t\t\tElapsed time : 14 minutes and 48.37 seconds\n"
     ]
    }
   ],
   "source": [
    "f.fit_bma()"
   ]
  },
  {
   "cell_type": "code",
   "execution_count": 1,
   "metadata": {},
   "outputs": [
    {
     "name": "stdout",
     "output_type": "stream",
     "text": [
      "L_X / L_Bol:  0.0009991562680403215 -3.000366582804864\n"
     ]
    }
   ],
   "source": [
    "import numpy as np\n",
    "\n",
    "Lbol_sun = 4 * 10**33\n",
    "L_bol = Lbol_sun * 13.5114\n",
    "L_x = 5.4*10**31\n",
    "\n",
    "print(\"L_X / L_Bol: \",L_x/L_bol,np.log10(L_x/L_bol))"
   ]
  }
 ],
 "metadata": {
  "kernelspec": {
   "display_name": "Python 3 (ipykernel)",
   "language": "python",
   "name": "python3"
  },
  "language_info": {
   "codemirror_mode": {
    "name": "ipython",
    "version": 3
   },
   "file_extension": ".py",
   "mimetype": "text/x-python",
   "name": "python",
   "nbconvert_exporter": "python",
   "pygments_lexer": "ipython3",
   "version": "3.8.10"
  }
 },
 "nbformat": 4,
 "nbformat_minor": 4
}
