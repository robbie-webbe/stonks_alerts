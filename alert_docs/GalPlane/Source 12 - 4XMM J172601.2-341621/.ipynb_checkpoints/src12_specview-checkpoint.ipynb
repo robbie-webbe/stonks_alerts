{
 "cells": [
  {
   "cell_type": "code",
   "execution_count": 1,
   "metadata": {},
   "outputs": [],
   "source": [
    "%load_ext wurlitzer\n",
    "import glob\n",
    "import os\n",
    "from xspec import *\n",
    "from stingray import Lightcurve\n",
    "from astropy.io import fits\n",
    "import matplotlib.pyplot as plt\n",
    "plt.rcParams['figure.figsize'] = [12,8]\n",
    "os.chdir('pps/')\n",
    "\n",
    "Fit.statMethod = \"chi\"\n",
    "Fit.nIterations = 100000\n",
    "Fit.delta = 1e-4\n",
    "Fit.criticalDelta = 1e-4"
   ]
  },
  {
   "cell_type": "code",
   "execution_count": 2,
   "metadata": {},
   "outputs": [],
   "source": [
    "import numpy as np\n",
    "out_arr = np.full((4,19),-np.inf,dtype=object)"
   ]
  },
  {
   "cell_type": "code",
   "execution_count": 3,
   "metadata": {},
   "outputs": [
    {
     "name": "stdout",
     "output_type": "stream",
     "text": [
      "***Warning: Detected response matrix energy bin value = 0 (or neg).\n",
      "     XSPEC will instead use small finite value (response file will not be altered).\n",
      "\n",
      "1 spectrum  in use\n",
      " \n",
      "Spectral Data File: P0886040401M1S001SRSPEC0017.FTZ  Spectrum 1\n",
      "Net count rate (cts/s) for Spectrum:1  7.430e-03 +/- 6.424e-04 (84.4 % total)\n",
      " Assigned to Data Group 1 and Plot Group 1\n",
      "  Noticed Channels:  1-9\n",
      "  Telescope: XMM Instrument: EMOS1  Channel Type: PI\n",
      "  Exposure Time: 2.136e+04 sec\n",
      " Using fit statistic: chi\n",
      " Using Background File                P0886040401M1S001BGSPEC0017.FTZ\n",
      "  Background Exposure Time: 2.136e+04 sec\n",
      " Using Response (RMF) File            m1_e13_im_pall_o.rmf for Source 1\n",
      " Using Auxiliary Response (ARF) File  P0886040401M1S001SRCARF0017.FTZ\n",
      "\n"
     ]
    },
    {
     "data": {
      "image/svg+xml": [
       "<svg xmlns=\"http://www.w3.org/2000/svg\" xmlns:xlink=\"http://www.w3.org/1999/xlink\" style=\"fill-rule: nonzero; stroke-linecap: round; stroke-linejoin: round; transform: scale(1,-1);\" version=\"1.1\" viewbox=\"          225.691238            27.140120          7371.414062          5618.850098\" width=\"100%\" height=\"100%\" preserveAspectRatio=\"xMidYMid\">\n",
       "<style>\n",
       "  .fn { font-family: Arial,Helvetica,sans-serif; }\n",
       "  .fN { font-family: Arial,Helvetica,sans-serif; font-weight: bold;}\n",
       "  .fr { font-family: Times,Times-Roman,Times New Roman,serif; }\n",
       "  .fR { font-family: Times,Times-Roman,Times New Roman,serif; font-weight: bold;}\n",
       "  .fi { font-family: Times,Times-Roman,Times New Roman,serif; font-style: italic;}\n",
       "  .fI { font-family: Times,Times-Roman,Times New Roman,serif; font-style: italic; font-weight: bold;}\n",
       "  .fs { font-family: Zapf-Chancery,Apple Chancery,URW Chancery L,cursive;}\n",
       "  .fS { font-family: Zapf-Chancery,Apple Chancery,URW Chancery L,cursive;font-weight:bold}\n",
       "  .fc { font-family: Arial Narrow,Helvetica Narrow,Arial,Helvetica,sans-serif;}\n",
       "  .fC { font-family: Arial Narrow,Helvetica Narrow,Arial,Helvetica,sans-serif; font-weight:bold;}\n",
       "</style>\n",
       "<g style=\"color: rgb(0, 0, 0); fill: currentColor; stroke: currentColor; stroke-width: 8\">\n",
       "\n",
       "<path fill=\"none\" d=\"M 742 576 l 5935 0 l 0 4607 l -5935 0 l 0 -4607 M 920 576 l 0 33 M 1298 576 l 0 33 M 1607 576 l 0 33  M 1867 576 l 0 33 M 2093 576 l 0 33 M 2293 576 l 0 33 M 2471 576 l 0 66 M 3644 576 l 0 33 M 4331 576 l 0 33  M 4818 576 l 0 33 M 5195 576 l 0 33 M 5504 576 l 0 33 M 5765 576 l 0 33 M 5991 576 l 0 33 M 6190 576 l 0 33  M 6369 576 l 0 66 M 920 5150 l 0 33 M 1298 5150 l 0 33 M 1607 5150 l 0 33 M 1867 5150 l 0 33 M 2093 5150 l 0 33  M 2293 5150 l 0 33 M 2471 5117 l 0 66 M 3644 5150 l 0 33 M 4331 5150 l 0 33 M 4818 5150 l 0 33 M 5195 5150 l 0 33  M 5504 5150 l 0 33 M 5765 5150 l 0 33 M 5991 5150 l 0 33 M 6190 5150 l 0 33 M 6369 5117 l 0 66 \"/>\n",
       "<text transform=\"translate(2426,403) scale(1,-1)\"><tspan class=\"fn\" style=\"font-size: 886%;\">1</tspan></text>\n",
       "<text transform=\"translate(6279,403) scale(1,-1)\"><tspan class=\"fn\" style=\"font-size: 886%;\">10</tspan></text>\n",
       "<text transform=\"translate(1186,403) scale(1,-1)\"><tspan class=\"fn\" style=\"font-size: 886%;\">0.5</tspan></text>\n",
       "<text transform=\"translate(3600,403) scale(1,-1)\"><tspan class=\"fn\" style=\"font-size: 886%;\">2</tspan></text>\n",
       "<text transform=\"translate(5150,403) scale(1,-1)\"><tspan class=\"fn\" style=\"font-size: 886%;\">5</tspan></text>\n",
       "\n",
       "<path fill=\"none\" d=\"M 742 576 l 66 0 M 742 1392 l 33 0 M 742 1870 l 33 0 M 742 2209 l 33 0 M 742 2471 l 33 0 M 742 2686 l 33 0  M 742 2868 l 33 0 M 742 3025 l 33 0 M 742 3164 l 33 0 M 742 3288 l 66 0 M 742 4104 l 33 0 M 742 4581 l 33 0  M 742 4920 l 33 0 M 742 5183 l 33 0 M 6611 576 l 66 0 M 6644 1392 l 33 0 M 6644 1870 l 33 0 M 6644 2209 l 33 0  M 6644 2471 l 33 0 M 6644 2686 l 33 0 M 6644 2868 l 33 0 M 6644 3025 l 33 0 M 6644 3164 l 33 0 M 6611 3288 l 66 0  M 6644 4104 l 33 0 M 6644 4581 l 33 0 M 6644 4920 l 33 0 M 6644 5183 l 33 0 \"/>\n",
       "<text transform=\"translate(641,432) scale(1,-1) rotate(-90)\"><tspan class=\"fn\" style=\"font-size: 886%;\">10<tspan style=\"font-size: 60%;\" dy=\"-0.6em\">−4<tspan style=\"font-size: 166.667%;\" dy=\"+0.36em\"/></tspan></tspan></text>\n",
       "<text transform=\"translate(641,3144) scale(1,-1) rotate(-90)\"><tspan class=\"fn\" style=\"font-size: 886%;\">10<tspan style=\"font-size: 60%;\" dy=\"-0.6em\">−3<tspan style=\"font-size: 166.667%;\" dy=\"+0.36em\"/></tspan></tspan></text>\n",
       "<text transform=\"translate(641,1147) scale(1,-1) rotate(-90)\"><tspan class=\"fn\" style=\"font-size: 886%;\">2×10<tspan style=\"font-size: 60%;\" dy=\"-0.6em\">−4<tspan style=\"font-size: 166.667%;\" dy=\"+0.36em\"/></tspan></tspan></text>\n",
       "<text transform=\"translate(641,2226) scale(1,-1) rotate(-90)\"><tspan class=\"fn\" style=\"font-size: 886%;\">5×10<tspan style=\"font-size: 60%;\" dy=\"-0.6em\">−4<tspan style=\"font-size: 166.667%;\" dy=\"+0.36em\"/></tspan></tspan></text>\n",
       "<text transform=\"translate(641,3859) scale(1,-1) rotate(-90)\"><tspan class=\"fn\" style=\"font-size: 886%;\">2×10<tspan style=\"font-size: 60%;\" dy=\"-0.6em\">−3<tspan style=\"font-size: 166.667%;\" dy=\"+0.36em\"/></tspan></tspan></text>\n",
       "<text transform=\"translate(641,4938) scale(1,-1) rotate(-90)\"><tspan class=\"fn\" style=\"font-size: 886%;\">5×10<tspan style=\"font-size: 60%;\" dy=\"-0.6em\">−3<tspan style=\"font-size: 166.667%;\" dy=\"+0.36em\"/></tspan></tspan></text>\n",
       "</g>\n",
       "<g style=\"color: rgb(0, 0, 0); fill: currentColor; stroke: currentColor; stroke-width: 4\">\n",
       "<defs>\n",
       "<symbol id=\"M1\" overflow=\"visible\">\n",
       "<circle r=\"1\" fill=\"none\" stroke-width=\"1\"/>\n",
       "</symbol>\n",
       "</defs>\n",
       "<use xlink:href=\"#M1\" transform=\"translate(1990, 3195) scale(4.430)\"/>\n",
       "\n",
       "<path fill=\"none\" d=\"M 742 3195 l 1958 0 M 1990 2793 l 0 701 \"/>\n",
       "<use xlink:href=\"#M1\" transform=\"translate(2866, 4812) scale(4.430)\"/>\n",
       "\n",
       "<path fill=\"none\" d=\"M 2700 4812 l 316 0 M 2866 4482 l 0 587 M 3103 4969 l 0 214 \"/>\n",
       "<use xlink:href=\"#M1\" transform=\"translate(3308, 4842) scale(4.430)\"/>\n",
       "\n",
       "<path fill=\"none\" d=\"M 3185 4842 l 238 0 M 3308 4513 l 0 585 \"/>\n",
       "<use xlink:href=\"#M1\" transform=\"translate(3542, 4796) scale(4.430)\"/>\n",
       "\n",
       "<path fill=\"none\" d=\"M 3423 4796 l 230 0 M 3542 4482 l 0 561 \"/>\n",
       "<use xlink:href=\"#M1\" transform=\"translate(3928, 3430) scale(4.430)\"/>\n",
       "\n",
       "<path fill=\"none\" d=\"M 3653 3430 l 512 0 M 3928 3073 l 0 630 \"/>\n",
       "<use xlink:href=\"#M1\" transform=\"translate(4470, 2913) scale(4.430)\"/>\n",
       "\n",
       "<path fill=\"none\" d=\"M 4165 2913 l 564 0 M 4470 2546 l 0 647 \"/>\n",
       "<use xlink:href=\"#M1\" transform=\"translate(4919, 3191) scale(4.430)\"/>\n",
       "\n",
       "<path fill=\"none\" d=\"M 4729 3191 l 362 0 M 4919 2851 l 0 604 \"/>\n",
       "<use xlink:href=\"#M1\" transform=\"translate(6063, 738) scale(4.430)\"/>\n",
       "\n",
       "<path fill=\"none\" d=\"M 5091 738 l 1586 0 M 6063 576 l 0 463 \"/>\n",
       "</g>\n",
       "<g style=\"color: rgb(0, 0, 0); fill: currentColor; stroke: currentColor; stroke-width: 8\">\n",
       "<text transform=\"translate(370,2317) scale(1,-1) rotate(-90)\"><tspan class=\"fn\" style=\"font-size: 886%;\">counts s<tspan style=\"font-size: 60%;\" dy=\"-0.6em\">−1<tspan style=\"font-size: 166.667%;\" dy=\"+0.36em\"> keV<tspan style=\"font-size: 60%;\" dy=\"-0.6em\">−1<tspan style=\"font-size: 166.667%;\" dy=\"+0.36em\"/></tspan></tspan></tspan></tspan></text>\n",
       "<text transform=\"translate(3255,215) scale(1,-1)\"><tspan class=\"fn\" style=\"font-size: 886%;\">Energy (keV)</tspan></text>\n",
       "<text transform=\"translate(3534,5442) scale(1,-1)\"><tspan class=\"fn\" style=\"font-size: 886%;\"><tspan class=\"fR\">data</tspan></tspan></text>\n",
       "</g>\n",
       "<g style=\"color: rgb(0, 0, 0); fill: currentColor; stroke: currentColor; stroke-width: 4\">\n",
       "<text transform=\"translate(6246,46) scale(1,-1)\"><tspan class=\"fn\" style=\"font-size: 531.6%;\">rwebbe  3−Sep−2025 09:19</tspan></text>\n",
       "</g>\n",
       "<!-- _PGPLOT_SVG_ATEND: viewbox=\"          225.691238            27.140120          7371.414062          5618.850098\" -->\n",
       "</svg>"
      ],
      "text/plain": [
       "<IPython.core.display.SVG object>"
      ]
     },
     "metadata": {},
     "output_type": "display_data"
    }
   ],
   "source": [
    "spec_fnames = glob.glob('P*M1S*SRSPEC*.FTZ')\n",
    "\n",
    "spec = Spectrum(spec_fnames[0])\n",
    "Plot.device=\"/svg\"\n",
    "Plot.xAxis=\"keV\"\n",
    "Plot.xLog=True\n",
    "Plot.yLog=True\n",
    "Plot.addCommand(\"Rescale Y 0.0001 0.005\")\n",
    "Plot(\"data\")"
   ]
  },
  {
   "cell_type": "code",
   "execution_count": 4,
   "metadata": {
    "scrolled": false
   },
   "outputs": [
    {
     "name": "stdout",
     "output_type": "stream",
     "text": [
      "      No channels ignored (no channels in specified range)\n",
      "     1 channels (9) ignored in spectrum #     1\n",
      "\n",
      "\n",
      "========================================================================\n",
      "Model TBabs<1>*bbody<2> Source No.: 1   Active/On\n",
      "Model Model Component  Parameter  Unit     Value\n",
      " par  comp\n",
      "   1    1   TBabs      nH         10^22    1.00000      +/-  0.0          \n",
      "   2    2   bbody      kT         keV      3.00000      +/-  0.0          \n",
      "   3    2   bbody      norm                1.00000      +/-  0.0          \n",
      "________________________________________________________________________\n",
      "\n",
      "tbvabs Version 2.3\n",
      "Cosmic absorption with grains and H2, modified from\n",
      "Wilms, Allen, & McCray, 2000, ApJ 542, 914-924\n",
      "Questions: Joern Wilms\n",
      "joern.wilms@sternwarte.uni-erlangen.de\n",
      "joern.wilms@fau.de\n",
      "\n",
      "http://pulsar.sternwarte.uni-erlangen.de/wilms/research/tbabs/\n",
      "\n",
      "PLEASE NOTICE:\n",
      "To get the model described by the above paper\n",
      "you will also have to set the abundances:\n",
      "   abund wilm\n",
      "\n",
      "Note that this routine ignores the current cross section setting\n",
      "as it always HAS to use the Verner cross sections as a baseline.\n",
      "\n",
      "Fit statistic  : Chi-Squared              3.216321e+11     using 8 bins.\n",
      "\n",
      "Test statistic : Chi-Squared              3.216321e+11     using 8 bins.\n",
      " Null hypothesis probability of 0.000000e+00 with 5 degrees of freedom\n",
      " Current data and model not fit yet.\n",
      "                                   Parameters\n",
      "Chi-Squared  |beta|/N    Lvl          1:nH          2:kT        3:norm\n",
      "60.7569      1.86863       0      0.428137       3.10930   1.19129e-05\n",
      "56.5745      245449        0      0.159236       3.14137   1.13467e-05\n",
      "53.0372      357917        0     0.0767788       3.08954   1.14427e-05\n",
      "50.0939      323871        0     0.0209598       3.03687   1.15310e-05\n",
      "48.5944      276141        0    0.00128378       2.99155   1.15487e-05\n",
      "48.1129      230558        0   0.000246038       2.95735   1.14690e-05\n",
      "47.8754      204276        0   0.000121422       2.93063   1.13240e-05\n",
      "47.7123      195301        0   6.02523e-05       2.90670   1.11550e-05\n",
      "47.5742      193440        0   3.00291e-05       2.88374   1.09779e-05\n",
      "47.4428      194342        0   9.21045e-08       2.86103   1.07987e-05\n",
      "47.3127      196292        0   3.41493e-08       2.83831   1.06194e-05\n",
      "47.1815      198655        0   5.41876e-09       2.81555   1.04407e-05\n",
      "47.0475      201274        0   1.85822e-09       2.79266   1.02630e-05\n",
      "46.9103      203994        0   9.34932e-11       2.76963   1.00865e-05\n",
      "46.7695      206774        0   3.88034e-11       2.74648   9.91136e-06\n",
      "46.6252      209563        0   1.17174e-11       2.72318   9.73731e-06\n",
      "46.4797      212420        0   5.00053e-12       2.69984   9.56389e-06\n",
      "46.3167      215637        0   1.64655e-12       2.67588   9.39644e-06\n",
      "46.1738      216995        0   8.14828e-13       2.65250   9.22050e-06\n",
      "46.0815      221970        0   1.57116e-14       2.63103   9.03130e-06\n",
      "45.761       234557        0   8.33191e-16       2.59836   8.87454e-06\n",
      "43.1404      219533       -1   2.36651e-16       2.30666   7.29172e-06\n",
      "***Warning: Zero alpha-matrix diagonal element for parameter 1\n",
      " Parameter 1 is pegged at 2.36651e-16 due to zero or negative pivot element, likely\n",
      " caused by the fit being insensitive to the parameter.\n",
      "39.5888      193286       -1   2.36651e-16       1.96907   5.48782e-06\n",
      "34.5608      141473       -1   2.36651e-16       1.62412   3.86491e-06\n",
      "26.7556      430101       -1   2.36651e-16       1.26113   2.62153e-06\n",
      "24.5588      1.01203e+06  -2   2.36651e-16      0.700931   1.06924e-06\n",
      "17.0731      8.52811e+06  -3   2.36651e-16      0.831445   1.60636e-06\n",
      "16.7474      1.71161e+06  -4   2.36651e-16      0.823514   1.68123e-06\n",
      "16.7473      17251.2      -5   2.36651e-16      0.823204   1.67958e-06\n",
      "***Warning: Zero alpha-matrix diagonal element for parameter 1\n",
      " Parameter 1 is pegged at 2.36651e-16 due to zero or negative pivot element, likely\n",
      " caused by the fit being insensitive to the parameter.\n",
      "16.7473      16.6081      -3   2.36651e-16      0.823165   1.67949e-06\n",
      "==============================\n",
      " Variances and Principal Axes\n",
      "                 2        3  \n",
      " 2.6451E-14| -0.0000   1.0000  \n",
      " 7.0734E-03|  1.0000   0.0000  \n",
      "------------------------------\n",
      "\n",
      "========================\n",
      "  Covariance Matrix\n",
      "        1           2   \n",
      "   7.073e-03   1.672e-08\n",
      "   1.672e-08   6.596e-14\n",
      "------------------------\n",
      "\n",
      "========================================================================\n",
      "Model TBabs<1>*bbody<2> Source No.: 1   Active/On\n",
      "Model Model Component  Parameter  Unit     Value\n",
      " par  comp\n",
      "   1    1   TBabs      nH         10^22    2.36651E-16  +/-  -1.00000     \n",
      "   2    2   bbody      kT         keV      0.823165     +/-  8.41035E-02  \n",
      "   3    2   bbody      norm                1.67949E-06  +/-  2.56826E-07  \n",
      "________________________________________________________________________\n",
      "\n",
      "\n",
      "Fit statistic  : Chi-Squared                 16.7473     using 8 bins.\n",
      "\n",
      "Test statistic : Chi-Squared                 16.7473     using 8 bins.\n",
      " Null hypothesis probability of 5.0048e-03 with 5 degrees of freedom\n"
     ]
    },
    {
     "data": {
      "image/svg+xml": [
       "<svg xmlns=\"http://www.w3.org/2000/svg\" xmlns:xlink=\"http://www.w3.org/1999/xlink\" style=\"fill-rule: nonzero; stroke-linecap: round; stroke-linejoin: round; transform: scale(1,-1);\" version=\"1.1\" viewbox=\"           -8.104126            27.140120          7605.209473          5564.965332\" width=\"100%\" height=\"100%\" preserveAspectRatio=\"xMidYMid\">\n",
       "<style>\n",
       "  .fn { font-family: Arial,Helvetica,sans-serif; }\n",
       "  .fN { font-family: Arial,Helvetica,sans-serif; font-weight: bold;}\n",
       "  .fr { font-family: Times,Times-Roman,Times New Roman,serif; }\n",
       "  .fR { font-family: Times,Times-Roman,Times New Roman,serif; font-weight: bold;}\n",
       "  .fi { font-family: Times,Times-Roman,Times New Roman,serif; font-style: italic;}\n",
       "  .fI { font-family: Times,Times-Roman,Times New Roman,serif; font-style: italic; font-weight: bold;}\n",
       "  .fs { font-family: Zapf-Chancery,Apple Chancery,URW Chancery L,cursive;}\n",
       "  .fS { font-family: Zapf-Chancery,Apple Chancery,URW Chancery L,cursive;font-weight:bold}\n",
       "  .fc { font-family: Arial Narrow,Helvetica Narrow,Arial,Helvetica,sans-serif;}\n",
       "  .fC { font-family: Arial Narrow,Helvetica Narrow,Arial,Helvetica,sans-serif; font-weight:bold;}\n",
       "</style>\n",
       "<g style=\"color: rgb(0, 0, 0); fill: currentColor; stroke: currentColor; stroke-width: 8\">\n",
       "\n",
       "<path fill=\"none\" d=\"M 742 2304 l 5935 0 l 0 2879 l -5935 0 l 0 -2879 M 985 2304 l 0 28 M 1501 2304 l 0 28 M 1922 2304 l 0 28  M 2278 2304 l 0 28 M 2587 2304 l 0 28 M 2859 2304 l 0 28 M 3102 2304 l 0 56 M 4703 2304 l 0 28 M 5640 2304 l 0 28  M 6305 2304 l 0 28 M 985 5155 l 0 28 M 1501 5155 l 0 28 M 1922 5155 l 0 28 M 2278 5155 l 0 28 M 2587 5155 l 0 28  M 2859 5155 l 0 28 M 3102 5127 l 0 56 M 4703 5155 l 0 28 M 5640 5155 l 0 28 M 6305 5155 l 0 28 M 742 2304 l 56 0  M 742 2814 l 28 0 M 742 3112 l 28 0 M 742 3324 l 28 0 M 742 3488 l 28 0 M 742 3622 l 28 0 M 742 3736 l 28 0  M 742 3834 l 28 0 M 742 3921 l 28 0 M 742 3998 l 56 0 M 742 4509 l 28 0 M 742 4807 l 28 0 M 742 5019 l 28 0  M 742 5183 l 28 0 M 6621 2304 l 56 0 M 6649 2814 l 28 0 M 6649 3112 l 28 0 M 6649 3324 l 28 0 M 6649 3488 l 28 0  M 6649 3622 l 28 0 M 6649 3736 l 28 0 M 6649 3834 l 28 0 M 6649 3921 l 28 0 M 6621 3998 l 56 0 M 6649 4509 l 28 0  M 6649 4807 l 28 0 M 6649 5019 l 28 0 M 6649 5183 l 28 0 \"/>\n",
       "<text transform=\"translate(412,2266) scale(1,-1)\"><tspan class=\"fn\" style=\"font-size: 753.1%;\">10<tspan style=\"font-size: 60%;\" dy=\"-0.6em\">−4<tspan style=\"font-size: 166.667%;\" dy=\"+0.36em\"/></tspan></tspan></text>\n",
       "<text transform=\"translate(412,3961) scale(1,-1)\"><tspan class=\"fn\" style=\"font-size: 753.1%;\">10<tspan style=\"font-size: 60%;\" dy=\"-0.6em\">−3<tspan style=\"font-size: 166.667%;\" dy=\"+0.36em\"/></tspan></tspan></text>\n",
       "<text transform=\"translate(240,2777) scale(1,-1)\"><tspan class=\"fn\" style=\"font-size: 753.1%;\">2×10<tspan style=\"font-size: 60%;\" dy=\"-0.6em\">−4<tspan style=\"font-size: 166.667%;\" dy=\"+0.36em\"/></tspan></tspan></text>\n",
       "<text transform=\"translate(240,3451) scale(1,-1)\"><tspan class=\"fn\" style=\"font-size: 753.1%;\">5×10<tspan style=\"font-size: 60%;\" dy=\"-0.6em\">−4<tspan style=\"font-size: 166.667%;\" dy=\"+0.36em\"/></tspan></tspan></text>\n",
       "<text transform=\"translate(240,4471) scale(1,-1)\"><tspan class=\"fn\" style=\"font-size: 753.1%;\">2×10<tspan style=\"font-size: 60%;\" dy=\"-0.6em\">−3<tspan style=\"font-size: 166.667%;\" dy=\"+0.36em\"/></tspan></tspan></text>\n",
       "<text transform=\"translate(240,5146) scale(1,-1)\"><tspan class=\"fn\" style=\"font-size: 753.1%;\">5×10<tspan style=\"font-size: 60%;\" dy=\"-0.6em\">−3<tspan style=\"font-size: 166.667%;\" dy=\"+0.36em\"/></tspan></tspan></text>\n",
       "</g>\n",
       "<g style=\"color: rgb(0, 0, 0); fill: currentColor; stroke: currentColor; stroke-width: 4\">\n",
       "<defs>\n",
       "<symbol id=\"M1\" overflow=\"visible\">\n",
       "<circle r=\"1\" fill=\"none\" stroke-width=\"1\"/>\n",
       "</symbol>\n",
       "</defs>\n",
       "<use xlink:href=\"#M1\" transform=\"translate(2445, 3940) scale(4.430)\"/>\n",
       "\n",
       "<path fill=\"none\" d=\"M 742 3940 l 2673 0 M 2445 3690 l 0 437 \"/>\n",
       "<use xlink:href=\"#M1\" transform=\"translate(3641, 4951) scale(4.430)\"/>\n",
       "\n",
       "<path fill=\"none\" d=\"M 3415 4951 l 431 0 M 3641 4745 l 0 367 M 3964 5049 l 0 134 \"/>\n",
       "<use xlink:href=\"#M1\" transform=\"translate(4245, 4970) scale(4.430)\"/>\n",
       "\n",
       "<path fill=\"none\" d=\"M 4077 4970 l 324 0 M 4245 4764 l 0 366 \"/>\n",
       "<use xlink:href=\"#M1\" transform=\"translate(4563, 4941) scale(4.430)\"/>\n",
       "\n",
       "<path fill=\"none\" d=\"M 4401 4941 l 314 0 M 4563 4745 l 0 351 \"/>\n",
       "<use xlink:href=\"#M1\" transform=\"translate(5091, 4087) scale(4.430)\"/>\n",
       "\n",
       "<path fill=\"none\" d=\"M 4715 4087 l 699 0 M 5091 3864 l 0 394 \"/>\n",
       "<use xlink:href=\"#M1\" transform=\"translate(5830, 3764) scale(4.430)\"/>\n",
       "\n",
       "<path fill=\"none\" d=\"M 5414 3764 l 769 0 M 5830 3535 l 0 404 \"/>\n",
       "<use xlink:href=\"#M1\" transform=\"translate(6443, 3938) scale(4.430)\"/>\n",
       "\n",
       "<path fill=\"none\" d=\"M 6183 3938 l 494 0 M 6443 3725 l 0 378 \"/>\n",
       "</g>\n",
       "<g style=\"color: rgb(0, 0, 0); fill: currentColor; stroke: currentColor; stroke-width: 8\">\n",
       "\n",
       "<path fill=\"none\" d=\"M 742 4173 l 2673 0 l 0 558 l 431 0 l 0 70 l 231 0 l 0 -47 l 324 0 l 0 -180 l 314 0 l 0 -272  l 699 0 l 0 -337 l 769 0 l 0 -510 l 494 0 M 742 4173 l 2673 0 M 2445 4173 l 0 0 M 3415 4731 l 431 0  M 3641 4731 l 0 0 M 3846 4801 l 231 0 M 3964 4801 l 0 0 M 4077 4754 l 324 0 M 4245 4754 l 0 0 M 4401 4574 l 314 0  M 4563 4574 l 0 0 M 4715 4302 l 699 0 M 5091 4302 l 0 0 M 5414 3965 l 769 0 M 5830 3965 l 0 0 M 6183 3455 l 494 0  M 6443 3455 l 0 0 \"/>\n",
       "<text transform=\"translate(111,3265) scale(1,-1) rotate(-90)\"><tspan class=\"fn\" style=\"font-size: 753.1%;\">counts s<tspan style=\"font-size: 60%;\" dy=\"-0.6em\">−1<tspan style=\"font-size: 166.667%;\" dy=\"+0.36em\"> keV<tspan style=\"font-size: 60%;\" dy=\"-0.6em\">−1<tspan style=\"font-size: 166.667%;\" dy=\"+0.36em\"/></tspan></tspan></tspan></tspan></text>\n",
       "<text transform=\"translate(2971,5403) scale(1,-1)\"><tspan class=\"fn\" style=\"font-size: 753.1%;\"><tspan class=\"fR\">data and folded model</tspan></tspan></text>\n",
       "\n",
       "<path fill=\"none\" d=\"M 742 576 l 5935 0 l 0 1728 l -5935 0 l 0 -1728 M 985 576 l 0 28 M 1501 576 l 0 28 M 1922 576 l 0 28  M 2278 576 l 0 28 M 2587 576 l 0 28 M 2859 576 l 0 28 M 3102 576 l 0 56 M 4703 576 l 0 28 M 5640 576 l 0 28  M 6305 576 l 0 28 M 985 2275 l 0 29 M 1501 2275 l 0 29 M 1922 2275 l 0 29 M 2278 2275 l 0 29 M 2587 2275 l 0 29  M 2859 2275 l 0 29 M 3102 2247 l 0 57 M 4703 2275 l 0 29 M 5640 2275 l 0 29 M 6305 2275 l 0 29 \"/>\n",
       "<text transform=\"translate(3064,429) scale(1,-1)\"><tspan class=\"fn\" style=\"font-size: 753.1%;\">1</tspan></text>\n",
       "<text transform=\"translate(1406,429) scale(1,-1)\"><tspan class=\"fn\" style=\"font-size: 753.1%;\">0.5</tspan></text>\n",
       "<text transform=\"translate(4665,429) scale(1,-1)\"><tspan class=\"fn\" style=\"font-size: 753.1%;\">2</tspan></text>\n",
       "\n",
       "<path fill=\"none\" d=\"M 742 607 l 28 0 M 742 716 l 28 0 M 742 825 l 56 0 M 742 934 l 28 0 M 742 1043 l 28 0 M 742 1152 l 28 0  M 742 1261 l 28 0 M 742 1370 l 56 0 M 742 1479 l 28 0 M 742 1588 l 28 0 M 742 1697 l 28 0 M 742 1806 l 28 0  M 742 1915 l 56 0 M 742 2024 l 28 0 M 742 2133 l 28 0 M 742 2242 l 28 0 M 6649 607 l 28 0 M 6649 716 l 28 0  M 6621 825 l 56 0 M 6649 934 l 28 0 M 6649 1043 l 28 0 M 6649 1152 l 28 0 M 6649 1261 l 28 0 M 6621 1370 l 56 0  M 6649 1479 l 28 0 M 6649 1588 l 28 0 M 6649 1697 l 28 0 M 6649 1806 l 28 0 M 6621 1915 l 56 0 M 6649 2024 l 28 0  M 6649 2133 l 28 0 M 6649 2242 l 28 0 \"/>\n",
       "<text transform=\"translate(580,788) scale(1,-1)\"><tspan class=\"fn\" style=\"font-size: 753.1%;\">0</tspan></text>\n",
       "<text transform=\"translate(412,1333) scale(1,-1)\"><tspan class=\"fn\" style=\"font-size: 753.1%;\">10<tspan style=\"font-size: 60%;\" dy=\"-0.6em\">−3<tspan style=\"font-size: 166.667%;\" dy=\"+0.36em\"/></tspan></tspan></text>\n",
       "<text transform=\"translate(240,1878) scale(1,-1)\"><tspan class=\"fn\" style=\"font-size: 753.1%;\">2×10<tspan style=\"font-size: 60%;\" dy=\"-0.6em\">−3<tspan style=\"font-size: 166.667%;\" dy=\"+0.36em\"/></tspan></tspan></text>\n",
       "</g>\n",
       "<g style=\"color: rgb(0, 0, 0); fill: currentColor; stroke: currentColor; stroke-width: 4\">\n",
       "<use xlink:href=\"#M1\" transform=\"translate(2445, 638) scale(4.430)\"/>\n",
       "\n",
       "<path fill=\"none\" d=\"M 742 638 l 2673 0 M 2445 576 l 0 207 \"/>\n",
       "<use xlink:href=\"#M1\" transform=\"translate(3641, 1338) scale(4.430)\"/>\n",
       "\n",
       "<path fill=\"none\" d=\"M 3415 1338 l 431 0 M 3641 852 l 0 972 \"/>\n",
       "<use xlink:href=\"#M1\" transform=\"translate(3964, 2262) scale(4.430)\"/>\n",
       "\n",
       "<path fill=\"none\" d=\"M 3846 2262 l 231 0 M 3964 1475 l 0 829 \"/>\n",
       "<use xlink:href=\"#M1\" transform=\"translate(4245, 1344) scale(4.430)\"/>\n",
       "\n",
       "<path fill=\"none\" d=\"M 4077 1344 l 324 0 M 4245 848 l 0 993 \"/>\n",
       "<use xlink:href=\"#M1\" transform=\"translate(4563, 1596) scale(4.430)\"/>\n",
       "\n",
       "<path fill=\"none\" d=\"M 4401 1596 l 314 0 M 4563 1138 l 0 917 \"/>\n",
       "<use xlink:href=\"#M1\" transform=\"translate(5091, 617) scale(4.430)\"/>\n",
       "\n",
       "<path fill=\"none\" d=\"M 4715 617 l 699 0 M 5091 576 l 0 202 \"/>\n",
       "<use xlink:href=\"#M1\" transform=\"translate(5830, 701) scale(4.430)\"/>\n",
       "\n",
       "<path fill=\"none\" d=\"M 5414 701 l 769 0 M 5830 595 l 0 212 \"/>\n",
       "<use xlink:href=\"#M1\" transform=\"translate(6443, 1067) scale(4.430)\"/>\n",
       "\n",
       "<path fill=\"none\" d=\"M 6183 1067 l 494 0 M 6443 941 l 0 252 \"/>\n",
       "</g>\n",
       "<g style=\"color: rgb(0, 0, 0); fill: currentColor; stroke: currentColor; stroke-width: 8\">\n",
       "<text transform=\"translate(111,962) scale(1,-1) rotate(-90)\"><tspan class=\"fn\" style=\"font-size: 753.1%;\">counts s<tspan style=\"font-size: 60%;\" dy=\"-0.6em\">−1<tspan style=\"font-size: 166.667%;\" dy=\"+0.36em\"> keV<tspan style=\"font-size: 60%;\" dy=\"-0.6em\">−1<tspan style=\"font-size: 166.667%;\" dy=\"+0.36em\"/></tspan></tspan></tspan></tspan></text>\n",
       "<text transform=\"translate(3323,269) scale(1,-1)\"><tspan class=\"fn\" style=\"font-size: 753.1%;\">Energy (keV)</tspan></text>\n",
       "</g>\n",
       "<g style=\"color: rgb(0, 255, 0); fill: currentColor; stroke: currentColor; stroke-width: 8\">\n",
       "\n",
       "<path fill=\"none\" d=\"M 742 825 l 5935 0 \"/>\n",
       "</g>\n",
       "<g style=\"color: rgb(0, 0, 0); fill: currentColor; stroke: currentColor; stroke-width: 4\">\n",
       "<text transform=\"translate(6246,46) scale(1,-1)\"><tspan class=\"fn\" style=\"font-size: 531.6%;\">rwebbe  3−Sep−2025 09:19</tspan></text>\n",
       "</g>\n",
       "<!-- _PGPLOT_SVG_ATEND: viewbox=\"           -8.104126            27.140120          7605.209473          5564.965332\" -->\n",
       "</svg>"
      ],
      "text/plain": [
       "<IPython.core.display.SVG object>"
      ]
     },
     "metadata": {},
     "output_type": "display_data"
    }
   ],
   "source": [
    "spec.ignore(\"**-0.2 12.0-**\")\n",
    "mo = Model(\"tbabs*bbody\")\n",
    "Fit.perform()\n",
    "Plot(\"data resid\")"
   ]
  },
  {
   "cell_type": "code",
   "execution_count": 5,
   "metadata": {},
   "outputs": [
    {
     "name": "stdout",
     "output_type": "stream",
     "text": [
      "Cannot do error calc: Reduced Chi^2 (= 3.34947) > maximum (2)\n"
     ]
    },
    {
     "ename": "Exception",
     "evalue": "Error executing command: error",
     "output_type": "error",
     "traceback": [
      "\u001b[0;31m---------------------------------------------------------------------------\u001b[0m",
      "\u001b[0;31mException\u001b[0m                                 Traceback (most recent call last)",
      "\u001b[0;32m<ipython-input-5-21d339ad0c88>\u001b[0m in \u001b[0;36m<module>\u001b[0;34m\u001b[0m\n\u001b[0;32m----> 1\u001b[0;31m \u001b[0mFit\u001b[0m\u001b[0;34m.\u001b[0m\u001b[0merror\u001b[0m\u001b[0;34m(\u001b[0m\u001b[0;34m\"1\"\u001b[0m\u001b[0;34m)\u001b[0m\u001b[0;34m\u001b[0m\u001b[0;34m\u001b[0m\u001b[0m\n\u001b[0m\u001b[1;32m      2\u001b[0m \u001b[0mFit\u001b[0m\u001b[0;34m.\u001b[0m\u001b[0merror\u001b[0m\u001b[0;34m(\u001b[0m\u001b[0;34m\"2\"\u001b[0m\u001b[0;34m)\u001b[0m\u001b[0;34m\u001b[0m\u001b[0;34m\u001b[0m\u001b[0m\n\u001b[1;32m      3\u001b[0m \u001b[0;34m\u001b[0m\u001b[0m\n\u001b[1;32m      4\u001b[0m \u001b[0mout_arr\u001b[0m\u001b[0;34m[\u001b[0m\u001b[0;36m0\u001b[0m\u001b[0;34m,\u001b[0m\u001b[0;36m0\u001b[0m\u001b[0;34m]\u001b[0m \u001b[0;34m=\u001b[0m \u001b[0;34m'bbody'\u001b[0m\u001b[0;34m\u001b[0m\u001b[0;34m\u001b[0m\u001b[0m\n\u001b[1;32m      5\u001b[0m \u001b[0mout_arr\u001b[0m\u001b[0;34m[\u001b[0m\u001b[0;36m0\u001b[0m\u001b[0;34m,\u001b[0m\u001b[0;36m1\u001b[0m\u001b[0;34m:\u001b[0m\u001b[0;36m4\u001b[0m\u001b[0;34m]\u001b[0m \u001b[0;34m=\u001b[0m \u001b[0mmo\u001b[0m\u001b[0;34m.\u001b[0m\u001b[0mTBabs\u001b[0m\u001b[0;34m.\u001b[0m\u001b[0mnH\u001b[0m\u001b[0;34m.\u001b[0m\u001b[0mvalues\u001b[0m\u001b[0;34m[\u001b[0m\u001b[0;36m0\u001b[0m\u001b[0;34m]\u001b[0m\u001b[0;34m,\u001b[0m \u001b[0mmo\u001b[0m\u001b[0;34m.\u001b[0m\u001b[0mTBabs\u001b[0m\u001b[0;34m.\u001b[0m\u001b[0mnH\u001b[0m\u001b[0;34m.\u001b[0m\u001b[0mvalues\u001b[0m\u001b[0;34m[\u001b[0m\u001b[0;36m0\u001b[0m\u001b[0;34m]\u001b[0m \u001b[0;34m-\u001b[0m \u001b[0mmo\u001b[0m\u001b[0;34m.\u001b[0m\u001b[0mTBabs\u001b[0m\u001b[0;34m.\u001b[0m\u001b[0mnH\u001b[0m\u001b[0;34m.\u001b[0m\u001b[0merror\u001b[0m\u001b[0;34m[\u001b[0m\u001b[0;36m0\u001b[0m\u001b[0;34m]\u001b[0m\u001b[0;34m,\u001b[0m \u001b[0mmo\u001b[0m\u001b[0;34m.\u001b[0m\u001b[0mTBabs\u001b[0m\u001b[0;34m.\u001b[0m\u001b[0mnH\u001b[0m\u001b[0;34m.\u001b[0m\u001b[0merror\u001b[0m\u001b[0;34m[\u001b[0m\u001b[0;36m1\u001b[0m\u001b[0;34m]\u001b[0m \u001b[0;34m-\u001b[0m \u001b[0mmo\u001b[0m\u001b[0;34m.\u001b[0m\u001b[0mTBabs\u001b[0m\u001b[0;34m.\u001b[0m\u001b[0mnH\u001b[0m\u001b[0;34m.\u001b[0m\u001b[0mvalues\u001b[0m\u001b[0;34m[\u001b[0m\u001b[0;36m0\u001b[0m\u001b[0;34m]\u001b[0m\u001b[0;34m\u001b[0m\u001b[0;34m\u001b[0m\u001b[0m\n",
      "\u001b[0;32m~/astro_soft/heasoft-6.32.1/x86_64-pc-linux-gnu-libc2.31/lib/python/xspec/fit.py\u001b[0m in \u001b[0;36merror\u001b[0;34m(self, argString, respPar)\u001b[0m\n\u001b[1;32m    423\u001b[0m             \u001b[0merrorArgs\u001b[0m \u001b[0;34m=\u001b[0m \u001b[0;34m[\u001b[0m\u001b[0;34m\"error\"\u001b[0m\u001b[0;34m]\u001b[0m\u001b[0;34m\u001b[0m\u001b[0;34m\u001b[0m\u001b[0m\n\u001b[1;32m    424\u001b[0m         \u001b[0merrorArgs\u001b[0m \u001b[0;34m+=\u001b[0m \u001b[0margString\u001b[0m\u001b[0;34m.\u001b[0m\u001b[0msplit\u001b[0m\u001b[0;34m(\u001b[0m\u001b[0;34m)\u001b[0m\u001b[0;34m\u001b[0m\u001b[0;34m\u001b[0m\u001b[0m\n\u001b[0;32m--> 425\u001b[0;31m         \u001b[0m_pyXspec\u001b[0m\u001b[0;34m.\u001b[0m\u001b[0mdoXspecCmd\u001b[0m\u001b[0;34m(\u001b[0m\u001b[0merrorArgs\u001b[0m\u001b[0;34m)\u001b[0m\u001b[0;34m\u001b[0m\u001b[0;34m\u001b[0m\u001b[0m\n\u001b[0m\u001b[1;32m    426\u001b[0m \u001b[0;34m\u001b[0m\u001b[0m\n\u001b[1;32m    427\u001b[0m     \u001b[0;32mdef\u001b[0m \u001b[0mftest\u001b[0m\u001b[0;34m(\u001b[0m\u001b[0mself\u001b[0m\u001b[0;34m,\u001b[0m \u001b[0mchisq2\u001b[0m\u001b[0;34m,\u001b[0m \u001b[0mdof2\u001b[0m\u001b[0;34m,\u001b[0m \u001b[0mchisq1\u001b[0m\u001b[0;34m,\u001b[0m \u001b[0mdof1\u001b[0m\u001b[0;34m)\u001b[0m\u001b[0;34m:\u001b[0m\u001b[0;34m\u001b[0m\u001b[0;34m\u001b[0m\u001b[0m\n",
      "\u001b[0;31mException\u001b[0m: Error executing command: error"
     ]
    }
   ],
   "source": [
    "Fit.error(\"1\")\n",
    "Fit.error(\"2\")\n",
    "\n",
    "out_arr[0,0] = 'bbody'\n",
    "out_arr[0,1:4] = mo.TBabs.nH.values[0], mo.TBabs.nH.values[0] - mo.TBabs.nH.error[0], mo.TBabs.nH.error[1] - mo.TBabs.nH.values[0]\n",
    "out_arr[0,4:7] = mo.bbody.kT.values[0], mo.bbody.kT.values[0] - mo.bbody.kT.error[0], mo.bbody.kT.error[1] - mo.bbody.kT.values[0]\n",
    "out_arr[0,-2:] = Fit.dof, Fit.statistic / Fit.dof\n"
   ]
  },
  {
   "cell_type": "code",
   "execution_count": null,
   "metadata": {
    "scrolled": false
   },
   "outputs": [],
   "source": [
    "AllModels.clear()\n",
    "mo = Model(\"tbabs*bremss\")\n",
    "Fit.perform()\n",
    "Plot(\"data resid\")"
   ]
  },
  {
   "cell_type": "code",
   "execution_count": null,
   "metadata": {},
   "outputs": [],
   "source": [
    "Fit.error(\"1\")\n",
    "Fit.error(\"2\")\n",
    "\n",
    "out_arr[3,0] = 'bremss'\n",
    "out_arr[3,1:4] = mo.TBabs.nH.values[0], mo.TBabs.nH.values[0] - mo.TBabs.nH.error[0], mo.TBabs.nH.error[1] - mo.TBabs.nH.values[0]\n",
    "out_arr[3,4:7] = mo.bremss.kT.values[0], mo.bremss.kT.values[0] - mo.bremss.kT.error[0], mo.bremss.kT.error[1] - mo.bremss.kT.values[0]\n",
    "out_arr[3,-2:] = Fit.dof, Fit.statistic / Fit.dof\n"
   ]
  },
  {
   "cell_type": "code",
   "execution_count": null,
   "metadata": {
    "scrolled": false
   },
   "outputs": [],
   "source": [
    "AllModels.clear()\n",
    "mo = Model(\"tbabs*apec\")\n",
    "Fit.perform()\n",
    "Plot(\"data resid\")"
   ]
  },
  {
   "cell_type": "code",
   "execution_count": null,
   "metadata": {},
   "outputs": [],
   "source": [
    "Fit.error(\"1\")\n",
    "Fit.error(\"2\")\n",
    "\n",
    "out_arr[2,0] = 'apec'\n",
    "out_arr[2,1:4] = mo.TBabs.nH.values[0], mo.TBabs.nH.values[0] - mo.TBabs.nH.error[0], mo.TBabs.nH.error[1] - mo.TBabs.nH.values[0]\n",
    "out_arr[2,13] = mo.apec.Abundanc.values[0]\n",
    "out_arr[2,4:7] = mo.apec.kT.values[0], mo.apec.kT.values[0] - mo.apec.kT.error[0], mo.apec.kT.error[1] - mo.apec.kT.values[0]\n",
    "out_arr[2,-2:] = Fit.dof, Fit.statistic / Fit.dof\n"
   ]
  },
  {
   "cell_type": "code",
   "execution_count": null,
   "metadata": {
    "scrolled": false
   },
   "outputs": [],
   "source": [
    "AllModels.clear()\n",
    "mo = Model(\"tbabs*powerlaw\")\n",
    "Fit.perform()\n",
    "Plot(\"data resid\")"
   ]
  },
  {
   "cell_type": "code",
   "execution_count": null,
   "metadata": {},
   "outputs": [],
   "source": [
    "Fit.error(\"1\")\n",
    "Fit.error(\"2\")\n",
    "\n",
    "out_arr[1,0] = 'powerlaw'\n",
    "out_arr[1,1:4] = mo.TBabs.nH.values[0], mo.TBabs.nH.values[0] - mo.TBabs.nH.error[0], mo.TBabs.nH.error[1] - mo.TBabs.nH.values[0]\n",
    "out_arr[1,14:17] = mo.powerlaw.PhoIndex.values[0], mo.powerlaw.PhoIndex.values[0] - mo.powerlaw.PhoIndex.error[0], mo.powerlaw.PhoIndex.error[1] - mo.powerlaw.PhoIndex.values[0]\n",
    "out_arr[1,-2:] = Fit.dof, Fit.statistic / Fit.dof\n"
   ]
  },
  {
   "cell_type": "code",
   "execution_count": null,
   "metadata": {},
   "outputs": [],
   "source": [
    "np.savetxt('../spec12_output.csv',out_arr,fmt=['%s','%.2f','%.2f','%.2f','%.2f','%.2f','%.2f','%.2f','%.2f','%.2f','%.2f','%.2f','%.2f','%.1f','%.2f','%.2f','%.2f','%i','%.2f'],delimiter=',')\n"
   ]
  },
  {
   "cell_type": "code",
   "execution_count": null,
   "metadata": {
    "scrolled": true
   },
   "outputs": [],
   "source": [
    "AllModels.calcFlux(\".2 12.0\")"
   ]
  },
  {
   "cell_type": "code",
   "execution_count": null,
   "metadata": {},
   "outputs": [],
   "source": [
    "plx = 0.6247\n",
    "d_kpc = 1/plx\n",
    "F_x = 1.7711*10**-13\n",
    "\n",
    "L_x = 4*3.14*F_x*(d_kpc*3.086*10**21)**2\n",
    "print(L_x)"
   ]
  },
  {
   "cell_type": "code",
   "execution_count": null,
   "metadata": {},
   "outputs": [],
   "source": [
    "import numpy as np\n",
    "print(d_kpc)\n",
    "print(np.log10(L_x))"
   ]
  },
  {
   "cell_type": "code",
   "execution_count": null,
   "metadata": {},
   "outputs": [],
   "source": [
    "F_opt = 1.05*10**-5 * 10**(-0.4*17.18)\n",
    "print('Optical Flux: ',F_opt)\n",
    "print('F_x / F_opt: ', np.log10(F_x/F_opt))"
   ]
  },
  {
   "cell_type": "code",
   "execution_count": null,
   "metadata": {
    "scrolled": false
   },
   "outputs": [],
   "source": [
    "AllModels.clear()\n",
    "mo = Model(\"tbabs*(apec+apec)\")\n",
    "mo.apec.kT = 0.5\n",
    "mo.apec_3.kT = 4.0\n",
    "Fit.perform()\n",
    "Plot(\"data resid\")"
   ]
  }
 ],
 "metadata": {
  "kernelspec": {
   "display_name": "Python 3 (ipykernel)",
   "language": "python",
   "name": "python3"
  },
  "language_info": {
   "codemirror_mode": {
    "name": "ipython",
    "version": 3
   },
   "file_extension": ".py",
   "mimetype": "text/x-python",
   "name": "python",
   "nbconvert_exporter": "python",
   "pygments_lexer": "ipython3",
   "version": "3.8.10"
  }
 },
 "nbformat": 4,
 "nbformat_minor": 4
}
