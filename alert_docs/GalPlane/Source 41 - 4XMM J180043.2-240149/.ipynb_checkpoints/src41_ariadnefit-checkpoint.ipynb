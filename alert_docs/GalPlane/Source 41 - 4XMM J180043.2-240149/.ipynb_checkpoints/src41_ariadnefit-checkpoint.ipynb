{
 "cells": [
  {
   "cell_type": "code",
   "execution_count": 1,
   "metadata": {},
   "outputs": [
    {
     "name": "stderr",
     "output_type": "stream",
     "text": [
      "Holoviews not imported. Some visualizations will not be available.\n",
      "PyMultiNest not imported.  MultiNest fits will not work.\n",
      "/home/rwebbe/.local/lib/python3.8/site-packages/astroARIADNE/fitter.py:43: UserWarning: (py)MultiNest installation (or libmultinest.dylib) not detected.\n",
      "  warnings.warn(\n"
     ]
    }
   ],
   "source": [
    "from astroARIADNE.star import Star\n",
    "from astroARIADNE.fitter import Fitter\n",
    "from dustmaps.config import config\n",
    "config['data_dir'] = '/home/rwebbe/data/dustmaps'"
   ]
  },
  {
   "cell_type": "code",
   "execution_count": 2,
   "metadata": {
    "scrolled": true
   },
   "outputs": [
    {
     "name": "stdout",
     "output_type": "stream",
     "text": [
      "\n",
      "\t\t#####################################\n",
      "\t\t##             ARIADNE             ##\n",
      "\t\t#####################################\n",
      "   spectrAl eneRgy dIstribution bAyesian moDel averagiNg fittEr\n",
      "\n",
      "\t\t\tAuthor : Jose Vines\n",
      "\t\t\tContact : jose . vines at ug . uchile . cl\n",
      "\t\t\tStar : 4069056723517706368\n",
      "\t\t*** LOOKING UP ARCHIVAL INFORMATION ***\n",
      "INFO: Query finished. [astroquery.utils.tap.core]\n",
      "INFO: Query finished. [astroquery.utils.tap.core]\n",
      "Star not found in catalog TYCHO2.\n",
      "INFO: Query finished. [astroquery.utils.tap.core]\n",
      "INFO: Query finished. [astroquery.utils.tap.core]\n",
      "Star not found in catalog SDSS.\n",
      "INFO: Query finished. [astroquery.utils.tap.core]\n",
      "Star not found in catalog Wise.\n",
      "INFO: Query finished. [astroquery.utils.tap.core]\n",
      "Star not found in catalog 2MASS.\n",
      "INFO: Query finished. [astroquery.utils.tap.core]\n",
      "Star not found in catalog APASS.\n",
      "Looking online for archival magnitudes for star 4069056723517706368\n",
      "Checking catalog Pan-STARRS1\n",
      "Checking catalog Gaia DR3\n",
      "Warning!: CatalogWarning\n",
      "Warning message: Star is not available in catalog GALEX. Skipping\n",
      "Checking catalog TICv8\n",
      "Warning!: CatalogWarning\n",
      "Warning message: Star is not available in catalog SkyMapper. Skipping\n",
      "Warning!: CatalogWarning\n",
      "Warning message: Star is not available in catalog STROMGREN_PAUNZ. Skipping\n",
      "Warning!: CatalogWarning\n",
      "Warning message: Star is not available in catalog STROMGREN_HAUCK. Skipping\n",
      "Warning!: CatalogWarning\n",
      "Warning message: Star is not available in catalog MERMILLIOD. Skipping\n",
      "\t\t\tGaia DR3 ID : 4069056723517706368\n",
      "\t\t\tTIC : 1614925255\n",
      "\t\t\tGaia Effective temperature : 3820.140 +/- 344.085\n",
      "\t\t\tGaia Stellar radius : 2.673 +/- 2.117\n",
      "\t\t\tGaia Stellar Luminosity : 1.371 +/- 0.208\n",
      "\t\t\tGaia Parallax : 0.706 +/- 0.042\n",
      "\t\t\tBailer-Jones distance : 1462.957 +/- 99.293\n",
      "\t\t\tMaximum Av : 36.388\n",
      "\n",
      "\t\t       Filter       \tMagnitude\tUncertainty\n",
      "\t\t--------------------\t---------\t-----------\n",
      "\t\t       PS1_g        \t 16.8432 \t  0.0107   \n",
      "\t\t    GaiaDR2v2_BP    \t 16.4639 \t  0.0271   \n",
      "\t\t       PS1_r        \t 15.5541 \t  0.0036   \n",
      "\t\t    GaiaDR2v2_G     \t 15.4879 \t  0.0057   \n",
      "\t\t       PS1_i        \t 14.8502 \t  0.0037   \n",
      "\t\t    GaiaDR2v2_RP    \t 14.4661 \t  0.0150   \n",
      "\t\t        TESS        \t 14.5427 \t  0.0302   \n",
      "\t\t       PS1_z        \t 14.4301 \t  0.0139   \n",
      "\t\t       PS1_y        \t 14.0568 \t  0.2020   \n",
      "\n"
     ]
    }
   ],
   "source": [
    "gaia_id = 4069056723517706368\n",
    "ra = 270.1803453\n",
    "dec = -24.0304478\n",
    "starname = str(gaia_id)\n",
    "s = Star(starname, ra, dec, g_id = gaia_id, dustmap='Planck16')"
   ]
  },
  {
   "cell_type": "code",
   "execution_count": 3,
   "metadata": {},
   "outputs": [
    {
     "name": "stdout",
     "output_type": "stream",
     "text": [
      "Created the directory ariadnefit\n",
      "\n",
      "\t\t*** EXECUTING MAIN FITTING ROUTINE ***\n",
      "\t\t\tSelected engine : Bayesian Model Averaging\n",
      "\t\t\tLive points : 500\n",
      "\t\t\tlog Evidence tolerance : 0.5\n",
      "\t\t\tFree parameters : 15\n",
      "\t\t\tBounding : multi\n",
      "\t\t\tSampling : rwalk\n",
      "\t\t\tN threads : 4\n",
      "\n"
     ]
    }
   ],
   "source": [
    "out_folder = 'ariadnefit'\n",
    "\n",
    "engine = 'dynesty'\n",
    "nlive = 500\n",
    "dlogz = 0.5\n",
    "bound = 'multi'\n",
    "sample = 'rwalk'\n",
    "threads = 4\n",
    "dynamic = False\n",
    "setup = [engine, nlive, dlogz, bound, sample, threads, dynamic]\n",
    "\n",
    "models = ['phoenix','btsettl','btnextgen','btcond','kurucz','ck04']\n",
    "f = Fitter()\n",
    "f.star = s\n",
    "f.setup = setup\n",
    "f.av_law = 'fitzpatrick'\n",
    "f.out_folder = out_folder\n",
    "f.bma = True\n",
    "f.models = models\n",
    "f.n_samples = 100000\n",
    "\n",
    "f.prior_setup = {'teff': ('default'),'logg': ('default'),'z': ('default'),'dist': ('default'),'rad': ('default'),'Av': ('default')}\n",
    "f.initialize()\n"
   ]
  },
  {
   "cell_type": "code",
   "execution_count": 4,
   "metadata": {},
   "outputs": [
    {
     "name": "stdout",
     "output_type": "stream",
     "text": [
      "\t\t\tFITTING MODEL : phoenix\n"
     ]
    },
    {
     "name": "stderr",
     "output_type": "stream",
     "text": [
      "9129it [05:58, 25.47it/s, +500 | bound: 101 | nc: 1 | ncall: 202550 | eff(%):  4.766 | loglstar:   -inf < 239.170 <    inf | logz: 221.547 +/-  0.196 | dlogz:  0.001 >  0.500]\n"
     ]
    },
    {
     "name": "stdout",
     "output_type": "stream",
     "text": [
      "\t\t\tFITTING MODEL : btsettl\n"
     ]
    },
    {
     "name": "stderr",
     "output_type": "stream",
     "text": [
      "9326it [51:42:42, 19.96s/it, +500 | bound: 103 | nc: 1 | ncall: 208430 | eff(%):  4.726 | loglstar:   -inf < 239.251 <    inf | logz: 221.181 +/-    nan | dlogz:  0.001 >  0.500]\n"
     ]
    },
    {
     "name": "stdout",
     "output_type": "stream",
     "text": [
      "\t\t\tFITTING MODEL : btnextgen\n"
     ]
    },
    {
     "name": "stderr",
     "output_type": "stream",
     "text": [
      "9556it [10:10, 15.65it/s, +500 | bound: 106 | nc: 1 | ncall: 213042 | eff(%):  4.731 | loglstar:   -inf < 240.049 <    inf | logz: 221.490 +/-    nan | dlogz:  0.001 >  0.500]\n"
     ]
    },
    {
     "name": "stdout",
     "output_type": "stream",
     "text": [
      "\t\t\tFITTING MODEL : btcond\n"
     ]
    },
    {
     "name": "stderr",
     "output_type": "stream",
     "text": [
      "9028it [09:52, 15.25it/s, +500 | bound: 99 | nc: 1 | ncall: 200768 | eff(%):  4.758 | loglstar:   -inf < 238.255 <    inf | logz: 220.752 +/-    nan | dlogz:  0.001 >  0.500] \n"
     ]
    },
    {
     "name": "stdout",
     "output_type": "stream",
     "text": [
      "\t\t*** AVERAGING POSTERIOR SAMPLES ***\n"
     ]
    },
    {
     "name": "stderr",
     "output_type": "stream",
     "text": [
      "100%|██████████| 19/19 [00:01<00:00, 13.55it/s]\n"
     ]
    },
    {
     "name": "stdout",
     "output_type": "stream",
     "text": [
      "\t\t*** ESTIMATING AGE AND MASS USING MIST ISOCHRONES ***\n"
     ]
    },
    {
     "name": "stderr",
     "output_type": "stream",
     "text": [
      "10645it [01:43, 102.91it/s, +500 | bound: 121 | nc: 1 | ncall: 277790 | eff(%):  4.019 | loglstar:   -inf < -13.217 <    inf | logz: -30.046 +/-  9.737 | dlogz:  0.000 >  0.010]\n"
     ]
    },
    {
     "name": "stdout",
     "output_type": "stream",
     "text": [
      "\n",
      "\t\t\tFitting finished.\n",
      "\t\t\tBest fit parameters are:\n",
      "\t\t\tteff : 4580.1116 + 507.2919 - 355.8615 [3906.2463, 6170.1311]\n",
      "\t\t\tlogg : 4.4510 + 0.5380 - 0.4611 [3.5864, 5.4949]\n",
      "\t\t\t[Fe/H] : -0.1599 + 0.1617 - 0.1497 [-0.6091, 0.2862]\n",
      "\t\t\tdist : 1746.6917 + 172.8035 - 170.4995 [1486.3344, 2172.9405]\n",
      "\t\t\trad : 3.6846 + 0.3993 - 0.3502 [2.8798, 4.7167]\n",
      "\t\t\tAv : 1.5794 + 0.5441 - 0.5866 [0.4827, 3.0161]\n",
      "\t\t\tAngular Diameter : 0.0196 + 0.0029 - 0.0025 [0.0139, 0.0275]\n",
      "\t\t\tGrav mass : 8.9663 + 23.7191 - 5.9298 [1.7188, 198.0605]\n",
      "\t\t\tLuminosity : 5.3424 + 2.9671 - 1.7355 [2.1514, 18.8903]\n",
      "\t\t\tIso mass : 1.0692 + 0.2876 - 0.1890 [0.5187, 1.7471]\n",
      "\t\t\tAge (Gyr) : 1.2181 + 4.5108 - 1.2179 [0.0002, 13.4425]\n",
      "\t\t\tEEP : 342.4289 + 76.1354 - 49.3470 [78.7747, 498.9295]\n",
      "\t\t\tExcess PS1_g noise : 0.0587 + 0.0476 - 0.0354 [0.0039, 0.2197]\n",
      "\t\t\tExcess BP noise : 0.1381 + 0.1185 - 0.0660 [0.0162, 0.5222]\n",
      "\t\t\tExcess PS1_r noise : 0.0336 + 0.0161 - 0.0134 [0.0074, 0.0965]\n",
      "\t\t\tExcess G noise : 0.0291 + 0.0254 - 0.0149 [0.0014, 0.1127]\n",
      "\t\t\tExcess PS1_i noise : 0.0281 + 0.0223 - 0.0113 [0.0047, 0.0890]\n",
      "\t\t\tExcess RP noise : 0.0737 + 0.0602 - 0.0434 [0.0007, 0.2956]\n",
      "\t\t\tExcess TESS noise : 0.1943 + 0.1283 - 0.1026 [0.0212, 0.6603]\n",
      "\t\t\tExcess PS1_z noise : 0.1155 + 0.0632 - 0.0500 [0.0237, 0.3287]\n",
      "\t\t\tExcess PS1_y noise : 0.7434 + 0.8587 - 0.3963 [0.0300, 3.9801]\n",
      "\t\t\tMamajek Spectral Type : K4V\n",
      "\t\t\tphoenix probability : 0.3236\n",
      "\t\t\tbtsettl probability : 0.2244\n",
      "\t\t\tbtnextgen probability : 0.3058\n",
      "\t\t\tbtcond probability : 0.1462\n",
      "\t\t\tElapsed time : 2 days, 4 hours, 11 minutes and 40.59 seconds\n"
     ]
    }
   ],
   "source": [
    "f.fit_bma()"
   ]
  },
  {
   "cell_type": "code",
   "execution_count": 1,
   "metadata": {},
   "outputs": [
    {
     "name": "stdout",
     "output_type": "stream",
     "text": [
      "L_X / L_Bol:  0.004632749326145553 -2.3341611984407082\n"
     ]
    }
   ],
   "source": [
    "import numpy as np\n",
    "\n",
    "Lbol_sun = 4 * 10**33\n",
    "L_bol = Lbol_sun * 5.3424\n",
    "L_x = 9.9*10**31\n",
    "\n",
    "print(\"L_X / L_Bol: \",L_x/L_bol,np.log10(L_x/L_bol))"
   ]
  }
 ],
 "metadata": {
  "kernelspec": {
   "display_name": "Python 3 (ipykernel)",
   "language": "python",
   "name": "python3"
  },
  "language_info": {
   "codemirror_mode": {
    "name": "ipython",
    "version": 3
   },
   "file_extension": ".py",
   "mimetype": "text/x-python",
   "name": "python",
   "nbconvert_exporter": "python",
   "pygments_lexer": "ipython3",
   "version": "3.8.10"
  }
 },
 "nbformat": 4,
 "nbformat_minor": 4
}
