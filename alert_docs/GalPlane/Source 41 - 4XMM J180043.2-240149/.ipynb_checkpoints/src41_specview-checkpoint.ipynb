{
 "cells": [
  {
   "cell_type": "code",
   "execution_count": 1,
   "metadata": {},
   "outputs": [],
   "source": [
    "%load_ext wurlitzer\n",
    "import glob\n",
    "import os\n",
    "from xspec import *\n",
    "from stingray import Lightcurve\n",
    "from astropy.io import fits\n",
    "import matplotlib.pyplot as plt\n",
    "plt.rcParams['figure.figsize'] = [12,8]\n",
    "os.chdir('pps/')\n",
    "\n",
    "Fit.statMethod = \"chi\"\n",
    "Fit.nIterations = 100000\n",
    "Fit.delta = 1e-4\n",
    "Fit.criticalDelta = 1e-4"
   ]
  },
  {
   "cell_type": "code",
   "execution_count": 2,
   "metadata": {},
   "outputs": [],
   "source": [
    "import numpy as np\n",
    "out_arr = np.full((4,19),-np.inf,dtype=object)"
   ]
  },
  {
   "cell_type": "code",
   "execution_count": 3,
   "metadata": {},
   "outputs": [
    {
     "name": "stdout",
     "output_type": "stream",
     "text": [
      "\n",
      "1 spectrum  in use\n",
      " \n",
      "Spectral Data File: P0886101301PNS003SRSPEC00B3.FTZ  Spectrum 1\n",
      "Net count rate (cts/s) for Spectrum:1  2.248e-02 +/- 2.046e-03 (77.8 % total)\n",
      " Assigned to Data Group 1 and Plot Group 1\n",
      "  Noticed Channels:  1-10\n",
      "  Telescope: XMM Instrument: EPN  Channel Type: PI\n",
      "  Exposure Time: 7131 sec\n",
      " Using fit statistic: chi\n",
      " Using Background File                P0886101301PNS003BGSPEC00B3.FTZ\n",
      "  Background Exposure Time: 7131 sec\n",
      " Using Response (RMF) File            epn_e3_ff20_sdY3.rmf for Source 1\n",
      " Using Auxiliary Response (ARF) File  P0886101301PNS003SRCARF00B3.FTZ\n",
      "\n"
     ]
    },
    {
     "data": {
      "image/svg+xml": [
       "<svg xmlns=\"http://www.w3.org/2000/svg\" xmlns:xlink=\"http://www.w3.org/1999/xlink\" style=\"fill-rule: nonzero; stroke-linecap: round; stroke-linejoin: round; transform: scale(1,-1);\" version=\"1.1\" viewbox=\"          225.691605            27.140120          7374.125488          5618.850098\" width=\"100%\" height=\"100%\" preserveAspectRatio=\"xMidYMid\">\n",
       "<style>\n",
       "  .fn { font-family: Arial,Helvetica,sans-serif; }\n",
       "  .fN { font-family: Arial,Helvetica,sans-serif; font-weight: bold;}\n",
       "  .fr { font-family: Times,Times-Roman,Times New Roman,serif; }\n",
       "  .fR { font-family: Times,Times-Roman,Times New Roman,serif; font-weight: bold;}\n",
       "  .fi { font-family: Times,Times-Roman,Times New Roman,serif; font-style: italic;}\n",
       "  .fI { font-family: Times,Times-Roman,Times New Roman,serif; font-style: italic; font-weight: bold;}\n",
       "  .fs { font-family: Zapf-Chancery,Apple Chancery,URW Chancery L,cursive;}\n",
       "  .fS { font-family: Zapf-Chancery,Apple Chancery,URW Chancery L,cursive;font-weight:bold}\n",
       "  .fc { font-family: Arial Narrow,Helvetica Narrow,Arial,Helvetica,sans-serif;}\n",
       "  .fC { font-family: Arial Narrow,Helvetica Narrow,Arial,Helvetica,sans-serif; font-weight:bold;}\n",
       "</style>\n",
       "<g style=\"color: rgb(0, 0, 0); fill: currentColor; stroke: currentColor; stroke-width: 8\">\n",
       "\n",
       "<path fill=\"none\" d=\"M 742 576 l 5935 0 l 0 4607 l -5935 0 l 0 -4607 M 1040 576 l 0 33 M 1359 576 l 0 33 M 1620 576 l 0 33  M 1841 576 l 0 33 M 2033 576 l 0 33 M 2201 576 l 0 33 M 2352 576 l 0 66 M 3345 576 l 0 33 M 3926 576 l 0 33  M 4338 576 l 0 33 M 4657 576 l 0 33 M 4919 576 l 0 33 M 5139 576 l 0 33 M 5331 576 l 0 33 M 5499 576 l 0 33  M 5650 576 l 0 66 M 6643 576 l 0 33 M 1040 5150 l 0 33 M 1359 5150 l 0 33 M 1620 5150 l 0 33 M 1841 5150 l 0 33  M 2033 5150 l 0 33 M 2201 5150 l 0 33 M 2352 5117 l 0 66 M 3345 5150 l 0 33 M 3926 5150 l 0 33 M 4338 5150 l 0 33  M 4657 5150 l 0 33 M 4919 5150 l 0 33 M 5139 5150 l 0 33 M 5331 5150 l 0 33 M 5499 5150 l 0 33 M 5650 5117 l 0 66  M 6643 5150 l 0 33 \"/>\n",
       "<text transform=\"translate(2307,403) scale(1,-1)\"><tspan class=\"fn\" style=\"font-size: 886%;\">1</tspan></text>\n",
       "<text transform=\"translate(5561,403) scale(1,-1)\"><tspan class=\"fn\" style=\"font-size: 886%;\">10</tspan></text>\n",
       "<text transform=\"translate(1248,403) scale(1,-1)\"><tspan class=\"fn\" style=\"font-size: 886%;\">0.5</tspan></text>\n",
       "<text transform=\"translate(3300,403) scale(1,-1)\"><tspan class=\"fn\" style=\"font-size: 886%;\">2</tspan></text>\n",
       "<text transform=\"translate(4613,403) scale(1,-1)\"><tspan class=\"fn\" style=\"font-size: 886%;\">5</tspan></text>\n",
       "<text transform=\"translate(6554,403) scale(1,-1)\"><tspan class=\"fn\" style=\"font-size: 886%;\">20</tspan></text>\n",
       "\n",
       "<path fill=\"none\" d=\"M 742 576 l 66 0 M 742 1179 l 33 0 M 742 1531 l 33 0 M 742 1781 l 33 0 M 742 1975 l 33 0 M 742 2134 l 33 0  M 742 2268 l 33 0 M 742 2384 l 33 0 M 742 2487 l 33 0 M 742 2578 l 66 0 M 742 3181 l 33 0 M 742 3533 l 33 0  M 742 3784 l 33 0 M 742 3978 l 33 0 M 742 4136 l 33 0 M 742 4270 l 33 0 M 742 4386 l 33 0 M 742 4489 l 33 0  M 742 4580 l 66 0 M 6611 576 l 66 0 M 6644 1179 l 33 0 M 6644 1531 l 33 0 M 6644 1781 l 33 0 M 6644 1975 l 33 0  M 6644 2134 l 33 0 M 6644 2268 l 33 0 M 6644 2384 l 33 0 M 6644 2487 l 33 0 M 6611 2578 l 66 0 M 6644 3181 l 33 0  M 6644 3533 l 33 0 M 6644 3784 l 33 0 M 6644 3978 l 33 0 M 6644 4136 l 33 0 M 6644 4270 l 33 0 M 6644 4386 l 33 0  M 6644 4489 l 33 0 M 6611 4580 l 66 0 \"/>\n",
       "<text transform=\"translate(641,432) scale(1,-1) rotate(-90)\"><tspan class=\"fn\" style=\"font-size: 886%;\">10<tspan style=\"font-size: 60%;\" dy=\"-0.6em\">−4<tspan style=\"font-size: 166.667%;\" dy=\"+0.36em\"/></tspan></tspan></text>\n",
       "<text transform=\"translate(641,2434) scale(1,-1) rotate(-90)\"><tspan class=\"fn\" style=\"font-size: 886%;\">10<tspan style=\"font-size: 60%;\" dy=\"-0.6em\">−3<tspan style=\"font-size: 166.667%;\" dy=\"+0.36em\"/></tspan></tspan></text>\n",
       "<text transform=\"translate(641,4424) scale(1,-1) rotate(-90)\"><tspan class=\"fn\" style=\"font-size: 886%;\">0.01</tspan></text>\n",
       "</g>\n",
       "<g style=\"color: rgb(0, 0, 0); fill: currentColor; stroke: currentColor; stroke-width: 4\">\n",
       "<defs>\n",
       "<symbol id=\"M1\" overflow=\"visible\">\n",
       "<circle r=\"1\" fill=\"none\" stroke-width=\"1\"/>\n",
       "</symbol>\n",
       "</defs>\n",
       "<use xlink:href=\"#M1\" transform=\"translate(1511, 3935) scale(4.430)\"/>\n",
       "\n",
       "<path fill=\"none\" d=\"M 742 3935 l 1267 0 M 1511 3637 l 0 519 \"/>\n",
       "<use xlink:href=\"#M1\" transform=\"translate(2219, 4566) scale(4.430)\"/>\n",
       "\n",
       "<path fill=\"none\" d=\"M 2009 4566 l 394 0 M 2219 4306 l 0 460 \"/>\n",
       "<use xlink:href=\"#M1\" transform=\"translate(2506, 5028) scale(4.430)\"/>\n",
       "\n",
       "<path fill=\"none\" d=\"M 2403 5028 l 200 0 M 2506 4786 l 0 397 \"/>\n",
       "<use xlink:href=\"#M1\" transform=\"translate(2745, 4563) scale(4.430)\"/>\n",
       "\n",
       "<path fill=\"none\" d=\"M 2603 4563 l 271 0 M 2745 4300 l 0 464 \"/>\n",
       "<use xlink:href=\"#M1\" transform=\"translate(2959, 4851) scale(4.430)\"/>\n",
       "\n",
       "<path fill=\"none\" d=\"M 2874 4851 l 165 0 M 2959 4586 l 0 469 \"/>\n",
       "<use xlink:href=\"#M1\" transform=\"translate(3169, 4340) scale(4.430)\"/>\n",
       "\n",
       "<path fill=\"none\" d=\"M 3039 4340 l 249 0 M 3169 4063 l 0 487 \"/>\n",
       "<use xlink:href=\"#M1\" transform=\"translate(3547, 3447) scale(4.430)\"/>\n",
       "\n",
       "<path fill=\"none\" d=\"M 3288 3447 l 479 0 M 3547 3127 l 0 554 \"/>\n",
       "<use xlink:href=\"#M1\" transform=\"translate(4056, 2942) scale(4.430)\"/>\n",
       "\n",
       "<path fill=\"none\" d=\"M 3767 2942 l 529 0 M 4056 2564 l 0 641 \"/>\n",
       "<use xlink:href=\"#M1\" transform=\"translate(4607, 2720) scale(4.430)\"/>\n",
       "\n",
       "<path fill=\"none\" d=\"M 4296 2720 l 567 0 M 4607 2426 l 0 514 \"/>\n",
       "<use xlink:href=\"#M1\" transform=\"translate(6040, 823) scale(4.430)\"/>\n",
       "\n",
       "<path fill=\"none\" d=\"M 4863 823 l 1814 0 M 6040 576 l 0 526 \"/>\n",
       "</g>\n",
       "<g style=\"color: rgb(0, 0, 0); fill: currentColor; stroke: currentColor; stroke-width: 8\">\n",
       "<text transform=\"translate(370,2317) scale(1,-1) rotate(-90)\"><tspan class=\"fn\" style=\"font-size: 886%;\">counts s<tspan style=\"font-size: 60%;\" dy=\"-0.6em\">−1<tspan style=\"font-size: 166.667%;\" dy=\"+0.36em\"> keV<tspan style=\"font-size: 60%;\" dy=\"-0.6em\">−1<tspan style=\"font-size: 166.667%;\" dy=\"+0.36em\"/></tspan></tspan></tspan></tspan></text>\n",
       "<text transform=\"translate(3255,215) scale(1,-1)\"><tspan class=\"fn\" style=\"font-size: 886%;\">Energy (keV)</tspan></text>\n",
       "<text transform=\"translate(3534,5442) scale(1,-1)\"><tspan class=\"fn\" style=\"font-size: 886%;\"><tspan class=\"fR\">data</tspan></tspan></text>\n",
       "</g>\n",
       "<g style=\"color: rgb(0, 0, 0); fill: currentColor; stroke: currentColor; stroke-width: 4\">\n",
       "<text transform=\"translate(6246,46) scale(1,-1)\"><tspan class=\"fn\" style=\"font-size: 531.6%;\">rwebbe  3−Sep−2025 10:58</tspan></text>\n",
       "</g>\n",
       "<!-- _PGPLOT_SVG_ATEND: viewbox=\"          225.691605            27.140120          7374.125488          5618.850098\" -->\n",
       "</svg>"
      ],
      "text/plain": [
       "<IPython.core.display.SVG object>"
      ]
     },
     "metadata": {},
     "output_type": "display_data"
    }
   ],
   "source": [
    "spec_fnames = glob.glob('P*PNS*SRSPEC*.FTZ')\n",
    "\n",
    "spec = Spectrum(spec_fnames[0])\n",
    "Plot.device=\"/svg\"\n",
    "Plot.xAxis=\"keV\"\n",
    "Plot.xLog=True\n",
    "Plot.yLog=True\n",
    "Plot.addCommand(\"Rescale Y 0.0001 0.02\")\n",
    "Plot(\"data\")"
   ]
  },
  {
   "cell_type": "code",
   "execution_count": 4,
   "metadata": {
    "scrolled": false
   },
   "outputs": [
    {
     "name": "stdout",
     "output_type": "stream",
     "text": [
      "      No channels ignored (no channels in specified range)\n",
      "     1 channels (10) ignored in spectrum #     1\n",
      "\n",
      "\n",
      "========================================================================\n",
      "Model TBabs<1>*bbody<2> Source No.: 1   Active/On\n",
      "Model Model Component  Parameter  Unit     Value\n",
      " par  comp\n",
      "   1    1   TBabs      nH         10^22    1.00000      +/-  0.0          \n",
      "   2    2   bbody      kT         keV      3.00000      +/-  0.0          \n",
      "   3    2   bbody      norm                1.00000      +/-  0.0          \n",
      "________________________________________________________________________\n",
      "\n",
      "tbvabs Version 2.3\n",
      "Cosmic absorption with grains and H2, modified from\n",
      "Wilms, Allen, & McCray, 2000, ApJ 542, 914-924\n",
      "Questions: Joern Wilms\n",
      "joern.wilms@sternwarte.uni-erlangen.de\n",
      "joern.wilms@fau.de\n",
      "\n",
      "http://pulsar.sternwarte.uni-erlangen.de/wilms/research/tbabs/\n",
      "\n",
      "PLEASE NOTICE:\n",
      "To get the model described by the above paper\n",
      "you will also have to set the abundances:\n",
      "   abund wilm\n",
      "\n",
      "Note that this routine ignores the current cross section setting\n",
      "as it always HAS to use the Verner cross sections as a baseline.\n",
      "\n",
      "Fit statistic  : Chi-Squared              9.836603e+10     using 9 bins.\n",
      "\n",
      "Test statistic : Chi-Squared              9.836603e+10     using 9 bins.\n",
      " Null hypothesis probability of 0.000000e+00 with 6 degrees of freedom\n",
      " Current data and model not fit yet.\n",
      "                                   Parameters\n",
      "Chi-Squared  |beta|/N    Lvl          1:nH          2:kT        3:norm\n",
      "71.7805      1.47283       0      0.149261       3.12254   1.67955e-05\n",
      "69.5941      170683        0     0.0745069       3.08720   1.63701e-05\n",
      "66.3121      191332        0     0.0197617       3.00591   1.63471e-05\n",
      "63.9726      183463        0    0.00146859       2.91498   1.63457e-05\n",
      "62.9256      156798        0   0.000559524       2.84243   1.61109e-05\n",
      "62.3042      137206        0   0.000137243       2.78495   1.57006e-05\n",
      "61.8155      131395        0   3.60131e-05       2.73237   1.52307e-05\n",
      "61.3609      131250        0   1.14561e-05       2.68130   1.47413e-05\n",
      "60.9018      133675        0   5.47720e-06       2.63030   1.42482e-05\n",
      "60.4225      137267        0   2.56455e-06       2.57882   1.37574e-05\n",
      "59.9147      141471        0   1.14680e-06       2.52660   1.32711e-05\n",
      "59.3741      146063        0   4.57639e-07       2.47357   1.27902e-05\n",
      "58.7968      150985        0   1.23199e-07       2.41968   1.23154e-05\n",
      "58.1759      156233        0   4.22018e-08       2.36473   1.18466e-05\n",
      "57.5089      161727        0   3.05731e-09       2.30881   1.13841e-05\n",
      "56.7884      167582        0   6.98136e-10       2.25177   1.09281e-05\n",
      "56.0092      173724        0   1.30979e-10       2.19360   1.04786e-05\n",
      "55.1655      180242        0   6.30186e-11       2.13431   1.00358e-05\n",
      "54.2452      187237        0   3.05348e-11       2.07370   9.60064e-06\n",
      "53.2424      194464        0   1.50827e-11       2.01184   9.17227e-06\n",
      "52.1406      202266        0   4.41798e-13       1.94860   8.75431e-06\n",
      "51.063       209850        0   3.05749e-14       1.88712   8.31136e-06\n",
      "45.0309      231189       -1   8.75373e-15       1.52662   5.47434e-06\n",
      "20.3364      736222       -1   1.09110e-15      0.900491   3.32824e-06\n",
      "14.2973      1.04014e+06  -2   1.07417e-16      0.730023   2.96159e-06\n",
      "13.9231      86621.4      -3    0.00190407      0.690860   2.80505e-06\n",
      "13.898       5555.44       0   0.000574669      0.689598   2.78886e-06\n",
      "13.8893      12399.7       0   0.000281278      0.688449   2.77640e-06\n",
      "13.8829      37085.8       0   0.000140406      0.687265   2.76708e-06\n",
      "13.8768      50323.6       0   5.14187e-06      0.686114   2.75972e-06\n",
      "13.8728      55676.5       0   1.11265e-06      0.685050   2.75362e-06\n",
      "13.8692      59973.3       0   1.40800e-07      0.684056   2.74848e-06\n",
      "13.866       61538.2       0   2.37024e-08      0.683144   2.74403e-06\n",
      "13.8633      61805.7       0   9.58356e-09      0.682315   2.74011e-06\n",
      "13.861       61504.6       0   2.76233e-09      0.681567   2.73661e-06\n",
      "13.859       60991.3       0   1.11144e-09      0.680890   2.73349e-06\n",
      "13.8573      60381.5       0   3.10518e-10      0.680282   2.73068e-06\n",
      "13.8559      59799.4       0   1.15706e-10      0.679736   2.72816e-06\n",
      "13.8547      59278         0   2.08305e-11      0.679246   2.72590e-06\n",
      "13.8536      58788         0   9.23217e-12      0.678805   2.72387e-06\n",
      "13.8529      58375.2       0   3.41874e-12      0.678439   2.72195e-06\n",
      "13.8521      59045.6       0   6.19830e-13      0.678073   2.72036e-06\n",
      "13.851       58232.4       0   7.45629e-14      0.677828   2.72115e-06\n",
      "13.8501      49141.1       0   0.000496133      0.676224   2.72381e-06\n",
      "13.8484      11573.6       0   0.000163174      0.676317   2.71895e-06\n",
      "13.8472      28965.4       0   5.34371e-05      0.676161   2.71926e-06\n",
      "13.8466      21647.7       0   1.28570e-06      0.676027   2.71945e-06\n",
      "13.8464      16649.6       0   4.98514e-07      0.675908   2.71955e-06\n",
      "13.8462      13489.8       0   1.12670e-07      0.675798   2.71959e-06\n",
      "13.846       10793.9       0   1.79089e-08      0.675697   2.71959e-06\n",
      "13.8459      8499.79       0   6.25106e-09      0.675602   2.71955e-06\n",
      "13.8457      6544.21       0   5.05256e-10      0.675513   2.71947e-06\n",
      "13.8456      4872.99       0   1.50808e-10      0.675429   2.71937e-06\n",
      "13.8455      3464.5        0   6.32622e-11      0.675351   2.71924e-06\n",
      "13.8454      2269.53       0   1.98901e-11      0.675276   2.71910e-06\n",
      "========================================\n",
      " Variances and Principal Axes\n",
      "                 1        2        3  \n",
      " 7.1645E-14| -0.0000  -0.0000   1.0000  \n",
      " 1.7424E-03| -0.8462  -0.5329  -0.0000  \n",
      " 1.2162E-02|  0.5329  -0.8462  -0.0000  \n",
      "----------------------------------------\n",
      "\n",
      "====================================\n",
      "  Covariance Matrix\n",
      "        1           2           3   \n",
      "   4.701e-03  -4.698e-03  -5.602e-10\n",
      "  -4.698e-03   9.203e-03   2.261e-08\n",
      "  -5.602e-10   2.261e-08   1.796e-13\n",
      "------------------------------------\n",
      "\n",
      "========================================================================\n",
      "Model TBabs<1>*bbody<2> Source No.: 1   Active/On\n",
      "Model Model Component  Parameter  Unit     Value\n",
      " par  comp\n",
      "   1    1   TBabs      nH         10^22    1.98901E-11  +/-  6.85650E-02  \n",
      "   2    2   bbody      kT         keV      0.675276     +/-  9.59313E-02  \n",
      "   3    2   bbody      norm                2.71910E-06  +/-  4.23737E-07  \n",
      "________________________________________________________________________\n",
      "\n",
      "\n",
      "Fit statistic  : Chi-Squared                 13.8454     using 9 bins.\n",
      "\n",
      "Test statistic : Chi-Squared                 13.8454     using 9 bins.\n",
      " Null hypothesis probability of 3.1411e-02 with 6 degrees of freedom\n"
     ]
    },
    {
     "data": {
      "image/svg+xml": [
       "<svg xmlns=\"http://www.w3.org/2000/svg\" xmlns:xlink=\"http://www.w3.org/1999/xlink\" style=\"fill-rule: nonzero; stroke-linecap: round; stroke-linejoin: round; transform: scale(1,-1);\" version=\"1.1\" viewbox=\"           -8.104126            27.140120          7607.920898          5564.965820\" width=\"100%\" height=\"100%\" preserveAspectRatio=\"xMidYMid\">\n",
       "<style>\n",
       "  .fn { font-family: Arial,Helvetica,sans-serif; }\n",
       "  .fN { font-family: Arial,Helvetica,sans-serif; font-weight: bold;}\n",
       "  .fr { font-family: Times,Times-Roman,Times New Roman,serif; }\n",
       "  .fR { font-family: Times,Times-Roman,Times New Roman,serif; font-weight: bold;}\n",
       "  .fi { font-family: Times,Times-Roman,Times New Roman,serif; font-style: italic;}\n",
       "  .fI { font-family: Times,Times-Roman,Times New Roman,serif; font-style: italic; font-weight: bold;}\n",
       "  .fs { font-family: Zapf-Chancery,Apple Chancery,URW Chancery L,cursive;}\n",
       "  .fS { font-family: Zapf-Chancery,Apple Chancery,URW Chancery L,cursive;font-weight:bold}\n",
       "  .fc { font-family: Arial Narrow,Helvetica Narrow,Arial,Helvetica,sans-serif;}\n",
       "  .fC { font-family: Arial Narrow,Helvetica Narrow,Arial,Helvetica,sans-serif; font-weight:bold;}\n",
       "</style>\n",
       "<g style=\"color: rgb(0, 0, 0); fill: currentColor; stroke: currentColor; stroke-width: 8\">\n",
       "\n",
       "<path fill=\"none\" d=\"M 742 2304 l 5935 0 l 0 2879 l -5935 0 l 0 -2879 M 1171 2304 l 0 28 M 1631 2304 l 0 28 M 2007 2304 l 0 28  M 2325 2304 l 0 28 M 2601 2304 l 0 28 M 2844 2304 l 0 28 M 3061 2304 l 0 56 M 4491 2304 l 0 28 M 5328 2304 l 0 28  M 5921 2304 l 0 28 M 6382 2304 l 0 28 M 1171 5155 l 0 28 M 1631 5155 l 0 28 M 2007 5155 l 0 28 M 2325 5155 l 0 28  M 2601 5155 l 0 28 M 2844 5155 l 0 28 M 3061 5127 l 0 56 M 4491 5155 l 0 28 M 5328 5155 l 0 28 M 5921 5155 l 0 28  M 6382 5155 l 0 28 M 742 2304 l 56 0 M 742 2680 l 28 0 M 742 2901 l 28 0 M 742 3057 l 28 0 M 742 3178 l 28 0  M 742 3277 l 28 0 M 742 3361 l 28 0 M 742 3434 l 28 0 M 742 3498 l 28 0 M 742 3555 l 56 0 M 742 3932 l 28 0  M 742 4152 l 28 0 M 742 4308 l 28 0 M 742 4430 l 28 0 M 742 4529 l 28 0 M 742 4613 l 28 0 M 742 4685 l 28 0  M 742 4749 l 28 0 M 742 4806 l 56 0 M 6621 2304 l 56 0 M 6649 2680 l 28 0 M 6649 2901 l 28 0 M 6649 3057 l 28 0  M 6649 3178 l 28 0 M 6649 3277 l 28 0 M 6649 3361 l 28 0 M 6649 3434 l 28 0 M 6649 3498 l 28 0 M 6621 3555 l 56 0  M 6649 3932 l 28 0 M 6649 4152 l 28 0 M 6649 4308 l 28 0 M 6649 4430 l 28 0 M 6649 4529 l 28 0 M 6649 4613 l 28 0  M 6649 4685 l 28 0 M 6649 4749 l 28 0 M 6621 4806 l 56 0 \"/>\n",
       "<text transform=\"translate(412,2266) scale(1,-1)\"><tspan class=\"fn\" style=\"font-size: 753.1%;\">10<tspan style=\"font-size: 60%;\" dy=\"-0.6em\">−4<tspan style=\"font-size: 166.667%;\" dy=\"+0.36em\"/></tspan></tspan></text>\n",
       "<text transform=\"translate(412,3518) scale(1,-1)\"><tspan class=\"fn\" style=\"font-size: 753.1%;\">10<tspan style=\"font-size: 60%;\" dy=\"-0.6em\">−3<tspan style=\"font-size: 166.667%;\" dy=\"+0.36em\"/></tspan></tspan></text>\n",
       "<text transform=\"translate(391,4769) scale(1,-1)\"><tspan class=\"fn\" style=\"font-size: 753.1%;\">0.01</tspan></text>\n",
       "</g>\n",
       "<g style=\"color: rgb(0, 0, 0); fill: currentColor; stroke: currentColor; stroke-width: 4\">\n",
       "<defs>\n",
       "<symbol id=\"M1\" overflow=\"visible\">\n",
       "<circle r=\"1\" fill=\"none\" stroke-width=\"1\"/>\n",
       "</symbol>\n",
       "</defs>\n",
       "<use xlink:href=\"#M1\" transform=\"translate(1850, 4403) scale(4.430)\"/>\n",
       "\n",
       "<path fill=\"none\" d=\"M 742 4403 l 1825 0 M 1850 4217 l 0 324 \"/>\n",
       "<use xlink:href=\"#M1\" transform=\"translate(2870, 4797) scale(4.430)\"/>\n",
       "\n",
       "<path fill=\"none\" d=\"M 2567 4797 l 567 0 M 2870 4635 l 0 287 \"/>\n",
       "<use xlink:href=\"#M1\" transform=\"translate(3283, 5086) scale(4.430)\"/>\n",
       "\n",
       "<path fill=\"none\" d=\"M 3134 5086 l 288 0 M 3283 4935 l 0 248 \"/>\n",
       "<use xlink:href=\"#M1\" transform=\"translate(3626, 4795) scale(4.430)\"/>\n",
       "\n",
       "<path fill=\"none\" d=\"M 3422 4795 l 390 0 M 3626 4631 l 0 290 \"/>\n",
       "<use xlink:href=\"#M1\" transform=\"translate(3935, 4976) scale(4.430)\"/>\n",
       "\n",
       "<path fill=\"none\" d=\"M 3812 4976 l 239 0 M 3935 4810 l 0 293 \"/>\n",
       "<use xlink:href=\"#M1\" transform=\"translate(4238, 4656) scale(4.430)\"/>\n",
       "\n",
       "<path fill=\"none\" d=\"M 4051 4656 l 358 0 M 4238 4483 l 0 305 \"/>\n",
       "<use xlink:href=\"#M1\" transform=\"translate(4783, 4098) scale(4.430)\"/>\n",
       "\n",
       "<path fill=\"none\" d=\"M 4409 4098 l 690 0 M 4783 3898 l 0 346 \"/>\n",
       "<use xlink:href=\"#M1\" transform=\"translate(5515, 3782) scale(4.430)\"/>\n",
       "\n",
       "<path fill=\"none\" d=\"M 5099 3782 l 762 0 M 5515 3546 l 0 401 \"/>\n",
       "<use xlink:href=\"#M1\" transform=\"translate(6309, 3644) scale(4.430)\"/>\n",
       "\n",
       "<path fill=\"none\" d=\"M 5861 3644 l 816 0 M 6309 3460 l 0 321 \"/>\n",
       "</g>\n",
       "<g style=\"color: rgb(0, 0, 0); fill: currentColor; stroke: currentColor; stroke-width: 8\">\n",
       "\n",
       "<path fill=\"none\" d=\"M 742 4456 l 1825 0 l 0 275 l 567 0 l 0 55 l 288 0 l 0 10 l 390 0 l 0 -32 l 239 0 l 0 -81  l 358 0 l 0 -350 l 690 0 l 0 -516 l 762 0 l 0 -813 l 816 0 M 742 4456 l 1825 0 M 1850 4456 l 0 0  M 2567 4731 l 567 0 M 2870 4731 l 0 0 M 3134 4786 l 288 0 M 3283 4786 l 0 0 M 3422 4796 l 390 0 M 3626 4796 l 0 0  M 3812 4764 l 239 0 M 3935 4764 l 0 0 M 4051 4683 l 358 0 M 4238 4683 l 0 0 M 4409 4333 l 690 0 M 4783 4333 l 0 0  M 5099 3817 l 762 0 M 5515 3817 l 0 0 M 5861 3004 l 816 0 M 6309 3004 l 0 0 \"/>\n",
       "<text transform=\"translate(111,3265) scale(1,-1) rotate(-90)\"><tspan class=\"fn\" style=\"font-size: 753.1%;\">counts s<tspan style=\"font-size: 60%;\" dy=\"-0.6em\">−1<tspan style=\"font-size: 166.667%;\" dy=\"+0.36em\"> keV<tspan style=\"font-size: 60%;\" dy=\"-0.6em\">−1<tspan style=\"font-size: 166.667%;\" dy=\"+0.36em\"/></tspan></tspan></tspan></tspan></text>\n",
       "<text transform=\"translate(2971,5403) scale(1,-1)\"><tspan class=\"fn\" style=\"font-size: 753.1%;\"><tspan class=\"fR\">data and folded model</tspan></tspan></text>\n",
       "\n",
       "<path fill=\"none\" d=\"M 742 576 l 5935 0 l 0 1728 l -5935 0 l 0 -1728 M 1171 576 l 0 28 M 1631 576 l 0 28 M 2007 576 l 0 28  M 2325 576 l 0 28 M 2601 576 l 0 28 M 2844 576 l 0 28 M 3061 576 l 0 56 M 4491 576 l 0 28 M 5328 576 l 0 28  M 5921 576 l 0 28 M 6382 576 l 0 28 M 1171 2275 l 0 29 M 1631 2275 l 0 29 M 2007 2275 l 0 29 M 2325 2275 l 0 29  M 2601 2275 l 0 29 M 2844 2275 l 0 29 M 3061 2247 l 0 57 M 4491 2275 l 0 29 M 5328 2275 l 0 29 M 5921 2275 l 0 29  M 6382 2275 l 0 29 \"/>\n",
       "<text transform=\"translate(3023,429) scale(1,-1)\"><tspan class=\"fn\" style=\"font-size: 753.1%;\">1</tspan></text>\n",
       "<text transform=\"translate(1536,429) scale(1,-1)\"><tspan class=\"fn\" style=\"font-size: 753.1%;\">0.5</tspan></text>\n",
       "<text transform=\"translate(4453,429) scale(1,-1)\"><tspan class=\"fn\" style=\"font-size: 753.1%;\">2</tspan></text>\n",
       "<text transform=\"translate(6343,429) scale(1,-1)\"><tspan class=\"fn\" style=\"font-size: 753.1%;\">5</tspan></text>\n",
       "\n",
       "<path fill=\"none\" d=\"M 742 707 l 28 0 M 742 899 l 56 0 M 742 1091 l 28 0 M 742 1282 l 56 0 M 742 1474 l 28 0 M 742 1666 l 56 0  M 742 1858 l 28 0 M 742 2050 l 56 0 M 742 2242 l 28 0 M 6649 707 l 28 0 M 6621 899 l 56 0 M 6649 1091 l 28 0  M 6621 1282 l 56 0 M 6649 1474 l 28 0 M 6621 1666 l 56 0 M 6649 1858 l 28 0 M 6621 2050 l 56 0 M 6649 2242 l 28 0  \"/>\n",
       "<text transform=\"translate(580,861) scale(1,-1)\"><tspan class=\"fn\" style=\"font-size: 753.1%;\">0</tspan></text>\n",
       "<text transform=\"translate(240,1245) scale(1,-1)\"><tspan class=\"fn\" style=\"font-size: 753.1%;\">2×10<tspan style=\"font-size: 60%;\" dy=\"-0.6em\">−3<tspan style=\"font-size: 166.667%;\" dy=\"+0.36em\"/></tspan></tspan></text>\n",
       "<text transform=\"translate(240,1629) scale(1,-1)\"><tspan class=\"fn\" style=\"font-size: 753.1%;\">4×10<tspan style=\"font-size: 60%;\" dy=\"-0.6em\">−3<tspan style=\"font-size: 166.667%;\" dy=\"+0.36em\"/></tspan></tspan></text>\n",
       "<text transform=\"translate(240,2013) scale(1,-1)\"><tspan class=\"fn\" style=\"font-size: 753.1%;\">6×10<tspan style=\"font-size: 60%;\" dy=\"-0.6em\">−3<tspan style=\"font-size: 166.667%;\" dy=\"+0.36em\"/></tspan></tspan></text>\n",
       "</g>\n",
       "<g style=\"color: rgb(0, 0, 0); fill: currentColor; stroke: currentColor; stroke-width: 4\">\n",
       "<use xlink:href=\"#M1\" transform=\"translate(1850, 804) scale(4.430)\"/>\n",
       "\n",
       "<path fill=\"none\" d=\"M 742 804 l 1825 0 M 1850 576 l 0 493 \"/>\n",
       "<use xlink:href=\"#M1\" transform=\"translate(2870, 1116) scale(4.430)\"/>\n",
       "\n",
       "<path fill=\"none\" d=\"M 2567 1116 l 567 0 M 2870 629 l 0 975 \"/>\n",
       "<use xlink:href=\"#M1\" transform=\"translate(3283, 2262) scale(4.430)\"/>\n",
       "\n",
       "<path fill=\"none\" d=\"M 3134 2262 l 288 0 M 3283 1482 l 0 822 \"/>\n",
       "<use xlink:href=\"#M1\" transform=\"translate(3626, 895) scale(4.430)\"/>\n",
       "\n",
       "<path fill=\"none\" d=\"M 3422 895 l 390 0 M 3626 576 l 0 809 \"/>\n",
       "<use xlink:href=\"#M1\" transform=\"translate(3935, 1746) scale(4.430)\"/>\n",
       "\n",
       "<path fill=\"none\" d=\"M 3812 1746 l 239 0 M 3935 1056 l 0 1248 \"/>\n",
       "<use xlink:href=\"#M1\" transform=\"translate(4238, 826) scale(4.430)\"/>\n",
       "\n",
       "<path fill=\"none\" d=\"M 4051 826 l 358 0 M 4238 576 l 0 648 \"/>\n",
       "<use xlink:href=\"#M1\" transform=\"translate(4783, 617) scale(4.430)\"/>\n",
       "\n",
       "<path fill=\"none\" d=\"M 4409 617 l 690 0 M 4783 576 l 0 202 \"/>\n",
       "<use xlink:href=\"#M1\" transform=\"translate(5515, 879) scale(4.430)\"/>\n",
       "\n",
       "<path fill=\"none\" d=\"M 5099 879 l 762 0 M 5515 777 l 0 205 \"/>\n",
       "<use xlink:href=\"#M1\" transform=\"translate(6309, 1055) scale(4.430)\"/>\n",
       "\n",
       "<path fill=\"none\" d=\"M 5861 1055 l 816 0 M 6309 990 l 0 130 \"/>\n",
       "</g>\n",
       "<g style=\"color: rgb(0, 0, 0); fill: currentColor; stroke: currentColor; stroke-width: 8\">\n",
       "<text transform=\"translate(111,962) scale(1,-1) rotate(-90)\"><tspan class=\"fn\" style=\"font-size: 753.1%;\">counts s<tspan style=\"font-size: 60%;\" dy=\"-0.6em\">−1<tspan style=\"font-size: 166.667%;\" dy=\"+0.36em\"> keV<tspan style=\"font-size: 60%;\" dy=\"-0.6em\">−1<tspan style=\"font-size: 166.667%;\" dy=\"+0.36em\"/></tspan></tspan></tspan></tspan></text>\n",
       "<text transform=\"translate(3323,269) scale(1,-1)\"><tspan class=\"fn\" style=\"font-size: 753.1%;\">Energy (keV)</tspan></text>\n",
       "</g>\n",
       "<g style=\"color: rgb(0, 255, 0); fill: currentColor; stroke: currentColor; stroke-width: 8\">\n",
       "\n",
       "<path fill=\"none\" d=\"M 742 899 l 5935 0 \"/>\n",
       "</g>\n",
       "<g style=\"color: rgb(0, 0, 0); fill: currentColor; stroke: currentColor; stroke-width: 4\">\n",
       "<text transform=\"translate(6246,46) scale(1,-1)\"><tspan class=\"fn\" style=\"font-size: 531.6%;\">rwebbe  3−Sep−2025 10:58</tspan></text>\n",
       "</g>\n",
       "<!-- _PGPLOT_SVG_ATEND: viewbox=\"           -8.104126            27.140120          7607.920898          5564.965820\" -->\n",
       "</svg>"
      ],
      "text/plain": [
       "<IPython.core.display.SVG object>"
      ]
     },
     "metadata": {},
     "output_type": "display_data"
    }
   ],
   "source": [
    "spec.ignore(\"**-0.2 12.0-**\")\n",
    "AllModels.clear()\n",
    "mo = Model(\"tbabs*bbody\")\n",
    "Fit.perform()\n",
    "Plot(\"data resid\")"
   ]
  },
  {
   "cell_type": "code",
   "execution_count": 5,
   "metadata": {},
   "outputs": [
    {
     "name": "stdout",
     "output_type": "stream",
     "text": [
      "Cannot do error calc: Reduced Chi^2 (= 2.30757) > maximum (2)\n"
     ]
    },
    {
     "ename": "Exception",
     "evalue": "Error executing command: error",
     "output_type": "error",
     "traceback": [
      "\u001b[0;31m---------------------------------------------------------------------------\u001b[0m",
      "\u001b[0;31mException\u001b[0m                                 Traceback (most recent call last)",
      "\u001b[0;32m<ipython-input-5-21d339ad0c88>\u001b[0m in \u001b[0;36m<module>\u001b[0;34m\u001b[0m\n\u001b[0;32m----> 1\u001b[0;31m \u001b[0mFit\u001b[0m\u001b[0;34m.\u001b[0m\u001b[0merror\u001b[0m\u001b[0;34m(\u001b[0m\u001b[0;34m\"1\"\u001b[0m\u001b[0;34m)\u001b[0m\u001b[0;34m\u001b[0m\u001b[0;34m\u001b[0m\u001b[0m\n\u001b[0m\u001b[1;32m      2\u001b[0m \u001b[0mFit\u001b[0m\u001b[0;34m.\u001b[0m\u001b[0merror\u001b[0m\u001b[0;34m(\u001b[0m\u001b[0;34m\"2\"\u001b[0m\u001b[0;34m)\u001b[0m\u001b[0;34m\u001b[0m\u001b[0;34m\u001b[0m\u001b[0m\n\u001b[1;32m      3\u001b[0m \u001b[0;34m\u001b[0m\u001b[0m\n\u001b[1;32m      4\u001b[0m \u001b[0mout_arr\u001b[0m\u001b[0;34m[\u001b[0m\u001b[0;36m0\u001b[0m\u001b[0;34m,\u001b[0m\u001b[0;36m0\u001b[0m\u001b[0;34m]\u001b[0m \u001b[0;34m=\u001b[0m \u001b[0;34m'bbody'\u001b[0m\u001b[0;34m\u001b[0m\u001b[0;34m\u001b[0m\u001b[0m\n\u001b[1;32m      5\u001b[0m \u001b[0mout_arr\u001b[0m\u001b[0;34m[\u001b[0m\u001b[0;36m0\u001b[0m\u001b[0;34m,\u001b[0m\u001b[0;36m1\u001b[0m\u001b[0;34m:\u001b[0m\u001b[0;36m4\u001b[0m\u001b[0;34m]\u001b[0m \u001b[0;34m=\u001b[0m \u001b[0mmo\u001b[0m\u001b[0;34m.\u001b[0m\u001b[0mTBabs\u001b[0m\u001b[0;34m.\u001b[0m\u001b[0mnH\u001b[0m\u001b[0;34m.\u001b[0m\u001b[0mvalues\u001b[0m\u001b[0;34m[\u001b[0m\u001b[0;36m0\u001b[0m\u001b[0;34m]\u001b[0m\u001b[0;34m,\u001b[0m \u001b[0mmo\u001b[0m\u001b[0;34m.\u001b[0m\u001b[0mTBabs\u001b[0m\u001b[0;34m.\u001b[0m\u001b[0mnH\u001b[0m\u001b[0;34m.\u001b[0m\u001b[0mvalues\u001b[0m\u001b[0;34m[\u001b[0m\u001b[0;36m0\u001b[0m\u001b[0;34m]\u001b[0m \u001b[0;34m-\u001b[0m \u001b[0mmo\u001b[0m\u001b[0;34m.\u001b[0m\u001b[0mTBabs\u001b[0m\u001b[0;34m.\u001b[0m\u001b[0mnH\u001b[0m\u001b[0;34m.\u001b[0m\u001b[0merror\u001b[0m\u001b[0;34m[\u001b[0m\u001b[0;36m0\u001b[0m\u001b[0;34m]\u001b[0m\u001b[0;34m,\u001b[0m \u001b[0mmo\u001b[0m\u001b[0;34m.\u001b[0m\u001b[0mTBabs\u001b[0m\u001b[0;34m.\u001b[0m\u001b[0mnH\u001b[0m\u001b[0;34m.\u001b[0m\u001b[0merror\u001b[0m\u001b[0;34m[\u001b[0m\u001b[0;36m1\u001b[0m\u001b[0;34m]\u001b[0m \u001b[0;34m-\u001b[0m \u001b[0mmo\u001b[0m\u001b[0;34m.\u001b[0m\u001b[0mTBabs\u001b[0m\u001b[0;34m.\u001b[0m\u001b[0mnH\u001b[0m\u001b[0;34m.\u001b[0m\u001b[0mvalues\u001b[0m\u001b[0;34m[\u001b[0m\u001b[0;36m0\u001b[0m\u001b[0;34m]\u001b[0m\u001b[0;34m\u001b[0m\u001b[0;34m\u001b[0m\u001b[0m\n",
      "\u001b[0;32m~/astro_soft/heasoft-6.32.1/x86_64-pc-linux-gnu-libc2.31/lib/python/xspec/fit.py\u001b[0m in \u001b[0;36merror\u001b[0;34m(self, argString, respPar)\u001b[0m\n\u001b[1;32m    423\u001b[0m             \u001b[0merrorArgs\u001b[0m \u001b[0;34m=\u001b[0m \u001b[0;34m[\u001b[0m\u001b[0;34m\"error\"\u001b[0m\u001b[0;34m]\u001b[0m\u001b[0;34m\u001b[0m\u001b[0;34m\u001b[0m\u001b[0m\n\u001b[1;32m    424\u001b[0m         \u001b[0merrorArgs\u001b[0m \u001b[0;34m+=\u001b[0m \u001b[0margString\u001b[0m\u001b[0;34m.\u001b[0m\u001b[0msplit\u001b[0m\u001b[0;34m(\u001b[0m\u001b[0;34m)\u001b[0m\u001b[0;34m\u001b[0m\u001b[0;34m\u001b[0m\u001b[0m\n\u001b[0;32m--> 425\u001b[0;31m         \u001b[0m_pyXspec\u001b[0m\u001b[0;34m.\u001b[0m\u001b[0mdoXspecCmd\u001b[0m\u001b[0;34m(\u001b[0m\u001b[0merrorArgs\u001b[0m\u001b[0;34m)\u001b[0m\u001b[0;34m\u001b[0m\u001b[0;34m\u001b[0m\u001b[0m\n\u001b[0m\u001b[1;32m    426\u001b[0m \u001b[0;34m\u001b[0m\u001b[0m\n\u001b[1;32m    427\u001b[0m     \u001b[0;32mdef\u001b[0m \u001b[0mftest\u001b[0m\u001b[0;34m(\u001b[0m\u001b[0mself\u001b[0m\u001b[0;34m,\u001b[0m \u001b[0mchisq2\u001b[0m\u001b[0;34m,\u001b[0m \u001b[0mdof2\u001b[0m\u001b[0;34m,\u001b[0m \u001b[0mchisq1\u001b[0m\u001b[0;34m,\u001b[0m \u001b[0mdof1\u001b[0m\u001b[0;34m)\u001b[0m\u001b[0;34m:\u001b[0m\u001b[0;34m\u001b[0m\u001b[0;34m\u001b[0m\u001b[0m\n",
      "\u001b[0;31mException\u001b[0m: Error executing command: error"
     ]
    }
   ],
   "source": [
    "Fit.error(\"1\")\n",
    "Fit.error(\"2\")\n",
    "\n",
    "out_arr[0,0] = 'bbody'\n",
    "out_arr[0,1:4] = mo.TBabs.nH.values[0], mo.TBabs.nH.values[0] - mo.TBabs.nH.error[0], mo.TBabs.nH.error[1] - mo.TBabs.nH.values[0]\n",
    "out_arr[0,4:7] = mo.bbody.kT.values[0], mo.bbody.kT.values[0] - mo.bbody.kT.error[0], mo.bbody.kT.error[1] - mo.bbody.kT.values[0]\n",
    "out_arr[0,-2:] = Fit.dof, Fit.statistic / Fit.dof\n"
   ]
  },
  {
   "cell_type": "code",
   "execution_count": null,
   "metadata": {
    "scrolled": false
   },
   "outputs": [],
   "source": [
    "AllModels.clear()\n",
    "mo = Model(\"tbabs*powerlaw\")\n",
    "Fit.perform()\n",
    "Plot(\"data resid\")"
   ]
  },
  {
   "cell_type": "code",
   "execution_count": null,
   "metadata": {},
   "outputs": [],
   "source": [
    "Fit.error(\"1\")\n",
    "Fit.error(\"2\")\n",
    "\n",
    "out_arr[1,0] = 'powerlaw'\n",
    "out_arr[1,1:4] = mo.TBabs.nH.values[0], mo.TBabs.nH.values[0] - mo.TBabs.nH.error[0], mo.TBabs.nH.error[1] - mo.TBabs.nH.values[0]\n",
    "out_arr[1,14:17] = mo.powerlaw.PhoIndex.values[0], mo.powerlaw.PhoIndex.values[0] - mo.powerlaw.PhoIndex.error[0], mo.powerlaw.PhoIndex.error[1] - mo.powerlaw.PhoIndex.values[0]\n",
    "out_arr[1,-2:] = Fit.dof, Fit.statistic / Fit.dof\n"
   ]
  },
  {
   "cell_type": "code",
   "execution_count": null,
   "metadata": {
    "scrolled": false
   },
   "outputs": [],
   "source": [
    "AllModels.clear()\n",
    "mo = Model(\"tbabs*bremss\")\n",
    "Fit.perform()\n",
    "Plot(\"data resid\")"
   ]
  },
  {
   "cell_type": "code",
   "execution_count": null,
   "metadata": {},
   "outputs": [],
   "source": [
    "Fit.error(\"1\")\n",
    "Fit.error(\"2\")\n",
    "\n",
    "out_arr[3,0] = 'bremss'\n",
    "out_arr[3,1:4] = mo.TBabs.nH.values[0], mo.TBabs.nH.values[0] - mo.TBabs.nH.error[0], mo.TBabs.nH.error[1] - mo.TBabs.nH.values[0]\n",
    "out_arr[3,4:7] = mo.bremss.kT.values[0], mo.bremss.kT.values[0] - mo.bremss.kT.error[0], mo.bremss.kT.error[1] - mo.bremss.kT.values[0]\n",
    "out_arr[3,-2:] = Fit.dof, Fit.statistic / Fit.dof\n"
   ]
  },
  {
   "cell_type": "code",
   "execution_count": null,
   "metadata": {
    "scrolled": false
   },
   "outputs": [],
   "source": [
    "AllModels.clear()\n",
    "mo = Model(\"tbabs*apec\")\n",
    "Fit.perform()\n",
    "Plot(\"data resid\")"
   ]
  },
  {
   "cell_type": "code",
   "execution_count": null,
   "metadata": {},
   "outputs": [],
   "source": [
    "Fit.error(\"1\")\n",
    "Fit.error(\"2\")\n",
    "\n",
    "out_arr[2,0] = 'apec'\n",
    "out_arr[2,1:4] = mo.TBabs.nH.values[0], mo.TBabs.nH.values[0] - mo.TBabs.nH.error[0], mo.TBabs.nH.error[1] - mo.TBabs.nH.values[0]\n",
    "out_arr[2,13] = mo.apec.Abundanc.values[0]\n",
    "out_arr[2,4:7] = mo.apec.kT.values[0], mo.apec.kT.values[0] - mo.apec.kT.error[0], mo.apec.kT.error[1] - mo.apec.kT.values[0]\n",
    "out_arr[2,-2:] = Fit.dof, Fit.statistic / Fit.dof\n"
   ]
  },
  {
   "cell_type": "code",
   "execution_count": null,
   "metadata": {},
   "outputs": [],
   "source": [
    "np.savetxt('../spec41_output.csv',out_arr,fmt=['%s','%.2f','%.2f','%.2f','%.2f','%.2f','%.2f','%.2f','%.2f','%.2f','%.2f','%.2f','%.2f','%.1f','%.2f','%.2f','%.2f','%i','%.2f'],delimiter=',')\n"
   ]
  },
  {
   "cell_type": "code",
   "execution_count": null,
   "metadata": {},
   "outputs": [],
   "source": [
    "AllModels.calcFlux(\".2 12.0\")"
   ]
  },
  {
   "cell_type": "code",
   "execution_count": null,
   "metadata": {},
   "outputs": [],
   "source": [
    "plx = 0.653\n",
    "d_kpc = 1/plx\n",
    "F_x = 3.5446*10**-13\n",
    "\n",
    "L_x = 4*3.14*F_x*(d_kpc*3.086*10**21)**2\n",
    "print(L_x)"
   ]
  },
  {
   "cell_type": "code",
   "execution_count": null,
   "metadata": {},
   "outputs": [],
   "source": [
    "import numpy as np\n",
    "print(d_kpc)\n",
    "print(np.log10(L_x))"
   ]
  },
  {
   "cell_type": "code",
   "execution_count": null,
   "metadata": {},
   "outputs": [],
   "source": [
    "F_opt = 1.05*10**-5 * 10**(-0.4*15.49)\n",
    "print('Optical Flux: ',F_opt)\n",
    "print('F_x / F_opt: ', np.log10(F_x/F_opt))"
   ]
  },
  {
   "cell_type": "code",
   "execution_count": null,
   "metadata": {
    "scrolled": false
   },
   "outputs": [],
   "source": [
    "AllModels.clear()\n",
    "mo = Model(\"tbabs*(apec+apec)\")\n",
    "mo.apec.kT = 0.5\n",
    "mo.apec_3.kT = 4.0\n",
    "Fit.perform()\n",
    "Plot(\"data resid\")"
   ]
  }
 ],
 "metadata": {
  "kernelspec": {
   "display_name": "Python 3 (ipykernel)",
   "language": "python",
   "name": "python3"
  },
  "language_info": {
   "codemirror_mode": {
    "name": "ipython",
    "version": 3
   },
   "file_extension": ".py",
   "mimetype": "text/x-python",
   "name": "python",
   "nbconvert_exporter": "python",
   "pygments_lexer": "ipython3",
   "version": "3.8.10"
  }
 },
 "nbformat": 4,
 "nbformat_minor": 4
}
