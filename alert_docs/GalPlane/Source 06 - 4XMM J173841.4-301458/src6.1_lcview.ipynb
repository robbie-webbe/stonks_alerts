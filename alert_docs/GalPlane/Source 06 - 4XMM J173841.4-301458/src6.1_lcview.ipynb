{
 "cells": [
  {
   "cell_type": "code",
   "execution_count": 1,
   "metadata": {},
   "outputs": [],
   "source": [
    "import glob\n",
    "from stingray import Lightcurve\n",
    "from astropy.io import fits\n",
    "import matplotlib.pyplot as plt\n",
    "plt.rcParams['figure.figsize'] = [12,7.5]"
   ]
  },
  {
   "cell_type": "code",
   "execution_count": 2,
   "metadata": {},
   "outputs": [],
   "source": [
    "lc_fnames = glob.glob('pps/P*M1X*SRCTSR*.FTZ')\n",
    "\n",
    "lcs = []\n",
    "slcs = []\n",
    "hlcs = []\n",
    "for file in lc_fnames:\n",
    "    hdul = fits.open(file)\n",
    "    time = hdul[1].data.field('TIME')\n",
    "    rate = hdul[1].data.field('RATE')\n",
    "    err = hdul[1].data.field('ERROR')\n",
    "    soft = hdul[1].data.field('RATE1') + hdul[1].data.field('RATE2') + hdul[1].data.field('RATE3')\n",
    "    hard = hdul[1].data.field('RATE4') + hdul[1].data.field('RATE5')\n",
    "    ers = hdul[1].data.field('RATE1_ERR') + hdul[1].data.field('RATE2_ERR') + hdul[1].data.field('RATE3_ERR')\n",
    "    erh = hdul[1].data.field('RATE4_ERR') + hdul[1].data.field('RATE5_ERR')\n",
    "    gtis = []\n",
    "    for i in hdul[2].data:\n",
    "        gtis.append([i[0],i[1]])\n",
    "    lcs.append(Lightcurve(time, rate, err, gti=gtis, input_counts=False))\n",
    "    slcs.append(Lightcurve(time, soft, ers, gti=gtis, input_counts=False))\n",
    "    hlcs.append(Lightcurve(time, hard, erh, gti=gtis, input_counts=False))\n",
    "    "
   ]
  },
  {
   "cell_type": "code",
   "execution_count": 3,
   "metadata": {},
   "outputs": [
    {
     "data": {
      "text/plain": [
       "['pps/P0886121201M1X000SRCTSR800A.FTZ']"
      ]
     },
     "execution_count": 3,
     "metadata": {},
     "output_type": "execute_result"
    }
   ],
   "source": [
    "lc_fnames"
   ]
  },
  {
   "cell_type": "code",
   "execution_count": 4,
   "metadata": {},
   "outputs": [
    {
     "data": {
      "image/png": "[encoded data removed]",
      "text/plain": [
       "<Figure size 864x540 with 1 Axes>"
      ]
     },
     "metadata": {
      "needs_background": "light"
     },
     "output_type": "display_data"
    }
   ],
   "source": [
    "for i in range(len(lcs)):\n",
    "    plt.xlabel('Time (s)')\n",
    "    plt.ylabel('Countrate (/s)')\n",
    "    plt.plot(lcs[i].time, lcs[i].countrate, color='k', ds='steps-mid', label='Full')\n",
    "    plt.plot(slcs[i].time, slcs[i].countrate, color='r', ds='steps-mid', alpha=0.75, label='Soft')\n",
    "    plt.plot(hlcs[i].time, hlcs[i].countrate, color='b', ds='steps-mid', alpha=0.75, label='Hard')\n",
    "    plt.legend(loc='upper right')\n",
    "    for j in range(len(gtis)-1):\n",
    "        plt.axvspan(gtis[j][1],gtis[j+1][0],color='purple',alpha=0.25)\n",
    "    plt.show()"
   ]
  }
 ],
 "metadata": {
  "kernelspec": {
   "display_name": "Python 3 (ipykernel)",
   "language": "python",
   "name": "python3"
  },
  "language_info": {
   "codemirror_mode": {
    "name": "ipython",
    "version": 3
   },
   "file_extension": ".py",
   "mimetype": "text/x-python",
   "name": "python",
   "nbconvert_exporter": "python",
   "pygments_lexer": "ipython3",
   "version": "3.8.10"
  }
 },
 "nbformat": 4,
 "nbformat_minor": 4
}
