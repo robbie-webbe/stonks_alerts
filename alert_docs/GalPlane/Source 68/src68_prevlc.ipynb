{
 "cells": [
  {
   "cell_type": "code",
   "execution_count": 1,
   "metadata": {},
   "outputs": [],
   "source": [
    "import glob\n",
    "from stingray import Lightcurve\n",
    "from astropy.io import fits\n",
    "import matplotlib.pyplot as plt\n",
    "plt.rcParams['figure.figsize'] = [12,7.5]"
   ]
  },
  {
   "cell_type": "code",
   "execution_count": 2,
   "metadata": {},
   "outputs": [],
   "source": [
    "lc_fnames = sorted(glob.glob('other_obs/P*M2X*SRCTSR*'))\n",
    "\n",
    "lcs = []\n",
    "backlcs = []\n",
    "for file in lc_fnames:\n",
    "    hdul = fits.open(file)\n",
    "    time = hdul[1].data.field('TIME')\n",
    "    rate = hdul[1].data.field('RATE')\n",
    "    backrate = hdul[1].data.field('BACKV')\n",
    "    err = hdul[1].data.field('ERROR')\n",
    "    gtis = []\n",
    "    for i in hdul[2].data:\n",
    "        gtis.append([i[0],i[1]])\n",
    "    lcs.append(Lightcurve(time, rate, err, gti=gtis, input_counts=False))\n",
    "    backlcs.append(Lightcurve(time, backrate, err, gti=gtis, input_counts=False))\n",
    "    "
   ]
  },
  {
   "cell_type": "code",
   "execution_count": 3,
   "metadata": {},
   "outputs": [
    {
     "data": {
      "text/plain": [
       "['other_obs/P0902780501M2X000SRCTSR808C.FTZ']"
      ]
     },
     "execution_count": 3,
     "metadata": {},
     "output_type": "execute_result"
    }
   ],
   "source": [
    "lc_fnames"
   ]
  },
  {
   "cell_type": "code",
   "execution_count": 4,
   "metadata": {
    "scrolled": false
   },
   "outputs": [
    {
     "data": {
      "image/png": "[encoded data removed]",
      "text/plain": [
       "<Figure size 864x540 with 1 Axes>"
      ]
     },
     "metadata": {
      "needs_background": "light"
     },
     "output_type": "display_data"
    }
   ],
   "source": [
    "for i in range(len(lcs)):\n",
    "    plt.xlabel('Time (s)')\n",
    "    plt.ylabel('Countrate (/s)')\n",
    "    plt.plot(lcs[i].time, lcs[i].countrate, color='k', ds='steps-mid', label='Source')\n",
    "    plt.plot(backlcs[i].time, backlcs[i].countrate, color='r', ls='--', ds='steps-mid', label='Bkg')\n",
    "    plt.legend(loc='upper right')\n",
    "    for j in range(len(lcs[i].gti)-1):\n",
    "        plt.axvspan(lcs[i].gti[j][1],lcs[i].gti[j+1][0],color='purple',alpha=0.25)\n",
    "    plt.show()"
   ]
  }
 ],
 "metadata": {
  "kernelspec": {
   "display_name": "Python 3 (ipykernel)",
   "language": "python",
   "name": "python3"
  },
  "language_info": {
   "codemirror_mode": {
    "name": "ipython",
    "version": 3
   },
   "file_extension": ".py",
   "mimetype": "text/x-python",
   "name": "python",
   "nbconvert_exporter": "python",
   "pygments_lexer": "ipython3",
   "version": "3.8.10"
  }
 },
 "nbformat": 4,
 "nbformat_minor": 4
}
