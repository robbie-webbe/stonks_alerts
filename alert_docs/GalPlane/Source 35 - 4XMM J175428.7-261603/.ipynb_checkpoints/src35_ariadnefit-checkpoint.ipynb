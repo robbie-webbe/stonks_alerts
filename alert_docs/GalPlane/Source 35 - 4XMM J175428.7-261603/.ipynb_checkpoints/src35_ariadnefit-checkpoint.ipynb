{
 "cells": [
  {
   "cell_type": "code",
   "execution_count": 1,
   "metadata": {},
   "outputs": [
    {
     "name": "stderr",
     "output_type": "stream",
     "text": [
      "Holoviews not imported. Some visualizations will not be available.\n",
      "PyMultiNest not imported.  MultiNest fits will not work.\n",
      "/home/rwebbe/.local/lib/python3.8/site-packages/astroARIADNE/fitter.py:43: UserWarning: (py)MultiNest installation (or libmultinest.dylib) not detected.\n",
      "  warnings.warn(\n"
     ]
    }
   ],
   "source": [
    "from astroARIADNE.star import Star\n",
    "from astroARIADNE.fitter import Fitter\n",
    "from dustmaps.config import config\n",
    "config['data_dir'] = '/home/rwebbe/data/dustmaps'"
   ]
  },
  {
   "cell_type": "code",
   "execution_count": 2,
   "metadata": {
    "scrolled": true
   },
   "outputs": [
    {
     "name": "stdout",
     "output_type": "stream",
     "text": [
      "\n",
      "\t\t#####################################\n",
      "\t\t##             ARIADNE             ##\n",
      "\t\t#####################################\n",
      "   spectrAl eneRgy dIstribution bAyesian moDel averagiNg fittEr\n",
      "\n",
      "\t\t\tAuthor : Jose Vines\n",
      "\t\t\tContact : jose . vines at ug . uchile . cl\n",
      "\t\t\tStar : 4063915205293781376\n",
      "\t\t*** LOOKING UP ARCHIVAL INFORMATION ***\n",
      "INFO: Query finished. [astroquery.utils.tap.core]\n",
      "Warning!: CatalogWarning\n",
      "Warning message: Parameter radius not found! Be advised.\n",
      "Warning!: CatalogWarning\n",
      "Warning message: Parameter lum not found! Be advised.\n",
      "INFO: Query finished. [astroquery.utils.tap.core]\n",
      "Star not found in catalog TYCHO2.\n",
      "INFO: Query finished. [astroquery.utils.tap.core]\n",
      "INFO: Query finished. [astroquery.utils.tap.core]\n",
      "Star not found in catalog SDSS.\n",
      "INFO: Query finished. [astroquery.utils.tap.core]\n",
      "Star not found in catalog Wise.\n",
      "INFO: Query finished. [astroquery.utils.tap.core]\n",
      "INFO: Query finished. [astroquery.utils.tap.core]\n",
      "Star not found in catalog APASS.\n",
      "Looking online for archival magnitudes for star 4063915205293781376\n",
      "Checking catalog Pan-STARRS1\n",
      "Checking catalog Gaia DR3\n",
      "Checking catalog 2MASS\n",
      "Warning!: CatalogWarning\n",
      "Warning message: Catalog 2MASS_J entry is either an extended source, is of bad quality or is contaminated. Skipping.\n",
      "Warning!: CatalogWarning\n",
      "Warning message: Catalog 2MASS_H entry is either an extended source, is of bad quality or is contaminated. Skipping.\n",
      "Warning!: CatalogWarning\n",
      "Warning message: Catalog 2MASS_Ks entry is either an extended source, is of bad quality or is contaminated. Skipping.\n",
      "Checking catalog GLIMPSE\n",
      "Warning!: CatalogWarning\n",
      "Warning message: Star is not available in catalog GALEX. Skipping\n",
      "Checking catalog TICv8\n",
      "Warning!: CatalogWarning\n",
      "Warning message: Star is not available in catalog SkyMapper. Skipping\n",
      "Warning!: CatalogWarning\n",
      "Warning message: Star is not available in catalog STROMGREN_PAUNZ. Skipping\n",
      "Warning!: CatalogWarning\n",
      "Warning message: Star is not available in catalog STROMGREN_HAUCK. Skipping\n",
      "Warning!: CatalogWarning\n",
      "Warning message: Star is not available in catalog MERMILLIOD. Skipping\n",
      "\t\t\tGaia DR3 ID : 4063915205293781376\n",
      "\t\t\tTIC : 133072923\n",
      "\t\t\tGaia Effective temperature : 3871.505 +/- 809.001\n",
      "\t\t\tGaia Stellar radius : 0.000 +/- 0.000\n",
      "\t\t\tGaia Stellar Luminosity : 0.000 +/- 0.000\n",
      "\t\t\tGaia Parallax : 0.458 +/- 0.036\n",
      "\t\t\tBailer-Jones distance : 2206.879 +/- 227.421\n",
      "\t\t\tMaximum Av : 62.462\n",
      "\n",
      "\t\t       Filter       \tMagnitude\tUncertainty\n",
      "\t\t--------------------\t---------\t-----------\n",
      "\t\t       PS1_g        \t 17.1781 \t  0.0041   \n",
      "\t\t    GaiaDR2v2_BP    \t 16.6948 \t  0.0059   \n",
      "\t\t       PS1_r        \t 15.7610 \t  0.0026   \n",
      "\t\t    GaiaDR2v2_G     \t 15.4959 \t  0.0029   \n",
      "\t\t       PS1_i        \t 14.9121 \t  0.0043   \n",
      "\t\t    GaiaDR2v2_RP    \t 14.4066 \t  0.0049   \n",
      "\t\t        TESS        \t 14.5996 \t  0.4412   \n",
      "\t\t       PS1_z        \t 14.3608 \t  0.0074   \n",
      "\t\t       PS1_y        \t 13.9809 \t  0.0135   \n",
      "\t\t  SPITZER_IRAC_36   \t 11.4840 \t  0.0460   \n",
      "\t\t  SPITZER_IRAC_45   \t 11.3230 \t  0.0600   \n",
      "\n"
     ]
    }
   ],
   "source": [
    "gaia_id = 4063915205293781376\n",
    "ra = 268.6201144\n",
    "dec = -26.2674506\n",
    "starname = str(gaia_id)\n",
    "s = Star(starname, ra, dec, g_id = gaia_id, dustmap='Planck16')"
   ]
  },
  {
   "cell_type": "code",
   "execution_count": 3,
   "metadata": {},
   "outputs": [
    {
     "name": "stdout",
     "output_type": "stream",
     "text": [
      "Created the directory ariadnefit\n",
      "\n",
      "\t\t*** EXECUTING MAIN FITTING ROUTINE ***\n",
      "\t\t\tSelected engine : Bayesian Model Averaging\n",
      "\t\t\tLive points : 500\n",
      "\t\t\tlog Evidence tolerance : 0.5\n",
      "\t\t\tFree parameters : 17\n",
      "\t\t\tBounding : multi\n",
      "\t\t\tSampling : rwalk\n",
      "\t\t\tN threads : 4\n",
      "\n"
     ]
    }
   ],
   "source": [
    "out_folder = 'ariadnefit'\n",
    "\n",
    "engine = 'dynesty'\n",
    "nlive = 500\n",
    "dlogz = 0.5\n",
    "bound = 'multi'\n",
    "sample = 'rwalk'\n",
    "threads = 4\n",
    "dynamic = False\n",
    "setup = [engine, nlive, dlogz, bound, sample, threads, dynamic]\n",
    "\n",
    "models = ['phoenix','btsettl','btnextgen','btcond','kurucz','ck04']\n",
    "f = Fitter()\n",
    "f.star = s\n",
    "f.setup = setup\n",
    "f.av_law = 'fitzpatrick'\n",
    "f.out_folder = out_folder\n",
    "f.bma = True\n",
    "f.models = models\n",
    "f.n_samples = 100000\n",
    "\n",
    "f.prior_setup = {'teff': ('default'),'logg': ('default'),'z': ('default'),'dist': ('default'),'rad': ('default'),'Av': ('default')}\n",
    "f.initialize()\n"
   ]
  },
  {
   "cell_type": "code",
   "execution_count": 4,
   "metadata": {},
   "outputs": [
    {
     "name": "stdout",
     "output_type": "stream",
     "text": [
      "\t\t\tFITTING MODEL : phoenix\n"
     ]
    },
    {
     "name": "stderr",
     "output_type": "stream",
     "text": [
      "11818it [21:20,  9.23it/s, +500 | bound: 140 | nc: 1 | ncall: 269822 | eff(%):  4.574 | loglstar:   -inf < 291.986 <    inf | logz: 268.923 +/-  0.221 | dlogz:  0.001 >  0.500]\n"
     ]
    },
    {
     "name": "stdout",
     "output_type": "stream",
     "text": [
      "\t\t\tFITTING MODEL : btsettl\n"
     ]
    },
    {
     "name": "stderr",
     "output_type": "stream",
     "text": [
      "10822it [15:43, 11.47it/s, +500 | bound: 126 | nc: 1 | ncall: 244956 | eff(%):  4.632 | loglstar:   -inf < 292.941 <    inf | logz: 271.870 +/-    nan | dlogz:  0.001 >  0.500]\n"
     ]
    },
    {
     "name": "stdout",
     "output_type": "stream",
     "text": [
      "\t\t\tFITTING MODEL : btnextgen\n"
     ]
    },
    {
     "name": "stderr",
     "output_type": "stream",
     "text": [
      "10774it [10:09, 17.69it/s, +500 | bound: 127 | nc: 1 | ncall: 245071 | eff(%):  4.610 | loglstar:   -inf < 290.048 <    inf | logz: 268.972 +/-    nan | dlogz:  0.001 >  0.500]\n"
     ]
    },
    {
     "name": "stdout",
     "output_type": "stream",
     "text": [
      "\t\t\tFITTING MODEL : btcond\n"
     ]
    },
    {
     "name": "stderr",
     "output_type": "stream",
     "text": [
      "10779it [07:08, 25.16it/s, +500 | bound: 132 | nc: 1 | ncall: 244107 | eff(%):  4.630 | loglstar:   -inf < 292.394 <    inf | logz: 271.374 +/-    nan | dlogz:  0.001 >  0.500]\n"
     ]
    },
    {
     "name": "stdout",
     "output_type": "stream",
     "text": [
      "\t\t*** AVERAGING POSTERIOR SAMPLES ***\n"
     ]
    },
    {
     "name": "stderr",
     "output_type": "stream",
     "text": [
      "100%|██████████| 21/21 [00:01<00:00, 12.57it/s]\n"
     ]
    },
    {
     "name": "stdout",
     "output_type": "stream",
     "text": [
      "\t\t*** ESTIMATING AGE AND MASS USING MIST ISOCHRONES ***\n"
     ]
    },
    {
     "name": "stderr",
     "output_type": "stream",
     "text": [
      "12018it [01:11, 168.95it/s, +500 | bound: 140 | nc: 1 | ncall: 317493 | eff(%):  3.949 | loglstar:   -inf < -25.667 <    inf | logz: -45.283 +/- 10.148 | dlogz:  0.000 >  0.010]\n"
     ]
    },
    {
     "name": "stdout",
     "output_type": "stream",
     "text": [
      "\n",
      "\t\t\tFitting finished.\n",
      "\t\t\tBest fit parameters are:\n",
      "\t\t\tteff : 3833.4482 + 92.8895 - 92.8895 [3706.7808, 5919.2390]\n",
      "\t\t\tlogg : 4.0286 + 0.2800 - 0.2076 [3.5410, 4.9844]\n",
      "\t\t\t[Fe/H] : -0.0533 + 0.1239 - 0.1239 [-0.7030, 0.2984]\n",
      "\t\t\tdist : 3127.8782 + 210.2791 - 556.3633 [2234.1922, 3539.6747]\n",
      "\t\t\trad : 9.0610 + 0.4912 - 1.7747 [5.1630, 9.9008]\n",
      "\t\t\tAv : 0.9097 + 0.1414 - 0.1515 [0.4856, 3.5052]\n",
      "\t\t\tAngular Diameter : 0.0268 + 0.0049 - 0.0058 [0.0158, 0.0393]\n",
      "\t\t\tGrav mass : 25.5640 + 22.5212 - 12.7294 [5.9804, 197.9000]\n",
      "\t\t\tLuminosity : 15.7046 + 2.5614 - 6.0833 [5.1389, 100.8711]\n",
      "\t\t\tIso mass : 0.5120 + 0.5186 - 0.1585 [0.1518, 4.4590]\n",
      "\t\t\tAge (Gyr) : 0.4061 + 12.7219 - 0.4060 [0.0001, 13.4438]\n",
      "\t\t\tEEP : 305.9249 + 228.9694 - 63.7636 [59.5654, 853.7125]\n",
      "\t\t\tExcess PS1_g noise : 0.0248 + 0.0167 - 0.0049 [0.0105, 0.0841]\n",
      "\t\t\tExcess BP noise : 0.0578 + 0.0347 - 0.0160 [0.0249, 0.1616]\n",
      "\t\t\tExcess PS1_r noise : 0.0194 + 0.0134 - 0.0098 [0.0064, 0.0780]\n",
      "\t\t\tExcess G noise : 0.0292 + 0.0128 - 0.0061 [0.0162, 0.0768]\n",
      "\t\t\tExcess PS1_i noise : 0.0605 + 0.0174 - 0.0239 [0.0151, 0.1358]\n",
      "\t\t\tExcess RP noise : 0.0176 + 0.0106 - 0.0067 [0.0052, 0.1109]\n",
      "\t\t\tExcess TESS noise : 4.1625 + 1.2728 - 1.7253 [0.2028, 8.6595]\n",
      "\t\t\tExcess PS1_z noise : 0.0712 + 0.0463 - 0.0174 [0.0153, 0.2068]\n",
      "\t\t\tExcess PS1_y noise : 0.1013 + 0.0360 - 0.0173 [0.0581, 0.2735]\n",
      "\t\t\tExcess IRAC 36 noise : 0.3578 + 0.1005 - 0.1488 [0.0522, 1.2545]\n",
      "\t\t\tExcess IRAC 45 noise : 0.5571 + 0.0892 - 0.2677 [0.0731, 1.0993]\n",
      "\t\t\tMamajek Spectral Type : M0.5V\n",
      "\t\t\tphoenix probability : 0.0306\n",
      "\t\t\tbtsettl probability : 0.5827\n",
      "\t\t\tbtnextgen probability : 0.0321\n",
      "\t\t\tbtcond probability : 0.3546\n",
      "\t\t\tElapsed time : 56 minutes and 42.96 seconds\n"
     ]
    }
   ],
   "source": [
    "f.fit_bma()"
   ]
  },
  {
   "cell_type": "code",
   "execution_count": 1,
   "metadata": {},
   "outputs": [
    {
     "name": "stdout",
     "output_type": "stream",
     "text": [
      "L_X / L_Bol:  0.0010347286782216676 -2.985173513973909\n"
     ]
    }
   ],
   "source": [
    "import numpy as np\n",
    "\n",
    "Lbol_sun = 4 * 10**33\n",
    "L_bol = Lbol_sun * 15.7046\n",
    "L_x = 6.5*10**31\n",
    "\n",
    "print(\"L_X / L_Bol: \",L_x/L_bol,np.log10(L_x/L_bol))"
   ]
  }
 ],
 "metadata": {
  "kernelspec": {
   "display_name": "Python 3 (ipykernel)",
   "language": "python",
   "name": "python3"
  },
  "language_info": {
   "codemirror_mode": {
    "name": "ipython",
    "version": 3
   },
   "file_extension": ".py",
   "mimetype": "text/x-python",
   "name": "python",
   "nbconvert_exporter": "python",
   "pygments_lexer": "ipython3",
   "version": "3.8.10"
  }
 },
 "nbformat": 4,
 "nbformat_minor": 4
}
