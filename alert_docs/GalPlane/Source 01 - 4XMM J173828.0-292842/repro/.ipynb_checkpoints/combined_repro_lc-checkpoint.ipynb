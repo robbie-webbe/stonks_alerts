{
 "cells": [
  {
   "cell_type": "code",
   "execution_count": 1,
   "metadata": {},
   "outputs": [],
   "source": [
    "import stingray as st\n",
    "from astropy.io import fits\n",
    "import numpy as np\n",
    "import matplotlib.pyplot as plt\n",
    "\n",
    "pnhdu = fits.open('0886010101_PN12_dt1.lc')\n",
    "m1hdu = fits.open('0886010101_M112_dt5.lc')\n",
    "m2hdu = fits.open('0886010101_M212_dt5.lc')\n",
    "\n",
    "plt.rcParams['figure.figsize'] = [12,9]"
   ]
  },
  {
   "cell_type": "code",
   "execution_count": 2,
   "metadata": {},
   "outputs": [],
   "source": [
    "pn_time = pnhdu[1].data.field('TIME')\n",
    "pn_rate = pnhdu[1].data.field('RATE')\n",
    "pn_rerr = pnhdu[1].data.field('ERROR')\n",
    "m1_time = m1hdu[1].data.field('TIME')\n",
    "m1_rate = m1hdu[1].data.field('RATE')\n",
    "m1_rerr = m1hdu[1].data.field('ERROR')\n",
    "m2_time = m2hdu[1].data.field('TIME')\n",
    "m2_rate = m2hdu[1].data.field('RATE')\n",
    "m2_rerr = m2hdu[1].data.field('ERROR')\n",
    "\n",
    "pngtis = []\n",
    "for i in pnhdu['SRC_GTIS'].data:\n",
    "    pngtis.append([i[0],i[1]])\n",
    "    \n",
    "m1gtis = []\n",
    "for i in m1hdu['SRC_GTIS'].data:\n",
    "    m1gtis.append([i[0],i[1]])\n",
    "    \n",
    "m2gtis = []\n",
    "for i in m2hdu['SRC_GTIS'].data:\n",
    "    m2gtis.append([i[0],i[1]])\n",
    "    \n",
    "m1gtis[0][0] = pngtis[0][0]\n",
    "m2gtis[0][0] = pngtis[0][0]\n",
    "    \n",
    "t0 = pngtis[0][0]"
   ]
  },
  {
   "cell_type": "code",
   "execution_count": 3,
   "metadata": {},
   "outputs": [
    {
     "name": "stderr",
     "output_type": "stream",
     "text": [
      "/home/rwebbe/.local/lib/python3.8/site-packages/stingray/lightcurve.py:520: UserWarning: There are non-finite points in the data, but they are outside GTIs. \n",
      "  warnings.warn(\"There are non-finite points in the data, but they are outside GTIs. \")\n",
      "/home/rwebbe/.local/lib/python3.8/site-packages/stingray/lightcurve.py:520: UserWarning: There are non-finite points in the data, but they are outside GTIs. \n",
      "  warnings.warn(\"There are non-finite points in the data, but they are outside GTIs. \")\n"
     ]
    }
   ],
   "source": [
    "pnlc = st.Lightcurve(pn_time,pn_rate,pn_rerr,gti=pngtis,input_counts=False)\n",
    "m1lc = st.Lightcurve(m1_time,m1_rate,m1_rerr,gti=m1gtis,input_counts=False)\n",
    "m2lc = st.Lightcurve(m2_time,m2_rate,m2_rerr,gti=m2gtis,input_counts=False)"
   ]
  },
  {
   "cell_type": "code",
   "execution_count": 4,
   "metadata": {},
   "outputs": [],
   "source": [
    "pnlc = pnlc.shift(-t0)\n",
    "m1lc = m1lc.shift(-t0)\n",
    "m2lc = m2lc.shift(-t0)"
   ]
  },
  {
   "cell_type": "code",
   "execution_count": 5,
   "metadata": {},
   "outputs": [
    {
     "name": "stderr",
     "output_type": "stream",
     "text": [
      "/home/rwebbe/.local/lib/python3.8/site-packages/stingray/lightcurve.py:408: RuntimeWarning: invalid value encountered in multiply\n",
      "  counts_err = self._countrate_err * self.dt\n",
      "/home/rwebbe/.local/lib/python3.8/site-packages/stingray/lightcurve.py:388: RuntimeWarning: invalid value encountered in multiply\n",
      "  counts = self._countrate * self.dt\n"
     ]
    }
   ],
   "source": [
    "pn_seg1 = pnlc.truncate(start=0, stop=6000, method='time')\n",
    "m1_seg1 = m1lc.truncate(start=0, stop=6000, method='time')\n",
    "m2_seg1 = m2lc.truncate(start=0, stop=6000, method='time')\n",
    "\n",
    "pn_seg1 = pn_seg1.rebin(25)\n",
    "m1_seg1 = m1_seg1.rebin(25)\n",
    "m2_seg1 = m2_seg1.rebin(25)"
   ]
  },
  {
   "cell_type": "code",
   "execution_count": 6,
   "metadata": {},
   "outputs": [],
   "source": [
    "pn_seg2 = pnlc.truncate(start=6500, stop=27500, method='time')\n",
    "m1_seg2 = m1lc.truncate(start=6500, stop=27500, method='time')\n",
    "m2_seg2 = m2lc.truncate(start=6500, stop=27500, method='time')\n",
    "\n",
    "pn_seg2 = pn_seg2.rebin(25)\n",
    "m1_seg2 = m1_seg2.rebin(25)\n",
    "m2_seg2 = m2_seg2.rebin(25)"
   ]
  },
  {
   "cell_type": "code",
   "execution_count": 7,
   "metadata": {},
   "outputs": [
    {
     "name": "stdout",
     "output_type": "stream",
     "text": [
      "12.5 5987.5\n",
      "12.5 5987.5\n",
      "12.5 5987.5\n"
     ]
    }
   ],
   "source": [
    "print(pn_seg1.time[0],pn_seg1.time[-1])\n",
    "print(m1_seg1.time[0],m1_seg1.time[-1])\n",
    "print(m2_seg1.time[0],m2_seg1.time[-1])"
   ]
  },
  {
   "cell_type": "code",
   "execution_count": 8,
   "metadata": {},
   "outputs": [
    {
     "name": "stdout",
     "output_type": "stream",
     "text": [
      "6512.5 27487.5\n",
      "6512.5 27487.5\n",
      "6512.5 27487.5\n"
     ]
    }
   ],
   "source": [
    "print(pn_seg2.time[0],pn_seg2.time[-1])\n",
    "print(m1_seg2.time[0],m1_seg2.time[-1])\n",
    "print(m2_seg2.time[0],m2_seg2.time[-1])"
   ]
  },
  {
   "cell_type": "code",
   "execution_count": 9,
   "metadata": {},
   "outputs": [],
   "source": [
    "seg1lc = pn_seg1 + m1_seg1 + m2_seg1\n",
    "seg2lc = pn_seg2 + m1_seg2 + m2_seg2"
   ]
  },
  {
   "cell_type": "code",
   "execution_count": 10,
   "metadata": {},
   "outputs": [],
   "source": [
    "all_lc = seg1lc.join(seg2lc)"
   ]
  },
  {
   "cell_type": "code",
   "execution_count": 11,
   "metadata": {},
   "outputs": [
    {
     "data": {
      "text/plain": [
       "<AxesSubplot:xlabel='Time (s)', ylabel='counts'>"
      ]
     },
     "execution_count": 11,
     "metadata": {},
     "output_type": "execute_result"
    },
    {
     "data": {
      "image/png": "[encoded data removed]",
      "text/plain": [
       "<Figure size 864x648 with 1 Axes>"
      ]
     },
     "metadata": {
      "needs_background": "light"
     },
     "output_type": "display_data"
    }
   ],
   "source": [
    "all_lc.plot()"
   ]
  },
  {
   "cell_type": "code",
   "execution_count": 16,
   "metadata": {},
   "outputs": [
    {
     "data": {
      "text/plain": [
       "<AxesSubplot:xlabel='Time (s)', ylabel='counts'>"
      ]
     },
     "execution_count": 16,
     "metadata": {},
     "output_type": "execute_result"
    },
    {
     "data": {
      "image/png": "[encoded data removed]",
      "text/plain": [
       "<Figure size 864x648 with 1 Axes>"
      ]
     },
     "metadata": {
      "needs_background": "light"
     },
     "output_type": "display_data"
    }
   ],
   "source": [
    "dt = 125\n",
    "all_lc.rebin(dt).plot()"
   ]
  }
 ],
 "metadata": {
  "kernelspec": {
   "display_name": "Python 3 (ipykernel)",
   "language": "python",
   "name": "python3"
  },
  "language_info": {
   "codemirror_mode": {
    "name": "ipython",
    "version": 3
   },
   "file_extension": ".py",
   "mimetype": "text/x-python",
   "name": "python",
   "nbconvert_exporter": "python",
   "pygments_lexer": "ipython3",
   "version": "3.8.10"
  }
 },
 "nbformat": 4,
 "nbformat_minor": 4
}
