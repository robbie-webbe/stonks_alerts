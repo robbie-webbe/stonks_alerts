{
 "cells": [
  {
   "cell_type": "code",
   "execution_count": 1,
   "metadata": {},
   "outputs": [
    {
     "name": "stderr",
     "output_type": "stream",
     "text": [
      "Holoviews not imported. Some visualizations will not be available.\n",
      "PyMultiNest not imported.  MultiNest fits will not work.\n",
      "/home/rwebbe/.local/lib/python3.8/site-packages/astroARIADNE/fitter.py:43: UserWarning: (py)MultiNest installation (or libmultinest.dylib) not detected.\n",
      "  warnings.warn(\n"
     ]
    }
   ],
   "source": [
    "from astroARIADNE.star import Star\n",
    "from astroARIADNE.fitter import Fitter\n",
    "from dustmaps.config import config\n",
    "config['data_dir'] = '/home/rwebbe/data/dustmaps'"
   ]
  },
  {
   "cell_type": "code",
   "execution_count": 2,
   "metadata": {
    "scrolled": true
   },
   "outputs": [
    {
     "name": "stdout",
     "output_type": "stream",
     "text": [
      "\n",
      "\t\t#####################################\n",
      "\t\t##             ARIADNE             ##\n",
      "\t\t#####################################\n",
      "   spectrAl eneRgy dIstribution bAyesian moDel averagiNg fittEr\n",
      "\n",
      "\t\t\tAuthor : Jose Vines\n",
      "\t\t\tContact : jose . vines at ug . uchile . cl\n",
      "\t\t\tStar : 5976051271285734016\n",
      "\t\t*** LOOKING UP ARCHIVAL INFORMATION ***\n",
      "INFO: Query finished. [astroquery.utils.tap.core]\n",
      "Warning!: CatalogWarning\n",
      "Warning message: Parameter teff not found! Be advised.\n",
      "Warning!: CatalogWarning\n",
      "Warning message: Parameter radius not found! Be advised.\n",
      "Warning!: CatalogWarning\n",
      "Warning message: Parameter lum not found! Be advised.\n",
      "INFO: Query finished. [astroquery.utils.tap.core]\n",
      "Star not found in catalog TYCHO2.\n",
      "INFO: Query finished. [astroquery.utils.tap.core]\n",
      "Star not found in catalog Pan-STARRS.\n",
      "INFO: Query finished. [astroquery.utils.tap.core]\n",
      "Star not found in catalog SDSS.\n",
      "INFO: Query finished. [astroquery.utils.tap.core]\n",
      "Star not found in catalog Wise.\n",
      "INFO: Query finished. [astroquery.utils.tap.core]\n",
      "INFO: Query finished. [astroquery.utils.tap.core]\n",
      "Star not found in catalog APASS.\n",
      "Looking online for archival magnitudes for star 5976051271285734016\n",
      "Checking catalog Gaia DR3\n",
      "Checking catalog 2MASS\n",
      "Checking catalog GLIMPSE\n",
      "Warning!: CatalogWarning\n",
      "Warning message: Star is not available in catalog GALEX. Skipping\n",
      "Checking catalog TICv8\n",
      "Warning!: CatalogWarning\n",
      "Warning message: Star is not available in catalog SkyMapper. Skipping\n",
      "Checking catalog STROMGREN_PAUNZEN\n",
      "Checking catalog STROMGREN_HAUCK\n",
      "Warning!: CatalogWarning\n",
      "Warning message: STROMGREN_y magnitude already retrieved. Skipping.\n",
      "Checking catalog Mermilliod\n",
      "Warning!: CatalogWarning\n",
      "Warning message: vmag magnitude error not found, assigning error.\n",
      "Warning!: CatalogWarning\n",
      "Warning message: B-V magnitude error not found, assigning error.\n",
      "Warning!: CatalogWarning\n",
      "Warning message: U-B magnitude error not found, assigning error.\n",
      "\t\t\tGaia DR3 ID : 5976051271285734016\n",
      "\t\t\tTIC : 158607106\n",
      "\t\t\tGaia Effective temperature : 0.000 +/- 0.000\n",
      "\t\t\tGaia Stellar radius : 0.000 +/- 0.000\n",
      "\t\t\tGaia Stellar Luminosity : 0.000 +/- 0.000\n",
      "\t\t\tGaia Parallax : 0.585 +/- 0.133\n",
      "\t\t\tBailer-Jones distance : 1802.698 +/- 438.357\n",
      "\t\t\tMaximum Av : 27.158\n",
      "\n",
      "\t\t       Filter       \tMagnitude\tUncertainty\n",
      "\t\t--------------------\t---------\t-----------\n",
      "\t\t    STROMGREN_u     \t 0.0000  \t  0.0000   \n",
      "\t\t  GROUND_JOHNSON_U  \t 15.7300 \t  0.0000   \n",
      "\t\t    STROMGREN_v     \t 0.0000  \t  0.0000   \n",
      "\t\t  GROUND_JOHNSON_B  \t 15.3500 \t  0.0000   \n",
      "\t\t    STROMGREN_b     \t 0.0000  \t  0.0000   \n",
      "\t\t    GaiaDR2v2_BP    \t 19.8356 \t  0.0747   \n",
      "\t\t    STROMGREN_y     \t 10.3500 \t  0.1130   \n",
      "\t\t  GROUND_JOHNSON_V  \t 13.8800 \t  0.0000   \n",
      "\t\t    GaiaDR2v2_G     \t 17.8048 \t  0.0039   \n",
      "\t\t    GaiaDR2v2_RP    \t 16.4913 \t  0.0239   \n",
      "\t\t        TESS        \t 16.6657 \t  0.0103   \n",
      "\t\t      2MASS_J       \t 13.8750 \t  0.0270   \n",
      "\t\t      2MASS_H       \t 12.7090 \t  0.0380   \n",
      "\t\t      2MASS_Ks      \t 12.2610 \t  0.0390   \n",
      "\t\t  SPITZER_IRAC_36   \t 11.7140 \t  0.0860   \n",
      "\t\t  SPITZER_IRAC_45   \t 11.5230 \t  0.1600   \n",
      "\n"
     ]
    }
   ],
   "source": [
    "gaia_id = 5976051271285734016\n",
    "ra = 261.1738843\n",
    "dec = -34.1916648\n",
    "starname = str(gaia_id)\n",
    "s = Star(starname, ra, dec, g_id = gaia_id, dustmap='Planck16')"
   ]
  },
  {
   "cell_type": "code",
   "execution_count": 3,
   "metadata": {},
   "outputs": [
    {
     "name": "stdout",
     "output_type": "stream",
     "text": [
      "Created the directory ariadnefit\n",
      "\n",
      "\t\t*** EXECUTING MAIN FITTING ROUTINE ***\n",
      "\t\t\tSelected engine : Bayesian Model Averaging\n",
      "\t\t\tLive points : 500\n",
      "\t\t\tlog Evidence tolerance : 0.5\n",
      "\t\t\tFree parameters : 22\n",
      "\t\t\tBounding : multi\n",
      "\t\t\tSampling : rwalk\n",
      "\t\t\tN threads : 4\n",
      "\n"
     ]
    }
   ],
   "source": [
    "out_folder = 'ariadnefit'\n",
    "\n",
    "engine = 'dynesty'\n",
    "nlive = 500\n",
    "dlogz = 0.5\n",
    "bound = 'multi'\n",
    "sample = 'rwalk'\n",
    "threads = 4\n",
    "dynamic = False\n",
    "setup = [engine, nlive, dlogz, bound, sample, threads, dynamic]\n",
    "\n",
    "models = ['phoenix','btsettl','btnextgen','btcond','kurucz','ck04']\n",
    "f = Fitter()\n",
    "f.star = s\n",
    "f.setup = setup\n",
    "f.av_law = 'fitzpatrick'\n",
    "f.out_folder = out_folder\n",
    "f.bma = True\n",
    "f.models = models\n",
    "f.n_samples = 100000\n",
    "\n",
    "f.prior_setup = {'teff': ('default'),'logg': ('default'),'z': ('default'),'dist': ('default'),'rad': ('default'),'Av': ('default')}\n",
    "f.initialize()\n"
   ]
  },
  {
   "cell_type": "code",
   "execution_count": 4,
   "metadata": {},
   "outputs": [
    {
     "name": "stdout",
     "output_type": "stream",
     "text": [
      "\t\t\tFITTING MODEL : phoenix\n"
     ]
    },
    {
     "name": "stderr",
     "output_type": "stream",
     "text": [
      "10415it [08:03, 21.55it/s, +500 | bound: 117 | nc: 1 | ncall: 234670 | eff(%):  4.661 | loglstar:   -inf < 351.661 <    inf | logz: 331.368 +/-  0.205 | dlogz:  0.001 >  0.500]\n"
     ]
    },
    {
     "name": "stdout",
     "output_type": "stream",
     "text": [
      "\t\t\tFITTING MODEL : btsettl\n"
     ]
    },
    {
     "name": "stderr",
     "output_type": "stream",
     "text": [
      "10069it [14:11, 11.82it/s, +500 | bound: 112 | nc: 1 | ncall: 226821 | eff(%):  4.670 | loglstar:   -inf < 351.777 <    inf | logz: 332.147 +/-    nan | dlogz:  0.001 >  0.500]\n"
     ]
    },
    {
     "name": "stdout",
     "output_type": "stream",
     "text": [
      "\t\t\tFITTING MODEL : btnextgen\n"
     ]
    },
    {
     "name": "stderr",
     "output_type": "stream",
     "text": [
      "10335it [19:42,  8.74it/s, +500 | bound: 116 | nc: 1 | ncall: 233454 | eff(%):  4.651 | loglstar:   -inf < 351.044 <    inf | logz: 330.867 +/-    nan | dlogz:  0.001 >  0.500]\n"
     ]
    },
    {
     "name": "stdout",
     "output_type": "stream",
     "text": [
      "\t\t\tFITTING MODEL : btcond\n"
     ]
    },
    {
     "name": "stderr",
     "output_type": "stream",
     "text": [
      "10166it [20:40,  8.20it/s, +500 | bound: 114 | nc: 1 | ncall: 228496 | eff(%):  4.678 | loglstar:   -inf < 351.398 <    inf | logz: 331.593 +/-    nan | dlogz:  0.001 >  0.500]\n"
     ]
    },
    {
     "name": "stdout",
     "output_type": "stream",
     "text": [
      "\t\t*** AVERAGING POSTERIOR SAMPLES ***\n"
     ]
    },
    {
     "name": "stderr",
     "output_type": "stream",
     "text": [
      "100%|██████████| 26/26 [00:03<00:00,  8.41it/s]\n"
     ]
    },
    {
     "name": "stdout",
     "output_type": "stream",
     "text": [
      "\t\t*** ESTIMATING AGE AND MASS USING MIST ISOCHRONES ***\n"
     ]
    },
    {
     "name": "stderr",
     "output_type": "stream",
     "text": [
      "15078it [04:09, 60.47it/s, +500 | bound: 183 | nc: 1 | ncall: 486565 | eff(%):  3.205 | loglstar:   -inf < -34.853 <    inf | logz: -60.570 +/- 11.799 | dlogz:  0.000 >  0.010]\n"
     ]
    },
    {
     "name": "stdout",
     "output_type": "stream",
     "text": [
      "\n",
      "\t\t\tFitting finished.\n",
      "\t\t\tBest fit parameters are:\n",
      "\t\t\tteff : 4596.8581 + 419.2293 - 354.1764 [3808.9963, 5962.9673]\n",
      "\t\t\tlogg : 4.5331 + 0.4325 - 0.5045 [3.5503, 5.5029]\n",
      "\t\t\t[Fe/H] : -0.1505 + 0.1464 - 0.1691 [-0.6969, 0.2756]\n",
      "\t\t\tdist : 2971.4673 + 787.3342 - 524.8895 [1848.2038, 4987.0429]\n",
      "\t\t\trad : 5.8538 + 2.1769 - 1.2631 [2.9782, 11.0138]\n",
      "\t\t\tAv : 4.4549 + 0.6468 - 0.6856 [2.3721, 6.2401]\n",
      "\t\t\tAngular Diameter : 0.0178 + 0.0078 - 0.0053 [0.0077, 0.0451]\n",
      "\t\t\tGrav mass : 26.3445 + 70.6039 - 19.0087 [1.9047, 550.4423]\n",
      "\t\t\tLuminosity : 13.0924 + 13.4411 - 6.0617 [2.8139, 81.6156]\n",
      "\t\t\tIso mass : 0.9099 + 0.2416 - 0.1726 [0.5509, 2.6081]\n",
      "\t\t\tAge (Gyr) : 2.5715 + 10.1501 - 1.8045 [0.0452, 13.4885]\n",
      "\t\t\tEEP : 348.2746 + 325.8514 - 36.4589 [74.8329, 726.5356]\n",
      "\t\t\tExcess u noise : 1.8381 + 1.2103 - 0.7877 [0.4549, 6.1990]\n",
      "\t\t\tExcess U noise : 1.8471 + 1.2037 - 0.8025 [0.5157, 5.9688]\n",
      "\t\t\tExcess v noise : 1.8087 + 1.0705 - 0.6959 [0.5598, 5.8946]\n",
      "\t\t\tExcess B noise : 2.1182 + 0.9823 - 0.8448 [0.5662, 6.4404]\n",
      "\t\t\tExcess b noise : 1.9309 + 0.9615 - 0.6787 [0.5735, 6.2105]\n",
      "\t\t\tExcess BP noise : 0.4102 + 0.3503 - 0.2302 [0.0198, 1.5162]\n",
      "\t\t\tExcess y noise : 1.0524 + 0.4603 - 0.3208 [0.4805, 2.5589]\n",
      "\t\t\tExcess V noise : 1.4680 + 1.0376 - 0.5974 [0.3990, 5.0995]\n",
      "\t\t\tExcess G noise : 0.0463 + 0.0321 - 0.0200 [0.0101, 0.1342]\n",
      "\t\t\tExcess RP noise : 0.2388 + 0.1140 - 0.0824 [0.0581, 0.5825]\n",
      "\t\t\tExcess TESS noise : 0.2367 + 0.0610 - 0.0634 [0.0700, 0.4209]\n",
      "\t\t\tExcess J noise : 0.2170 + 0.1397 - 0.1026 [0.0250, 0.6775]\n",
      "\t\t\tExcess H noise : 0.2407 + 0.1705 - 0.1155 [0.0318, 0.8538]\n",
      "\t\t\tExcess Ks noise : 0.2743 + 0.1850 - 0.1153 [0.0529, 0.9598]\n",
      "\t\t\tExcess IRAC 36 noise : 0.5808 + 0.3102 - 0.2532 [0.1060, 1.9989]\n",
      "\t\t\tExcess IRAC 45 noise : 0.7193 + 0.5923 - 0.3317 [0.1151, 3.6572]\n",
      "\t\t\tMamajek Spectral Type : K4V\n",
      "\t\t\tphoenix probability : 0.1986\n",
      "\t\t\tbtsettl probability : 0.4325\n",
      "\t\t\tbtnextgen probability : 0.1202\n",
      "\t\t\tbtcond probability : 0.2486\n",
      "\t\t\tElapsed time : 1 hours, 8 minutes and 25.85 seconds\n"
     ]
    }
   ],
   "source": [
    "f.fit_bma()"
   ]
  },
  {
   "cell_type": "code",
   "execution_count": 1,
   "metadata": {},
   "outputs": [
    {
     "name": "stdout",
     "output_type": "stream",
     "text": [
      "L_X / L_Bol:  0.0007447068528306499 -3.128014649738149\n"
     ]
    }
   ],
   "source": [
    "import numpy as np\n",
    "\n",
    "Lbol_sun = 4 * 10**33\n",
    "L_bol = Lbol_sun * 13.0924\n",
    "L_x = 3.9*10**31\n",
    "\n",
    "print(\"L_X / L_Bol: \",L_x/L_bol,np.log10(L_x/L_bol))"
   ]
  }
 ],
 "metadata": {
  "kernelspec": {
   "display_name": "Python 3 (ipykernel)",
   "language": "python",
   "name": "python3"
  },
  "language_info": {
   "codemirror_mode": {
    "name": "ipython",
    "version": 3
   },
   "file_extension": ".py",
   "mimetype": "text/x-python",
   "name": "python",
   "nbconvert_exporter": "python",
   "pygments_lexer": "ipython3",
   "version": "3.8.10"
  }
 },
 "nbformat": 4,
 "nbformat_minor": 4
}
