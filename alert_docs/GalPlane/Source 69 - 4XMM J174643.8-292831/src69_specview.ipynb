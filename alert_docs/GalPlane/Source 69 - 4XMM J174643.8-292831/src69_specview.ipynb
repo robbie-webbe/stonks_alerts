{
 "cells": [
  {
   "cell_type": "code",
   "execution_count": 1,
   "metadata": {},
   "outputs": [],
   "source": [
    "%load_ext wurlitzer\n",
    "import glob\n",
    "import os\n",
    "from xspec import *\n",
    "from stingray import Lightcurve\n",
    "from astropy.io import fits\n",
    "import matplotlib.pyplot as plt\n",
    "plt.rcParams['figure.figsize'] = [12,8]\n",
    "os.chdir('pps/')\n",
    "\n",
    "Fit.statMethod = \"chi\"\n",
    "Fit.nIterations = 100000\n",
    "Fit.delta = 1e-4\n",
    "Fit.criticalDelta = 1e-4"
   ]
  },
  {
   "cell_type": "code",
   "execution_count": 2,
   "metadata": {},
   "outputs": [],
   "source": [
    "import numpy as np\n",
    "out_arr = np.full((4,19),-np.inf,dtype=object)"
   ]
  },
  {
   "cell_type": "code",
   "execution_count": 3,
   "metadata": {},
   "outputs": [
    {
     "name": "stdout",
     "output_type": "stream",
     "text": [
      "\n",
      "1 spectrum  in use\n",
      " \n",
      "Spectral Data File: P0934210301PNS003SRSPEC0006.FTZ  Spectrum 1\n",
      "Net count rate (cts/s) for Spectrum:1  1.107e-02 +/- 1.488e-03 (67.8 % total)\n",
      " Assigned to Data Group 1 and Plot Group 1\n",
      "  Noticed Channels:  1-6\n",
      "  Telescope: XMM Instrument: EPN  Channel Type: PI\n",
      "  Exposure Time: 7414 sec\n",
      " Using fit statistic: chi\n",
      " Using Background File                P0934210301PNS003BGSPEC0006.FTZ\n",
      "  Background Exposure Time: 7414 sec\n",
      " Using Response (RMF) File            epn_e3_ff20_sdY9.rmf for Source 1\n",
      " Using Auxiliary Response (ARF) File  P0934210301PNS003SRCARF0006.FTZ\n",
      "\n"
     ]
    },
    {
     "data": {
      "image/svg+xml": [
       "<svg xmlns=\"http://www.w3.org/2000/svg\" xmlns:xlink=\"http://www.w3.org/1999/xlink\" style=\"fill-rule: nonzero; stroke-linecap: round; stroke-linejoin: round; transform: scale(1,-1);\" version=\"1.1\" viewbox=\"          225.691605            27.140120          7371.414062          5618.850098\" width=\"100%\" height=\"100%\" preserveAspectRatio=\"xMidYMid\">\n",
       "<style>\n",
       "  .fn { font-family: Arial,Helvetica,sans-serif; }\n",
       "  .fN { font-family: Arial,Helvetica,sans-serif; font-weight: bold;}\n",
       "  .fr { font-family: Times,Times-Roman,Times New Roman,serif; }\n",
       "  .fR { font-family: Times,Times-Roman,Times New Roman,serif; font-weight: bold;}\n",
       "  .fi { font-family: Times,Times-Roman,Times New Roman,serif; font-style: italic;}\n",
       "  .fI { font-family: Times,Times-Roman,Times New Roman,serif; font-style: italic; font-weight: bold;}\n",
       "  .fs { font-family: Zapf-Chancery,Apple Chancery,URW Chancery L,cursive;}\n",
       "  .fS { font-family: Zapf-Chancery,Apple Chancery,URW Chancery L,cursive;font-weight:bold}\n",
       "  .fc { font-family: Arial Narrow,Helvetica Narrow,Arial,Helvetica,sans-serif;}\n",
       "  .fC { font-family: Arial Narrow,Helvetica Narrow,Arial,Helvetica,sans-serif; font-weight:bold;}\n",
       "</style>\n",
       "<g style=\"color: rgb(0, 0, 0); fill: currentColor; stroke: currentColor; stroke-width: 8\">\n",
       "\n",
       "<path fill=\"none\" d=\"M 742 576 l 5935 0 l 0 4607 l -5935 0 l 0 -4607 M 1040 576 l 0 33 M 1359 576 l 0 33 M 1620 576 l 0 33  M 1841 576 l 0 33 M 2033 576 l 0 33 M 2201 576 l 0 33 M 2352 576 l 0 66 M 3345 576 l 0 33 M 3926 576 l 0 33  M 4338 576 l 0 33 M 4657 576 l 0 33 M 4919 576 l 0 33 M 5139 576 l 0 33 M 5331 576 l 0 33 M 5499 576 l 0 33  M 5650 576 l 0 66 M 6643 576 l 0 33 M 1040 5150 l 0 33 M 1359 5150 l 0 33 M 1620 5150 l 0 33 M 1841 5150 l 0 33  M 2033 5150 l 0 33 M 2201 5150 l 0 33 M 2352 5117 l 0 66 M 3345 5150 l 0 33 M 3926 5150 l 0 33 M 4338 5150 l 0 33  M 4657 5150 l 0 33 M 4919 5150 l 0 33 M 5139 5150 l 0 33 M 5331 5150 l 0 33 M 5499 5150 l 0 33 M 5650 5117 l 0 66  M 6643 5150 l 0 33 \"/>\n",
       "<text transform=\"translate(2307,403) scale(1,-1)\"><tspan class=\"fn\" style=\"font-size: 886%;\">1</tspan></text>\n",
       "<text transform=\"translate(5561,403) scale(1,-1)\"><tspan class=\"fn\" style=\"font-size: 886%;\">10</tspan></text>\n",
       "<text transform=\"translate(1248,403) scale(1,-1)\"><tspan class=\"fn\" style=\"font-size: 886%;\">0.5</tspan></text>\n",
       "<text transform=\"translate(3300,403) scale(1,-1)\"><tspan class=\"fn\" style=\"font-size: 886%;\">2</tspan></text>\n",
       "<text transform=\"translate(4613,403) scale(1,-1)\"><tspan class=\"fn\" style=\"font-size: 886%;\">5</tspan></text>\n",
       "<text transform=\"translate(6554,403) scale(1,-1)\"><tspan class=\"fn\" style=\"font-size: 886%;\">20</tspan></text>\n",
       "\n",
       "<path fill=\"none\" d=\"M 742 576 l 66 0 M 742 1269 l 33 0 M 742 1675 l 33 0 M 742 1963 l 33 0 M 742 2186 l 33 0 M 742 2368 l 33 0  M 742 2523 l 33 0 M 742 2656 l 33 0 M 742 2774 l 33 0 M 742 2880 l 66 0 M 742 3573 l 33 0 M 742 3979 l 33 0  M 742 4266 l 33 0 M 742 4490 l 33 0 M 742 4672 l 33 0 M 742 4826 l 33 0 M 742 4960 l 33 0 M 742 5078 l 33 0  M 742 5183 l 66 0 M 6611 576 l 66 0 M 6644 1269 l 33 0 M 6644 1675 l 33 0 M 6644 1963 l 33 0 M 6644 2186 l 33 0  M 6644 2368 l 33 0 M 6644 2523 l 33 0 M 6644 2656 l 33 0 M 6644 2774 l 33 0 M 6611 2880 l 66 0 M 6644 3573 l 33 0  M 6644 3979 l 33 0 M 6644 4266 l 33 0 M 6644 4490 l 33 0 M 6644 4672 l 33 0 M 6644 4826 l 33 0 M 6644 4960 l 33 0  M 6644 5078 l 33 0 M 6611 5183 l 66 0 \"/>\n",
       "<text transform=\"translate(641,432) scale(1,-1) rotate(-90)\"><tspan class=\"fn\" style=\"font-size: 886%;\">10<tspan style=\"font-size: 60%;\" dy=\"-0.6em\">−4<tspan style=\"font-size: 166.667%;\" dy=\"+0.36em\"/></tspan></tspan></text>\n",
       "<text transform=\"translate(641,2736) scale(1,-1) rotate(-90)\"><tspan class=\"fn\" style=\"font-size: 886%;\">10<tspan style=\"font-size: 60%;\" dy=\"-0.6em\">−3<tspan style=\"font-size: 166.667%;\" dy=\"+0.36em\"/></tspan></tspan></text>\n",
       "<text transform=\"translate(641,5027) scale(1,-1) rotate(-90)\"><tspan class=\"fn\" style=\"font-size: 886%;\">0.01</tspan></text>\n",
       "</g>\n",
       "<g style=\"color: rgb(0, 0, 0); fill: currentColor; stroke: currentColor; stroke-width: 4\">\n",
       "<defs>\n",
       "<symbol id=\"M1\" overflow=\"visible\">\n",
       "<circle r=\"1\" fill=\"none\" stroke-width=\"1\"/>\n",
       "</symbol>\n",
       "</defs>\n",
       "<use xlink:href=\"#M1\" transform=\"translate(2839, 1996) scale(4.430)\"/>\n",
       "\n",
       "<path fill=\"none\" d=\"M 742 1996 l 2914 0 M 2839 858 l 0 1656 \"/>\n",
       "<use xlink:href=\"#M1\" transform=\"translate(3805, 4302) scale(4.430)\"/>\n",
       "\n",
       "<path fill=\"none\" d=\"M 3656 4302 l 284 0 M 3805 3991 l 0 548 \"/>\n",
       "<use xlink:href=\"#M1\" transform=\"translate(4130, 3781) scale(4.430)\"/>\n",
       "\n",
       "<path fill=\"none\" d=\"M 3940 3781 l 358 0 M 4130 3446 l 0 586 \"/>\n",
       "<use xlink:href=\"#M1\" transform=\"translate(4552, 3109) scale(4.430)\"/>\n",
       "\n",
       "<path fill=\"none\" d=\"M 4298 3109 l 470 0 M 4552 2726 l 0 660 \"/>\n",
       "<use xlink:href=\"#M1\" transform=\"translate(4906, 3609) scale(4.430)\"/>\n",
       "\n",
       "<path fill=\"none\" d=\"M 4768 3609 l 264 0 M 4906 3299 l 0 546 \"/>\n",
       "<use xlink:href=\"#M1\" transform=\"translate(6079, 727) scale(4.430)\"/>\n",
       "\n",
       "<path fill=\"none\" d=\"M 5032 727 l 1645 0 M 6079 576 l 0 474 \"/>\n",
       "</g>\n",
       "<g style=\"color: rgb(0, 0, 0); fill: currentColor; stroke: currentColor; stroke-width: 8\">\n",
       "<text transform=\"translate(370,2317) scale(1,-1) rotate(-90)\"><tspan class=\"fn\" style=\"font-size: 886%;\">counts s<tspan style=\"font-size: 60%;\" dy=\"-0.6em\">−1<tspan style=\"font-size: 166.667%;\" dy=\"+0.36em\"> keV<tspan style=\"font-size: 60%;\" dy=\"-0.6em\">−1<tspan style=\"font-size: 166.667%;\" dy=\"+0.36em\"/></tspan></tspan></tspan></tspan></text>\n",
       "<text transform=\"translate(3255,215) scale(1,-1)\"><tspan class=\"fn\" style=\"font-size: 886%;\">Energy (keV)</tspan></text>\n",
       "<text transform=\"translate(3534,5442) scale(1,-1)\"><tspan class=\"fn\" style=\"font-size: 886%;\"><tspan class=\"fR\">data</tspan></tspan></text>\n",
       "</g>\n",
       "<g style=\"color: rgb(0, 0, 0); fill: currentColor; stroke: currentColor; stroke-width: 4\">\n",
       "<text transform=\"translate(6246,46) scale(1,-1)\"><tspan class=\"fn\" style=\"font-size: 531.6%;\">rwebbe  3−Sep−2025 11:59</tspan></text>\n",
       "</g>\n",
       "<!-- _PGPLOT_SVG_ATEND: viewbox=\"          225.691605            27.140120          7371.414062          5618.850098\" -->\n",
       "</svg>"
      ],
      "text/plain": [
       "<IPython.core.display.SVG object>"
      ]
     },
     "metadata": {},
     "output_type": "display_data"
    }
   ],
   "source": [
    "spec_fnames = glob.glob('P*PNS*SRSPEC*.FTZ')\n",
    "\n",
    "spec = Spectrum(spec_fnames[0])\n",
    "Plot.device=\"/svg\"\n",
    "Plot.xAxis=\"keV\"\n",
    "Plot.xLog=True\n",
    "Plot.yLog=True\n",
    "Plot.addCommand(\"Rescale Y 0.0001 0.01\")\n",
    "Plot(\"data\")\n",
    "#spec.ignore(\"**-0.2 12.0-**\")"
   ]
  },
  {
   "cell_type": "code",
   "execution_count": 4,
   "metadata": {
    "scrolled": false
   },
   "outputs": [
    {
     "name": "stdout",
     "output_type": "stream",
     "text": [
      "\n",
      "========================================================================\n",
      "Model TBabs<1>*bbody<2> Source No.: 1   Active/On\n",
      "Model Model Component  Parameter  Unit     Value\n",
      " par  comp\n",
      "   1    1   TBabs      nH         10^22    1.00000      +/-  0.0          \n",
      "   2    2   bbody      kT         keV      3.00000      +/-  0.0          \n",
      "   3    2   bbody      norm                1.00000      +/-  0.0          \n",
      "________________________________________________________________________\n",
      "\n",
      "tbvabs Version 2.3\n",
      "Cosmic absorption with grains and H2, modified from\n",
      "Wilms, Allen, & McCray, 2000, ApJ 542, 914-924\n",
      "Questions: Joern Wilms\n",
      "joern.wilms@sternwarte.uni-erlangen.de\n",
      "joern.wilms@fau.de\n",
      "\n",
      "http://pulsar.sternwarte.uni-erlangen.de/wilms/research/tbabs/\n",
      "\n",
      "PLEASE NOTICE:\n",
      "To get the model described by the above paper\n",
      "you will also have to set the abundances:\n",
      "   abund wilm\n",
      "\n",
      "Note that this routine ignores the current cross section setting\n",
      "as it always HAS to use the Verner cross sections as a baseline.\n",
      "\n",
      "Fit statistic  : Chi-Squared              1.640019e+12     using 6 bins.\n",
      "\n",
      "Test statistic : Chi-Squared              1.640019e+12     using 6 bins.\n",
      " Null hypothesis probability of 0.000000e+00 with 3 degrees of freedom\n",
      " Current data and model not fit yet.\n",
      "                                   Parameters\n",
      "Chi-Squared  |beta|/N    Lvl          1:nH          2:kT        3:norm\n",
      "12.4607      0.681074     -1       1.01625       2.52397   3.94978e-06\n",
      "11.9165      85411.7      -2       2.07611       1.54386   2.07929e-06\n",
      "10.2898      1.07637e+06  -3       2.44005       1.64393   2.69660e-06\n",
      "10.2616      101074       -4       2.14356       1.68878   2.74084e-06\n",
      "10.2566      880.08       -5       2.27644       1.67507   2.75262e-06\n",
      "10.256       599.888      -6       2.22047       1.68275   2.75058e-06\n",
      "10.2559      52.2871      -7       2.24400       1.68004   2.75216e-06\n",
      "10.2558      17.9258      -8       2.23408       1.68126   2.75162e-06\n",
      "========================================\n",
      " Variances and Principal Axes\n",
      "                 1        2        3  \n",
      " 1.5440E-13| -0.0000  -0.0000   1.0000  \n",
      " 8.9092E-02| -0.1747  -0.9846  -0.0000  \n",
      " 2.7846E+00|  0.9846  -0.1747  -0.0000  \n",
      "----------------------------------------\n",
      "\n",
      "====================================\n",
      "  Covariance Matrix\n",
      "        1           2           3   \n",
      "   2.702e+00  -4.637e-01  -6.092e-08\n",
      "  -4.637e-01   1.714e-01   1.572e-07\n",
      "  -6.092e-08   1.572e-07   3.903e-13\n",
      "------------------------------------\n",
      "\n",
      "========================================================================\n",
      "Model TBabs<1>*bbody<2> Source No.: 1   Active/On\n",
      "Model Model Component  Parameter  Unit     Value\n",
      " par  comp\n",
      "   1    1   TBabs      nH         10^22    2.23408      +/-  1.64387      \n",
      "   2    2   bbody      kT         keV      1.68126      +/-  0.413976     \n",
      "   3    2   bbody      norm                2.75162E-06  +/-  6.24733E-07  \n",
      "________________________________________________________________________\n",
      "\n",
      "\n",
      "Fit statistic  : Chi-Squared                 10.2558     using 6 bins.\n",
      "\n",
      "Test statistic : Chi-Squared                 10.2558     using 6 bins.\n",
      " Null hypothesis probability of 1.6512e-02 with 3 degrees of freedom\n"
     ]
    },
    {
     "data": {
      "image/svg+xml": [
       "<svg xmlns=\"http://www.w3.org/2000/svg\" xmlns:xlink=\"http://www.w3.org/1999/xlink\" style=\"fill-rule: nonzero; stroke-linecap: round; stroke-linejoin: round; transform: scale(1,-1);\" version=\"1.1\" viewbox=\"           -8.104365            27.140120          7605.209961          5564.965820\" width=\"100%\" height=\"100%\" preserveAspectRatio=\"xMidYMid\">\n",
       "<style>\n",
       "  .fn { font-family: Arial,Helvetica,sans-serif; }\n",
       "  .fN { font-family: Arial,Helvetica,sans-serif; font-weight: bold;}\n",
       "  .fr { font-family: Times,Times-Roman,Times New Roman,serif; }\n",
       "  .fR { font-family: Times,Times-Roman,Times New Roman,serif; font-weight: bold;}\n",
       "  .fi { font-family: Times,Times-Roman,Times New Roman,serif; font-style: italic;}\n",
       "  .fI { font-family: Times,Times-Roman,Times New Roman,serif; font-style: italic; font-weight: bold;}\n",
       "  .fs { font-family: Zapf-Chancery,Apple Chancery,URW Chancery L,cursive;}\n",
       "  .fS { font-family: Zapf-Chancery,Apple Chancery,URW Chancery L,cursive;font-weight:bold}\n",
       "  .fc { font-family: Arial Narrow,Helvetica Narrow,Arial,Helvetica,sans-serif;}\n",
       "  .fC { font-family: Arial Narrow,Helvetica Narrow,Arial,Helvetica,sans-serif; font-weight:bold;}\n",
       "</style>\n",
       "<g style=\"color: rgb(0, 0, 0); fill: currentColor; stroke: currentColor; stroke-width: 8\">\n",
       "\n",
       "<path fill=\"none\" d=\"M 742 2304 l 5935 0 l 0 2879 l -5935 0 l 0 -2879 M 1040 2304 l 0 28 M 1359 2304 l 0 28 M 1620 2304 l 0 28  M 1841 2304 l 0 28 M 2033 2304 l 0 28 M 2201 2304 l 0 28 M 2352 2304 l 0 56 M 3345 2304 l 0 28 M 3926 2304 l 0 28  M 4338 2304 l 0 28 M 4657 2304 l 0 28 M 4919 2304 l 0 28 M 5139 2304 l 0 28 M 5331 2304 l 0 28 M 5499 2304 l 0 28  M 5650 2304 l 0 56 M 6643 2304 l 0 28 M 1040 5155 l 0 28 M 1359 5155 l 0 28 M 1620 5155 l 0 28 M 1841 5155 l 0 28  M 2033 5155 l 0 28 M 2201 5155 l 0 28 M 2352 5127 l 0 56 M 3345 5155 l 0 28 M 3926 5155 l 0 28 M 4338 5155 l 0 28  M 4657 5155 l 0 28 M 4919 5155 l 0 28 M 5139 5155 l 0 28 M 5331 5155 l 0 28 M 5499 5155 l 0 28 M 5650 5127 l 0 56  M 6643 5155 l 0 28 M 742 2304 l 56 0 M 742 2737 l 28 0 M 742 2991 l 28 0 M 742 3170 l 28 0 M 742 3310 l 28 0  M 742 3424 l 28 0 M 742 3520 l 28 0 M 742 3604 l 28 0 M 742 3677 l 28 0 M 742 3743 l 56 0 M 742 4177 l 28 0  M 742 4430 l 28 0 M 742 4610 l 28 0 M 742 4750 l 28 0 M 742 4864 l 28 0 M 742 4960 l 28 0 M 742 5044 l 28 0  M 742 5117 l 28 0 M 742 5183 l 56 0 M 6621 2304 l 56 0 M 6649 2737 l 28 0 M 6649 2991 l 28 0 M 6649 3170 l 28 0  M 6649 3310 l 28 0 M 6649 3424 l 28 0 M 6649 3520 l 28 0 M 6649 3604 l 28 0 M 6649 3677 l 28 0 M 6621 3743 l 56 0  M 6649 4177 l 28 0 M 6649 4430 l 28 0 M 6649 4610 l 28 0 M 6649 4750 l 28 0 M 6649 4864 l 28 0 M 6649 4960 l 28 0  M 6649 5044 l 28 0 M 6649 5117 l 28 0 M 6621 5183 l 56 0 \"/>\n",
       "<text transform=\"translate(412,2266) scale(1,-1)\"><tspan class=\"fn\" style=\"font-size: 753.1%;\">10<tspan style=\"font-size: 60%;\" dy=\"-0.6em\">−4<tspan style=\"font-size: 166.667%;\" dy=\"+0.36em\"/></tspan></tspan></text>\n",
       "<text transform=\"translate(412,3706) scale(1,-1)\"><tspan class=\"fn\" style=\"font-size: 753.1%;\">10<tspan style=\"font-size: 60%;\" dy=\"-0.6em\">−3<tspan style=\"font-size: 166.667%;\" dy=\"+0.36em\"/></tspan></tspan></text>\n",
       "<text transform=\"translate(391,5146) scale(1,-1)\"><tspan class=\"fn\" style=\"font-size: 753.1%;\">0.01</tspan></text>\n",
       "</g>\n",
       "<g style=\"color: rgb(0, 0, 0); fill: currentColor; stroke: currentColor; stroke-width: 4\">\n",
       "<defs>\n",
       "<symbol id=\"M1\" overflow=\"visible\">\n",
       "<circle r=\"1\" fill=\"none\" stroke-width=\"1\"/>\n",
       "</symbol>\n",
       "</defs>\n",
       "<use xlink:href=\"#M1\" transform=\"translate(2839, 3191) scale(4.430)\"/>\n",
       "\n",
       "<path fill=\"none\" d=\"M 742 3191 l 2914 0 M 2839 2480 l 0 1035 \"/>\n",
       "<use xlink:href=\"#M1\" transform=\"translate(3805, 4632) scale(4.430)\"/>\n",
       "\n",
       "<path fill=\"none\" d=\"M 3656 4632 l 284 0 M 3805 4438 l 0 343 \"/>\n",
       "<use xlink:href=\"#M1\" transform=\"translate(4130, 4307) scale(4.430)\"/>\n",
       "\n",
       "<path fill=\"none\" d=\"M 3940 4307 l 358 0 M 4130 4097 l 0 367 \"/>\n",
       "<use xlink:href=\"#M1\" transform=\"translate(4552, 3887) scale(4.430)\"/>\n",
       "\n",
       "<path fill=\"none\" d=\"M 4298 3887 l 470 0 M 4552 3648 l 0 412 \"/>\n",
       "<use xlink:href=\"#M1\" transform=\"translate(4906, 4199) scale(4.430)\"/>\n",
       "\n",
       "<path fill=\"none\" d=\"M 4768 4199 l 264 0 M 4906 4006 l 0 341 \"/>\n",
       "<use xlink:href=\"#M1\" transform=\"translate(6079, 2398) scale(4.430)\"/>\n",
       "\n",
       "<path fill=\"none\" d=\"M 5032 2398 l 1645 0 M 6079 2304 l 0 296 \"/>\n",
       "</g>\n",
       "<g style=\"color: rgb(0, 0, 0); fill: currentColor; stroke: currentColor; stroke-width: 8\">\n",
       "\n",
       "<path fill=\"none\" d=\"M 742 3402 l 2914 0 l 0 634 l 284 0 l 0 122 l 358 0 l 0 -14 l 470 0 l 0 -192 l 264 0 l 0 -1585  l 1645 0 M 742 3402 l 2914 0 M 2839 3402 l 0 0 M 3656 4036 l 284 0 M 3805 4036 l 0 0 M 3940 4158 l 358 0  M 4130 4158 l 0 0 M 4298 4144 l 470 0 M 4552 4144 l 0 0 M 4768 3952 l 264 0 M 4906 3952 l 0 0 M 5032 2367 l 1645 0  M 6079 2367 l 0 0 \"/>\n",
       "<text transform=\"translate(111,3265) scale(1,-1) rotate(-90)\"><tspan class=\"fn\" style=\"font-size: 753.1%;\">counts s<tspan style=\"font-size: 60%;\" dy=\"-0.6em\">−1<tspan style=\"font-size: 166.667%;\" dy=\"+0.36em\"> keV<tspan style=\"font-size: 60%;\" dy=\"-0.6em\">−1<tspan style=\"font-size: 166.667%;\" dy=\"+0.36em\"/></tspan></tspan></tspan></tspan></text>\n",
       "<text transform=\"translate(2971,5403) scale(1,-1)\"><tspan class=\"fn\" style=\"font-size: 753.1%;\"><tspan class=\"fR\">data and folded model</tspan></tspan></text>\n",
       "\n",
       "<path fill=\"none\" d=\"M 742 576 l 5935 0 l 0 1728 l -5935 0 l 0 -1728 M 1040 576 l 0 28 M 1359 576 l 0 28 M 1620 576 l 0 28  M 1841 576 l 0 28 M 2033 576 l 0 28 M 2201 576 l 0 28 M 2352 576 l 0 56 M 3345 576 l 0 28 M 3926 576 l 0 28  M 4338 576 l 0 28 M 4657 576 l 0 28 M 4919 576 l 0 28 M 5139 576 l 0 28 M 5331 576 l 0 28 M 5499 576 l 0 28  M 5650 576 l 0 56 M 6643 576 l 0 28 M 1040 2275 l 0 29 M 1359 2275 l 0 29 M 1620 2275 l 0 29 M 1841 2275 l 0 29  M 2033 2275 l 0 29 M 2201 2275 l 0 29 M 2352 2247 l 0 57 M 3345 2275 l 0 29 M 3926 2275 l 0 29 M 4338 2275 l 0 29  M 4657 2275 l 0 29 M 4919 2275 l 0 29 M 5139 2275 l 0 29 M 5331 2275 l 0 29 M 5499 2275 l 0 29 M 5650 2247 l 0 57  M 6643 2275 l 0 29 \"/>\n",
       "<text transform=\"translate(2314,429) scale(1,-1)\"><tspan class=\"fn\" style=\"font-size: 753.1%;\">1</tspan></text>\n",
       "<text transform=\"translate(5574,429) scale(1,-1)\"><tspan class=\"fn\" style=\"font-size: 753.1%;\">10</tspan></text>\n",
       "<text transform=\"translate(1264,429) scale(1,-1)\"><tspan class=\"fn\" style=\"font-size: 753.1%;\">0.5</tspan></text>\n",
       "<text transform=\"translate(3307,429) scale(1,-1)\"><tspan class=\"fn\" style=\"font-size: 753.1%;\">2</tspan></text>\n",
       "<text transform=\"translate(4619,429) scale(1,-1)\"><tspan class=\"fn\" style=\"font-size: 753.1%;\">5</tspan></text>\n",
       "<text transform=\"translate(6567,429) scale(1,-1)\"><tspan class=\"fn\" style=\"font-size: 753.1%;\">20</tspan></text>\n",
       "\n",
       "<path fill=\"none\" d=\"M 742 637 l 28 0 M 742 741 l 28 0 M 742 844 l 28 0 M 742 947 l 56 0 M 742 1050 l 28 0 M 742 1153 l 28 0  M 742 1257 l 28 0 M 742 1360 l 28 0 M 742 1463 l 56 0 M 742 1566 l 28 0 M 742 1670 l 28 0 M 742 1773 l 28 0  M 742 1876 l 28 0 M 742 1979 l 56 0 M 742 2083 l 28 0 M 742 2186 l 28 0 M 742 2289 l 28 0 M 6649 637 l 28 0  M 6649 741 l 28 0 M 6649 844 l 28 0 M 6621 947 l 56 0 M 6649 1050 l 28 0 M 6649 1153 l 28 0 M 6649 1257 l 28 0  M 6649 1360 l 28 0 M 6621 1463 l 56 0 M 6649 1566 l 28 0 M 6649 1670 l 28 0 M 6649 1773 l 28 0 M 6649 1876 l 28 0  M 6621 1979 l 56 0 M 6649 2083 l 28 0 M 6649 2186 l 28 0 M 6649 2289 l 28 0 \"/>\n",
       "<text transform=\"translate(580,910) scale(1,-1)\"><tspan class=\"fn\" style=\"font-size: 753.1%;\">0</tspan></text>\n",
       "<text transform=\"translate(412,1426) scale(1,-1)\"><tspan class=\"fn\" style=\"font-size: 753.1%;\">10<tspan style=\"font-size: 60%;\" dy=\"-0.6em\">−3<tspan style=\"font-size: 166.667%;\" dy=\"+0.36em\"/></tspan></tspan></text>\n",
       "<text transform=\"translate(240,1942) scale(1,-1)\"><tspan class=\"fn\" style=\"font-size: 753.1%;\">2×10<tspan style=\"font-size: 60%;\" dy=\"-0.6em\">−3<tspan style=\"font-size: 166.667%;\" dy=\"+0.36em\"/></tspan></tspan></text>\n",
       "</g>\n",
       "<g style=\"color: rgb(0, 0, 0); fill: currentColor; stroke: currentColor; stroke-width: 4\">\n",
       "<use xlink:href=\"#M1\" transform=\"translate(2839, 862) scale(4.430)\"/>\n",
       "\n",
       "<path fill=\"none\" d=\"M 742 862 l 2914 0 M 2839 717 l 0 289 \"/>\n",
       "<use xlink:href=\"#M1\" transform=\"translate(3805, 2262) scale(4.430)\"/>\n",
       "\n",
       "<path fill=\"none\" d=\"M 3656 2262 l 284 0 M 3805 1690 l 0 614 \"/>\n",
       "<use xlink:href=\"#M1\" transform=\"translate(4130, 1217) scale(4.430)\"/>\n",
       "\n",
       "<path fill=\"none\" d=\"M 3940 1217 l 358 0 M 4130 854 l 0 725 \"/>\n",
       "<use xlink:href=\"#M1\" transform=\"translate(4552, 617) scale(4.430)\"/>\n",
       "\n",
       "<path fill=\"none\" d=\"M 4298 617 l 470 0 M 4552 576 l 0 248 \"/>\n",
       "<use xlink:href=\"#M1\" transform=\"translate(4906, 1296) scale(4.430)\"/>\n",
       "\n",
       "<path fill=\"none\" d=\"M 4768 1296 l 264 0 M 4906 1011 l 0 570 \"/>\n",
       "<use xlink:href=\"#M1\" transform=\"translate(6079, 950) scale(4.430)\"/>\n",
       "\n",
       "<path fill=\"none\" d=\"M 5032 950 l 1645 0 M 6079 927 l 0 46 \"/>\n",
       "</g>\n",
       "<g style=\"color: rgb(0, 0, 0); fill: currentColor; stroke: currentColor; stroke-width: 8\">\n",
       "<text transform=\"translate(111,962) scale(1,-1) rotate(-90)\"><tspan class=\"fn\" style=\"font-size: 753.1%;\">counts s<tspan style=\"font-size: 60%;\" dy=\"-0.6em\">−1<tspan style=\"font-size: 166.667%;\" dy=\"+0.36em\"> keV<tspan style=\"font-size: 60%;\" dy=\"-0.6em\">−1<tspan style=\"font-size: 166.667%;\" dy=\"+0.36em\"/></tspan></tspan></tspan></tspan></text>\n",
       "<text transform=\"translate(3323,269) scale(1,-1)\"><tspan class=\"fn\" style=\"font-size: 753.1%;\">Energy (keV)</tspan></text>\n",
       "</g>\n",
       "<g style=\"color: rgb(0, 255, 0); fill: currentColor; stroke: currentColor; stroke-width: 8\">\n",
       "\n",
       "<path fill=\"none\" d=\"M 742 947 l 5935 0 \"/>\n",
       "</g>\n",
       "<g style=\"color: rgb(0, 0, 0); fill: currentColor; stroke: currentColor; stroke-width: 4\">\n",
       "<text transform=\"translate(6246,46) scale(1,-1)\"><tspan class=\"fn\" style=\"font-size: 531.6%;\">rwebbe  3−Sep−2025 11:59</tspan></text>\n",
       "</g>\n",
       "<!-- _PGPLOT_SVG_ATEND: viewbox=\"           -8.104365            27.140120          7605.209961          5564.965820\" -->\n",
       "</svg>"
      ],
      "text/plain": [
       "<IPython.core.display.SVG object>"
      ]
     },
     "metadata": {},
     "output_type": "display_data"
    }
   ],
   "source": [
    "AllModels.clear()\n",
    "mo = Model(\"tbabs*bbody\")\n",
    "Fit.perform()\n",
    "Plot(\"data resid\")"
   ]
  },
  {
   "cell_type": "code",
   "execution_count": 5,
   "metadata": {},
   "outputs": [
    {
     "name": "stdout",
     "output_type": "stream",
     "text": [
      "Cannot do error calc: Reduced Chi^2 (= 3.41861) > maximum (2)\n"
     ]
    },
    {
     "ename": "Exception",
     "evalue": "Error executing command: error",
     "output_type": "error",
     "traceback": [
      "\u001b[0;31m---------------------------------------------------------------------------\u001b[0m",
      "\u001b[0;31mException\u001b[0m                                 Traceback (most recent call last)",
      "\u001b[0;32m<ipython-input-5-21d339ad0c88>\u001b[0m in \u001b[0;36m<module>\u001b[0;34m\u001b[0m\n\u001b[0;32m----> 1\u001b[0;31m \u001b[0mFit\u001b[0m\u001b[0;34m.\u001b[0m\u001b[0merror\u001b[0m\u001b[0;34m(\u001b[0m\u001b[0;34m\"1\"\u001b[0m\u001b[0;34m)\u001b[0m\u001b[0;34m\u001b[0m\u001b[0;34m\u001b[0m\u001b[0m\n\u001b[0m\u001b[1;32m      2\u001b[0m \u001b[0mFit\u001b[0m\u001b[0;34m.\u001b[0m\u001b[0merror\u001b[0m\u001b[0;34m(\u001b[0m\u001b[0;34m\"2\"\u001b[0m\u001b[0;34m)\u001b[0m\u001b[0;34m\u001b[0m\u001b[0;34m\u001b[0m\u001b[0m\n\u001b[1;32m      3\u001b[0m \u001b[0;34m\u001b[0m\u001b[0m\n\u001b[1;32m      4\u001b[0m \u001b[0mout_arr\u001b[0m\u001b[0;34m[\u001b[0m\u001b[0;36m0\u001b[0m\u001b[0;34m,\u001b[0m\u001b[0;36m0\u001b[0m\u001b[0;34m]\u001b[0m \u001b[0;34m=\u001b[0m \u001b[0;34m'bbody'\u001b[0m\u001b[0;34m\u001b[0m\u001b[0;34m\u001b[0m\u001b[0m\n\u001b[1;32m      5\u001b[0m \u001b[0mout_arr\u001b[0m\u001b[0;34m[\u001b[0m\u001b[0;36m0\u001b[0m\u001b[0;34m,\u001b[0m\u001b[0;36m1\u001b[0m\u001b[0;34m:\u001b[0m\u001b[0;36m4\u001b[0m\u001b[0;34m]\u001b[0m \u001b[0;34m=\u001b[0m \u001b[0mmo\u001b[0m\u001b[0;34m.\u001b[0m\u001b[0mTBabs\u001b[0m\u001b[0;34m.\u001b[0m\u001b[0mnH\u001b[0m\u001b[0;34m.\u001b[0m\u001b[0mvalues\u001b[0m\u001b[0;34m[\u001b[0m\u001b[0;36m0\u001b[0m\u001b[0;34m]\u001b[0m\u001b[0;34m,\u001b[0m \u001b[0mmo\u001b[0m\u001b[0;34m.\u001b[0m\u001b[0mTBabs\u001b[0m\u001b[0;34m.\u001b[0m\u001b[0mnH\u001b[0m\u001b[0;34m.\u001b[0m\u001b[0mvalues\u001b[0m\u001b[0;34m[\u001b[0m\u001b[0;36m0\u001b[0m\u001b[0;34m]\u001b[0m \u001b[0;34m-\u001b[0m \u001b[0mmo\u001b[0m\u001b[0;34m.\u001b[0m\u001b[0mTBabs\u001b[0m\u001b[0;34m.\u001b[0m\u001b[0mnH\u001b[0m\u001b[0;34m.\u001b[0m\u001b[0merror\u001b[0m\u001b[0;34m[\u001b[0m\u001b[0;36m0\u001b[0m\u001b[0;34m]\u001b[0m\u001b[0;34m,\u001b[0m \u001b[0mmo\u001b[0m\u001b[0;34m.\u001b[0m\u001b[0mTBabs\u001b[0m\u001b[0;34m.\u001b[0m\u001b[0mnH\u001b[0m\u001b[0;34m.\u001b[0m\u001b[0merror\u001b[0m\u001b[0;34m[\u001b[0m\u001b[0;36m1\u001b[0m\u001b[0;34m]\u001b[0m \u001b[0;34m-\u001b[0m \u001b[0mmo\u001b[0m\u001b[0;34m.\u001b[0m\u001b[0mTBabs\u001b[0m\u001b[0;34m.\u001b[0m\u001b[0mnH\u001b[0m\u001b[0;34m.\u001b[0m\u001b[0mvalues\u001b[0m\u001b[0;34m[\u001b[0m\u001b[0;36m0\u001b[0m\u001b[0;34m]\u001b[0m\u001b[0;34m\u001b[0m\u001b[0;34m\u001b[0m\u001b[0m\n",
      "\u001b[0;32m~/astro_soft/heasoft-6.32.1/x86_64-pc-linux-gnu-libc2.31/lib/python/xspec/fit.py\u001b[0m in \u001b[0;36merror\u001b[0;34m(self, argString, respPar)\u001b[0m\n\u001b[1;32m    423\u001b[0m             \u001b[0merrorArgs\u001b[0m \u001b[0;34m=\u001b[0m \u001b[0;34m[\u001b[0m\u001b[0;34m\"error\"\u001b[0m\u001b[0;34m]\u001b[0m\u001b[0;34m\u001b[0m\u001b[0;34m\u001b[0m\u001b[0m\n\u001b[1;32m    424\u001b[0m         \u001b[0merrorArgs\u001b[0m \u001b[0;34m+=\u001b[0m \u001b[0margString\u001b[0m\u001b[0;34m.\u001b[0m\u001b[0msplit\u001b[0m\u001b[0;34m(\u001b[0m\u001b[0;34m)\u001b[0m\u001b[0;34m\u001b[0m\u001b[0;34m\u001b[0m\u001b[0m\n\u001b[0;32m--> 425\u001b[0;31m         \u001b[0m_pyXspec\u001b[0m\u001b[0;34m.\u001b[0m\u001b[0mdoXspecCmd\u001b[0m\u001b[0;34m(\u001b[0m\u001b[0merrorArgs\u001b[0m\u001b[0;34m)\u001b[0m\u001b[0;34m\u001b[0m\u001b[0;34m\u001b[0m\u001b[0m\n\u001b[0m\u001b[1;32m    426\u001b[0m \u001b[0;34m\u001b[0m\u001b[0m\n\u001b[1;32m    427\u001b[0m     \u001b[0;32mdef\u001b[0m \u001b[0mftest\u001b[0m\u001b[0;34m(\u001b[0m\u001b[0mself\u001b[0m\u001b[0;34m,\u001b[0m \u001b[0mchisq2\u001b[0m\u001b[0;34m,\u001b[0m \u001b[0mdof2\u001b[0m\u001b[0;34m,\u001b[0m \u001b[0mchisq1\u001b[0m\u001b[0;34m,\u001b[0m \u001b[0mdof1\u001b[0m\u001b[0;34m)\u001b[0m\u001b[0;34m:\u001b[0m\u001b[0;34m\u001b[0m\u001b[0;34m\u001b[0m\u001b[0m\n",
      "\u001b[0;31mException\u001b[0m: Error executing command: error"
     ]
    }
   ],
   "source": [
    "Fit.error(\"1\")\n",
    "Fit.error(\"2\")\n",
    "\n",
    "out_arr[0,0] = 'bbody'\n",
    "out_arr[0,1:4] = mo.TBabs.nH.values[0], mo.TBabs.nH.values[0] - mo.TBabs.nH.error[0], mo.TBabs.nH.error[1] - mo.TBabs.nH.values[0]\n",
    "out_arr[0,4:7] = mo.bbody.kT.values[0], mo.bbody.kT.values[0] - mo.bbody.kT.error[0], mo.bbody.kT.error[1] - mo.bbody.kT.values[0]\n",
    "out_arr[0,-2:] = Fit.dof, Fit.statistic / Fit.dof\n"
   ]
  },
  {
   "cell_type": "code",
   "execution_count": null,
   "metadata": {
    "scrolled": false
   },
   "outputs": [],
   "source": [
    "AllModels.clear()\n",
    "mo = Model(\"tbabs*powerlaw\")\n",
    "Fit.perform()\n",
    "Plot(\"data resid\")"
   ]
  },
  {
   "cell_type": "code",
   "execution_count": null,
   "metadata": {},
   "outputs": [],
   "source": [
    "Fit.error(\"1\")\n",
    "Fit.error(\"2\")\n",
    "\n",
    "out_arr[1,0] = 'powerlaw'\n",
    "out_arr[1,1:4] = mo.TBabs.nH.values[0], mo.TBabs.nH.values[0] - mo.TBabs.nH.error[0], mo.TBabs.nH.error[1] - mo.TBabs.nH.values[0]\n",
    "out_arr[1,14:17] = mo.powerlaw.PhoIndex.values[0], mo.powerlaw.PhoIndex.values[0] - mo.powerlaw.PhoIndex.error[0], mo.powerlaw.PhoIndex.error[1] - mo.powerlaw.PhoIndex.values[0]\n",
    "out_arr[1,-2:] = Fit.dof, Fit.statistic / Fit.dof\n"
   ]
  },
  {
   "cell_type": "code",
   "execution_count": null,
   "metadata": {
    "scrolled": false
   },
   "outputs": [],
   "source": [
    "AllModels.clear()\n",
    "mo = Model(\"tbabs*bremss\")\n",
    "Fit.perform()\n",
    "Plot(\"data resid\")"
   ]
  },
  {
   "cell_type": "code",
   "execution_count": null,
   "metadata": {},
   "outputs": [],
   "source": [
    "Fit.error(\"1\")\n",
    "Fit.error(\"2\")\n",
    "\n",
    "out_arr[3,0] = 'bremss'\n",
    "out_arr[3,1:4] = mo.TBabs.nH.values[0], mo.TBabs.nH.values[0] - mo.TBabs.nH.error[0], mo.TBabs.nH.error[1] - mo.TBabs.nH.values[0]\n",
    "out_arr[3,4:7] = mo.bremss.kT.values[0], mo.bremss.kT.values[0] - mo.bremss.kT.error[0], mo.bremss.kT.error[1] - mo.bremss.kT.values[0]\n",
    "out_arr[3,-2:] = Fit.dof, Fit.statistic / Fit.dof\n"
   ]
  },
  {
   "cell_type": "code",
   "execution_count": null,
   "metadata": {
    "scrolled": false
   },
   "outputs": [],
   "source": [
    "AllModels.clear()\n",
    "mo = Model(\"tbabs*apec\")\n",
    "Fit.perform()\n",
    "Plot(\"data resid\")"
   ]
  },
  {
   "cell_type": "code",
   "execution_count": null,
   "metadata": {},
   "outputs": [],
   "source": [
    "Fit.error(\"1\")\n",
    "Fit.error(\"2\")\n",
    "\n",
    "out_arr[2,0] = 'apec'\n",
    "out_arr[2,1:4] = mo.TBabs.nH.values[0], mo.TBabs.nH.values[0] - mo.TBabs.nH.error[0], mo.TBabs.nH.error[1] - mo.TBabs.nH.values[0]\n",
    "out_arr[2,13] = mo.apec.Abundanc.values[0]\n",
    "out_arr[2,4:7] = mo.apec.kT.values[0], mo.apec.kT.values[0] - mo.apec.kT.error[0], mo.apec.kT.error[1] - mo.apec.kT.values[0]\n",
    "out_arr[2,-2:] = Fit.dof, Fit.statistic / Fit.dof\n"
   ]
  },
  {
   "cell_type": "code",
   "execution_count": null,
   "metadata": {
    "scrolled": false
   },
   "outputs": [],
   "source": [
    "AllModels.clear()\n",
    "mo = Model(\"tbabs*(powerlaw+gaussian)\")\n",
    "mo.gaussian.LineE = 6.4\n",
    "mo.gaussian.LineE.frozen = True\n",
    "Fit.perform()\n",
    "Plot(\"data resid\")"
   ]
  },
  {
   "cell_type": "code",
   "execution_count": null,
   "metadata": {
    "scrolled": false
   },
   "outputs": [],
   "source": [
    "AllModels.clear()\n",
    "mo = Model(\"tbabs*(bbody+gaussian)\")\n",
    "mo.gaussian.LineE = 6.4\n",
    "mo.gaussian.LineE.frozen = True\n",
    "Fit.perform()\n",
    "Plot(\"data resid\")"
   ]
  },
  {
   "cell_type": "code",
   "execution_count": null,
   "metadata": {},
   "outputs": [],
   "source": [
    "np.savetxt('../spec69_output.csv',out_arr,fmt=['%s','%.2f','%.2f','%.2f','%.2f','%.2f','%.2f','%.2f','%.2f','%.2f','%.2f','%.2f','%.2f','%.1f','%.2f','%.2f','%.2f','%i','%.2f'],delimiter=',')\n"
   ]
  },
  {
   "cell_type": "code",
   "execution_count": null,
   "metadata": {},
   "outputs": [],
   "source": [
    "AllModels.calcFlux(\".2 12.0\")"
   ]
  },
  {
   "cell_type": "code",
   "execution_count": null,
   "metadata": {},
   "outputs": [],
   "source": [
    "#plx = 1.4843\n",
    "d_kpc = 8\n",
    "F_x = 1.8924*10**-13\n",
    "\n",
    "L_x = 4*3.14*F_x*(d_kpc*3.086*10**21)**2\n",
    "print(L_x)"
   ]
  },
  {
   "cell_type": "code",
   "execution_count": null,
   "metadata": {},
   "outputs": [],
   "source": [
    "import numpy as np\n",
    "print(d_kpc)\n",
    "print(np.log10(L_x))"
   ]
  },
  {
   "cell_type": "code",
   "execution_count": null,
   "metadata": {},
   "outputs": [],
   "source": [
    "F_opt = 1.05*10**-5 * 10**(-0.4*20.7)\n",
    "print('Optical Flux: ',F_opt)\n",
    "print('F_x / F_opt: ', np.log10(F_x/F_opt))"
   ]
  },
  {
   "cell_type": "code",
   "execution_count": null,
   "metadata": {
    "scrolled": false
   },
   "outputs": [],
   "source": [
    "AllModels.clear()\n",
    "mo = Model(\"tbabs*(bbody+powerlaw)\")\n",
    "mo.bbody.kT = 0.5\n",
    "mo.powerlaw.PhoIndex = 2.5\n",
    "Fit.perform()\n",
    "Plot(\"data resid\")"
   ]
  }
 ],
 "metadata": {
  "kernelspec": {
   "display_name": "Python 3 (ipykernel)",
   "language": "python",
   "name": "python3"
  },
  "language_info": {
   "codemirror_mode": {
    "name": "ipython",
    "version": 3
   },
   "file_extension": ".py",
   "mimetype": "text/x-python",
   "name": "python",
   "nbconvert_exporter": "python",
   "pygments_lexer": "ipython3",
   "version": "3.8.10"
  }
 },
 "nbformat": 4,
 "nbformat_minor": 4
}
