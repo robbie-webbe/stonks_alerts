{
 "cells": [
  {
   "cell_type": "code",
   "execution_count": 1,
   "metadata": {},
   "outputs": [
    {
     "name": "stderr",
     "output_type": "stream",
     "text": [
      "Holoviews not imported. Some visualizations will not be available.\n",
      "PyMultiNest not imported.  MultiNest fits will not work.\n",
      "/home/rwebbe/.local/lib/python3.8/site-packages/astroARIADNE/fitter.py:43: UserWarning: (py)MultiNest installation (or libmultinest.dylib) not detected.\n",
      "  warnings.warn(\n"
     ]
    }
   ],
   "source": [
    "from astroARIADNE.star import Star\n",
    "from astroARIADNE.fitter import Fitter\n",
    "from dustmaps.config import config\n",
    "config['data_dir'] = '/home/rwebbe/data/dustmaps'"
   ]
  },
  {
   "cell_type": "code",
   "execution_count": 2,
   "metadata": {
    "scrolled": true
   },
   "outputs": [
    {
     "name": "stdout",
     "output_type": "stream",
     "text": [
      "\n",
      "\t\t#####################################\n",
      "\t\t##             ARIADNE             ##\n",
      "\t\t#####################################\n",
      "   spectrAl eneRgy dIstribution bAyesian moDel averagiNg fittEr\n",
      "\n",
      "\t\t\tAuthor : Jose Vines\n",
      "\t\t\tContact : jose . vines at ug . uchile . cl\n",
      "\t\t\tStar : 5975134867009402112\n",
      "\t\t*** LOOKING UP ARCHIVAL INFORMATION ***\n",
      "INFO: Query finished. [astroquery.utils.tap.core]\n",
      "INFO: Query finished. [astroquery.utils.tap.core]\n",
      "Star not found in catalog TYCHO2.\n",
      "INFO: Query finished. [astroquery.utils.tap.core]\n",
      "Star not found in catalog Pan-STARRS.\n",
      "INFO: Query finished. [astroquery.utils.tap.core]\n",
      "Star not found in catalog SDSS.\n",
      "INFO: Query finished. [astroquery.utils.tap.core]\n",
      "Star not found in catalog Wise.\n",
      "INFO: Query finished. [astroquery.utils.tap.core]\n",
      "INFO: Query finished. [astroquery.utils.tap.core]\n",
      "Star not found in catalog APASS.\n",
      "Looking online for archival magnitudes for star 5975134867009402112\n",
      "Checking catalog Gaia DR3\n",
      "Checking catalog 2MASS\n",
      "Warning!: CatalogWarning\n",
      "Warning message: Catalog 2MASS_J entry is either an extended source, is of bad quality or is contaminated. Skipping.\n",
      "Warning!: CatalogWarning\n",
      "Warning message: Catalog 2MASS_H entry is either an extended source, is of bad quality or is contaminated. Skipping.\n",
      "Warning!: CatalogWarning\n",
      "Warning message: Catalog 2MASS_Ks entry is either an extended source, is of bad quality or is contaminated. Skipping.\n",
      "Checking catalog GLIMPSE\n",
      "Warning!: CatalogWarning\n",
      "Warning message: Star is not available in catalog GALEX. Skipping\n",
      "Checking catalog TICv8\n",
      "Checking catalog SkyMapper DR1.1\n",
      "Warning!: CatalogWarning\n",
      "Warning message: uPSF magnitude not found! Skipping.\n",
      "Warning!: CatalogWarning\n",
      "Warning message: vPSF magnitude not found! Skipping.\n",
      "Warning!: CatalogWarning\n",
      "Warning message: iPSF magnitude not found! Skipping.\n",
      "Warning!: CatalogWarning\n",
      "Warning message: zPSF magnitude not found! Skipping.\n",
      "Warning!: CatalogWarning\n",
      "Warning message: Star is not available in catalog STROMGREN_PAUNZ. Skipping\n",
      "Warning!: CatalogWarning\n",
      "Warning message: Star is not available in catalog STROMGREN_HAUCK. Skipping\n",
      "Warning!: CatalogWarning\n",
      "Warning message: Star is not available in catalog MERMILLIOD. Skipping\n",
      "\t\t\tGaia DR3 ID : 5975134867009402112\n",
      "\t\t\tTIC : 163997911\n",
      "\t\t\tGaia Effective temperature : 4137.905 +/- 210.497\n",
      "\t\t\tGaia Stellar radius : 1.178 +/- 0.556\n",
      "\t\t\tGaia Stellar Luminosity : 0.366 +/- 0.055\n",
      "\t\t\tGaia Parallax : 1.023 +/- 0.052\n",
      "\t\t\tBailer-Jones distance : 1003.584 +/- 59.081\n",
      "\t\t\tMaximum Av : 27.231\n",
      "\n",
      "\t\t       Filter       \tMagnitude\tUncertainty\n",
      "\t\t--------------------\t---------\t-----------\n",
      "\t\t    SkyMapper_g     \t 17.1920 \t  0.0250   \n",
      "\t\t    GaiaDR2v2_BP    \t 17.1034 \t  0.0185   \n",
      "\t\t    SkyMapper_r     \t 16.3680 \t  0.0050   \n",
      "\t\t    GaiaDR2v2_G     \t 16.2317 \t  0.0031   \n",
      "\t\t    GaiaDR2v2_RP    \t 15.3173 \t  0.0059   \n",
      "\t\t        TESS        \t 15.3346 \t  0.0264   \n",
      "\t\t  SPITZER_IRAC_36   \t 13.0470 \t  0.0690   \n",
      "\t\t  SPITZER_IRAC_45   \t 13.0820 \t  0.0920   \n",
      "\n"
     ]
    }
   ],
   "source": [
    "gaia_id = 5975134867009402112\n",
    "ra = 262.7924389\n",
    "dec = -34.6785107\n",
    "starname = str(gaia_id)\n",
    "s = Star(starname, ra, dec, g_id = gaia_id, dustmap='Planck16')"
   ]
  },
  {
   "cell_type": "code",
   "execution_count": 3,
   "metadata": {},
   "outputs": [
    {
     "name": "stdout",
     "output_type": "stream",
     "text": [
      "Created the directory ariadnefit\n",
      "\n",
      "\t\t*** EXECUTING MAIN FITTING ROUTINE ***\n",
      "\t\t\tSelected engine : Bayesian Model Averaging\n",
      "\t\t\tLive points : 500\n",
      "\t\t\tlog Evidence tolerance : 0.5\n",
      "\t\t\tFree parameters : 14\n",
      "\t\t\tBounding : multi\n",
      "\t\t\tSampling : rwalk\n",
      "\t\t\tN threads : 4\n",
      "\n"
     ]
    }
   ],
   "source": [
    "out_folder = 'ariadnefit'\n",
    "\n",
    "engine = 'dynesty'\n",
    "nlive = 500\n",
    "dlogz = 0.5\n",
    "bound = 'multi'\n",
    "sample = 'rwalk'\n",
    "threads = 4\n",
    "dynamic = False\n",
    "setup = [engine, nlive, dlogz, bound, sample, threads, dynamic]\n",
    "\n",
    "models = ['phoenix','btsettl','btnextgen','btcond','kurucz','ck04']\n",
    "f = Fitter()\n",
    "f.star = s\n",
    "f.setup = setup\n",
    "f.av_law = 'fitzpatrick'\n",
    "f.out_folder = out_folder\n",
    "f.bma = True\n",
    "f.models = models\n",
    "f.n_samples = 100000\n",
    "\n",
    "f.prior_setup = {'teff': ('default'),'logg': ('default'),'z': ('default'),'dist': ('default'),'rad': ('default'),'Av': ('default')}\n",
    "f.initialize()\n"
   ]
  },
  {
   "cell_type": "code",
   "execution_count": 4,
   "metadata": {},
   "outputs": [
    {
     "name": "stdout",
     "output_type": "stream",
     "text": [
      "\t\t\tFITTING MODEL : phoenix\n"
     ]
    },
    {
     "name": "stderr",
     "output_type": "stream",
     "text": [
      "9632it [51:41:37, 19.32s/it, +500 | bound: 107 | nc: 1 | ncall: 215617 | eff(%):  4.710 | loglstar:   -inf < 224.061 <    inf | logz: 205.382 +/-  0.202 | dlogz:  0.001 >  0.500]\n"
     ]
    },
    {
     "name": "stdout",
     "output_type": "stream",
     "text": [
      "\t\t\tFITTING MODEL : btsettl\n"
     ]
    },
    {
     "name": "stderr",
     "output_type": "stream",
     "text": [
      "9550it [09:21, 17.00it/s, +500 | bound: 105 | nc: 1 | ncall: 213374 | eff(%):  4.721 | loglstar:   -inf < 223.351 <    inf | logz: 204.787 +/-    nan | dlogz:  0.001 >  0.500] \n"
     ]
    },
    {
     "name": "stdout",
     "output_type": "stream",
     "text": [
      "\t\t\tFITTING MODEL : kurucz\n"
     ]
    },
    {
     "name": "stderr",
     "output_type": "stream",
     "text": [
      "10229it [10:34, 16.13it/s, +500 | bound: 114 | nc: 1 | ncall: 230639 | eff(%):  4.662 | loglstar:   -inf < 225.363 <    inf | logz: 205.338 +/-    nan | dlogz:  0.001 >  0.500] \n"
     ]
    },
    {
     "name": "stdout",
     "output_type": "stream",
     "text": [
      "\t\t\tFITTING MODEL : ck04\n"
     ]
    },
    {
     "name": "stderr",
     "output_type": "stream",
     "text": [
      "9492it [06:57, 22.75it/s, +500 | bound: 112 | nc: 1 | ncall: 213641 | eff(%):  4.688 | loglstar:   -inf < 224.154 <    inf | logz: 205.686 +/-    nan | dlogz:  0.001 >  0.500] \n"
     ]
    },
    {
     "name": "stdout",
     "output_type": "stream",
     "text": [
      "\t\t*** AVERAGING POSTERIOR SAMPLES ***\n"
     ]
    },
    {
     "name": "stderr",
     "output_type": "stream",
     "text": [
      "100%|██████████| 18/18 [00:00<00:00, 25.37it/s]\n"
     ]
    },
    {
     "name": "stdout",
     "output_type": "stream",
     "text": [
      "\t\t*** ESTIMATING AGE AND MASS USING MIST ISOCHRONES ***\n"
     ]
    },
    {
     "name": "stderr",
     "output_type": "stream",
     "text": [
      "11830it [01:08, 172.92it/s, +500 | bound: 137 | nc: 1 | ncall: 312834 | eff(%):  3.948 | loglstar:   -inf < -7.257 <    inf | logz: -26.475 +/- 10.853 | dlogz:  0.000 >  0.010]\n"
     ]
    },
    {
     "name": "stdout",
     "output_type": "stream",
     "text": [
      "\n",
      "\t\t\tFitting finished.\n",
      "\t\t\tBest fit parameters are:\n",
      "\t\t\tteff : 4801.7415 + 777.9777 - 468.6612 [3845.6726, 6638.8936]\n",
      "\t\t\tlogg : 4.3993 + 0.4643 - 0.3972 [3.6273, 5.2945]\n",
      "\t\t\t[Fe/H] : -0.0533 + 0.1830 - 0.2252 [-0.6867, 0.3654]\n",
      "\t\t\tdist : 1178.4902 + 82.2667 - 122.0731 [1011.3031, 1406.7138]\n",
      "\t\t\trad : 1.4868 + 0.1832 - 0.2730 [0.9996, 2.0329]\n",
      "\t\t\tAv : 1.2311 + 0.7381 - 0.5559 [0.1193, 2.8349]\n",
      "\t\t\tAngular Diameter : 0.0117 + 0.0020 - 0.0022 [0.0073, 0.0178]\n",
      "\t\t\tGrav mass : 1.3918 + 2.7466 - 0.8739 [0.2057, 18.8704]\n",
      "\t\t\tLuminosity : 0.9458 + 0.8237 - 0.4271 [0.2441, 4.8051]\n",
      "\t\t\tIso mass : 0.8420 + 0.1264 - 0.1470 [0.3746, 1.2211]\n",
      "\t\t\tAge (Gyr) : 3.1582 + 8.1645 - 3.0222 [0.0007, 13.4427]\n",
      "\t\t\tEEP : 345.6992 + 31.9063 - 49.0867 [91.6756, 458.5986]\n",
      "\t\t\tExcess g noise : 0.1522 + 0.0865 - 0.0882 [0.0134, 0.5016]\n",
      "\t\t\tExcess BP noise : 0.1192 + 0.0725 - 0.0595 [0.0104, 0.4442]\n",
      "\t\t\tExcess r noise : 0.0764 + 0.0269 - 0.0282 [0.0162, 0.1542]\n",
      "\t\t\tExcess G noise : 0.0252 + 0.0180 - 0.0110 [0.0030, 0.0777]\n",
      "\t\t\tExcess RP noise : 0.0361 + 0.0226 - 0.0180 [0.0025, 0.1081]\n",
      "\t\t\tExcess TESS noise : 0.1106 + 0.1141 - 0.0787 [0.0044, 0.5924]\n",
      "\t\t\tExcess IRAC 36 noise : 0.3591 + 0.2565 - 0.1669 [0.0334, 1.2505]\n",
      "\t\t\tExcess IRAC 45 noise : 0.2997 + 0.3932 - 0.1596 [0.0262, 1.7302]\n",
      "\t\t\tMamajek Spectral Type : K3V\n",
      "\t\t\tphoenix probability : 0.2588\n",
      "\t\t\tbtsettl probability : 0.1427\n",
      "\t\t\tkurucz probability : 0.2477\n",
      "\t\t\tck04 probability : 0.3508\n",
      "\t\t\tElapsed time : 2 days, 4 hours, 10 minutes and 39.77 seconds\n"
     ]
    }
   ],
   "source": [
    "f.fit_bma()"
   ]
  },
  {
   "cell_type": "code",
   "execution_count": 1,
   "metadata": {},
   "outputs": [
    {
     "name": "stdout",
     "output_type": "stream",
     "text": [
      "L_X / L_Bol:  0.006545873481357352 -2.1840323929906416\n"
     ]
    }
   ],
   "source": [
    "import numpy as np\n",
    "\n",
    "Lbol_sun = 4 * 10**33\n",
    "L_bol = Lbol_sun * 0.9548\n",
    "L_x = 2.5*10**31\n",
    "\n",
    "print(\"L_X / L_Bol: \",L_x/L_bol,np.log10(L_x/L_bol))"
   ]
  }
 ],
 "metadata": {
  "kernelspec": {
   "display_name": "Python 3 (ipykernel)",
   "language": "python",
   "name": "python3"
  },
  "language_info": {
   "codemirror_mode": {
    "name": "ipython",
    "version": 3
   },
   "file_extension": ".py",
   "mimetype": "text/x-python",
   "name": "python",
   "nbconvert_exporter": "python",
   "pygments_lexer": "ipython3",
   "version": "3.8.10"
  }
 },
 "nbformat": 4,
 "nbformat_minor": 4
}
