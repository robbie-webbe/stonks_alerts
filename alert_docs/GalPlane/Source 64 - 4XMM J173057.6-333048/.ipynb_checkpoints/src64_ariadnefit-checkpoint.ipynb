{
 "cells": [
  {
   "cell_type": "code",
   "execution_count": 1,
   "metadata": {},
   "outputs": [
    {
     "name": "stderr",
     "output_type": "stream",
     "text": [
      "Holoviews not imported. Some visualizations will not be available.\n",
      "PyMultiNest not imported.  MultiNest fits will not work.\n",
      "/home/rwebbe/.local/lib/python3.8/site-packages/astroARIADNE/fitter.py:43: UserWarning: (py)MultiNest installation (or libmultinest.dylib) not detected.\n",
      "  warnings.warn(\n"
     ]
    }
   ],
   "source": [
    "from astroARIADNE.star import Star\n",
    "from astroARIADNE.fitter import Fitter\n",
    "from dustmaps.config import config\n",
    "config['data_dir'] = '/home/rwebbe/data/dustmaps'"
   ]
  },
  {
   "cell_type": "code",
   "execution_count": 2,
   "metadata": {
    "scrolled": true
   },
   "outputs": [
    {
     "name": "stdout",
     "output_type": "stream",
     "text": [
      "\n",
      "\t\t#####################################\n",
      "\t\t##             ARIADNE             ##\n",
      "\t\t#####################################\n",
      "   spectrAl eneRgy dIstribution bAyesian moDel averagiNg fittEr\n",
      "\n",
      "\t\t\tAuthor : Jose Vines\n",
      "\t\t\tContact : jose . vines at ug . uchile . cl\n",
      "\t\t\tStar : 4054449990740365696\n",
      "\t\t*** LOOKING UP ARCHIVAL INFORMATION ***\n",
      "INFO: Query finished. [astroquery.utils.tap.core]\n",
      "INFO: Query finished. [astroquery.utils.tap.core]\n",
      "Star not found in catalog TYCHO2.\n",
      "INFO: Query finished. [astroquery.utils.tap.core]\n",
      "Star not found in catalog Pan-STARRS.\n",
      "INFO: Query finished. [astroquery.utils.tap.core]\n",
      "Star not found in catalog SDSS.\n",
      "INFO: Query finished. [astroquery.utils.tap.core]\n",
      "Star not found in catalog Wise.\n",
      "INFO: Query finished. [astroquery.utils.tap.core]\n",
      "INFO: Query finished. [astroquery.utils.tap.core]\n",
      "Looking online for archival magnitudes for star 4054449990740365696\n",
      "Checking catalog APASS\n",
      "Warning!: CatalogWarning\n",
      "Warning message: Star is not available in catalog APASS. Skipping\n",
      "Checking catalog Gaia DR3\n",
      "Checking catalog 2MASS\n",
      "Checking catalog GLIMPSE\n",
      "Warning!: CatalogWarning\n",
      "Warning message: Star is not available in catalog GALEX. Skipping\n",
      "Checking catalog TICv8\n",
      "Checking catalog SkyMapper DR1.1\n",
      "Warning!: CatalogWarning\n",
      "Warning message: uPSF magnitude not found! Skipping.\n",
      "Warning!: CatalogWarning\n",
      "Warning message: vPSF magnitude not found! Skipping.\n",
      "Warning!: CatalogWarning\n",
      "Warning message: iPSF magnitude not found! Skipping.\n",
      "Warning!: CatalogWarning\n",
      "Warning message: zPSF magnitude not found! Skipping.\n",
      "Warning!: CatalogWarning\n",
      "Warning message: Star is not available in catalog STROMGREN_PAUNZ. Skipping\n",
      "Warning!: CatalogWarning\n",
      "Warning message: Star is not available in catalog STROMGREN_HAUCK. Skipping\n",
      "Warning!: CatalogWarning\n",
      "Warning message: Star is not available in catalog MERMILLIOD. Skipping\n",
      "\t\t\tGaia DR3 ID : 4054449990740365696\n",
      "\t\t\tTIC : 163390842\n",
      "\t\t\tGaia Effective temperature : 3994.580 +/- 89.450\n",
      "\t\t\tGaia Stellar radius : 9.423 +/- 2.041\n",
      "\t\t\tGaia Stellar Luminosity : 20.370 +/- 1.233\n",
      "\t\t\tGaia Parallax : 1.351 +/- 0.028\n",
      "\t\t\tBailer-Jones distance : 755.668 +/- 16.947\n",
      "\t\t\tMaximum Av : 32.325\n",
      "\n",
      "\t\t       Filter       \tMagnitude\tUncertainty\n",
      "\t\t--------------------\t---------\t-----------\n",
      "\t\t    SkyMapper_g     \t 12.2050 \t  0.0030   \n",
      "\t\t    GaiaDR2v2_BP    \t 12.2892 \t  0.0126   \n",
      "\t\t    SkyMapper_r     \t 11.3910 \t  0.0030   \n",
      "\t\t    GaiaDR2v2_G     \t 11.3298 \t  0.0042   \n",
      "\t\t    GaiaDR2v2_RP    \t 10.3689 \t  0.0097   \n",
      "\t\t        TESS        \t 10.3858 \t  0.0095   \n",
      "\t\t      2MASS_J       \t 9.0370  \t  0.0260   \n",
      "\t\t      2MASS_H       \t 8.2980  \t  0.0460   \n",
      "\t\t      2MASS_Ks      \t 8.0210  \t  0.0240   \n",
      "\t\t  SPITZER_IRAC_36   \t 7.8140  \t  0.0390   \n",
      "\t\t  SPITZER_IRAC_45   \t 7.8170  \t  0.0360   \n",
      "\n"
     ]
    }
   ],
   "source": [
    "gaia_id = 4054449990740365696\n",
    "ra = 262.7406654\n",
    "dec = -33.5135943\n",
    "starname = str(gaia_id)\n",
    "s = Star(starname, ra, dec, g_id = gaia_id, dustmap='Planck16')"
   ]
  },
  {
   "cell_type": "code",
   "execution_count": 3,
   "metadata": {},
   "outputs": [
    {
     "name": "stdout",
     "output_type": "stream",
     "text": [
      "Created the directory ariadnefit\n",
      "\n",
      "\t\t*** EXECUTING MAIN FITTING ROUTINE ***\n",
      "\t\t\tSelected engine : Bayesian Model Averaging\n",
      "\t\t\tLive points : 500\n",
      "\t\t\tlog Evidence tolerance : 0.5\n",
      "\t\t\tFree parameters : 17\n",
      "\t\t\tBounding : multi\n",
      "\t\t\tSampling : rwalk\n",
      "\t\t\tN threads : 4\n",
      "\n"
     ]
    }
   ],
   "source": [
    "out_folder = 'ariadnefit'\n",
    "\n",
    "engine = 'dynesty'\n",
    "nlive = 500\n",
    "dlogz = 0.5\n",
    "bound = 'multi'\n",
    "sample = 'rwalk'\n",
    "threads = 4\n",
    "dynamic = False\n",
    "setup = [engine, nlive, dlogz, bound, sample, threads, dynamic]\n",
    "\n",
    "models = ['phoenix','btsettl','btnextgen','btcond','kurucz','ck04']\n",
    "f = Fitter()\n",
    "f.star = s\n",
    "f.setup = setup\n",
    "f.av_law = 'fitzpatrick'\n",
    "f.out_folder = out_folder\n",
    "f.bma = True\n",
    "f.models = models\n",
    "f.n_samples = 100000\n",
    "\n",
    "f.prior_setup = {'teff': ('default'),'logg': ('default'),'z': ('default'),'dist': ('default'),'rad': ('default'),'Av': ('default')}\n",
    "f.initialize()\n"
   ]
  },
  {
   "cell_type": "code",
   "execution_count": 4,
   "metadata": {},
   "outputs": [
    {
     "name": "stdout",
     "output_type": "stream",
     "text": [
      "\t\t\tFITTING MODEL : phoenix\n"
     ]
    },
    {
     "name": "stderr",
     "output_type": "stream",
     "text": [
      "10616it [09:56, 17.78it/s, +500 | bound: 119 | nc: 1 | ncall: 238536 | eff(%):  4.670 | loglstar:   -inf < 253.766 <    inf | logz: 233.114 +/-  0.208 | dlogz:  0.001 >  0.500]\n"
     ]
    },
    {
     "name": "stdout",
     "output_type": "stream",
     "text": [
      "\t\t\tFITTING MODEL : btsettl\n"
     ]
    },
    {
     "name": "stderr",
     "output_type": "stream",
     "text": [
      "11446it [13:37, 14.00it/s, +500 | bound: 130 | nc: 1 | ncall: 260212 | eff(%):  4.600 | loglstar:   -inf < 253.227 <    inf | logz: 230.838 +/-    nan | dlogz:  0.001 >  0.500]\n"
     ]
    },
    {
     "name": "stdout",
     "output_type": "stream",
     "text": [
      "\t\t\tFITTING MODEL : btnextgen\n"
     ]
    },
    {
     "name": "stderr",
     "output_type": "stream",
     "text": [
      "11317it [12:06, 15.59it/s, +500 | bound: 129 | nc: 1 | ncall: 258416 | eff(%):  4.582 | loglstar:   -inf < 254.791 <    inf | logz: 232.669 +/-    nan | dlogz:  0.001 >  0.500]\n"
     ]
    },
    {
     "name": "stdout",
     "output_type": "stream",
     "text": [
      "\t\t\tFITTING MODEL : btcond\n"
     ]
    },
    {
     "name": "stderr",
     "output_type": "stream",
     "text": [
      "11341it [12:01, 15.71it/s, +500 | bound: 132 | nc: 1 | ncall: 258628 | eff(%):  4.587 | loglstar:   -inf < 252.085 <    inf | logz: 229.888 +/-    nan | dlogz:  0.001 >  0.500]\n"
     ]
    },
    {
     "name": "stdout",
     "output_type": "stream",
     "text": [
      "\t\t*** AVERAGING POSTERIOR SAMPLES ***\n"
     ]
    },
    {
     "name": "stderr",
     "output_type": "stream",
     "text": [
      "100%|██████████| 21/21 [00:01<00:00, 17.74it/s]\n"
     ]
    },
    {
     "name": "stdout",
     "output_type": "stream",
     "text": [
      "\t\t*** ESTIMATING AGE AND MASS USING MIST ISOCHRONES ***\n"
     ]
    },
    {
     "name": "stderr",
     "output_type": "stream",
     "text": [
      "17650it [02:42, 108.58it/s, +500 | bound: 216 | nc: 1 | ncall: 528391 | eff(%):  3.438 | loglstar:   -inf < -2.984 <    inf | logz: -33.825 +/- 10.748 | dlogz:  0.000 >  0.010] \n"
     ]
    },
    {
     "name": "stdout",
     "output_type": "stream",
     "text": [
      "\n",
      "\t\t\tFitting finished.\n",
      "\t\t\tBest fit parameters are:\n",
      "\t\t\tteff : 4394.9692 + 423.0741 - 199.9986 [3925.7416, 6225.7260]\n",
      "\t\t\tlogg : 4.0576 + 0.4894 - 0.3915 [3.5225, 5.4736]\n",
      "\t\t\t[Fe/H] : -0.3012 + 0.2055 - 0.2097 [-0.8842, 0.3699]\n",
      "\t\t\tdist : 783.0289 + 32.4432 - 15.2077 [757.6827, 909.2532]\n",
      "\t\t\trad : 10.7810 + 0.7232 - 0.8560 [7.8441, 12.2569]\n",
      "\t\t\tAv : 1.0502 + 0.5485 - 0.2209 [0.2656, 2.5432]\n",
      "\t\t\tAngular Diameter : 0.1260 + 0.0099 - 0.0106 [0.0900, 0.1458]\n",
      "\t\t\tGrav mass : 33.9477 + 65.8651 - 18.8186 [10.4244, 796.1012]\n",
      "\t\t\tLuminosity : 39.1860 + 16.9257 - 9.8278 [17.3464, 180.5976]\n",
      "\t\t\tIso mass : 1.0265 + 0.1988 - 0.1312 [0.8436, 2.0326]\n",
      "\t\t\tAge (Gyr) : 12.4150 + 1.0739 - 7.7242 [1.1799, 13.4890]\n",
      "\t\t\tEEP : 524.8506 + 3.0129 - 9.6413 [503.1576, 683.3302]\n",
      "\t\t\tExcess g noise : 0.0688 + 0.0215 - 0.0172 [0.0220, 0.1226]\n",
      "\t\t\tExcess BP noise : 0.0980 + 0.0590 - 0.0404 [0.0079, 0.3175]\n",
      "\t\t\tExcess r noise : 0.0465 + 0.0214 - 0.0166 [0.0080, 0.1029]\n",
      "\t\t\tExcess G noise : 0.0215 + 0.0328 - 0.0108 [0.0017, 0.1307]\n",
      "\t\t\tExcess RP noise : 0.0659 + 0.0440 - 0.0440 [0.0047, 0.2393]\n",
      "\t\t\tExcess TESS noise : 0.0260 + 0.0550 - 0.0178 [0.0007, 0.2230]\n",
      "\t\t\tExcess J noise : 0.1537 + 0.1193 - 0.0988 [0.0014, 0.6167]\n",
      "\t\t\tExcess H noise : 0.1922 + 0.1869 - 0.1393 [0.0087, 1.0249]\n",
      "\t\t\tExcess Ks noise : 0.1471 + 0.1285 - 0.0820 [0.0119, 0.6722]\n",
      "\t\t\tExcess IRAC 36 noise : 0.2584 + 0.2516 - 0.1156 [0.0476, 1.0609]\n",
      "\t\t\tExcess IRAC 45 noise : 0.2104 + 0.1929 - 0.0827 [0.0450, 1.0751]\n",
      "\t\t\tMamajek Spectral Type : K5V\n",
      "\t\t\tphoenix probability : 0.5608\n",
      "\t\t\tbtsettl probability : 0.0576\n",
      "\t\t\tbtnextgen probability : 0.3593\n",
      "\t\t\tbtcond probability : 0.0223\n",
      "\t\t\tElapsed time : 51 minutes and 36.98 seconds\n"
     ]
    }
   ],
   "source": [
    "f.fit_bma()"
   ]
  },
  {
   "cell_type": "code",
   "execution_count": 1,
   "metadata": {},
   "outputs": [
    {
     "name": "stdout",
     "output_type": "stream",
     "text": [
      "L_X / L_Bol:  7.655795437145919e-05 -4.116009679424738\n"
     ]
    }
   ],
   "source": [
    "import numpy as np\n",
    "\n",
    "Lbol_sun = 4 * 10**33\n",
    "L_bol = Lbol_sun * 39.1860\n",
    "L_x = 1.2*10**31\n",
    "\n",
    "print(\"L_X / L_Bol: \",L_x/L_bol,np.log10(L_x/L_bol))"
   ]
  }
 ],
 "metadata": {
  "kernelspec": {
   "display_name": "Python 3 (ipykernel)",
   "language": "python",
   "name": "python3"
  },
  "language_info": {
   "codemirror_mode": {
    "name": "ipython",
    "version": 3
   },
   "file_extension": ".py",
   "mimetype": "text/x-python",
   "name": "python",
   "nbconvert_exporter": "python",
   "pygments_lexer": "ipython3",
   "version": "3.8.10"
  }
 },
 "nbformat": 4,
 "nbformat_minor": 4
}
