{
 "cells": [
  {
   "cell_type": "code",
   "execution_count": 1,
   "metadata": {},
   "outputs": [
    {
     "name": "stderr",
     "output_type": "stream",
     "text": [
      "Holoviews not imported. Some visualizations will not be available.\n",
      "PyMultiNest not imported.  MultiNest fits will not work.\n",
      "/home/rwebbe/.local/lib/python3.8/site-packages/astroARIADNE/fitter.py:43: UserWarning: (py)MultiNest installation (or libmultinest.dylib) not detected.\n",
      "  warnings.warn(\n"
     ]
    }
   ],
   "source": [
    "from astroARIADNE.star import Star\n",
    "from astroARIADNE.fitter import Fitter\n",
    "from dustmaps.config import config\n",
    "config['data_dir'] = '/home/rwebbe/data/dustmaps'"
   ]
  },
  {
   "cell_type": "code",
   "execution_count": 2,
   "metadata": {
    "scrolled": true
   },
   "outputs": [
    {
     "name": "stdout",
     "output_type": "stream",
     "text": [
      "\n",
      "\t\t#####################################\n",
      "\t\t##             ARIADNE             ##\n",
      "\t\t#####################################\n",
      "   spectrAl eneRgy dIstribution bAyesian moDel averagiNg fittEr\n",
      "\n",
      "\t\t\tAuthor : Jose Vines\n",
      "\t\t\tContact : jose . vines at ug . uchile . cl\n",
      "\t\t\tStar : 4057461686227145088\n",
      "\t\t*** LOOKING UP ARCHIVAL INFORMATION ***\n",
      "INFO: Query finished. [astroquery.utils.tap.core]\n",
      "Warning!: CatalogWarning\n",
      "Warning message: Parameter teff not found! Be advised.\n",
      "Warning!: CatalogWarning\n",
      "Warning message: Parameter radius not found! Be advised.\n",
      "Warning!: CatalogWarning\n",
      "Warning message: Parameter lum not found! Be advised.\n",
      "INFO: Query finished. [astroquery.utils.tap.core]\n",
      "Star not found in catalog TYCHO2.\n",
      "INFO: Query finished. [astroquery.utils.tap.core]\n",
      "INFO: Query finished. [astroquery.utils.tap.core]\n",
      "Star not found in catalog SDSS.\n",
      "INFO: Query finished. [astroquery.utils.tap.core]\n",
      "Star not found in catalog Wise.\n",
      "INFO: Query finished. [astroquery.utils.tap.core]\n",
      "INFO: Query finished. [astroquery.utils.tap.core]\n",
      "Star not found in catalog APASS.\n",
      "Looking online for archival magnitudes for star 4057461686227145088\n",
      "Checking catalog Pan-STARRS1\n",
      "Warning!: CatalogWarning\n",
      "Warning message: gmag magnitude error not found, assigning error.\n",
      "Checking catalog Gaia DR3\n",
      "Checking catalog 2MASS\n",
      "Checking catalog GLIMPSE\n",
      "Warning!: CatalogWarning\n",
      "Warning message: Star is not available in catalog GALEX. Skipping\n",
      "Checking catalog TICv8\n",
      "Warning!: CatalogWarning\n",
      "Warning message: Star is not available in catalog SkyMapper. Skipping\n",
      "Warning!: CatalogWarning\n",
      "Warning message: Star is not available in catalog STROMGREN_PAUNZ. Skipping\n",
      "Warning!: CatalogWarning\n",
      "Warning message: Star is not available in catalog STROMGREN_HAUCK. Skipping\n",
      "Warning!: CatalogWarning\n",
      "Warning message: Star is not available in catalog MERMILLIOD. Skipping\n",
      "\t\t\tGaia DR3 ID : 4057461686227145088\n",
      "\t\t\tTIC : 130398087\n",
      "\t\t\tGaia Effective temperature : 0.000 +/- 0.000\n",
      "\t\t\tGaia Stellar radius : 0.000 +/- 0.000\n",
      "\t\t\tGaia Stellar Luminosity : 0.000 +/- 0.000\n",
      "\t\t\tGaia Parallax : 0.112 +/- 0.919\n",
      "\t\t\tBailer-Jones distance : 6109.519 +/- 3385.085\n",
      "\t\t\tMaximum Av : 25.625\n",
      "\n",
      "\t\t       Filter       \tMagnitude\tUncertainty\n",
      "\t\t--------------------\t---------\t-----------\n",
      "\t\t       PS1_g        \t 23.4370 \t  0.0000   \n",
      "\t\t    GaiaDR2v2_BP    \t 21.6771 \t  0.2233   \n",
      "\t\t       PS1_r        \t 21.8862 \t  0.1765   \n",
      "\t\t    GaiaDR2v2_G     \t 19.6017 \t  0.0057   \n",
      "\t\t       PS1_i        \t 19.4326 \t  0.0023   \n",
      "\t\t    GaiaDR2v2_RP    \t 17.7111 \t  0.0125   \n",
      "\t\t        TESS        \t 18.7223 \t  0.0199   \n",
      "\t\t       PS1_z        \t 17.4250 \t  0.0090   \n",
      "\t\t       PS1_y        \t 16.2125 \t  0.0052   \n",
      "\t\t      2MASS_J       \t 13.4240 \t  0.0380   \n",
      "\t\t      2MASS_H       \t 12.0810 \t  0.0480   \n",
      "\t\t      2MASS_Ks      \t 11.3710 \t  0.0430   \n",
      "\t\t  SPITZER_IRAC_36   \t 10.9420 \t  0.0700   \n",
      "\t\t  SPITZER_IRAC_45   \t 10.7290 \t  0.0620   \n",
      "\n"
     ]
    }
   ],
   "source": [
    "gaia_id = 4057461686227145088\n",
    "ra = 267.9033660\n",
    "dec = -27.9828695\n",
    "starname = str(gaia_id)\n",
    "s = Star(starname, ra, dec, g_id = gaia_id, dustmap='Planck16')"
   ]
  },
  {
   "cell_type": "code",
   "execution_count": 3,
   "metadata": {},
   "outputs": [
    {
     "name": "stdout",
     "output_type": "stream",
     "text": [
      "Created the directory ariadnefit\n",
      "\n",
      "\t\t*** EXECUTING MAIN FITTING ROUTINE ***\n",
      "\t\t\tSelected engine : Bayesian Model Averaging\n",
      "\t\t\tLive points : 500\n",
      "\t\t\tlog Evidence tolerance : 0.5\n",
      "\t\t\tFree parameters : 20\n",
      "\t\t\tBounding : multi\n",
      "\t\t\tSampling : rwalk\n",
      "\t\t\tN threads : 4\n",
      "\n"
     ]
    }
   ],
   "source": [
    "out_folder = 'ariadnefit'\n",
    "\n",
    "engine = 'dynesty'\n",
    "nlive = 500\n",
    "dlogz = 0.5\n",
    "bound = 'multi'\n",
    "sample = 'rwalk'\n",
    "threads = 4\n",
    "dynamic = False\n",
    "setup = [engine, nlive, dlogz, bound, sample, threads, dynamic]\n",
    "\n",
    "models = ['phoenix','btsettl','btnextgen','btcond','kurucz','ck04']\n",
    "f = Fitter()\n",
    "f.star = s\n",
    "f.setup = setup\n",
    "f.av_law = 'fitzpatrick'\n",
    "f.out_folder = out_folder\n",
    "f.bma = True\n",
    "f.models = models\n",
    "f.n_samples = 100000\n",
    "\n",
    "f.prior_setup = {'teff': ('default'),'logg': ('default'),'z': ('default'),'dist': ('default'),'rad': ('default'),'Av': ('default')}\n",
    "f.initialize()\n"
   ]
  },
  {
   "cell_type": "code",
   "execution_count": 4,
   "metadata": {},
   "outputs": [
    {
     "name": "stdout",
     "output_type": "stream",
     "text": [
      "\t\t\tFITTING MODEL : phoenix\n"
     ]
    },
    {
     "name": "stderr",
     "output_type": "stream",
     "text": [
      "14750it [07:59, 30.79it/s, +500 | bound: 178 | nc: 1 | ncall: 344123 | eff(%):  4.438 | loglstar:   -inf < 376.899 <    inf | logz: 347.930 +/-  0.239 | dlogz:  0.001 >  0.500]\n"
     ]
    },
    {
     "name": "stdout",
     "output_type": "stream",
     "text": [
      "\t\t\tFITTING MODEL : btsettl\n"
     ]
    },
    {
     "name": "stderr",
     "output_type": "stream",
     "text": [
      "16229it [08:38, 31.32it/s, +500 | bound: 196 | nc: 1 | ncall: 381620 | eff(%):  4.389 | loglstar:   -inf < 377.670 <    inf | logz: 345.702 +/-    nan | dlogz:  0.001 >  0.500]\n"
     ]
    },
    {
     "name": "stdout",
     "output_type": "stream",
     "text": [
      "\t\t\tFITTING MODEL : btnextgen\n"
     ]
    },
    {
     "name": "stderr",
     "output_type": "stream",
     "text": [
      "15013it [08:08, 30.74it/s, +500 | bound: 178 | nc: 1 | ncall: 349782 | eff(%):  4.441 | loglstar:   -inf < 376.403 <    inf | logz: 346.890 +/-    nan | dlogz:  0.001 >  0.500]\n"
     ]
    },
    {
     "name": "stdout",
     "output_type": "stream",
     "text": [
      "\t\t\tFITTING MODEL : btcond\n"
     ]
    },
    {
     "name": "stderr",
     "output_type": "stream",
     "text": [
      "15375it [08:10, 31.36it/s, +500 | bound: 183 | nc: 1 | ncall: 359211 | eff(%):  4.426 | loglstar:   -inf < 375.315 <    inf | logz: 345.046 +/-    nan | dlogz:  0.001 >  0.500]\n"
     ]
    },
    {
     "name": "stdout",
     "output_type": "stream",
     "text": [
      "\t\t*** AVERAGING POSTERIOR SAMPLES ***\n"
     ]
    },
    {
     "name": "stderr",
     "output_type": "stream",
     "text": [
      "100%|██████████| 24/24 [00:00<00:00, 31.26it/s]\n"
     ]
    },
    {
     "name": "stdout",
     "output_type": "stream",
     "text": [
      "\t\t*** ESTIMATING AGE AND MASS USING MIST ISOCHRONES ***\n"
     ]
    },
    {
     "name": "stderr",
     "output_type": "stream",
     "text": [
      "12901it [01:12, 177.94it/s, +500 | bound: 152 | nc: 1 | ncall: 376624 | eff(%):  3.563 | loglstar:   -inf < -34.815 <    inf | logz: -56.170 +/-  9.997 | dlogz:  0.000 >  0.010]\n"
     ]
    },
    {
     "name": "stdout",
     "output_type": "stream",
     "text": [
      "\n",
      "\t\t\tFitting finished.\n",
      "\t\t\tBest fit parameters are:\n",
      "\t\t\tteff : 4306.8076 + 1810.3974 - 283.1907 [3831.4518, 6845.4095]\n",
      "\t\t\tlogg : 4.6679 + 0.3759 - 0.4749 [3.6983, 5.6638]\n",
      "\t\t\t[Fe/H] : 0.0395 + 0.1697 - 0.1409 [-0.4056, 0.5488]\n",
      "\t\t\tdist : 12288.8329 + 1951.5472 - 1951.5472 [7324.3707, 17527.1965]\n",
      "\t\t\trad : 70.6298 + 10.2205 - 11.9561 [37.0756, 94.7349]\n",
      "\t\t\tAv : 12.0396 + 2.3553 - 0.6492 [10.4996, 14.9988]\n",
      "\t\t\tAngular Diameter : 0.0518 + 0.0133 - 0.0107 [0.0257, 0.1022]\n",
      "\t\t\tGrav mass : 4838.2828 + 9928.3027 - 3202.6783 [674.8010, 90990.3291]\n",
      "\t\t\tLuminosity : 1495.0608 + 4416.8154 - 704.8110 [414.3507, 14463.5826]\n",
      "\t\t\tIso mass : 1.0147 + 0.3298 - 0.2474 [0.4685, 3.1070]\n",
      "\t\t\tAge (Gyr) : 0.3159 + 7.6235 - 0.3158 [0.0001, 13.4428]\n",
      "\t\t\tEEP : 340.7951 + 124.4765 - 167.4775 [71.4731, 748.1728]\n",
      "\t\t\tExcess PS1_g noise : 1.9167 + 1.0428 - 0.8824 [0.4327, 6.4289]\n",
      "\t\t\tExcess BP noise : 0.9918 + 0.5467 - 0.3771 [0.2943, 5.9314]\n",
      "\t\t\tExcess PS1_r noise : 0.7114 + 0.5846 - 0.3485 [0.1156, 3.4771]\n",
      "\t\t\tExcess G noise : 0.2307 + 0.0369 - 0.0326 [0.1612, 0.3444]\n",
      "\t\t\tExcess PS1_i noise : 0.0198 + 0.0122 - 0.0094 [0.0053, 0.0741]\n",
      "\t\t\tExcess RP noise : 0.2347 + 0.0620 - 0.0389 [0.1485, 0.4627]\n",
      "\t\t\tExcess TESS noise : 0.1602 + 0.0487 - 0.0345 [0.0896, 0.5590]\n",
      "\t\t\tExcess PS1_z noise : 0.1058 + 0.0359 - 0.0247 [0.0508, 0.2894]\n",
      "\t\t\tExcess PS1_y noise : 0.0903 + 0.0630 - 0.0165 [0.0546, 0.2449]\n",
      "\t\t\tExcess J noise : 0.3230 + 0.2650 - 0.1201 [0.0704, 1.3085]\n",
      "\t\t\tExcess H noise : 0.3456 + 0.1414 - 0.1028 [0.0725, 1.0332]\n",
      "\t\t\tExcess Ks noise : 0.2447 + 0.1505 - 0.1575 [0.0154, 0.7078]\n",
      "\t\t\tExcess IRAC 36 noise : 0.6304 + 0.2388 - 0.2104 [0.0845, 1.7847]\n",
      "\t\t\tExcess IRAC 45 noise : 0.5076 + 0.2075 - 0.1452 [0.1497, 1.7005]\n",
      "\t\t\tMamajek Spectral Type : K5.5V\n",
      "\t\t\tphoenix probability : 0.6590\n",
      "\t\t\tbtsettl probability : 0.0710\n",
      "\t\t\tbtnextgen probability : 0.2331\n",
      "\t\t\tbtcond probability : 0.0369\n",
      "\t\t\tElapsed time : 34 minutes and 59.65 seconds\n"
     ]
    }
   ],
   "source": [
    "f.fit_bma()"
   ]
  },
  {
   "cell_type": "code",
   "execution_count": 6,
   "metadata": {},
   "outputs": [
    {
     "ename": "SyntaxError",
     "evalue": "invalid syntax (<ipython-input-6-fb777fba7a03>, line 5)",
     "output_type": "error",
     "traceback": [
      "\u001b[0;36m  File \u001b[0;32m\"<ipython-input-6-fb777fba7a03>\"\u001b[0;36m, line \u001b[0;32m5\u001b[0m\n\u001b[0;31m    L_x =\u001b[0m\n\u001b[0m          ^\u001b[0m\n\u001b[0;31mSyntaxError\u001b[0m\u001b[0;31m:\u001b[0m invalid syntax\n"
     ]
    }
   ],
   "source": [
    "import numpy as np\n",
    "\n",
    "Lbol_sun = 4 * 10**33\n",
    "L_bol = Lbol_sun * 4.7542\n",
    "L_x = \n",
    "\n",
    "print(\"L_X / L_Bol: \",L_x/L_bol,np.log10(L_x/L_bol))"
   ]
  }
 ],
 "metadata": {
  "kernelspec": {
   "display_name": "Python 3 (ipykernel)",
   "language": "python",
   "name": "python3"
  },
  "language_info": {
   "codemirror_mode": {
    "name": "ipython",
    "version": 3
   },
   "file_extension": ".py",
   "mimetype": "text/x-python",
   "name": "python",
   "nbconvert_exporter": "python",
   "pygments_lexer": "ipython3",
   "version": "3.8.10"
  }
 },
 "nbformat": 4,
 "nbformat_minor": 4
}
