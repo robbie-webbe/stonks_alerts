{
 "cells": [
  {
   "cell_type": "code",
   "execution_count": 1,
   "metadata": {},
   "outputs": [
    {
     "name": "stderr",
     "output_type": "stream",
     "text": [
      "Holoviews not imported. Some visualizations will not be available.\n",
      "PyMultiNest not imported.  MultiNest fits will not work.\n",
      "/home/rwebbe/.local/lib/python3.8/site-packages/astroARIADNE/fitter.py:43: UserWarning: (py)MultiNest installation (or libmultinest.dylib) not detected.\n",
      "  warnings.warn(\n"
     ]
    }
   ],
   "source": [
    "from astroARIADNE.star import Star\n",
    "from astroARIADNE.fitter import Fitter\n",
    "from dustmaps.config import config\n",
    "config['data_dir'] = '/home/rwebbe/data/dustmaps'"
   ]
  },
  {
   "cell_type": "code",
   "execution_count": 2,
   "metadata": {
    "scrolled": true
   },
   "outputs": [
    {
     "name": "stdout",
     "output_type": "stream",
     "text": [
      "\n",
      "\t\t#####################################\n",
      "\t\t##             ARIADNE             ##\n",
      "\t\t#####################################\n",
      "   spectrAl eneRgy dIstribution bAyesian moDel averagiNg fittEr\n",
      "\n",
      "\t\t\tAuthor : Jose Vines\n",
      "\t\t\tContact : jose . vines at ug . uchile . cl\n",
      "\t\t\tStar : 4055913612499475072\n",
      "\t\t*** LOOKING UP ARCHIVAL INFORMATION ***\n",
      "INFO: Query finished. [astroquery.utils.tap.core]\n",
      "Warning!: CatalogWarning\n",
      "Warning message: Parameter teff not found! Be advised.\n",
      "Warning!: CatalogWarning\n",
      "Warning message: Parameter radius not found! Be advised.\n",
      "Warning!: CatalogWarning\n",
      "Warning message: Parameter lum not found! Be advised.\n",
      "INFO: Query finished. [astroquery.utils.tap.core]\n",
      "Star not found in catalog TYCHO2.\n",
      "INFO: Query finished. [astroquery.utils.tap.core]\n",
      "INFO: Query finished. [astroquery.utils.tap.core]\n",
      "Star not found in catalog SDSS.\n",
      "INFO: Query finished. [astroquery.utils.tap.core]\n",
      "Star not found in catalog Wise.\n",
      "INFO: Query finished. [astroquery.utils.tap.core]\n",
      "Star not found in catalog 2MASS.\n",
      "INFO: Query finished. [astroquery.utils.tap.core]\n",
      "Star not found in catalog APASS.\n",
      "Looking online for archival magnitudes for star 4055913612499475072\n",
      "Checking catalog Pan-STARRS1\n",
      "Warning!: CatalogWarning\n",
      "Warning message: gmag magnitude not found! Skipping.\n",
      "Warning!: CatalogWarning\n",
      "Warning message: rmag magnitude not found! Skipping.\n",
      "Checking catalog Gaia DR3\n",
      "Warning!: CatalogWarning\n",
      "Warning message: Star is not available in catalog GALEX. Skipping\n",
      "Checking catalog TICv8\n",
      "Checking catalog SkyMapper DR1.1\n",
      "Warning!: CatalogWarning\n",
      "Warning message: Catalog SkyMapper entry is either an extended source, is of bad quality or is contaminated. Skipping.\n",
      "Warning!: CatalogWarning\n",
      "Warning message: Star is not available in catalog STROMGREN_PAUNZ. Skipping\n",
      "Warning!: CatalogWarning\n",
      "Warning message: Star is not available in catalog STROMGREN_HAUCK. Skipping\n",
      "Warning!: CatalogWarning\n",
      "Warning message: Star is not available in catalog MERMILLIOD. Skipping\n",
      "\t\t\tGaia DR3 ID : 4055913612499475072\n",
      "\t\t\tTIC : 1423953275\n",
      "\t\t\tGaia Effective temperature : 0.000 +/- 0.000\n",
      "\t\t\tGaia Stellar radius : 0.000 +/- 0.000\n",
      "\t\t\tGaia Stellar Luminosity : 0.000 +/- 0.000\n",
      "\t\t\tGaia Parallax : 1.287 +/- 1.035\n",
      "\t\t\tBailer-Jones distance : 4391.351 +/- 2305.535\n",
      "\t\t\tMaximum Av : 19.681\n",
      "\n",
      "\t\t       Filter       \tMagnitude\tUncertainty\n",
      "\t\t--------------------\t---------\t-----------\n",
      "\t\t    GaiaDR2v2_BP    \t 21.1127 \t  0.1381   \n",
      "\t\t    GaiaDR2v2_G     \t 20.4643 \t  0.0074   \n",
      "\t\t       PS1_i        \t 19.8421 \t  0.0397   \n",
      "\t\t    GaiaDR2v2_RP    \t 18.9873 \t  0.0541   \n",
      "\t\t        TESS        \t 19.4604 \t  0.0343   \n",
      "\t\t       PS1_z        \t 18.7474 \t  0.0342   \n",
      "\t\t       PS1_y        \t 18.0395 \t  0.0926   \n",
      "\n"
     ]
    }
   ],
   "source": [
    "gaia_id = 4055913612499475072\n",
    "ra = 266.479407\n",
    "dec = -30.711743\n",
    "starname = str(gaia_id)\n",
    "s = Star(starname, ra, dec, g_id = gaia_id, dustmap='Planck16')"
   ]
  },
  {
   "cell_type": "code",
   "execution_count": 3,
   "metadata": {},
   "outputs": [
    {
     "name": "stdout",
     "output_type": "stream",
     "text": [
      "Created the directory ariadnefit\n",
      "\n",
      "\t\t*** EXECUTING MAIN FITTING ROUTINE ***\n",
      "\t\t\tSelected engine : Bayesian Model Averaging\n",
      "\t\t\tLive points : 500\n",
      "\t\t\tlog Evidence tolerance : 0.5\n",
      "\t\t\tFree parameters : 13\n",
      "\t\t\tBounding : multi\n",
      "\t\t\tSampling : rwalk\n",
      "\t\t\tN threads : 4\n",
      "\n"
     ]
    }
   ],
   "source": [
    "out_folder = 'ariadnefit'\n",
    "\n",
    "engine = 'dynesty'\n",
    "nlive = 500\n",
    "dlogz = 0.5\n",
    "bound = 'multi'\n",
    "sample = 'rwalk'\n",
    "threads = 4\n",
    "dynamic = False\n",
    "setup = [engine, nlive, dlogz, bound, sample, threads, dynamic]\n",
    "\n",
    "models = ['phoenix','btsettl','btnextgen','btcond','kurucz','ck04']\n",
    "f = Fitter()\n",
    "f.star = s\n",
    "f.setup = setup\n",
    "f.av_law = 'fitzpatrick'\n",
    "f.out_folder = out_folder\n",
    "f.bma = True\n",
    "f.models = models\n",
    "f.n_samples = 100000\n",
    "\n",
    "f.prior_setup = {'teff': ('default'),'logg': ('default'),'z': ('default'),'dist': ('default'),'rad': ('default'),'Av': ('default')}\n",
    "f.initialize()\n"
   ]
  },
  {
   "cell_type": "code",
   "execution_count": 4,
   "metadata": {},
   "outputs": [
    {
     "name": "stdout",
     "output_type": "stream",
     "text": [
      "\t\t\tFITTING MODEL : phoenix\n"
     ]
    },
    {
     "name": "stderr",
     "output_type": "stream",
     "text": [
      "6841it [02:16, 50.20it/s, +500 | bound: 70 | nc: 1 | ncall: 145314 | eff(%):  5.069 | loglstar:   -inf < 205.277 <    inf | logz: 192.165 +/-  0.162 | dlogz:  0.001 >  0.500] \n"
     ]
    },
    {
     "name": "stdout",
     "output_type": "stream",
     "text": [
      "\t\t\tFITTING MODEL : btsettl\n"
     ]
    },
    {
     "name": "stderr",
     "output_type": "stream",
     "text": [
      "6304it [02:09, 48.82it/s, +500 | bound: 62 | nc: 1 | ncall: 131021 | eff(%):  5.213 | loglstar:   -inf < 204.077 <    inf | logz: 192.048 +/-    nan | dlogz:  0.001 >  0.500]  \n"
     ]
    },
    {
     "name": "stdout",
     "output_type": "stream",
     "text": [
      "\t\t\tFITTING MODEL : btnextgen\n"
     ]
    },
    {
     "name": "stderr",
     "output_type": "stream",
     "text": [
      "6654it [02:26, 45.56it/s, +500 | bound: 65 | nc: 1 | ncall: 139406 | eff(%):  5.150 | loglstar:   -inf < 205.178 <    inf | logz: 192.436 +/-    nan | dlogz:  0.001 >  0.500]  \n"
     ]
    },
    {
     "name": "stdout",
     "output_type": "stream",
     "text": [
      "\t\t\tFITTING MODEL : btcond\n"
     ]
    },
    {
     "name": "stderr",
     "output_type": "stream",
     "text": [
      "6854it [02:17, 49.71it/s, +500 | bound: 70 | nc: 1 | ncall: 145274 | eff(%):  5.080 | loglstar:   -inf < 205.952 <    inf | logz: 192.772 +/-    nan | dlogz:  0.001 >  0.500]  \n"
     ]
    },
    {
     "name": "stdout",
     "output_type": "stream",
     "text": [
      "\t\t*** AVERAGING POSTERIOR SAMPLES ***\n"
     ]
    },
    {
     "name": "stderr",
     "output_type": "stream",
     "text": [
      "100%|██████████| 17/17 [00:00<00:00, 35.67it/s]\n"
     ]
    },
    {
     "name": "stdout",
     "output_type": "stream",
     "text": [
      "HDR failed for parameter grav_mass, reverting to regular CI calculation. Be sure to check the histograms afterwards for diagnosis.\n",
      "\t\t*** ESTIMATING AGE AND MASS USING MIST ISOCHRONES ***\n"
     ]
    },
    {
     "name": "stderr",
     "output_type": "stream",
     "text": [
      "10114it [00:48, 208.45it/s, +500 | bound: 134 | nc: 1 | ncall: 292892 | eff(%):  3.630 | loglstar:   -inf < -11.225 <    inf | logz: -28.054 +/-    nan | dlogz:  0.000 >  0.010] \n"
     ]
    },
    {
     "name": "stdout",
     "output_type": "stream",
     "text": [
      "\n",
      "\t\t\tFitting finished.\n",
      "\t\t\tBest fit parameters are:\n",
      "\t\t\tteff : 5385.4758 + 688.3877 - 838.0372 [3898.9575, 6871.9942]\n",
      "\t\t\tlogg : 4.4874 + 0.4630 - 0.4567 [3.5930, 5.4833]\n",
      "\t\t\t[Fe/H] : -0.1039 + 0.1753 - 0.1850 [-0.6233, 0.3474]\n",
      "\t\t\tdist : 10978.4040 + 3235.7768 - 3030.3307 [5328.6350, 20685.7345]\n",
      "\t\t\trad : 2.8564 + 1.6742 - 0.9530 [1.3883, 9.0640]\n",
      "\t\t\tAv : 3.0698 + 0.9014 - 0.9348 [1.0332, 6.0245]\n",
      "\t\t\tAngular Diameter : 0.0024 + 0.0017 - 0.0009 [0.0009, 0.0099]\n",
      "\t\t\tGrav mass : 5.8878 + 18.7678 - 4.0217 [0.5256, 204.2903]\n",
      "\t\t\tLuminosity : 4.7542 + 9.2995 - 2.9998 [0.5545, 73.7503]\n",
      "\t\t\tIso mass : 0.7552 + 0.2426 - 0.1365 [0.5075, 1.2632]\n",
      "\t\t\tAge (Gyr) : 1.3994 + 10.8250 - 1.1276 [0.0012, 13.4422]\n",
      "\t\t\tEEP : 342.7815 + 32.9595 - 54.2237 [119.5076, 436.3439]\n",
      "\t\t\tExcess BP noise : 0.7140 + 0.6066 - 0.3507 [0.1168, 2.9509]\n",
      "\t\t\tExcess G noise : 0.0622 + 0.0407 - 0.0305 [0.0113, 0.1897]\n",
      "\t\t\tExcess PS1_i noise : 0.3303 + 0.1589 - 0.1324 [0.0536, 0.9336]\n",
      "\t\t\tExcess RP noise : 0.2726 + 0.2289 - 0.1178 [0.0235, 1.0299]\n",
      "\t\t\tExcess TESS noise : 0.2401 + 0.1805 - 0.1523 [0.0060, 0.8493]\n",
      "\t\t\tExcess PS1_z noise : 0.3110 + 0.1390 - 0.1172 [0.0194, 0.8344]\n",
      "\t\t\tExcess PS1_y noise : 0.8704 + 0.4265 - 0.3859 [0.2137, 2.2380]\n",
      "\t\t\tMamajek Spectral Type : G9V\n",
      "\t\t\tphoenix probability : 0.1986\n",
      "\t\t\tbtsettl probability : 0.1767\n",
      "\t\t\tbtnextgen probability : 0.2604\n",
      "\t\t\tbtcond probability : 0.3643\n",
      "\t\t\tElapsed time : 10 minutes and 33.28 seconds\n"
     ]
    }
   ],
   "source": [
    "f.fit_bma()"
   ]
  },
  {
   "cell_type": "code",
   "execution_count": 3,
   "metadata": {},
   "outputs": [
    {
     "name": "stdout",
     "output_type": "stream",
     "text": [
      "L_X / L_Bol:  0.0003418030373143747 -3.4662240823905544\n"
     ]
    }
   ],
   "source": [
    "import numpy as np\n",
    "\n",
    "Lbol_sun = 4 * 10**33\n",
    "L_bol = Lbol_sun * 4.7542\n",
    "L_x = 6.5*10**30\n",
    "\n",
    "print(\"L_X / L_Bol: \",L_x/L_bol,np.log10(L_x/L_bol))"
   ]
  }
 ],
 "metadata": {
  "kernelspec": {
   "display_name": "Python 3 (ipykernel)",
   "language": "python",
   "name": "python3"
  },
  "language_info": {
   "codemirror_mode": {
    "name": "ipython",
    "version": 3
   },
   "file_extension": ".py",
   "mimetype": "text/x-python",
   "name": "python",
   "nbconvert_exporter": "python",
   "pygments_lexer": "ipython3",
   "version": "3.8.10"
  }
 },
 "nbformat": 4,
 "nbformat_minor": 4
}
