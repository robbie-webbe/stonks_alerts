{
 "cells": [
  {
   "cell_type": "code",
   "execution_count": 1,
   "metadata": {},
   "outputs": [],
   "source": [
    "%load_ext wurlitzer\n",
    "import glob\n",
    "import os\n",
    "from xspec import *\n",
    "from stingray import Lightcurve\n",
    "from astropy.io import fits\n",
    "import matplotlib.pyplot as plt\n",
    "plt.rcParams['figure.figsize'] = [12,8]\n",
    "os.chdir('pps/')\n",
    "\n",
    "Fit.statMethod = \"chi\"\n",
    "Fit.nIterations = 100000\n",
    "Fit.delta = 1e-4\n",
    "Fit.criticalDelta = 1e-4"
   ]
  },
  {
   "cell_type": "code",
   "execution_count": 2,
   "metadata": {},
   "outputs": [],
   "source": [
    "import numpy as np\n",
    "out_arr = np.full((4,19),-np.inf,dtype=object)"
   ]
  },
  {
   "cell_type": "code",
   "execution_count": 3,
   "metadata": {},
   "outputs": [
    {
     "name": "stdout",
     "output_type": "stream",
     "text": [
      "***Warning: Detected response matrix energy bin value = 0 (or neg).\n",
      "     XSPEC will instead use small finite value (response file will not be altered).\n",
      "\n",
      "1 spectrum  in use\n",
      " \n",
      "Spectral Data File: P0932191101M2S002SRSPEC0001.FTZ  Spectrum 1\n",
      "Net count rate (cts/s) for Spectrum:1  1.336e-02 +/- 1.232e-03 (88.0 % total)\n",
      " Assigned to Data Group 1 and Plot Group 1\n",
      "  Noticed Channels:  1-7\n",
      "  Telescope: XMM Instrument: EMOS2  Channel Type: PI\n",
      "  Exposure Time: 1.002e+04 sec\n",
      " Using fit statistic: chi\n",
      " Using Background File                P0932191101M2S002BGSPEC0001.FTZ\n",
      "  Background Exposure Time: 1.002e+04 sec\n",
      " Using Response (RMF) File            m2_e13_im_pall_o.rmf for Source 1\n",
      " Using Auxiliary Response (ARF) File  P0932191101M2S002SRCARF0001.FTZ\n",
      "\n"
     ]
    },
    {
     "data": {
      "image/svg+xml": [
       "<svg xmlns=\"http://www.w3.org/2000/svg\" xmlns:xlink=\"http://www.w3.org/1999/xlink\" style=\"fill-rule: nonzero; stroke-linecap: round; stroke-linejoin: round; transform: scale(1,-1);\" version=\"1.1\" viewbox=\"          225.691238            27.140120          7374.125488          5618.850098\" width=\"100%\" height=\"100%\" preserveAspectRatio=\"xMidYMid\">\n",
       "<style>\n",
       "  .fn { font-family: Arial,Helvetica,sans-serif; }\n",
       "  .fN { font-family: Arial,Helvetica,sans-serif; font-weight: bold;}\n",
       "  .fr { font-family: Times,Times-Roman,Times New Roman,serif; }\n",
       "  .fR { font-family: Times,Times-Roman,Times New Roman,serif; font-weight: bold;}\n",
       "  .fi { font-family: Times,Times-Roman,Times New Roman,serif; font-style: italic;}\n",
       "  .fI { font-family: Times,Times-Roman,Times New Roman,serif; font-style: italic; font-weight: bold;}\n",
       "  .fs { font-family: Zapf-Chancery,Apple Chancery,URW Chancery L,cursive;}\n",
       "  .fS { font-family: Zapf-Chancery,Apple Chancery,URW Chancery L,cursive;font-weight:bold}\n",
       "  .fc { font-family: Arial Narrow,Helvetica Narrow,Arial,Helvetica,sans-serif;}\n",
       "  .fC { font-family: Arial Narrow,Helvetica Narrow,Arial,Helvetica,sans-serif; font-weight:bold;}\n",
       "</style>\n",
       "<g style=\"color: rgb(0, 0, 0); fill: currentColor; stroke: currentColor; stroke-width: 8\">\n",
       "\n",
       "<path fill=\"none\" d=\"M 742 576 l 5935 0 l 0 4607 l -5935 0 l 0 -4607 M 920 576 l 0 33 M 1298 576 l 0 33 M 1607 576 l 0 33  M 1867 576 l 0 33 M 2093 576 l 0 33 M 2293 576 l 0 33 M 2471 576 l 0 66 M 3644 576 l 0 33 M 4331 576 l 0 33  M 4818 576 l 0 33 M 5195 576 l 0 33 M 5504 576 l 0 33 M 5765 576 l 0 33 M 5991 576 l 0 33 M 6190 576 l 0 33  M 6369 576 l 0 66 M 920 5150 l 0 33 M 1298 5150 l 0 33 M 1607 5150 l 0 33 M 1867 5150 l 0 33 M 2093 5150 l 0 33  M 2293 5150 l 0 33 M 2471 5117 l 0 66 M 3644 5150 l 0 33 M 4331 5150 l 0 33 M 4818 5150 l 0 33 M 5195 5150 l 0 33  M 5504 5150 l 0 33 M 5765 5150 l 0 33 M 5991 5150 l 0 33 M 6190 5150 l 0 33 M 6369 5117 l 0 66 \"/>\n",
       "<text transform=\"translate(2426,403) scale(1,-1)\"><tspan class=\"fn\" style=\"font-size: 886%;\">1</tspan></text>\n",
       "<text transform=\"translate(6279,403) scale(1,-1)\"><tspan class=\"fn\" style=\"font-size: 886%;\">10</tspan></text>\n",
       "<text transform=\"translate(1186,403) scale(1,-1)\"><tspan class=\"fn\" style=\"font-size: 886%;\">0.5</tspan></text>\n",
       "<text transform=\"translate(3600,403) scale(1,-1)\"><tspan class=\"fn\" style=\"font-size: 886%;\">2</tspan></text>\n",
       "<text transform=\"translate(5150,403) scale(1,-1)\"><tspan class=\"fn\" style=\"font-size: 886%;\">5</tspan></text>\n",
       "\n",
       "<path fill=\"none\" d=\"M 742 576 l 66 0 M 742 951 l 33 0 M 742 1170 l 33 0 M 742 1326 l 33 0 M 742 1446 l 33 0 M 742 1545 l 33 0  M 742 1629 l 33 0 M 742 1701 l 33 0 M 742 1764 l 33 0 M 742 1821 l 66 0 M 742 2196 l 33 0 M 742 2416 l 33 0  M 742 2571 l 33 0 M 742 2692 l 33 0 M 742 2791 l 33 0 M 742 2874 l 33 0 M 742 2946 l 33 0 M 742 3010 l 33 0  M 742 3067 l 66 0 M 742 3442 l 33 0 M 742 3661 l 33 0 M 742 3817 l 33 0 M 742 3938 l 33 0 M 742 4036 l 33 0  M 742 4120 l 33 0 M 742 4192 l 33 0 M 742 4256 l 33 0 M 742 4313 l 66 0 M 742 4687 l 33 0 M 742 4907 l 33 0  M 742 5062 l 33 0 M 6611 576 l 66 0 M 6644 951 l 33 0 M 6644 1170 l 33 0 M 6644 1326 l 33 0 M 6644 1446 l 33 0  M 6644 1545 l 33 0 M 6644 1629 l 33 0 M 6644 1701 l 33 0 M 6644 1764 l 33 0 M 6611 1821 l 66 0 M 6644 2196 l 33 0  M 6644 2416 l 33 0 M 6644 2571 l 33 0 M 6644 2692 l 33 0 M 6644 2791 l 33 0 M 6644 2874 l 33 0 M 6644 2946 l 33 0  M 6644 3010 l 33 0 M 6611 3067 l 66 0 M 6644 3442 l 33 0 M 6644 3661 l 33 0 M 6644 3817 l 33 0 M 6644 3938 l 33 0  M 6644 4036 l 33 0 M 6644 4120 l 33 0 M 6644 4192 l 33 0 M 6644 4256 l 33 0 M 6611 4313 l 66 0 M 6644 4687 l 33 0  M 6644 4907 l 33 0 M 6644 5062 l 33 0 \"/>\n",
       "<text transform=\"translate(641,432) scale(1,-1) rotate(-90)\"><tspan class=\"fn\" style=\"font-size: 886%;\">10<tspan style=\"font-size: 60%;\" dy=\"-0.6em\">−5<tspan style=\"font-size: 166.667%;\" dy=\"+0.36em\"/></tspan></tspan></text>\n",
       "<text transform=\"translate(641,1678) scale(1,-1) rotate(-90)\"><tspan class=\"fn\" style=\"font-size: 886%;\">10<tspan style=\"font-size: 60%;\" dy=\"-0.6em\">−4<tspan style=\"font-size: 166.667%;\" dy=\"+0.36em\"/></tspan></tspan></text>\n",
       "<text transform=\"translate(641,2923) scale(1,-1) rotate(-90)\"><tspan class=\"fn\" style=\"font-size: 886%;\">10<tspan style=\"font-size: 60%;\" dy=\"-0.6em\">−3<tspan style=\"font-size: 166.667%;\" dy=\"+0.36em\"/></tspan></tspan></text>\n",
       "<text transform=\"translate(641,4157) scale(1,-1) rotate(-90)\"><tspan class=\"fn\" style=\"font-size: 886%;\">0.01</tspan></text>\n",
       "</g>\n",
       "<g style=\"color: rgb(0, 0, 0); fill: currentColor; stroke: currentColor; stroke-width: 4\">\n",
       "<defs>\n",
       "<symbol id=\"M1\" overflow=\"visible\">\n",
       "<circle r=\"1\" fill=\"none\" stroke-width=\"1\"/>\n",
       "</symbol>\n",
       "</defs>\n",
       "<use xlink:href=\"#M1\" transform=\"translate(1512, 3890) scale(4.430)\"/>\n",
       "\n",
       "<path fill=\"none\" d=\"M 742 3890 l 1298 0 M 1512 3745 l 0 259 \"/>\n",
       "<use xlink:href=\"#M1\" transform=\"translate(2196, 4513) scale(4.430)\"/>\n",
       "\n",
       "<path fill=\"none\" d=\"M 2040 4513 l 299 0 M 2196 4382 l 0 237 \"/>\n",
       "<use xlink:href=\"#M1\" transform=\"translate(2437, 4625) scale(4.430)\"/>\n",
       "\n",
       "<path fill=\"none\" d=\"M 2339 4625 l 190 0 M 2437 4485 l 0 251 \"/>\n",
       "<use xlink:href=\"#M1\" transform=\"translate(2755, 4078) scale(4.430)\"/>\n",
       "\n",
       "<path fill=\"none\" d=\"M 2529 4078 l 425 0 M 2755 3934 l 0 258 \"/>\n",
       "<use xlink:href=\"#M1\" transform=\"translate(3129, 4049) scale(4.430)\"/>\n",
       "\n",
       "<path fill=\"none\" d=\"M 2954 4049 l 334 0 M 3129 3893 l 0 277 \"/>\n",
       "<use xlink:href=\"#M1\" transform=\"translate(3604, 3604) scale(4.430)\"/>\n",
       "\n",
       "<path fill=\"none\" d=\"M 3288 3604 l 582 0 M 3604 3449 l 0 275 \"/>\n",
       "<use xlink:href=\"#M1\" transform=\"translate(5799, 2164) scale(4.430)\"/>\n",
       "\n",
       "<path fill=\"none\" d=\"M 3870 2164 l 2807 0 M 5799 1972 l 0 334 \"/>\n",
       "</g>\n",
       "<g style=\"color: rgb(0, 0, 0); fill: currentColor; stroke: currentColor; stroke-width: 8\">\n",
       "<text transform=\"translate(370,2317) scale(1,-1) rotate(-90)\"><tspan class=\"fn\" style=\"font-size: 886%;\">counts s<tspan style=\"font-size: 60%;\" dy=\"-0.6em\">−1<tspan style=\"font-size: 166.667%;\" dy=\"+0.36em\"> keV<tspan style=\"font-size: 60%;\" dy=\"-0.6em\">−1<tspan style=\"font-size: 166.667%;\" dy=\"+0.36em\"/></tspan></tspan></tspan></tspan></text>\n",
       "<text transform=\"translate(3255,215) scale(1,-1)\"><tspan class=\"fn\" style=\"font-size: 886%;\">Energy (keV)</tspan></text>\n",
       "<text transform=\"translate(3534,5442) scale(1,-1)\"><tspan class=\"fn\" style=\"font-size: 886%;\"><tspan class=\"fR\">data</tspan></tspan></text>\n",
       "</g>\n",
       "<g style=\"color: rgb(0, 0, 0); fill: currentColor; stroke: currentColor; stroke-width: 4\">\n",
       "<text transform=\"translate(6246,46) scale(1,-1)\"><tspan class=\"fn\" style=\"font-size: 531.6%;\">rwebbe  3−Sep−2025 11:37</tspan></text>\n",
       "</g>\n",
       "<!-- _PGPLOT_SVG_ATEND: viewbox=\"          225.691238            27.140120          7374.125488          5618.850098\" -->\n",
       "</svg>"
      ],
      "text/plain": [
       "<IPython.core.display.SVG object>"
      ]
     },
     "metadata": {},
     "output_type": "display_data"
    }
   ],
   "source": [
    "spec_fnames = glob.glob('P*M2S*SRSPEC*.FTZ')\n",
    "\n",
    "spec = Spectrum(spec_fnames[0])\n",
    "Plot.device=\"/svg\"\n",
    "Plot.xAxis=\"keV\"\n",
    "Plot.xLog=True\n",
    "Plot.yLog=True\n",
    "Plot.addCommand(\"Rescale Y 0.00001 0.05\")\n",
    "Plot(\"data\")"
   ]
  },
  {
   "cell_type": "code",
   "execution_count": 4,
   "metadata": {
    "scrolled": false
   },
   "outputs": [
    {
     "name": "stdout",
     "output_type": "stream",
     "text": [
      "\n",
      "========================================================================\n",
      "Model TBabs<1>*bbody<2> Source No.: 1   Active/On\n",
      "Model Model Component  Parameter  Unit     Value\n",
      " par  comp\n",
      "   1    1   TBabs      nH         10^22    1.00000      +/-  0.0          \n",
      "   2    2   bbody      kT         keV      3.00000      +/-  0.0          \n",
      "   3    2   bbody      norm                1.00000      +/-  0.0          \n",
      "________________________________________________________________________\n",
      "\n",
      "tbvabs Version 2.3\n",
      "Cosmic absorption with grains and H2, modified from\n",
      "Wilms, Allen, & McCray, 2000, ApJ 542, 914-924\n",
      "Questions: Joern Wilms\n",
      "joern.wilms@sternwarte.uni-erlangen.de\n",
      "joern.wilms@fau.de\n",
      "\n",
      "http://pulsar.sternwarte.uni-erlangen.de/wilms/research/tbabs/\n",
      "\n",
      "PLEASE NOTICE:\n",
      "To get the model described by the above paper\n",
      "you will also have to set the abundances:\n",
      "   abund wilm\n",
      "\n",
      "Note that this routine ignores the current cross section setting\n",
      "as it always HAS to use the Verner cross sections as a baseline.\n",
      "\n",
      "Fit statistic  : Chi-Squared              1.538964e+11     using 7 bins.\n",
      "\n",
      "Test statistic : Chi-Squared              1.538964e+11     using 7 bins.\n",
      " Null hypothesis probability of 0.000000e+00 with 4 degrees of freedom\n",
      " Current data and model not fit yet.\n",
      "                                   Parameters\n",
      "Chi-Squared  |beta|/N    Lvl          1:nH          2:kT        3:norm\n",
      "101.699      0.636478      0      0.318777       3.19400   8.75016e-06\n",
      "99.906       161046        0      0.154203       3.14604   8.94802e-06\n",
      "97.7764      161630        0    0.00609819       3.10253   9.12033e-06\n",
      "97.212       167632        0    0.00231931       3.05950   9.28623e-06\n",
      "96.7884      150514        0   0.000561175       3.02325   9.41607e-06\n",
      "96.4705      134673        0   0.000146135       2.99233   9.51624e-06\n",
      "96.2229      120285        0   4.70318e-05       2.96563   9.59188e-06\n",
      "96.0259      107511        0   2.31819e-05       2.94231   9.64734e-06\n",
      "95.866       96287.7       0   8.44423e-08       2.92168   9.68617e-06\n",
      "95.7346      86478.7       0   4.05440e-08       2.90324   9.71125e-06\n",
      "95.6245      77941.4       0   1.90999e-08       2.88659   9.72490e-06\n",
      "95.531       70531.3       0   8.59033e-09       2.87141   9.72905e-06\n",
      "95.45        64119.5       0   3.42566e-09       2.85742   9.72527e-06\n",
      "95.3787      58572         0   8.81980e-10       2.84442   9.71485e-06\n",
      "95.3152      53784.6       0   2.54316e-10       2.83226   9.69889e-06\n",
      "95.2575      49654.6       0   9.92315e-11       2.82077   9.67827e-06\n",
      "95.2045      46092.6       0   2.25139e-11       2.80985   9.65372e-06\n",
      "95.1551      43024.7       0   3.47905e-12       2.79939   9.62602e-06\n",
      "95.1088      40359.7       0   1.12260e-12       2.78935   9.59531e-06\n",
      "95.0648      38095.6       0   5.34036e-13       2.77964   9.56207e-06\n",
      "95.0241      36168.2       0   2.37194e-13       2.77041   9.52499e-06\n",
      "94.9831      34777.2       0   9.03295e-14       2.76112   9.48729e-06\n",
      "94.9442      33387         0   2.44868e-14       2.75222   9.44833e-06\n",
      "94.8899      32293.1       0   1.03145e-14       2.74095   9.42564e-06\n",
      "94.824       28499.5       0   8.97558e-16       2.72769   9.41876e-06\n",
      "94.4294      22105.6       0   1.17562e-16       2.64046   9.07292e-06\n",
      "90.2404      5984.78      -1   3.91846e-17       1.88643   4.40460e-06\n",
      "32.5182      392269       -2   1.42179e-17      0.523653   2.05187e-06\n",
      "***Warning: Zero alpha-matrix diagonal element for parameter 1\n",
      " Parameter 1 is pegged at 1.42179e-17 due to zero or negative pivot element, likely\n",
      " caused by the fit being insensitive to the parameter.\n",
      "19.3623      4.19807e+06  -3   1.42179e-17      0.388095   2.37308e-06\n",
      "18.5245      418959       -4   1.42179e-17      0.360245   2.35978e-06\n",
      "18.3761      118887       -5   1.42179e-17      0.349405   2.35237e-06\n",
      "18.3521      21939.8      -6   1.42179e-17      0.345171   2.34732e-06\n",
      "18.3483      3672.25      -7   1.42179e-17      0.343506   2.34490e-06\n",
      "18.3477      554.923      -8   1.42179e-17      0.342857   2.34387e-06\n",
      "18.3476      77.4118      -9   1.42179e-17      0.342601   2.34346e-06\n",
      "***Warning: Zero alpha-matrix diagonal element for parameter 1\n",
      " Parameter 1 is pegged at 1.42179e-17 due to zero or negative pivot element, likely\n",
      " caused by the fit being insensitive to the parameter.\n",
      "18.3476      5.14817      -3   1.42179e-17      0.342498   2.34329e-06\n",
      "==============================\n",
      " Variances and Principal Axes\n",
      "                 2        3  \n",
      " 5.3778E-14| -0.0000   1.0000  \n",
      " 9.9714E-04|  1.0000   0.0000  \n",
      "------------------------------\n",
      "\n",
      "========================\n",
      "  Covariance Matrix\n",
      "        1           2   \n",
      "   9.971e-04   1.657e-09\n",
      "   1.657e-09   5.653e-14\n",
      "------------------------\n",
      "\n",
      "========================================================================\n",
      "Model TBabs<1>*bbody<2> Source No.: 1   Active/On\n",
      "Model Model Component  Parameter  Unit     Value\n",
      " par  comp\n",
      "   1    1   TBabs      nH         10^22    1.42179E-17  +/-  -1.00000     \n",
      "   2    2   bbody      kT         keV      0.342498     +/-  3.15775E-02  \n",
      "   3    2   bbody      norm                2.34329E-06  +/-  2.37763E-07  \n",
      "________________________________________________________________________\n",
      "\n",
      "\n",
      "Fit statistic  : Chi-Squared                 18.3476     using 7 bins.\n",
      "\n",
      "Test statistic : Chi-Squared                 18.3476     using 7 bins.\n",
      " Null hypothesis probability of 1.0553e-03 with 4 degrees of freedom\n"
     ]
    },
    {
     "data": {
      "image/svg+xml": [
       "<svg xmlns=\"http://www.w3.org/2000/svg\" xmlns:xlink=\"http://www.w3.org/1999/xlink\" style=\"fill-rule: nonzero; stroke-linecap: round; stroke-linejoin: round; transform: scale(1,-1);\" version=\"1.1\" viewbox=\"           -8.104365            27.140120          7607.921387          5564.965820\" width=\"100%\" height=\"100%\" preserveAspectRatio=\"xMidYMid\">\n",
       "<style>\n",
       "  .fn { font-family: Arial,Helvetica,sans-serif; }\n",
       "  .fN { font-family: Arial,Helvetica,sans-serif; font-weight: bold;}\n",
       "  .fr { font-family: Times,Times-Roman,Times New Roman,serif; }\n",
       "  .fR { font-family: Times,Times-Roman,Times New Roman,serif; font-weight: bold;}\n",
       "  .fi { font-family: Times,Times-Roman,Times New Roman,serif; font-style: italic;}\n",
       "  .fI { font-family: Times,Times-Roman,Times New Roman,serif; font-style: italic; font-weight: bold;}\n",
       "  .fs { font-family: Zapf-Chancery,Apple Chancery,URW Chancery L,cursive;}\n",
       "  .fS { font-family: Zapf-Chancery,Apple Chancery,URW Chancery L,cursive;font-weight:bold}\n",
       "  .fc { font-family: Arial Narrow,Helvetica Narrow,Arial,Helvetica,sans-serif;}\n",
       "  .fC { font-family: Arial Narrow,Helvetica Narrow,Arial,Helvetica,sans-serif; font-weight:bold;}\n",
       "</style>\n",
       "<g style=\"color: rgb(0, 0, 0); fill: currentColor; stroke: currentColor; stroke-width: 8\">\n",
       "\n",
       "<path fill=\"none\" d=\"M 742 2304 l 5935 0 l 0 2879 l -5935 0 l 0 -2879 M 920 2304 l 0 28 M 1298 2304 l 0 28 M 1607 2304 l 0 28  M 1867 2304 l 0 28 M 2093 2304 l 0 28 M 2293 2304 l 0 28 M 2471 2304 l 0 56 M 3644 2304 l 0 28 M 4331 2304 l 0 28  M 4818 2304 l 0 28 M 5195 2304 l 0 28 M 5504 2304 l 0 28 M 5765 2304 l 0 28 M 5991 2304 l 0 28 M 6190 2304 l 0 28  M 6369 2304 l 0 56 M 920 5155 l 0 28 M 1298 5155 l 0 28 M 1607 5155 l 0 28 M 1867 5155 l 0 28 M 2093 5155 l 0 28  M 2293 5155 l 0 28 M 2471 5127 l 0 56 M 3644 5155 l 0 28 M 4331 5155 l 0 28 M 4818 5155 l 0 28 M 5195 5155 l 0 28  M 5504 5155 l 0 28 M 5765 5155 l 0 28 M 5991 5155 l 0 28 M 6190 5155 l 0 28 M 6369 5127 l 0 56 M 742 2304 l 56 0  M 742 2538 l 28 0 M 742 2675 l 28 0 M 742 2772 l 28 0 M 742 2848 l 28 0 M 742 2909 l 28 0 M 742 2961 l 28 0  M 742 3007 l 28 0 M 742 3046 l 28 0 M 742 3082 l 56 0 M 742 3316 l 28 0 M 742 3453 l 28 0 M 742 3551 l 28 0  M 742 3626 l 28 0 M 742 3688 l 28 0 M 742 3740 l 28 0 M 742 3785 l 28 0 M 742 3825 l 28 0 M 742 3861 l 56 0  M 742 4095 l 28 0 M 742 4232 l 28 0 M 742 4329 l 28 0 M 742 4405 l 28 0 M 742 4466 l 28 0 M 742 4518 l 28 0  M 742 4564 l 28 0 M 742 4603 l 28 0 M 742 4639 l 56 0 M 742 4873 l 28 0 M 742 5010 l 28 0 M 742 5108 l 28 0  M 6621 2304 l 56 0 M 6649 2538 l 28 0 M 6649 2675 l 28 0 M 6649 2772 l 28 0 M 6649 2848 l 28 0 M 6649 2909 l 28 0  M 6649 2961 l 28 0 M 6649 3007 l 28 0 M 6649 3046 l 28 0 M 6621 3082 l 56 0 M 6649 3316 l 28 0 M 6649 3453 l 28 0  M 6649 3551 l 28 0 M 6649 3626 l 28 0 M 6649 3688 l 28 0 M 6649 3740 l 28 0 M 6649 3785 l 28 0 M 6649 3825 l 28 0  M 6621 3861 l 56 0 M 6649 4095 l 28 0 M 6649 4232 l 28 0 M 6649 4329 l 28 0 M 6649 4405 l 28 0 M 6649 4466 l 28 0  M 6649 4518 l 28 0 M 6649 4564 l 28 0 M 6649 4603 l 28 0 M 6621 4639 l 56 0 M 6649 4873 l 28 0 M 6649 5010 l 28 0  M 6649 5108 l 28 0 \"/>\n",
       "<text transform=\"translate(412,2266) scale(1,-1)\"><tspan class=\"fn\" style=\"font-size: 753.1%;\">10<tspan style=\"font-size: 60%;\" dy=\"-0.6em\">−5<tspan style=\"font-size: 166.667%;\" dy=\"+0.36em\"/></tspan></tspan></text>\n",
       "<text transform=\"translate(412,3045) scale(1,-1)\"><tspan class=\"fn\" style=\"font-size: 753.1%;\">10<tspan style=\"font-size: 60%;\" dy=\"-0.6em\">−4<tspan style=\"font-size: 166.667%;\" dy=\"+0.36em\"/></tspan></tspan></text>\n",
       "<text transform=\"translate(412,3823) scale(1,-1)\"><tspan class=\"fn\" style=\"font-size: 753.1%;\">10<tspan style=\"font-size: 60%;\" dy=\"-0.6em\">−3<tspan style=\"font-size: 166.667%;\" dy=\"+0.36em\"/></tspan></tspan></text>\n",
       "<text transform=\"translate(391,4602) scale(1,-1)\"><tspan class=\"fn\" style=\"font-size: 753.1%;\">0.01</tspan></text>\n",
       "</g>\n",
       "<g style=\"color: rgb(0, 0, 0); fill: currentColor; stroke: currentColor; stroke-width: 4\">\n",
       "<defs>\n",
       "<symbol id=\"M1\" overflow=\"visible\">\n",
       "<circle r=\"1\" fill=\"none\" stroke-width=\"1\"/>\n",
       "</symbol>\n",
       "</defs>\n",
       "<use xlink:href=\"#M1\" transform=\"translate(1512, 4375) scale(4.430)\"/>\n",
       "\n",
       "<path fill=\"none\" d=\"M 742 4375 l 1298 0 M 1512 4285 l 0 161 \"/>\n",
       "<use xlink:href=\"#M1\" transform=\"translate(2196, 4764) scale(4.430)\"/>\n",
       "\n",
       "<path fill=\"none\" d=\"M 2040 4764 l 299 0 M 2196 4682 l 0 148 \"/>\n",
       "<use xlink:href=\"#M1\" transform=\"translate(2437, 4834) scale(4.430)\"/>\n",
       "\n",
       "<path fill=\"none\" d=\"M 2339 4834 l 190 0 M 2437 4747 l 0 157 \"/>\n",
       "<use xlink:href=\"#M1\" transform=\"translate(2755, 4492) scale(4.430)\"/>\n",
       "\n",
       "<path fill=\"none\" d=\"M 2529 4492 l 425 0 M 2755 4403 l 0 160 \"/>\n",
       "<use xlink:href=\"#M1\" transform=\"translate(3129, 4474) scale(4.430)\"/>\n",
       "\n",
       "<path fill=\"none\" d=\"M 2954 4474 l 334 0 M 3129 4377 l 0 173 \"/>\n",
       "<use xlink:href=\"#M1\" transform=\"translate(3604, 4196) scale(4.430)\"/>\n",
       "\n",
       "<path fill=\"none\" d=\"M 3288 4196 l 582 0 M 3604 4099 l 0 172 \"/>\n",
       "<use xlink:href=\"#M1\" transform=\"translate(5799, 3296) scale(4.430)\"/>\n",
       "\n",
       "<path fill=\"none\" d=\"M 3870 3296 l 2807 0 M 5799 3176 l 0 209 \"/>\n",
       "</g>\n",
       "<g style=\"color: rgb(0, 0, 0); fill: currentColor; stroke: currentColor; stroke-width: 8\">\n",
       "\n",
       "<path fill=\"none\" d=\"M 742 4375 l 1298 0 l 0 193 l 299 0 l 0 37 l 190 0 l 0 -4 l 425 0 l 0 -83 l 334 0 l 0 -321  l 582 0 l 0 -1393 l 2807 0 M 742 4375 l 1298 0 M 1512 4375 l 0 0 M 2040 4568 l 299 0 M 2196 4568 l 0 0  M 2339 4605 l 190 0 M 2437 4605 l 0 0 M 2529 4601 l 425 0 M 2755 4601 l 0 0 M 2954 4518 l 334 0 M 3129 4518 l 0 0  M 3288 4197 l 582 0 M 3604 4197 l 0 0 M 3870 2804 l 2807 0 M 5799 2804 l 0 0 \"/>\n",
       "<text transform=\"translate(111,3265) scale(1,-1) rotate(-90)\"><tspan class=\"fn\" style=\"font-size: 753.1%;\">counts s<tspan style=\"font-size: 60%;\" dy=\"-0.6em\">−1<tspan style=\"font-size: 166.667%;\" dy=\"+0.36em\"> keV<tspan style=\"font-size: 60%;\" dy=\"-0.6em\">−1<tspan style=\"font-size: 166.667%;\" dy=\"+0.36em\"/></tspan></tspan></tspan></tspan></text>\n",
       "<text transform=\"translate(2971,5403) scale(1,-1)\"><tspan class=\"fn\" style=\"font-size: 753.1%;\"><tspan class=\"fR\">data and folded model</tspan></tspan></text>\n",
       "\n",
       "<path fill=\"none\" d=\"M 742 576 l 5935 0 l 0 1728 l -5935 0 l 0 -1728 M 920 576 l 0 28 M 1298 576 l 0 28 M 1607 576 l 0 28  M 1867 576 l 0 28 M 2093 576 l 0 28 M 2293 576 l 0 28 M 2471 576 l 0 56 M 3644 576 l 0 28 M 4331 576 l 0 28  M 4818 576 l 0 28 M 5195 576 l 0 28 M 5504 576 l 0 28 M 5765 576 l 0 28 M 5991 576 l 0 28 M 6190 576 l 0 28  M 6369 576 l 0 56 M 920 2275 l 0 29 M 1298 2275 l 0 29 M 1607 2275 l 0 29 M 1867 2275 l 0 29 M 2093 2275 l 0 29  M 2293 2275 l 0 29 M 2471 2247 l 0 57 M 3644 2275 l 0 29 M 4331 2275 l 0 29 M 4818 2275 l 0 29 M 5195 2275 l 0 29  M 5504 2275 l 0 29 M 5765 2275 l 0 29 M 5991 2275 l 0 29 M 6190 2275 l 0 29 M 6369 2247 l 0 57 \"/>\n",
       "<text transform=\"translate(2433,429) scale(1,-1)\"><tspan class=\"fn\" style=\"font-size: 753.1%;\">1</tspan></text>\n",
       "<text transform=\"translate(6293,429) scale(1,-1)\"><tspan class=\"fn\" style=\"font-size: 753.1%;\">10</tspan></text>\n",
       "<text transform=\"translate(1203,429) scale(1,-1)\"><tspan class=\"fn\" style=\"font-size: 753.1%;\">0.5</tspan></text>\n",
       "<text transform=\"translate(3606,429) scale(1,-1)\"><tspan class=\"fn\" style=\"font-size: 753.1%;\">2</tspan></text>\n",
       "<text transform=\"translate(5157,429) scale(1,-1)\"><tspan class=\"fn\" style=\"font-size: 753.1%;\">5</tspan></text>\n",
       "\n",
       "<path fill=\"none\" d=\"M 742 684 l 28 0 M 742 830 l 28 0 M 742 977 l 56 0 M 742 1123 l 28 0 M 742 1270 l 28 0 M 742 1416 l 28 0  M 742 1563 l 28 0 M 742 1709 l 56 0 M 742 1856 l 28 0 M 742 2002 l 28 0 M 742 2149 l 28 0 M 742 2295 l 28 0  M 6649 684 l 28 0 M 6649 830 l 28 0 M 6621 977 l 56 0 M 6649 1123 l 28 0 M 6649 1270 l 28 0 M 6649 1416 l 28 0  M 6649 1563 l 28 0 M 6621 1709 l 56 0 M 6649 1856 l 28 0 M 6649 2002 l 28 0 M 6649 2149 l 28 0 M 6649 2295 l 28 0  \"/>\n",
       "<text transform=\"translate(580,939) scale(1,-1)\"><tspan class=\"fn\" style=\"font-size: 753.1%;\">0</tspan></text>\n",
       "<text transform=\"translate(240,1672) scale(1,-1)\"><tspan class=\"fn\" style=\"font-size: 753.1%;\">5×10<tspan style=\"font-size: 60%;\" dy=\"-0.6em\">−3<tspan style=\"font-size: 166.667%;\" dy=\"+0.36em\"/></tspan></tspan></text>\n",
       "</g>\n",
       "<g style=\"color: rgb(0, 0, 0); fill: currentColor; stroke: currentColor; stroke-width: 4\">\n",
       "<use xlink:href=\"#M1\" transform=\"translate(1512, 976) scale(4.430)\"/>\n",
       "\n",
       "<path fill=\"none\" d=\"M 742 976 l 1298 0 M 1512 818 l 0 316 \"/>\n",
       "<use xlink:href=\"#M1\" transform=\"translate(2196, 1914) scale(4.430)\"/>\n",
       "\n",
       "<path fill=\"none\" d=\"M 2040 1914 l 299 0 M 2196 1456 l 0 848 \"/>\n",
       "<use xlink:href=\"#M1\" transform=\"translate(2437, 2262) scale(4.430)\"/>\n",
       "\n",
       "<path fill=\"none\" d=\"M 2339 2262 l 190 0 M 2437 1668 l 0 636 \"/>\n",
       "<use xlink:href=\"#M1\" transform=\"translate(2755, 617) scale(4.430)\"/>\n",
       "\n",
       "<path fill=\"none\" d=\"M 2529 617 l 425 0 M 2755 576 l 0 263 \"/>\n",
       "<use xlink:href=\"#M1\" transform=\"translate(3129, 854) scale(4.430)\"/>\n",
       "\n",
       "<path fill=\"none\" d=\"M 2954 854 l 334 0 M 3129 628 l 0 451 \"/>\n",
       "<use xlink:href=\"#M1\" transform=\"translate(3604, 975) scale(4.430)\"/>\n",
       "\n",
       "<path fill=\"none\" d=\"M 3288 975 l 582 0 M 3604 876 l 0 197 \"/>\n",
       "<use xlink:href=\"#M1\" transform=\"translate(5799, 998) scale(4.430)\"/>\n",
       "\n",
       "<path fill=\"none\" d=\"M 3870 998 l 2807 0 M 5799 990 l 0 16 \"/>\n",
       "</g>\n",
       "<g style=\"color: rgb(0, 0, 0); fill: currentColor; stroke: currentColor; stroke-width: 8\">\n",
       "<text transform=\"translate(111,962) scale(1,-1) rotate(-90)\"><tspan class=\"fn\" style=\"font-size: 753.1%;\">counts s<tspan style=\"font-size: 60%;\" dy=\"-0.6em\">−1<tspan style=\"font-size: 166.667%;\" dy=\"+0.36em\"> keV<tspan style=\"font-size: 60%;\" dy=\"-0.6em\">−1<tspan style=\"font-size: 166.667%;\" dy=\"+0.36em\"/></tspan></tspan></tspan></tspan></text>\n",
       "<text transform=\"translate(3323,269) scale(1,-1)\"><tspan class=\"fn\" style=\"font-size: 753.1%;\">Energy (keV)</tspan></text>\n",
       "</g>\n",
       "<g style=\"color: rgb(0, 255, 0); fill: currentColor; stroke: currentColor; stroke-width: 8\">\n",
       "\n",
       "<path fill=\"none\" d=\"M 742 977 l 5935 0 \"/>\n",
       "</g>\n",
       "<g style=\"color: rgb(0, 0, 0); fill: currentColor; stroke: currentColor; stroke-width: 4\">\n",
       "<text transform=\"translate(6246,46) scale(1,-1)\"><tspan class=\"fn\" style=\"font-size: 531.6%;\">rwebbe  3−Sep−2025 11:37</tspan></text>\n",
       "</g>\n",
       "<!-- _PGPLOT_SVG_ATEND: viewbox=\"           -8.104365            27.140120          7607.921387          5564.965820\" -->\n",
       "</svg>"
      ],
      "text/plain": [
       "<IPython.core.display.SVG object>"
      ]
     },
     "metadata": {},
     "output_type": "display_data"
    }
   ],
   "source": [
    "#spec.ignore(\"**-0.2 12.0-**\")\n",
    "mo = Model(\"tbabs*bbody\")\n",
    "Fit.perform()\n",
    "Plot(\"data resid\")"
   ]
  },
  {
   "cell_type": "code",
   "execution_count": 5,
   "metadata": {},
   "outputs": [
    {
     "name": "stdout",
     "output_type": "stream",
     "text": [
      "Cannot do error calc: Reduced Chi^2 (= 4.58689) > maximum (2)\n"
     ]
    },
    {
     "ename": "Exception",
     "evalue": "Error executing command: error",
     "output_type": "error",
     "traceback": [
      "\u001b[0;31m---------------------------------------------------------------------------\u001b[0m",
      "\u001b[0;31mException\u001b[0m                                 Traceback (most recent call last)",
      "\u001b[0;32m<ipython-input-5-21d339ad0c88>\u001b[0m in \u001b[0;36m<module>\u001b[0;34m\u001b[0m\n\u001b[0;32m----> 1\u001b[0;31m \u001b[0mFit\u001b[0m\u001b[0;34m.\u001b[0m\u001b[0merror\u001b[0m\u001b[0;34m(\u001b[0m\u001b[0;34m\"1\"\u001b[0m\u001b[0;34m)\u001b[0m\u001b[0;34m\u001b[0m\u001b[0;34m\u001b[0m\u001b[0m\n\u001b[0m\u001b[1;32m      2\u001b[0m \u001b[0mFit\u001b[0m\u001b[0;34m.\u001b[0m\u001b[0merror\u001b[0m\u001b[0;34m(\u001b[0m\u001b[0;34m\"2\"\u001b[0m\u001b[0;34m)\u001b[0m\u001b[0;34m\u001b[0m\u001b[0;34m\u001b[0m\u001b[0m\n\u001b[1;32m      3\u001b[0m \u001b[0;34m\u001b[0m\u001b[0m\n\u001b[1;32m      4\u001b[0m \u001b[0mout_arr\u001b[0m\u001b[0;34m[\u001b[0m\u001b[0;36m0\u001b[0m\u001b[0;34m,\u001b[0m\u001b[0;36m0\u001b[0m\u001b[0;34m]\u001b[0m \u001b[0;34m=\u001b[0m \u001b[0;34m'bbody'\u001b[0m\u001b[0;34m\u001b[0m\u001b[0;34m\u001b[0m\u001b[0m\n\u001b[1;32m      5\u001b[0m \u001b[0mout_arr\u001b[0m\u001b[0;34m[\u001b[0m\u001b[0;36m0\u001b[0m\u001b[0;34m,\u001b[0m\u001b[0;36m1\u001b[0m\u001b[0;34m:\u001b[0m\u001b[0;36m4\u001b[0m\u001b[0;34m]\u001b[0m \u001b[0;34m=\u001b[0m \u001b[0mmo\u001b[0m\u001b[0;34m.\u001b[0m\u001b[0mTBabs\u001b[0m\u001b[0;34m.\u001b[0m\u001b[0mnH\u001b[0m\u001b[0;34m.\u001b[0m\u001b[0mvalues\u001b[0m\u001b[0;34m[\u001b[0m\u001b[0;36m0\u001b[0m\u001b[0;34m]\u001b[0m\u001b[0;34m,\u001b[0m \u001b[0mmo\u001b[0m\u001b[0;34m.\u001b[0m\u001b[0mTBabs\u001b[0m\u001b[0;34m.\u001b[0m\u001b[0mnH\u001b[0m\u001b[0;34m.\u001b[0m\u001b[0mvalues\u001b[0m\u001b[0;34m[\u001b[0m\u001b[0;36m0\u001b[0m\u001b[0;34m]\u001b[0m \u001b[0;34m-\u001b[0m \u001b[0mmo\u001b[0m\u001b[0;34m.\u001b[0m\u001b[0mTBabs\u001b[0m\u001b[0;34m.\u001b[0m\u001b[0mnH\u001b[0m\u001b[0;34m.\u001b[0m\u001b[0merror\u001b[0m\u001b[0;34m[\u001b[0m\u001b[0;36m0\u001b[0m\u001b[0;34m]\u001b[0m\u001b[0;34m,\u001b[0m \u001b[0mmo\u001b[0m\u001b[0;34m.\u001b[0m\u001b[0mTBabs\u001b[0m\u001b[0;34m.\u001b[0m\u001b[0mnH\u001b[0m\u001b[0;34m.\u001b[0m\u001b[0merror\u001b[0m\u001b[0;34m[\u001b[0m\u001b[0;36m1\u001b[0m\u001b[0;34m]\u001b[0m \u001b[0;34m-\u001b[0m \u001b[0mmo\u001b[0m\u001b[0;34m.\u001b[0m\u001b[0mTBabs\u001b[0m\u001b[0;34m.\u001b[0m\u001b[0mnH\u001b[0m\u001b[0;34m.\u001b[0m\u001b[0mvalues\u001b[0m\u001b[0;34m[\u001b[0m\u001b[0;36m0\u001b[0m\u001b[0;34m]\u001b[0m\u001b[0;34m\u001b[0m\u001b[0;34m\u001b[0m\u001b[0m\n",
      "\u001b[0;32m~/astro_soft/heasoft-6.32.1/x86_64-pc-linux-gnu-libc2.31/lib/python/xspec/fit.py\u001b[0m in \u001b[0;36merror\u001b[0;34m(self, argString, respPar)\u001b[0m\n\u001b[1;32m    423\u001b[0m             \u001b[0merrorArgs\u001b[0m \u001b[0;34m=\u001b[0m \u001b[0;34m[\u001b[0m\u001b[0;34m\"error\"\u001b[0m\u001b[0;34m]\u001b[0m\u001b[0;34m\u001b[0m\u001b[0;34m\u001b[0m\u001b[0m\n\u001b[1;32m    424\u001b[0m         \u001b[0merrorArgs\u001b[0m \u001b[0;34m+=\u001b[0m \u001b[0margString\u001b[0m\u001b[0;34m.\u001b[0m\u001b[0msplit\u001b[0m\u001b[0;34m(\u001b[0m\u001b[0;34m)\u001b[0m\u001b[0;34m\u001b[0m\u001b[0;34m\u001b[0m\u001b[0m\n\u001b[0;32m--> 425\u001b[0;31m         \u001b[0m_pyXspec\u001b[0m\u001b[0;34m.\u001b[0m\u001b[0mdoXspecCmd\u001b[0m\u001b[0;34m(\u001b[0m\u001b[0merrorArgs\u001b[0m\u001b[0;34m)\u001b[0m\u001b[0;34m\u001b[0m\u001b[0;34m\u001b[0m\u001b[0m\n\u001b[0m\u001b[1;32m    426\u001b[0m \u001b[0;34m\u001b[0m\u001b[0m\n\u001b[1;32m    427\u001b[0m     \u001b[0;32mdef\u001b[0m \u001b[0mftest\u001b[0m\u001b[0;34m(\u001b[0m\u001b[0mself\u001b[0m\u001b[0;34m,\u001b[0m \u001b[0mchisq2\u001b[0m\u001b[0;34m,\u001b[0m \u001b[0mdof2\u001b[0m\u001b[0;34m,\u001b[0m \u001b[0mchisq1\u001b[0m\u001b[0;34m,\u001b[0m \u001b[0mdof1\u001b[0m\u001b[0;34m)\u001b[0m\u001b[0;34m:\u001b[0m\u001b[0;34m\u001b[0m\u001b[0;34m\u001b[0m\u001b[0m\n",
      "\u001b[0;31mException\u001b[0m: Error executing command: error"
     ]
    }
   ],
   "source": [
    "Fit.error(\"1\")\n",
    "Fit.error(\"2\")\n",
    "\n",
    "out_arr[0,0] = 'bbody'\n",
    "out_arr[0,1:4] = mo.TBabs.nH.values[0], mo.TBabs.nH.values[0] - mo.TBabs.nH.error[0], mo.TBabs.nH.error[1] - mo.TBabs.nH.values[0]\n",
    "out_arr[0,4:7] = mo.bbody.kT.values[0], mo.bbody.kT.values[0] - mo.bbody.kT.error[0], mo.bbody.kT.error[1] - mo.bbody.kT.values[0]\n",
    "out_arr[0,-2:] = Fit.dof, Fit.statistic / Fit.dof\n"
   ]
  },
  {
   "cell_type": "code",
   "execution_count": null,
   "metadata": {
    "scrolled": false
   },
   "outputs": [],
   "source": [
    "AllModels.clear()\n",
    "mo = Model(\"tbabs*bremss\")\n",
    "Fit.perform()\n",
    "Plot(\"data resid\")"
   ]
  },
  {
   "cell_type": "code",
   "execution_count": null,
   "metadata": {},
   "outputs": [],
   "source": [
    "Fit.error(\"1\")\n",
    "Fit.error(\"2\")\n",
    "\n",
    "out_arr[3,0] = 'bremss'\n",
    "out_arr[3,1:4] = mo.TBabs.nH.values[0], mo.TBabs.nH.values[0] - mo.TBabs.nH.error[0], mo.TBabs.nH.error[1] - mo.TBabs.nH.values[0]\n",
    "out_arr[3,4:7] = mo.bremss.kT.values[0], mo.bremss.kT.values[0] - mo.bremss.kT.error[0], mo.bremss.kT.error[1] - mo.bremss.kT.values[0]\n",
    "out_arr[3,-2:] = Fit.dof, Fit.statistic / Fit.dof\n"
   ]
  },
  {
   "cell_type": "code",
   "execution_count": null,
   "metadata": {
    "scrolled": false
   },
   "outputs": [],
   "source": [
    "AllModels.clear()\n",
    "mo = Model(\"tbabs*apec\")\n",
    "Fit.perform()\n",
    "Plot(\"data resid\")"
   ]
  },
  {
   "cell_type": "code",
   "execution_count": null,
   "metadata": {},
   "outputs": [],
   "source": [
    "Fit.error(\"1\")\n",
    "Fit.error(\"2\")\n",
    "\n",
    "out_arr[2,0] = 'apec'\n",
    "out_arr[2,1:4] = mo.TBabs.nH.values[0], mo.TBabs.nH.values[0] - mo.TBabs.nH.error[0], mo.TBabs.nH.error[1] - mo.TBabs.nH.values[0]\n",
    "out_arr[2,13] = mo.apec.Abundanc.values[0]\n",
    "out_arr[2,4:7] = mo.apec.kT.values[0], mo.apec.kT.values[0] - mo.apec.kT.error[0], mo.apec.kT.error[1] - mo.apec.kT.values[0]\n",
    "out_arr[2,-2:] = Fit.dof, Fit.statistic / Fit.dof\n"
   ]
  },
  {
   "cell_type": "code",
   "execution_count": null,
   "metadata": {
    "scrolled": false
   },
   "outputs": [],
   "source": [
    "AllModels.clear()\n",
    "mo = Model(\"tbabs*powerlaw\")\n",
    "Fit.perform()\n",
    "Plot(\"data resid\")"
   ]
  },
  {
   "cell_type": "code",
   "execution_count": null,
   "metadata": {},
   "outputs": [],
   "source": [
    "Fit.error(\"1\")\n",
    "Fit.error(\"2\")\n",
    "\n",
    "out_arr[1,0] = 'powerlaw'\n",
    "out_arr[1,1:4] = mo.TBabs.nH.values[0], mo.TBabs.nH.values[0] - mo.TBabs.nH.error[0], mo.TBabs.nH.error[1] - mo.TBabs.nH.values[0]\n",
    "out_arr[1,14:17] = mo.powerlaw.PhoIndex.values[0], mo.powerlaw.PhoIndex.values[0] - mo.powerlaw.PhoIndex.error[0], mo.powerlaw.PhoIndex.error[1] - mo.powerlaw.PhoIndex.values[0]\n",
    "out_arr[1,-2:] = Fit.dof, Fit.statistic / Fit.dof\n"
   ]
  },
  {
   "cell_type": "code",
   "execution_count": null,
   "metadata": {},
   "outputs": [],
   "source": [
    "np.savetxt('../spec58_output.csv',out_arr,fmt=['%s','%.2f','%.2f','%.2f','%.2f','%.2f','%.2f','%.2f','%.2f','%.2f','%.2f','%.2f','%.2f','%.1f','%.2f','%.2f','%.2f','%i','%.2f'],delimiter=',')\n"
   ]
  },
  {
   "cell_type": "code",
   "execution_count": null,
   "metadata": {},
   "outputs": [],
   "source": [
    "AllModels.calcFlux(\".2 12.0\")"
   ]
  },
  {
   "cell_type": "code",
   "execution_count": null,
   "metadata": {},
   "outputs": [],
   "source": [
    "plx = 1.1723\n",
    "d_kpc = 1/plx\n",
    "F_x = 2.1407*10**-13\n",
    "\n",
    "L_x = 4*3.14*F_x*(d_kpc*3.086*10**21)**2\n",
    "print(L_x)"
   ]
  },
  {
   "cell_type": "code",
   "execution_count": null,
   "metadata": {},
   "outputs": [],
   "source": [
    "import numpy as np\n",
    "print(d_kpc)\n",
    "print(np.log10(L_x))"
   ]
  },
  {
   "cell_type": "code",
   "execution_count": null,
   "metadata": {},
   "outputs": [],
   "source": [
    "F_opt = 1.05*10**-5 * 10**(-0.4*12.65)\n",
    "print('Optical Flux: ',F_opt)\n",
    "print('F_x / F_opt: ', np.log10(F_x/F_opt))"
   ]
  },
  {
   "cell_type": "code",
   "execution_count": null,
   "metadata": {
    "scrolled": false
   },
   "outputs": [],
   "source": [
    "AllModels.clear()\n",
    "mo = Model(\"tbabs*(apec+apec)\")\n",
    "mo.apec.kT = 0.5\n",
    "mo.apec_3.kT = 4.0\n",
    "Fit.perform()\n",
    "Plot(\"data resid\")"
   ]
  }
 ],
 "metadata": {
  "kernelspec": {
   "display_name": "Python 3 (ipykernel)",
   "language": "python",
   "name": "python3"
  },
  "language_info": {
   "codemirror_mode": {
    "name": "ipython",
    "version": 3
   },
   "file_extension": ".py",
   "mimetype": "text/x-python",
   "name": "python",
   "nbconvert_exporter": "python",
   "pygments_lexer": "ipython3",
   "version": "3.8.10"
  }
 },
 "nbformat": 4,
 "nbformat_minor": 4
}
