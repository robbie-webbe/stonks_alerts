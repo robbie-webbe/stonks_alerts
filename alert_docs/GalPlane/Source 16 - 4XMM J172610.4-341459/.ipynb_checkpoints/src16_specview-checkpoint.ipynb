{
 "cells": [
  {
   "cell_type": "code",
   "execution_count": 1,
   "metadata": {},
   "outputs": [],
   "source": [
    "%load_ext wurlitzer\n",
    "import glob\n",
    "import os\n",
    "from xspec import *\n",
    "from stingray import Lightcurve\n",
    "from astropy.io import fits\n",
    "import matplotlib.pyplot as plt\n",
    "plt.rcParams['figure.figsize'] = [12,8]\n",
    "os.chdir('pps/')\n",
    "\n",
    "Fit.statMethod = \"chi\"\n",
    "Fit.nIterations = 100000\n",
    "Fit.delta = 1e-4\n",
    "Fit.criticalDelta = 1e-4"
   ]
  },
  {
   "cell_type": "code",
   "execution_count": 2,
   "metadata": {},
   "outputs": [],
   "source": [
    "import numpy as np\n",
    "out_arr = np.full((4,19),-np.inf,dtype=object)"
   ]
  },
  {
   "cell_type": "code",
   "execution_count": 3,
   "metadata": {},
   "outputs": [
    {
     "name": "stdout",
     "output_type": "stream",
     "text": [
      "\n",
      "1 spectrum  in use\n",
      " \n",
      "Spectral Data File: P0886040401PNS003SRSPEC0039.FTZ  Spectrum 1\n",
      "Net count rate (cts/s) for Spectrum:1  4.647e-03 +/- 6.540e-04 (63.4 % total)\n",
      " Assigned to Data Group 1 and Plot Group 1\n",
      "  Noticed Channels:  1-6\n",
      "  Telescope: XMM Instrument: EPN  Channel Type: PI\n",
      "  Exposure Time: 1.732e+04 sec\n",
      " Using fit statistic: chi\n",
      " Using Background File                P0886040401PNS003BGSPEC0039.FTZ\n",
      "  Background Exposure Time: 1.732e+04 sec\n",
      " Using Response (RMF) File            epn_e3_ff20_sdY6.rmf for Source 1\n",
      " Using Auxiliary Response (ARF) File  P0886040401PNS003SRCARF0039.FTZ\n",
      "\n"
     ]
    },
    {
     "data": {
      "image/svg+xml": [
       "<svg xmlns=\"http://www.w3.org/2000/svg\" xmlns:xlink=\"http://www.w3.org/1999/xlink\" style=\"fill-rule: nonzero; stroke-linecap: round; stroke-linejoin: round; transform: scale(1,-1);\" version=\"1.1\" viewbox=\"          225.691605            27.140120          7374.125488          5618.850586\" width=\"100%\" height=\"100%\" preserveAspectRatio=\"xMidYMid\">\n",
       "<style>\n",
       "  .fn { font-family: Arial,Helvetica,sans-serif; }\n",
       "  .fN { font-family: Arial,Helvetica,sans-serif; font-weight: bold;}\n",
       "  .fr { font-family: Times,Times-Roman,Times New Roman,serif; }\n",
       "  .fR { font-family: Times,Times-Roman,Times New Roman,serif; font-weight: bold;}\n",
       "  .fi { font-family: Times,Times-Roman,Times New Roman,serif; font-style: italic;}\n",
       "  .fI { font-family: Times,Times-Roman,Times New Roman,serif; font-style: italic; font-weight: bold;}\n",
       "  .fs { font-family: Zapf-Chancery,Apple Chancery,URW Chancery L,cursive;}\n",
       "  .fS { font-family: Zapf-Chancery,Apple Chancery,URW Chancery L,cursive;font-weight:bold}\n",
       "  .fc { font-family: Arial Narrow,Helvetica Narrow,Arial,Helvetica,sans-serif;}\n",
       "  .fC { font-family: Arial Narrow,Helvetica Narrow,Arial,Helvetica,sans-serif; font-weight:bold;}\n",
       "</style>\n",
       "<g style=\"color: rgb(0, 0, 0); fill: currentColor; stroke: currentColor; stroke-width: 8\">\n",
       "\n",
       "<path fill=\"none\" d=\"M 742 576 l 5935 0 l 0 4607 l -5935 0 l 0 -4607 M 1040 576 l 0 33 M 1359 576 l 0 33 M 1620 576 l 0 33  M 1841 576 l 0 33 M 2033 576 l 0 33 M 2201 576 l 0 33 M 2352 576 l 0 66 M 3345 576 l 0 33 M 3926 576 l 0 33  M 4338 576 l 0 33 M 4657 576 l 0 33 M 4919 576 l 0 33 M 5139 576 l 0 33 M 5331 576 l 0 33 M 5499 576 l 0 33  M 5650 576 l 0 66 M 6643 576 l 0 33 M 1040 5150 l 0 33 M 1359 5150 l 0 33 M 1620 5150 l 0 33 M 1841 5150 l 0 33  M 2033 5150 l 0 33 M 2201 5150 l 0 33 M 2352 5117 l 0 66 M 3345 5150 l 0 33 M 3926 5150 l 0 33 M 4338 5150 l 0 33  M 4657 5150 l 0 33 M 4919 5150 l 0 33 M 5139 5150 l 0 33 M 5331 5150 l 0 33 M 5499 5150 l 0 33 M 5650 5117 l 0 66  M 6643 5150 l 0 33 \"/>\n",
       "<text transform=\"translate(2307,403) scale(1,-1)\"><tspan class=\"fn\" style=\"font-size: 886%;\">1</tspan></text>\n",
       "<text transform=\"translate(5561,403) scale(1,-1)\"><tspan class=\"fn\" style=\"font-size: 886%;\">10</tspan></text>\n",
       "<text transform=\"translate(1248,403) scale(1,-1)\"><tspan class=\"fn\" style=\"font-size: 886%;\">0.5</tspan></text>\n",
       "<text transform=\"translate(3300,403) scale(1,-1)\"><tspan class=\"fn\" style=\"font-size: 886%;\">2</tspan></text>\n",
       "<text transform=\"translate(4613,403) scale(1,-1)\"><tspan class=\"fn\" style=\"font-size: 886%;\">5</tspan></text>\n",
       "<text transform=\"translate(6554,403) scale(1,-1)\"><tspan class=\"fn\" style=\"font-size: 886%;\">20</tspan></text>\n",
       "\n",
       "<path fill=\"none\" d=\"M 742 576 l 33 0 M 742 758 l 33 0 M 742 913 l 33 0 M 742 1046 l 33 0 M 742 1164 l 33 0 M 742 1269 l 66 0  M 742 1963 l 33 0 M 742 2368 l 33 0 M 742 2656 l 33 0 M 742 2880 l 33 0 M 742 3062 l 33 0 M 742 3216 l 33 0  M 742 3350 l 33 0 M 742 3468 l 33 0 M 742 3573 l 66 0 M 742 4266 l 33 0 M 742 4672 l 33 0 M 742 4960 l 33 0  M 742 5183 l 33 0 M 6644 576 l 33 0 M 6644 758 l 33 0 M 6644 913 l 33 0 M 6644 1046 l 33 0 M 6644 1164 l 33 0  M 6611 1269 l 66 0 M 6644 1963 l 33 0 M 6644 2368 l 33 0 M 6644 2656 l 33 0 M 6644 2880 l 33 0 M 6644 3062 l 33 0  M 6644 3216 l 33 0 M 6644 3350 l 33 0 M 6644 3468 l 33 0 M 6611 3573 l 66 0 M 6644 4266 l 33 0 M 6644 4672 l 33 0  M 6644 4960 l 33 0 M 6644 5183 l 33 0 \"/>\n",
       "<text transform=\"translate(641,1126) scale(1,-1) rotate(-90)\"><tspan class=\"fn\" style=\"font-size: 886%;\">10<tspan style=\"font-size: 60%;\" dy=\"-0.6em\">−4<tspan style=\"font-size: 166.667%;\" dy=\"+0.36em\"/></tspan></tspan></text>\n",
       "<text transform=\"translate(641,3429) scale(1,-1) rotate(-90)\"><tspan class=\"fn\" style=\"font-size: 886%;\">10<tspan style=\"font-size: 60%;\" dy=\"-0.6em\">−3<tspan style=\"font-size: 166.667%;\" dy=\"+0.36em\"/></tspan></tspan></text>\n",
       "</g>\n",
       "<g style=\"color: rgb(0, 0, 0); fill: currentColor; stroke: currentColor; stroke-width: 4\">\n",
       "<defs>\n",
       "<symbol id=\"M1\" overflow=\"visible\">\n",
       "<circle r=\"1\" fill=\"none\" stroke-width=\"1\"/>\n",
       "</symbol>\n",
       "</defs>\n",
       "<use xlink:href=\"#M1\" transform=\"translate(2287, 2498) scale(4.430)\"/>\n",
       "\n",
       "<path fill=\"none\" d=\"M 742 2498 l 2271 0 M 2287 1568 l 0 1403 \"/>\n",
       "<use xlink:href=\"#M1\" transform=\"translate(3153, 4724) scale(4.430)\"/>\n",
       "\n",
       "<path fill=\"none\" d=\"M 3013 4724 l 267 0 M 3153 4435 l 0 513 \"/>\n",
       "<use xlink:href=\"#M1\" transform=\"translate(3555, 3693) scale(4.430)\"/>\n",
       "\n",
       "<path fill=\"none\" d=\"M 3280 3693 l 505 0 M 3555 3359 l 0 584 \"/>\n",
       "<use xlink:href=\"#M1\" transform=\"translate(4044, 3419) scale(4.430)\"/>\n",
       "\n",
       "<path fill=\"none\" d=\"M 3785 3419 l 477 0 M 4044 3089 l 0 578 \"/>\n",
       "<use xlink:href=\"#M1\" transform=\"translate(4679, 2260) scale(4.430)\"/>\n",
       "\n",
       "<path fill=\"none\" d=\"M 4262 2260 l 739 0 M 4679 1787 l 0 793 M 6071 576 l 0 314 \"/>\n",
       "</g>\n",
       "<g style=\"color: rgb(0, 0, 0); fill: currentColor; stroke: currentColor; stroke-width: 8\">\n",
       "<text transform=\"translate(370,2317) scale(1,-1) rotate(-90)\"><tspan class=\"fn\" style=\"font-size: 886%;\">counts s<tspan style=\"font-size: 60%;\" dy=\"-0.6em\">−1<tspan style=\"font-size: 166.667%;\" dy=\"+0.36em\"> keV<tspan style=\"font-size: 60%;\" dy=\"-0.6em\">−1<tspan style=\"font-size: 166.667%;\" dy=\"+0.36em\"/></tspan></tspan></tspan></tspan></text>\n",
       "<text transform=\"translate(3255,215) scale(1,-1)\"><tspan class=\"fn\" style=\"font-size: 886%;\">Energy (keV)</tspan></text>\n",
       "<text transform=\"translate(3534,5442) scale(1,-1)\"><tspan class=\"fn\" style=\"font-size: 886%;\"><tspan class=\"fR\">data</tspan></tspan></text>\n",
       "</g>\n",
       "<g style=\"color: rgb(0, 0, 0); fill: currentColor; stroke: currentColor; stroke-width: 4\">\n",
       "<text transform=\"translate(6246,46) scale(1,-1)\"><tspan class=\"fn\" style=\"font-size: 531.6%;\">rwebbe  3−Sep−2025 09:30</tspan></text>\n",
       "</g>\n",
       "<!-- _PGPLOT_SVG_ATEND: viewbox=\"          225.691605            27.140120          7374.125488          5618.850586\" -->\n",
       "</svg>"
      ],
      "text/plain": [
       "<IPython.core.display.SVG object>"
      ]
     },
     "metadata": {},
     "output_type": "display_data"
    }
   ],
   "source": [
    "spec_fnames = glob.glob('P*PNS*SRSPEC*.FTZ')\n",
    "\n",
    "spec = Spectrum(spec_fnames[0])\n",
    "Plot.device=\"/svg\"\n",
    "Plot.xAxis=\"keV\"\n",
    "Plot.xLog=True\n",
    "Plot.yLog=True\n",
    "Plot.addCommand(\"Rescale Y 0.00005 0.005\")\n",
    "Plot(\"data\")"
   ]
  },
  {
   "cell_type": "code",
   "execution_count": 4,
   "metadata": {
    "scrolled": false
   },
   "outputs": [
    {
     "data": {
      "image/svg+xml": [
       "<svg xmlns=\"http://www.w3.org/2000/svg\" xmlns:xlink=\"http://www.w3.org/1999/xlink\" style=\"fill-rule: nonzero; stroke-linecap: round; stroke-linejoin: round; transform: scale(1,-1);\" version=\"1.1\" viewbox=\"           -8.104365            27.140120          7607.921387          5564.966309\" width=\"100%\" height=\"100%\" preserveAspectRatio=\"xMidYMid\">\n",
       "<style>\n",
       "  .fn { font-family: Arial,Helvetica,sans-serif; }\n",
       "  .fN { font-family: Arial,Helvetica,sans-serif; font-weight: bold;}\n",
       "  .fr { font-family: Times,Times-Roman,Times New Roman,serif; }\n",
       "  .fR { font-family: Times,Times-Roman,Times New Roman,serif; font-weight: bold;}\n",
       "  .fi { font-family: Times,Times-Roman,Times New Roman,serif; font-style: italic;}\n",
       "  .fI { font-family: Times,Times-Roman,Times New Roman,serif; font-style: italic; font-weight: bold;}\n",
       "  .fs { font-family: Zapf-Chancery,Apple Chancery,URW Chancery L,cursive;}\n",
       "  .fS { font-family: Zapf-Chancery,Apple Chancery,URW Chancery L,cursive;font-weight:bold}\n",
       "  .fc { font-family: Arial Narrow,Helvetica Narrow,Arial,Helvetica,sans-serif;}\n",
       "  .fC { font-family: Arial Narrow,Helvetica Narrow,Arial,Helvetica,sans-serif; font-weight:bold;}\n",
       "</style>\n",
       "<g style=\"color: rgb(0, 0, 0); fill: currentColor; stroke: currentColor; stroke-width: 8\">\n",
       "\n",
       "<path fill=\"none\" d=\"M 742 2304 l 5935 0 l 0 2879 l -5935 0 l 0 -2879 M 1040 2304 l 0 28 M 1359 2304 l 0 28 M 1620 2304 l 0 28  M 1841 2304 l 0 28 M 2033 2304 l 0 28 M 2201 2304 l 0 28 M 2352 2304 l 0 56 M 3345 2304 l 0 28 M 3926 2304 l 0 28  M 4338 2304 l 0 28 M 4657 2304 l 0 28 M 4919 2304 l 0 28 M 5139 2304 l 0 28 M 5331 2304 l 0 28 M 5499 2304 l 0 28  M 5650 2304 l 0 56 M 6643 2304 l 0 28 M 1040 5155 l 0 28 M 1359 5155 l 0 28 M 1620 5155 l 0 28 M 1841 5155 l 0 28  M 2033 5155 l 0 28 M 2201 5155 l 0 28 M 2352 5127 l 0 56 M 3345 5155 l 0 28 M 3926 5155 l 0 28 M 4338 5155 l 0 28  M 4657 5155 l 0 28 M 4919 5155 l 0 28 M 5139 5155 l 0 28 M 5331 5155 l 0 28 M 5499 5155 l 0 28 M 5650 5127 l 0 56  M 6643 5155 l 0 28 M 742 2304 l 28 0 M 742 2418 l 28 0 M 742 2514 l 28 0 M 742 2597 l 28 0 M 742 2671 l 28 0  M 742 2737 l 56 0 M 742 3170 l 28 0 M 742 3424 l 28 0 M 742 3604 l 28 0 M 742 3743 l 28 0 M 742 3857 l 28 0  M 742 3954 l 28 0 M 742 4037 l 28 0 M 742 4111 l 28 0 M 742 4177 l 56 0 M 742 4610 l 28 0 M 742 4864 l 28 0  M 742 5044 l 28 0 M 742 5183 l 28 0 M 6649 2304 l 28 0 M 6649 2418 l 28 0 M 6649 2514 l 28 0 M 6649 2597 l 28 0  M 6649 2671 l 28 0 M 6621 2737 l 56 0 M 6649 3170 l 28 0 M 6649 3424 l 28 0 M 6649 3604 l 28 0 M 6649 3743 l 28 0  M 6649 3857 l 28 0 M 6649 3954 l 28 0 M 6649 4037 l 28 0 M 6649 4111 l 28 0 M 6621 4177 l 56 0 M 6649 4610 l 28 0  M 6649 4864 l 28 0 M 6649 5044 l 28 0 M 6649 5183 l 28 0 \"/>\n",
       "<text transform=\"translate(412,2700) scale(1,-1)\"><tspan class=\"fn\" style=\"font-size: 753.1%;\">10<tspan style=\"font-size: 60%;\" dy=\"-0.6em\">−4<tspan style=\"font-size: 166.667%;\" dy=\"+0.36em\"/></tspan></tspan></text>\n",
       "<text transform=\"translate(412,4140) scale(1,-1)\"><tspan class=\"fn\" style=\"font-size: 753.1%;\">10<tspan style=\"font-size: 60%;\" dy=\"-0.6em\">−3<tspan style=\"font-size: 166.667%;\" dy=\"+0.36em\"/></tspan></tspan></text>\n",
       "</g>\n",
       "<g style=\"color: rgb(0, 0, 0); fill: currentColor; stroke: currentColor; stroke-width: 4\">\n",
       "<defs>\n",
       "<symbol id=\"M1\" overflow=\"visible\">\n",
       "<circle r=\"1\" fill=\"none\" stroke-width=\"1\"/>\n",
       "</symbol>\n",
       "</defs>\n",
       "<use xlink:href=\"#M1\" transform=\"translate(2287, 3505) scale(4.430)\"/>\n",
       "\n",
       "<path fill=\"none\" d=\"M 742 3505 l 2271 0 M 2287 2924 l 0 877 \"/>\n",
       "<use xlink:href=\"#M1\" transform=\"translate(3153, 4896) scale(4.430)\"/>\n",
       "\n",
       "<path fill=\"none\" d=\"M 3013 4896 l 267 0 M 3153 4716 l 0 320 \"/>\n",
       "<use xlink:href=\"#M1\" transform=\"translate(3555, 4252) scale(4.430)\"/>\n",
       "\n",
       "<path fill=\"none\" d=\"M 3280 4252 l 505 0 M 3555 4043 l 0 365 \"/>\n",
       "<use xlink:href=\"#M1\" transform=\"translate(4044, 4081) scale(4.430)\"/>\n",
       "\n",
       "<path fill=\"none\" d=\"M 3785 4081 l 477 0 M 4044 3874 l 0 361 \"/>\n",
       "<use xlink:href=\"#M1\" transform=\"translate(4679, 3356) scale(4.430)\"/>\n",
       "\n",
       "<path fill=\"none\" d=\"M 4262 3356 l 739 0 M 4679 3060 l 0 496 M 6071 2304 l 0 196 \"/>\n",
       "</g>\n",
       "<g style=\"color: rgb(0, 0, 0); fill: currentColor; stroke: currentColor; stroke-width: 8\">\n",
       "\n",
       "<path fill=\"none\" d=\"M 742 3685 l 2271 0 l 0 822 l 267 0 l 0 -147 l 505 0 l 0 -274 l 477 0 l 0 -720 l 739 0 l 0 -1062  M 742 3685 l 2271 0 M 2287 3685 l 0 0 M 3013 4507 l 267 0 M 3153 4507 l 0 0 M 3280 4360 l 505 0 M 3555 4360 l 0 0  M 3785 4086 l 477 0 M 4044 4086 l 0 0 M 4262 3366 l 739 0 M 4679 3366 l 0 0 \"/>\n",
       "<text transform=\"translate(111,3265) scale(1,-1) rotate(-90)\"><tspan class=\"fn\" style=\"font-size: 753.1%;\">counts s<tspan style=\"font-size: 60%;\" dy=\"-0.6em\">−1<tspan style=\"font-size: 166.667%;\" dy=\"+0.36em\"> keV<tspan style=\"font-size: 60%;\" dy=\"-0.6em\">−1<tspan style=\"font-size: 166.667%;\" dy=\"+0.36em\"/></tspan></tspan></tspan></tspan></text>\n",
       "<text transform=\"translate(2971,5403) scale(1,-1)\"><tspan class=\"fn\" style=\"font-size: 753.1%;\"><tspan class=\"fR\">data and folded model</tspan></tspan></text>\n",
       "\n",
       "<path fill=\"none\" d=\"M 742 576 l 5935 0 l 0 1728 l -5935 0 l 0 -1728 M 1040 576 l 0 28 M 1359 576 l 0 28 M 1620 576 l 0 28  M 1841 576 l 0 28 M 2033 576 l 0 28 M 2201 576 l 0 28 M 2352 576 l 0 56 M 3345 576 l 0 28 M 3926 576 l 0 28  M 4338 576 l 0 28 M 4657 576 l 0 28 M 4919 576 l 0 28 M 5139 576 l 0 28 M 5331 576 l 0 28 M 5499 576 l 0 28  M 5650 576 l 0 56 M 6643 576 l 0 28 M 1040 2275 l 0 29 M 1359 2275 l 0 29 M 1620 2275 l 0 29 M 1841 2275 l 0 29  M 2033 2275 l 0 29 M 2201 2275 l 0 29 M 2352 2247 l 0 57 M 3345 2275 l 0 29 M 3926 2275 l 0 29 M 4338 2275 l 0 29  M 4657 2275 l 0 29 M 4919 2275 l 0 29 M 5139 2275 l 0 29 M 5331 2275 l 0 29 M 5499 2275 l 0 29 M 5650 2247 l 0 57  M 6643 2275 l 0 29 \"/>\n",
       "<text transform=\"translate(2314,429) scale(1,-1)\"><tspan class=\"fn\" style=\"font-size: 753.1%;\">1</tspan></text>\n",
       "<text transform=\"translate(5574,429) scale(1,-1)\"><tspan class=\"fn\" style=\"font-size: 753.1%;\">10</tspan></text>\n",
       "<text transform=\"translate(1264,429) scale(1,-1)\"><tspan class=\"fn\" style=\"font-size: 753.1%;\">0.5</tspan></text>\n",
       "<text transform=\"translate(3307,429) scale(1,-1)\"><tspan class=\"fn\" style=\"font-size: 753.1%;\">2</tspan></text>\n",
       "<text transform=\"translate(4619,429) scale(1,-1)\"><tspan class=\"fn\" style=\"font-size: 753.1%;\">5</tspan></text>\n",
       "<text transform=\"translate(6567,429) scale(1,-1)\"><tspan class=\"fn\" style=\"font-size: 753.1%;\">20</tspan></text>\n",
       "\n",
       "<path fill=\"none\" d=\"M 742 630 l 28 0 M 742 728 l 28 0 M 742 826 l 56 0 M 742 924 l 28 0 M 742 1022 l 28 0 M 742 1120 l 28 0  M 742 1218 l 28 0 M 742 1316 l 56 0 M 742 1414 l 28 0 M 742 1512 l 28 0 M 742 1610 l 28 0 M 742 1708 l 28 0  M 742 1807 l 56 0 M 742 1905 l 28 0 M 742 2003 l 28 0 M 742 2101 l 28 0 M 742 2199 l 28 0 M 742 2297 l 56 0  M 6649 630 l 28 0 M 6649 728 l 28 0 M 6621 826 l 56 0 M 6649 924 l 28 0 M 6649 1022 l 28 0 M 6649 1120 l 28 0  M 6649 1218 l 28 0 M 6621 1316 l 56 0 M 6649 1414 l 28 0 M 6649 1512 l 28 0 M 6649 1610 l 28 0 M 6649 1708 l 28 0  M 6621 1807 l 56 0 M 6649 1905 l 28 0 M 6649 2003 l 28 0 M 6649 2101 l 28 0 M 6649 2199 l 28 0 M 6621 2297 l 56 0  \"/>\n",
       "<text transform=\"translate(580,788) scale(1,-1)\"><tspan class=\"fn\" style=\"font-size: 753.1%;\">0</tspan></text>\n",
       "<text transform=\"translate(240,1279) scale(1,-1)\"><tspan class=\"fn\" style=\"font-size: 753.1%;\">5×10<tspan style=\"font-size: 60%;\" dy=\"-0.6em\">−4<tspan style=\"font-size: 166.667%;\" dy=\"+0.36em\"/></tspan></tspan></text>\n",
       "<text transform=\"translate(412,1769) scale(1,-1)\"><tspan class=\"fn\" style=\"font-size: 753.1%;\">10<tspan style=\"font-size: 60%;\" dy=\"-0.6em\">−3<tspan style=\"font-size: 166.667%;\" dy=\"+0.36em\"/></tspan></tspan></text>\n",
       "<text transform=\"translate(127,2260) scale(1,-1)\"><tspan class=\"fn\" style=\"font-size: 753.1%;\">1.5×10<tspan style=\"font-size: 60%;\" dy=\"-0.6em\">−3<tspan style=\"font-size: 166.667%;\" dy=\"+0.36em\"/></tspan></tspan></text>\n",
       "</g>\n",
       "<g style=\"color: rgb(0, 0, 0); fill: currentColor; stroke: currentColor; stroke-width: 4\">\n",
       "<use xlink:href=\"#M1\" transform=\"translate(2287, 714) scale(4.430)\"/>\n",
       "\n",
       "<path fill=\"none\" d=\"M 742 714 l 2271 0 M 2287 576 l 0 340 \"/>\n",
       "<use xlink:href=\"#M1\" transform=\"translate(3153, 2262) scale(4.430)\"/>\n",
       "\n",
       "<path fill=\"none\" d=\"M 3013 2262 l 267 0 M 3153 1484 l 0 820 \"/>\n",
       "<use xlink:href=\"#M1\" transform=\"translate(3555, 617) scale(4.430)\"/>\n",
       "\n",
       "<path fill=\"none\" d=\"M 3280 617 l 505 0 M 3555 576 l 0 355 \"/>\n",
       "<use xlink:href=\"#M1\" transform=\"translate(4044, 819) scale(4.430)\"/>\n",
       "\n",
       "<path fill=\"none\" d=\"M 3785 819 l 477 0 M 4044 583 l 0 472 \"/>\n",
       "<use xlink:href=\"#M1\" transform=\"translate(4679, 821) scale(4.430)\"/>\n",
       "\n",
       "<path fill=\"none\" d=\"M 4262 821 l 739 0 M 4679 722 l 0 199 \"/>\n",
       "<use xlink:href=\"#M1\" transform=\"translate(6071, 869) scale(4.430)\"/>\n",
       "\n",
       "<path fill=\"none\" d=\"M 5001 869 l 1676 0 M 6071 848 l 0 42 \"/>\n",
       "</g>\n",
       "<g style=\"color: rgb(0, 0, 0); fill: currentColor; stroke: currentColor; stroke-width: 8\">\n",
       "<text transform=\"translate(111,962) scale(1,-1) rotate(-90)\"><tspan class=\"fn\" style=\"font-size: 753.1%;\">counts s<tspan style=\"font-size: 60%;\" dy=\"-0.6em\">−1<tspan style=\"font-size: 166.667%;\" dy=\"+0.36em\"> keV<tspan style=\"font-size: 60%;\" dy=\"-0.6em\">−1<tspan style=\"font-size: 166.667%;\" dy=\"+0.36em\"/></tspan></tspan></tspan></tspan></text>\n",
       "<text transform=\"translate(3323,269) scale(1,-1)\"><tspan class=\"fn\" style=\"font-size: 753.1%;\">Energy (keV)</tspan></text>\n",
       "</g>\n",
       "<g style=\"color: rgb(0, 255, 0); fill: currentColor; stroke: currentColor; stroke-width: 8\">\n",
       "\n",
       "<path fill=\"none\" d=\"M 742 826 l 5935 0 \"/>\n",
       "</g>\n",
       "<g style=\"color: rgb(0, 0, 0); fill: currentColor; stroke: currentColor; stroke-width: 4\">\n",
       "<text transform=\"translate(6246,46) scale(1,-1)\"><tspan class=\"fn\" style=\"font-size: 531.6%;\">rwebbe  3−Sep−2025 09:30</tspan></text>\n",
       "</g>\n",
       "<!-- _PGPLOT_SVG_ATEND: viewbox=\"           -8.104365            27.140120          7607.921387          5564.966309\" -->\n",
       "</svg>"
      ],
      "text/plain": [
       "<IPython.core.display.SVG object>"
      ]
     },
     "metadata": {},
     "output_type": "display_data"
    },
    {
     "name": "stdout",
     "output_type": "stream",
     "text": [
      "\n",
      "========================================================================\n",
      "Model TBabs<1>*bbody<2> Source No.: 1   Active/On\n",
      "Model Model Component  Parameter  Unit     Value\n",
      " par  comp\n",
      "   1    1   TBabs      nH         10^22    1.00000      +/-  0.0          \n",
      "   2    2   bbody      kT         keV      3.00000      +/-  0.0          \n",
      "   3    2   bbody      norm                1.00000      +/-  0.0          \n",
      "________________________________________________________________________\n",
      "\n",
      "tbvabs Version 2.3\n",
      "Cosmic absorption with grains and H2, modified from\n",
      "Wilms, Allen, & McCray, 2000, ApJ 542, 914-924\n",
      "Questions: Joern Wilms\n",
      "joern.wilms@sternwarte.uni-erlangen.de\n",
      "joern.wilms@fau.de\n",
      "\n",
      "http://pulsar.sternwarte.uni-erlangen.de/wilms/research/tbabs/\n",
      "\n",
      "PLEASE NOTICE:\n",
      "To get the model described by the above paper\n",
      "you will also have to set the abundances:\n",
      "   abund wilm\n",
      "\n",
      "Note that this routine ignores the current cross section setting\n",
      "as it always HAS to use the Verner cross sections as a baseline.\n",
      "\n",
      "Fit statistic  : Chi-Squared              2.559646e+12     using 6 bins.\n",
      "\n",
      "Test statistic : Chi-Squared              2.559646e+12     using 6 bins.\n",
      " Null hypothesis probability of 0.000000e+00 with 3 degrees of freedom\n",
      " Current data and model not fit yet.\n",
      "                                   Parameters\n",
      "Chi-Squared  |beta|/N    Lvl          1:nH          2:kT        3:norm\n",
      "24.5418      0.790513      0      0.122277       3.06746   2.97386e-06\n",
      "22.2396      397591       -1     0.0196697       2.65239   2.36321e-06\n",
      "19.7775      423692       -1    0.00764533       2.17957   1.79617e-06\n",
      "16.7606      364443       -1     0.0461906       1.69867   1.30970e-06\n",
      "12.5405      368816       -1      0.274923       1.23822   1.00654e-06\n",
      "9.9589       702046       -2      0.872891      0.735600   8.75781e-07\n",
      "8.45257      1.30765e+06  -3       1.22963      0.764336   1.11646e-06\n",
      "8.43134      134022       -4       1.11257      0.784097   1.09041e-06\n",
      "8.42858      9419.39      -5       1.14741      0.781955   1.10338e-06\n",
      "8.42834      79.5024      -6       1.13407      0.783822   1.09915e-06\n",
      "8.42831      117.118      -7       1.13811      0.783447   1.10052e-06\n",
      "========================================\n",
      " Variances and Principal Axes\n",
      "                 1        2        3  \n",
      " 2.5647E-14| -0.0000  -0.0000   1.0000  \n",
      " 9.6725E-03| -0.1653  -0.9862  -0.0000  \n",
      " 5.2845E-01|  0.9862  -0.1653   0.0000  \n",
      "----------------------------------------\n",
      "\n",
      "====================================\n",
      "  Covariance Matrix\n",
      "        1           2           3   \n",
      "   5.143e-01  -8.457e-02   1.573e-07\n",
      "  -8.457e-02   2.385e-02  -2.159e-08\n",
      "   1.573e-07  -2.159e-08   7.557e-14\n",
      "------------------------------------\n",
      "\n",
      "========================================================================\n",
      "Model TBabs<1>*bbody<2> Source No.: 1   Active/On\n",
      "Model Model Component  Parameter  Unit     Value\n",
      " par  comp\n",
      "   1    1   TBabs      nH         10^22    1.13811      +/-  0.717130     \n",
      "   2    2   bbody      kT         keV      0.783447     +/-  0.154425     \n",
      "   3    2   bbody      norm                1.10052E-06  +/-  2.74909E-07  \n",
      "________________________________________________________________________\n",
      "\n",
      "\n",
      "Fit statistic  : Chi-Squared                  8.4283     using 6 bins.\n",
      "\n",
      "Test statistic : Chi-Squared                  8.4283     using 6 bins.\n",
      " Null hypothesis probability of 3.7941e-02 with 3 degrees of freedom\n"
     ]
    }
   ],
   "source": [
    "#spec.ignore(\"**-0.2 12.0-**\")\n",
    "mo = Model(\"tbabs*bbody\")\n",
    "Fit.perform()\n",
    "Plot(\"data resid\")"
   ]
  },
  {
   "cell_type": "code",
   "execution_count": 5,
   "metadata": {},
   "outputs": [
    {
     "name": "stdout",
     "output_type": "stream",
     "text": [
      "Cannot do error calc: Reduced Chi^2 (= 2.80944) > maximum (2)\n"
     ]
    },
    {
     "ename": "Exception",
     "evalue": "Error executing command: error",
     "output_type": "error",
     "traceback": [
      "\u001b[0;31m---------------------------------------------------------------------------\u001b[0m",
      "\u001b[0;31mException\u001b[0m                                 Traceback (most recent call last)",
      "\u001b[0;32m<ipython-input-5-21d339ad0c88>\u001b[0m in \u001b[0;36m<module>\u001b[0;34m\u001b[0m\n\u001b[0;32m----> 1\u001b[0;31m \u001b[0mFit\u001b[0m\u001b[0;34m.\u001b[0m\u001b[0merror\u001b[0m\u001b[0;34m(\u001b[0m\u001b[0;34m\"1\"\u001b[0m\u001b[0;34m)\u001b[0m\u001b[0;34m\u001b[0m\u001b[0;34m\u001b[0m\u001b[0m\n\u001b[0m\u001b[1;32m      2\u001b[0m \u001b[0mFit\u001b[0m\u001b[0;34m.\u001b[0m\u001b[0merror\u001b[0m\u001b[0;34m(\u001b[0m\u001b[0;34m\"2\"\u001b[0m\u001b[0;34m)\u001b[0m\u001b[0;34m\u001b[0m\u001b[0;34m\u001b[0m\u001b[0m\n\u001b[1;32m      3\u001b[0m \u001b[0;34m\u001b[0m\u001b[0m\n\u001b[1;32m      4\u001b[0m \u001b[0mout_arr\u001b[0m\u001b[0;34m[\u001b[0m\u001b[0;36m0\u001b[0m\u001b[0;34m,\u001b[0m\u001b[0;36m0\u001b[0m\u001b[0;34m]\u001b[0m \u001b[0;34m=\u001b[0m \u001b[0;34m'bbody'\u001b[0m\u001b[0;34m\u001b[0m\u001b[0;34m\u001b[0m\u001b[0m\n\u001b[1;32m      5\u001b[0m \u001b[0mout_arr\u001b[0m\u001b[0;34m[\u001b[0m\u001b[0;36m0\u001b[0m\u001b[0;34m,\u001b[0m\u001b[0;36m1\u001b[0m\u001b[0;34m:\u001b[0m\u001b[0;36m4\u001b[0m\u001b[0;34m]\u001b[0m \u001b[0;34m=\u001b[0m \u001b[0mmo\u001b[0m\u001b[0;34m.\u001b[0m\u001b[0mTBabs\u001b[0m\u001b[0;34m.\u001b[0m\u001b[0mnH\u001b[0m\u001b[0;34m.\u001b[0m\u001b[0mvalues\u001b[0m\u001b[0;34m[\u001b[0m\u001b[0;36m0\u001b[0m\u001b[0;34m]\u001b[0m\u001b[0;34m,\u001b[0m \u001b[0mmo\u001b[0m\u001b[0;34m.\u001b[0m\u001b[0mTBabs\u001b[0m\u001b[0;34m.\u001b[0m\u001b[0mnH\u001b[0m\u001b[0;34m.\u001b[0m\u001b[0mvalues\u001b[0m\u001b[0;34m[\u001b[0m\u001b[0;36m0\u001b[0m\u001b[0;34m]\u001b[0m \u001b[0;34m-\u001b[0m \u001b[0mmo\u001b[0m\u001b[0;34m.\u001b[0m\u001b[0mTBabs\u001b[0m\u001b[0;34m.\u001b[0m\u001b[0mnH\u001b[0m\u001b[0;34m.\u001b[0m\u001b[0merror\u001b[0m\u001b[0;34m[\u001b[0m\u001b[0;36m0\u001b[0m\u001b[0;34m]\u001b[0m\u001b[0;34m,\u001b[0m \u001b[0mmo\u001b[0m\u001b[0;34m.\u001b[0m\u001b[0mTBabs\u001b[0m\u001b[0;34m.\u001b[0m\u001b[0mnH\u001b[0m\u001b[0;34m.\u001b[0m\u001b[0merror\u001b[0m\u001b[0;34m[\u001b[0m\u001b[0;36m1\u001b[0m\u001b[0;34m]\u001b[0m \u001b[0;34m-\u001b[0m \u001b[0mmo\u001b[0m\u001b[0;34m.\u001b[0m\u001b[0mTBabs\u001b[0m\u001b[0;34m.\u001b[0m\u001b[0mnH\u001b[0m\u001b[0;34m.\u001b[0m\u001b[0mvalues\u001b[0m\u001b[0;34m[\u001b[0m\u001b[0;36m0\u001b[0m\u001b[0;34m]\u001b[0m\u001b[0;34m\u001b[0m\u001b[0;34m\u001b[0m\u001b[0m\n",
      "\u001b[0;32m~/astro_soft/heasoft-6.32.1/x86_64-pc-linux-gnu-libc2.31/lib/python/xspec/fit.py\u001b[0m in \u001b[0;36merror\u001b[0;34m(self, argString, respPar)\u001b[0m\n\u001b[1;32m    423\u001b[0m             \u001b[0merrorArgs\u001b[0m \u001b[0;34m=\u001b[0m \u001b[0;34m[\u001b[0m\u001b[0;34m\"error\"\u001b[0m\u001b[0;34m]\u001b[0m\u001b[0;34m\u001b[0m\u001b[0;34m\u001b[0m\u001b[0m\n\u001b[1;32m    424\u001b[0m         \u001b[0merrorArgs\u001b[0m \u001b[0;34m+=\u001b[0m \u001b[0margString\u001b[0m\u001b[0;34m.\u001b[0m\u001b[0msplit\u001b[0m\u001b[0;34m(\u001b[0m\u001b[0;34m)\u001b[0m\u001b[0;34m\u001b[0m\u001b[0;34m\u001b[0m\u001b[0m\n\u001b[0;32m--> 425\u001b[0;31m         \u001b[0m_pyXspec\u001b[0m\u001b[0;34m.\u001b[0m\u001b[0mdoXspecCmd\u001b[0m\u001b[0;34m(\u001b[0m\u001b[0merrorArgs\u001b[0m\u001b[0;34m)\u001b[0m\u001b[0;34m\u001b[0m\u001b[0;34m\u001b[0m\u001b[0m\n\u001b[0m\u001b[1;32m    426\u001b[0m \u001b[0;34m\u001b[0m\u001b[0m\n\u001b[1;32m    427\u001b[0m     \u001b[0;32mdef\u001b[0m \u001b[0mftest\u001b[0m\u001b[0;34m(\u001b[0m\u001b[0mself\u001b[0m\u001b[0;34m,\u001b[0m \u001b[0mchisq2\u001b[0m\u001b[0;34m,\u001b[0m \u001b[0mdof2\u001b[0m\u001b[0;34m,\u001b[0m \u001b[0mchisq1\u001b[0m\u001b[0;34m,\u001b[0m \u001b[0mdof1\u001b[0m\u001b[0;34m)\u001b[0m\u001b[0;34m:\u001b[0m\u001b[0;34m\u001b[0m\u001b[0;34m\u001b[0m\u001b[0m\n",
      "\u001b[0;31mException\u001b[0m: Error executing command: error"
     ]
    }
   ],
   "source": [
    "Fit.error(\"1\")\n",
    "Fit.error(\"2\")\n",
    "\n",
    "out_arr[0,0] = 'bbody'\n",
    "out_arr[0,1:4] = mo.TBabs.nH.values[0], mo.TBabs.nH.values[0] - mo.TBabs.nH.error[0], mo.TBabs.nH.error[1] - mo.TBabs.nH.values[0]\n",
    "out_arr[0,4:7] = mo.bbody.kT.values[0], mo.bbody.kT.values[0] - mo.bbody.kT.error[0], mo.bbody.kT.error[1] - mo.bbody.kT.values[0]\n",
    "out_arr[0,-2:] = Fit.dof, Fit.statistic / Fit.dof\n"
   ]
  },
  {
   "cell_type": "code",
   "execution_count": null,
   "metadata": {
    "scrolled": false
   },
   "outputs": [],
   "source": [
    "AllModels.clear()\n",
    "mo = Model(\"tbabs*bremss\")\n",
    "Fit.perform()\n",
    "Plot(\"data resid\")"
   ]
  },
  {
   "cell_type": "code",
   "execution_count": null,
   "metadata": {},
   "outputs": [],
   "source": [
    "Fit.error(\"1\")\n",
    "Fit.error(\"2\")\n",
    "\n",
    "out_arr[3,0] = 'bremss'\n",
    "out_arr[3,1:4] = mo.TBabs.nH.values[0], mo.TBabs.nH.values[0] - mo.TBabs.nH.error[0], mo.TBabs.nH.error[1] - mo.TBabs.nH.values[0]\n",
    "out_arr[3,4:7] = mo.bremss.kT.values[0], mo.bremss.kT.values[0] - mo.bremss.kT.error[0], mo.bremss.kT.error[1] - mo.bremss.kT.values[0]\n",
    "out_arr[3,-2:] = Fit.dof, Fit.statistic / Fit.dof\n"
   ]
  },
  {
   "cell_type": "code",
   "execution_count": null,
   "metadata": {
    "scrolled": false
   },
   "outputs": [],
   "source": [
    "AllModels.clear()\n",
    "mo = Model(\"tbabs*apec\")\n",
    "Fit.perform()\n",
    "Plot(\"data resid\")"
   ]
  },
  {
   "cell_type": "code",
   "execution_count": null,
   "metadata": {},
   "outputs": [],
   "source": [
    "Fit.error(\"1\")\n",
    "Fit.error(\"2\")\n",
    "\n",
    "out_arr[2,0] = 'apec'\n",
    "out_arr[2,1:4] = mo.TBabs.nH.values[0], mo.TBabs.nH.values[0] - mo.TBabs.nH.error[0], mo.TBabs.nH.error[1] - mo.TBabs.nH.values[0]\n",
    "out_arr[2,13] = mo.apec.Abundanc.values[0]\n",
    "out_arr[2,4:7] = mo.apec.kT.values[0], mo.apec.kT.values[0] - mo.apec.kT.error[0], mo.apec.kT.error[1] - mo.apec.kT.values[0]\n",
    "out_arr[2,-2:] = Fit.dof, Fit.statistic / Fit.dof\n"
   ]
  },
  {
   "cell_type": "code",
   "execution_count": null,
   "metadata": {
    "scrolled": false
   },
   "outputs": [],
   "source": [
    "AllModels.clear()\n",
    "mo = Model(\"tbabs*powerlaw\")\n",
    "Fit.perform()\n",
    "Plot(\"data resid\")"
   ]
  },
  {
   "cell_type": "code",
   "execution_count": null,
   "metadata": {},
   "outputs": [],
   "source": [
    "Fit.error(\"1\")\n",
    "Fit.error(\"2\")\n",
    "\n",
    "out_arr[1,0] = 'powerlaw'\n",
    "out_arr[1,1:4] = mo.TBabs.nH.values[0], mo.TBabs.nH.values[0] - mo.TBabs.nH.error[0], mo.TBabs.nH.error[1] - mo.TBabs.nH.values[0]\n",
    "out_arr[1,14:17] = mo.powerlaw.PhoIndex.values[0], mo.powerlaw.PhoIndex.values[0] - mo.powerlaw.PhoIndex.error[0], mo.powerlaw.PhoIndex.error[1] - mo.powerlaw.PhoIndex.values[0]\n",
    "out_arr[1,-2:] = Fit.dof, Fit.statistic / Fit.dof\n"
   ]
  },
  {
   "cell_type": "code",
   "execution_count": null,
   "metadata": {},
   "outputs": [],
   "source": [
    "np.savetxt('../spec16_output.csv',out_arr,fmt=['%s','%.2f','%.2f','%.2f','%.2f','%.2f','%.2f','%.2f','%.2f','%.2f','%.2f','%.2f','%.2f','%.1f','%.2f','%.2f','%.2f','%i','%.2f'],delimiter=',')\n"
   ]
  },
  {
   "cell_type": "code",
   "execution_count": null,
   "metadata": {},
   "outputs": [],
   "source": [
    "AllModels.calcFlux(\".2 12.0\")"
   ]
  },
  {
   "cell_type": "code",
   "execution_count": null,
   "metadata": {},
   "outputs": [],
   "source": [
    "#plx = 1.4843\n",
    "d_kpc = 8\n",
    "F_x = 8.4256*10**-14\n",
    "\n",
    "L_x = 4*3.14*F_x*(d_kpc*3.086*10**21)**2\n",
    "print(L_x)"
   ]
  },
  {
   "cell_type": "code",
   "execution_count": null,
   "metadata": {},
   "outputs": [],
   "source": [
    "import numpy as np\n",
    "print(d_kpc)\n",
    "print(np.log10(L_x))"
   ]
  },
  {
   "cell_type": "code",
   "execution_count": null,
   "metadata": {},
   "outputs": [],
   "source": [
    "F_opt = 1.05*10**-5 * 10**(-0.4*20.7)\n",
    "print('Optical Flux: ',F_opt)\n",
    "print('F_x / F_opt: ', np.log10(F_x/F_opt))"
   ]
  }
 ],
 "metadata": {
  "kernelspec": {
   "display_name": "Python 3 (ipykernel)",
   "language": "python",
   "name": "python3"
  },
  "language_info": {
   "codemirror_mode": {
    "name": "ipython",
    "version": 3
   },
   "file_extension": ".py",
   "mimetype": "text/x-python",
   "name": "python",
   "nbconvert_exporter": "python",
   "pygments_lexer": "ipython3",
   "version": "3.8.10"
  }
 },
 "nbformat": 4,
 "nbformat_minor": 4
}
