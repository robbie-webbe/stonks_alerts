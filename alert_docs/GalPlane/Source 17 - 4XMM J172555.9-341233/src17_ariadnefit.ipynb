{
 "cells": [
  {
   "cell_type": "code",
   "execution_count": 1,
   "metadata": {},
   "outputs": [
    {
     "name": "stderr",
     "output_type": "stream",
     "text": [
      "Holoviews not imported. Some visualizations will not be available.\n",
      "PyMultiNest not imported.  MultiNest fits will not work.\n",
      "/home/rwebbe/.local/lib/python3.8/site-packages/astroARIADNE/fitter.py:43: UserWarning: (py)MultiNest installation (or libmultinest.dylib) not detected.\n",
      "  warnings.warn(\n"
     ]
    }
   ],
   "source": [
    "from astroARIADNE.star import Star\n",
    "from astroARIADNE.fitter import Fitter\n",
    "from dustmaps.config import config\n",
    "config['data_dir'] = '/home/rwebbe/data/dustmaps'"
   ]
  },
  {
   "cell_type": "code",
   "execution_count": 2,
   "metadata": {
    "scrolled": true
   },
   "outputs": [
    {
     "name": "stdout",
     "output_type": "stream",
     "text": [
      "\n",
      "\t\t#####################################\n",
      "\t\t##             ARIADNE             ##\n",
      "\t\t#####################################\n",
      "   spectrAl eneRgy dIstribution bAyesian moDel averagiNg fittEr\n",
      "\n",
      "\t\t\tAuthor : Jose Vines\n",
      "\t\t\tContact : jose . vines at ug . uchile . cl\n",
      "\t\t\tStar : 5976043093660047616\n",
      "\t\t*** LOOKING UP ARCHIVAL INFORMATION ***\n",
      "INFO: Query finished. [astroquery.utils.tap.core]\n",
      "Warning!: CatalogWarning\n",
      "Warning message: Parameter teff not found! Be advised.\n",
      "Warning!: CatalogWarning\n",
      "Warning message: Parameter radius not found! Be advised.\n",
      "Warning!: CatalogWarning\n",
      "Warning message: Parameter lum not found! Be advised.\n",
      "INFO: Query finished. [astroquery.utils.tap.core]\n",
      "Star not found in catalog TYCHO2.\n",
      "INFO: Query finished. [astroquery.utils.tap.core]\n",
      "Star not found in catalog Pan-STARRS.\n",
      "INFO: Query finished. [astroquery.utils.tap.core]\n",
      "Star not found in catalog SDSS.\n",
      "INFO: Query finished. [astroquery.utils.tap.core]\n",
      "Star not found in catalog Wise.\n",
      "INFO: Query finished. [astroquery.utils.tap.core]\n",
      "INFO: Query finished. [astroquery.utils.tap.core]\n",
      "Star not found in catalog APASS.\n",
      "Looking online for archival magnitudes for star 5976043093660047616\n",
      "Checking catalog Gaia DR3\n",
      "Checking catalog 2MASS\n",
      "Warning!: CatalogWarning\n",
      "Warning message: Catalog 2MASS_J entry is either an extended source, is of bad quality or is contaminated. Skipping.\n",
      "Warning!: CatalogWarning\n",
      "Warning message: Catalog 2MASS_H entry is either an extended source, is of bad quality or is contaminated. Skipping.\n",
      "Warning!: CatalogWarning\n",
      "Warning message: Catalog 2MASS_Ks entry is either an extended source, is of bad quality or is contaminated. Skipping.\n",
      "Checking catalog GLIMPSE\n",
      "Warning!: CatalogWarning\n",
      "Warning message: Star is not available in catalog GALEX. Skipping\n",
      "Checking catalog TICv8\n",
      "Warning!: CatalogWarning\n",
      "Warning message: Star is not available in catalog SkyMapper. Skipping\n",
      "Warning!: CatalogWarning\n",
      "Warning message: Star is not available in catalog STROMGREN_PAUNZ. Skipping\n",
      "Warning!: CatalogWarning\n",
      "Warning message: Star is not available in catalog STROMGREN_HAUCK. Skipping\n",
      "Warning!: CatalogWarning\n",
      "Warning message: Star is not available in catalog MERMILLIOD. Skipping\n",
      "\t\t\tGaia DR3 ID : 5976043093660047616\n",
      "\t\t\tTIC : 159481849\n",
      "\t\t\tGaia Effective temperature : 0.000 +/- 0.000\n",
      "\t\t\tGaia Stellar radius : 0.000 +/- 0.000\n",
      "\t\t\tGaia Stellar Luminosity : 0.000 +/- 0.000\n",
      "\t\t\tGaia Parallax : 0.762 +/- 0.252\n",
      "\t\t\tBailer-Jones distance : 1884.873 +/- 1150.412\n",
      "\t\t\tMaximum Av : 19.682\n",
      "\n",
      "\t\t       Filter       \tMagnitude\tUncertainty\n",
      "\t\t--------------------\t---------\t-----------\n",
      "\t\t    GaiaDR2v2_BP    \t 21.1055 \t  0.1677   \n",
      "\t\t    GaiaDR2v2_G     \t 18.5689 \t  0.0040   \n",
      "\t\t    GaiaDR2v2_RP    \t 16.9516 \t  0.0121   \n",
      "\t\t        TESS        \t 17.4528 \t  0.0388   \n",
      "\t\t  SPITZER_IRAC_36   \t 10.7670 \t  0.0930   \n",
      "\t\t  SPITZER_IRAC_45   \t 10.7800 \t  0.1120   \n",
      "\n"
     ]
    }
   ],
   "source": [
    "gaia_id = 5976043093660047616\n",
    "ra = 261.4833894\n",
    "dec = -34.2086150\n",
    "starname = str(gaia_id)\n",
    "s = Star(starname, ra, dec, g_id = gaia_id, dustmap='Planck16')"
   ]
  },
  {
   "cell_type": "code",
   "execution_count": 3,
   "metadata": {},
   "outputs": [
    {
     "name": "stdout",
     "output_type": "stream",
     "text": [
      "Created the directory ariadnefit\n",
      "\n",
      "\t\t*** EXECUTING MAIN FITTING ROUTINE ***\n",
      "\t\t\tSelected engine : Bayesian Model Averaging\n",
      "\t\t\tLive points : 500\n",
      "\t\t\tlog Evidence tolerance : 0.5\n",
      "\t\t\tFree parameters : 12\n",
      "\t\t\tBounding : multi\n",
      "\t\t\tSampling : rwalk\n",
      "\t\t\tN threads : 4\n",
      "\n"
     ]
    }
   ],
   "source": [
    "out_folder = 'ariadnefit'\n",
    "\n",
    "engine = 'dynesty'\n",
    "nlive = 500\n",
    "dlogz = 0.5\n",
    "bound = 'multi'\n",
    "sample = 'rwalk'\n",
    "threads = 4\n",
    "dynamic = False\n",
    "setup = [engine, nlive, dlogz, bound, sample, threads, dynamic]\n",
    "\n",
    "models = ['phoenix','btsettl','btnextgen','btcond','kurucz','ck04']\n",
    "f = Fitter()\n",
    "f.star = s\n",
    "f.setup = setup\n",
    "f.av_law = 'fitzpatrick'\n",
    "f.out_folder = out_folder\n",
    "f.bma = True\n",
    "f.models = models\n",
    "f.n_samples = 100000\n",
    "\n",
    "f.prior_setup = {'teff': ('default'),'logg': ('default'),'z': ('default'),'dist': ('default'),'rad': ('default'),'Av': ('default')}\n",
    "f.initialize()\n"
   ]
  },
  {
   "cell_type": "code",
   "execution_count": 4,
   "metadata": {},
   "outputs": [
    {
     "name": "stdout",
     "output_type": "stream",
     "text": [
      "\t\t\tFITTING MODEL : phoenix\n"
     ]
    },
    {
     "name": "stderr",
     "output_type": "stream",
     "text": [
      "7394it [03:09, 38.95it/s, +500 | bound: 76 | nc: 1 | ncall: 158781 | eff(%):  4.987 | loglstar:   -inf < 166.360 <    inf | logz: 152.159 +/-  0.165 | dlogz:  0.001 >  0.500] \n"
     ]
    },
    {
     "name": "stdout",
     "output_type": "stream",
     "text": [
      "\t\t\tFITTING MODEL : btsettl\n"
     ]
    },
    {
     "name": "stderr",
     "output_type": "stream",
     "text": [
      "7448it [04:17, 28.95it/s, +500 | bound: 79 | nc: 1 | ncall: 160100 | eff(%):  4.980 | loglstar:   -inf < 167.971 <    inf | logz: 153.691 +/-    nan | dlogz:  0.001 >  0.500]  \n"
     ]
    },
    {
     "name": "stdout",
     "output_type": "stream",
     "text": [
      "\t\t\tFITTING MODEL : btnextgen\n"
     ]
    },
    {
     "name": "stderr",
     "output_type": "stream",
     "text": [
      "6838it [04:38, 24.54it/s, +500 | bound: 71 | nc: 1 | ncall: 143863 | eff(%):  5.118 | loglstar:   -inf < 165.574 <    inf | logz: 152.408 +/-    nan | dlogz:  0.001 >  0.500]  \n"
     ]
    },
    {
     "name": "stdout",
     "output_type": "stream",
     "text": [
      "\t\t\tFITTING MODEL : btcond\n"
     ]
    },
    {
     "name": "stderr",
     "output_type": "stream",
     "text": [
      "6911it [07:10, 16.04it/s, +500 | bound: 69 | nc: 1 | ncall: 146759 | eff(%):  5.067 | loglstar:   -inf < 166.520 <    inf | logz: 153.280 +/-    nan | dlogz:  0.001 >  0.500] \n"
     ]
    },
    {
     "name": "stdout",
     "output_type": "stream",
     "text": [
      "\t\t*** AVERAGING POSTERIOR SAMPLES ***\n"
     ]
    },
    {
     "name": "stderr",
     "output_type": "stream",
     "text": [
      "100%|██████████| 16/16 [00:01<00:00, 10.06it/s]\n",
      "/home/rwebbe/.local/lib/python3.8/site-packages/astroARIADNE/fitter.py:1351: RuntimeWarning: invalid value encountered in log10\n",
      "  mass = logg + 2 * np.log10(rad) - 4.437\n"
     ]
    },
    {
     "name": "stdout",
     "output_type": "stream",
     "text": [
      "HDR failed for parameter grav_mass, reverting to regular CI calculation. Be sure to check the histograms afterwards for diagnosis.\n",
      "\t\t*** ESTIMATING AGE AND MASS USING MIST ISOCHRONES ***\n"
     ]
    },
    {
     "name": "stderr",
     "output_type": "stream",
     "text": [
      "10524it [01:47, 97.53it/s, +500 | bound: 119 | nc: 1 | ncall: 274413 | eff(%):  4.025 | loglstar:   -inf < -17.040 <    inf | logz: -33.708 +/-  6.573 | dlogz:  0.000 >  0.010] \n"
     ]
    },
    {
     "name": "stdout",
     "output_type": "stream",
     "text": [
      "\n",
      "\t\t\tFitting finished.\n",
      "\t\t\tBest fit parameters are:\n",
      "\t\t\tteff : 4615.1006 + 1053.8612 - 377.7993 [3799.8495, 6762.5913]\n",
      "\t\t\tlogg : 4.4918 + 0.4658 - 0.6916 [3.5602, 5.6634]\n",
      "\t\t\t[Fe/H] : -0.1403 + 0.1985 - 0.2056 [-0.6827, 0.3773]\n",
      "\t\t\tdist : 4173.4591 + 2598.9666 - 857.1060 [2293.3556, 10532.6327]\n",
      "\t\t\trad : 5.6179 + 4.1245 - 1.3951 [2.2213, 20.3570]\n",
      "\t\t\tAv : 4.7939 + 0.8099 - 1.0799 [2.1260, 6.8583]\n",
      "\t\t\tAngular Diameter : 0.0111 + 0.0093 - 0.0048 [0.0030, 0.0507]\n",
      "\t\t\tGrav mass : 18.5827 + 68.6439 - 17.1610 [1.4217, 991.0383]\n",
      "\t\t\tLuminosity : 15.7754 + 32.6890 - 9.8067 [1.6102, 243.5088]\n",
      "\t\t\tIso mass : 0.9021 + 0.2313 - 0.2643 [0.2602, 1.6716]\n",
      "\t\t\tAge (Gyr) : 1.3534 + 10.3749 - 1.3532 [0.0001, 13.4424]\n",
      "\t\t\tEEP : 342.3099 + 91.9209 - 59.3038 [72.4775, 514.2910]\n",
      "\t\t\tExcess BP noise : 0.8374 + 0.6189 - 0.2919 [0.1251, 3.6167]\n",
      "\t\t\tExcess G noise : 0.0182 + 0.0249 - 0.0095 [0.0025, 0.1040]\n",
      "\t\t\tExcess RP noise : 0.0766 + 0.0677 - 0.0544 [0.0048, 0.3117]\n",
      "\t\t\tExcess TESS noise : 0.5411 + 0.1449 - 0.1594 [0.1498, 1.2331]\n",
      "\t\t\tExcess IRAC 36 noise : 1.1129 + 0.3526 - 0.3301 [0.3628, 2.6057]\n",
      "\t\t\tExcess IRAC 45 noise : 1.4705 + 0.5102 - 0.7049 [0.3388, 3.1029]\n",
      "\t\t\tMamajek Spectral Type : K4V\n",
      "\t\t\tphoenix probability : 0.1002\n",
      "\t\t\tbtsettl probability : 0.4638\n",
      "\t\t\tbtnextgen probability : 0.1285\n",
      "\t\t\tbtcond probability : 0.3075\n",
      "\t\t\tElapsed time : 22 minutes and 9.22 seconds\n"
     ]
    }
   ],
   "source": [
    "f.fit_bma()"
   ]
  },
  {
   "cell_type": "code",
   "execution_count": 1,
   "metadata": {},
   "outputs": [
    {
     "name": "stdout",
     "output_type": "stream",
     "text": [
      "L_X / L_Bol:  0.00017432204571674888 -3.7586476861677065\n"
     ]
    }
   ],
   "source": [
    "import numpy as np\n",
    "\n",
    "Lbol_sun = 4 * 10**33\n",
    "L_bol = Lbol_sun * 15.7754\n",
    "L_x = 1.1*10**31\n",
    "\n",
    "print(\"L_X / L_Bol: \",L_x/L_bol,np.log10(L_x/L_bol))"
   ]
  }
 ],
 "metadata": {
  "kernelspec": {
   "display_name": "Python 3 (ipykernel)",
   "language": "python",
   "name": "python3"
  },
  "language_info": {
   "codemirror_mode": {
    "name": "ipython",
    "version": 3
   },
   "file_extension": ".py",
   "mimetype": "text/x-python",
   "name": "python",
   "nbconvert_exporter": "python",
   "pygments_lexer": "ipython3",
   "version": "3.8.10"
  }
 },
 "nbformat": 4,
 "nbformat_minor": 4
}
