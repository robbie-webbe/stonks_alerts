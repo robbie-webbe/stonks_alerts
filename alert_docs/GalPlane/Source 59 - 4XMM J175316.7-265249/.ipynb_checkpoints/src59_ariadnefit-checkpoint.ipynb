{
 "cells": [
  {
   "cell_type": "code",
   "execution_count": 1,
   "metadata": {},
   "outputs": [
    {
     "name": "stderr",
     "output_type": "stream",
     "text": [
      "Holoviews not imported. Some visualizations will not be available.\n",
      "PyMultiNest not imported.  MultiNest fits will not work.\n",
      "/home/rwebbe/.local/lib/python3.8/site-packages/astroARIADNE/fitter.py:43: UserWarning: (py)MultiNest installation (or libmultinest.dylib) not detected.\n",
      "  warnings.warn(\n"
     ]
    }
   ],
   "source": [
    "from astroARIADNE.star import Star\n",
    "from astroARIADNE.fitter import Fitter\n",
    "from dustmaps.config import config\n",
    "config['data_dir'] = '/home/rwebbe/data/dustmaps'"
   ]
  },
  {
   "cell_type": "code",
   "execution_count": 2,
   "metadata": {
    "scrolled": true
   },
   "outputs": [
    {
     "name": "stdout",
     "output_type": "stream",
     "text": [
      "\n",
      "\t\t#####################################\n",
      "\t\t##             ARIADNE             ##\n",
      "\t\t#####################################\n",
      "   spectrAl eneRgy dIstribution bAyesian moDel averagiNg fittEr\n",
      "\n",
      "\t\t\tAuthor : Jose Vines\n",
      "\t\t\tContact : jose . vines at ug . uchile . cl\n",
      "\t\t\tStar : 4063819096797429760\n",
      "\t\t*** LOOKING UP ARCHIVAL INFORMATION ***\n",
      "INFO: Query finished. [astroquery.utils.tap.core]\n",
      "INFO: Query finished. [astroquery.utils.tap.core]\n",
      "Star not found in catalog TYCHO2.\n",
      "INFO: Query finished. [astroquery.utils.tap.core]\n",
      "INFO: Query finished. [astroquery.utils.tap.core]\n",
      "Star not found in catalog SDSS.\n",
      "INFO: Query finished. [astroquery.utils.tap.core]\n",
      "Star not found in catalog Wise.\n",
      "INFO: Query finished. [astroquery.utils.tap.core]\n",
      "INFO: Query finished. [astroquery.utils.tap.core]\n",
      "Looking online for archival magnitudes for star 4063819096797429760\n",
      "Checking catalog APASS\n",
      "Warning!: CatalogWarning\n",
      "Warning message: Star is not available in catalog APASS. Skipping\n",
      "Checking catalog Pan-STARRS1\n",
      "Warning!: CatalogWarning\n",
      "Warning message: rmag magnitude error not found, assigning error.\n",
      "Warning!: CatalogWarning\n",
      "Warning message: imag magnitude error not found, assigning error.\n",
      "Warning!: CatalogWarning\n",
      "Warning message: zmag magnitude error not found, assigning error.\n",
      "Warning!: CatalogWarning\n",
      "Warning message: ymag magnitude error not found, assigning error.\n",
      "Checking catalog Gaia DR3\n",
      "Checking catalog 2MASS\n",
      "Warning!: CatalogWarning\n",
      "Warning message: Catalog 2MASS_H entry is either an extended source, is of bad quality or is contaminated. Skipping.\n",
      "Warning!: CatalogWarning\n",
      "Warning message: Catalog 2MASS_Ks entry is either an extended source, is of bad quality or is contaminated. Skipping.\n",
      "Checking catalog GLIMPSE\n",
      "Warning!: CatalogWarning\n",
      "Warning message: Star is not available in catalog GLIMPSE. Skipping\n",
      "Warning!: CatalogWarning\n",
      "Warning message: Star is not available in catalog GALEX. Skipping\n",
      "Checking catalog TICv8\n",
      "Warning!: CatalogWarning\n",
      "Warning message: Star is not available in catalog SkyMapper. Skipping\n",
      "Warning!: CatalogWarning\n",
      "Warning message: Star is not available in catalog STROMGREN_PAUNZ. Skipping\n",
      "Warning!: CatalogWarning\n",
      "Warning message: Star is not available in catalog STROMGREN_HAUCK. Skipping\n",
      "Warning!: CatalogWarning\n",
      "Warning message: Star is not available in catalog MERMILLIOD. Skipping\n",
      "\t\t\tGaia DR3 ID : 4063819096797429760\n",
      "\t\t\tTIC : 132042411\n",
      "\t\t\tGaia Effective temperature : 4296.393 +/- 153.507\n",
      "\t\t\tGaia Stellar radius : 4.870 +/- 1.651\n",
      "\t\t\tGaia Stellar Luminosity : 7.279 +/- 0.676\n",
      "\t\t\tGaia Parallax : 1.225 +/- 0.021\n",
      "\t\t\tBailer-Jones distance : 843.946 +/- 15.500\n",
      "\t\t\tMaximum Av : 41.882\n",
      "\n",
      "\t\t       Filter       \tMagnitude\tUncertainty\n",
      "\t\t--------------------\t---------\t-----------\n",
      "\t\t       PS1_g        \t 13.6004 \t  0.0018   \n",
      "\t\t    GaiaDR2v2_BP    \t 13.4054 \t  0.0064   \n",
      "\t\t       PS1_r        \t 12.6540 \t  0.0000   \n",
      "\t\t    GaiaDR2v2_G     \t 12.6533 \t  0.0032   \n",
      "\t\t       PS1_i        \t 12.1700 \t  0.0000   \n",
      "\t\t    GaiaDR2v2_RP    \t 11.8047 \t  0.0059   \n",
      "\t\t        TESS        \t 11.8278 \t  0.0403   \n",
      "\t\t       PS1_z        \t 11.8970 \t  0.0000   \n",
      "\t\t       PS1_y        \t 11.7150 \t  0.0000   \n",
      "\t\t      2MASS_J       \t 10.5320 \t  0.0240   \n",
      "\n"
     ]
    }
   ],
   "source": [
    "gaia_id = 4063819096797429760\n",
    "ra = 268.3196515\n",
    "dec = -26.8806711\n",
    "starname = str(gaia_id)\n",
    "s = Star(starname, ra, dec, g_id = gaia_id, dustmap='Planck16')"
   ]
  },
  {
   "cell_type": "code",
   "execution_count": 3,
   "metadata": {},
   "outputs": [
    {
     "name": "stdout",
     "output_type": "stream",
     "text": [
      "Created the directory ariadnefit\n",
      "\n",
      "\t\t*** EXECUTING MAIN FITTING ROUTINE ***\n",
      "\t\t\tSelected engine : Bayesian Model Averaging\n",
      "\t\t\tLive points : 500\n",
      "\t\t\tlog Evidence tolerance : 0.5\n",
      "\t\t\tFree parameters : 16\n",
      "\t\t\tBounding : multi\n",
      "\t\t\tSampling : rwalk\n",
      "\t\t\tN threads : 4\n",
      "\n"
     ]
    }
   ],
   "source": [
    "out_folder = 'ariadnefit'\n",
    "\n",
    "engine = 'dynesty'\n",
    "nlive = 500\n",
    "dlogz = 0.5\n",
    "bound = 'multi'\n",
    "sample = 'rwalk'\n",
    "threads = 4\n",
    "dynamic = False\n",
    "setup = [engine, nlive, dlogz, bound, sample, threads, dynamic]\n",
    "\n",
    "models = ['phoenix','btsettl','btnextgen','btcond','kurucz','ck04']\n",
    "f = Fitter()\n",
    "f.star = s\n",
    "f.setup = setup\n",
    "f.av_law = 'fitzpatrick'\n",
    "f.out_folder = out_folder\n",
    "f.bma = True\n",
    "f.models = models\n",
    "f.n_samples = 100000\n",
    "\n",
    "f.prior_setup = {'teff': ('default'),'logg': ('default'),'z': ('default'),'dist': ('default'),'rad': ('default'),'Av': ('default')}\n",
    "f.initialize()\n"
   ]
  },
  {
   "cell_type": "code",
   "execution_count": 4,
   "metadata": {},
   "outputs": [
    {
     "name": "stdout",
     "output_type": "stream",
     "text": [
      "\t\t\tFITTING MODEL : phoenix\n"
     ]
    },
    {
     "name": "stderr",
     "output_type": "stream",
     "text": [
      "9732it [6:18:17,  2.33s/it, +500 | bound: 108 | nc: 1 | ncall: 217455 | eff(%):  4.716 | loglstar:   -inf < 236.698 <    inf | logz: 217.846 +/-  0.197 | dlogz:  0.001 >  0.500]\n"
     ]
    },
    {
     "name": "stdout",
     "output_type": "stream",
     "text": [
      "\t\t\tFITTING MODEL : btsettl\n"
     ]
    },
    {
     "name": "stderr",
     "output_type": "stream",
     "text": [
      "10261it [11:24, 14.99it/s, +500 | bound: 114 | nc: 1 | ncall: 230960 | eff(%):  4.669 | loglstar:   -inf < 236.141 <    inf | logz: 216.165 +/-    nan | dlogz:  0.001 >  0.500]\n"
     ]
    },
    {
     "name": "stdout",
     "output_type": "stream",
     "text": [
      "\t\t\tFITTING MODEL : kurucz\n"
     ]
    },
    {
     "name": "stderr",
     "output_type": "stream",
     "text": [
      "11294it [10:49, 17.38it/s, +500 | bound: 128 | nc: 1 | ncall: 257162 | eff(%):  4.595 | loglstar:   -inf < 239.283 <    inf | logz: 217.228 +/-    nan | dlogz:  0.001 >  0.500]\n"
     ]
    },
    {
     "name": "stdout",
     "output_type": "stream",
     "text": [
      "\t\t\tFITTING MODEL : ck04\n"
     ]
    },
    {
     "name": "stderr",
     "output_type": "stream",
     "text": [
      "10758it [04:46, 37.58it/s, +500 | bound: 123 | nc: 1 | ncall: 243554 | eff(%):  4.632 | loglstar:   -inf < 238.649 <    inf | logz: 217.588 +/-    nan | dlogz:  0.001 >  0.500]\n"
     ]
    },
    {
     "name": "stdout",
     "output_type": "stream",
     "text": [
      "\t\t*** AVERAGING POSTERIOR SAMPLES ***\n"
     ]
    },
    {
     "name": "stderr",
     "output_type": "stream",
     "text": [
      "100%|██████████| 20/20 [00:00<00:00, 36.38it/s]\n"
     ]
    },
    {
     "name": "stdout",
     "output_type": "stream",
     "text": [
      "\t\t*** ESTIMATING AGE AND MASS USING MIST ISOCHRONES ***\n"
     ]
    },
    {
     "name": "stderr",
     "output_type": "stream",
     "text": [
      "17156it [01:18, 217.65it/s, +500 | bound: 208 | nc: 1 | ncall: 482768 | eff(%):  3.661 | loglstar:   -inf < -0.595 <    inf | logz: -30.450 +/- 11.204 | dlogz:  0.000 >  0.010]\n"
     ]
    },
    {
     "name": "stdout",
     "output_type": "stream",
     "text": [
      "\n",
      "\t\t\tFitting finished.\n",
      "\t\t\tBest fit parameters are:\n",
      "\t\t\tteff : 4973.4340 + 432.3102 - 192.1379 [4354.9902, 6150.2784]\n",
      "\t\t\tlogg : 4.1486 + 0.5277 - 0.4032 [3.5201, 5.2870]\n",
      "\t\t\t[Fe/H] : -0.0824 + 0.1754 - 0.1435 [-0.6055, 0.3482]\n",
      "\t\t\tdist : 875.3675 + 19.9187 - 16.0747 [847.0620, 951.5476]\n",
      "\t\t\trad : 4.4802 + 0.2276 - 0.3001 [3.6472, 5.1941]\n",
      "\t\t\tAv : 1.0887 + 0.2361 - 0.2938 [0.3331, 1.9020]\n",
      "\t\t\tAngular Diameter : 0.0475 + 0.0026 - 0.0033 [0.0381, 0.0559]\n",
      "\t\t\tGrav mass : 7.1807 + 16.2397 - 4.0599 [2.2186, 137.0980]\n",
      "\t\t\tLuminosity : 11.2482 + 4.0356 - 2.4947 [6.1854, 28.1243]\n",
      "\t\t\tIso mass : 1.0168 + 0.2512 - 0.1024 [0.8483, 1.8331]\n",
      "\t\t\tAge (Gyr) : 12.6016 + 0.8871 - 8.3835 [0.2704, 13.4888]\n",
      "\t\t\tEEP : 498.7233 + 2.9947 - 6.7381 [390.9143, 504.7127]\n",
      "\t\t\tExcess PS1_g noise : 0.0136 + 0.0069 - 0.0047 [0.0036, 0.0449]\n",
      "\t\t\tExcess BP noise : 0.0347 + 0.0372 - 0.0206 [0.0019, 0.1477]\n",
      "\t\t\tExcess PS1_r noise : 0.6079 + 0.4999 - 0.3699 [0.0180, 3.0072]\n",
      "\t\t\tExcess G noise : 0.0229 + 0.0149 - 0.0116 [0.0023, 0.0729]\n",
      "\t\t\tExcess PS1_i noise : 0.6382 + 0.5688 - 0.4447 [0.0178, 3.1097]\n",
      "\t\t\tExcess RP noise : 0.0305 + 0.0273 - 0.0172 [0.0024, 0.1280]\n",
      "\t\t\tExcess TESS noise : 0.0711 + 0.1255 - 0.0494 [0.0032, 0.6184]\n",
      "\t\t\tExcess PS1_z noise : 0.3294 + 0.5551 - 0.2164 [0.0095, 2.8227]\n",
      "\t\t\tExcess PS1_y noise : 0.3705 + 0.7410 - 0.2565 [0.0285, 2.8690]\n",
      "\t\t\tExcess J noise : 0.1772 + 0.0852 - 0.0500 [0.0717, 0.5771]\n",
      "\t\t\tMamajek Spectral Type : K2.5V\n",
      "\t\t\tphoenix probability : 0.4004\n",
      "\t\t\tbtsettl probability : 0.0745\n",
      "\t\t\tkurucz probability : 0.2157\n",
      "\t\t\tck04 probability : 0.3094\n",
      "\t\t\tElapsed time : 2 days, 4 hours, 13 minutes and 6.16 seconds\n"
     ]
    }
   ],
   "source": [
    "f.fit_bma()"
   ]
  },
  {
   "cell_type": "code",
   "execution_count": 1,
   "metadata": {},
   "outputs": [
    {
     "name": "stdout",
     "output_type": "stream",
     "text": [
      "L_X / L_Bol:  0.00042228978858839636 -3.3743894201458478\n"
     ]
    }
   ],
   "source": [
    "import numpy as np\n",
    "\n",
    "Lbol_sun = 4 * 10**33\n",
    "L_bol = Lbol_sun * 11.2482\n",
    "L_x = 1.9*10**31\n",
    "\n",
    "print(\"L_X / L_Bol: \",L_x/L_bol,np.log10(L_x/L_bol))"
   ]
  }
 ],
 "metadata": {
  "kernelspec": {
   "display_name": "Python 3 (ipykernel)",
   "language": "python",
   "name": "python3"
  },
  "language_info": {
   "codemirror_mode": {
    "name": "ipython",
    "version": 3
   },
   "file_extension": ".py",
   "mimetype": "text/x-python",
   "name": "python",
   "nbconvert_exporter": "python",
   "pygments_lexer": "ipython3",
   "version": "3.8.10"
  }
 },
 "nbformat": 4,
 "nbformat_minor": 4
}
