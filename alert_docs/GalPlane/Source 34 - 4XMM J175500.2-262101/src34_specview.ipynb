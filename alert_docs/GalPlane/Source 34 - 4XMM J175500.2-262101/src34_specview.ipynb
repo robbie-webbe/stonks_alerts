{
 "cells": [
  {
   "cell_type": "code",
   "execution_count": 1,
   "metadata": {},
   "outputs": [],
   "source": [
    "%load_ext wurlitzer\n",
    "import glob\n",
    "import os\n",
    "from xspec import *\n",
    "from stingray import Lightcurve\n",
    "from astropy.io import fits\n",
    "import matplotlib.pyplot as plt\n",
    "plt.rcParams['figure.figsize'] = [12,8]\n",
    "\n",
    "Fit.statMethod = \"chi\"\n",
    "Fit.nIterations = 100000\n",
    "Fit.delta = 1e-4\n",
    "Fit.criticalDelta = 1e-4"
   ]
  },
  {
   "cell_type": "code",
   "execution_count": 2,
   "metadata": {},
   "outputs": [],
   "source": [
    "import numpy as np\n",
    "out_arr = np.full((4,19),-np.inf,dtype=object)"
   ]
  },
  {
   "cell_type": "code",
   "execution_count": 3,
   "metadata": {},
   "outputs": [
    {
     "name": "stdout",
     "output_type": "stream",
     "text": [
      "\n",
      "1 spectrum  in use\n",
      " \n",
      "Spectral Data File: 0886081201_PN60grpspec.fits  Spectrum 1\n",
      "Net count rate (cts/s) for Spectrum:1  4.052e-04 +/- 7.386e-04 (5.8 % total)\n",
      " Assigned to Data Group 1 and Plot Group 1\n",
      "  Noticed Channels:  1-8\n",
      "  Telescope: XMM Instrument: EPN  Channel Type: PI\n",
      "  Exposure Time: 1.753e+04 sec\n",
      " Using fit statistic: chi\n",
      " Using Background File                0886081201_PN60spec_bkg.fits\n",
      "  Background Exposure Time: 1.753e+04 sec\n",
      " Using Response (RMF) File            0886081201_PN60spec.rmf for Source 1\n",
      " Using Auxiliary Response (ARF) File  0886081201_PN60spec.arf\n",
      "\n"
     ]
    },
    {
     "data": {
      "image/svg+xml": [
       "<svg xmlns=\"http://www.w3.org/2000/svg\" xmlns:xlink=\"http://www.w3.org/1999/xlink\" style=\"fill-rule: nonzero; stroke-linecap: round; stroke-linejoin: round; transform: scale(1,-1);\" version=\"1.1\" viewbox=\"          225.691483            27.140120          7357.857910          5618.850098\" width=\"100%\" height=\"100%\" preserveAspectRatio=\"xMidYMid\">\n",
       "<style>\n",
       "  .fn { font-family: Arial,Helvetica,sans-serif; }\n",
       "  .fN { font-family: Arial,Helvetica,sans-serif; font-weight: bold;}\n",
       "  .fr { font-family: Times,Times-Roman,Times New Roman,serif; }\n",
       "  .fR { font-family: Times,Times-Roman,Times New Roman,serif; font-weight: bold;}\n",
       "  .fi { font-family: Times,Times-Roman,Times New Roman,serif; font-style: italic;}\n",
       "  .fI { font-family: Times,Times-Roman,Times New Roman,serif; font-style: italic; font-weight: bold;}\n",
       "  .fs { font-family: Zapf-Chancery,Apple Chancery,URW Chancery L,cursive;}\n",
       "  .fS { font-family: Zapf-Chancery,Apple Chancery,URW Chancery L,cursive;font-weight:bold}\n",
       "  .fc { font-family: Arial Narrow,Helvetica Narrow,Arial,Helvetica,sans-serif;}\n",
       "  .fC { font-family: Arial Narrow,Helvetica Narrow,Arial,Helvetica,sans-serif; font-weight:bold;}\n",
       "</style>\n",
       "<g style=\"color: rgb(0, 0, 0); fill: currentColor; stroke: currentColor; stroke-width: 8\">\n",
       "\n",
       "<path fill=\"none\" d=\"M 742 576 l 5935 0 l 0 4607 l -5935 0 l 0 -4607 M 1490 576 l 0 33 M 1977 576 l 0 33 M 2323 576 l 0 33  M 2591 576 l 0 33 M 2810 576 l 0 33 M 2995 576 l 0 33 M 3156 576 l 0 33 M 3297 576 l 0 33 M 3424 576 l 0 66  M 4256 576 l 0 33 M 4743 576 l 0 33 M 5089 576 l 0 33 M 5357 576 l 0 33 M 5576 576 l 0 33 M 5761 576 l 0 33  M 5922 576 l 0 33 M 6063 576 l 0 33 M 6190 576 l 0 66 M 1490 5150 l 0 33 M 1977 5150 l 0 33 M 2323 5150 l 0 33  M 2591 5150 l 0 33 M 2810 5150 l 0 33 M 2995 5150 l 0 33 M 3156 5150 l 0 33 M 3297 5150 l 0 33 M 3424 5117 l 0 66  M 4256 5150 l 0 33 M 4743 5150 l 0 33 M 5089 5150 l 0 33 M 5357 5150 l 0 33 M 5576 5150 l 0 33 M 5761 5150 l 0 33  M 5922 5150 l 0 33 M 6063 5150 l 0 33 M 6190 5117 l 0 66 \"/>\n",
       "<text transform=\"translate(3379,403) scale(1,-1)\"><tspan class=\"fn\" style=\"font-size: 886%;\">1</tspan></text>\n",
       "<text transform=\"translate(6101,403) scale(1,-1)\"><tspan class=\"fn\" style=\"font-size: 886%;\">10</tspan></text>\n",
       "\n",
       "<path fill=\"none\" d=\"M 742 576 l 66 0 M 742 1269 l 33 0 M 742 1675 l 33 0 M 742 1963 l 33 0 M 742 2186 l 33 0 M 742 2368 l 33 0  M 742 2523 l 33 0 M 742 2656 l 33 0 M 742 2774 l 33 0 M 742 2880 l 66 0 M 742 3573 l 33 0 M 742 3979 l 33 0  M 742 4266 l 33 0 M 742 4490 l 33 0 M 742 4672 l 33 0 M 742 4826 l 33 0 M 742 4960 l 33 0 M 742 5078 l 33 0  M 742 5183 l 66 0 M 6611 576 l 66 0 M 6644 1269 l 33 0 M 6644 1675 l 33 0 M 6644 1963 l 33 0 M 6644 2186 l 33 0  M 6644 2368 l 33 0 M 6644 2523 l 33 0 M 6644 2656 l 33 0 M 6644 2774 l 33 0 M 6611 2880 l 66 0 M 6644 3573 l 33 0  M 6644 3979 l 33 0 M 6644 4266 l 33 0 M 6644 4490 l 33 0 M 6644 4672 l 33 0 M 6644 4826 l 33 0 M 6644 4960 l 33 0  M 6644 5078 l 33 0 M 6611 5183 l 66 0 \"/>\n",
       "<text transform=\"translate(641,432) scale(1,-1) rotate(-90)\"><tspan class=\"fn\" style=\"font-size: 886%;\">10<tspan style=\"font-size: 60%;\" dy=\"-0.6em\">−5<tspan style=\"font-size: 166.667%;\" dy=\"+0.36em\"/></tspan></tspan></text>\n",
       "<text transform=\"translate(641,2736) scale(1,-1) rotate(-90)\"><tspan class=\"fn\" style=\"font-size: 886%;\">10<tspan style=\"font-size: 60%;\" dy=\"-0.6em\">−4<tspan style=\"font-size: 166.667%;\" dy=\"+0.36em\"/></tspan></tspan></text>\n",
       "<text transform=\"translate(641,5039) scale(1,-1) rotate(-90)\"><tspan class=\"fn\" style=\"font-size: 886%;\">10<tspan style=\"font-size: 60%;\" dy=\"-0.6em\">−3<tspan style=\"font-size: 166.667%;\" dy=\"+0.36em\"/></tspan></tspan></text>\n",
       "</g>\n",
       "<g style=\"color: rgb(0, 0, 0); fill: currentColor; stroke: currentColor; stroke-width: 4\">\n",
       "<defs>\n",
       "<symbol id=\"M1\" overflow=\"visible\">\n",
       "<circle r=\"1\" fill=\"none\" stroke-width=\"1\"/>\n",
       "</symbol>\n",
       "</defs>\n",
       "<use xlink:href=\"#M1\" transform=\"translate(2796, 3553) scale(4.430)\"/>\n",
       "\n",
       "<path fill=\"none\" d=\"M 1813 3553 l 1516 0 M 2796 576 l 0 4065 \"/>\n",
       "<use xlink:href=\"#M1\" transform=\"translate(3687, 4212) scale(4.430)\"/>\n",
       "\n",
       "<path fill=\"none\" d=\"M 3329 4212 l 634 0 M 3687 576 l 0 4344 M 4628 576 l 0 2213 \"/>\n",
       "<use xlink:href=\"#M1\" transform=\"translate(5312, 3706) scale(4.430)\"/>\n",
       "\n",
       "<path fill=\"none\" d=\"M 5054 3706 l 470 0 M 5312 2862 l 0 1295 \"/>\n",
       "<use xlink:href=\"#M1\" transform=\"translate(5643, 4541) scale(4.430)\"/>\n",
       "\n",
       "<path fill=\"none\" d=\"M 5524 4541 l 227 0 M 5643 4080 l 0 775 \"/>\n",
       "<use xlink:href=\"#M1\" transform=\"translate(5849, 919) scale(4.430)\"/>\n",
       "\n",
       "<path fill=\"none\" d=\"M 5751 919 l 188 0 M 5849 576 l 0 3161 \"/>\n",
       "</g>\n",
       "<g style=\"color: rgb(0, 0, 0); fill: currentColor; stroke: currentColor; stroke-width: 8\">\n",
       "<text transform=\"translate(370,2317) scale(1,-1) rotate(-90)\"><tspan class=\"fn\" style=\"font-size: 886%;\">counts s<tspan style=\"font-size: 60%;\" dy=\"-0.6em\">−1<tspan style=\"font-size: 166.667%;\" dy=\"+0.36em\"> keV<tspan style=\"font-size: 60%;\" dy=\"-0.6em\">−1<tspan style=\"font-size: 166.667%;\" dy=\"+0.36em\"/></tspan></tspan></tspan></tspan></text>\n",
       "<text transform=\"translate(3255,215) scale(1,-1)\"><tspan class=\"fn\" style=\"font-size: 886%;\">Energy (keV)</tspan></text>\n",
       "<text transform=\"translate(3534,5442) scale(1,-1)\"><tspan class=\"fn\" style=\"font-size: 886%;\"><tspan class=\"fR\">data</tspan></tspan></text>\n",
       "</g>\n",
       "<g style=\"color: rgb(0, 0, 0); fill: currentColor; stroke: currentColor; stroke-width: 4\">\n",
       "<text transform=\"translate(6246,46) scale(1,-1)\"><tspan class=\"fn\" style=\"font-size: 531.6%;\">rwebbe  3−Sep−2025 10:41</tspan></text>\n",
       "</g>\n",
       "<!-- _PGPLOT_SVG_ATEND: viewbox=\"          225.691483            27.140120          7357.857910          5618.850098\" -->\n",
       "</svg>"
      ],
      "text/plain": [
       "<IPython.core.display.SVG object>"
      ]
     },
     "metadata": {},
     "output_type": "display_data"
    }
   ],
   "source": [
    "spec_fnames = glob.glob('*grpspec*')\n",
    "\n",
    "spec = Spectrum(spec_fnames[0])\n",
    "Plot.device=\"/svg\"\n",
    "Plot.xAxis=\"keV\"\n",
    "Plot.xLog=True\n",
    "Plot.yLog=True\n",
    "Plot.addCommand(\"Rescale Y 0.00001 0.001\")\n",
    "Plot(\"data\")\n",
    "#spec.ignore(\"**-0.2 12.0-**\")"
   ]
  },
  {
   "cell_type": "code",
   "execution_count": 4,
   "metadata": {
    "scrolled": false
   },
   "outputs": [
    {
     "name": "stdout",
     "output_type": "stream",
     "text": [
      "\n",
      "========================================================================\n",
      "Model TBabs<1>*bremss<2> Source No.: 1   Active/On\n",
      "Model Model Component  Parameter  Unit     Value\n",
      " par  comp\n",
      "   1    1   TBabs      nH         10^22    1.00000      +/-  0.0          \n",
      "   2    2   bremss     kT         keV      7.00000      +/-  0.0          \n",
      "   3    2   bremss     norm                1.00000      +/-  0.0          \n",
      "________________________________________________________________________\n",
      "\n",
      "tbvabs Version 2.3\n",
      "Cosmic absorption with grains and H2, modified from\n",
      "Wilms, Allen, & McCray, 2000, ApJ 542, 914-924\n",
      "Questions: Joern Wilms\n",
      "joern.wilms@sternwarte.uni-erlangen.de\n",
      "joern.wilms@fau.de\n",
      "\n",
      "http://pulsar.sternwarte.uni-erlangen.de/wilms/research/tbabs/\n",
      "\n",
      "PLEASE NOTICE:\n",
      "To get the model described by the above paper\n",
      "you will also have to set the abundances:\n",
      "   abund wilm\n",
      "\n",
      "Note that this routine ignores the current cross section setting\n",
      "as it always HAS to use the Verner cross sections as a baseline.\n",
      "\n",
      "Fit statistic  : Chi-Squared              7.092936e+10     using 8 bins.\n",
      "\n",
      "Test statistic : Chi-Squared              7.092936e+10     using 8 bins.\n",
      " Null hypothesis probability of 0.000000e+00 with 5 degrees of freedom\n",
      " Current data and model not fit yet.\n",
      "                                   Parameters\n",
      "Chi-Squared  |beta|/N    Lvl          1:nH          2:kT        3:norm\n",
      "17.4972      0.0304368     0      0.722195       30.5862   1.89563e-06\n",
      "17.2952      35129.1      -1      0.350474       199.315   6.70038e-06\n",
      "17.1915      31126.6       0      0.301044       199.352   6.03427e-06\n",
      "17.1312      24480.3       0      0.259237       199.360   5.55355e-06\n",
      "17.0964      19919.9       0      0.230130       199.363   5.20478e-06\n",
      "17.0764      16385.8       0      0.211592       199.363   4.95111e-06\n",
      "17.0648      13468.2       0      0.200072       199.363   4.76652e-06\n",
      "17.058       11063.7       0      0.192843       199.363   4.63284e-06\n",
      "17.0539      9149.41       0      0.188214       199.363   4.53637e-06\n",
      "17.0515      7672.17       0      0.185179       199.363   4.46700e-06\n",
      "17.0499      6560.12       0      0.183143       199.363   4.41724e-06\n",
      "17.049       5737.68       0      0.181753       199.363   4.38160e-06\n",
      "17.0484      5136.73       0      0.180790       199.363   4.35612e-06\n",
      "17.048       4701.11       0      0.180118       199.363   4.33791e-06\n",
      "17.0477      4386.98       0      0.179645       199.363   4.32491e-06\n",
      "17.0475      4161.25       0      0.179311       199.363   4.31562e-06\n",
      "17.0474      3999.42       0      0.179074       199.363   4.30900e-06\n",
      "17.0473      3883.57       0      0.178906       199.363   4.30427e-06\n",
      "========================================\n",
      " Variances and Principal Axes\n",
      "                 1        2        3  \n",
      " 1.5068E-11| -0.0000  -0.0000   1.0000  \n",
      " 3.2930E-01|  1.0000   0.0000   0.0000  \n",
      " 2.8288E+08| -0.0000   1.0000   0.0000  \n",
      "----------------------------------------\n",
      "\n",
      "====================================\n",
      "  Covariance Matrix\n",
      "        1           2           3   \n",
      "   9.435e-01  -1.318e+04  -8.397e-05\n",
      "  -1.318e+04   2.829e+08   1.842e+00\n",
      "  -8.397e-05   1.842e+00   1.202e-08\n",
      "------------------------------------\n",
      "\n",
      "========================================================================\n",
      "Model TBabs<1>*bremss<2> Source No.: 1   Active/On\n",
      "Model Model Component  Parameter  Unit     Value\n",
      " par  comp\n",
      "   1    1   TBabs      nH         10^22    0.178906     +/-  0.971340     \n",
      "   2    2   bremss     kT         keV      199.363      +/-  1.68190E+04  \n",
      "   3    2   bremss     norm                4.30427E-06  +/-  1.09618E-04  \n",
      "________________________________________________________________________\n",
      "\n",
      "\n",
      "Fit statistic  : Chi-Squared                 17.0473     using 8 bins.\n",
      "\n",
      "Test statistic : Chi-Squared                 17.0473     using 8 bins.\n",
      " Null hypothesis probability of 4.4109e-03 with 5 degrees of freedom\n"
     ]
    },
    {
     "data": {
      "image/svg+xml": [
       "<svg xmlns=\"http://www.w3.org/2000/svg\" xmlns:xlink=\"http://www.w3.org/1999/xlink\" style=\"fill-rule: nonzero; stroke-linecap: round; stroke-linejoin: round; transform: scale(1,-1);\" version=\"1.1\" viewbox=\"           -8.104365            27.140120          7591.653809          5564.966797\" width=\"100%\" height=\"100%\" preserveAspectRatio=\"xMidYMid\">\n",
       "<style>\n",
       "  .fn { font-family: Arial,Helvetica,sans-serif; }\n",
       "  .fN { font-family: Arial,Helvetica,sans-serif; font-weight: bold;}\n",
       "  .fr { font-family: Times,Times-Roman,Times New Roman,serif; }\n",
       "  .fR { font-family: Times,Times-Roman,Times New Roman,serif; font-weight: bold;}\n",
       "  .fi { font-family: Times,Times-Roman,Times New Roman,serif; font-style: italic;}\n",
       "  .fI { font-family: Times,Times-Roman,Times New Roman,serif; font-style: italic; font-weight: bold;}\n",
       "  .fs { font-family: Zapf-Chancery,Apple Chancery,URW Chancery L,cursive;}\n",
       "  .fS { font-family: Zapf-Chancery,Apple Chancery,URW Chancery L,cursive;font-weight:bold}\n",
       "  .fc { font-family: Arial Narrow,Helvetica Narrow,Arial,Helvetica,sans-serif;}\n",
       "  .fC { font-family: Arial Narrow,Helvetica Narrow,Arial,Helvetica,sans-serif; font-weight:bold;}\n",
       "</style>\n",
       "<g style=\"color: rgb(0, 0, 0); fill: currentColor; stroke: currentColor; stroke-width: 8\">\n",
       "\n",
       "<path fill=\"none\" d=\"M 742 2304 l 5935 0 l 0 2879 l -5935 0 l 0 -2879 M 1490 2304 l 0 28 M 1977 2304 l 0 28 M 2323 2304 l 0 28  M 2591 2304 l 0 28 M 2810 2304 l 0 28 M 2995 2304 l 0 28 M 3156 2304 l 0 28 M 3297 2304 l 0 28 M 3424 2304 l 0 56  M 4256 2304 l 0 28 M 4743 2304 l 0 28 M 5089 2304 l 0 28 M 5357 2304 l 0 28 M 5576 2304 l 0 28 M 5761 2304 l 0 28  M 5922 2304 l 0 28 M 6063 2304 l 0 28 M 6190 2304 l 0 56 M 1490 5155 l 0 28 M 1977 5155 l 0 28 M 2323 5155 l 0 28  M 2591 5155 l 0 28 M 2810 5155 l 0 28 M 2995 5155 l 0 28 M 3156 5155 l 0 28 M 3297 5155 l 0 28 M 3424 5127 l 0 56  M 4256 5155 l 0 28 M 4743 5155 l 0 28 M 5089 5155 l 0 28 M 5357 5155 l 0 28 M 5576 5155 l 0 28 M 5761 5155 l 0 28  M 5922 5155 l 0 28 M 6063 5155 l 0 28 M 6190 5127 l 0 56 M 742 2304 l 56 0 M 742 2737 l 28 0 M 742 2991 l 28 0  M 742 3170 l 28 0 M 742 3310 l 28 0 M 742 3424 l 28 0 M 742 3520 l 28 0 M 742 3604 l 28 0 M 742 3677 l 28 0  M 742 3743 l 56 0 M 742 4177 l 28 0 M 742 4430 l 28 0 M 742 4610 l 28 0 M 742 4750 l 28 0 M 742 4864 l 28 0  M 742 4960 l 28 0 M 742 5044 l 28 0 M 742 5117 l 28 0 M 742 5183 l 56 0 M 6621 2304 l 56 0 M 6649 2737 l 28 0  M 6649 2991 l 28 0 M 6649 3170 l 28 0 M 6649 3310 l 28 0 M 6649 3424 l 28 0 M 6649 3520 l 28 0 M 6649 3604 l 28 0  M 6649 3677 l 28 0 M 6621 3743 l 56 0 M 6649 4177 l 28 0 M 6649 4430 l 28 0 M 6649 4610 l 28 0 M 6649 4750 l 28 0  M 6649 4864 l 28 0 M 6649 4960 l 28 0 M 6649 5044 l 28 0 M 6649 5117 l 28 0 M 6621 5183 l 56 0 \"/>\n",
       "<text transform=\"translate(412,2266) scale(1,-1)\"><tspan class=\"fn\" style=\"font-size: 753.1%;\">10<tspan style=\"font-size: 60%;\" dy=\"-0.6em\">−5<tspan style=\"font-size: 166.667%;\" dy=\"+0.36em\"/></tspan></tspan></text>\n",
       "<text transform=\"translate(412,3706) scale(1,-1)\"><tspan class=\"fn\" style=\"font-size: 753.1%;\">10<tspan style=\"font-size: 60%;\" dy=\"-0.6em\">−4<tspan style=\"font-size: 166.667%;\" dy=\"+0.36em\"/></tspan></tspan></text>\n",
       "<text transform=\"translate(412,5146) scale(1,-1)\"><tspan class=\"fn\" style=\"font-size: 753.1%;\">10<tspan style=\"font-size: 60%;\" dy=\"-0.6em\">−3<tspan style=\"font-size: 166.667%;\" dy=\"+0.36em\"/></tspan></tspan></text>\n",
       "</g>\n",
       "<g style=\"color: rgb(0, 0, 0); fill: currentColor; stroke: currentColor; stroke-width: 4\">\n",
       "<defs>\n",
       "<symbol id=\"M1\" overflow=\"visible\">\n",
       "<circle r=\"1\" fill=\"none\" stroke-width=\"1\"/>\n",
       "</symbol>\n",
       "</defs>\n",
       "<use xlink:href=\"#M1\" transform=\"translate(2796, 4165) scale(4.430)\"/>\n",
       "\n",
       "<path fill=\"none\" d=\"M 1813 4165 l 1516 0 M 2796 2304 l 0 2540 \"/>\n",
       "<use xlink:href=\"#M1\" transform=\"translate(3687, 4576) scale(4.430)\"/>\n",
       "\n",
       "<path fill=\"none\" d=\"M 3329 4576 l 634 0 M 3687 2304 l 0 2715 M 4628 2304 l 0 1383 \"/>\n",
       "<use xlink:href=\"#M1\" transform=\"translate(5312, 4260) scale(4.430)\"/>\n",
       "\n",
       "<path fill=\"none\" d=\"M 5054 4260 l 470 0 M 5312 3732 l 0 810 \"/>\n",
       "<use xlink:href=\"#M1\" transform=\"translate(5643, 4782) scale(4.430)\"/>\n",
       "\n",
       "<path fill=\"none\" d=\"M 5524 4782 l 227 0 M 5643 4493 l 0 485 \"/>\n",
       "<use xlink:href=\"#M1\" transform=\"translate(5849, 2518) scale(4.430)\"/>\n",
       "\n",
       "<path fill=\"none\" d=\"M 5751 2518 l 188 0 M 5849 2304 l 0 1976 \"/>\n",
       "</g>\n",
       "<g style=\"color: rgb(0, 0, 0); fill: currentColor; stroke: currentColor; stroke-width: 8\">\n",
       "\n",
       "<path fill=\"none\" d=\"M 742 3178 l 1071 0 l 0 806 l 1516 0 l 0 309 l 634 0 l 0 -610 l 1091 0 l 0 -665 l 470 0 l 0 -490  l 227 0 l 0 -224 M 742 3178 l 1071 0 M 1393 3178 l 0 0 M 1813 3984 l 1516 0 M 2796 3984 l 0 0 M 3329 4293 l 634 0  M 3687 4293 l 0 0 M 3963 3683 l 1091 0 M 4628 3683 l 0 0 M 5054 3018 l 470 0 M 5312 3018 l 0 0 M 5524 2528 l 227 0  M 5643 2528 l 0 0 \"/>\n",
       "<text transform=\"translate(111,3265) scale(1,-1) rotate(-90)\"><tspan class=\"fn\" style=\"font-size: 753.1%;\">counts s<tspan style=\"font-size: 60%;\" dy=\"-0.6em\">−1<tspan style=\"font-size: 166.667%;\" dy=\"+0.36em\"> keV<tspan style=\"font-size: 60%;\" dy=\"-0.6em\">−1<tspan style=\"font-size: 166.667%;\" dy=\"+0.36em\"/></tspan></tspan></tspan></tspan></text>\n",
       "<text transform=\"translate(2971,5403) scale(1,-1)\"><tspan class=\"fn\" style=\"font-size: 753.1%;\"><tspan class=\"fR\">data and folded model</tspan></tspan></text>\n",
       "\n",
       "<path fill=\"none\" d=\"M 742 576 l 5935 0 l 0 1728 l -5935 0 l 0 -1728 M 1490 576 l 0 28 M 1977 576 l 0 28 M 2323 576 l 0 28  M 2591 576 l 0 28 M 2810 576 l 0 28 M 2995 576 l 0 28 M 3156 576 l 0 28 M 3297 576 l 0 28 M 3424 576 l 0 56  M 4256 576 l 0 28 M 4743 576 l 0 28 M 5089 576 l 0 28 M 5357 576 l 0 28 M 5576 576 l 0 28 M 5761 576 l 0 28  M 5922 576 l 0 28 M 6063 576 l 0 28 M 6190 576 l 0 56 M 1490 2275 l 0 29 M 1977 2275 l 0 29 M 2323 2275 l 0 29  M 2591 2275 l 0 29 M 2810 2275 l 0 29 M 2995 2275 l 0 29 M 3156 2275 l 0 29 M 3297 2275 l 0 29 M 3424 2247 l 0 57  M 4256 2275 l 0 29 M 4743 2275 l 0 29 M 5089 2275 l 0 29 M 5357 2275 l 0 29 M 5576 2275 l 0 29 M 5761 2275 l 0 29  M 5922 2275 l 0 29 M 6063 2275 l 0 29 M 6190 2247 l 0 57 \"/>\n",
       "<text transform=\"translate(3385,429) scale(1,-1)\"><tspan class=\"fn\" style=\"font-size: 753.1%;\">1</tspan></text>\n",
       "<text transform=\"translate(6114,429) scale(1,-1)\"><tspan class=\"fn\" style=\"font-size: 753.1%;\">10</tspan></text>\n",
       "\n",
       "<path fill=\"none\" d=\"M 742 732 l 56 0 M 742 1071 l 28 0 M 742 1410 l 56 0 M 742 1750 l 28 0 M 742 2089 l 56 0 M 6621 732 l 56 0  M 6649 1071 l 28 0 M 6621 1410 l 56 0 M 6649 1750 l 28 0 M 6621 2089 l 56 0 \"/>\n",
       "<text transform=\"translate(161,695) scale(1,-1)\"><tspan class=\"fn\" style=\"font-size: 753.1%;\">−4×10<tspan style=\"font-size: 60%;\" dy=\"-0.6em\">−3<tspan style=\"font-size: 166.667%;\" dy=\"+0.36em\"/></tspan></tspan></text>\n",
       "<text transform=\"translate(161,1373) scale(1,-1)\"><tspan class=\"fn\" style=\"font-size: 753.1%;\">−2×10<tspan style=\"font-size: 60%;\" dy=\"-0.6em\">−3<tspan style=\"font-size: 166.667%;\" dy=\"+0.36em\"/></tspan></tspan></text>\n",
       "<text transform=\"translate(580,2052) scale(1,-1)\"><tspan class=\"fn\" style=\"font-size: 753.1%;\">0</tspan></text>\n",
       "</g>\n",
       "<g style=\"color: rgb(0, 0, 0); fill: currentColor; stroke: currentColor; stroke-width: 4\">\n",
       "<use xlink:href=\"#M1\" transform=\"translate(1393, 617) scale(4.430)\"/>\n",
       "\n",
       "<path fill=\"none\" d=\"M 742 617 l 1071 0 M 1393 576 l 0 675 \"/>\n",
       "<use xlink:href=\"#M1\" transform=\"translate(2796, 2106) scale(4.430)\"/>\n",
       "\n",
       "<path fill=\"none\" d=\"M 1813 2106 l 1516 0 M 2796 1975 l 0 261 \"/>\n",
       "<use xlink:href=\"#M1\" transform=\"translate(3687, 2136) scale(4.430)\"/>\n",
       "\n",
       "<path fill=\"none\" d=\"M 3329 2136 l 634 0 M 3687 2003 l 0 265 \"/>\n",
       "<use xlink:href=\"#M1\" transform=\"translate(4628, 2051) scale(4.430)\"/>\n",
       "\n",
       "<path fill=\"none\" d=\"M 3963 2051 l 1091 0 M 4628 2012 l 0 77 \"/>\n",
       "<use xlink:href=\"#M1\" transform=\"translate(5312, 2156) scale(4.430)\"/>\n",
       "\n",
       "<path fill=\"none\" d=\"M 5054 2156 l 470 0 M 5312 2112 l 0 88 \"/>\n",
       "<use xlink:href=\"#M1\" transform=\"translate(5643, 2262) scale(4.430)\"/>\n",
       "\n",
       "<path fill=\"none\" d=\"M 5524 2262 l 227 0 M 5643 2197 l 0 107 \"/>\n",
       "<use xlink:href=\"#M1\" transform=\"translate(5849, 2091) scale(4.430)\"/>\n",
       "\n",
       "<path fill=\"none\" d=\"M 5751 2091 l 188 0 M 5849 2016 l 0 151 \"/>\n",
       "<use xlink:href=\"#M1\" transform=\"translate(6364, 2073) scale(4.430)\"/>\n",
       "\n",
       "<path fill=\"none\" d=\"M 5939 2073 l 738 0 M 6364 2058 l 0 29 \"/>\n",
       "</g>\n",
       "<g style=\"color: rgb(0, 0, 0); fill: currentColor; stroke: currentColor; stroke-width: 8\">\n",
       "<text transform=\"translate(111,962) scale(1,-1) rotate(-90)\"><tspan class=\"fn\" style=\"font-size: 753.1%;\">counts s<tspan style=\"font-size: 60%;\" dy=\"-0.6em\">−1<tspan style=\"font-size: 166.667%;\" dy=\"+0.36em\"> keV<tspan style=\"font-size: 60%;\" dy=\"-0.6em\">−1<tspan style=\"font-size: 166.667%;\" dy=\"+0.36em\"/></tspan></tspan></tspan></tspan></text>\n",
       "<text transform=\"translate(3323,269) scale(1,-1)\"><tspan class=\"fn\" style=\"font-size: 753.1%;\">Energy (keV)</tspan></text>\n",
       "</g>\n",
       "<g style=\"color: rgb(0, 255, 0); fill: currentColor; stroke: currentColor; stroke-width: 8\">\n",
       "\n",
       "<path fill=\"none\" d=\"M 742 2089 l 5935 0 \"/>\n",
       "</g>\n",
       "<g style=\"color: rgb(0, 0, 0); fill: currentColor; stroke: currentColor; stroke-width: 4\">\n",
       "<text transform=\"translate(6246,46) scale(1,-1)\"><tspan class=\"fn\" style=\"font-size: 531.6%;\">rwebbe  3−Sep−2025 10:41</tspan></text>\n",
       "</g>\n",
       "<!-- _PGPLOT_SVG_ATEND: viewbox=\"           -8.104365            27.140120          7591.653809          5564.966797\" -->\n",
       "</svg>"
      ],
      "text/plain": [
       "<IPython.core.display.SVG object>"
      ]
     },
     "metadata": {},
     "output_type": "display_data"
    }
   ],
   "source": [
    "AllModels.clear()\n",
    "mo = Model(\"tbabs*bremss\")\n",
    "Fit.perform()\n",
    "Plot(\"data resid\")"
   ]
  },
  {
   "cell_type": "code",
   "execution_count": 5,
   "metadata": {},
   "outputs": [
    {
     "name": "stdout",
     "output_type": "stream",
     "text": [
      "Cannot do error calc: Reduced Chi^2 (= 3.40946) > maximum (2)\n"
     ]
    },
    {
     "ename": "Exception",
     "evalue": "Error executing command: error",
     "output_type": "error",
     "traceback": [
      "\u001b[0;31m---------------------------------------------------------------------------\u001b[0m",
      "\u001b[0;31mException\u001b[0m                                 Traceback (most recent call last)",
      "\u001b[0;32m<ipython-input-5-3485b933fbe1>\u001b[0m in \u001b[0;36m<module>\u001b[0;34m\u001b[0m\n\u001b[0;32m----> 1\u001b[0;31m \u001b[0mFit\u001b[0m\u001b[0;34m.\u001b[0m\u001b[0merror\u001b[0m\u001b[0;34m(\u001b[0m\u001b[0;34m\"1\"\u001b[0m\u001b[0;34m)\u001b[0m\u001b[0;34m\u001b[0m\u001b[0;34m\u001b[0m\u001b[0m\n\u001b[0m\u001b[1;32m      2\u001b[0m \u001b[0mFit\u001b[0m\u001b[0;34m.\u001b[0m\u001b[0merror\u001b[0m\u001b[0;34m(\u001b[0m\u001b[0;34m\"2\"\u001b[0m\u001b[0;34m)\u001b[0m\u001b[0;34m\u001b[0m\u001b[0;34m\u001b[0m\u001b[0m\n\u001b[1;32m      3\u001b[0m \u001b[0;34m\u001b[0m\u001b[0m\n\u001b[1;32m      4\u001b[0m \u001b[0mout_arr\u001b[0m\u001b[0;34m[\u001b[0m\u001b[0;36m3\u001b[0m\u001b[0;34m,\u001b[0m\u001b[0;36m0\u001b[0m\u001b[0;34m]\u001b[0m \u001b[0;34m=\u001b[0m \u001b[0;34m'bremss'\u001b[0m\u001b[0;34m\u001b[0m\u001b[0;34m\u001b[0m\u001b[0m\n\u001b[1;32m      5\u001b[0m \u001b[0mout_arr\u001b[0m\u001b[0;34m[\u001b[0m\u001b[0;36m3\u001b[0m\u001b[0;34m,\u001b[0m\u001b[0;36m1\u001b[0m\u001b[0;34m:\u001b[0m\u001b[0;36m4\u001b[0m\u001b[0;34m]\u001b[0m \u001b[0;34m=\u001b[0m \u001b[0mmo\u001b[0m\u001b[0;34m.\u001b[0m\u001b[0mTBabs\u001b[0m\u001b[0;34m.\u001b[0m\u001b[0mnH\u001b[0m\u001b[0;34m.\u001b[0m\u001b[0mvalues\u001b[0m\u001b[0;34m[\u001b[0m\u001b[0;36m0\u001b[0m\u001b[0;34m]\u001b[0m\u001b[0;34m,\u001b[0m \u001b[0mmo\u001b[0m\u001b[0;34m.\u001b[0m\u001b[0mTBabs\u001b[0m\u001b[0;34m.\u001b[0m\u001b[0mnH\u001b[0m\u001b[0;34m.\u001b[0m\u001b[0mvalues\u001b[0m\u001b[0;34m[\u001b[0m\u001b[0;36m0\u001b[0m\u001b[0;34m]\u001b[0m \u001b[0;34m-\u001b[0m \u001b[0mmo\u001b[0m\u001b[0;34m.\u001b[0m\u001b[0mTBabs\u001b[0m\u001b[0;34m.\u001b[0m\u001b[0mnH\u001b[0m\u001b[0;34m.\u001b[0m\u001b[0merror\u001b[0m\u001b[0;34m[\u001b[0m\u001b[0;36m0\u001b[0m\u001b[0;34m]\u001b[0m\u001b[0;34m,\u001b[0m \u001b[0mmo\u001b[0m\u001b[0;34m.\u001b[0m\u001b[0mTBabs\u001b[0m\u001b[0;34m.\u001b[0m\u001b[0mnH\u001b[0m\u001b[0;34m.\u001b[0m\u001b[0merror\u001b[0m\u001b[0;34m[\u001b[0m\u001b[0;36m1\u001b[0m\u001b[0;34m]\u001b[0m \u001b[0;34m-\u001b[0m \u001b[0mmo\u001b[0m\u001b[0;34m.\u001b[0m\u001b[0mTBabs\u001b[0m\u001b[0;34m.\u001b[0m\u001b[0mnH\u001b[0m\u001b[0;34m.\u001b[0m\u001b[0mvalues\u001b[0m\u001b[0;34m[\u001b[0m\u001b[0;36m0\u001b[0m\u001b[0;34m]\u001b[0m\u001b[0;34m\u001b[0m\u001b[0;34m\u001b[0m\u001b[0m\n",
      "\u001b[0;32m~/astro_soft/heasoft-6.32.1/x86_64-pc-linux-gnu-libc2.31/lib/python/xspec/fit.py\u001b[0m in \u001b[0;36merror\u001b[0;34m(self, argString, respPar)\u001b[0m\n\u001b[1;32m    423\u001b[0m             \u001b[0merrorArgs\u001b[0m \u001b[0;34m=\u001b[0m \u001b[0;34m[\u001b[0m\u001b[0;34m\"error\"\u001b[0m\u001b[0;34m]\u001b[0m\u001b[0;34m\u001b[0m\u001b[0;34m\u001b[0m\u001b[0m\n\u001b[1;32m    424\u001b[0m         \u001b[0merrorArgs\u001b[0m \u001b[0;34m+=\u001b[0m \u001b[0margString\u001b[0m\u001b[0;34m.\u001b[0m\u001b[0msplit\u001b[0m\u001b[0;34m(\u001b[0m\u001b[0;34m)\u001b[0m\u001b[0;34m\u001b[0m\u001b[0;34m\u001b[0m\u001b[0m\n\u001b[0;32m--> 425\u001b[0;31m         \u001b[0m_pyXspec\u001b[0m\u001b[0;34m.\u001b[0m\u001b[0mdoXspecCmd\u001b[0m\u001b[0;34m(\u001b[0m\u001b[0merrorArgs\u001b[0m\u001b[0;34m)\u001b[0m\u001b[0;34m\u001b[0m\u001b[0;34m\u001b[0m\u001b[0m\n\u001b[0m\u001b[1;32m    426\u001b[0m \u001b[0;34m\u001b[0m\u001b[0m\n\u001b[1;32m    427\u001b[0m     \u001b[0;32mdef\u001b[0m \u001b[0mftest\u001b[0m\u001b[0;34m(\u001b[0m\u001b[0mself\u001b[0m\u001b[0;34m,\u001b[0m \u001b[0mchisq2\u001b[0m\u001b[0;34m,\u001b[0m \u001b[0mdof2\u001b[0m\u001b[0;34m,\u001b[0m \u001b[0mchisq1\u001b[0m\u001b[0;34m,\u001b[0m \u001b[0mdof1\u001b[0m\u001b[0;34m)\u001b[0m\u001b[0;34m:\u001b[0m\u001b[0;34m\u001b[0m\u001b[0;34m\u001b[0m\u001b[0m\n",
      "\u001b[0;31mException\u001b[0m: Error executing command: error"
     ]
    }
   ],
   "source": [
    "Fit.error(\"1\")\n",
    "Fit.error(\"2\")\n",
    "\n",
    "out_arr[3,0] = 'bremss'\n",
    "out_arr[3,1:4] = mo.TBabs.nH.values[0], mo.TBabs.nH.values[0] - mo.TBabs.nH.error[0], mo.TBabs.nH.error[1] - mo.TBabs.nH.values[0]\n",
    "out_arr[3,4:7] = mo.bremss.kT.values[0], mo.bremss.kT.values[0] - mo.bremss.kT.error[0], mo.bremss.kT.error[1] - mo.bremss.kT.values[0]\n",
    "out_arr[3,-2:] = Fit.dof, Fit.statistic / Fit.dof\n"
   ]
  },
  {
   "cell_type": "code",
   "execution_count": null,
   "metadata": {
    "scrolled": false
   },
   "outputs": [],
   "source": [
    "AllModels.clear()\n",
    "mo = Model(\"tbabs*powerlaw\")\n",
    "Fit.perform()\n",
    "Plot(\"data resid\")"
   ]
  },
  {
   "cell_type": "code",
   "execution_count": null,
   "metadata": {},
   "outputs": [],
   "source": [
    "Fit.error(\"1\")\n",
    "Fit.error(\"2\")\n",
    "\n",
    "out_arr[1,0] = 'powerlaw'\n",
    "out_arr[1,1:4] = mo.TBabs.nH.values[0], mo.TBabs.nH.values[0] - mo.TBabs.nH.error[0], mo.TBabs.nH.error[1] - mo.TBabs.nH.values[0]\n",
    "out_arr[1,14:17] = mo.powerlaw.PhoIndex.values[0], mo.powerlaw.PhoIndex.values[0] - mo.powerlaw.PhoIndex.error[0], mo.powerlaw.PhoIndex.error[1] - mo.powerlaw.PhoIndex.values[0]\n",
    "out_arr[1,-2:] = Fit.dof, Fit.statistic / Fit.dof\n"
   ]
  },
  {
   "cell_type": "code",
   "execution_count": null,
   "metadata": {
    "scrolled": false
   },
   "outputs": [],
   "source": [
    "AllModels.clear()\n",
    "mo = Model(\"tbabs*apec\")\n",
    "Fit.perform()\n",
    "Plot(\"data resid\")"
   ]
  },
  {
   "cell_type": "code",
   "execution_count": null,
   "metadata": {},
   "outputs": [],
   "source": [
    "Fit.error(\"1\")\n",
    "Fit.error(\"2\")\n",
    "\n",
    "out_arr[2,0] = 'apec'\n",
    "out_arr[2,1:4] = mo.TBabs.nH.values[0], mo.TBabs.nH.values[0] - mo.TBabs.nH.error[0], mo.TBabs.nH.error[1] - mo.TBabs.nH.values[0]\n",
    "out_arr[2,13] = mo.apec.Abundanc.values[0]\n",
    "out_arr[2,4:7] = mo.apec.kT.values[0], mo.apec.kT.values[0] - mo.apec.kT.error[0], mo.apec.kT.error[1] - mo.apec.kT.values[0]\n",
    "out_arr[2,-2:] = Fit.dof, Fit.statistic / Fit.dof\n"
   ]
  },
  {
   "cell_type": "code",
   "execution_count": null,
   "metadata": {
    "scrolled": false
   },
   "outputs": [],
   "source": [
    "AllModels.clear()\n",
    "mo = Model(\"tbabs*bbody\")\n",
    "Fit.perform()\n",
    "Plot(\"data resid\")"
   ]
  },
  {
   "cell_type": "code",
   "execution_count": null,
   "metadata": {},
   "outputs": [],
   "source": [
    "Fit.error(\"1\")\n",
    "Fit.error(\"2\")\n",
    "\n",
    "out_arr[0,0] = 'bbody'\n",
    "out_arr[0,1:4] = mo.TBabs.nH.values[0], mo.TBabs.nH.values[0] - mo.TBabs.nH.error[0], mo.TBabs.nH.error[1] - mo.TBabs.nH.values[0]\n",
    "out_arr[0,4:7] = mo.bbody.kT.values[0], mo.bbody.kT.values[0] - mo.bbody.kT.error[0], mo.bbody.kT.error[1] - mo.bbody.kT.values[0]\n",
    "out_arr[0,-2:] = Fit.dof, Fit.statistic / Fit.dof\n"
   ]
  },
  {
   "cell_type": "code",
   "execution_count": null,
   "metadata": {},
   "outputs": [],
   "source": [
    "np.savetxt('../spec11_output.csv',out_arr,fmt=['%s','%.2f','%.2f','%.2f','%.2f','%.2f','%.2f','%.2f','%.2f','%.2f','%.2f','%.2f','%.2f','%.1f','%.2f','%.2f','%.2f','%i','%.2f'],delimiter=',')\n"
   ]
  },
  {
   "cell_type": "code",
   "execution_count": null,
   "metadata": {
    "scrolled": true
   },
   "outputs": [],
   "source": [
    "AllModels.calcFlux(\".2 12.0\")"
   ]
  },
  {
   "cell_type": "code",
   "execution_count": null,
   "metadata": {},
   "outputs": [],
   "source": [
    "#plx = 2.3643\n",
    "d_kpc = 8\n",
    "F_x = 1.0493*10**-13\n",
    "\n",
    "L_x = 4*3.14*F_x*(d_kpc*3.086*10**21)**2\n",
    "print(L_x)"
   ]
  },
  {
   "cell_type": "code",
   "execution_count": null,
   "metadata": {},
   "outputs": [],
   "source": [
    "import numpy as np\n",
    "print(d_kpc)\n",
    "print(np.log10(L_x))"
   ]
  },
  {
   "cell_type": "code",
   "execution_count": null,
   "metadata": {},
   "outputs": [],
   "source": [
    "F_opt = 1.05*10**-5 * 10**(-0.4*20.7)\n",
    "print('Optical Flux: ',F_opt)\n",
    "print('F_x / F_opt: ', np.log10(F_x/F_opt))"
   ]
  },
  {
   "cell_type": "code",
   "execution_count": null,
   "metadata": {
    "scrolled": false
   },
   "outputs": [],
   "source": [
    "AllModels.clear()\n",
    "mo = Model(\"tbabs*(apec+apec)\")\n",
    "mo.apec.kT = 0.5\n",
    "mo.apec.kT = 4.0\n",
    "Fit.perform()\n",
    "Plot(\"data resid\")"
   ]
  }
 ],
 "metadata": {
  "kernelspec": {
   "display_name": "Python 3 (ipykernel)",
   "language": "python",
   "name": "python3"
  },
  "language_info": {
   "codemirror_mode": {
    "name": "ipython",
    "version": 3
   },
   "file_extension": ".py",
   "mimetype": "text/x-python",
   "name": "python",
   "nbconvert_exporter": "python",
   "pygments_lexer": "ipython3",
   "version": "3.8.10"
  }
 },
 "nbformat": 4,
 "nbformat_minor": 4
}
