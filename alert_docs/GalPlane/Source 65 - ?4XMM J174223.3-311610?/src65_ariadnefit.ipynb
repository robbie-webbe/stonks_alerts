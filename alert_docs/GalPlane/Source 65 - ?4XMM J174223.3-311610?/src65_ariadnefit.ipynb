{
 "cells": [
  {
   "cell_type": "code",
   "execution_count": 1,
   "metadata": {},
   "outputs": [
    {
     "name": "stderr",
     "output_type": "stream",
     "text": [
      "Holoviews not imported. Some visualizations will not be available.\n",
      "PyMultiNest not imported.  MultiNest fits will not work.\n",
      "/home/rwebbe/.local/lib/python3.8/site-packages/astroARIADNE/fitter.py:43: UserWarning: (py)MultiNest installation (or libmultinest.dylib) not detected.\n",
      "  warnings.warn(\n"
     ]
    }
   ],
   "source": [
    "from astroARIADNE.star import Star\n",
    "from astroARIADNE.fitter import Fitter\n",
    "from dustmaps.config import config\n",
    "config['data_dir'] = '/home/rwebbe/data/dustmaps'"
   ]
  },
  {
   "cell_type": "code",
   "execution_count": 2,
   "metadata": {
    "scrolled": true
   },
   "outputs": [
    {
     "name": "stdout",
     "output_type": "stream",
     "text": [
      "\n",
      "\t\t#####################################\n",
      "\t\t##             ARIADNE             ##\n",
      "\t\t#####################################\n",
      "   spectrAl eneRgy dIstribution bAyesian moDel averagiNg fittEr\n",
      "\n",
      "\t\t\tAuthor : Jose Vines\n",
      "\t\t\tContact : jose . vines at ug . uchile . cl\n",
      "\t\t\tStar : 4055121581865643520\n",
      "\t\t*** LOOKING UP ARCHIVAL INFORMATION ***\n",
      "INFO: Query finished. [astroquery.utils.tap.core]\n",
      "Warning!: CatalogWarning\n",
      "Warning message: Parameter teff not found! Be advised.\n",
      "Warning!: CatalogWarning\n",
      "Warning message: Parameter radius not found! Be advised.\n",
      "Warning!: CatalogWarning\n",
      "Warning message: Parameter lum not found! Be advised.\n",
      "INFO: Query finished. [astroquery.utils.tap.core]\n",
      "Star not found in catalog TYCHO2.\n",
      "INFO: Query finished. [astroquery.utils.tap.core]\n",
      "INFO: Query finished. [astroquery.utils.tap.core]\n",
      "Star not found in catalog SDSS.\n",
      "INFO: Query finished. [astroquery.utils.tap.core]\n",
      "Star not found in catalog Wise.\n",
      "INFO: Query finished. [astroquery.utils.tap.core]\n",
      "INFO: Query finished. [astroquery.utils.tap.core]\n",
      "Star not found in catalog APASS.\n",
      "Looking online for archival magnitudes for star 4055121581865643520\n",
      "Checking catalog Pan-STARRS1\n",
      "Warning!: CatalogWarning\n",
      "Warning message: rmag magnitude error not found, assigning error.\n",
      "Warning!: CatalogWarning\n",
      "Warning message: zmag magnitude error not found, assigning error.\n",
      "Checking catalog Gaia DR3\n",
      "Checking catalog 2MASS\n",
      "Warning!: CatalogWarning\n",
      "Warning message: Catalog 2MASS_H entry is either an extended source, is of bad quality or is contaminated. Skipping.\n",
      "Warning!: CatalogWarning\n",
      "Warning message: Catalog 2MASS_Ks entry is either an extended source, is of bad quality or is contaminated. Skipping.\n",
      "Checking catalog GLIMPSE\n",
      "Warning!: CatalogWarning\n",
      "Warning message: Star is not available in catalog GALEX. Skipping\n",
      "Checking catalog TICv8\n",
      "Checking catalog SkyMapper DR1.1\n",
      "Warning!: CatalogWarning\n",
      "Warning message: Catalog SkyMapper entry is either an extended source, is of bad quality or is contaminated. Skipping.\n",
      "Warning!: CatalogWarning\n",
      "Warning message: Star is not available in catalog STROMGREN_PAUNZ. Skipping\n",
      "Warning!: CatalogWarning\n",
      "Warning message: Star is not available in catalog STROMGREN_HAUCK. Skipping\n",
      "Warning!: CatalogWarning\n",
      "Warning message: Star is not available in catalog MERMILLIOD. Skipping\n",
      "\t\t\tGaia DR3 ID : 4055121581865643520\n",
      "\t\t\tTIC : 193524773\n",
      "\t\t\tGaia Effective temperature : 0.000 +/- 0.000\n",
      "\t\t\tGaia Stellar radius : 0.000 +/- 0.000\n",
      "\t\t\tGaia Stellar Luminosity : 0.000 +/- 0.000\n",
      "\t\t\tGaia Parallax : 0.756 +/- 0.119\n",
      "\t\t\tBailer-Jones distance : 1480.005 +/- 456.668\n",
      "\t\t\tMaximum Av : 20.965\n",
      "\n",
      "\t\t       Filter       \tMagnitude\tUncertainty\n",
      "\t\t--------------------\t---------\t-----------\n",
      "\t\t       PS1_g        \t 20.4011 \t  0.0658   \n",
      "\t\t    GaiaDR2v2_BP    \t 19.6569 \t  0.0393   \n",
      "\t\t       PS1_r        \t 17.2900 \t  0.0000   \n",
      "\t\t    GaiaDR2v2_G     \t 17.7972 \t  0.0031   \n",
      "\t\t       PS1_i        \t 17.0949 \t  0.0057   \n",
      "\t\t    GaiaDR2v2_RP    \t 16.5462 \t  0.0065   \n",
      "\t\t        TESS        \t 16.3012 \t  0.6456   \n",
      "\t\t       PS1_z        \t 15.8870 \t  0.0000   \n",
      "\t\t       PS1_y        \t 15.8018 \t  0.0113   \n",
      "\t\t      2MASS_J       \t 14.1670 \t  0.0370   \n",
      "\t\t  SPITZER_IRAC_36   \t 12.5290 \t  0.0870   \n",
      "\t\t  SPITZER_IRAC_45   \t 12.1610 \t  0.1180   \n",
      "\n"
     ]
    }
   ],
   "source": [
    "gaia_id = 4055121581865643520\n",
    "ra = 265.5980600\n",
    "dec = -31.2666249\n",
    "starname = str(gaia_id)\n",
    "s = Star(starname, ra, dec, g_id = gaia_id, dustmap='Planck16')"
   ]
  },
  {
   "cell_type": "code",
   "execution_count": 3,
   "metadata": {},
   "outputs": [
    {
     "name": "stdout",
     "output_type": "stream",
     "text": [
      "Created the directory ariadnefit\n",
      "\n",
      "\t\t*** EXECUTING MAIN FITTING ROUTINE ***\n",
      "\t\t\tSelected engine : Bayesian Model Averaging\n",
      "\t\t\tLive points : 500\n",
      "\t\t\tlog Evidence tolerance : 0.5\n",
      "\t\t\tFree parameters : 18\n",
      "\t\t\tBounding : multi\n",
      "\t\t\tSampling : rwalk\n",
      "\t\t\tN threads : 4\n",
      "\n"
     ]
    }
   ],
   "source": [
    "out_folder = 'ariadnefit'\n",
    "\n",
    "engine = 'dynesty'\n",
    "nlive = 500\n",
    "dlogz = 0.5\n",
    "bound = 'multi'\n",
    "sample = 'rwalk'\n",
    "threads = 4\n",
    "dynamic = False\n",
    "setup = [engine, nlive, dlogz, bound, sample, threads, dynamic]\n",
    "\n",
    "models = ['phoenix','btsettl','btnextgen','btcond','kurucz','ck04']\n",
    "f = Fitter()\n",
    "f.star = s\n",
    "f.setup = setup\n",
    "f.av_law = 'fitzpatrick'\n",
    "f.out_folder = out_folder\n",
    "f.bma = True\n",
    "f.models = models\n",
    "f.n_samples = 100000\n",
    "\n",
    "f.prior_setup = {'teff': ('default'),'logg': ('default'),'z': ('default'),'dist': ('default'),'rad': ('default'),'Av': ('default')}\n",
    "f.initialize()\n"
   ]
  },
  {
   "cell_type": "code",
   "execution_count": 4,
   "metadata": {},
   "outputs": [
    {
     "name": "stdout",
     "output_type": "stream",
     "text": [
      "\t\t\tFITTING MODEL : phoenix\n"
     ]
    },
    {
     "name": "stderr",
     "output_type": "stream",
     "text": [
      "9740it [10:02, 16.16it/s, +500 | bound: 109 | nc: 1 | ncall: 218482 | eff(%):  4.698 | loglstar:   -inf < 324.103 <    inf | logz: 305.165 +/-  0.195 | dlogz:  0.001 >  0.500] \n"
     ]
    },
    {
     "name": "stdout",
     "output_type": "stream",
     "text": [
      "\t\t\tFITTING MODEL : btsettl\n"
     ]
    },
    {
     "name": "stderr",
     "output_type": "stream",
     "text": [
      "10327it [12:49, 13.41it/s, +500 | bound: 116 | nc: 1 | ncall: 233391 | eff(%):  4.649 | loglstar:   -inf < 323.644 <    inf | logz: 303.485 +/-    nan | dlogz:  0.001 >  0.500]\n"
     ]
    },
    {
     "name": "stdout",
     "output_type": "stream",
     "text": [
      "\t\t\tFITTING MODEL : btnextgen\n"
     ]
    },
    {
     "name": "stderr",
     "output_type": "stream",
     "text": [
      "9552it [10:54, 14.58it/s, +500 | bound: 107 | nc: 1 | ncall: 213333 | eff(%):  4.723 | loglstar:   -inf < 322.122 <    inf | logz: 303.574 +/-    nan | dlogz:  0.001 >  0.500] \n"
     ]
    },
    {
     "name": "stdout",
     "output_type": "stream",
     "text": [
      "\t\t\tFITTING MODEL : btcond\n"
     ]
    },
    {
     "name": "stderr",
     "output_type": "stream",
     "text": [
      "9022it [10:15, 14.65it/s, +500 | bound: 100 | nc: 1 | ncall: 199765 | eff(%):  4.779 | loglstar:   -inf < 322.108 <    inf | logz: 304.459 +/-    nan | dlogz:  0.001 >  0.500] \n"
     ]
    },
    {
     "name": "stdout",
     "output_type": "stream",
     "text": [
      "\t\t*** AVERAGING POSTERIOR SAMPLES ***\n"
     ]
    },
    {
     "name": "stderr",
     "output_type": "stream",
     "text": [
      "100%|██████████| 22/22 [00:01<00:00, 11.84it/s]\n"
     ]
    },
    {
     "name": "stdout",
     "output_type": "stream",
     "text": [
      "\t\t*** ESTIMATING AGE AND MASS USING MIST ISOCHRONES ***\n"
     ]
    },
    {
     "name": "stderr",
     "output_type": "stream",
     "text": [
      "11030it [01:55, 95.55it/s, +500 | bound: 127 | nc: 1 | ncall: 299501 | eff(%):  3.856 | loglstar:   -inf < -15.671 <    inf | logz: -33.300 +/- 12.120 | dlogz:  0.000 >  0.010]\n"
     ]
    },
    {
     "name": "stdout",
     "output_type": "stream",
     "text": [
      "\n",
      "\t\t\tFitting finished.\n",
      "\t\t\tBest fit parameters are:\n",
      "\t\t\tteff : 4886.9116 + 891.8861 - 811.8451 [3709.1645, 7116.6269]\n",
      "\t\t\tlogg : 4.0748 + 1.0353 - 0.2929 [3.5639, 5.5938]\n",
      "\t\t\t[Fe/H] : -0.1630 + 0.2827 - 0.1546 [-0.7021, 0.4213]\n",
      "\t\t\tdist : 2362.4458 + 1291.9876 - 331.8867 [1734.2317, 5278.3077]\n",
      "\t\t\trad : 3.6402 + 1.9056 - 0.8348 [2.1339, 7.5422]\n",
      "\t\t\tAv : 3.8828 + 1.0720 - 0.9611 [2.2686, 5.9405]\n",
      "\t\t\tAngular Diameter : 0.0130 + 0.0074 - 0.0051 [0.0048, 0.0350]\n",
      "\t\t\tGrav mass : 6.4458 + 27.7845 - 5.5569 [0.8889, 394.0398]\n",
      "\t\t\tLuminosity : 5.5490 + 10.8972 - 3.1135 [1.1382, 78.7158]\n",
      "\t\t\tIso mass : 0.8506 + 0.2498 - 0.2665 [0.1733, 1.8332]\n",
      "\t\t\tAge (Gyr) : 0.9012 + 10.8135 - 0.8561 [0.0001, 13.4269]\n",
      "\t\t\tEEP : 342.0574 + 84.5356 - 67.3154 [33.6589, 501.7358]\n",
      "\t\t\tExcess PS1_g noise : 0.3208 + 0.4350 - 0.1502 [0.0618, 1.6104]\n",
      "\t\t\tExcess BP noise : 0.1908 + 0.1329 - 0.0854 [0.0224, 0.7318]\n",
      "\t\t\tExcess PS1_r noise : 2.5175 + 2.4250 - 1.8451 [0.0926, 15.8548]\n",
      "\t\t\tExcess G noise : 0.0679 + 0.0222 - 0.0267 [0.0137, 0.1258]\n",
      "\t\t\tExcess PS1_i noise : 0.0647 + 0.0422 - 0.0185 [0.0191, 0.1919]\n",
      "\t\t\tExcess RP noise : 0.0641 + 0.0436 - 0.0308 [0.0141, 0.2052]\n",
      "\t\t\tExcess TESS noise : 1.9845 + 4.2264 - 1.2822 [0.0849, 14.2363]\n",
      "\t\t\tExcess PS1_z noise : 2.4400 + 2.6130 - 1.7701 [0.0799, 12.6391]\n",
      "\t\t\tExcess PS1_y noise : 0.1247 + 0.0736 - 0.0491 [0.0223, 0.3412]\n",
      "\t\t\tExcess J noise : 0.2723 + 0.1341 - 0.1043 [0.0548, 0.9456]\n",
      "\t\t\tExcess IRAC 36 noise : 0.4304 + 0.3024 - 0.1848 [0.0664, 1.7408]\n",
      "\t\t\tExcess IRAC 45 noise : 0.9534 + 0.5575 - 0.3431 [0.3359, 2.8917]\n",
      "\t\t\tMamajek Spectral Type : K3V\n",
      "\t\t\tphoenix probability : 0.5308\n",
      "\t\t\tbtsettl probability : 0.0990\n",
      "\t\t\tbtnextgen probability : 0.1081\n",
      "\t\t\tbtcond probability : 0.2621\n",
      "\t\t\tElapsed time : 47 minutes and 22.34 seconds\n"
     ]
    }
   ],
   "source": [
    "f.fit_bma()"
   ]
  },
  {
   "cell_type": "code",
   "execution_count": 1,
   "metadata": {},
   "outputs": [
    {
     "name": "stdout",
     "output_type": "stream",
     "text": [
      "L_X / L_Bol:  0.001937285997477023 -2.712806260562542\n"
     ]
    }
   ],
   "source": [
    "import numpy as np\n",
    "\n",
    "Lbol_sun = 4 * 10**33\n",
    "L_bol = Lbol_sun * 5.5490\n",
    "L_x = 4.3*10**31\n",
    "\n",
    "print(\"L_X / L_Bol: \",L_x/L_bol,np.log10(L_x/L_bol))"
   ]
  }
 ],
 "metadata": {
  "kernelspec": {
   "display_name": "Python 3 (ipykernel)",
   "language": "python",
   "name": "python3"
  },
  "language_info": {
   "codemirror_mode": {
    "name": "ipython",
    "version": 3
   },
   "file_extension": ".py",
   "mimetype": "text/x-python",
   "name": "python",
   "nbconvert_exporter": "python",
   "pygments_lexer": "ipython3",
   "version": "3.8.10"
  }
 },
 "nbformat": 4,
 "nbformat_minor": 4
}
