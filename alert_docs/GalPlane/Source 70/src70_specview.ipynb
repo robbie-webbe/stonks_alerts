{
 "cells": [
  {
   "cell_type": "code",
   "execution_count": 1,
   "metadata": {},
   "outputs": [],
   "source": [
    "%load_ext wurlitzer\n",
    "import numpy as np\n",
    "import glob\n",
    "import os\n",
    "import matplotlib.pyplot as plt\n",
    "from astropy.io import fits\n",
    "from xspec import *\n",
    "plt.rcParams['figure.figsize'] = [9,6]"
   ]
  },
  {
   "cell_type": "code",
   "execution_count": 2,
   "metadata": {},
   "outputs": [],
   "source": [
    "import numpy as np\n",
    "out_arr = np.full((4,19),-np.inf,dtype=object)"
   ]
  },
  {
   "cell_type": "code",
   "execution_count": 3,
   "metadata": {},
   "outputs": [
    {
     "name": "stdout",
     "output_type": "stream",
     "text": [
      "\n",
      "1 spectrum  in use\n",
      " \n",
      "Spectral Data File: 0886111501_PN16grpspec.fits  Spectrum 1\n",
      "Net count rate (cts/s) for Spectrum:1  3.746e-02 +/- 4.085e-03 (23.7 % total)\n",
      " Assigned to Data Group 1 and Plot Group 1\n",
      "  Noticed Channels:  1-12\n",
      "  Telescope: XMM Instrument: EPN  Channel Type: PI\n",
      "  Exposure Time: 1.531e+04 sec\n",
      " Using fit statistic: chi\n",
      " Using Background File                0886111501_PN16spec_bkg.fits\n",
      "  Background Exposure Time: 1.531e+04 sec\n",
      " Using Response (RMF) File            0886111501_PN16spec.rmf for Source 1\n",
      " Using Auxiliary Response (ARF) File  0886111501_PN16spec.arf\n",
      "\n"
     ]
    }
   ],
   "source": [
    "spec_file = sorted(glob.glob(\"*grpspec.fits\"))\n",
    "spec = Spectrum(spec_file[0])"
   ]
  },
  {
   "cell_type": "code",
   "execution_count": 4,
   "metadata": {},
   "outputs": [
    {
     "data": {
      "image/svg+xml": [
       "<svg xmlns=\"http://www.w3.org/2000/svg\" xmlns:xlink=\"http://www.w3.org/1999/xlink\" style=\"fill-rule: nonzero; stroke-linecap: round; stroke-linejoin: round; transform: scale(1,-1);\" version=\"1.1\" viewbox=\"          225.691483            27.140120          7371.414062          5618.850098\" width=\"100%\" height=\"100%\" preserveAspectRatio=\"xMidYMid\">\n",
       "<style>\n",
       "  .fn { font-family: Arial,Helvetica,sans-serif; }\n",
       "  .fN { font-family: Arial,Helvetica,sans-serif; font-weight: bold;}\n",
       "  .fr { font-family: Times,Times-Roman,Times New Roman,serif; }\n",
       "  .fR { font-family: Times,Times-Roman,Times New Roman,serif; font-weight: bold;}\n",
       "  .fi { font-family: Times,Times-Roman,Times New Roman,serif; font-style: italic;}\n",
       "  .fI { font-family: Times,Times-Roman,Times New Roman,serif; font-style: italic; font-weight: bold;}\n",
       "  .fs { font-family: Zapf-Chancery,Apple Chancery,URW Chancery L,cursive;}\n",
       "  .fS { font-family: Zapf-Chancery,Apple Chancery,URW Chancery L,cursive;font-weight:bold}\n",
       "  .fc { font-family: Arial Narrow,Helvetica Narrow,Arial,Helvetica,sans-serif;}\n",
       "  .fC { font-family: Arial Narrow,Helvetica Narrow,Arial,Helvetica,sans-serif; font-weight:bold;}\n",
       "</style>\n",
       "<g style=\"color: rgb(0, 0, 0); fill: currentColor; stroke: currentColor; stroke-width: 8\">\n",
       "\n",
       "<path fill=\"none\" d=\"M 742 576 l 5935 0 l 0 4607 l -5935 0 l 0 -4607 M 1490 576 l 0 33 M 1977 576 l 0 33 M 2323 576 l 0 33  M 2591 576 l 0 33 M 2810 576 l 0 33 M 2995 576 l 0 33 M 3156 576 l 0 33 M 3297 576 l 0 33 M 3424 576 l 0 66  M 4256 576 l 0 33 M 4743 576 l 0 33 M 5089 576 l 0 33 M 5357 576 l 0 33 M 5576 576 l 0 33 M 5761 576 l 0 33  M 5922 576 l 0 33 M 6063 576 l 0 33 M 6190 576 l 0 66 M 1490 5150 l 0 33 M 1977 5150 l 0 33 M 2323 5150 l 0 33  M 2591 5150 l 0 33 M 2810 5150 l 0 33 M 2995 5150 l 0 33 M 3156 5150 l 0 33 M 3297 5150 l 0 33 M 3424 5117 l 0 66  M 4256 5150 l 0 33 M 4743 5150 l 0 33 M 5089 5150 l 0 33 M 5357 5150 l 0 33 M 5576 5150 l 0 33 M 5761 5150 l 0 33  M 5922 5150 l 0 33 M 6063 5150 l 0 33 M 6190 5117 l 0 66 \"/>\n",
       "<text transform=\"translate(3379,403) scale(1,-1)\"><tspan class=\"fn\" style=\"font-size: 886%;\">1</tspan></text>\n",
       "<text transform=\"translate(6101,403) scale(1,-1)\"><tspan class=\"fn\" style=\"font-size: 886%;\">10</tspan></text>\n",
       "\n",
       "<path fill=\"none\" d=\"M 742 576 l 33 0 M 742 734 l 33 0 M 742 868 l 33 0 M 742 985 l 33 0 M 742 1087 l 33 0 M 742 1179 l 66 0  M 742 1781 l 33 0 M 742 2134 l 33 0 M 742 2384 l 33 0 M 742 2578 l 33 0 M 742 2737 l 33 0 M 742 2871 l 33 0  M 742 2987 l 33 0 M 742 3089 l 33 0 M 742 3181 l 66 0 M 742 3784 l 33 0 M 742 4136 l 33 0 M 742 4386 l 33 0  M 742 4580 l 33 0 M 742 4739 l 33 0 M 742 4873 l 33 0 M 742 4989 l 33 0 M 742 5091 l 33 0 M 742 5183 l 66 0  M 6644 576 l 33 0 M 6644 734 l 33 0 M 6644 868 l 33 0 M 6644 985 l 33 0 M 6644 1087 l 33 0 M 6611 1179 l 66 0  M 6644 1781 l 33 0 M 6644 2134 l 33 0 M 6644 2384 l 33 0 M 6644 2578 l 33 0 M 6644 2737 l 33 0 M 6644 2871 l 33 0  M 6644 2987 l 33 0 M 6644 3089 l 33 0 M 6611 3181 l 66 0 M 6644 3784 l 33 0 M 6644 4136 l 33 0 M 6644 4386 l 33 0  M 6644 4580 l 33 0 M 6644 4739 l 33 0 M 6644 4873 l 33 0 M 6644 4989 l 33 0 M 6644 5091 l 33 0 M 6611 5183 l 66 0  \"/>\n",
       "<text transform=\"translate(641,1035) scale(1,-1) rotate(-90)\"><tspan class=\"fn\" style=\"font-size: 886%;\">10<tspan style=\"font-size: 60%;\" dy=\"-0.6em\">−3<tspan style=\"font-size: 166.667%;\" dy=\"+0.36em\"/></tspan></tspan></text>\n",
       "<text transform=\"translate(641,3025) scale(1,-1) rotate(-90)\"><tspan class=\"fn\" style=\"font-size: 886%;\">0.01</tspan></text>\n",
       "<text transform=\"translate(641,5071) scale(1,-1) rotate(-90)\"><tspan class=\"fn\" style=\"font-size: 886%;\">0.1</tspan></text>\n",
       "</g>\n",
       "<g style=\"color: rgb(0, 0, 0); fill: currentColor; stroke: currentColor; stroke-width: 4\">\n",
       "<defs>\n",
       "<symbol id=\"M1\" overflow=\"visible\">\n",
       "<circle r=\"1\" fill=\"none\" stroke-width=\"1\"/>\n",
       "</symbol>\n",
       "</defs>\n",
       "<use xlink:href=\"#M1\" transform=\"translate(1033, 3907) scale(4.430)\"/>\n",
       "\n",
       "<path fill=\"none\" d=\"M 742 3907 l 525 0 M 1033 3658 l 0 442 \"/>\n",
       "<use xlink:href=\"#M1\" transform=\"translate(1412, 4687) scale(4.430)\"/>\n",
       "\n",
       "<path fill=\"none\" d=\"M 1342 4687 l 136 0 M 1412 4336 l 0 601 \"/>\n",
       "<use xlink:href=\"#M1\" transform=\"translate(3019, 2606) scale(4.430)\"/>\n",
       "\n",
       "<path fill=\"none\" d=\"M 1478 2606 l 2194 0 M 3019 2256 l 0 598 \"/>\n",
       "<use xlink:href=\"#M1\" transform=\"translate(3811, 3080) scale(4.430)\"/>\n",
       "\n",
       "<path fill=\"none\" d=\"M 3672 3080 l 264 0 M 3811 2733 l 0 595 \"/>\n",
       "<use xlink:href=\"#M1\" transform=\"translate(4837, 1839) scale(4.430)\"/>\n",
       "\n",
       "<path fill=\"none\" d=\"M 3936 1839 l 1410 0 M 4837 1491 l 0 596 \"/>\n",
       "<use xlink:href=\"#M1\" transform=\"translate(5460, 2159) scale(4.430)\"/>\n",
       "\n",
       "<path fill=\"none\" d=\"M 5346 2159 l 218 0 M 5460 1808 l 0 601 \"/>\n",
       "<use xlink:href=\"#M1\" transform=\"translate(5690, 1985) scale(4.430)\"/>\n",
       "\n",
       "<path fill=\"none\" d=\"M 5564 1985 l 240 0 M 5690 1640 l 0 591 \"/>\n",
       "<use xlink:href=\"#M1\" transform=\"translate(5845, 2353) scale(4.430)\"/>\n",
       "\n",
       "<path fill=\"none\" d=\"M 5804 2353 l 80 0 M 5845 2003 l 0 599 \"/>\n",
       "<use xlink:href=\"#M1\" transform=\"translate(6023, 1684) scale(4.430)\"/>\n",
       "\n",
       "<path fill=\"none\" d=\"M 5884 1684 l 264 0 M 6023 1335 l 0 597 \"/>\n",
       "<use xlink:href=\"#M1\" transform=\"translate(6441, 1197) scale(4.430)\"/>\n",
       "\n",
       "<path fill=\"none\" d=\"M 6148 1197 l 529 0 M 6441 894 l 0 528 \"/>\n",
       "</g>\n",
       "<g style=\"color: rgb(0, 0, 0); fill: currentColor; stroke: currentColor; stroke-width: 8\">\n",
       "<text transform=\"translate(370,2317) scale(1,-1) rotate(-90)\"><tspan class=\"fn\" style=\"font-size: 886%;\">counts s<tspan style=\"font-size: 60%;\" dy=\"-0.6em\">−1<tspan style=\"font-size: 166.667%;\" dy=\"+0.36em\"> keV<tspan style=\"font-size: 60%;\" dy=\"-0.6em\">−1<tspan style=\"font-size: 166.667%;\" dy=\"+0.36em\"/></tspan></tspan></tspan></tspan></text>\n",
       "<text transform=\"translate(3255,215) scale(1,-1)\"><tspan class=\"fn\" style=\"font-size: 886%;\">Energy (keV)</tspan></text>\n",
       "<text transform=\"translate(3534,5442) scale(1,-1)\"><tspan class=\"fn\" style=\"font-size: 886%;\"><tspan class=\"fR\">data</tspan></tspan></text>\n",
       "</g>\n",
       "<g style=\"color: rgb(0, 0, 0); fill: currentColor; stroke: currentColor; stroke-width: 4\">\n",
       "<text transform=\"translate(6246,46) scale(1,-1)\"><tspan class=\"fn\" style=\"font-size: 531.6%;\">rwebbe  3−Sep−2025 11:59</tspan></text>\n",
       "</g>\n",
       "<!-- _PGPLOT_SVG_ATEND: viewbox=\"          225.691483            27.140120          7371.414062          5618.850098\" -->\n",
       "</svg>"
      ],
      "text/plain": [
       "<IPython.core.display.SVG object>"
      ]
     },
     "metadata": {},
     "output_type": "display_data"
    }
   ],
   "source": [
    "Plot.device =\"/svg\"\n",
    "Plot.xAxis=\"keV\"\n",
    "Plot.xLog=True\n",
    "Plot.yLog=True\n",
    "Plot.addCommand(\"Rescale Y 0.0005 0.1\")\n",
    "Plot(\"data\")"
   ]
  },
  {
   "cell_type": "code",
   "execution_count": 5,
   "metadata": {
    "scrolled": false
   },
   "outputs": [
    {
     "name": "stdout",
     "output_type": "stream",
     "text": [
      "     5 channels (1-5) ignored in spectrum #     1\n",
      "     1 channels (12) ignored in spectrum #     1\n",
      "\n",
      "\n",
      "========================================================================\n",
      "Model TBabs<1>*bbody<2> Source No.: 1   Active/On\n",
      "Model Model Component  Parameter  Unit     Value\n",
      " par  comp\n",
      "   1    1   TBabs      nH         10^22    1.00000      +/-  0.0          \n",
      "   2    2   bbody      kT         keV      3.00000      +/-  0.0          \n",
      "   3    2   bbody      norm                1.00000      +/-  0.0          \n",
      "________________________________________________________________________\n",
      "\n",
      "tbvabs Version 2.3\n",
      "Cosmic absorption with grains and H2, modified from\n",
      "Wilms, Allen, & McCray, 2000, ApJ 542, 914-924\n",
      "Questions: Joern Wilms\n",
      "joern.wilms@sternwarte.uni-erlangen.de\n",
      "joern.wilms@fau.de\n",
      "\n",
      "http://pulsar.sternwarte.uni-erlangen.de/wilms/research/tbabs/\n",
      "\n",
      "PLEASE NOTICE:\n",
      "To get the model described by the above paper\n",
      "you will also have to set the abundances:\n",
      "   abund wilm\n",
      "\n",
      "Note that this routine ignores the current cross section setting\n",
      "as it always HAS to use the Verner cross sections as a baseline.\n",
      "\n",
      "Fit statistic  : Chi-Squared              2.116259e+10     using 6 bins.\n",
      "\n",
      "Test statistic : Chi-Squared              2.116259e+10     using 6 bins.\n",
      " Null hypothesis probability of 0.000000e+00 with 3 degrees of freedom\n",
      " Current data and model not fit yet.\n",
      "                                   Parameters\n",
      "Chi-Squared  |beta|/N    Lvl          1:nH          2:kT        3:norm\n",
      "15.391       0.627977     -1     0.0204246       3.64346   5.39860e-05\n",
      "15.0108      14409.4      -1    0.00982456       4.17155   6.78847e-05\n",
      "14.3371      25449.6      -1    0.00392820       4.61078   8.67480e-05\n",
      "13.7184      20349.4      -1   0.000908904       5.00180   0.000107739\n",
      "13.2511      15528.2      -1   0.000144538       5.36506   0.000129996\n",
      "12.8947      12280.1      -1   4.73862e-05       5.70834   0.000153404\n",
      "12.613       10066.4      -1   2.26341e-05       6.03566   0.000177973\n",
      "12.3838      8479.3       -1   1.00177e-05       6.34974   0.000203728\n",
      "12.193       7289.37      -1   3.59045e-06       6.65257   0.000230686\n",
      "12.0311      6364.73      -1   3.19086e-07       6.94570   0.000258862\n",
      "Number of trials exceeded: continue fitting? 11.8918      5626.01      -1   1.11165e-07       7.23036   0.000288265\n",
      "11.7704      5022.66      -1   5.55544e-09       7.50757   0.000318905\n",
      "11.6636      4521.03      -1   2.20613e-09       7.77815   0.000350790\n",
      "11.5687      4097.81      -1   5.08197e-10       8.04278   0.000383929\n",
      "11.4837      3736.27      -1   7.81935e-11       8.30205   0.000418327\n",
      "11.4072      3424.2       -1   2.37865e-11       8.55644   0.000453993\n",
      "11.3377      3152.33      -1   1.00317e-11       8.80635   0.000490938\n",
      "11.2748      2913.13      -1   3.07828e-12       9.05229   0.000529153\n",
      "11.2171      2702.99      -1   1.32252e-12       9.29444   0.000568664\n",
      "11.1621      2515.49      -1   4.38907e-13       9.53255   0.000609518\n",
      "Number of trials exceeded: continue fitting? 11.1188      2343.61      -1   2.13707e-13       9.76943   0.000651451\n",
      "11.0717      2204.66      -1   1.01023e-13       10.0011   0.000694869\n",
      "11.0131      2064.75      -1   4.47358e-14       10.2269   0.000740332\n",
      "11.0043      1910.95      -1   1.62262e-14       10.4596   0.000784755\n",
      "========================================\n",
      " Variances and Principal Axes\n",
      "                 1        2        3  \n",
      " 1.5412E-08| -0.0001  -0.0002   1.0000  \n",
      " 1.2226E+00|  0.9990   0.0450   0.0001  \n",
      " 5.0206E+02| -0.0450   0.9990   0.0002  \n",
      "----------------------------------------\n",
      "\n",
      "====================================\n",
      "  Covariance Matrix\n",
      "        1           2           3   \n",
      "   2.237e+00  -2.252e+01  -4.259e-03\n",
      "  -2.252e+01   5.010e+02   9.708e-02\n",
      "  -4.259e-03   9.708e-02   1.883e-05\n",
      "------------------------------------\n",
      "\n",
      "========================================================================\n",
      "Model TBabs<1>*bbody<2> Source No.: 1   Active/On\n",
      "Model Model Component  Parameter  Unit     Value\n",
      " par  comp\n",
      "   1    1   TBabs      nH         10^22    1.62262E-14  +/-  1.49572      \n",
      "   2    2   bbody      kT         keV      10.4596      +/-  22.3841      \n",
      "   3    2   bbody      norm                7.84755E-04  +/-  4.33976E-03  \n",
      "________________________________________________________________________\n",
      "\n",
      "\n",
      "Fit statistic  : Chi-Squared                   11.00     using 6 bins.\n",
      "\n",
      "Test statistic : Chi-Squared                   11.00     using 6 bins.\n",
      " Null hypothesis probability of 1.17e-02 with 3 degrees of freedom\n"
     ]
    },
    {
     "data": {
      "image/svg+xml": [
       "<svg xmlns=\"http://www.w3.org/2000/svg\" xmlns:xlink=\"http://www.w3.org/1999/xlink\" style=\"fill-rule: nonzero; stroke-linecap: round; stroke-linejoin: round; transform: scale(1,-1);\" version=\"1.1\" viewbox=\"           -8.104313            27.140120          7605.209961          5564.965820\" width=\"100%\" height=\"100%\" preserveAspectRatio=\"xMidYMid\">\n",
       "<style>\n",
       "  .fn { font-family: Arial,Helvetica,sans-serif; }\n",
       "  .fN { font-family: Arial,Helvetica,sans-serif; font-weight: bold;}\n",
       "  .fr { font-family: Times,Times-Roman,Times New Roman,serif; }\n",
       "  .fR { font-family: Times,Times-Roman,Times New Roman,serif; font-weight: bold;}\n",
       "  .fi { font-family: Times,Times-Roman,Times New Roman,serif; font-style: italic;}\n",
       "  .fI { font-family: Times,Times-Roman,Times New Roman,serif; font-style: italic; font-weight: bold;}\n",
       "  .fs { font-family: Zapf-Chancery,Apple Chancery,URW Chancery L,cursive;}\n",
       "  .fS { font-family: Zapf-Chancery,Apple Chancery,URW Chancery L,cursive;font-weight:bold}\n",
       "  .fc { font-family: Arial Narrow,Helvetica Narrow,Arial,Helvetica,sans-serif;}\n",
       "  .fC { font-family: Arial Narrow,Helvetica Narrow,Arial,Helvetica,sans-serif; font-weight:bold;}\n",
       "</style>\n",
       "<g style=\"color: rgb(0, 0, 0); fill: currentColor; stroke: currentColor; stroke-width: 8\">\n",
       "\n",
       "<path fill=\"none\" d=\"M 742 2304 l 5935 0 l 0 2879 l -5935 0 l 0 -2879 M 2142 2304 l 0 28 M 3310 2304 l 0 28 M 4139 2304 l 0 28  M 4782 2304 l 0 28 M 5307 2304 l 0 28 M 5751 2304 l 0 28 M 6135 2304 l 0 28 M 6475 2304 l 0 28 M 2142 5155 l 0 28  M 3310 5155 l 0 28 M 4139 5155 l 0 28 M 4782 5155 l 0 28 M 5307 5155 l 0 28 M 5751 5155 l 0 28 M 6135 5155 l 0 28  M 6475 5155 l 0 28 M 742 2304 l 28 0 M 742 2403 l 28 0 M 742 2486 l 28 0 M 742 2559 l 28 0 M 742 2623 l 28 0  M 742 2680 l 56 0 M 742 3057 l 28 0 M 742 3277 l 28 0 M 742 3434 l 28 0 M 742 3555 l 28 0 M 742 3654 l 28 0  M 742 3738 l 28 0 M 742 3810 l 28 0 M 742 3874 l 28 0 M 742 3932 l 56 0 M 742 4308 l 28 0 M 742 4529 l 28 0  M 742 4685 l 28 0 M 742 4806 l 28 0 M 742 4905 l 28 0 M 742 4989 l 28 0 M 742 5062 l 28 0 M 742 5126 l 28 0  M 742 5183 l 56 0 M 6649 2304 l 28 0 M 6649 2403 l 28 0 M 6649 2486 l 28 0 M 6649 2559 l 28 0 M 6649 2623 l 28 0  M 6621 2680 l 56 0 M 6649 3057 l 28 0 M 6649 3277 l 28 0 M 6649 3434 l 28 0 M 6649 3555 l 28 0 M 6649 3654 l 28 0  M 6649 3738 l 28 0 M 6649 3810 l 28 0 M 6649 3874 l 28 0 M 6621 3932 l 56 0 M 6649 4308 l 28 0 M 6649 4529 l 28 0  M 6649 4685 l 28 0 M 6649 4806 l 28 0 M 6649 4905 l 28 0 M 6649 4989 l 28 0 M 6649 5062 l 28 0 M 6649 5126 l 28 0  M 6621 5183 l 56 0 \"/>\n",
       "<text transform=\"translate(412,2643) scale(1,-1)\"><tspan class=\"fn\" style=\"font-size: 753.1%;\">10<tspan style=\"font-size: 60%;\" dy=\"-0.6em\">−3<tspan style=\"font-size: 166.667%;\" dy=\"+0.36em\"/></tspan></tspan></text>\n",
       "<text transform=\"translate(391,3894) scale(1,-1)\"><tspan class=\"fn\" style=\"font-size: 753.1%;\">0.01</tspan></text>\n",
       "<text transform=\"translate(467,5146) scale(1,-1)\"><tspan class=\"fn\" style=\"font-size: 753.1%;\">0.1</tspan></text>\n",
       "</g>\n",
       "<g style=\"color: rgb(0, 0, 0); fill: currentColor; stroke: currentColor; stroke-width: 4\">\n",
       "<defs>\n",
       "<symbol id=\"M1\" overflow=\"visible\">\n",
       "<circle r=\"1\" fill=\"none\" stroke-width=\"1\"/>\n",
       "</symbol>\n",
       "</defs>\n",
       "<use xlink:href=\"#M1\" transform=\"translate(1075, 3869) scale(4.430)\"/>\n",
       "\n",
       "<path fill=\"none\" d=\"M 742 3869 l 632 0 M 1075 3652 l 0 372 \"/>\n",
       "<use xlink:href=\"#M1\" transform=\"translate(3535, 3093) scale(4.430)\"/>\n",
       "\n",
       "<path fill=\"none\" d=\"M 1374 3093 l 3382 0 M 3535 2875 l 0 373 \"/>\n",
       "<use xlink:href=\"#M1\" transform=\"translate(5029, 3293) scale(4.430)\"/>\n",
       "\n",
       "<path fill=\"none\" d=\"M 4756 3293 l 522 0 M 5029 3074 l 0 375 \"/>\n",
       "<use xlink:href=\"#M1\" transform=\"translate(5580, 3184) scale(4.430)\"/>\n",
       "\n",
       "<path fill=\"none\" d=\"M 5278 3184 l 576 0 M 5580 2969 l 0 369 \"/>\n",
       "<use xlink:href=\"#M1\" transform=\"translate(5951, 3414) scale(4.430)\"/>\n",
       "\n",
       "<path fill=\"none\" d=\"M 5854 3414 l 190 0 M 5951 3195 l 0 375 \"/>\n",
       "<use xlink:href=\"#M1\" transform=\"translate(6378, 2996) scale(4.430)\"/>\n",
       "\n",
       "<path fill=\"none\" d=\"M 6044 2996 l 633 0 M 6378 2778 l 0 373 \"/>\n",
       "</g>\n",
       "<g style=\"color: rgb(0, 0, 0); fill: currentColor; stroke: currentColor; stroke-width: 8\">\n",
       "\n",
       "<path fill=\"none\" d=\"M 742 3139 l 632 0 l 0 83 l 3382 0 l 0 54 l 522 0 l 0 -168 l 576 0 l 0 -227 l 190 0 l 0 -177  l 633 0 M 742 3139 l 632 0 M 1075 3139 l 0 0 M 1374 3222 l 3382 0 M 3535 3222 l 0 0 M 4756 3276 l 522 0  M 5029 3276 l 0 0 M 5278 3108 l 576 0 M 5580 3108 l 0 0 M 5854 2881 l 190 0 M 5951 2881 l 0 0 M 6044 2704 l 633 0  M 6378 2704 l 0 0 \"/>\n",
       "<text transform=\"translate(111,3265) scale(1,-1) rotate(-90)\"><tspan class=\"fn\" style=\"font-size: 753.1%;\">counts s<tspan style=\"font-size: 60%;\" dy=\"-0.6em\">−1<tspan style=\"font-size: 166.667%;\" dy=\"+0.36em\"> keV<tspan style=\"font-size: 60%;\" dy=\"-0.6em\">−1<tspan style=\"font-size: 166.667%;\" dy=\"+0.36em\"/></tspan></tspan></tspan></tspan></text>\n",
       "<text transform=\"translate(2971,5403) scale(1,-1)\"><tspan class=\"fn\" style=\"font-size: 753.1%;\"><tspan class=\"fR\">data and folded model</tspan></tspan></text>\n",
       "\n",
       "<path fill=\"none\" d=\"M 742 576 l 5935 0 l 0 1728 l -5935 0 l 0 -1728 M 2142 576 l 0 28 M 3310 576 l 0 28 M 4139 576 l 0 28  M 4782 576 l 0 28 M 5307 576 l 0 28 M 5751 576 l 0 28 M 6135 576 l 0 28 M 6475 576 l 0 28 M 2142 2275 l 0 29  M 3310 2275 l 0 29 M 4139 2275 l 0 29 M 4782 2275 l 0 29 M 5307 2275 l 0 29 M 5751 2275 l 0 29 M 6135 2275 l 0 29  M 6475 2275 l 0 29 \"/>\n",
       "<text transform=\"translate(2104,429) scale(1,-1)\"><tspan class=\"fn\" style=\"font-size: 753.1%;\">2</tspan></text>\n",
       "<text transform=\"translate(4743,429) scale(1,-1)\"><tspan class=\"fn\" style=\"font-size: 753.1%;\">5</tspan></text>\n",
       "\n",
       "<path fill=\"none\" d=\"M 742 749 l 56 0 M 742 979 l 28 0 M 742 1209 l 56 0 M 742 1439 l 28 0 M 742 1669 l 56 0 M 742 1899 l 28 0  M 742 2129 l 56 0 M 6621 749 l 56 0 M 6649 979 l 28 0 M 6621 1209 l 56 0 M 6649 1439 l 28 0 M 6621 1669 l 56 0  M 6649 1899 l 28 0 M 6621 2129 l 56 0 \"/>\n",
       "<text transform=\"translate(580,712) scale(1,-1)\"><tspan class=\"fn\" style=\"font-size: 753.1%;\">0</tspan></text>\n",
       "<text transform=\"translate(240,1172) scale(1,-1)\"><tspan class=\"fn\" style=\"font-size: 753.1%;\">2×10<tspan style=\"font-size: 60%;\" dy=\"-0.6em\">−3<tspan style=\"font-size: 166.667%;\" dy=\"+0.36em\"/></tspan></tspan></text>\n",
       "<text transform=\"translate(240,1632) scale(1,-1)\"><tspan class=\"fn\" style=\"font-size: 753.1%;\">4×10<tspan style=\"font-size: 60%;\" dy=\"-0.6em\">−3<tspan style=\"font-size: 166.667%;\" dy=\"+0.36em\"/></tspan></tspan></text>\n",
       "<text transform=\"translate(240,2092) scale(1,-1)\"><tspan class=\"fn\" style=\"font-size: 753.1%;\">6×10<tspan style=\"font-size: 60%;\" dy=\"-0.6em\">−3<tspan style=\"font-size: 166.667%;\" dy=\"+0.36em\"/></tspan></tspan></text>\n",
       "</g>\n",
       "<g style=\"color: rgb(0, 0, 0); fill: currentColor; stroke: currentColor; stroke-width: 4\">\n",
       "<use xlink:href=\"#M1\" transform=\"translate(1075, 2262) scale(4.430)\"/>\n",
       "\n",
       "<path fill=\"none\" d=\"M 742 2262 l 632 0 M 1075 1588 l 0 716 \"/>\n",
       "<use xlink:href=\"#M1\" transform=\"translate(3535, 617) scale(4.430)\"/>\n",
       "\n",
       "<path fill=\"none\" d=\"M 1374 617 l 3382 0 M 3535 576 l 0 203 \"/>\n",
       "<use xlink:href=\"#M1\" transform=\"translate(5029, 771) scale(4.430)\"/>\n",
       "\n",
       "<path fill=\"none\" d=\"M 4756 771 l 522 0 M 5029 576 l 0 431 \"/>\n",
       "<use xlink:href=\"#M1\" transform=\"translate(5580, 825) scale(4.430)\"/>\n",
       "\n",
       "<path fill=\"none\" d=\"M 5278 825 l 576 0 M 5580 635 l 0 380 \"/>\n",
       "<use xlink:href=\"#M1\" transform=\"translate(5951, 1304) scale(4.430)\"/>\n",
       "\n",
       "<path fill=\"none\" d=\"M 5854 1304 l 190 0 M 5951 1009 l 0 589 \"/>\n",
       "<use xlink:href=\"#M1\" transform=\"translate(6378, 920) scale(4.430)\"/>\n",
       "\n",
       "<path fill=\"none\" d=\"M 6044 920 l 633 0 M 6378 784 l 0 272 \"/>\n",
       "</g>\n",
       "<g style=\"color: rgb(0, 0, 0); fill: currentColor; stroke: currentColor; stroke-width: 8\">\n",
       "<text transform=\"translate(111,962) scale(1,-1) rotate(-90)\"><tspan class=\"fn\" style=\"font-size: 753.1%;\">counts s<tspan style=\"font-size: 60%;\" dy=\"-0.6em\">−1<tspan style=\"font-size: 166.667%;\" dy=\"+0.36em\"> keV<tspan style=\"font-size: 60%;\" dy=\"-0.6em\">−1<tspan style=\"font-size: 166.667%;\" dy=\"+0.36em\"/></tspan></tspan></tspan></tspan></text>\n",
       "<text transform=\"translate(3323,269) scale(1,-1)\"><tspan class=\"fn\" style=\"font-size: 753.1%;\">Energy (keV)</tspan></text>\n",
       "</g>\n",
       "<g style=\"color: rgb(0, 255, 0); fill: currentColor; stroke: currentColor; stroke-width: 8\">\n",
       "\n",
       "<path fill=\"none\" d=\"M 742 749 l 5935 0 \"/>\n",
       "</g>\n",
       "<g style=\"color: rgb(0, 0, 0); fill: currentColor; stroke: currentColor; stroke-width: 4\">\n",
       "<text transform=\"translate(6246,46) scale(1,-1)\"><tspan class=\"fn\" style=\"font-size: 531.6%;\">rwebbe  3−Sep−2025 11:59</tspan></text>\n",
       "</g>\n",
       "<!-- _PGPLOT_SVG_ATEND: viewbox=\"           -8.104313            27.140120          7605.209961          5564.965820\" -->\n",
       "</svg>"
      ],
      "text/plain": [
       "<IPython.core.display.SVG object>"
      ]
     },
     "metadata": {},
     "output_type": "display_data"
    }
   ],
   "source": [
    "spec.ignore(\"**-0.2 12.0-**\")\n",
    "AllModels.clear()\n",
    "mo1 = Model(\"tbabs*bbody\")\n",
    "Fit.perform()\n",
    "Plot(\"data resid\")"
   ]
  },
  {
   "cell_type": "code",
   "execution_count": 6,
   "metadata": {},
   "outputs": [
    {
     "name": "stdout",
     "output_type": "stream",
     "text": [
      "Cannot do error calc: Reduced Chi^2 (= 3.6681) > maximum (2)\n"
     ]
    },
    {
     "ename": "Exception",
     "evalue": "Error executing command: error",
     "output_type": "error",
     "traceback": [
      "\u001b[0;31m---------------------------------------------------------------------------\u001b[0m",
      "\u001b[0;31mException\u001b[0m                                 Traceback (most recent call last)",
      "\u001b[0;32m<ipython-input-6-21d339ad0c88>\u001b[0m in \u001b[0;36m<module>\u001b[0;34m\u001b[0m\n\u001b[0;32m----> 1\u001b[0;31m \u001b[0mFit\u001b[0m\u001b[0;34m.\u001b[0m\u001b[0merror\u001b[0m\u001b[0;34m(\u001b[0m\u001b[0;34m\"1\"\u001b[0m\u001b[0;34m)\u001b[0m\u001b[0;34m\u001b[0m\u001b[0;34m\u001b[0m\u001b[0m\n\u001b[0m\u001b[1;32m      2\u001b[0m \u001b[0mFit\u001b[0m\u001b[0;34m.\u001b[0m\u001b[0merror\u001b[0m\u001b[0;34m(\u001b[0m\u001b[0;34m\"2\"\u001b[0m\u001b[0;34m)\u001b[0m\u001b[0;34m\u001b[0m\u001b[0;34m\u001b[0m\u001b[0m\n\u001b[1;32m      3\u001b[0m \u001b[0;34m\u001b[0m\u001b[0m\n\u001b[1;32m      4\u001b[0m \u001b[0mout_arr\u001b[0m\u001b[0;34m[\u001b[0m\u001b[0;36m0\u001b[0m\u001b[0;34m,\u001b[0m\u001b[0;36m0\u001b[0m\u001b[0;34m]\u001b[0m \u001b[0;34m=\u001b[0m \u001b[0;34m'bbody'\u001b[0m\u001b[0;34m\u001b[0m\u001b[0;34m\u001b[0m\u001b[0m\n\u001b[1;32m      5\u001b[0m \u001b[0mout_arr\u001b[0m\u001b[0;34m[\u001b[0m\u001b[0;36m0\u001b[0m\u001b[0;34m,\u001b[0m\u001b[0;36m1\u001b[0m\u001b[0;34m:\u001b[0m\u001b[0;36m4\u001b[0m\u001b[0;34m]\u001b[0m \u001b[0;34m=\u001b[0m \u001b[0mmo\u001b[0m\u001b[0;34m.\u001b[0m\u001b[0mTBabs\u001b[0m\u001b[0;34m.\u001b[0m\u001b[0mnH\u001b[0m\u001b[0;34m.\u001b[0m\u001b[0mvalues\u001b[0m\u001b[0;34m[\u001b[0m\u001b[0;36m0\u001b[0m\u001b[0;34m]\u001b[0m\u001b[0;34m,\u001b[0m \u001b[0mmo\u001b[0m\u001b[0;34m.\u001b[0m\u001b[0mTBabs\u001b[0m\u001b[0;34m.\u001b[0m\u001b[0mnH\u001b[0m\u001b[0;34m.\u001b[0m\u001b[0mvalues\u001b[0m\u001b[0;34m[\u001b[0m\u001b[0;36m0\u001b[0m\u001b[0;34m]\u001b[0m \u001b[0;34m-\u001b[0m \u001b[0mmo\u001b[0m\u001b[0;34m.\u001b[0m\u001b[0mTBabs\u001b[0m\u001b[0;34m.\u001b[0m\u001b[0mnH\u001b[0m\u001b[0;34m.\u001b[0m\u001b[0merror\u001b[0m\u001b[0;34m[\u001b[0m\u001b[0;36m0\u001b[0m\u001b[0;34m]\u001b[0m\u001b[0;34m,\u001b[0m \u001b[0mmo\u001b[0m\u001b[0;34m.\u001b[0m\u001b[0mTBabs\u001b[0m\u001b[0;34m.\u001b[0m\u001b[0mnH\u001b[0m\u001b[0;34m.\u001b[0m\u001b[0merror\u001b[0m\u001b[0;34m[\u001b[0m\u001b[0;36m1\u001b[0m\u001b[0;34m]\u001b[0m \u001b[0;34m-\u001b[0m \u001b[0mmo\u001b[0m\u001b[0;34m.\u001b[0m\u001b[0mTBabs\u001b[0m\u001b[0;34m.\u001b[0m\u001b[0mnH\u001b[0m\u001b[0;34m.\u001b[0m\u001b[0mvalues\u001b[0m\u001b[0;34m[\u001b[0m\u001b[0;36m0\u001b[0m\u001b[0;34m]\u001b[0m\u001b[0;34m\u001b[0m\u001b[0;34m\u001b[0m\u001b[0m\n",
      "\u001b[0;32m~/astro_soft/heasoft-6.32.1/x86_64-pc-linux-gnu-libc2.31/lib/python/xspec/fit.py\u001b[0m in \u001b[0;36merror\u001b[0;34m(self, argString, respPar)\u001b[0m\n\u001b[1;32m    423\u001b[0m             \u001b[0merrorArgs\u001b[0m \u001b[0;34m=\u001b[0m \u001b[0;34m[\u001b[0m\u001b[0;34m\"error\"\u001b[0m\u001b[0;34m]\u001b[0m\u001b[0;34m\u001b[0m\u001b[0;34m\u001b[0m\u001b[0m\n\u001b[1;32m    424\u001b[0m         \u001b[0merrorArgs\u001b[0m \u001b[0;34m+=\u001b[0m \u001b[0margString\u001b[0m\u001b[0;34m.\u001b[0m\u001b[0msplit\u001b[0m\u001b[0;34m(\u001b[0m\u001b[0;34m)\u001b[0m\u001b[0;34m\u001b[0m\u001b[0;34m\u001b[0m\u001b[0m\n\u001b[0;32m--> 425\u001b[0;31m         \u001b[0m_pyXspec\u001b[0m\u001b[0;34m.\u001b[0m\u001b[0mdoXspecCmd\u001b[0m\u001b[0;34m(\u001b[0m\u001b[0merrorArgs\u001b[0m\u001b[0;34m)\u001b[0m\u001b[0;34m\u001b[0m\u001b[0;34m\u001b[0m\u001b[0m\n\u001b[0m\u001b[1;32m    426\u001b[0m \u001b[0;34m\u001b[0m\u001b[0m\n\u001b[1;32m    427\u001b[0m     \u001b[0;32mdef\u001b[0m \u001b[0mftest\u001b[0m\u001b[0;34m(\u001b[0m\u001b[0mself\u001b[0m\u001b[0;34m,\u001b[0m \u001b[0mchisq2\u001b[0m\u001b[0;34m,\u001b[0m \u001b[0mdof2\u001b[0m\u001b[0;34m,\u001b[0m \u001b[0mchisq1\u001b[0m\u001b[0;34m,\u001b[0m \u001b[0mdof1\u001b[0m\u001b[0;34m)\u001b[0m\u001b[0;34m:\u001b[0m\u001b[0;34m\u001b[0m\u001b[0;34m\u001b[0m\u001b[0m\n",
      "\u001b[0;31mException\u001b[0m: Error executing command: error"
     ]
    }
   ],
   "source": [
    "Fit.error(\"1\")\n",
    "Fit.error(\"2\")\n",
    "\n",
    "out_arr[0,0] = 'bbody'\n",
    "out_arr[0,1:4] = mo.TBabs.nH.values[0], mo.TBabs.nH.values[0] - mo.TBabs.nH.error[0], mo.TBabs.nH.error[1] - mo.TBabs.nH.values[0]\n",
    "out_arr[0,4:7] = mo.bbody.kT.values[0], mo.bbody.kT.values[0] - mo.bbody.kT.error[0], mo.bbody.kT.error[1] - mo.bbody.kT.values[0]\n",
    "out_arr[0,-2:] = Fit.dof, Fit.statistic / Fit.dof\n"
   ]
  },
  {
   "cell_type": "code",
   "execution_count": null,
   "metadata": {
    "scrolled": false
   },
   "outputs": [],
   "source": [
    "AllModels.clear()\n",
    "mo = Model(\"tbabs*bremss\")\n",
    "Fit.perform()\n",
    "Plot(\"data resid\")"
   ]
  },
  {
   "cell_type": "code",
   "execution_count": null,
   "metadata": {},
   "outputs": [],
   "source": [
    "Fit.error(\"1\")\n",
    "Fit.error(\"2\")\n",
    "\n",
    "out_arr[3,0] = 'bremss'\n",
    "out_arr[3,1:4] = mo.TBabs.nH.values[0], mo.TBabs.nH.values[0] - mo.TBabs.nH.error[0], mo.TBabs.nH.error[1] - mo.TBabs.nH.values[0]\n",
    "out_arr[3,4:7] = mo.bremss.kT.values[0], mo.bremss.kT.values[0] - mo.bremss.kT.error[0], mo.bremss.kT.error[1] - mo.bremss.kT.values[0]\n",
    "out_arr[3,-2:] = Fit.dof, Fit.statistic / Fit.dof\n"
   ]
  },
  {
   "cell_type": "code",
   "execution_count": null,
   "metadata": {
    "scrolled": false
   },
   "outputs": [],
   "source": [
    "AllModels.clear()\n",
    "mo = Model(\"tbabs*apec\")\n",
    "Fit.perform()\n",
    "Plot(\"data resid\")"
   ]
  },
  {
   "cell_type": "code",
   "execution_count": null,
   "metadata": {},
   "outputs": [],
   "source": [
    "Fit.error(\"1\")\n",
    "Fit.error(\"2\")\n",
    "\n",
    "out_arr[2,0] = 'apec'\n",
    "out_arr[2,1:4] = mo.TBabs.nH.values[0], mo.TBabs.nH.values[0] - mo.TBabs.nH.error[0], mo.TBabs.nH.error[1] - mo.TBabs.nH.values[0]\n",
    "out_arr[2,13] = mo.apec.Abundanc.values[0]\n",
    "out_arr[2,4:7] = mo.apec.kT.values[0], mo.apec.kT.values[0] - mo.apec.kT.error[0], mo.apec.kT.error[1] - mo.apec.kT.values[0]\n",
    "out_arr[2,-2:] = Fit.dof, Fit.statistic / Fit.dof\n"
   ]
  },
  {
   "cell_type": "code",
   "execution_count": null,
   "metadata": {
    "scrolled": false
   },
   "outputs": [],
   "source": [
    "AllModels.clear()\n",
    "mo = Model(\"tbabs*powerlaw\")\n",
    "Fit.perform()\n",
    "Plot(\"data resid\")"
   ]
  },
  {
   "cell_type": "code",
   "execution_count": null,
   "metadata": {},
   "outputs": [],
   "source": [
    "Fit.error(\"1\")\n",
    "Fit.error(\"2\")\n",
    "\n",
    "out_arr[1,0] = 'powerlaw'\n",
    "out_arr[1,1:4] = mo.TBabs.nH.values[0], mo.TBabs.nH.values[0] - mo.TBabs.nH.error[0], mo.TBabs.nH.error[1] - mo.TBabs.nH.values[0]\n",
    "out_arr[1,14:17] = mo.powerlaw.PhoIndex.values[0], mo.powerlaw.PhoIndex.values[0] - mo.powerlaw.PhoIndex.error[0], mo.powerlaw.PhoIndex.error[1] - mo.powerlaw.PhoIndex.values[0]\n",
    "out_arr[1,-2:] = Fit.dof, Fit.statistic / Fit.dof\n"
   ]
  },
  {
   "cell_type": "code",
   "execution_count": null,
   "metadata": {},
   "outputs": [],
   "source": [
    "np.savetxt('../spec70_output.csv',out_arr,fmt=['%s','%.2f','%.2f','%.2f','%.2f','%.2f','%.2f','%.2f','%.2f','%.2f','%.2f','%.2f','%.2f','%.1f','%.2f','%.2f','%.2f','%i','%.2f'],delimiter=',')\n"
   ]
  },
  {
   "cell_type": "code",
   "execution_count": null,
   "metadata": {},
   "outputs": [],
   "source": [
    "AllModels.calcFlux(\".2 12.0\")"
   ]
  },
  {
   "cell_type": "code",
   "execution_count": null,
   "metadata": {},
   "outputs": [],
   "source": [
    "plx = 0.288\n",
    "d_kpc = 1/plx\n",
    "F_x = 4.4343*10**-12\n",
    "\n",
    "L_x = 4*3.14*F_x*(d_kpc*3.086*10**21)**2\n",
    "print(L_x)"
   ]
  },
  {
   "cell_type": "code",
   "execution_count": null,
   "metadata": {},
   "outputs": [],
   "source": [
    "import numpy as np\n",
    "print(d_kpc)\n",
    "print(np.log10(L_x))"
   ]
  },
  {
   "cell_type": "code",
   "execution_count": null,
   "metadata": {},
   "outputs": [],
   "source": [
    "F_opt = 1.05*10**-5 * 10**(-0.4*17.90)\n",
    "print('Optical Flux: ',F_opt)\n",
    "print('F_x / F_opt: ', np.log10(F_x/F_opt))"
   ]
  },
  {
   "cell_type": "code",
   "execution_count": null,
   "metadata": {
    "scrolled": false
   },
   "outputs": [],
   "source": [
    "AllModels.clear()\n",
    "mo = Model(\"tbabs*(bbody+powerlaw)\")\n",
    "mo.bbody.kT = 1.0\n",
    "mo.powerlaw.PhoIndex = 2.0\n",
    "Fit.perform()\n",
    "Plot(\"data resid\")"
   ]
  },
  {
   "cell_type": "code",
   "execution_count": null,
   "metadata": {
    "scrolled": false
   },
   "outputs": [],
   "source": [
    "AllModels.clear()\n",
    "mo = Model(\"tbabs*(bbody+bremss)\")\n",
    "mo.bbody.kT = 0.05\n",
    "mo.bremss.kT = 2.0\n",
    "Fit.perform()\n",
    "Plot(\"data resid\")"
   ]
  }
 ],
 "metadata": {
  "kernelspec": {
   "display_name": "Python 3 (ipykernel)",
   "language": "python",
   "name": "python3"
  },
  "language_info": {
   "codemirror_mode": {
    "name": "ipython",
    "version": 3
   },
   "file_extension": ".py",
   "mimetype": "text/x-python",
   "name": "python",
   "nbconvert_exporter": "python",
   "pygments_lexer": "ipython3",
   "version": "3.8.10"
  }
 },
 "nbformat": 4,
 "nbformat_minor": 4
}
