{
 "cells": [
  {
   "cell_type": "code",
   "execution_count": 1,
   "metadata": {},
   "outputs": [
    {
     "name": "stderr",
     "output_type": "stream",
     "text": [
      "Holoviews not imported. Some visualizations will not be available.\n",
      "PyMultiNest not imported.  MultiNest fits will not work.\n",
      "/home/rwebbe/.local/lib/python3.8/site-packages/astroARIADNE/fitter.py:43: UserWarning: (py)MultiNest installation (or libmultinest.dylib) not detected.\n",
      "  warnings.warn(\n"
     ]
    }
   ],
   "source": [
    "from astroARIADNE.star import Star\n",
    "from astroARIADNE.fitter import Fitter\n",
    "from dustmaps.config import config\n",
    "config['data_dir'] = '/home/rwebbe/data/dustmaps'"
   ]
  },
  {
   "cell_type": "code",
   "execution_count": 2,
   "metadata": {
    "scrolled": true
   },
   "outputs": [
    {
     "name": "stdout",
     "output_type": "stream",
     "text": [
      "\n",
      "\t\t#####################################\n",
      "\t\t##             ARIADNE             ##\n",
      "\t\t#####################################\n",
      "   spectrAl eneRgy dIstribution bAyesian moDel averagiNg fittEr\n",
      "\n",
      "\t\t\tAuthor : Jose Vines\n",
      "\t\t\tContact : jose . vines at ug . uchile . cl\n",
      "\t\t\tStar : 4054630516785955200\n",
      "\t\t*** LOOKING UP ARCHIVAL INFORMATION ***\n",
      "INFO: Query finished. [astroquery.utils.tap.core]\n",
      "Warning!: CatalogWarning\n",
      "Warning message: Parameter teff not found! Be advised.\n",
      "Warning!: CatalogWarning\n",
      "Warning message: Parameter radius not found! Be advised.\n",
      "Warning!: CatalogWarning\n",
      "Warning message: Parameter lum not found! Be advised.\n",
      "INFO: Query finished. [astroquery.utils.tap.core]\n",
      "Star not found in catalog TYCHO2.\n",
      "INFO: Query finished. [astroquery.utils.tap.core]\n",
      "Star not found in catalog Pan-STARRS.\n",
      "INFO: Query finished. [astroquery.utils.tap.core]\n",
      "Star not found in catalog SDSS.\n",
      "INFO: Query finished. [astroquery.utils.tap.core]\n",
      "Star not found in catalog Wise.\n",
      "INFO: Query finished. [astroquery.utils.tap.core]\n",
      "Star not found in catalog 2MASS.\n",
      "INFO: Query finished. [astroquery.utils.tap.core]\n",
      "Star not found in catalog APASS.\n",
      "Looking online for archival magnitudes for star 4054630516785955200\n",
      "Checking catalog Gaia DR3\n",
      "Warning!: CatalogWarning\n",
      "Warning message: Star is not available in catalog GALEX. Skipping\n",
      "Checking catalog TICv8\n",
      "Warning!: CatalogWarning\n",
      "Warning message: Star is not available in catalog SkyMapper. Skipping\n",
      "Warning!: CatalogWarning\n",
      "Warning message: Star is not available in catalog STROMGREN_PAUNZ. Skipping\n",
      "Warning!: CatalogWarning\n",
      "Warning message: Star is not available in catalog STROMGREN_HAUCK. Skipping\n",
      "Warning!: CatalogWarning\n",
      "Warning message: Star is not available in catalog MERMILLIOD. Skipping\n",
      "\t\t\tGaia DR3 ID : 4054630516785955200\n",
      "\t\t\tTIC : 1422849290\n",
      "\t\t\tGaia Effective temperature : 0.000 +/- 0.000\n",
      "\t\t\tGaia Stellar radius : 0.000 +/- 0.000\n",
      "\t\t\tGaia Stellar Luminosity : 0.000 +/- 0.000\n",
      "\t\t\tGaia Parallax : 1.616 +/- 0.631\n",
      "\t\t\tBailer-Jones distance : 2904.333 +/- 4408.347\n",
      "\t\t\tMaximum Av : 48.515\n",
      "\n",
      "\t\t       Filter       \tMagnitude\tUncertainty\n",
      "\t\t--------------------\t---------\t-----------\n",
      "\t\t    GaiaDR2v2_BP    \t 21.6167 \t  0.2302   \n",
      "\t\t    GaiaDR2v2_G     \t 19.9990 \t  0.0082   \n",
      "\t\t    GaiaDR2v2_RP    \t 18.6573 \t  0.0464   \n",
      "\t\t        TESS        \t 19.0580 \t  0.0163   \n",
      "\n"
     ]
    }
   ],
   "source": [
    "gaia_id = 4054630516785955200\n",
    "ra = 263.54001\n",
    "dec = -32.496023\n",
    "starname = str(gaia_id)\n",
    "s = Star(starname, ra, dec, g_id = gaia_id, dustmap='Planck16')"
   ]
  },
  {
   "cell_type": "code",
   "execution_count": 3,
   "metadata": {},
   "outputs": [
    {
     "name": "stdout",
     "output_type": "stream",
     "text": [
      "\t\t\tAdded 2MASS_J 16.024 +/- 0.017!!\n",
      "\t\t\tAdded 2MASS_H 15.157 +/- 0.026!!\n"
     ]
    }
   ],
   "source": [
    "#add the new information from VVV as 2MASS values for this fitting only. Check reasonableness of result.\n",
    "s.add_mag(16.024,0.017,'2MASS_J')\n",
    "s.add_mag(15.157,0.026,'2MASS_H')"
   ]
  },
  {
   "cell_type": "code",
   "execution_count": 4,
   "metadata": {
    "scrolled": true
   },
   "outputs": [
    {
     "name": "stdout",
     "output_type": "stream",
     "text": [
      "Creation of the directory ariadnefit failed. It might already exist\n",
      "\n",
      "\t\t*** EXECUTING MAIN FITTING ROUTINE ***\n",
      "\t\t\tSelected engine : Bayesian Model Averaging\n",
      "\t\t\tLive points : 500\n",
      "\t\t\tlog Evidence tolerance : 0.5\n",
      "\t\t\tFree parameters : 12\n",
      "\t\t\tBounding : multi\n",
      "\t\t\tSampling : rwalk\n",
      "\t\t\tN threads : 4\n",
      "\n"
     ]
    }
   ],
   "source": [
    "out_folder = 'ariadnefit'\n",
    "\n",
    "engine = 'dynesty'\n",
    "nlive = 500\n",
    "dlogz = 0.5\n",
    "bound = 'multi'\n",
    "sample = 'rwalk'\n",
    "threads = 4\n",
    "dynamic = False\n",
    "setup = [engine, nlive, dlogz, bound, sample, threads, dynamic]\n",
    "\n",
    "models = ['phoenix','btsettl','btnextgen','btcond','kurucz','ck04']\n",
    "f = Fitter()\n",
    "f.star = s\n",
    "f.setup = setup\n",
    "f.av_law = 'fitzpatrick'\n",
    "f.out_folder = out_folder\n",
    "f.bma = True\n",
    "f.models = models\n",
    "f.n_samples = 100000\n",
    "\n",
    "f.prior_setup = {'teff': ('default'),'logg': ('default'),'z': ('default'),'dist': ('default'),'rad': ('default'),'Av': ('default')}\n",
    "f.initialize()\n"
   ]
  },
  {
   "cell_type": "code",
   "execution_count": 5,
   "metadata": {},
   "outputs": [
    {
     "name": "stdout",
     "output_type": "stream",
     "text": [
      "\t\t\tFITTING MODEL : phoenix\n"
     ]
    },
    {
     "name": "stderr",
     "output_type": "stream",
     "text": [
      "7736it [02:28, 52.09it/s, +500 | bound: 80 | nc: 1 | ncall: 166642 | eff(%):  4.957 | loglstar:   -inf < 173.078 <    inf | logz: 158.214 +/-  0.177 | dlogz:  0.001 >  0.500]\n"
     ]
    },
    {
     "name": "stdout",
     "output_type": "stream",
     "text": [
      "\t\t\tFITTING MODEL : btsettl\n"
     ]
    },
    {
     "name": "stderr",
     "output_type": "stream",
     "text": [
      "8392it [02:48, 49.69it/s, +500 | bound: 90 | nc: 1 | ncall: 184626 | eff(%):  4.829 | loglstar:   -inf < 173.484 <    inf | logz: 157.209 +/-    nan | dlogz:  0.001 >  0.500] \n"
     ]
    },
    {
     "name": "stdout",
     "output_type": "stream",
     "text": [
      "\t\t\tFITTING MODEL : btnextgen\n"
     ]
    },
    {
     "name": "stderr",
     "output_type": "stream",
     "text": [
      "8081it [02:38, 51.12it/s, +500 | bound: 86 | nc: 1 | ncall: 176336 | eff(%):  4.880 | loglstar:   -inf < 173.593 <    inf | logz: 157.948 +/-    nan | dlogz:  0.001 >  0.500] \n"
     ]
    },
    {
     "name": "stdout",
     "output_type": "stream",
     "text": [
      "\t\t\tFITTING MODEL : btcond\n"
     ]
    },
    {
     "name": "stderr",
     "output_type": "stream",
     "text": [
      "8073it [02:36, 51.48it/s, +500 | bound: 86 | nc: 1 | ncall: 175851 | eff(%):  4.889 | loglstar:   -inf < 172.915 <    inf | logz: 157.303 +/-    nan | dlogz:  0.001 >  0.500] \n"
     ]
    },
    {
     "name": "stdout",
     "output_type": "stream",
     "text": [
      "\t\t*** AVERAGING POSTERIOR SAMPLES ***\n"
     ]
    },
    {
     "name": "stderr",
     "output_type": "stream",
     "text": [
      "100%|██████████| 16/16 [00:00<00:00, 33.70it/s]\n",
      "/home/rwebbe/.local/lib/python3.8/site-packages/astroARIADNE/fitter.py:1351: RuntimeWarning: invalid value encountered in log10\n",
      "  mass = logg + 2 * np.log10(rad) - 4.437\n"
     ]
    },
    {
     "name": "stdout",
     "output_type": "stream",
     "text": [
      "HDR failed for parameter grav_mass, reverting to regular CI calculation. Be sure to check the histograms afterwards for diagnosis.\n",
      "\t\t*** ESTIMATING AGE AND MASS USING MIST ISOCHRONES ***\n"
     ]
    },
    {
     "name": "stderr",
     "output_type": "stream",
     "text": [
      "12037it [01:06, 181.42it/s, +500 | bound: 139 | nc: 1 | ncall: 338416 | eff(%):  3.710 | loglstar:   -inf < -24.729 <    inf | logz: -44.411 +/-  6.985 | dlogz:  0.000 >  0.010]\n"
     ]
    },
    {
     "name": "stdout",
     "output_type": "stream",
     "text": [
      "\n",
      "\t\t\tFitting finished.\n",
      "\t\t\tBest fit parameters are:\n",
      "\t\t\tteff : 4549.4818 + 592.5361 - 472.1772 [3716.2279, 6484.4825]\n",
      "\t\t\tlogg : 4.7710 + 0.4982 - 0.7220 [3.5725, 5.7240]\n",
      "\t\t\t[Fe/H] : -0.1793 + 0.2104 - 0.2071 [-0.6836, 0.3117]\n",
      "\t\t\tdist : 16304.0011 + 9530.8200 - 4381.9862 [6773.1811, 39418.9784]\n",
      "\t\t\trad : 11.3035 + 8.7589 - 3.5237 [3.9541, 33.9557]\n",
      "\t\t\tAv : 4.4483 + 0.9613 - 0.8411 [2.0451, 7.1777]\n",
      "\t\t\tAngular Diameter : 0.0059 + 0.0051 - 0.0026 [0.0016, 0.0297]\n",
      "\t\t\tGrav mass : 128.4292 + 641.6672 - 120.3126 [8.1166, 7587.8103]\n",
      "\t\t\tLuminosity : 45.3391 + 103.7128 - 26.7646 [5.1922, 747.9099]\n",
      "\t\t\tIso mass : 0.8405 + 0.2096 - 0.1901 [0.2410, 1.6985]\n",
      "\t\t\tAge (Gyr) : 0.4963 + 11.6388 - 0.4962 [0.0001, 13.4434]\n",
      "\t\t\tEEP : 341.8554 + 86.1705 - 87.6822 [48.5734, 499.0787]\n",
      "\t\t\tExcess BP noise : 0.9599 + 0.9874 - 0.5708 [0.0805, 4.6934]\n",
      "\t\t\tExcess G noise : 0.1245 + 0.0611 - 0.0529 [0.0235, 0.2662]\n",
      "\t\t\tExcess RP noise : 0.2922 + 0.1919 - 0.1550 [0.0191, 1.1225]\n",
      "\t\t\tExcess TESS noise : 0.3366 + 0.0939 - 0.0879 [0.1230, 0.5744]\n",
      "\t\t\tExcess J noise : 0.1665 + 0.0995 - 0.0865 [0.0150, 0.4448]\n",
      "\t\t\tExcess H noise : 0.1911 + 0.1237 - 0.1018 [0.0294, 0.6262]\n",
      "\t\t\tMamajek Spectral Type : K4.5V\n",
      "\t\t\tphoenix probability : 0.3945\n",
      "\t\t\tbtsettl probability : 0.1444\n",
      "\t\t\tbtnextgen probability : 0.3025\n",
      "\t\t\tbtcond probability : 0.1587\n",
      "\t\t\tElapsed time : 12 minutes and 14.39 seconds\n"
     ]
    }
   ],
   "source": [
    "f.fit_bma()"
   ]
  },
  {
   "cell_type": "code",
   "execution_count": 6,
   "metadata": {},
   "outputs": [
    {
     "name": "stdout",
     "output_type": "stream",
     "text": [
      "L_X / L_Bol:  5.072884111065284e-05 -4.294745058932299\n"
     ]
    }
   ],
   "source": [
    "import numpy as np\n",
    "\n",
    "Lbol_sun = 4 * 10**33\n",
    "L_bol = Lbol_sun * 45.3391\n",
    "L_x = 9.2*10**30\n",
    "\n",
    "print(\"L_X / L_Bol: \",L_x/L_bol,np.log10(L_x/L_bol))"
   ]
  }
 ],
 "metadata": {
  "kernelspec": {
   "display_name": "Python 3 (ipykernel)",
   "language": "python",
   "name": "python3"
  },
  "language_info": {
   "codemirror_mode": {
    "name": "ipython",
    "version": 3
   },
   "file_extension": ".py",
   "mimetype": "text/x-python",
   "name": "python",
   "nbconvert_exporter": "python",
   "pygments_lexer": "ipython3",
   "version": "3.8.10"
  }
 },
 "nbformat": 4,
 "nbformat_minor": 4
}
