{
 "cells": [
  {
   "cell_type": "code",
   "execution_count": 1,
   "metadata": {},
   "outputs": [
    {
     "ename": "NameError",
     "evalue": "name 'max_gti' is not defined",
     "output_type": "error",
     "traceback": [
      "\u001b[0;31m---------------------------------------------------------------------------\u001b[0m",
      "\u001b[0;31mNameError\u001b[0m                                 Traceback (most recent call last)",
      "\u001b[0;32m<ipython-input-1-cd679045d77b>\u001b[0m in \u001b[0;36m<module>\u001b[0;34m\u001b[0m\n\u001b[1;32m     35\u001b[0m     \u001b[0mhlcs\u001b[0m\u001b[0;34m.\u001b[0m\u001b[0mappend\u001b[0m\u001b[0;34m(\u001b[0m\u001b[0mLightcurve\u001b[0m\u001b[0;34m(\u001b[0m\u001b[0mtime\u001b[0m\u001b[0;34m,\u001b[0m \u001b[0mhard\u001b[0m\u001b[0;34m,\u001b[0m \u001b[0merh\u001b[0m\u001b[0;34m,\u001b[0m \u001b[0mgti\u001b[0m\u001b[0;34m=\u001b[0m\u001b[0mgtis\u001b[0m\u001b[0;34m,\u001b[0m \u001b[0minput_counts\u001b[0m\u001b[0;34m=\u001b[0m\u001b[0;32mFalse\u001b[0m\u001b[0;34m)\u001b[0m\u001b[0;34m)\u001b[0m\u001b[0;34m\u001b[0m\u001b[0;34m\u001b[0m\u001b[0m\n\u001b[1;32m     36\u001b[0m \u001b[0;34m\u001b[0m\u001b[0m\n\u001b[0;32m---> 37\u001b[0;31m \u001b[0mprint\u001b[0m\u001b[0;34m(\u001b[0m\u001b[0mmax_gti\u001b[0m\u001b[0;34m)\u001b[0m\u001b[0;34m\u001b[0m\u001b[0;34m\u001b[0m\u001b[0m\n\u001b[0m",
      "\u001b[0;31mNameError\u001b[0m: name 'max_gti' is not defined"
     ]
    }
   ],
   "source": [
    "import glob\n",
    "import stingray as st\n",
    "import numpy as np\n",
    "from stingray import Lightcurve, AveragedPowerspectrum\n",
    "from astropy.io import fits\n",
    "import matplotlib.pyplot as plt\n",
    "plt.rcParams['figure.figsize'] = [12,12]\n",
    "\n",
    "lc_fnames = sorted(glob.glob('pps/P*PNX*SRCTSR*.FTZ'))\n",
    "evt_names = sorted(glob.glob('0*evts.fits'))\n",
    "\n",
    "lcs = []\n",
    "backlcs = []\n",
    "slcs = []\n",
    "hlcs = []\n",
    "for file in lc_fnames:\n",
    "    hdul = fits.open(file)\n",
    "    time = hdul[1].data.field('TIME')\n",
    "    rate = hdul[1].data.field('RATE')\n",
    "    backrate = hdul[1].data.field('BACKV')\n",
    "    err = hdul[1].data.field('ERROR')\n",
    "    soft = hdul[1].data.field('RATE1') + hdul[1].data.field('RATE2') + hdul[1].data.field('RATE3')\n",
    "    hard = hdul[1].data.field('RATE4') + hdul[1].data.field('RATE5')\n",
    "    ers = hdul[1].data.field('RATE1_ERR') + hdul[1].data.field('RATE2_ERR') + hdul[1].data.field('RATE3_ERR')\n",
    "    erh = hdul[1].data.field('RATE4_ERR') + hdul[1].data.field('RATE5_ERR')\n",
    "    gtis = []\n",
    "    max_gti = 0\n",
    "    for i in hdul[2].data:\n",
    "        gtis.append([i[0],i[1]])\n",
    "        if i[1] - i[0] > max_gti:\n",
    "            max_gti = i[1] - i[0]\n",
    "    lcs.append(Lightcurve(time, rate, err, gti=gtis, input_counts=False))\n",
    "    backlcs.append(Lightcurve(time, backrate, err, gti=gtis, input_counts=False))\n",
    "    slcs.append(Lightcurve(time, soft, ers, gti=gtis, input_counts=False))\n",
    "    hlcs.append(Lightcurve(time, hard, erh, gti=gtis, input_counts=False))\n",
    "    \n",
    "print(max_gti)"
   ]
  },
  {
   "cell_type": "code",
   "execution_count": null,
   "metadata": {},
   "outputs": [],
   "source": [
    "for i in range(len(lcs)):\n",
    "    plt.xlabel('Time (s)')\n",
    "    plt.ylabel('Countrate (/s)')\n",
    "    plt.plot(lcs[i].time, lcs[i].countrate, color='k', ds='steps-mid', label='Source')\n",
    "    plt.plot(backlcs[i].time, backlcs[i].countrate, color='r', ls='--', ds='steps-mid', label='Bkg')\n",
    "    plt.legend(loc='upper right')\n",
    "    for j in range(len(lcs[i].gti)-1):\n",
    "        plt.axvspan(lcs[i].gti[j][1],lcs[i].gti[j+1][0],color='purple',alpha=0.25)\n",
    "    plt.show()\n",
    "    plt.xlabel('Time (s)')\n",
    "    plt.ylabel('Countrate (/s)')\n",
    "    plt.plot(lcs[i].time, lcs[i].countrate, color='k', ds='steps-mid', label='Full')\n",
    "    plt.plot(slcs[i].time, slcs[i].countrate, color='r', ds='steps-mid', alpha=0.75, label='Soft')\n",
    "    plt.plot(hlcs[i].time, hlcs[i].countrate, color='b', ds='steps-mid', alpha=0.75, label='Hard')\n",
    "    plt.legend(loc='upper right')\n",
    "    for j in range(len(lcs[i].gti)-1):\n",
    "        plt.axvspan(lcs[i].gti[j][1],lcs[i].gti[j+1][0],color='purple',alpha=0.25)\n",
    "    plt.show()"
   ]
  },
  {
   "cell_type": "code",
   "execution_count": null,
   "metadata": {},
   "outputs": [],
   "source": [
    "apsd = AveragedPowerspectrum(lcs[0],segment_size=max_gti)\n",
    "apsds = AveragedPowerspectrum(slcs[0],segment_size=max_gti)\n",
    "apsdh = AveragedPowerspectrum(hlcs[0],segment_size=max_gti)\n",
    "fig, axs = plt.subplots(3,1)\n",
    "axs[0].loglog(apsd.freq,apsd.power,color='k')\n",
    "axs[1].loglog(apsds.freq,apsds.power,color='r')\n",
    "axs[2].loglog(apsdh.freq,apsdh.power,color='b')\n",
    "axs[1].set_xlabel('Frequency (Hz)')\n",
    "axs[2].set_ylabel('Power (/rms)')\n",
    "plt.show()"
   ]
  },
  {
   "cell_type": "code",
   "execution_count": null,
   "metadata": {},
   "outputs": [],
   "source": [
    "apsd = AveragedPowerspectrum(lcs[0].rebin(50),segment_size=max_gti)\n",
    "apsds = AveragedPowerspectrum(slcs[0].rebin(50),segment_size=max_gti)\n",
    "apsdh = AveragedPowerspectrum(hlcs[0].rebin(50),segment_size=max_gti)\n",
    "fig, axs = plt.subplots(3,1)\n",
    "axs[0].loglog(apsd.freq,apsd.power,color='k')\n",
    "axs[1].loglog(apsds.freq,apsds.power,color='r')\n",
    "axs[2].loglog(apsdh.freq,apsdh.power,color='b')\n",
    "axs[1].set_xlabel('Frequency (Hz)')\n",
    "axs[2].set_ylabel('Power (/rms)')\n",
    "plt.show()"
   ]
  },
  {
   "cell_type": "code",
   "execution_count": null,
   "metadata": {},
   "outputs": [],
   "source": [
    "from stingray.pulse.pulsar import fold_events\n",
    "from stingray.pulse.search import plot_profile\n",
    "from stingray.pulse.search import epoch_folding_search, z_n_search\n",
    "from stingray.gti import create_gti_mask\n",
    "source_events = st.EventList.read(evt_names[0],fmt_='hea',skip_checks=True)\n",
    "source_events.gti = gtis\n",
    "gti_mask = create_gti_mask(source_events.time,gtis)\n",
    "clean_times = source_events.time[gti_mask]\n",
    "clean_events = st.EventList(clean_times)"
   ]
  },
  {
   "cell_type": "code",
   "execution_count": null,
   "metadata": {},
   "outputs": [],
   "source": [
    "from stingray.pulse.search import search_best_peaks\n",
    "from stingray.stats import fold_detection_level, z2_n_detection_level\n",
    "\n",
    "obs_length = max(source_events.time) - min(source_events.time)\n",
    "df_min = 1/obs_length\n",
    "oversampling=15\n",
    "df = df_min / oversampling\n",
    "frequencies = np.arange(2*df_min, 5, df)\n",
    "\n",
    "freq, efstat = epoch_folding_search(clean_events.time, frequencies, nbin=32, gti=gtis)\n",
    "freq, zstat = z_n_search(clean_events.time, frequencies, nbin=32, nharm=1, gti=gtis)\n",
    "\n",
    "ntrial = (frequencies[-1] - frequencies[0]) / df_min\n",
    "z_detlev = z2_n_detection_level(n=1, epsilon=0.001, ntrial=len(freq))\n",
    "ef_detlev = fold_detection_level(32, epsilon=0.001, ntrial=len(freq))\n",
    "\n",
    "cand_freqs_ef, cand_stat_ef = search_best_peaks(freq, efstat, ef_detlev)\n",
    "cand_freqs_z, cand_stat_z = search_best_peaks(freq, zstat, z_detlev)"
   ]
  },
  {
   "cell_type": "code",
   "execution_count": null,
   "metadata": {},
   "outputs": [],
   "source": [
    "print(len(cand_freqs_ef))\n",
    "print(len(cand_freqs_z))"
   ]
  },
  {
   "cell_type": "code",
   "execution_count": null,
   "metadata": {},
   "outputs": [],
   "source": [
    "for i in range(len(cand_freqs_ef)):\n",
    "    print(cand_freqs_ef[i],cand_stat_ef[i])"
   ]
  },
  {
   "cell_type": "code",
   "execution_count": null,
   "metadata": {},
   "outputs": [],
   "source": [
    "for i in range(len(cand_freqs_z)):\n",
    "    print(cand_freqs_z[i],cand_stat_z[i])"
   ]
  },
  {
   "cell_type": "code",
   "execution_count": null,
   "metadata": {},
   "outputs": [],
   "source": [
    "nharm=1\n",
    "nbin=32\n",
    "plt.figure()\n",
    "plt.axhline(z_detlev - nharm, label='$Z^2_1$ det. lev.')\n",
    "plt.axhline(ef_detlev - nbin + 1, label='EF det. lev.', color='gray')\n",
    "\n",
    "plt.plot(freq, (zstat - nharm), label='$Z^2_1$ statistics')\n",
    "plt.plot(freq, efstat - nbin + 1, color='gray', label='EF statistics', alpha=0.5)\n",
    "\n",
    "for c in cand_freqs_ef:\n",
    "    plt.axvline(c, ls='-.', label='EF Candidate', zorder=10)\n",
    "for c in cand_freqs_z:\n",
    "    plt.axvline(c, ls='--', label='$Z^2_1$ Candidate', zorder=10)\n",
    "\n",
    "#plt.axvline(1/period, color='r', lw=3, alpha=0.5, label='Correct frequency')\n",
    "plt.xlim([frequencies[0], frequencies[-1]])\n",
    "plt.xlabel('Frequency (Hz)')\n",
    "plt.ylabel('Statistics - d.o.f.')\n",
    "plt.legend()\n",
    "\n",
    "plt.figure(figsize=(15, 5))\n",
    "plt.plot(freq, (zstat - nharm), label='$Z_2$ statistics')\n",
    "plt.plot(freq, efstat - nbin + 1, color='gray', label='EF statistics', alpha=0.5)\n",
    "\n",
    "#plt.axvline(1/period, color='r', lw=3, alpha=0.5, label='Correct frequency')\n",
    "plt.axhline(z_detlev - nharm, label='$Z^2_1$ det. lev.', zorder=10)\n",
    "plt.axhline(ef_detlev - nbin + 1, label='EF det. lev.', color='gray', zorder=10)\n",
    "\n",
    "for c in cand_freqs_ef:\n",
    "    plt.axvline(c, ls='-.', label='EF Candidate', color='gray', zorder=10)\n",
    "for c in cand_freqs_z:\n",
    "    plt.axvline(c, ls='--', label='$Z^2_1$ Candidate', zorder=10)\n",
    "\n",
    "plt.xlabel('Frequency (Hz)')\n",
    "plt.ylabel('Statistics - d.o.f. (Zoom)')\n",
    "\n",
    "plt.ylim([-15, ef_detlev - nbin + 3])\n",
    "_ = plt.xlim([frequencies[0], frequencies[-1]])"
   ]
  },
  {
   "cell_type": "code",
   "execution_count": null,
   "metadata": {},
   "outputs": [],
   "source": [
    "f0 = \n",
    "P = 1 / f0\n",
    "print(P)\n",
    "ph, profile, profile_err = fold_events(source_events.time, f0)\n",
    "_ = plot_profile(ph,profile)"
   ]
  },
  {
   "cell_type": "code",
   "execution_count": null,
   "metadata": {},
   "outputs": [],
   "source": [
    "f0 = \n",
    "P = 1 / f0\n",
    "print(P)\n",
    "ph, profile, profile_err = fold_events(source_events.time, f0)\n",
    "_ = plot_profile(ph,profile)"
   ]
  },
  {
   "cell_type": "code",
   "execution_count": null,
   "metadata": {},
   "outputs": [],
   "source": [
    "hard_source_events = source_events.filter_energy_range([2000,12000],use_pi=True)\n",
    "print(len(hard_source_events.time))\n",
    "\n",
    "obs_length = max(hard_source_events.time) - min(hard_source_events.time)\n",
    "df_min = 1/obs_length\n",
    "oversampling=15\n",
    "df = df_min / oversampling\n",
    "frequencies = np.arange(2*df_min, 5, df)\n",
    "\n",
    "freq, efstat = epoch_folding_search(hard_source_events.time, frequencies, nbin=32)\n",
    "freq, zstat = z_n_search(hard_source_events.time, frequencies, nbin=32, nharm=1)\n",
    "\n",
    "ntrial = (frequencies[-1] - frequencies[0]) / df_min\n",
    "z_detlev = z2_n_detection_level(n=1, epsilon=0.001, ntrial=len(freq))\n",
    "ef_detlev = fold_detection_level(32, epsilon=0.001, ntrial=len(freq))\n",
    "\n",
    "cand_freqs_ef, cand_stat_ef = search_best_peaks(freq, efstat, ef_detlev)\n",
    "cand_freqs_z, cand_stat_z = search_best_peaks(freq, zstat, z_detlev)"
   ]
  },
  {
   "cell_type": "code",
   "execution_count": null,
   "metadata": {},
   "outputs": [],
   "source": [
    "print(len(cand_freqs_ef))\n",
    "print(len(cand_freqs_z))"
   ]
  }
 ],
 "metadata": {
  "kernelspec": {
   "display_name": "Python 3 (ipykernel)",
   "language": "python",
   "name": "python3"
  },
  "language_info": {
   "codemirror_mode": {
    "name": "ipython",
    "version": 3
   },
   "file_extension": ".py",
   "mimetype": "text/x-python",
   "name": "python",
   "nbconvert_exporter": "python",
   "pygments_lexer": "ipython3",
   "version": "3.8.10"
  }
 },
 "nbformat": 4,
 "nbformat_minor": 4
}
