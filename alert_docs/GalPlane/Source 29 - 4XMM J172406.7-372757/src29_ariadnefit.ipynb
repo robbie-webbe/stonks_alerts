{
 "cells": [
  {
   "cell_type": "code",
   "execution_count": 1,
   "metadata": {},
   "outputs": [
    {
     "name": "stderr",
     "output_type": "stream",
     "text": [
      "Holoviews not imported. Some visualizations will not be available.\n",
      "PyMultiNest not imported.  MultiNest fits will not work.\n",
      "/home/rwebbe/.local/lib/python3.8/site-packages/astroARIADNE/fitter.py:43: UserWarning: (py)MultiNest installation (or libmultinest.dylib) not detected.\n",
      "  warnings.warn(\n"
     ]
    }
   ],
   "source": [
    "from astroARIADNE.star import Star\n",
    "from astroARIADNE.fitter import Fitter\n",
    "from dustmaps.config import config\n",
    "config['data_dir'] = '/home/rwebbe/data/dustmaps'"
   ]
  },
  {
   "cell_type": "code",
   "execution_count": 2,
   "metadata": {
    "scrolled": true
   },
   "outputs": [
    {
     "name": "stdout",
     "output_type": "stream",
     "text": [
      "\n",
      "\t\t#####################################\n",
      "\t\t##             ARIADNE             ##\n",
      "\t\t#####################################\n",
      "   spectrAl eneRgy dIstribution bAyesian moDel averagiNg fittEr\n",
      "\n",
      "\t\t\tAuthor : Jose Vines\n",
      "\t\t\tContact : jose . vines at ug . uchile . cl\n",
      "\t\t\tStar : 5974322293543549440\n",
      "\t\t*** LOOKING UP ARCHIVAL INFORMATION ***\n",
      "INFO: Query finished. [astroquery.utils.tap.core]\n",
      "Warning!: CatalogWarning\n",
      "Warning message: Parameter radius not found! Be advised.\n",
      "Warning!: CatalogWarning\n",
      "Warning message: Parameter lum not found! Be advised.\n",
      "INFO: Query finished. [astroquery.utils.tap.core]\n",
      "Star not found in catalog TYCHO2.\n",
      "INFO: Query finished. [astroquery.utils.tap.core]\n",
      "Star not found in catalog Pan-STARRS.\n",
      "INFO: Query finished. [astroquery.utils.tap.core]\n",
      "Star not found in catalog SDSS.\n",
      "INFO: Query finished. [astroquery.utils.tap.core]\n",
      "Star not found in catalog Wise.\n",
      "INFO: Query finished. [astroquery.utils.tap.core]\n",
      "INFO: Query finished. [astroquery.utils.tap.core]\n",
      "Looking online for archival magnitudes for star 5974322293543549440\n",
      "Checking catalog APASS\n",
      "Checking catalog Gaia DR3\n",
      "Checking catalog 2MASS\n",
      "Checking catalog GLIMPSE\n",
      "Warning!: CatalogWarning\n",
      "Warning message: Star is not available in catalog GALEX. Skipping\n",
      "Checking catalog TICv8\n",
      "Checking catalog SkyMapper DR1.1\n",
      "Warning!: CatalogWarning\n",
      "Warning message: uPSF magnitude not found! Skipping.\n",
      "Warning!: CatalogWarning\n",
      "Warning message: vPSF magnitude not found! Skipping.\n",
      "Warning!: CatalogWarning\n",
      "Warning message: iPSF magnitude not found! Skipping.\n",
      "Warning!: CatalogWarning\n",
      "Warning message: zPSF magnitude not found! Skipping.\n",
      "Warning!: CatalogWarning\n",
      "Warning message: Star is not available in catalog STROMGREN_PAUNZ. Skipping\n",
      "Warning!: CatalogWarning\n",
      "Warning message: Star is not available in catalog STROMGREN_HAUCK. Skipping\n",
      "Warning!: CatalogWarning\n",
      "Warning message: Star is not available in catalog MERMILLIOD. Skipping\n",
      "\t\t\tGaia DR3 ID : 5974322293543549440\n",
      "\t\t\tTIC : 200105910\n",
      "\t\t\tGaia Effective temperature : 3615.800 +/- 349.663\n",
      "\t\t\tGaia Stellar radius : 0.000 +/- 0.000\n",
      "\t\t\tGaia Stellar Luminosity : 0.000 +/- 0.000\n",
      "\t\t\tGaia Parallax : 35.257 +/- 0.020\n",
      "\t\t\tBailer-Jones distance : 28.360 +/- 0.016\n",
      "\t\t\tMaximum Av : 19.786\n",
      "\n",
      "\t\t       Filter       \tMagnitude\tUncertainty\n",
      "\t\t--------------------\t---------\t-----------\n",
      "\t\t  GROUND_JOHNSON_B  \t 15.8180 \t  0.0270   \n",
      "\t\t       SDSS_g       \t 15.2510 \t  0.0350   \n",
      "\t\t    SkyMapper_g     \t 15.3660 \t  0.0070   \n",
      "\t\t    GaiaDR2v2_BP    \t 15.2662 \t  0.0047   \n",
      "\t\t  GROUND_JOHNSON_V  \t 14.7450 \t  0.0320   \n",
      "\t\t    SkyMapper_r     \t 14.2910 \t  0.0110   \n",
      "\t\t       SDSS_r       \t 14.3880 \t  0.0510   \n",
      "\t\t    GaiaDR2v2_G     \t 13.6485 \t  0.0029   \n",
      "\t\t       SDSS_i       \t 14.0010 \t  0.0410   \n",
      "\t\t    GaiaDR2v2_RP    \t 12.4254 \t  0.0041   \n",
      "\t\t        TESS        \t 12.3656 \t  0.0075   \n",
      "\t\t      2MASS_J       \t 10.6850 \t  0.0190   \n",
      "\t\t      2MASS_H       \t 10.1250 \t  0.0240   \n",
      "\t\t      2MASS_Ks      \t 9.7950  \t  0.0220   \n",
      "\t\t  SPITZER_IRAC_36   \t 9.5830  \t  0.0340   \n",
      "\t\t  SPITZER_IRAC_45   \t 9.5530  \t  0.0360   \n",
      "\n"
     ]
    }
   ],
   "source": [
    "gaia_id = 5974322293543549440\n",
    "ra = 261.0284318\n",
    "dec = -37.4655237\n",
    "starname = str(gaia_id)\n",
    "s = Star(starname, ra, dec, g_id = gaia_id, dustmap='Planck16')"
   ]
  },
  {
   "cell_type": "code",
   "execution_count": 3,
   "metadata": {},
   "outputs": [
    {
     "name": "stdout",
     "output_type": "stream",
     "text": [
      "Created the directory ariadnefit\n",
      "\n",
      "\t\t*** EXECUTING MAIN FITTING ROUTINE ***\n",
      "\t\t\tSelected engine : Bayesian Model Averaging\n",
      "\t\t\tLive points : 500\n",
      "\t\t\tlog Evidence tolerance : 0.5\n",
      "\t\t\tFree parameters : 22\n",
      "\t\t\tBounding : multi\n",
      "\t\t\tSampling : rwalk\n",
      "\t\t\tN threads : 4\n",
      "\n"
     ]
    }
   ],
   "source": [
    "out_folder = 'ariadnefit'\n",
    "\n",
    "engine = 'dynesty'\n",
    "nlive = 500\n",
    "dlogz = 0.5\n",
    "bound = 'multi'\n",
    "sample = 'rwalk'\n",
    "threads = 4\n",
    "dynamic = False\n",
    "setup = [engine, nlive, dlogz, bound, sample, threads, dynamic]\n",
    "\n",
    "models = ['phoenix','btsettl','btnextgen','btcond','kurucz','ck04']\n",
    "f = Fitter()\n",
    "f.star = s\n",
    "f.setup = setup\n",
    "f.av_law = 'fitzpatrick'\n",
    "f.out_folder = out_folder\n",
    "f.bma = True\n",
    "f.models = models\n",
    "f.n_samples = 100000\n",
    "\n",
    "f.prior_setup = {'teff': ('default'),'logg': ('default'),'z': ('default'),'dist': ('default'),'rad': ('default'),'Av': ('default')}\n",
    "f.initialize()\n"
   ]
  },
  {
   "cell_type": "code",
   "execution_count": 4,
   "metadata": {},
   "outputs": [
    {
     "name": "stdout",
     "output_type": "stream",
     "text": [
      "\t\t\tFITTING MODEL : phoenix\n"
     ]
    },
    {
     "name": "stderr",
     "output_type": "stream",
     "text": [
      "15579it [24:32, 10.58it/s, +500 | bound: 186 | nc: 1 | ncall: 364313 | eff(%):  4.420 | loglstar:   -inf < 390.797 <    inf | logz: 360.197 +/-    nan | dlogz:  0.001 >  0.500]  \n"
     ]
    },
    {
     "name": "stdout",
     "output_type": "stream",
     "text": [
      "\t\t\tFITTING MODEL : btsettl\n"
     ]
    },
    {
     "name": "stderr",
     "output_type": "stream",
     "text": [
      "16079it [32:00,  8.37it/s, +500 | bound: 194 | nc: 1 | ncall: 376601 | eff(%):  4.408 | loglstar:   -inf < 391.621 <    inf | logz: 359.973 +/-    nan | dlogz:  0.001 >  0.500]   \n"
     ]
    },
    {
     "name": "stdout",
     "output_type": "stream",
     "text": [
      "\t\t\tFITTING MODEL : btnextgen\n"
     ]
    },
    {
     "name": "stderr",
     "output_type": "stream",
     "text": [
      "15667it [16:22, 15.95it/s, +500 | bound: 186 | nc: 1 | ncall: 366604 | eff(%):  4.416 | loglstar:   -inf < 390.551 <    inf | logz: 359.725 +/-    nan | dlogz:  0.001 >  0.500]  \n"
     ]
    },
    {
     "name": "stdout",
     "output_type": "stream",
     "text": [
      "\t\t\tFITTING MODEL : btcond\n"
     ]
    },
    {
     "name": "stderr",
     "output_type": "stream",
     "text": [
      "15725it [09:51, 26.59it/s, +500 | bound: 186 | nc: 1 | ncall: 367245 | eff(%):  4.424 | loglstar:   -inf < 390.916 <    inf | logz: 359.981 +/-    nan | dlogz:  0.001 >  0.500]  \n"
     ]
    },
    {
     "name": "stdout",
     "output_type": "stream",
     "text": [
      "\t\t*** AVERAGING POSTERIOR SAMPLES ***\n"
     ]
    },
    {
     "name": "stderr",
     "output_type": "stream",
     "text": [
      "100%|██████████| 26/26 [00:01<00:00, 15.90it/s]\n"
     ]
    },
    {
     "name": "stdout",
     "output_type": "stream",
     "text": [
      "\t\t*** ESTIMATING AGE AND MASS USING MIST ISOCHRONES ***\n"
     ]
    },
    {
     "name": "stderr",
     "output_type": "stream",
     "text": [
      "21875it [03:49, 95.42it/s, +500 | bound: 274 | nc: 1 | ncall: 708494 | eff(%):  3.160 | loglstar:   -inf < -37.519 <    inf | logz: -77.050 +/-    nan | dlogz:  0.000 >  0.010]    \n"
     ]
    },
    {
     "name": "stdout",
     "output_type": "stream",
     "text": [
      "\n",
      "\t\t\tFitting finished.\n",
      "\t\t\tBest fit parameters are:\n",
      "\t\t\tteff : 6313.6270 + 222.4247 - 222.4247 [5642.3810, 6829.9700]\n",
      "\t\t\tlogg : 4.7748 + 0.2599 - 0.3850 [3.8411, 5.2753]\n",
      "\t\t\t[Fe/H] : -0.0743 + 0.1414 - 0.1414 [-0.4795, 0.3336]\n",
      "\t\t\tdist : 28.3942 + 0.0230 - 0.0145 [28.3652, 28.4658]\n",
      "\t\t\trad : 0.1710 + 0.0051 - 0.0044 [0.1597, 0.1930]\n",
      "\t\t\tAv : 4.2898 + 0.1231 - 0.1471 [3.6652, 4.5630]\n",
      "\t\t\tAngular Diameter : 0.0560 + 0.0017 - 0.0014 [0.0523, 0.0632]\n",
      "\t\t\tGrav mass : 0.0488 + 0.0522 - 0.0291 [0.0071, 0.2041]\n",
      "\t\t\tLuminosity : 0.0420 + 0.0065 - 0.0063 [0.0255, 0.0590]\n",
      "\t\t\tIso mass : 0.2494 + 0.0127 - 0.0380 [0.1325, 0.3046]\n",
      "\t\t\tAge (Gyr) : 2.0685 + 10.8339 - 1.2587 [0.0905, 13.4869]\n",
      "\t\t\tEEP : 264.8836 + 6.8369 - 32.9024 [145.6657, 273.4297]\n",
      "\t\t\tExcess B noise : 0.3680 + 0.1110 - 0.0800 [0.2079, 0.7518]\n",
      "\t\t\tExcess SDSS_g noise : 0.3317 + 0.1199 - 0.0843 [0.1649, 0.7250]\n",
      "\t\t\tExcess g noise : 0.0618 + 0.0289 - 0.0221 [0.0150, 0.1524]\n",
      "\t\t\tExcess BP noise : 0.0239 + 0.0192 - 0.0130 [0.0012, 0.0894]\n",
      "\t\t\tExcess V noise : 0.1485 + 0.1095 - 0.0740 [0.0181, 0.4994]\n",
      "\t\t\tExcess r noise : 0.2187 + 0.0521 - 0.0385 [0.1440, 0.3697]\n",
      "\t\t\tExcess SDSS_r noise : 0.4434 + 0.1600 - 0.1004 [0.2332, 1.1712]\n",
      "\t\t\tExcess G noise : 0.0436 + 0.0138 - 0.0108 [0.0213, 0.0819]\n",
      "\t\t\tExcess SDSS_i noise : 0.7639 + 0.1790 - 0.1294 [0.5050, 1.3284]\n",
      "\t\t\tExcess RP noise : 0.0418 + 0.0174 - 0.0155 [0.0110, 0.0921]\n",
      "\t\t\tExcess TESS noise : 0.0333 + 0.0231 - 0.0162 [0.0049, 0.1263]\n",
      "\t\t\tExcess J noise : 0.0817 + 0.0619 - 0.0387 [0.0065, 0.3372]\n",
      "\t\t\tExcess H noise : 0.1941 + 0.0826 - 0.0616 [0.0696, 0.4881]\n",
      "\t\t\tExcess Ks noise : 0.0839 + 0.0743 - 0.0487 [0.0059, 0.3703]\n",
      "\t\t\tExcess IRAC 36 noise : 0.2593 + 0.1392 - 0.1168 [0.0302, 0.7017]\n",
      "\t\t\tExcess IRAC 45 noise : 0.2639 + 0.1516 - 0.1149 [0.0439, 0.7750]\n",
      "\t\t\tMamajek Spectral Type : F6V\n",
      "\t\t\tphoenix probability : 0.3096\n",
      "\t\t\tbtsettl probability : 0.2477\n",
      "\t\t\tbtnextgen probability : 0.1933\n",
      "\t\t\tbtcond probability : 0.2494\n",
      "\t\t\tElapsed time : 1 hours, 28 minutes and 14.65 seconds\n"
     ]
    }
   ],
   "source": [
    "f.fit_bma()"
   ]
  },
  {
   "cell_type": "code",
   "execution_count": 1,
   "metadata": {},
   "outputs": [
    {
     "name": "stdout",
     "output_type": "stream",
     "text": [
      "L_X / L_Bol:  4.3452380952380945e-05 -4.361986421605407\n"
     ]
    }
   ],
   "source": [
    "import numpy as np\n",
    "\n",
    "Lbol_sun = 4 * 10**33\n",
    "L_bol = Lbol_sun * 0.0420\n",
    "L_x = 7.3*10**27\n",
    "\n",
    "print(\"L_X / L_Bol: \",L_x/L_bol,np.log10(L_x/L_bol))"
   ]
  }
 ],
 "metadata": {
  "kernelspec": {
   "display_name": "Python 3 (ipykernel)",
   "language": "python",
   "name": "python3"
  },
  "language_info": {
   "codemirror_mode": {
    "name": "ipython",
    "version": 3
   },
   "file_extension": ".py",
   "mimetype": "text/x-python",
   "name": "python",
   "nbconvert_exporter": "python",
   "pygments_lexer": "ipython3",
   "version": "3.8.10"
  }
 },
 "nbformat": 4,
 "nbformat_minor": 4
}
