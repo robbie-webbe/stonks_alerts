{
 "cells": [
  {
   "cell_type": "code",
   "execution_count": 1,
   "metadata": {},
   "outputs": [
    {
     "name": "stderr",
     "output_type": "stream",
     "text": [
      "Holoviews not imported. Some visualizations will not be available.\n",
      "PyMultiNest not imported.  MultiNest fits will not work.\n",
      "/home/rwebbe/.local/lib/python3.8/site-packages/astroARIADNE/fitter.py:43: UserWarning: (py)MultiNest installation (or libmultinest.dylib) not detected.\n",
      "  warnings.warn(\n"
     ]
    }
   ],
   "source": [
    "from astroARIADNE.star import Star\n",
    "from astroARIADNE.fitter import Fitter\n",
    "from dustmaps.config import config\n",
    "config['data_dir'] = '/home/rwebbe/data/dustmaps'"
   ]
  },
  {
   "cell_type": "code",
   "execution_count": 2,
   "metadata": {
    "scrolled": true
   },
   "outputs": [
    {
     "name": "stdout",
     "output_type": "stream",
     "text": [
      "\n",
      "\t\t#####################################\n",
      "\t\t##             ARIADNE             ##\n",
      "\t\t#####################################\n",
      "   spectrAl eneRgy dIstribution bAyesian moDel averagiNg fittEr\n",
      "\n",
      "\t\t\tAuthor : Jose Vines\n",
      "\t\t\tContact : jose . vines at ug . uchile . cl\n",
      "\t\t\tStar : 4069071433795086592\n",
      "\t\t*** LOOKING UP ARCHIVAL INFORMATION ***\n",
      "INFO: Query finished. [astroquery.utils.tap.core]\n",
      "Warning!: CatalogWarning\n",
      "Warning message: Parameter radius not found! Be advised.\n",
      "Warning!: CatalogWarning\n",
      "Warning message: Parameter lum not found! Be advised.\n",
      "INFO: Query finished. [astroquery.utils.tap.core]\n",
      "Star not found in catalog TYCHO2.\n",
      "INFO: Query finished. [astroquery.utils.tap.core]\n",
      "Star not found in catalog Pan-STARRS.\n",
      "INFO: Query finished. [astroquery.utils.tap.core]\n",
      "Star not found in catalog SDSS.\n",
      "INFO: Query finished. [astroquery.utils.tap.core]\n",
      "Star not found in catalog Wise.\n",
      "INFO: Query finished. [astroquery.utils.tap.core]\n",
      "INFO: Query finished. [astroquery.utils.tap.core]\n",
      "Star not found in catalog APASS.\n",
      "Looking online for archival magnitudes for star 4069071433795086592\n",
      "Checking catalog Gaia DR3\n",
      "Checking catalog 2MASS\n",
      "Checking catalog GLIMPSE\n",
      "Warning!: CatalogWarning\n",
      "Warning message: Star is not available in catalog GALEX. Skipping\n",
      "Checking catalog TICv8\n",
      "Warning!: CatalogWarning\n",
      "Warning message: Star is not available in catalog SkyMapper. Skipping\n",
      "Warning!: CatalogWarning\n",
      "Warning message: Star is not available in catalog STROMGREN_PAUNZ. Skipping\n",
      "Warning!: CatalogWarning\n",
      "Warning message: Star is not available in catalog STROMGREN_HAUCK. Skipping\n",
      "Warning!: CatalogWarning\n",
      "Warning message: Star is not available in catalog MERMILLIOD. Skipping\n",
      "\t\t\tGaia DR3 ID : 4069071433795086592\n",
      "\t\t\tTIC : 110162332\n",
      "\t\t\tGaia Effective temperature : 3680.067 +/- 468.400\n",
      "\t\t\tGaia Stellar radius : 0.000 +/- 0.000\n",
      "\t\t\tGaia Stellar Luminosity : 0.000 +/- 0.000\n",
      "\t\t\tGaia Parallax : 9.429 +/- 0.421\n",
      "\t\t\tBailer-Jones distance : 106.450 +/- 6.325\n",
      "\t\t\tMaximum Av : 26.664\n",
      "\n",
      "\t\t       Filter       \tMagnitude\tUncertainty\n",
      "\t\t--------------------\t---------\t-----------\n",
      "\t\t    GaiaDR2v2_BP    \t 16.7762 \t  0.0053   \n",
      "\t\t    GaiaDR2v2_G     \t 15.2846 \t  0.0040   \n",
      "\t\t    GaiaDR2v2_RP    \t 13.9608 \t  0.0040   \n",
      "\t\t        TESS        \t 13.9046 \t  0.0074   \n",
      "\t\t      2MASS_J       \t 12.2480 \t  0.0260   \n",
      "\t\t      2MASS_H       \t 11.6190 \t  0.0220   \n",
      "\t\t      2MASS_Ks      \t 11.3180 \t  0.0200   \n",
      "\t\t  SPITZER_IRAC_36   \t 10.9800 \t  0.0430   \n",
      "\t\t  SPITZER_IRAC_45   \t 10.9140 \t  0.0520   \n",
      "\n"
     ]
    }
   ],
   "source": [
    "gaia_id = 4069071433795086592\n",
    "ra = 270.40021573463\n",
    "dec = -23.70103422648\n",
    "starname = str(gaia_id)\n",
    "s = Star(starname, ra, dec, g_id = gaia_id, dustmap='Planck16')"
   ]
  },
  {
   "cell_type": "code",
   "execution_count": 3,
   "metadata": {},
   "outputs": [
    {
     "name": "stdout",
     "output_type": "stream",
     "text": [
      "Created the directory ariadnefit\n",
      "\n",
      "\t\t*** EXECUTING MAIN FITTING ROUTINE ***\n",
      "\t\t\tSelected engine : Bayesian Model Averaging\n",
      "\t\t\tLive points : 500\n",
      "\t\t\tlog Evidence tolerance : 0.5\n",
      "\t\t\tFree parameters : 15\n",
      "\t\t\tBounding : multi\n",
      "\t\t\tSampling : rwalk\n",
      "\t\t\tN threads : 4\n",
      "\n"
     ]
    }
   ],
   "source": [
    "out_folder = 'ariadnefit'\n",
    "\n",
    "engine = 'dynesty'\n",
    "nlive = 500\n",
    "dlogz = 0.5\n",
    "bound = 'multi'\n",
    "sample = 'rwalk'\n",
    "threads = 4\n",
    "dynamic = False\n",
    "setup = [engine, nlive, dlogz, bound, sample, threads, dynamic]\n",
    "\n",
    "models = ['phoenix','btsettl','btnextgen','btcond','kurucz','ck04']\n",
    "f = Fitter()\n",
    "f.star = s\n",
    "f.setup = setup\n",
    "f.av_law = 'fitzpatrick'\n",
    "f.out_folder = out_folder\n",
    "f.bma = True\n",
    "f.models = models\n",
    "f.n_samples = 100000\n",
    "\n",
    "f.prior_setup = {'teff': ('default'),'logg': ('default'),'z': ('default'),'dist': ('default'),'rad': ('default'),'Av': ('default')}\n",
    "f.initialize()\n"
   ]
  },
  {
   "cell_type": "code",
   "execution_count": 4,
   "metadata": {},
   "outputs": [
    {
     "name": "stdout",
     "output_type": "stream",
     "text": [
      "\t\t\tFITTING MODEL : phoenix\n"
     ]
    },
    {
     "name": "stderr",
     "output_type": "stream",
     "text": [
      "11614it [04:44, 40.84it/s, +500 | bound: 133 | nc: 1 | ncall: 265272 | eff(%):  4.575 | loglstar:   -inf < 245.392 <    inf | logz: 222.713 +/-  0.206 | dlogz:  0.001 >  0.500]   \n"
     ]
    },
    {
     "name": "stdout",
     "output_type": "stream",
     "text": [
      "\t\t\tFITTING MODEL : btsettl\n"
     ]
    },
    {
     "name": "stderr",
     "output_type": "stream",
     "text": [
      "11524it [04:38, 41.33it/s, +500 | bound: 132 | nc: 1 | ncall: 263536 | eff(%):  4.571 | loglstar:   -inf < 245.008 <    inf | logz: 222.460 +/-    nan | dlogz:  0.001 >  0.500]   \n"
     ]
    },
    {
     "name": "stdout",
     "output_type": "stream",
     "text": [
      "\t\t\tFITTING MODEL : btnextgen\n"
     ]
    },
    {
     "name": "stderr",
     "output_type": "stream",
     "text": [
      "10284it [04:00, 42.75it/s, +500 | bound: 115 | nc: 1 | ncall: 232723 | eff(%):  4.644 | loglstar:   -inf < 243.796 <    inf | logz: 223.830 +/-    nan | dlogz:  0.001 >  0.500]  \n"
     ]
    },
    {
     "name": "stdout",
     "output_type": "stream",
     "text": [
      "\t\t\tFITTING MODEL : btcond\n"
     ]
    },
    {
     "name": "stderr",
     "output_type": "stream",
     "text": [
      "10728it [04:09, 43.01it/s, +500 | bound: 120 | nc: 1 | ncall: 242564 | eff(%):  4.638 | loglstar:   -inf < 242.654 <    inf | logz: 221.735 +/-    nan | dlogz:  0.001 >  0.500]   \n"
     ]
    },
    {
     "name": "stdout",
     "output_type": "stream",
     "text": [
      "\t\t*** AVERAGING POSTERIOR SAMPLES ***\n"
     ]
    },
    {
     "name": "stderr",
     "output_type": "stream",
     "text": [
      "100%|██████████| 19/19 [00:00<00:00, 33.92it/s]\n"
     ]
    },
    {
     "name": "stdout",
     "output_type": "stream",
     "text": [
      "\t\t*** ESTIMATING AGE AND MASS USING MIST ISOCHRONES ***\n"
     ]
    },
    {
     "name": "stderr",
     "output_type": "stream",
     "text": [
      "18645it [01:41, 183.66it/s, +500 | bound: 228 | nc: 1 | ncall: 561065 | eff(%):  3.415 | loglstar:   -inf < -26.676 <    inf | logz: -59.486 +/-  8.932 | dlogz:  0.000 >  0.010]\n"
     ]
    },
    {
     "name": "stdout",
     "output_type": "stream",
     "text": [
      "\n",
      "\t\t\tFitting finished.\n",
      "\t\t\tBest fit parameters are:\n",
      "\t\t\tteff : 5983.4739 + 369.2769 - 424.2755 [4467.0817, 6816.3110]\n",
      "\t\t\tlogg : 4.1794 + 0.4792 - 0.3761 [3.5486, 5.3561]\n",
      "\t\t\t[Fe/H] : -0.1650 + 0.2622 - 0.2339 [-0.8064, 0.3997]\n",
      "\t\t\tdist : 116.8332 + 21.9918 - 5.7495 [107.6340, 150.4677]\n",
      "\t\t\trad : 0.3646 + 0.0633 - 0.0236 [0.3135, 0.5416]\n",
      "\t\t\tAv : 4.0850 + 0.2421 - 0.3204 [2.5471, 4.6759]\n",
      "\t\t\tAngular Diameter : 0.0288 + 0.0049 - 0.0043 [0.0214, 0.0441]\n",
      "\t\t\tGrav mass : 0.0590 + 0.1129 - 0.0323 [0.0159, 1.0163]\n",
      "\t\t\tLuminosity : 0.1524 + 0.0704 - 0.0457 [0.0425, 0.4119]\n",
      "\t\t\tIso mass : 0.4944 + 0.0825 - 0.0862 [0.3283, 0.6951]\n",
      "\t\t\tAge (Gyr) : 1.8310 + 9.5038 - 1.6138 [0.0827, 13.4417]\n",
      "\t\t\tEEP : 315.3021 + 13.0605 - 60.2794 [192.2316, 341.9255]\n",
      "\t\t\tExcess BP noise : 0.0338 + 0.0375 - 0.0203 [0.0008, 0.1524]\n",
      "\t\t\tExcess G noise : 0.0167 + 0.0179 - 0.0093 [0.0014, 0.0878]\n",
      "\t\t\tExcess RP noise : 0.0312 + 0.0251 - 0.0171 [0.0017, 0.1207]\n",
      "\t\t\tExcess TESS noise : 0.0480 + 0.0294 - 0.0274 [0.0039, 0.2035]\n",
      "\t\t\tExcess J noise : 0.0906 + 0.0706 - 0.0480 [0.0072, 0.4296]\n",
      "\t\t\tExcess H noise : 0.1777 + 0.1509 - 0.1159 [0.0194, 0.5677]\n",
      "\t\t\tExcess Ks noise : 0.1613 + 0.1059 - 0.1284 [0.0069, 0.5258]\n",
      "\t\t\tExcess IRAC 36 noise : 0.1334 + 0.1603 - 0.0897 [0.0057, 0.8181]\n",
      "\t\t\tExcess IRAC 45 noise : 0.2154 + 0.2500 - 0.1339 [0.0145, 1.3495]\n",
      "\t\t\tMamajek Spectral Type : F9.5V\n",
      "\t\t\tphoenix probability : 0.1920\n",
      "\t\t\tbtsettl probability : 0.1491\n",
      "\t\t\tbtnextgen probability : 0.5866\n",
      "\t\t\tbtcond probability : 0.0722\n",
      "\t\t\tElapsed time : 19 minutes and 58.29 seconds\n"
     ]
    }
   ],
   "source": [
    "f.fit_bma()"
   ]
  },
  {
   "cell_type": "code",
   "execution_count": 6,
   "metadata": {},
   "outputs": [
    {
     "name": "stdout",
     "output_type": "stream",
     "text": [
      "L_X / L_Bol:  0.0004037350190271437 -3.3939035792727346\n"
     ]
    }
   ],
   "source": [
    "import numpy as np\n",
    "\n",
    "Lbol_sun = 4 * 10**33\n",
    "L_bol = Lbol_sun * 0.152\n",
    "L_x = 10**29.39\n",
    "\n",
    "print(\"L_X / L_Bol: \",L_x/L_bol,np.log10(L_x/L_bol))"
   ]
  }
 ],
 "metadata": {
  "kernelspec": {
   "display_name": "Python 3 (ipykernel)",
   "language": "python",
   "name": "python3"
  },
  "language_info": {
   "codemirror_mode": {
    "name": "ipython",
    "version": 3
   },
   "file_extension": ".py",
   "mimetype": "text/x-python",
   "name": "python",
   "nbconvert_exporter": "python",
   "pygments_lexer": "ipython3",
   "version": "3.8.10"
  }
 },
 "nbformat": 4,
 "nbformat_minor": 4
}
