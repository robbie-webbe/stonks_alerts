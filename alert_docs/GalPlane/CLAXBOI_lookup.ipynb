{
 "cells": [
  {
   "cell_type": "code",
   "execution_count": 1,
   "metadata": {},
   "outputs": [],
   "source": [
    "from astropy.io import fits\n",
    "import numpy as np\n",
    "import pandas as pd"
   ]
  },
  {
   "cell_type": "code",
   "execution_count": 2,
   "metadata": {},
   "outputs": [
    {
     "name": "stdout",
     "output_type": "stream",
     "text": [
      "Filename: ../../../../data/classification_DR12_with_input.fits\n",
      "No.    Name      Ver    Type      Cards   Dimensions   Format\n",
      "  0  PRIMARY       1 PrimaryHDU      16   (22898,)   uint8   \n",
      "  1  Joined        1 BinTableHDU    307   630347R x 106C   [K, 21A, D, D, D, D, D, D, D, D, D, D, D, 9A, D, D, D, D, D, D, D, 7A, D, D, D, D, D, D, D, D, K, K, D, D, L, L, D, D, D, D, D, D, D, D, D, D, K, K, K, K, D, D, D, D, D, D, D, D, D, D, D, D, D, D, D, 8A, K, 19A, D, D, K, D, D, D, D, D, D, D, D, D, D, D, D, D, D, D, D, D, D, D, D, D, D, D, D, D, D, D, D, D, D, D, D, D, D, D]   \n"
     ]
    }
   ],
   "source": [
    "cat = fits.open('../../../../data/classification_DR12_with_input.fits')\n",
    "cat.info()"
   ]
  },
  {
   "cell_type": "code",
   "execution_count": 43,
   "metadata": {},
   "outputs": [
    {
     "name": "stdout",
     "output_type": "stream",
     "text": [
      "121641 4XMM J174643.2-295750\n",
      "144711 4XMM J174643.8-285644\n",
      "180699 4XMM J174643.3-292039\n",
      "203907 4XMM J174643.1-285915\n",
      "248495 4XMM J174643.8-292831\n",
      "338825 4XMM J174643.4-123152\n",
      "396495 4XMM J174643.8-284259\n",
      "396561 4XMM J174643.3-282408\n",
      "396574 4XMM J174643.6-283521\n",
      "472146 4XMM J174643.9-284518\n",
      "472149 4XMM J174643.0-285026\n",
      "524113 4XMM J174643.6-301602\n",
      "524174 4XMM J174643.0-293538\n",
      "530851 4XMM J174643.1-282035\n",
      "530864 4XMM J174643.2-282744\n",
      "543174 4XMM J174643.1-294900\n",
      "578846 4XMM J174643.0+451017\n",
      "578851 4XMM J174643.2+452013\n",
      "619179 4XMM J174643.3-284916\n",
      "619221 4XMM J174643.3-283930\n"
     ]
    }
   ],
   "source": [
    "idxs = np.where(cat[1].data.field('IAUNAME').startswith('4XMM J174643'))[0]\n",
    "for i in idxs:\n",
    "    print(i, cat[1].data.field('IAUNAME')[i])"
   ]
  },
  {
   "cell_type": "code",
   "execution_count": 44,
   "metadata": {},
   "outputs": [],
   "source": [
    "idx = 248495"
   ]
  },
  {
   "cell_type": "code",
   "execution_count": 45,
   "metadata": {
    "scrolled": false
   },
   "outputs": [
    {
     "name": "stdout",
     "output_type": "stream",
     "text": [
      "name = 'SRCID'; format = 'K'; null = -9223372036854775808 205110011010024\n",
      "name = 'IAUNAME'; format = '21A' 4XMM J174643.8-292831\n",
      "name = 'RA'; format = 'D'; unit = 'deg' 266.68256346815\n",
      "name = 'DEC'; format = 'D'; unit = 'deg' -29.475292855009\n",
      "name = 'SC_POSERR'; format = 'D'; unit = 'arcsec' 1.4283925294876099\n",
      "name = 'SC_EP_8_FLUX'; format = 'D'; unit = 'erg/cm**2/s' 1.559113081694985e-13\n",
      "name = 'RA_Opt'; format = 'D'; unit = 'deg' 266.68348273\n",
      "name = 'DEC_Opt'; format = 'D'; unit = 'deg' -29.47451458\n",
      "name = 'angdist_Opt'; format = 'D'; unit = 'arcsec' 4.01874303817749\n",
      "name = 'Bmag'; format = 'D' 18.64699935913086\n",
      "name = 'Rmag'; format = 'D' 16.722299575805664\n",
      "name = 'p_single_Opt'; format = 'D' 0.2523327171802521\n",
      "name = 'p_any_Opt'; format = 'D' 0.2710740268230438\n",
      "name = 'Ref_Opt'; format = '9A' PanSTARRS\n",
      "name = 'RA_IR'; format = 'D'; unit = 'deg' 266.683563\n",
      "name = 'DEC_IR'; format = 'D'; unit = 'deg' -29.474319\n",
      "name = 'angdist_IR'; format = 'D'; unit = 'arcsec' 4.7015228271484375\n",
      "name = 'W1mag'; format = 'D' 11.028999328613281\n",
      "name = 'W2mag'; format = 'D' 11.028999328613281\n",
      "name = 'p_single_IR'; format = 'D' 0.36765366792678833\n",
      "name = 'p_any_IR'; format = 'D' 0.38249385356903076\n",
      "name = 'Ref_IR'; format = '7A' 2MASS\n",
      "name = 'l'; format = 'D'; unit = 'deg' 359.6655490097911\n",
      "name = 'b'; format = 'D'; unit = 'deg' -0.4873227848148111\n",
      "name = 'RA_GLADE'; format = 'D'; unit = 'deg' nan\n",
      "name = 'DEC_GLADE'; format = 'D'; unit = 'deg' nan\n",
      "name = 'R1'; format = 'D'; unit = 'arcsec' nan\n",
      "name = 'R2'; format = 'D'; unit = 'arcsec' nan\n",
      "name = 'PA'; format = 'D'; unit = 'deg' nan\n",
      "name = 'Dist'; format = 'D'; unit = 'Mpc' nan\n",
      "name = 'spiral'; format = 'K'; null = -9223372036854775808 -9223372036854775808\n",
      "name = 'elliptical'; format = 'K'; null = -9223372036854775808 -9223372036854775808\n",
      "name = 'prob_sp'; format = 'D' nan\n",
      "name = 'prob_el'; format = 'D' nan\n",
      "name = 'isLTG'; format = 'L' False\n",
      "name = 'isETG'; format = 'L' False\n",
      "name = 'Separation_GLADE'; format = 'D' nan\n",
      "name = 'SepToRadius'; format = 'D' nan\n",
      "name = 'Lx_1'; format = 'D'; unit = 'erg/s' nan\n",
      "name = 'logFxFb'; format = 'D' 0.02167739868164098\n",
      "name = 'logFxFr'; format = 'D' -0.7482025146484377\n",
      "name = 'logFxFw1'; format = 'D' -1.4455226898193363\n",
      "name = 'logFxFw2'; format = 'D' -1.4455226898193363\n",
      "name = 'GAIA_pm'; format = 'D'; unit = 'mas/yr' nan\n",
      "name = 'GAIA_Dist'; format = 'D'; unit = 'pc' 673.284302\n",
      "name = 'Lx_2'; format = 'D'; unit = 'erg/s' 8.4581684332956e+30\n",
      "name = 'isAGN'; format = 'K'; null = -9223372036854775808 0\n",
      "name = 'isStar'; format = 'K'; null = -9223372036854775808 0\n",
      "name = 'isXRB'; format = 'K'; null = -9223372036854775808 0\n",
      "name = 'isCV'; format = 'K'; null = -9223372036854775808 0\n",
      "name = 'class'; format = 'D' nan\n",
      "name = 'MASTER_ID'; format = 'D' 208618.0\n",
      "name = 'fratio'; format = 'D' 1.0\n",
      "name = 'fratio_min'; format = 'D' 1.0\n",
      "name = 'SC_HR1'; format = 'D' 1.0\n",
      "name = 'SC_HR1_ERR'; format = 'D' 0.5018671751022339\n",
      "name = 'SC_HR2'; format = 'D' -0.5423837900161743\n",
      "name = 'SC_HR2_ERR'; format = 'D' 0.4685705006122589\n",
      "name = 'SC_HR3'; format = 'D' 0.8716266751289368\n",
      "name = 'SC_HR3_ERR'; format = 'D' 0.15534430742263794\n",
      "name = 'SC_HR4'; format = 'D' 0.27658480405807495\n",
      "name = 'SC_HR4_ERR'; format = 'D' 0.176077201962471\n",
      "name = 'SC_EXTENT'; format = 'D'; unit = 'arcsec' 0.0\n",
      "name = 'SC_EXT_ERR'; format = 'D'; unit = 'arcsec' nan\n",
      "name = 'SC_EXT_ML'; format = 'D' -0.8479537963867188\n",
      "name = 'prediction_name'; format = '8A' QSO\n",
      "name = 'prediction'; format = 'K'; null = -9223372036854775808 0\n",
      "name = 'alt'; format = '19A' mul1\n",
      "name = 'ClMargin'; format = 'D' 0.264\n",
      "name = 'outlier'; format = 'D' 9.011\n",
      "name = 'N_missing'; format = 'K'; null = -9223372036854775808 4\n",
      "name = 'PbaC0'; format = 'D' 0.632\n",
      "name = 'PbaC1'; format = 'D' 0.1104\n",
      "name = 'PbaC2'; format = 'D' 0.208\n",
      "name = 'PbaC3'; format = 'D' 0.04207\n",
      "name = 'PbaC4'; format = 'D' 0.0002783\n",
      "name = 'PbaC5'; format = 'D' 4.188e-05\n",
      "name = 'PbaC6'; format = 'D' 0.007229\n",
      "name = 'PbaC0_location'; format = 'D' 0.0003166\n",
      "name = 'PbaC1_location'; format = 'D' 0.00603\n",
      "name = 'PbaC2_location'; format = 'D' 0.9636\n",
      "name = 'PbaC3_location'; format = 'D' 0.03002\n",
      "name = 'PbaC4_location'; format = 'D' 7.26e-11\n",
      "name = 'PbaC5_location'; format = 'D' 1.861e-11\n",
      "name = 'PbaC6_location'; format = 'D' 1.056e-05\n",
      "name = 'PbaC0_spectrum'; format = 'D' 0.004462\n",
      "name = 'PbaC1_spectrum'; format = 'D' 0.2667\n",
      "name = 'PbaC2_spectrum'; format = 'D' 0.01498\n",
      "name = 'PbaC3_spectrum'; format = 'D' 0.006624\n",
      "name = 'PbaC4_spectrum'; format = 'D' 2.423e-05\n",
      "name = 'PbaC5_spectrum'; format = 'D' 5.111e-07\n",
      "name = 'PbaC6_spectrum'; format = 'D' 0.7072\n",
      "name = 'PbaC0_multiwavelength'; format = 'D' 0.2366\n",
      "name = 'PbaC1_multiwavelength'; format = 'D' 1.185e-05\n",
      "name = 'PbaC2_multiwavelength'; format = 'D' 0.06312\n",
      "name = 'PbaC3_multiwavelength'; format = 'D' 0.03136\n",
      "name = 'PbaC4_multiwavelength'; format = 'D' 0.5473\n",
      "name = 'PbaC5_multiwavelength'; format = 'D' 0.1215\n",
      "name = 'PbaC6_multiwavelength'; format = 'D' 8.258e-05\n",
      "name = 'PbaC0_variability'; format = 'D' 0.2556\n",
      "name = 'PbaC1_variability'; format = 'D' 0.2782\n",
      "name = 'PbaC2_variability'; format = 'D' 0.08555\n",
      "name = 'PbaC3_variability'; format = 'D' 0.1357\n",
      "name = 'PbaC4_variability'; format = 'D' 0.1477\n",
      "name = 'PbaC5_variability'; format = 'D' 0.09344\n",
      "name = 'PbaC6_variability'; format = 'D' 0.003853\n"
     ]
    }
   ],
   "source": [
    "for i in range(len(cat[1].columns)):\n",
    "    print(cat[1].columns[i],cat[1].data[idx][i])"
   ]
  }
 ],
 "metadata": {
  "kernelspec": {
   "display_name": "Python 3 (ipykernel)",
   "language": "python",
   "name": "python3"
  },
  "language_info": {
   "codemirror_mode": {
    "name": "ipython",
    "version": 3
   },
   "file_extension": ".py",
   "mimetype": "text/x-python",
   "name": "python",
   "nbconvert_exporter": "python",
   "pygments_lexer": "ipython3",
   "version": "3.8.10"
  }
 },
 "nbformat": 4,
 "nbformat_minor": 4
}
