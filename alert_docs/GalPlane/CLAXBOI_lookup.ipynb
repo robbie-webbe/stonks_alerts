{
 "cells": [
  {
   "cell_type": "code",
   "execution_count": 1,
   "metadata": {},
   "outputs": [],
   "source": [
    "from astropy.io import fits\n",
    "import numpy as np\n",
    "import pandas as pd"
   ]
  },
  {
   "cell_type": "code",
   "execution_count": 2,
   "metadata": {},
   "outputs": [
    {
     "name": "stdout",
     "output_type": "stream",
     "text": [
      "Filename: ../../../../data/Catalogues/classification_DR12_with_input.fits\n",
      "No.    Name      Ver    Type      Cards   Dimensions   Format\n",
      "  0  PRIMARY       1 PrimaryHDU      16   (22898,)   uint8   \n",
      "  1  Joined        1 BinTableHDU    307   630347R x 106C   [K, 21A, D, D, D, D, D, D, D, D, D, D, D, 9A, D, D, D, D, D, D, D, 7A, D, D, D, D, D, D, D, D, K, K, D, D, L, L, D, D, D, D, D, D, D, D, D, D, K, K, K, K, D, D, D, D, D, D, D, D, D, D, D, D, D, D, D, 8A, K, 19A, D, D, K, D, D, D, D, D, D, D, D, D, D, D, D, D, D, D, D, D, D, D, D, D, D, D, D, D, D, D, D, D, D, D, D, D, D, D]   \n"
     ]
    }
   ],
   "source": [
    "cat = fits.open('../../../../data/Catalogues/classification_DR12_with_input.fits')\n",
    "cat.info()"
   ]
  },
  {
   "cell_type": "code",
   "execution_count": 3,
   "metadata": {},
   "outputs": [
    {
     "name": "stdout",
     "output_type": "stream",
     "text": [
      "99237 4XMM J175033.2-370408 201395601015042\n",
      "216125 4XMM J175033.6-200211 204053902010013\n",
      "216428 4XMM J175033.3-365357 204055102010065\n",
      "216459 4XMM J175033.4-371128 204055102015082\n",
      "221553 4XMM J175033.8-064832 204101803010039\n",
      "221685 4XMM J175033.4-064626 204101805015065\n",
      "247515 4XMM J175033.9-063548 205065001010060\n",
      "300812 4XMM J175033.4-305404 206100009010067\n",
      "341741 4XMM J175033.0-371503 206731403010007\n",
      "345850 4XMM J175033.3+350240 206738515015021\n",
      "480476 4XMM J175033.4-401856 207637003010110\n",
      "480574 4XMM J175033.0-402957 207637004010057\n",
      "524640 4XMM J175033.6-292133 208016814010031\n",
      "524801 4XMM J175033.6-302055 208016816010035\n",
      "524834 4XMM J175033.9-302430 208016816010072\n",
      "524860 4XMM J175033.7-302145 208016816010098\n",
      "524989 4XMM J175033.1-291501 208016818010003\n",
      "525047 4XMM J175033.8-292443 208016818010068\n",
      "525071 4XMM J175033.8-303808 208016819010031\n",
      "525117 4XMM J175033.1-284249 208016820010027\n",
      "525174 4XMM J175033.9-283805 208016820010091\n",
      "607240 4XMM J175033.4-264857 208441011010129\n"
     ]
    }
   ],
   "source": [
    "idxs = np.where(cat[1].data.field('IAUNAME').startswith('4XMM J175033'))[0]\n",
    "for i in idxs:\n",
    "    print(i, cat[1].data.field('IAUNAME')[i], cat[1].data.field('SRCID')[i])"
   ]
  },
  {
   "cell_type": "code",
   "execution_count": 4,
   "metadata": {},
   "outputs": [],
   "source": [
    "idx = 607240"
   ]
  },
  {
   "cell_type": "code",
   "execution_count": 25,
   "metadata": {
    "scrolled": true
   },
   "outputs": [
    {
     "name": "stdout",
     "output_type": "stream",
     "text": [
      "name = 'SRCID'; format = 'K'; null = -9223372036854775808 208860205010023\n",
      "name = 'IAUNAME'; format = '21A' 4XMM J173947.4-310152\n",
      "name = 'RA'; format = 'D'; unit = 'deg' 264.94781577761\n",
      "name = 'DEC'; format = 'D'; unit = 'deg' -31.031235590279\n",
      "name = 'SC_POSERR'; format = 'D'; unit = 'arcsec' 1.4447987079620361\n",
      "name = 'SC_EP_8_FLUX'; format = 'D'; unit = 'erg/cm**2/s' 4.1244671523596454e-13\n",
      "name = 'RA_Opt'; format = 'D'; unit = 'deg' nan\n",
      "name = 'DEC_Opt'; format = 'D'; unit = 'deg' nan\n",
      "name = 'angdist_Opt'; format = 'D'; unit = 'arcsec' nan\n",
      "name = 'Bmag'; format = 'D' nan\n",
      "name = 'Rmag'; format = 'D' nan\n",
      "name = 'p_single_Opt'; format = 'D' nan\n",
      "name = 'p_any_Opt'; format = 'D' nan\n",
      "name = 'Ref_Opt'; format = '9A' \n",
      "name = 'RA_IR'; format = 'D'; unit = 'deg' 264.948136\n",
      "name = 'DEC_IR'; format = 'D'; unit = 'deg' -31.031467\n",
      "name = 'angdist_IR'; format = 'D'; unit = 'arcsec' 1.2922067642211914\n",
      "name = 'W1mag'; format = 'D' 12.538999557495117\n",
      "name = 'W2mag'; format = 'D' 12.538999557495117\n",
      "name = 'p_single_IR'; format = 'D' 0.9825995564460754\n",
      "name = 'p_any_IR'; format = 'D' 0.9826003313064575\n",
      "name = 'Ref_IR'; format = '7A' 2MASS\n",
      "name = 'l'; format = 'D'; unit = 'deg' 357.5544291606202\n",
      "name = 'b'; format = 'D'; unit = 'deg' -0.029732693194436683\n",
      "name = 'RA_GLADE'; format = 'D'; unit = 'deg' nan\n",
      "name = 'DEC_GLADE'; format = 'D'; unit = 'deg' nan\n",
      "name = 'R1'; format = 'D'; unit = 'arcsec' nan\n",
      "name = 'R2'; format = 'D'; unit = 'arcsec' nan\n",
      "name = 'PA'; format = 'D'; unit = 'deg' nan\n",
      "name = 'Dist'; format = 'D'; unit = 'Mpc' nan\n",
      "name = 'spiral'; format = 'K'; null = -9223372036854775808 -9223372036854775808\n",
      "name = 'elliptical'; format = 'K'; null = -9223372036854775808 -9223372036854775808\n",
      "name = 'prob_sp'; format = 'D' nan\n",
      "name = 'prob_el'; format = 'D' nan\n",
      "name = 'isLTG'; format = 'L' False\n",
      "name = 'isETG'; format = 'L' False\n",
      "name = 'Separation_GLADE'; format = 'D' nan\n",
      "name = 'SepToRadius'; format = 'D' nan\n",
      "name = 'Lx_1'; format = 'D'; unit = 'erg/s' nan\n",
      "name = 'logFxFb'; format = 'D' nan\n",
      "name = 'logFxFr'; format = 'D' nan\n",
      "name = 'logFxFw1'; format = 'D' -0.4190324783325199\n",
      "name = 'logFxFw2'; format = 'D' -0.4190324783325199\n",
      "name = 'GAIA_pm'; format = 'D'; unit = 'mas/yr' nan\n",
      "name = 'GAIA_Dist'; format = 'D'; unit = 'pc' nan\n",
      "name = 'Lx_2'; format = 'D'; unit = 'erg/s' nan\n",
      "name = 'isAGN'; format = 'K'; null = -9223372036854775808 0\n",
      "name = 'isStar'; format = 'K'; null = -9223372036854775808 0\n",
      "name = 'isXRB'; format = 'K'; null = -9223372036854775808 0\n",
      "name = 'isCV'; format = 'K'; null = -9223372036854775808 0\n",
      "name = 'class'; format = 'D' nan\n",
      "name = 'MASTER_ID'; format = 'D' 521546.0\n",
      "name = 'fratio'; format = 'D' 1.0\n",
      "name = 'fratio_min'; format = 'D' 1.0\n",
      "name = 'SC_HR1'; format = 'D' -1.0\n",
      "name = 'SC_HR1_ERR'; format = 'D' 0.39883390069007874\n",
      "name = 'SC_HR2'; format = 'D' 1.0\n",
      "name = 'SC_HR2_ERR'; format = 'D' 0.11449410021305084\n",
      "name = 'SC_HR3'; format = 'D' 0.5418404936790466\n",
      "name = 'SC_HR3_ERR'; format = 'D' 0.13859550654888153\n",
      "name = 'SC_HR4'; format = 'D' 0.18926699459552765\n",
      "name = 'SC_HR4_ERR'; format = 'D' 0.17078979313373566\n",
      "name = 'SC_EXTENT'; format = 'D'; unit = 'arcsec' 0.0\n",
      "name = 'SC_EXT_ERR'; format = 'D'; unit = 'arcsec' nan\n",
      "name = 'SC_EXT_ML'; format = 'D' -1.0835380554199219\n",
      "name = 'prediction_name'; format = '8A' QSO\n",
      "name = 'prediction'; format = 'K'; null = -9223372036854775808 0\n",
      "name = 'alt'; format = '19A' mul2 var2\n",
      "name = 'ClMargin'; format = 'D' 0.163\n",
      "name = 'outlier'; format = 'D' 8.555\n",
      "name = 'N_missing'; format = 'K'; null = -9223372036854775808 7\n",
      "name = 'PbaC0'; format = 'D' 0.5815\n",
      "name = 'PbaC1'; format = 'D' 0.0001946\n",
      "name = 'PbaC2'; format = 'D' 0.3956\n",
      "name = 'PbaC3'; format = 'D' 0.01407\n",
      "name = 'PbaC4'; format = 'D' 1.645e-05\n",
      "name = 'PbaC5'; format = 'D' 2.123e-05\n",
      "name = 'PbaC6'; format = 'D' 0.008596\n",
      "name = 'PbaC0_location'; format = 'D' 0.0001192\n",
      "name = 'PbaC1_location'; format = 'D' 0.003346\n",
      "name = 'PbaC2_location'; format = 'D' 0.9794\n",
      "name = 'PbaC3_location'; format = 'D' 0.01709\n",
      "name = 'PbaC4_location'; format = 'D' 3.67e-12\n",
      "name = 'PbaC5_location'; format = 'D' 7.495e-13\n",
      "name = 'PbaC6_location'; format = 'D' 2.556e-06\n",
      "name = 'PbaC0_spectrum'; format = 'D' 0.002475\n",
      "name = 'PbaC1_spectrum'; format = 'D' 3.547e-07\n",
      "name = 'PbaC2_spectrum'; format = 'D' 0.0408\n",
      "name = 'PbaC3_spectrum'; format = 'D' 0.0008809\n",
      "name = 'PbaC4_spectrum'; format = 'D' 4.839e-07\n",
      "name = 'PbaC5_spectrum'; format = 'D' 8.651e-08\n",
      "name = 'PbaC6_spectrum'; format = 'D' 0.9558\n",
      "name = 'PbaC0_multiwavelength'; format = 'D' 0.3073\n",
      "name = 'PbaC1_multiwavelength'; format = 'D' 2.125e-10\n",
      "name = 'PbaC2_multiwavelength'; format = 'D' 0.1118\n",
      "name = 'PbaC3_multiwavelength'; format = 'D' 0.002624\n",
      "name = 'PbaC4_multiwavelength'; format = 'D' 0.004751\n",
      "name = 'PbaC5_multiwavelength'; format = 'D' 0.5731\n",
      "name = 'PbaC6_multiwavelength'; format = 'D' 0.00031\n",
      "name = 'PbaC0_variability'; format = 'D' 0.2667\n",
      "name = 'PbaC1_variability'; format = 'D' 0.2935\n",
      "name = 'PbaC2_variability'; format = 'D' 0.07758\n",
      "name = 'PbaC3_variability'; format = 'D' 0.1305\n",
      "name = 'PbaC4_variability'; format = 'D' 0.1436\n",
      "name = 'PbaC5_variability'; format = 'D' 0.0857\n",
      "name = 'PbaC6_variability'; format = 'D' 0.002348\n"
     ]
    }
   ],
   "source": [
    "for i in range(len(cat[1].columns)):\n",
    "    print(cat[1].columns[i],cat[1].data[idx][i])"
   ]
  },
  {
   "cell_type": "code",
   "execution_count": 5,
   "metadata": {},
   "outputs": [
    {
     "name": "stdout",
     "output_type": "stream",
     "text": [
      "gal_xrb\n"
     ]
    }
   ],
   "source": [
    "print(cat[1].data.field('prediction_name')[idx])"
   ]
  }
 ],
 "metadata": {
  "kernelspec": {
   "display_name": "Python 3 (ipykernel)",
   "language": "python",
   "name": "python3"
  },
  "language_info": {
   "codemirror_mode": {
    "name": "ipython",
    "version": 3
   },
   "file_extension": ".py",
   "mimetype": "text/x-python",
   "name": "python",
   "nbconvert_exporter": "python",
   "pygments_lexer": "ipython3",
   "version": "3.8.10"
  }
 },
 "nbformat": 4,
 "nbformat_minor": 4
}
