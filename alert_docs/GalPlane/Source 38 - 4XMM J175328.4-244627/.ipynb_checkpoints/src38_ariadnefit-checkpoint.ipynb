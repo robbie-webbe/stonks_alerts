{
 "cells": [
  {
   "cell_type": "code",
   "execution_count": 1,
   "metadata": {},
   "outputs": [
    {
     "name": "stderr",
     "output_type": "stream",
     "text": [
      "Holoviews not imported. Some visualizations will not be available.\n",
      "PyMultiNest not imported.  MultiNest fits will not work.\n",
      "/home/rwebbe/.local/lib/python3.8/site-packages/astroARIADNE/fitter.py:43: UserWarning: (py)MultiNest installation (or libmultinest.dylib) not detected.\n",
      "  warnings.warn(\n"
     ]
    }
   ],
   "source": [
    "from astroARIADNE.star import Star\n",
    "from astroARIADNE.fitter import Fitter\n",
    "from dustmaps.config import config\n",
    "config['data_dir'] = '/home/rwebbe/data/dustmaps'"
   ]
  },
  {
   "cell_type": "code",
   "execution_count": 2,
   "metadata": {
    "scrolled": true
   },
   "outputs": [
    {
     "name": "stdout",
     "output_type": "stream",
     "text": [
      "\n",
      "\t\t#####################################\n",
      "\t\t##             ARIADNE             ##\n",
      "\t\t#####################################\n",
      "   spectrAl eneRgy dIstribution bAyesian moDel averagiNg fittEr\n",
      "\n",
      "\t\t\tAuthor : Jose Vines\n",
      "\t\t\tContact : jose . vines at ug . uchile . cl\n",
      "\t\t\tStar : HD 162718\n",
      "\t\t*** LOOKING UP ARCHIVAL INFORMATION ***\n",
      "INFO: Query finished. [astroquery.utils.tap.core]\n",
      "INFO: Query finished. [astroquery.utils.tap.core]\n",
      "INFO: Query finished. [astroquery.utils.tap.core]\n",
      "Star not found in catalog Pan-STARRS.\n",
      "INFO: Query finished. [astroquery.utils.tap.core]\n",
      "Star not found in catalog SDSS.\n",
      "INFO: Query finished. [astroquery.utils.tap.core]\n",
      "INFO: Query finished. [astroquery.utils.tap.core]\n",
      "INFO: Query finished. [astroquery.utils.tap.core]\n",
      "Looking online for archival magnitudes for star HD 162718\n",
      "Checking catalog APASS\n",
      "Warning!: CatalogWarning\n",
      "Warning message: Star is not available in catalog APASS. Skipping\n",
      "Checking catalog All-WISE\n",
      "Warning!: CatalogWarning\n",
      "Warning message: Catalog WISE entry is either an extended source, is of bad quality or is contaminated. Skipping.\n",
      "Checking catalog Gaia DR3\n",
      "Checking catalog 2MASS\n",
      "Checking catalog GLIMPSE\n",
      "Warning!: CatalogWarning\n",
      "Warning message: Star is not available in catalog GLIMPSE. Skipping\n",
      "Warning!: CatalogWarning\n",
      "Warning message: Star is not available in catalog GALEX. Skipping\n",
      "Checking catalog TYCHO2\n",
      "Checking catalog ASCC\n",
      "Checking catalog TICv8\n",
      "Warning!: CatalogWarning\n",
      "Warning message: Star is not available in catalog SkyMapper. Skipping\n",
      "Checking catalog STROMGREN_PAUNZEN\n",
      "Warning!: CatalogWarning\n",
      "Warning message: ymag magnitude error not found, assigning error.\n",
      "Checking catalog STROMGREN_HAUCK\n",
      "Warning!: CatalogWarning\n",
      "Warning message: ymag magnitude error not found, assigning error.\n",
      "Checking catalog Mermilliod\n",
      "Warning!: CatalogWarning\n",
      "Warning message: GROUND_JOHNSON_V magnitude already retrieved. Skipping.\n",
      "Warning!: CatalogWarning\n",
      "Warning message: GROUND_JOHNSON_B magnitude already retrieved. Skipping.\n",
      "\t\t\tGaia DR3 ID : 4067633238255477248\n",
      "\t\t\tTIC : 131894593\n",
      "\t\t\tGaia Effective temperature : 5019.290 +/- 140.690\n",
      "\t\t\tGaia Stellar radius : 19.332 +/- 5.199\n",
      "\t\t\tGaia Stellar Luminosity : 213.699 +/- 24.638\n",
      "\t\t\tGaia Parallax : 0.608 +/- 0.093\n",
      "\t\t\tBailer-Jones distance : 1847.611 +/- 326.774\n",
      "\t\t\tMaximum Av : 15.480\n",
      "\n",
      "\t\t       Filter       \tMagnitude\tUncertainty\n",
      "\t\t--------------------\t---------\t-----------\n",
      "\t\t    STROMGREN_u     \t 0.0000  \t  0.0000   \n",
      "\t\t  GROUND_JOHNSON_U  \t 8.8730  \t  0.0316   \n",
      "\t\t    STROMGREN_v     \t 0.0000  \t  0.0000   \n",
      "\t\t    TYCHO_B_MvB     \t 9.4060  \t  0.0220   \n",
      "\t\t  GROUND_JOHNSON_B  \t 9.2980  \t  0.0200   \n",
      "\t\t    STROMGREN_b     \t 0.0000  \t  0.0000   \n",
      "\t\t    GaiaDR2v2_BP    \t 8.8265  \t  0.0030   \n",
      "\t\t    TYCHO_V_MvB     \t 8.8140  \t  0.0170   \n",
      "\t\t    STROMGREN_y     \t 8.7370  \t  0.0000   \n",
      "\t\t  GROUND_JOHNSON_V  \t 8.7460  \t  0.0180   \n",
      "\t\t    GaiaDR2v2_G     \t 8.3966  \t  0.0028   \n",
      "\t\t    GaiaDR2v2_RP    \t 7.7389  \t  0.0039   \n",
      "\t\t        TESS        \t 7.8169  \t  0.0063   \n",
      "\t\t      2MASS_J       \t 6.9050  \t  0.0230   \n",
      "\t\t      2MASS_H       \t 6.5840  \t  0.0360   \n",
      "\t\t      2MASS_Ks      \t 6.1780  \t  0.0180   \n",
      "\n"
     ]
    }
   ],
   "source": [
    "gaia_id = 4067633238255477248\n",
    "ra = 268.3685113\n",
    "dec = -24.7743574\n",
    "starname = 'HD 162718'\n",
    "s = Star(starname, ra, dec, g_id = gaia_id, dustmap='Planck16')"
   ]
  },
  {
   "cell_type": "code",
   "execution_count": 3,
   "metadata": {},
   "outputs": [
    {
     "name": "stdout",
     "output_type": "stream",
     "text": [
      "Created the directory ariadnefit\n",
      "\n",
      "\t\t*** EXECUTING MAIN FITTING ROUTINE ***\n",
      "\t\t\tSelected engine : Bayesian Model Averaging\n",
      "\t\t\tLive points : 500\n",
      "\t\t\tlog Evidence tolerance : 0.5\n",
      "\t\t\tFree parameters : 22\n",
      "\t\t\tBounding : multi\n",
      "\t\t\tSampling : rwalk\n",
      "\t\t\tN threads : 4\n",
      "\n"
     ]
    }
   ],
   "source": [
    "out_folder = 'ariadnefit'\n",
    "\n",
    "engine = 'dynesty'\n",
    "nlive = 500\n",
    "dlogz = 0.5\n",
    "bound = 'multi'\n",
    "sample = 'rwalk'\n",
    "threads = 4\n",
    "dynamic = False\n",
    "setup = [engine, nlive, dlogz, bound, sample, threads, dynamic]\n",
    "\n",
    "models = ['phoenix','btsettl','btnextgen','btcond','kurucz','ck04']\n",
    "f = Fitter()\n",
    "f.star = s\n",
    "f.setup = setup\n",
    "f.av_law = 'fitzpatrick'\n",
    "f.out_folder = out_folder\n",
    "f.bma = True\n",
    "f.models = models\n",
    "f.n_samples = 100000\n",
    "\n",
    "f.prior_setup = {'teff': ('default'),'logg': ('default'),'z': ('default'),'dist': ('default'),'rad': ('default'),'Av': ('default')}\n",
    "f.initialize()\n"
   ]
  },
  {
   "cell_type": "code",
   "execution_count": 4,
   "metadata": {},
   "outputs": [
    {
     "name": "stdout",
     "output_type": "stream",
     "text": [
      "\t\t\tFITTING MODEL : phoenix\n"
     ]
    },
    {
     "name": "stderr",
     "output_type": "stream",
     "text": [
      "9584it [05:26, 29.39it/s, +500 | bound: 105 | nc: 1 | ncall: 213865 | eff(%):  4.726 | loglstar:   -inf < 281.646 <    inf | logz: 263.018 +/-  0.190 | dlogz:  0.001 >  0.500]\n"
     ]
    },
    {
     "name": "stdout",
     "output_type": "stream",
     "text": [
      "\t\t\tFITTING MODEL : btsettl\n"
     ]
    },
    {
     "name": "stderr",
     "output_type": "stream",
     "text": [
      "9856it [05:28, 29.98it/s, +500 | bound: 111 | nc: 1 | ncall: 222734 | eff(%):  4.660 | loglstar:   -inf < 281.414 <    inf | logz: 262.235 +/-    nan | dlogz:  0.001 >  0.500]\n"
     ]
    },
    {
     "name": "stdout",
     "output_type": "stream",
     "text": [
      "\t\t\tFITTING MODEL : kurucz\n"
     ]
    },
    {
     "name": "stderr",
     "output_type": "stream",
     "text": [
      "9474it [05:19, 29.65it/s, +500 | bound: 105 | nc: 1 | ncall: 212628 | eff(%):  4.702 | loglstar:   -inf < 281.077 <    inf | logz: 262.577 +/-    nan | dlogz:  0.001 >  0.500]\n"
     ]
    },
    {
     "name": "stdout",
     "output_type": "stream",
     "text": [
      "\t\t\tFITTING MODEL : ck04\n"
     ]
    },
    {
     "name": "stderr",
     "output_type": "stream",
     "text": [
      "9848it [05:33, 29.52it/s, +500 | bound: 109 | nc: 1 | ncall: 221427 | eff(%):  4.684 | loglstar:   -inf < 280.700 <    inf | logz: 261.459 +/-    nan | dlogz:  0.001 >  0.500]\n"
     ]
    },
    {
     "name": "stdout",
     "output_type": "stream",
     "text": [
      "\t\t*** AVERAGING POSTERIOR SAMPLES ***\n"
     ]
    },
    {
     "name": "stderr",
     "output_type": "stream",
     "text": [
      "100%|██████████| 26/26 [00:00<00:00, 33.22it/s]\n"
     ]
    },
    {
     "name": "stdout",
     "output_type": "stream",
     "text": [
      "\t\t*** ESTIMATING AGE AND MASS USING MIST ISOCHRONES ***\n"
     ]
    },
    {
     "name": "stderr",
     "output_type": "stream",
     "text": [
      "15469it [01:45, 146.58it/s, +500 | bound: 187 | nc: 1 | ncall: 500260 | eff(%):  3.195 | loglstar:   -inf < -12.320 <    inf | logz: -38.816 +/- 11.799 | dlogz:  0.000 >  0.010]\n"
     ]
    },
    {
     "name": "stdout",
     "output_type": "stream",
     "text": [
      "\n",
      "\t\t\tFitting finished.\n",
      "\t\t\tBest fit parameters are:\n",
      "\t\t\tteff : 5736.9303 + 287.6309 - 404.8138 [4932.6291, 6525.2519]\n",
      "\t\t\tlogg : 4.1929 + 0.6937 - 0.3553 [3.5781, 5.2589]\n",
      "\t\t\t[Fe/H] : -0.2648 + 0.1508 - 0.1960 [-0.7896, 0.1092]\n",
      "\t\t\tdist : 2542.6671 + 381.2699 - 318.6733 [1933.7734, 3635.2614]\n",
      "\t\t\trad : 58.6769 + 9.0429 - 7.3473 [43.6996, 85.9469]\n",
      "\t\t\tAv : 0.5127 + 0.2319 - 0.2287 [0.0489, 1.0088]\n",
      "\t\t\tAngular Diameter : 0.2114 + 0.0467 - 0.0360 [0.1333, 0.3623]\n",
      "\t\t\tGrav mass : 1493.2183 + 4741.1350 - 969.7776 [307.9346, 28539.2385]\n",
      "\t\t\tLuminosity : 3117.8107 + 1434.2318 - 948.0515 [1294.6347, 8563.0295]\n",
      "\t\t\tIso mass : 5.3158 + 0.8219 - 0.9200 [3.4511, 7.1068]\n",
      "\t\t\tAge (Gyr) : 0.0934 + 0.0373 - 0.0292 [0.0500, 0.2529]\n",
      "\t\t\tEEP : 662.6036 + 14.6030 - 17.5236 [631.3757, 698.3247]\n",
      "\t\t\tExcess u noise : 1.3824 + 0.6462 - 0.4381 [0.4733, 3.7480]\n",
      "\t\t\tExcess U noise : 0.4137 + 0.1599 - 0.1199 [0.1890, 0.9358]\n",
      "\t\t\tExcess v noise : 1.1897 + 0.6933 - 0.3782 [0.4964, 3.6372]\n",
      "\t\t\tExcess BT noise : 0.1791 + 0.0850 - 0.0641 [0.0444, 0.5238]\n",
      "\t\t\tExcess B noise : 0.1727 + 0.0811 - 0.0585 [0.0496, 0.4984]\n",
      "\t\t\tExcess b noise : 1.2608 + 0.7035 - 0.4410 [0.4943, 3.6339]\n",
      "\t\t\tExcess BP noise : 0.0282 + 0.0170 - 0.0127 [0.0048, 0.0795]\n",
      "\t\t\tExcess VT noise : 0.1203 + 0.0860 - 0.0458 [0.0377, 0.3716]\n",
      "\t\t\tExcess y noise : 0.3278 + 0.5271 - 0.2063 [0.0184, 3.4447]\n",
      "\t\t\tExcess V noise : 0.1347 + 0.0856 - 0.0519 [0.0401, 0.4278]\n",
      "\t\t\tExcess G noise : 0.0253 + 0.0134 - 0.0101 [0.0054, 0.0770]\n",
      "\t\t\tExcess RP noise : 0.0323 + 0.0197 - 0.0139 [0.0053, 0.0960]\n",
      "\t\t\tExcess TESS noise : 0.0424 + 0.0319 - 0.0190 [0.0045, 0.1537]\n",
      "\t\t\tExcess J noise : 0.1629 + 0.0875 - 0.0618 [0.0342, 0.5473]\n",
      "\t\t\tExcess H noise : 0.1580 + 0.1071 - 0.0803 [0.0151, 0.6824]\n",
      "\t\t\tExcess Ks noise : 0.2287 + 0.0768 - 0.0606 [0.1089, 0.5115]\n",
      "\t\t\tMamajek Spectral Type : G3V\n",
      "\t\t\tphoenix probability : 0.4327\n",
      "\t\t\tbtsettl probability : 0.1978\n",
      "\t\t\tkurucz probability : 0.2784\n",
      "\t\t\tck04 probability : 0.0911\n",
      "\t\t\tElapsed time : 24 minutes and 19.85 seconds\n"
     ]
    }
   ],
   "source": [
    "f.fit_bma()"
   ]
  },
  {
   "cell_type": "code",
   "execution_count": 1,
   "metadata": {},
   "outputs": [
    {
     "name": "stdout",
     "output_type": "stream",
     "text": [
      "L_X / L_Bol:  0.00026549961632664644 -3.575936102180782\n"
     ]
    }
   ],
   "source": [
    "import numpy as np\n",
    "\n",
    "Lbol_sun = 4 * 10**33\n",
    "L_bol = Lbol_sun * 3118\n",
    "L_x = 10**33.52\n",
    "\n",
    "print(\"L_X / L_Bol: \",L_x/L_bol,np.log10(L_x/L_bol))"
   ]
  }
 ],
 "metadata": {
  "kernelspec": {
   "display_name": "Python 3 (ipykernel)",
   "language": "python",
   "name": "python3"
  },
  "language_info": {
   "codemirror_mode": {
    "name": "ipython",
    "version": 3
   },
   "file_extension": ".py",
   "mimetype": "text/x-python",
   "name": "python",
   "nbconvert_exporter": "python",
   "pygments_lexer": "ipython3",
   "version": "3.8.10"
  }
 },
 "nbformat": 4,
 "nbformat_minor": 4
}
