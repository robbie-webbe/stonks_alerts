{
 "cells": [
  {
   "cell_type": "code",
   "execution_count": 1,
   "metadata": {},
   "outputs": [],
   "source": [
    "%load_ext wurlitzer\n",
    "import glob\n",
    "import os\n",
    "from xspec import *\n",
    "from stingray import Lightcurve\n",
    "from astropy.io import fits\n",
    "import matplotlib.pyplot as plt\n",
    "plt.rcParams['figure.figsize'] = [12,8]\n",
    "os.chdir('pps/')\n",
    "\n",
    "Fit.statMethod = \"chi\"\n",
    "Fit.nIterations = 100000\n",
    "Fit.delta = 1e-4\n",
    "Fit.criticalDelta = 1e-4"
   ]
  },
  {
   "cell_type": "code",
   "execution_count": 2,
   "metadata": {},
   "outputs": [],
   "source": [
    "import numpy as np\n",
    "out_arr = np.full((4,19),-np.inf,dtype=object)"
   ]
  },
  {
   "cell_type": "code",
   "execution_count": 3,
   "metadata": {},
   "outputs": [
    {
     "name": "stdout",
     "output_type": "stream",
     "text": [
      "\n",
      "1 spectrum  in use\n",
      " \n",
      "Spectral Data File: P0932190501PNS003SRSPEC0019.FTZ  Spectrum 1\n",
      "Net count rate (cts/s) for Spectrum:1  5.419e-03 +/- 1.365e-03 (38.9 % total)\n",
      " Assigned to Data Group 1 and Plot Group 1\n",
      "  Noticed Channels:  1-5\n",
      "  Telescope: XMM Instrument: EPN  Channel Type: PI\n",
      "  Exposure Time: 7831 sec\n",
      " Using fit statistic: chi\n",
      " Using Background File                P0932190501PNS003BGSPEC0019.FTZ\n",
      "  Background Exposure Time: 7831 sec\n",
      " Using Response (RMF) File            epn_e3_ff20_sdY9.rmf for Source 1\n",
      " Using Auxiliary Response (ARF) File  P0932190501PNS003SRCARF0019.FTZ\n",
      "\n"
     ]
    },
    {
     "data": {
      "image/svg+xml": [
       "<svg xmlns=\"http://www.w3.org/2000/svg\" xmlns:xlink=\"http://www.w3.org/1999/xlink\" style=\"fill-rule: nonzero; stroke-linecap: round; stroke-linejoin: round; transform: scale(1,-1);\" version=\"1.1\" viewbox=\"          225.691605            27.140120          7374.125488          5618.850098\" width=\"100%\" height=\"100%\" preserveAspectRatio=\"xMidYMid\">\n",
       "<style>\n",
       "  .fn { font-family: Arial,Helvetica,sans-serif; }\n",
       "  .fN { font-family: Arial,Helvetica,sans-serif; font-weight: bold;}\n",
       "  .fr { font-family: Times,Times-Roman,Times New Roman,serif; }\n",
       "  .fR { font-family: Times,Times-Roman,Times New Roman,serif; font-weight: bold;}\n",
       "  .fi { font-family: Times,Times-Roman,Times New Roman,serif; font-style: italic;}\n",
       "  .fI { font-family: Times,Times-Roman,Times New Roman,serif; font-style: italic; font-weight: bold;}\n",
       "  .fs { font-family: Zapf-Chancery,Apple Chancery,URW Chancery L,cursive;}\n",
       "  .fS { font-family: Zapf-Chancery,Apple Chancery,URW Chancery L,cursive;font-weight:bold}\n",
       "  .fc { font-family: Arial Narrow,Helvetica Narrow,Arial,Helvetica,sans-serif;}\n",
       "  .fC { font-family: Arial Narrow,Helvetica Narrow,Arial,Helvetica,sans-serif; font-weight:bold;}\n",
       "</style>\n",
       "<g style=\"color: rgb(0, 0, 0); fill: currentColor; stroke: currentColor; stroke-width: 8\">\n",
       "\n",
       "<path fill=\"none\" d=\"M 742 576 l 5935 0 l 0 4607 l -5935 0 l 0 -4607 M 1040 576 l 0 33 M 1359 576 l 0 33 M 1620 576 l 0 33  M 1841 576 l 0 33 M 2033 576 l 0 33 M 2201 576 l 0 33 M 2352 576 l 0 66 M 3345 576 l 0 33 M 3926 576 l 0 33  M 4338 576 l 0 33 M 4657 576 l 0 33 M 4919 576 l 0 33 M 5139 576 l 0 33 M 5331 576 l 0 33 M 5499 576 l 0 33  M 5650 576 l 0 66 M 6643 576 l 0 33 M 1040 5150 l 0 33 M 1359 5150 l 0 33 M 1620 5150 l 0 33 M 1841 5150 l 0 33  M 2033 5150 l 0 33 M 2201 5150 l 0 33 M 2352 5117 l 0 66 M 3345 5150 l 0 33 M 3926 5150 l 0 33 M 4338 5150 l 0 33  M 4657 5150 l 0 33 M 4919 5150 l 0 33 M 5139 5150 l 0 33 M 5331 5150 l 0 33 M 5499 5150 l 0 33 M 5650 5117 l 0 66  M 6643 5150 l 0 33 \"/>\n",
       "<text transform=\"translate(2307,403) scale(1,-1)\"><tspan class=\"fn\" style=\"font-size: 886%;\">1</tspan></text>\n",
       "<text transform=\"translate(5561,403) scale(1,-1)\"><tspan class=\"fn\" style=\"font-size: 886%;\">10</tspan></text>\n",
       "<text transform=\"translate(1248,403) scale(1,-1)\"><tspan class=\"fn\" style=\"font-size: 886%;\">0.5</tspan></text>\n",
       "<text transform=\"translate(3300,403) scale(1,-1)\"><tspan class=\"fn\" style=\"font-size: 886%;\">2</tspan></text>\n",
       "<text transform=\"translate(4613,403) scale(1,-1)\"><tspan class=\"fn\" style=\"font-size: 886%;\">5</tspan></text>\n",
       "<text transform=\"translate(6554,403) scale(1,-1)\"><tspan class=\"fn\" style=\"font-size: 886%;\">20</tspan></text>\n",
       "\n",
       "<path fill=\"none\" d=\"M 742 576 l 66 0 M 742 1090 l 33 0 M 742 1390 l 33 0 M 742 1604 l 33 0 M 742 1769 l 33 0 M 742 1904 l 33 0  M 742 2019 l 33 0 M 742 2117 l 33 0 M 742 2205 l 33 0 M 742 2283 l 66 0 M 742 2797 l 33 0 M 742 3097 l 33 0  M 742 3311 l 33 0 M 742 3476 l 33 0 M 742 3611 l 33 0 M 742 3726 l 33 0 M 742 3825 l 33 0 M 742 3912 l 33 0  M 742 3990 l 66 0 M 742 4504 l 33 0 M 742 4804 l 33 0 M 742 5018 l 33 0 M 742 5183 l 33 0 M 6611 576 l 66 0  M 6644 1090 l 33 0 M 6644 1390 l 33 0 M 6644 1604 l 33 0 M 6644 1769 l 33 0 M 6644 1904 l 33 0 M 6644 2019 l 33 0  M 6644 2117 l 33 0 M 6644 2205 l 33 0 M 6611 2283 l 66 0 M 6644 2797 l 33 0 M 6644 3097 l 33 0 M 6644 3311 l 33 0  M 6644 3476 l 33 0 M 6644 3611 l 33 0 M 6644 3726 l 33 0 M 6644 3825 l 33 0 M 6644 3912 l 33 0 M 6611 3990 l 66 0  M 6644 4504 l 33 0 M 6644 4804 l 33 0 M 6644 5018 l 33 0 M 6644 5183 l 33 0 \"/>\n",
       "<text transform=\"translate(641,432) scale(1,-1) rotate(-90)\"><tspan class=\"fn\" style=\"font-size: 886%;\">10<tspan style=\"font-size: 60%;\" dy=\"-0.6em\">−5<tspan style=\"font-size: 166.667%;\" dy=\"+0.36em\"/></tspan></tspan></text>\n",
       "<text transform=\"translate(641,2139) scale(1,-1) rotate(-90)\"><tspan class=\"fn\" style=\"font-size: 886%;\">10<tspan style=\"font-size: 60%;\" dy=\"-0.6em\">−4<tspan style=\"font-size: 166.667%;\" dy=\"+0.36em\"/></tspan></tspan></text>\n",
       "<text transform=\"translate(641,3846) scale(1,-1) rotate(-90)\"><tspan class=\"fn\" style=\"font-size: 886%;\">10<tspan style=\"font-size: 60%;\" dy=\"-0.6em\">−3<tspan style=\"font-size: 166.667%;\" dy=\"+0.36em\"/></tspan></tspan></text>\n",
       "</g>\n",
       "<g style=\"color: rgb(0, 0, 0); fill: currentColor; stroke: currentColor; stroke-width: 4\">\n",
       "<defs>\n",
       "<symbol id=\"M1\" overflow=\"visible\">\n",
       "<circle r=\"1\" fill=\"none\" stroke-width=\"1\"/>\n",
       "</symbol>\n",
       "</defs>\n",
       "<use xlink:href=\"#M1\" transform=\"translate(2188, 3418) scale(4.430)\"/>\n",
       "\n",
       "<path fill=\"none\" d=\"M 742 3418 l 2151 0 M 2188 576 l 0 3400 \"/>\n",
       "<use xlink:href=\"#M1\" transform=\"translate(3239, 4578) scale(4.430)\"/>\n",
       "\n",
       "<path fill=\"none\" d=\"M 2893 4578 l 624 0 M 3239 4282 l 0 506 \"/>\n",
       "<use xlink:href=\"#M1\" transform=\"translate(3961, 3490) scale(4.430)\"/>\n",
       "\n",
       "<path fill=\"none\" d=\"M 3517 3490 l 783 0 M 3961 2595 l 0 1289 \"/>\n",
       "<use xlink:href=\"#M1\" transform=\"translate(4622, 3471) scale(4.430)\"/>\n",
       "\n",
       "<path fill=\"none\" d=\"M 4300 3471 l 585 0 M 4622 2794 l 0 1025 \"/>\n",
       "<use xlink:href=\"#M1\" transform=\"translate(6045, 2208) scale(4.430)\"/>\n",
       "\n",
       "<path fill=\"none\" d=\"M 4885 2208 l 1792 0 M 6045 1643 l 0 882 \"/>\n",
       "</g>\n",
       "<g style=\"color: rgb(0, 0, 0); fill: currentColor; stroke: currentColor; stroke-width: 8\">\n",
       "<text transform=\"translate(370,2317) scale(1,-1) rotate(-90)\"><tspan class=\"fn\" style=\"font-size: 886%;\">counts s<tspan style=\"font-size: 60%;\" dy=\"-0.6em\">−1<tspan style=\"font-size: 166.667%;\" dy=\"+0.36em\"> keV<tspan style=\"font-size: 60%;\" dy=\"-0.6em\">−1<tspan style=\"font-size: 166.667%;\" dy=\"+0.36em\"/></tspan></tspan></tspan></tspan></text>\n",
       "<text transform=\"translate(3255,215) scale(1,-1)\"><tspan class=\"fn\" style=\"font-size: 886%;\">Energy (keV)</tspan></text>\n",
       "<text transform=\"translate(3534,5442) scale(1,-1)\"><tspan class=\"fn\" style=\"font-size: 886%;\"><tspan class=\"fR\">data</tspan></tspan></text>\n",
       "</g>\n",
       "<g style=\"color: rgb(0, 0, 0); fill: currentColor; stroke: currentColor; stroke-width: 4\">\n",
       "<text transform=\"translate(6246,46) scale(1,-1)\"><tspan class=\"fn\" style=\"font-size: 531.6%;\">rwebbe  3−Sep−2025 11:37</tspan></text>\n",
       "</g>\n",
       "<!-- _PGPLOT_SVG_ATEND: viewbox=\"          225.691605            27.140120          7374.125488          5618.850098\" -->\n",
       "</svg>"
      ],
      "text/plain": [
       "<IPython.core.display.SVG object>"
      ]
     },
     "metadata": {},
     "output_type": "display_data"
    }
   ],
   "source": [
    "spec_fnames = glob.glob('P*PNS*SRSPEC*.FTZ')\n",
    "\n",
    "spec = Spectrum(spec_fnames[0])\n",
    "Plot.device=\"/svg\"\n",
    "Plot.xAxis=\"keV\"\n",
    "Plot.xLog=True\n",
    "Plot.yLog=True\n",
    "Plot.addCommand(\"Rescale Y 0.00001 0.005\")\n",
    "Plot(\"data\")"
   ]
  },
  {
   "cell_type": "code",
   "execution_count": 4,
   "metadata": {
    "scrolled": false
   },
   "outputs": [
    {
     "name": "stdout",
     "output_type": "stream",
     "text": [
      "\n",
      "========================================================================\n",
      "Model TBabs<1>*bbody<2> Source No.: 1   Active/On\n",
      "Model Model Component  Parameter  Unit     Value\n",
      " par  comp\n",
      "   1    1   TBabs      nH         10^22    1.00000      +/-  0.0          \n",
      "   2    2   bbody      kT         keV      3.00000      +/-  0.0          \n",
      "   3    2   bbody      norm                1.00000      +/-  0.0          \n",
      "________________________________________________________________________\n",
      "\n",
      "tbvabs Version 2.3\n",
      "Cosmic absorption with grains and H2, modified from\n",
      "Wilms, Allen, & McCray, 2000, ApJ 542, 914-924\n",
      "Questions: Joern Wilms\n",
      "joern.wilms@sternwarte.uni-erlangen.de\n",
      "joern.wilms@fau.de\n",
      "\n",
      "http://pulsar.sternwarte.uni-erlangen.de/wilms/research/tbabs/\n",
      "\n",
      "PLEASE NOTICE:\n",
      "To get the model described by the above paper\n",
      "you will also have to set the abundances:\n",
      "   abund wilm\n",
      "\n",
      "Note that this routine ignores the current cross section setting\n",
      "as it always HAS to use the Verner cross sections as a baseline.\n",
      "\n",
      "Fit statistic  : Chi-Squared              2.289502e+11     using 5 bins.\n",
      "\n",
      "Test statistic : Chi-Squared              2.289502e+11     using 5 bins.\n",
      " Null hypothesis probability of 0.000000e+00 with 2 degrees of freedom\n",
      " Current data and model not fit yet.\n",
      "                                   Parameters\n",
      "Chi-Squared  |beta|/N    Lvl          1:nH          2:kT        3:norm\n",
      "4.69873      0.291903      0     0.0366150       3.08429   6.74230e-06\n",
      "4.53942      47600.4      -1   0.000986040       2.99761   6.48883e-06\n",
      "4.40638      34976.9      -2   0.000372367       2.68281   5.16798e-06\n",
      "4.27288      48833        -3   1.73495e-05       2.39564   4.23055e-06\n",
      "4.21413      41871.9      -4   7.17953e-06       2.24210   3.81668e-06\n",
      "4.19453      21349.4      -5   3.44450e-06       2.14957   3.56459e-06\n",
      "4.18795      9836.27      -6   0.000597433       2.08799   3.40189e-06\n",
      "4.18589      1039.8       -7     0.0109137       2.04533   3.29100e-06\n",
      "4.18515      575.653      -8     0.0118644       2.02454   3.23250e-06\n",
      "4.18486      200.798      -9     0.0152950       2.00952   3.19397e-06\n",
      "4.18475      76.4828     -10     0.0158922       2.00155   3.17198e-06\n",
      "4.18471      32.7942     -11     0.0170599       1.99608   3.15790e-06\n",
      "========================================\n",
      " Variances and Principal Axes\n",
      "                 1        2        3  \n",
      " 7.0759E-13| -0.0000  -0.0000   1.0000  \n",
      " 1.1169E-01|  0.9648   0.2630   0.0000  \n",
      " 1.2571E+00| -0.2630   0.9648   0.0000  \n",
      "----------------------------------------\n",
      "\n",
      "====================================\n",
      "  Covariance Matrix\n",
      "        1           2           3   \n",
      "   1.909e-01  -2.906e-01  -5.782e-07\n",
      "  -2.906e-01   1.178e+00   2.991e-06\n",
      "  -5.782e-07   2.991e-06   8.516e-12\n",
      "------------------------------------\n",
      "\n",
      "========================================================================\n",
      "Model TBabs<1>*bbody<2> Source No.: 1   Active/On\n",
      "Model Model Component  Parameter  Unit     Value\n",
      " par  comp\n",
      "   1    1   TBabs      nH         10^22    1.70599E-02  +/-  0.436931     \n",
      "   2    2   bbody      kT         keV      1.99608      +/-  1.08530      \n",
      "   3    2   bbody      norm                3.15790E-06  +/-  2.91824E-06  \n",
      "________________________________________________________________________\n",
      "\n",
      "\n",
      "Fit statistic  : Chi-Squared                  4.1847     using 5 bins.\n",
      "\n",
      "Test statistic : Chi-Squared                  4.1847     using 5 bins.\n",
      " Null hypothesis probability of 1.2340e-01 with 2 degrees of freedom\n"
     ]
    },
    {
     "data": {
      "image/svg+xml": [
       "<svg xmlns=\"http://www.w3.org/2000/svg\" xmlns:xlink=\"http://www.w3.org/1999/xlink\" style=\"fill-rule: nonzero; stroke-linecap: round; stroke-linejoin: round; transform: scale(1,-1);\" version=\"1.1\" viewbox=\"           -8.104365            27.140120          7607.921387          5564.965820\" width=\"100%\" height=\"100%\" preserveAspectRatio=\"xMidYMid\">\n",
       "<style>\n",
       "  .fn { font-family: Arial,Helvetica,sans-serif; }\n",
       "  .fN { font-family: Arial,Helvetica,sans-serif; font-weight: bold;}\n",
       "  .fr { font-family: Times,Times-Roman,Times New Roman,serif; }\n",
       "  .fR { font-family: Times,Times-Roman,Times New Roman,serif; font-weight: bold;}\n",
       "  .fi { font-family: Times,Times-Roman,Times New Roman,serif; font-style: italic;}\n",
       "  .fI { font-family: Times,Times-Roman,Times New Roman,serif; font-style: italic; font-weight: bold;}\n",
       "  .fs { font-family: Zapf-Chancery,Apple Chancery,URW Chancery L,cursive;}\n",
       "  .fS { font-family: Zapf-Chancery,Apple Chancery,URW Chancery L,cursive;font-weight:bold}\n",
       "  .fc { font-family: Arial Narrow,Helvetica Narrow,Arial,Helvetica,sans-serif;}\n",
       "  .fC { font-family: Arial Narrow,Helvetica Narrow,Arial,Helvetica,sans-serif; font-weight:bold;}\n",
       "</style>\n",
       "<g style=\"color: rgb(0, 0, 0); fill: currentColor; stroke: currentColor; stroke-width: 8\">\n",
       "\n",
       "<path fill=\"none\" d=\"M 742 2304 l 5935 0 l 0 2879 l -5935 0 l 0 -2879 M 1040 2304 l 0 28 M 1359 2304 l 0 28 M 1620 2304 l 0 28  M 1841 2304 l 0 28 M 2033 2304 l 0 28 M 2201 2304 l 0 28 M 2352 2304 l 0 56 M 3345 2304 l 0 28 M 3926 2304 l 0 28  M 4338 2304 l 0 28 M 4657 2304 l 0 28 M 4919 2304 l 0 28 M 5139 2304 l 0 28 M 5331 2304 l 0 28 M 5499 2304 l 0 28  M 5650 2304 l 0 56 M 6643 2304 l 0 28 M 1040 5155 l 0 28 M 1359 5155 l 0 28 M 1620 5155 l 0 28 M 1841 5155 l 0 28  M 2033 5155 l 0 28 M 2201 5155 l 0 28 M 2352 5127 l 0 56 M 3345 5155 l 0 28 M 3926 5155 l 0 28 M 4338 5155 l 0 28  M 4657 5155 l 0 28 M 4919 5155 l 0 28 M 5139 5155 l 0 28 M 5331 5155 l 0 28 M 5499 5155 l 0 28 M 5650 5127 l 0 56  M 6643 5155 l 0 28 M 742 2304 l 56 0 M 742 2625 l 28 0 M 742 2813 l 28 0 M 742 2946 l 28 0 M 742 3049 l 28 0  M 742 3134 l 28 0 M 742 3205 l 28 0 M 742 3267 l 28 0 M 742 3322 l 28 0 M 742 3370 l 56 0 M 742 3692 l 28 0  M 742 3880 l 28 0 M 742 4013 l 28 0 M 742 4116 l 28 0 M 742 4201 l 28 0 M 742 4272 l 28 0 M 742 4334 l 28 0  M 742 4389 l 28 0 M 742 4437 l 56 0 M 742 4759 l 28 0 M 742 4946 l 28 0 M 742 5080 l 28 0 M 742 5183 l 28 0  M 6621 2304 l 56 0 M 6649 2625 l 28 0 M 6649 2813 l 28 0 M 6649 2946 l 28 0 M 6649 3049 l 28 0 M 6649 3134 l 28 0  M 6649 3205 l 28 0 M 6649 3267 l 28 0 M 6649 3322 l 28 0 M 6621 3370 l 56 0 M 6649 3692 l 28 0 M 6649 3880 l 28 0  M 6649 4013 l 28 0 M 6649 4116 l 28 0 M 6649 4201 l 28 0 M 6649 4272 l 28 0 M 6649 4334 l 28 0 M 6649 4389 l 28 0  M 6621 4437 l 56 0 M 6649 4759 l 28 0 M 6649 4946 l 28 0 M 6649 5080 l 28 0 M 6649 5183 l 28 0 \"/>\n",
       "<text transform=\"translate(412,2266) scale(1,-1)\"><tspan class=\"fn\" style=\"font-size: 753.1%;\">10<tspan style=\"font-size: 60%;\" dy=\"-0.6em\">−5<tspan style=\"font-size: 166.667%;\" dy=\"+0.36em\"/></tspan></tspan></text>\n",
       "<text transform=\"translate(412,3333) scale(1,-1)\"><tspan class=\"fn\" style=\"font-size: 753.1%;\">10<tspan style=\"font-size: 60%;\" dy=\"-0.6em\">−4<tspan style=\"font-size: 166.667%;\" dy=\"+0.36em\"/></tspan></tspan></text>\n",
       "<text transform=\"translate(412,4400) scale(1,-1)\"><tspan class=\"fn\" style=\"font-size: 753.1%;\">10<tspan style=\"font-size: 60%;\" dy=\"-0.6em\">−3<tspan style=\"font-size: 166.667%;\" dy=\"+0.36em\"/></tspan></tspan></text>\n",
       "</g>\n",
       "<g style=\"color: rgb(0, 0, 0); fill: currentColor; stroke: currentColor; stroke-width: 4\">\n",
       "<defs>\n",
       "<symbol id=\"M1\" overflow=\"visible\">\n",
       "<circle r=\"1\" fill=\"none\" stroke-width=\"1\"/>\n",
       "</symbol>\n",
       "</defs>\n",
       "<use xlink:href=\"#M1\" transform=\"translate(2188, 4080) scale(4.430)\"/>\n",
       "\n",
       "<path fill=\"none\" d=\"M 742 4080 l 2151 0 M 2188 2304 l 0 2125 \"/>\n",
       "<use xlink:href=\"#M1\" transform=\"translate(3239, 4805) scale(4.430)\"/>\n",
       "\n",
       "<path fill=\"none\" d=\"M 2893 4805 l 624 0 M 3239 4620 l 0 316 \"/>\n",
       "<use xlink:href=\"#M1\" transform=\"translate(3961, 4125) scale(4.430)\"/>\n",
       "\n",
       "<path fill=\"none\" d=\"M 3517 4125 l 783 0 M 3961 3565 l 0 806 \"/>\n",
       "<use xlink:href=\"#M1\" transform=\"translate(4622, 4113) scale(4.430)\"/>\n",
       "\n",
       "<path fill=\"none\" d=\"M 4300 4113 l 585 0 M 4622 3690 l 0 641 \"/>\n",
       "<use xlink:href=\"#M1\" transform=\"translate(6045, 3324) scale(4.430)\"/>\n",
       "\n",
       "<path fill=\"none\" d=\"M 4885 3324 l 1792 0 M 6045 2971 l 0 551 \"/>\n",
       "</g>\n",
       "<g style=\"color: rgb(0, 0, 0); fill: currentColor; stroke: currentColor; stroke-width: 8\">\n",
       "\n",
       "<path fill=\"none\" d=\"M 742 4217 l 2151 0 l 0 255 l 624 0 l 0 -149 l 783 0 l 0 -82 l 585 0 l 0 -1217 l 1792 0 M 742 4217 l 2151 0  M 2188 4217 l 0 0 M 2893 4472 l 624 0 M 3239 4472 l 0 0 M 3517 4323 l 783 0 M 3961 4323 l 0 0 M 4300 4241 l 585 0  M 4622 4241 l 0 0 M 4885 3024 l 1792 0 M 6045 3024 l 0 0 \"/>\n",
       "<text transform=\"translate(111,3265) scale(1,-1) rotate(-90)\"><tspan class=\"fn\" style=\"font-size: 753.1%;\">counts s<tspan style=\"font-size: 60%;\" dy=\"-0.6em\">−1<tspan style=\"font-size: 166.667%;\" dy=\"+0.36em\"> keV<tspan style=\"font-size: 60%;\" dy=\"-0.6em\">−1<tspan style=\"font-size: 166.667%;\" dy=\"+0.36em\"/></tspan></tspan></tspan></tspan></text>\n",
       "<text transform=\"translate(2971,5403) scale(1,-1)\"><tspan class=\"fn\" style=\"font-size: 753.1%;\"><tspan class=\"fR\">data and folded model</tspan></tspan></text>\n",
       "\n",
       "<path fill=\"none\" d=\"M 742 576 l 5935 0 l 0 1728 l -5935 0 l 0 -1728 M 1040 576 l 0 28 M 1359 576 l 0 28 M 1620 576 l 0 28  M 1841 576 l 0 28 M 2033 576 l 0 28 M 2201 576 l 0 28 M 2352 576 l 0 56 M 3345 576 l 0 28 M 3926 576 l 0 28  M 4338 576 l 0 28 M 4657 576 l 0 28 M 4919 576 l 0 28 M 5139 576 l 0 28 M 5331 576 l 0 28 M 5499 576 l 0 28  M 5650 576 l 0 56 M 6643 576 l 0 28 M 1040 2275 l 0 29 M 1359 2275 l 0 29 M 1620 2275 l 0 29 M 1841 2275 l 0 29  M 2033 2275 l 0 29 M 2201 2275 l 0 29 M 2352 2247 l 0 57 M 3345 2275 l 0 29 M 3926 2275 l 0 29 M 4338 2275 l 0 29  M 4657 2275 l 0 29 M 4919 2275 l 0 29 M 5139 2275 l 0 29 M 5331 2275 l 0 29 M 5499 2275 l 0 29 M 5650 2247 l 0 57  M 6643 2275 l 0 29 \"/>\n",
       "<text transform=\"translate(2314,429) scale(1,-1)\"><tspan class=\"fn\" style=\"font-size: 753.1%;\">1</tspan></text>\n",
       "<text transform=\"translate(5574,429) scale(1,-1)\"><tspan class=\"fn\" style=\"font-size: 753.1%;\">10</tspan></text>\n",
       "<text transform=\"translate(1264,429) scale(1,-1)\"><tspan class=\"fn\" style=\"font-size: 753.1%;\">0.5</tspan></text>\n",
       "<text transform=\"translate(3307,429) scale(1,-1)\"><tspan class=\"fn\" style=\"font-size: 753.1%;\">2</tspan></text>\n",
       "<text transform=\"translate(4619,429) scale(1,-1)\"><tspan class=\"fn\" style=\"font-size: 753.1%;\">5</tspan></text>\n",
       "<text transform=\"translate(6567,429) scale(1,-1)\"><tspan class=\"fn\" style=\"font-size: 753.1%;\">20</tspan></text>\n",
       "\n",
       "<path fill=\"none\" d=\"M 742 584 l 28 0 M 742 701 l 28 0 M 742 818 l 28 0 M 742 935 l 56 0 M 742 1052 l 28 0 M 742 1170 l 28 0  M 742 1287 l 28 0 M 742 1404 l 28 0 M 742 1521 l 56 0 M 742 1639 l 28 0 M 742 1756 l 28 0 M 742 1873 l 28 0  M 742 1990 l 28 0 M 742 2107 l 56 0 M 742 2225 l 28 0 M 6649 584 l 28 0 M 6649 701 l 28 0 M 6649 818 l 28 0  M 6621 935 l 56 0 M 6649 1052 l 28 0 M 6649 1170 l 28 0 M 6649 1287 l 28 0 M 6649 1404 l 28 0 M 6621 1521 l 56 0  M 6649 1639 l 28 0 M 6649 1756 l 28 0 M 6649 1873 l 28 0 M 6649 1990 l 28 0 M 6621 2107 l 56 0 M 6649 2225 l 28 0  \"/>\n",
       "<text transform=\"translate(580,898) scale(1,-1)\"><tspan class=\"fn\" style=\"font-size: 753.1%;\">0</tspan></text>\n",
       "<text transform=\"translate(240,1484) scale(1,-1)\"><tspan class=\"fn\" style=\"font-size: 753.1%;\">5×10<tspan style=\"font-size: 60%;\" dy=\"-0.6em\">−4<tspan style=\"font-size: 166.667%;\" dy=\"+0.36em\"/></tspan></tspan></text>\n",
       "<text transform=\"translate(412,2070) scale(1,-1)\"><tspan class=\"fn\" style=\"font-size: 753.1%;\">10<tspan style=\"font-size: 60%;\" dy=\"-0.6em\">−3<tspan style=\"font-size: 166.667%;\" dy=\"+0.36em\"/></tspan></tspan></text>\n",
       "</g>\n",
       "<g style=\"color: rgb(0, 0, 0); fill: currentColor; stroke: currentColor; stroke-width: 4\">\n",
       "<use xlink:href=\"#M1\" transform=\"translate(2188, 748) scale(4.430)\"/>\n",
       "\n",
       "<path fill=\"none\" d=\"M 742 748 l 2151 0 M 2188 576 l 0 781 \"/>\n",
       "<use xlink:href=\"#M1\" transform=\"translate(3239, 2262) scale(4.430)\"/>\n",
       "\n",
       "<path fill=\"none\" d=\"M 2893 2262 l 624 0 M 3239 1412 l 0 892 \"/>\n",
       "<use xlink:href=\"#M1\" transform=\"translate(3961, 617) scale(4.430)\"/>\n",
       "\n",
       "<path fill=\"none\" d=\"M 3517 617 l 783 0 M 3961 576 l 0 460 \"/>\n",
       "<use xlink:href=\"#M1\" transform=\"translate(4622, 750) scale(4.430)\"/>\n",
       "\n",
       "<path fill=\"none\" d=\"M 4300 750 l 585 0 M 4622 576 l 0 523 \"/>\n",
       "<use xlink:href=\"#M1\" transform=\"translate(6045, 986) scale(4.430)\"/>\n",
       "\n",
       "<path fill=\"none\" d=\"M 4885 986 l 1792 0 M 6045 929 l 0 113 \"/>\n",
       "</g>\n",
       "<g style=\"color: rgb(0, 0, 0); fill: currentColor; stroke: currentColor; stroke-width: 8\">\n",
       "<text transform=\"translate(111,962) scale(1,-1) rotate(-90)\"><tspan class=\"fn\" style=\"font-size: 753.1%;\">counts s<tspan style=\"font-size: 60%;\" dy=\"-0.6em\">−1<tspan style=\"font-size: 166.667%;\" dy=\"+0.36em\"> keV<tspan style=\"font-size: 60%;\" dy=\"-0.6em\">−1<tspan style=\"font-size: 166.667%;\" dy=\"+0.36em\"/></tspan></tspan></tspan></tspan></text>\n",
       "<text transform=\"translate(3323,269) scale(1,-1)\"><tspan class=\"fn\" style=\"font-size: 753.1%;\">Energy (keV)</tspan></text>\n",
       "</g>\n",
       "<g style=\"color: rgb(0, 255, 0); fill: currentColor; stroke: currentColor; stroke-width: 8\">\n",
       "\n",
       "<path fill=\"none\" d=\"M 742 935 l 5935 0 \"/>\n",
       "</g>\n",
       "<g style=\"color: rgb(0, 0, 0); fill: currentColor; stroke: currentColor; stroke-width: 4\">\n",
       "<text transform=\"translate(6246,46) scale(1,-1)\"><tspan class=\"fn\" style=\"font-size: 531.6%;\">rwebbe  3−Sep−2025 11:37</tspan></text>\n",
       "</g>\n",
       "<!-- _PGPLOT_SVG_ATEND: viewbox=\"           -8.104365            27.140120          7607.921387          5564.965820\" -->\n",
       "</svg>"
      ],
      "text/plain": [
       "<IPython.core.display.SVG object>"
      ]
     },
     "metadata": {},
     "output_type": "display_data"
    }
   ],
   "source": [
    "#spec.ignore(\"**-0.2 12.0-**\")\n",
    "mo = Model(\"tbabs*bbody\")\n",
    "Fit.perform()\n",
    "Plot(\"data resid\")"
   ]
  },
  {
   "cell_type": "code",
   "execution_count": 5,
   "metadata": {},
   "outputs": [
    {
     "name": "stdout",
     "output_type": "stream",
     "text": [
      "Cannot do error calc: Reduced Chi^2 (= 2.09235) > maximum (2)\n"
     ]
    },
    {
     "ename": "Exception",
     "evalue": "Error executing command: error",
     "output_type": "error",
     "traceback": [
      "\u001b[0;31m---------------------------------------------------------------------------\u001b[0m",
      "\u001b[0;31mException\u001b[0m                                 Traceback (most recent call last)",
      "\u001b[0;32m<ipython-input-5-21d339ad0c88>\u001b[0m in \u001b[0;36m<module>\u001b[0;34m\u001b[0m\n\u001b[0;32m----> 1\u001b[0;31m \u001b[0mFit\u001b[0m\u001b[0;34m.\u001b[0m\u001b[0merror\u001b[0m\u001b[0;34m(\u001b[0m\u001b[0;34m\"1\"\u001b[0m\u001b[0;34m)\u001b[0m\u001b[0;34m\u001b[0m\u001b[0;34m\u001b[0m\u001b[0m\n\u001b[0m\u001b[1;32m      2\u001b[0m \u001b[0mFit\u001b[0m\u001b[0;34m.\u001b[0m\u001b[0merror\u001b[0m\u001b[0;34m(\u001b[0m\u001b[0;34m\"2\"\u001b[0m\u001b[0;34m)\u001b[0m\u001b[0;34m\u001b[0m\u001b[0;34m\u001b[0m\u001b[0m\n\u001b[1;32m      3\u001b[0m \u001b[0;34m\u001b[0m\u001b[0m\n\u001b[1;32m      4\u001b[0m \u001b[0mout_arr\u001b[0m\u001b[0;34m[\u001b[0m\u001b[0;36m0\u001b[0m\u001b[0;34m,\u001b[0m\u001b[0;36m0\u001b[0m\u001b[0;34m]\u001b[0m \u001b[0;34m=\u001b[0m \u001b[0;34m'bbody'\u001b[0m\u001b[0;34m\u001b[0m\u001b[0;34m\u001b[0m\u001b[0m\n\u001b[1;32m      5\u001b[0m \u001b[0mout_arr\u001b[0m\u001b[0;34m[\u001b[0m\u001b[0;36m0\u001b[0m\u001b[0;34m,\u001b[0m\u001b[0;36m1\u001b[0m\u001b[0;34m:\u001b[0m\u001b[0;36m4\u001b[0m\u001b[0;34m]\u001b[0m \u001b[0;34m=\u001b[0m \u001b[0mmo\u001b[0m\u001b[0;34m.\u001b[0m\u001b[0mTBabs\u001b[0m\u001b[0;34m.\u001b[0m\u001b[0mnH\u001b[0m\u001b[0;34m.\u001b[0m\u001b[0mvalues\u001b[0m\u001b[0;34m[\u001b[0m\u001b[0;36m0\u001b[0m\u001b[0;34m]\u001b[0m\u001b[0;34m,\u001b[0m \u001b[0mmo\u001b[0m\u001b[0;34m.\u001b[0m\u001b[0mTBabs\u001b[0m\u001b[0;34m.\u001b[0m\u001b[0mnH\u001b[0m\u001b[0;34m.\u001b[0m\u001b[0mvalues\u001b[0m\u001b[0;34m[\u001b[0m\u001b[0;36m0\u001b[0m\u001b[0;34m]\u001b[0m \u001b[0;34m-\u001b[0m \u001b[0mmo\u001b[0m\u001b[0;34m.\u001b[0m\u001b[0mTBabs\u001b[0m\u001b[0;34m.\u001b[0m\u001b[0mnH\u001b[0m\u001b[0;34m.\u001b[0m\u001b[0merror\u001b[0m\u001b[0;34m[\u001b[0m\u001b[0;36m0\u001b[0m\u001b[0;34m]\u001b[0m\u001b[0;34m,\u001b[0m \u001b[0mmo\u001b[0m\u001b[0;34m.\u001b[0m\u001b[0mTBabs\u001b[0m\u001b[0;34m.\u001b[0m\u001b[0mnH\u001b[0m\u001b[0;34m.\u001b[0m\u001b[0merror\u001b[0m\u001b[0;34m[\u001b[0m\u001b[0;36m1\u001b[0m\u001b[0;34m]\u001b[0m \u001b[0;34m-\u001b[0m \u001b[0mmo\u001b[0m\u001b[0;34m.\u001b[0m\u001b[0mTBabs\u001b[0m\u001b[0;34m.\u001b[0m\u001b[0mnH\u001b[0m\u001b[0;34m.\u001b[0m\u001b[0mvalues\u001b[0m\u001b[0;34m[\u001b[0m\u001b[0;36m0\u001b[0m\u001b[0;34m]\u001b[0m\u001b[0;34m\u001b[0m\u001b[0;34m\u001b[0m\u001b[0m\n",
      "\u001b[0;32m~/astro_soft/heasoft-6.32.1/x86_64-pc-linux-gnu-libc2.31/lib/python/xspec/fit.py\u001b[0m in \u001b[0;36merror\u001b[0;34m(self, argString, respPar)\u001b[0m\n\u001b[1;32m    423\u001b[0m             \u001b[0merrorArgs\u001b[0m \u001b[0;34m=\u001b[0m \u001b[0;34m[\u001b[0m\u001b[0;34m\"error\"\u001b[0m\u001b[0;34m]\u001b[0m\u001b[0;34m\u001b[0m\u001b[0;34m\u001b[0m\u001b[0m\n\u001b[1;32m    424\u001b[0m         \u001b[0merrorArgs\u001b[0m \u001b[0;34m+=\u001b[0m \u001b[0margString\u001b[0m\u001b[0;34m.\u001b[0m\u001b[0msplit\u001b[0m\u001b[0;34m(\u001b[0m\u001b[0;34m)\u001b[0m\u001b[0;34m\u001b[0m\u001b[0;34m\u001b[0m\u001b[0m\n\u001b[0;32m--> 425\u001b[0;31m         \u001b[0m_pyXspec\u001b[0m\u001b[0;34m.\u001b[0m\u001b[0mdoXspecCmd\u001b[0m\u001b[0;34m(\u001b[0m\u001b[0merrorArgs\u001b[0m\u001b[0;34m)\u001b[0m\u001b[0;34m\u001b[0m\u001b[0;34m\u001b[0m\u001b[0m\n\u001b[0m\u001b[1;32m    426\u001b[0m \u001b[0;34m\u001b[0m\u001b[0m\n\u001b[1;32m    427\u001b[0m     \u001b[0;32mdef\u001b[0m \u001b[0mftest\u001b[0m\u001b[0;34m(\u001b[0m\u001b[0mself\u001b[0m\u001b[0;34m,\u001b[0m \u001b[0mchisq2\u001b[0m\u001b[0;34m,\u001b[0m \u001b[0mdof2\u001b[0m\u001b[0;34m,\u001b[0m \u001b[0mchisq1\u001b[0m\u001b[0;34m,\u001b[0m \u001b[0mdof1\u001b[0m\u001b[0;34m)\u001b[0m\u001b[0;34m:\u001b[0m\u001b[0;34m\u001b[0m\u001b[0;34m\u001b[0m\u001b[0m\n",
      "\u001b[0;31mException\u001b[0m: Error executing command: error"
     ]
    }
   ],
   "source": [
    "Fit.error(\"1\")\n",
    "Fit.error(\"2\")\n",
    "\n",
    "out_arr[0,0] = 'bbody'\n",
    "out_arr[0,1:4] = mo.TBabs.nH.values[0], mo.TBabs.nH.values[0] - mo.TBabs.nH.error[0], mo.TBabs.nH.error[1] - mo.TBabs.nH.values[0]\n",
    "out_arr[0,4:7] = mo.bbody.kT.values[0], mo.bbody.kT.values[0] - mo.bbody.kT.error[0], mo.bbody.kT.error[1] - mo.bbody.kT.values[0]\n",
    "out_arr[0,-2:] = Fit.dof, Fit.statistic / Fit.dof\n"
   ]
  },
  {
   "cell_type": "code",
   "execution_count": null,
   "metadata": {
    "scrolled": false
   },
   "outputs": [],
   "source": [
    "AllModels.clear()\n",
    "mo = Model(\"tbabs*bremss\")\n",
    "Fit.perform()\n",
    "Plot(\"data resid\")"
   ]
  },
  {
   "cell_type": "code",
   "execution_count": null,
   "metadata": {},
   "outputs": [],
   "source": [
    "Fit.error(\"1\")\n",
    "Fit.error(\"2\")\n",
    "\n",
    "out_arr[3,0] = 'bremss'\n",
    "out_arr[3,1:4] = mo.TBabs.nH.values[0], mo.TBabs.nH.values[0] - mo.TBabs.nH.error[0], mo.TBabs.nH.error[1] - mo.TBabs.nH.values[0]\n",
    "out_arr[3,4:7] = mo.bremss.kT.values[0], mo.bremss.kT.values[0] - mo.bremss.kT.error[0], mo.bremss.kT.error[1] - mo.bremss.kT.values[0]\n",
    "out_arr[3,-2:] = Fit.dof, Fit.statistic / Fit.dof\n"
   ]
  },
  {
   "cell_type": "code",
   "execution_count": null,
   "metadata": {
    "scrolled": false
   },
   "outputs": [],
   "source": [
    "AllModels.clear()\n",
    "mo = Model(\"tbabs*apec\")\n",
    "Fit.perform()\n",
    "Plot(\"data resid\")"
   ]
  },
  {
   "cell_type": "code",
   "execution_count": null,
   "metadata": {},
   "outputs": [],
   "source": [
    "Fit.error(\"1\")\n",
    "Fit.error(\"2\")\n",
    "\n",
    "out_arr[2,0] = 'apec'\n",
    "out_arr[2,1:4] = mo.TBabs.nH.values[0], mo.TBabs.nH.values[0] - mo.TBabs.nH.error[0], mo.TBabs.nH.error[1] - mo.TBabs.nH.values[0]\n",
    "out_arr[2,13] = mo.apec.Abundanc.values[0]\n",
    "out_arr[2,4:7] = mo.apec.kT.values[0], mo.apec.kT.values[0] - mo.apec.kT.error[0], mo.apec.kT.error[1] - mo.apec.kT.values[0]\n",
    "out_arr[2,-2:] = Fit.dof, Fit.statistic / Fit.dof\n"
   ]
  },
  {
   "cell_type": "code",
   "execution_count": null,
   "metadata": {
    "scrolled": false
   },
   "outputs": [],
   "source": [
    "AllModels.clear()\n",
    "mo = Model(\"tbabs*powerlaw\")\n",
    "Fit.perform()\n",
    "Plot(\"data resid\")"
   ]
  },
  {
   "cell_type": "code",
   "execution_count": null,
   "metadata": {},
   "outputs": [],
   "source": [
    "Fit.error(\"1\")\n",
    "Fit.error(\"2\")\n",
    "\n",
    "out_arr[1,0] = 'powerlaw'\n",
    "out_arr[1,1:4] = mo.TBabs.nH.values[0], mo.TBabs.nH.values[0] - mo.TBabs.nH.error[0], mo.TBabs.nH.error[1] - mo.TBabs.nH.values[0]\n",
    "out_arr[1,14:17] = mo.powerlaw.PhoIndex.values[0], mo.powerlaw.PhoIndex.values[0] - mo.powerlaw.PhoIndex.error[0], mo.powerlaw.PhoIndex.error[1] - mo.powerlaw.PhoIndex.values[0]\n",
    "out_arr[1,-2:] = Fit.dof, Fit.statistic / Fit.dof\n"
   ]
  },
  {
   "cell_type": "code",
   "execution_count": null,
   "metadata": {},
   "outputs": [],
   "source": [
    "np.savetxt('../spec55_output.csv',out_arr,fmt=['%s','%.2f','%.2f','%.2f','%.2f','%.2f','%.2f','%.2f','%.2f','%.2f','%.2f','%.2f','%.2f','%.1f','%.2f','%.2f','%.2f','%i','%.2f'],delimiter=',')\n"
   ]
  },
  {
   "cell_type": "code",
   "execution_count": null,
   "metadata": {},
   "outputs": [],
   "source": [
    "AllModels.calcFlux(\".2 12.0\")"
   ]
  },
  {
   "cell_type": "code",
   "execution_count": null,
   "metadata": {},
   "outputs": [],
   "source": [
    "#plx = 1.4843\n",
    "d_kpc = 8\n",
    "F_x = 1.202*10**-13\n",
    "\n",
    "L_x = 4*3.14*F_x*(d_kpc*3.086*10**21)**2\n",
    "print(L_x)"
   ]
  },
  {
   "cell_type": "code",
   "execution_count": null,
   "metadata": {},
   "outputs": [],
   "source": [
    "import numpy as np\n",
    "print(d_kpc)\n",
    "print(np.log10(L_x))"
   ]
  },
  {
   "cell_type": "code",
   "execution_count": null,
   "metadata": {},
   "outputs": [],
   "source": [
    "F_opt = 1.05*10**-5 * 10**(-0.4*20.7)\n",
    "print('Optical Flux: ',F_opt)\n",
    "print('F_x / F_opt: ', np.log10(F_x/F_opt))"
   ]
  }
 ],
 "metadata": {
  "kernelspec": {
   "display_name": "Python 3 (ipykernel)",
   "language": "python",
   "name": "python3"
  },
  "language_info": {
   "codemirror_mode": {
    "name": "ipython",
    "version": 3
   },
   "file_extension": ".py",
   "mimetype": "text/x-python",
   "name": "python",
   "nbconvert_exporter": "python",
   "pygments_lexer": "ipython3",
   "version": "3.8.10"
  }
 },
 "nbformat": 4,
 "nbformat_minor": 4
}
