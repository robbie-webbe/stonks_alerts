{
 "cells": [
  {
   "cell_type": "code",
   "execution_count": 1,
   "metadata": {},
   "outputs": [
    {
     "name": "stderr",
     "output_type": "stream",
     "text": [
      "Holoviews not imported. Some visualizations will not be available.\n",
      "PyMultiNest not imported.  MultiNest fits will not work.\n",
      "/home/rwebbe/.local/lib/python3.8/site-packages/astroARIADNE/fitter.py:43: UserWarning: (py)MultiNest installation (or libmultinest.dylib) not detected.\n",
      "  warnings.warn(\n"
     ]
    }
   ],
   "source": [
    "from astroARIADNE.star import Star\n",
    "from astroARIADNE.fitter import Fitter\n",
    "from dustmaps.config import config\n",
    "config['data_dir'] = '/home/rwebbe/data/dustmaps'"
   ]
  },
  {
   "cell_type": "code",
   "execution_count": 2,
   "metadata": {
    "scrolled": true
   },
   "outputs": [
    {
     "name": "stdout",
     "output_type": "stream",
     "text": [
      "\n",
      "\t\t#####################################\n",
      "\t\t##             ARIADNE             ##\n",
      "\t\t#####################################\n",
      "   spectrAl eneRgy dIstribution bAyesian moDel averagiNg fittEr\n",
      "\n",
      "\t\t\tAuthor : Jose Vines\n",
      "\t\t\tContact : jose . vines at ug . uchile . cl\n",
      "\t\t\tStar : 4054452151082655360\n",
      "\t\t*** LOOKING UP ARCHIVAL INFORMATION ***\n",
      "INFO: Query finished. [astroquery.utils.tap.core]\n",
      "Warning!: CatalogWarning\n",
      "Warning message: Parameter teff not found! Be advised.\n",
      "Warning!: CatalogWarning\n",
      "Warning message: Parameter radius not found! Be advised.\n",
      "Warning!: CatalogWarning\n",
      "Warning message: Parameter lum not found! Be advised.\n",
      "INFO: Query finished. [astroquery.utils.tap.core]\n",
      "Star not found in catalog TYCHO2.\n",
      "INFO: Query finished. [astroquery.utils.tap.core]\n",
      "INFO: Query finished. [astroquery.utils.tap.core]\n",
      "Star not found in catalog SDSS.\n",
      "INFO: Query finished. [astroquery.utils.tap.core]\n",
      "Star not found in catalog Wise.\n",
      "INFO: Query finished. [astroquery.utils.tap.core]\n",
      "INFO: Query finished. [astroquery.utils.tap.core]\n",
      "Star not found in catalog APASS.\n",
      "Looking online for archival magnitudes for star 4054452151082655360\n",
      "Checking catalog Pan-STARRS1\n",
      "Warning!: CatalogWarning\n",
      "Warning message: rmag magnitude error not found, assigning error.\n",
      "Warning!: CatalogWarning\n",
      "Warning message: imag magnitude error not found, assigning error.\n",
      "Warning!: CatalogWarning\n",
      "Warning message: zmag magnitude error not found, assigning error.\n",
      "Warning!: CatalogWarning\n",
      "Warning message: ymag magnitude error not found, assigning error.\n",
      "Checking catalog Gaia DR3\n",
      "Checking catalog 2MASS\n",
      "Warning!: CatalogWarning\n",
      "Warning message: Catalog 2MASS_J entry is either an extended source, is of bad quality or is contaminated. Skipping.\n",
      "Warning!: CatalogWarning\n",
      "Warning message: Catalog 2MASS_H entry is either an extended source, is of bad quality or is contaminated. Skipping.\n",
      "Warning!: CatalogWarning\n",
      "Warning message: Catalog 2MASS_Ks entry is either an extended source, is of bad quality or is contaminated. Skipping.\n",
      "Checking catalog GLIMPSE\n",
      "Warning!: CatalogWarning\n",
      "Warning message: Star is not available in catalog GLIMPSE. Skipping\n",
      "Warning!: CatalogWarning\n",
      "Warning message: Star is not available in catalog GALEX. Skipping\n",
      "Checking catalog TICv8\n",
      "Checking catalog SkyMapper DR1.1\n",
      "Warning!: CatalogWarning\n",
      "Warning message: Catalog SkyMapper entry is either an extended source, is of bad quality or is contaminated. Skipping.\n",
      "Warning!: CatalogWarning\n",
      "Warning message: Star is not available in catalog STROMGREN_PAUNZ. Skipping\n",
      "Warning!: CatalogWarning\n",
      "Warning message: Star is not available in catalog STROMGREN_HAUCK. Skipping\n",
      "Warning!: CatalogWarning\n",
      "Warning message: Star is not available in catalog MERMILLIOD. Skipping\n",
      "\t\t\tGaia DR3 ID : 4054452151082655360\n",
      "\t\t\tTIC : 163980092\n",
      "\t\t\tGaia Effective temperature : 0.000 +/- 0.000\n",
      "\t\t\tGaia Stellar radius : 0.000 +/- 0.000\n",
      "\t\t\tGaia Stellar Luminosity : 0.000 +/- 0.000\n",
      "\t\t\tGaia Parallax : 1.537 +/- 0.249\n",
      "\t\t\tBailer-Jones distance : 749.918 +/- 161.808\n",
      "\t\t\tMaximum Av : 43.220\n",
      "\n",
      "\t\t       Filter       \tMagnitude\tUncertainty\n",
      "\t\t--------------------\t---------\t-----------\n",
      "\t\t       PS1_g        \t 20.6763 \t  0.0216   \n",
      "\t\t    GaiaDR2v2_BP    \t 20.1941 \t  0.0742   \n",
      "\t\t       PS1_r        \t 18.7810 \t  0.0000   \n",
      "\t\t    GaiaDR2v2_G     \t 18.6553 \t  0.0046   \n",
      "\t\t       PS1_i        \t 17.6180 \t  0.0000   \n",
      "\t\t    GaiaDR2v2_RP    \t 17.4432 \t  0.0179   \n",
      "\t\t        TESS        \t 17.5077 \t  0.0532   \n",
      "\t\t       PS1_z        \t 17.0480 \t  0.0000   \n",
      "\t\t       PS1_y        \t 16.7150 \t  0.0000   \n",
      "\n"
     ]
    }
   ],
   "source": [
    "gaia_id = 4054452151082655360\n",
    "ra = 262.8123201\n",
    "dec = -33.4334109\n",
    "starname = str(gaia_id)\n",
    "s = Star(starname, ra, dec, g_id = gaia_id, dustmap='Planck16')"
   ]
  },
  {
   "cell_type": "code",
   "execution_count": 3,
   "metadata": {},
   "outputs": [
    {
     "name": "stdout",
     "output_type": "stream",
     "text": [
      "Created the directory ariadnefit\n",
      "\n",
      "\t\t*** EXECUTING MAIN FITTING ROUTINE ***\n",
      "\t\t\tSelected engine : Bayesian Model Averaging\n",
      "\t\t\tLive points : 500\n",
      "\t\t\tlog Evidence tolerance : 0.5\n",
      "\t\t\tFree parameters : 15\n",
      "\t\t\tBounding : multi\n",
      "\t\t\tSampling : rwalk\n",
      "\t\t\tN threads : 4\n",
      "\n"
     ]
    }
   ],
   "source": [
    "out_folder = 'ariadnefit'\n",
    "\n",
    "engine = 'dynesty'\n",
    "nlive = 500\n",
    "dlogz = 0.5\n",
    "bound = 'multi'\n",
    "sample = 'rwalk'\n",
    "threads = 4\n",
    "dynamic = False\n",
    "setup = [engine, nlive, dlogz, bound, sample, threads, dynamic]\n",
    "\n",
    "models = ['phoenix','btsettl','btnextgen','btcond','kurucz','ck04']\n",
    "f = Fitter()\n",
    "f.star = s\n",
    "f.setup = setup\n",
    "f.av_law = 'fitzpatrick'\n",
    "f.out_folder = out_folder\n",
    "f.bma = True\n",
    "f.models = models\n",
    "f.n_samples = 100000\n",
    "\n",
    "f.prior_setup = {'teff': ('default'),'logg': ('default'),'z': ('default'),'dist': ('default'),'rad': ('default'),'Av': ('default')}\n",
    "f.initialize()\n"
   ]
  },
  {
   "cell_type": "code",
   "execution_count": 4,
   "metadata": {},
   "outputs": [
    {
     "name": "stdout",
     "output_type": "stream",
     "text": [
      "\t\t\tFITTING MODEL : phoenix\n"
     ]
    },
    {
     "name": "stderr",
     "output_type": "stream",
     "text": [
      "9322it [03:37, 42.77it/s, +500 | bound: 108 | nc: 1 | ncall: 207871 | eff(%):  4.736 | loglstar:   -inf < 255.968 <    inf | logz: 237.897 +/-  0.194 | dlogz:  0.001 >  0.500]\n"
     ]
    },
    {
     "name": "stdout",
     "output_type": "stream",
     "text": [
      "\t\t\tFITTING MODEL : btsettl\n"
     ]
    },
    {
     "name": "stderr",
     "output_type": "stream",
     "text": [
      "9003it [03:27, 43.38it/s, +500 | bound: 105 | nc: 1 | ncall: 200539 | eff(%):  4.751 | loglstar:   -inf < 254.826 <    inf | logz: 237.324 +/-    nan | dlogz:  0.001 >  0.500]\n"
     ]
    },
    {
     "name": "stdout",
     "output_type": "stream",
     "text": [
      "\t\t\tFITTING MODEL : btnextgen\n"
     ]
    },
    {
     "name": "stderr",
     "output_type": "stream",
     "text": [
      "8920it [03:22, 44.00it/s, +500 | bound: 105 | nc: 1 | ncall: 196270 | eff(%):  4.812 | loglstar:   -inf < 252.925 <    inf | logz: 235.582 +/-    nan | dlogz:  0.001 >  0.500]\n"
     ]
    },
    {
     "name": "stdout",
     "output_type": "stream",
     "text": [
      "\t\t\tFITTING MODEL : btcond\n"
     ]
    },
    {
     "name": "stderr",
     "output_type": "stream",
     "text": [
      "8589it [03:28, 41.16it/s, +500 | bound: 100 | nc: 1 | ncall: 189544 | eff(%):  4.808 | loglstar:   -inf < 255.949 <    inf | logz: 239.303 +/-    nan | dlogz:  0.001 >  0.500]\n"
     ]
    },
    {
     "name": "stdout",
     "output_type": "stream",
     "text": [
      "\t\t*** AVERAGING POSTERIOR SAMPLES ***\n"
     ]
    },
    {
     "name": "stderr",
     "output_type": "stream",
     "text": [
      "100%|██████████| 19/19 [00:00<00:00, 34.53it/s]\n"
     ]
    },
    {
     "name": "stdout",
     "output_type": "stream",
     "text": [
      "\t\t*** ESTIMATING AGE AND MASS USING MIST ISOCHRONES ***\n"
     ]
    },
    {
     "name": "stderr",
     "output_type": "stream",
     "text": [
      "12838it [00:57, 222.45it/s, +500 | bound: 151 | nc: 1 | ncall: 342859 | eff(%):  3.896 | loglstar:   -inf < -9.779 <    inf | logz: -31.024 +/- 12.120 | dlogz:  0.000 >  0.010]\n"
     ]
    },
    {
     "name": "stdout",
     "output_type": "stream",
     "text": [
      "\n",
      "\t\t\tFitting finished.\n",
      "\t\t\tBest fit parameters are:\n",
      "\t\t\tteff : 4681.6087 + 424.4421 - 424.4421 [3889.8610, 6322.2406]\n",
      "\t\t\tlogg : 4.5185 + 0.5958 - 0.5552 [3.5435, 5.5613]\n",
      "\t\t\t[Fe/H] : -0.2530 + 0.1481 - 0.1721 [-0.7974, 0.3994]\n",
      "\t\t\tdist : 999.4364 + 224.9427 - 146.8376 [777.6179, 1711.7550]\n",
      "\t\t\trad : 0.8237 + 0.2254 - 0.1413 [0.5075, 1.5133]\n",
      "\t\t\tAv : 3.2402 + 0.5565 - 0.8402 [1.4179, 4.6806]\n",
      "\t\t\tAngular Diameter : 0.0075 + 0.0025 - 0.0020 [0.0037, 0.0156]\n",
      "\t\t\tGrav mass : 0.5027 + 1.7339 - 0.4080 [0.0437, 14.3227]\n",
      "\t\t\tLuminosity : 0.2805 + 0.2271 - 0.1165 [0.0883, 1.5210]\n",
      "\t\t\tIso mass : 0.5676 + 0.0847 - 0.1249 [0.1684, 0.8353]\n",
      "\t\t\tAge (Gyr) : 0.4072 + 10.8717 - 0.4060 [0.0012, 13.4441]\n",
      "\t\t\tEEP : 318.7965 + 23.2947 - 60.5661 [75.6002, 354.2043]\n",
      "\t\t\tExcess PS1_g noise : 0.2066 + 0.1177 - 0.1628 [0.0046, 0.5890]\n",
      "\t\t\tExcess BP noise : 0.1793 + 0.4139 - 0.1217 [0.0089, 1.8288]\n",
      "\t\t\tExcess PS1_r noise : 0.2677 + 0.5783 - 0.2024 [0.0075, 4.3302]\n",
      "\t\t\tExcess G noise : 0.0301 + 0.0204 - 0.0143 [0.0063, 0.1191]\n",
      "\t\t\tExcess PS1_i noise : 0.4439 + 1.1884 - 0.3395 [0.0195, 5.0956]\n",
      "\t\t\tExcess RP noise : 0.1303 + 0.1302 - 0.0714 [0.0072, 0.5389]\n",
      "\t\t\tExcess TESS noise : 0.3089 + 0.2183 - 0.1647 [0.0255, 1.1705]\n",
      "\t\t\tExcess PS1_z noise : 0.4295 + 0.5939 - 0.2691 [0.0305, 2.8050]\n",
      "\t\t\tExcess PS1_y noise : 0.6092 + 0.9272 - 0.3974 [0.0297, 4.9470]\n",
      "\t\t\tMamajek Spectral Type : K3.5V\n",
      "\t\t\tphoenix probability : 0.1741\n",
      "\t\t\tbtsettl probability : 0.0982\n",
      "\t\t\tbtnextgen probability : 0.0172\n",
      "\t\t\tbtcond probability : 0.7104\n",
      "\t\t\tElapsed time : 15 minutes and 34.11 seconds\n"
     ]
    }
   ],
   "source": [
    "f.fit_bma()"
   ]
  },
  {
   "cell_type": "code",
   "execution_count": 5,
   "metadata": {},
   "outputs": [
    {
     "name": "stdout",
     "output_type": "stream",
     "text": [
      "L_X / L_Bol:  0.004723707664884135 -2.3257169873193537\n"
     ]
    }
   ],
   "source": [
    "import numpy as np\n",
    "\n",
    "Lbol_sun = 4 * 10**33\n",
    "L_bol = Lbol_sun * 0.2805\n",
    "L_x = 5.3*10**30\n",
    "\n",
    "print(\"L_X / L_Bol: \",L_x/L_bol,np.log10(L_x/L_bol))"
   ]
  }
 ],
 "metadata": {
  "kernelspec": {
   "display_name": "Python 3 (ipykernel)",
   "language": "python",
   "name": "python3"
  },
  "language_info": {
   "codemirror_mode": {
    "name": "ipython",
    "version": 3
   },
   "file_extension": ".py",
   "mimetype": "text/x-python",
   "name": "python",
   "nbconvert_exporter": "python",
   "pygments_lexer": "ipython3",
   "version": "3.8.10"
  }
 },
 "nbformat": 4,
 "nbformat_minor": 4
}
