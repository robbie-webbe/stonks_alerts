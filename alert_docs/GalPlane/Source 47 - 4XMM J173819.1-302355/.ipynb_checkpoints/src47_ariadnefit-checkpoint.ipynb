{
 "cells": [
  {
   "cell_type": "code",
   "execution_count": 1,
   "metadata": {},
   "outputs": [
    {
     "name": "stderr",
     "output_type": "stream",
     "text": [
      "Holoviews not imported. Some visualizations will not be available.\n",
      "PyMultiNest not imported.  MultiNest fits will not work.\n",
      "/home/rwebbe/.local/lib/python3.8/site-packages/astroARIADNE/fitter.py:43: UserWarning: (py)MultiNest installation (or libmultinest.dylib) not detected.\n",
      "  warnings.warn(\n"
     ]
    }
   ],
   "source": [
    "from astroARIADNE.star import Star\n",
    "from astroARIADNE.fitter import Fitter\n",
    "from dustmaps.config import config\n",
    "config['data_dir'] = '/home/rwebbe/data/dustmaps'"
   ]
  },
  {
   "cell_type": "code",
   "execution_count": 2,
   "metadata": {
    "scrolled": true
   },
   "outputs": [
    {
     "name": "stdout",
     "output_type": "stream",
     "text": [
      "\n",
      "\t\t#####################################\n",
      "\t\t##             ARIADNE             ##\n",
      "\t\t#####################################\n",
      "   spectrAl eneRgy dIstribution bAyesian moDel averagiNg fittEr\n",
      "\n",
      "\t\t\tAuthor : Jose Vines\n",
      "\t\t\tContact : jose . vines at ug . uchile . cl\n",
      "\t\t\tStar : 4055466867195979392\n",
      "\t\t*** LOOKING UP ARCHIVAL INFORMATION ***\n",
      "INFO: Query finished. [astroquery.utils.tap.core]\n",
      "Warning!: CatalogWarning\n",
      "Warning message: Parameter radius not found! Be advised.\n",
      "Warning!: CatalogWarning\n",
      "Warning message: Parameter lum not found! Be advised.\n",
      "INFO: Query finished. [astroquery.utils.tap.core]\n",
      "Star not found in catalog TYCHO2.\n",
      "INFO: Query finished. [astroquery.utils.tap.core]\n",
      "INFO: Query finished. [astroquery.utils.tap.core]\n",
      "Star not found in catalog SDSS.\n",
      "INFO: Query finished. [astroquery.utils.tap.core]\n",
      "Star not found in catalog Wise.\n",
      "INFO: Query finished. [astroquery.utils.tap.core]\n",
      "INFO: Query finished. [astroquery.utils.tap.core]\n",
      "Star not found in catalog APASS.\n",
      "Looking online for archival magnitudes for star 4055466867195979392\n",
      "Checking catalog Pan-STARRS1\n",
      "Warning!: CatalogWarning\n",
      "Warning message: Catalog Pan-STARRS entry is either an extended source, is of bad quality or is contaminated. Skipping.\n",
      "Checking catalog Gaia DR3\n",
      "Checking catalog 2MASS\n",
      "Warning!: CatalogWarning\n",
      "Warning message: Catalog 2MASS_J entry is either an extended source, is of bad quality or is contaminated. Skipping.\n",
      "Warning!: CatalogWarning\n",
      "Warning message: Catalog 2MASS_H entry is either an extended source, is of bad quality or is contaminated. Skipping.\n",
      "Warning!: CatalogWarning\n",
      "Warning message: Catalog 2MASS_Ks entry is either an extended source, is of bad quality or is contaminated. Skipping.\n",
      "Checking catalog GLIMPSE\n",
      "Warning!: CatalogWarning\n",
      "Warning message: Star is not available in catalog GALEX. Skipping\n",
      "Checking catalog TICv8\n",
      "Checking catalog SkyMapper DR1.1\n",
      "Warning!: CatalogWarning\n",
      "Warning message: Catalog SkyMapper entry is either an extended source, is of bad quality or is contaminated. Skipping.\n",
      "Warning!: CatalogWarning\n",
      "Warning message: Star is not available in catalog STROMGREN_PAUNZ. Skipping\n",
      "Warning!: CatalogWarning\n",
      "Warning message: Star is not available in catalog STROMGREN_HAUCK. Skipping\n",
      "Warning!: CatalogWarning\n",
      "Warning message: Star is not available in catalog MERMILLIOD. Skipping\n",
      "\t\t\tGaia DR3 ID : 4055466867195979392\n",
      "\t\t\tTIC : 105565185\n",
      "\t\t\tGaia Effective temperature : 5634.667 +/- 369.333\n",
      "\t\t\tGaia Stellar radius : 0.000 +/- 0.000\n",
      "\t\t\tGaia Stellar Luminosity : 0.000 +/- 0.000\n",
      "\t\t\tGaia Parallax : 2.800 +/- 0.153\n",
      "\t\t\tBailer-Jones distance : 359.281 +/- 28.896\n",
      "\t\t\tMaximum Av : 19.467\n",
      "\n",
      "\t\t       Filter       \tMagnitude\tUncertainty\n",
      "\t\t--------------------\t---------\t-----------\n",
      "\t\t    GaiaDR2v2_BP    \t 12.0457 \t  0.0037   \n",
      "\t\t    GaiaDR2v2_G     \t 11.8859 \t  0.0029   \n",
      "\t\t    GaiaDR2v2_RP    \t 11.1774 \t  0.0042   \n",
      "\t\t        TESS        \t 11.3103 \t  0.0072   \n",
      "\t\t  SPITZER_IRAC_36   \t 9.9870  \t  0.0250   \n",
      "\t\t  SPITZER_IRAC_45   \t 9.9580  \t  0.0390   \n",
      "\n"
     ]
    }
   ],
   "source": [
    "gaia_id = 4055466867195979392\n",
    "ra = 264.5795830\n",
    "dec = -30.3986198\n",
    "starname = str(gaia_id)\n",
    "s = Star(starname, ra, dec, g_id = gaia_id, dustmap='Planck16')"
   ]
  },
  {
   "cell_type": "code",
   "execution_count": 3,
   "metadata": {},
   "outputs": [
    {
     "name": "stdout",
     "output_type": "stream",
     "text": [
      "Created the directory ariadnefit\n",
      "\n",
      "\t\t*** EXECUTING MAIN FITTING ROUTINE ***\n",
      "\t\t\tSelected engine : Bayesian Model Averaging\n",
      "\t\t\tLive points : 500\n",
      "\t\t\tlog Evidence tolerance : 0.5\n",
      "\t\t\tFree parameters : 12\n",
      "\t\t\tBounding : multi\n",
      "\t\t\tSampling : rwalk\n",
      "\t\t\tN threads : 4\n",
      "\n"
     ]
    }
   ],
   "source": [
    "out_folder = 'ariadnefit'\n",
    "\n",
    "engine = 'dynesty'\n",
    "nlive = 500\n",
    "dlogz = 0.5\n",
    "bound = 'multi'\n",
    "sample = 'rwalk'\n",
    "threads = 4\n",
    "dynamic = False\n",
    "setup = [engine, nlive, dlogz, bound, sample, threads, dynamic]\n",
    "\n",
    "models = ['phoenix','btsettl','btnextgen','btcond','kurucz','ck04']\n",
    "f = Fitter()\n",
    "f.star = s\n",
    "f.setup = setup\n",
    "f.av_law = 'fitzpatrick'\n",
    "f.out_folder = out_folder\n",
    "f.bma = True\n",
    "f.models = models\n",
    "f.n_samples = 100000\n",
    "\n",
    "f.prior_setup = {'teff': ('default'),'logg': ('default'),'z': ('default'),'dist': ('default'),'rad': ('default'),'Av': ('default')}\n",
    "f.initialize()\n"
   ]
  },
  {
   "cell_type": "code",
   "execution_count": 4,
   "metadata": {},
   "outputs": [
    {
     "name": "stdout",
     "output_type": "stream",
     "text": [
      "\t\t\tFITTING MODEL : phoenix\n"
     ]
    },
    {
     "name": "stderr",
     "output_type": "stream",
     "text": [
      "10799it [05:12, 34.54it/s, +500 | bound: 122 | nc: 1 | ncall: 244817 | eff(%):  4.625 | loglstar:   -inf < 147.292 <    inf | logz: 126.264 +/-  0.210 | dlogz:  0.001 >  0.500]\n"
     ]
    },
    {
     "name": "stdout",
     "output_type": "stream",
     "text": [
      "\t\t\tFITTING MODEL : btsettl\n"
     ]
    },
    {
     "name": "stderr",
     "output_type": "stream",
     "text": [
      "12184it [51:42:24, 15.28s/it, +500 | bound: 140 | nc: 1 | ncall: 278364 | eff(%):  4.565 | loglstar:   -inf < 149.385 <    inf | logz: 125.457 +/-    nan | dlogz:  0.001 >  0.500]\n"
     ]
    },
    {
     "name": "stdout",
     "output_type": "stream",
     "text": [
      "\t\t\tFITTING MODEL : kurucz\n"
     ]
    },
    {
     "name": "stderr",
     "output_type": "stream",
     "text": [
      "11068it [08:53, 20.76it/s, +500 | bound: 126 | nc: 1 | ncall: 251073 | eff(%):  4.617 | loglstar:   -inf < 146.840 <    inf | logz: 125.188 +/-    nan | dlogz:  0.001 >  0.500] \n"
     ]
    },
    {
     "name": "stdout",
     "output_type": "stream",
     "text": [
      "\t\t\tFITTING MODEL : ck04\n"
     ]
    },
    {
     "name": "stderr",
     "output_type": "stream",
     "text": [
      "11066it [09:16, 19.89it/s, +500 | bound: 126 | nc: 1 | ncall: 252247 | eff(%):  4.594 | loglstar:   -inf < 147.512 <    inf | logz: 125.834 +/-    nan | dlogz:  0.001 >  0.500] \n"
     ]
    },
    {
     "name": "stdout",
     "output_type": "stream",
     "text": [
      "\t\t*** AVERAGING POSTERIOR SAMPLES ***\n"
     ]
    },
    {
     "name": "stderr",
     "output_type": "stream",
     "text": [
      "100%|██████████| 16/16 [00:02<00:00,  7.55it/s]\n"
     ]
    },
    {
     "name": "stdout",
     "output_type": "stream",
     "text": [
      "\t\t*** ESTIMATING AGE AND MASS USING MIST ISOCHRONES ***\n"
     ]
    },
    {
     "name": "stderr",
     "output_type": "stream",
     "text": [
      "13514it [02:27, 91.61it/s, +500 | bound: 165 | nc: 1 | ncall: 362197 | eff(%):  3.875 | loglstar:   -inf < -4.745 <    inf | logz: -27.318 +/- 10.843 | dlogz:  0.000 >  0.010]\n"
     ]
    },
    {
     "name": "stdout",
     "output_type": "stream",
     "text": [
      "\n",
      "\t\t\tFitting finished.\n",
      "\t\t\tBest fit parameters are:\n",
      "\t\t\tteff : 5522.5918 + 401.0200 - 285.6581 [4923.8084, 6560.8492]\n",
      "\t\t\tlogg : 4.3005 + 0.6712 - 0.4717 [3.5567, 5.3587]\n",
      "\t\t\t[Fe/H] : -0.1741 + 0.1812 - 0.2071 [-0.6661, 0.2984]\n",
      "\t\t\tdist : 417.9659 + 55.5889 - 34.6613 [361.7230, 557.2653]\n",
      "\t\t\trad : 1.9450 + 0.2918 - 0.2237 [1.4489, 2.9030]\n",
      "\t\t\tAv : 0.2578 + 0.3002 - 0.1726 [0.0139, 1.1360]\n",
      "\t\t\tAngular Diameter : 0.0420 + 0.0081 - 0.0061 [0.0283, 0.0689]\n",
      "\t\t\tGrav mass : 1.8413 + 6.0925 - 1.2826 [0.3984, 37.2741]\n",
      "\t\t\tLuminosity : 3.2188 + 1.3934 - 0.9610 [1.4890, 8.6724]\n",
      "\t\t\tIso mass : 0.9705 + 0.2391 - 0.1499 [0.6625, 1.8701]\n",
      "\t\t\tAge (Gyr) : 4.2409 + 6.6317 - 4.2407 [0.0002, 13.4440]\n",
      "\t\t\tEEP : 452.8478 + 28.5650 - 110.1792 [93.7451, 499.0959]\n",
      "\t\t\tExcess BP noise : 0.0828 + 0.0247 - 0.0239 [0.0261, 0.1414]\n",
      "\t\t\tExcess G noise : 0.0473 + 0.0218 - 0.0228 [0.0059, 0.1018]\n",
      "\t\t\tExcess RP noise : 0.0447 + 0.0242 - 0.0205 [0.0063, 0.1173]\n",
      "\t\t\tExcess TESS noise : 0.0649 + 0.0421 - 0.0299 [0.0058, 0.1881]\n",
      "\t\t\tExcess IRAC 36 noise : 0.1657 + 0.1272 - 0.0898 [0.0086, 0.5678]\n",
      "\t\t\tExcess IRAC 45 noise : 0.1832 + 0.1698 - 0.0954 [0.0104, 0.9013]\n",
      "\t\t\tMamajek Spectral Type : G7V\n",
      "\t\t\tphoenix probability : 0.4101\n",
      "\t\t\tbtsettl probability : 0.1831\n",
      "\t\t\tkurucz probability : 0.1399\n",
      "\t\t\tck04 probability : 0.2669\n",
      "\t\t\tElapsed time : 2 days, 4 hours, 9 minutes and 22.69 seconds\n"
     ]
    }
   ],
   "source": [
    "f.fit_bma()"
   ]
  },
  {
   "cell_type": "code",
   "execution_count": 1,
   "metadata": {},
   "outputs": [
    {
     "name": "stdout",
     "output_type": "stream",
     "text": [
      "L_X / L_Bol:  4.737790480924568e-05 -4.3244241489721125\n"
     ]
    }
   ],
   "source": [
    "import numpy as np\n",
    "\n",
    "Lbol_sun = 4 * 10**33\n",
    "L_bol = Lbol_sun * 3.2188\n",
    "L_x = 6.1*10**29\n",
    "\n",
    "print(\"L_X / L_Bol: \",L_x/L_bol,np.log10(L_x/L_bol))"
   ]
  }
 ],
 "metadata": {
  "kernelspec": {
   "display_name": "Python 3 (ipykernel)",
   "language": "python",
   "name": "python3"
  },
  "language_info": {
   "codemirror_mode": {
    "name": "ipython",
    "version": 3
   },
   "file_extension": ".py",
   "mimetype": "text/x-python",
   "name": "python",
   "nbconvert_exporter": "python",
   "pygments_lexer": "ipython3",
   "version": "3.8.10"
  }
 },
 "nbformat": 4,
 "nbformat_minor": 4
}
