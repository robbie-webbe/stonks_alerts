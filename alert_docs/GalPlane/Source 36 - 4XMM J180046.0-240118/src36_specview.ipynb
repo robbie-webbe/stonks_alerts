{
 "cells": [
  {
   "cell_type": "code",
   "execution_count": 1,
   "metadata": {},
   "outputs": [],
   "source": [
    "%load_ext wurlitzer\n",
    "import numpy as np\n",
    "import glob\n",
    "import os\n",
    "import matplotlib.pyplot as plt\n",
    "from astropy.io import fits\n",
    "from xspec import *\n",
    "plt.rcParams['figure.figsize'] = [9,6]"
   ]
  },
  {
   "cell_type": "code",
   "execution_count": 2,
   "metadata": {},
   "outputs": [],
   "source": [
    "import numpy as np\n",
    "out_arr = np.full((4,19),-np.inf,dtype=object)"
   ]
  },
  {
   "cell_type": "code",
   "execution_count": 3,
   "metadata": {},
   "outputs": [
    {
     "name": "stdout",
     "output_type": "stream",
     "text": [
      "\n",
      "1 spectrum  in use\n",
      " \n",
      "Spectral Data File: 0886090501_PN141grpspec.fits  Spectrum 1\n",
      "Net count rate (cts/s) for Spectrum:1  1.037e-02 +/- 1.891e-03 (33.5 % total)\n",
      " Assigned to Data Group 1 and Plot Group 1\n",
      "  Noticed Channels:  1-19\n",
      "  Telescope: XMM Instrument: EPN  Channel Type: PI\n",
      "  Exposure Time: 1.01e+04 sec\n",
      " Using fit statistic: chi\n",
      " Using Background File                0886090501_PN141spec_bkg.fits\n",
      "  Background Exposure Time: 1.01e+04 sec\n",
      " Using Response (RMF) File            0886090501_PN141spec.rmf for Source 1\n",
      " Using Auxiliary Response (ARF) File  0886090501_PN141spec.arf\n",
      "\n"
     ]
    }
   ],
   "source": [
    "spec_file = sorted(glob.glob(\"*grpspec.fits\"))\n",
    "spec = Spectrum(spec_file[0])"
   ]
  },
  {
   "cell_type": "code",
   "execution_count": 4,
   "metadata": {},
   "outputs": [
    {
     "data": {
      "image/svg+xml": [
       "<svg xmlns=\"http://www.w3.org/2000/svg\" xmlns:xlink=\"http://www.w3.org/1999/xlink\" style=\"fill-rule: nonzero; stroke-linecap: round; stroke-linejoin: round; transform: scale(1,-1);\" version=\"1.1\" viewbox=\"          225.691483            27.140120          7357.857910          5618.850098\" width=\"100%\" height=\"100%\" preserveAspectRatio=\"xMidYMid\">\n",
       "<style>\n",
       "  .fn { font-family: Arial,Helvetica,sans-serif; }\n",
       "  .fN { font-family: Arial,Helvetica,sans-serif; font-weight: bold;}\n",
       "  .fr { font-family: Times,Times-Roman,Times New Roman,serif; }\n",
       "  .fR { font-family: Times,Times-Roman,Times New Roman,serif; font-weight: bold;}\n",
       "  .fi { font-family: Times,Times-Roman,Times New Roman,serif; font-style: italic;}\n",
       "  .fI { font-family: Times,Times-Roman,Times New Roman,serif; font-style: italic; font-weight: bold;}\n",
       "  .fs { font-family: Zapf-Chancery,Apple Chancery,URW Chancery L,cursive;}\n",
       "  .fS { font-family: Zapf-Chancery,Apple Chancery,URW Chancery L,cursive;font-weight:bold}\n",
       "  .fc { font-family: Arial Narrow,Helvetica Narrow,Arial,Helvetica,sans-serif;}\n",
       "  .fC { font-family: Arial Narrow,Helvetica Narrow,Arial,Helvetica,sans-serif; font-weight:bold;}\n",
       "</style>\n",
       "<g style=\"color: rgb(0, 0, 0); fill: currentColor; stroke: currentColor; stroke-width: 8\">\n",
       "\n",
       "<path fill=\"none\" d=\"M 742 576 l 5935 0 l 0 4607 l -5935 0 l 0 -4607 M 1490 576 l 0 33 M 1977 576 l 0 33 M 2323 576 l 0 33  M 2591 576 l 0 33 M 2810 576 l 0 33 M 2995 576 l 0 33 M 3156 576 l 0 33 M 3297 576 l 0 33 M 3424 576 l 0 66  M 4256 576 l 0 33 M 4743 576 l 0 33 M 5089 576 l 0 33 M 5357 576 l 0 33 M 5576 576 l 0 33 M 5761 576 l 0 33  M 5922 576 l 0 33 M 6063 576 l 0 33 M 6190 576 l 0 66 M 1490 5150 l 0 33 M 1977 5150 l 0 33 M 2323 5150 l 0 33  M 2591 5150 l 0 33 M 2810 5150 l 0 33 M 2995 5150 l 0 33 M 3156 5150 l 0 33 M 3297 5150 l 0 33 M 3424 5117 l 0 66  M 4256 5150 l 0 33 M 4743 5150 l 0 33 M 5089 5150 l 0 33 M 5357 5150 l 0 33 M 5576 5150 l 0 33 M 5761 5150 l 0 33  M 5922 5150 l 0 33 M 6063 5150 l 0 33 M 6190 5117 l 0 66 \"/>\n",
       "<text transform=\"translate(3379,403) scale(1,-1)\"><tspan class=\"fn\" style=\"font-size: 886%;\">1</tspan></text>\n",
       "<text transform=\"translate(6101,403) scale(1,-1)\"><tspan class=\"fn\" style=\"font-size: 886%;\">10</tspan></text>\n",
       "\n",
       "<path fill=\"none\" d=\"M 742 576 l 66 0 M 742 951 l 33 0 M 742 1170 l 33 0 M 742 1326 l 33 0 M 742 1446 l 33 0 M 742 1545 l 33 0  M 742 1629 l 33 0 M 742 1701 l 33 0 M 742 1764 l 33 0 M 742 1821 l 66 0 M 742 2196 l 33 0 M 742 2416 l 33 0  M 742 2571 l 33 0 M 742 2692 l 33 0 M 742 2791 l 33 0 M 742 2874 l 33 0 M 742 2946 l 33 0 M 742 3010 l 33 0  M 742 3067 l 66 0 M 742 3442 l 33 0 M 742 3661 l 33 0 M 742 3817 l 33 0 M 742 3938 l 33 0 M 742 4036 l 33 0  M 742 4120 l 33 0 M 742 4192 l 33 0 M 742 4256 l 33 0 M 742 4313 l 66 0 M 742 4687 l 33 0 M 742 4907 l 33 0  M 742 5062 l 33 0 M 6611 576 l 66 0 M 6644 951 l 33 0 M 6644 1170 l 33 0 M 6644 1326 l 33 0 M 6644 1446 l 33 0  M 6644 1545 l 33 0 M 6644 1629 l 33 0 M 6644 1701 l 33 0 M 6644 1764 l 33 0 M 6611 1821 l 66 0 M 6644 2196 l 33 0  M 6644 2416 l 33 0 M 6644 2571 l 33 0 M 6644 2692 l 33 0 M 6644 2791 l 33 0 M 6644 2874 l 33 0 M 6644 2946 l 33 0  M 6644 3010 l 33 0 M 6611 3067 l 66 0 M 6644 3442 l 33 0 M 6644 3661 l 33 0 M 6644 3817 l 33 0 M 6644 3938 l 33 0  M 6644 4036 l 33 0 M 6644 4120 l 33 0 M 6644 4192 l 33 0 M 6644 4256 l 33 0 M 6611 4313 l 66 0 M 6644 4687 l 33 0  M 6644 4907 l 33 0 M 6644 5062 l 33 0 \"/>\n",
       "<text transform=\"translate(641,432) scale(1,-1) rotate(-90)\"><tspan class=\"fn\" style=\"font-size: 886%;\">10<tspan style=\"font-size: 60%;\" dy=\"-0.6em\">−5<tspan style=\"font-size: 166.667%;\" dy=\"+0.36em\"/></tspan></tspan></text>\n",
       "<text transform=\"translate(641,1678) scale(1,-1) rotate(-90)\"><tspan class=\"fn\" style=\"font-size: 886%;\">10<tspan style=\"font-size: 60%;\" dy=\"-0.6em\">−4<tspan style=\"font-size: 166.667%;\" dy=\"+0.36em\"/></tspan></tspan></text>\n",
       "<text transform=\"translate(641,2923) scale(1,-1) rotate(-90)\"><tspan class=\"fn\" style=\"font-size: 886%;\">10<tspan style=\"font-size: 60%;\" dy=\"-0.6em\">−3<tspan style=\"font-size: 166.667%;\" dy=\"+0.36em\"/></tspan></tspan></text>\n",
       "<text transform=\"translate(641,4157) scale(1,-1) rotate(-90)\"><tspan class=\"fn\" style=\"font-size: 886%;\">0.01</tspan></text>\n",
       "</g>\n",
       "<g style=\"color: rgb(0, 0, 0); fill: currentColor; stroke: currentColor; stroke-width: 4\">\n",
       "<defs>\n",
       "<symbol id=\"M1\" overflow=\"visible\">\n",
       "<circle r=\"1\" fill=\"none\" stroke-width=\"1\"/>\n",
       "</symbol>\n",
       "</defs>\n",
       "<use xlink:href=\"#M1\" transform=\"translate(1079, 4656) scale(4.430)\"/>\n",
       "\n",
       "<path fill=\"none\" d=\"M 742 4656 l 600 0 M 1079 4466 l 0 331 \"/>\n",
       "<use xlink:href=\"#M1\" transform=\"translate(1763, 4843) scale(4.430)\"/>\n",
       "\n",
       "<path fill=\"none\" d=\"M 1630 4843 l 254 0 M 1763 4662 l 0 316 \"/>\n",
       "<use xlink:href=\"#M1\" transform=\"translate(2225, 3548) scale(4.430)\"/>\n",
       "\n",
       "<path fill=\"none\" d=\"M 1884 3548 l 607 0 M 2225 2071 l 0 1835 \"/>\n",
       "<use xlink:href=\"#M1\" transform=\"translate(2719, 3602) scale(4.430)\"/>\n",
       "\n",
       "<path fill=\"none\" d=\"M 2491 3602 l 420 0 M 2719 2740 l 0 1179 \"/>\n",
       "<use xlink:href=\"#M1\" transform=\"translate(3135, 2903) scale(4.430)\"/>\n",
       "\n",
       "<path fill=\"none\" d=\"M 2911 2903 l 412 0 M 3135 576 l 0 2948 \"/>\n",
       "<use xlink:href=\"#M1\" transform=\"translate(3485, 3400) scale(4.430)\"/>\n",
       "\n",
       "<path fill=\"none\" d=\"M 3323 3400 l 306 0 M 3485 2415 l 0 1314 \"/>\n",
       "<use xlink:href=\"#M1\" transform=\"translate(3759, 3677) scale(4.430)\"/>\n",
       "\n",
       "<path fill=\"none\" d=\"M 3629 3677 l 248 0 M 3759 3323 l 0 566 \"/>\n",
       "<use xlink:href=\"#M1\" transform=\"translate(4020, 2900) scale(4.430)\"/>\n",
       "\n",
       "<path fill=\"none\" d=\"M 3877 2900 l 271 0 M 4020 576 l 0 2831 \"/>\n",
       "<use xlink:href=\"#M1\" transform=\"translate(4247, 3158) scale(4.430)\"/>\n",
       "\n",
       "<path fill=\"none\" d=\"M 4148 3158 l 190 0 M 4247 576 l 0 2990 \"/>\n",
       "<use xlink:href=\"#M1\" transform=\"translate(4410, 3794) scale(4.430)\"/>\n",
       "\n",
       "<path fill=\"none\" d=\"M 4338 3794 l 140 0 M 4410 3524 l 0 449 M 4615 576 l 0 2226 \"/>\n",
       "<use xlink:href=\"#M1\" transform=\"translate(4797, 3703) scale(4.430)\"/>\n",
       "\n",
       "<path fill=\"none\" d=\"M 4737 3703 l 117 0 M 4797 3424 l 0 463 M 4989 576 l 0 2165 \"/>\n",
       "<use xlink:href=\"#M1\" transform=\"translate(5215, 2871) scale(4.430)\"/>\n",
       "\n",
       "<path fill=\"none\" d=\"M 5110 2871 l 202 0 M 5215 2009 l 0 1179 M 5429 576 l 0 1327 M 5657 576 l 0 1886 M 6412 576 l 0 1074 \"/>\n",
       "</g>\n",
       "<g style=\"color: rgb(0, 0, 0); fill: currentColor; stroke: currentColor; stroke-width: 8\">\n",
       "<text transform=\"translate(370,2317) scale(1,-1) rotate(-90)\"><tspan class=\"fn\" style=\"font-size: 886%;\">counts s<tspan style=\"font-size: 60%;\" dy=\"-0.6em\">−1<tspan style=\"font-size: 166.667%;\" dy=\"+0.36em\"> keV<tspan style=\"font-size: 60%;\" dy=\"-0.6em\">−1<tspan style=\"font-size: 166.667%;\" dy=\"+0.36em\"/></tspan></tspan></tspan></tspan></text>\n",
       "<text transform=\"translate(3255,215) scale(1,-1)\"><tspan class=\"fn\" style=\"font-size: 886%;\">Energy (keV)</tspan></text>\n",
       "<text transform=\"translate(3534,5442) scale(1,-1)\"><tspan class=\"fn\" style=\"font-size: 886%;\"><tspan class=\"fR\">data</tspan></tspan></text>\n",
       "</g>\n",
       "<g style=\"color: rgb(0, 0, 0); fill: currentColor; stroke: currentColor; stroke-width: 4\">\n",
       "<text transform=\"translate(6246,46) scale(1,-1)\"><tspan class=\"fn\" style=\"font-size: 531.6%;\">rwebbe  3−Sep−2025 10:41</tspan></text>\n",
       "</g>\n",
       "<!-- _PGPLOT_SVG_ATEND: viewbox=\"          225.691483            27.140120          7357.857910          5618.850098\" -->\n",
       "</svg>"
      ],
      "text/plain": [
       "<IPython.core.display.SVG object>"
      ]
     },
     "metadata": {},
     "output_type": "display_data"
    }
   ],
   "source": [
    "Plot.device =\"/svg\"\n",
    "Plot.xAxis=\"keV\"\n",
    "Plot.xLog=True\n",
    "Plot.yLog=True\n",
    "Plot.addCommand(\"Rescale Y 0.00001 0.05\")\n",
    "Plot(\"data\")"
   ]
  },
  {
   "cell_type": "code",
   "execution_count": 5,
   "metadata": {
    "scrolled": false
   },
   "outputs": [
    {
     "name": "stdout",
     "output_type": "stream",
     "text": [
      "\n",
      "========================================================================\n",
      "Model TBabs<1>*bbody<2> Source No.: 1   Active/On\n",
      "Model Model Component  Parameter  Unit     Value\n",
      " par  comp\n",
      "   1    1   TBabs      nH         10^22    1.00000      +/-  0.0          \n",
      "   2    2   bbody      kT         keV      3.00000      +/-  0.0          \n",
      "   3    2   bbody      norm                1.00000      +/-  0.0          \n",
      "________________________________________________________________________\n",
      "\n",
      "tbvabs Version 2.3\n",
      "Cosmic absorption with grains and H2, modified from\n",
      "Wilms, Allen, & McCray, 2000, ApJ 542, 914-924\n",
      "Questions: Joern Wilms\n",
      "joern.wilms@sternwarte.uni-erlangen.de\n",
      "joern.wilms@fau.de\n",
      "\n",
      "http://pulsar.sternwarte.uni-erlangen.de/wilms/research/tbabs/\n",
      "\n",
      "PLEASE NOTICE:\n",
      "To get the model described by the above paper\n",
      "you will also have to set the abundances:\n",
      "   abund wilm\n",
      "\n",
      "Note that this routine ignores the current cross section setting\n",
      "as it always HAS to use the Verner cross sections as a baseline.\n",
      "\n",
      "Fit statistic  : Chi-Squared              7.493928e+11     using 19 bins.\n",
      "\n",
      "Test statistic : Chi-Squared              7.493928e+11     using 19 bins.\n",
      " Null hypothesis probability of 0.000000e+00 with 16 degrees of freedom\n",
      " Current data and model not fit yet.\n",
      "                                   Parameters\n",
      "Chi-Squared  |beta|/N    Lvl          1:nH          2:kT        3:norm\n",
      "72.8554      0.0842424    -3      0.370103       1.30480   1.97175e-07\n",
      "72.6649      1.7045e+06   -2     0.0283819      0.582893   3.92170e-08\n",
      "65.1846      1.03513e+07   0    0.00820933      0.336248   1.27170e-07\n",
      "65.067       5.71577e+06   0   1.14716e-05      0.386061   1.29950e-07\n",
      "64.831       6.6265e+06    0   4.58218e-06      0.381024   1.34868e-07\n",
      "64.6466      6.03873e+06   0   1.42189e-06      0.377142   1.39181e-07\n",
      "64.5015      5.51227e+06   0   6.86921e-07      0.374141   1.42985e-07\n",
      "64.3863      5.04277e+06   0   3.41219e-07      0.371830   1.46357e-07\n",
      "64.2942      4.62533e+06   0   1.30151e-08      0.370070   1.49360e-07\n",
      "64.22        4.25495e+06   0   3.20335e-09      0.368756   1.52046e-07\n",
      "Number of trials exceeded: continue fitting? 64.1599      3.92678e+06   0   8.41664e-10      0.367808   1.54457e-07\n",
      "64.1108      3.63634e+06   0   2.70114e-10      0.367165   1.56631e-07\n",
      "64.0704      3.37948e+06   0   1.31152e-10      0.366777   1.58599e-07\n",
      "64.0369      3.15246e+06   0   6.33101e-11      0.366604   1.60387e-07\n",
      "64.0089      2.95189e+06   0   3.00759e-11      0.366615   1.62020e-07\n",
      "63.9853      2.77473e+06   0   1.37469e-11      0.366783   1.63515e-07\n",
      "63.9652      2.6183e+06    0   5.70329e-12      0.367085   1.64891e-07\n",
      "63.9481      2.48015e+06   0   1.73205e-12      0.367504   1.66164e-07\n",
      "63.9332      2.35817e+06   0   7.49840e-13      0.368024   1.67345e-07\n",
      "63.9202      2.25044e+06   0   2.63233e-13      0.368632   1.68446e-07\n",
      "Number of trials exceeded: continue fitting? 63.9088      2.15527e+06   0   2.17244e-14      0.369316   1.69478e-07\n",
      "63.8986      2.07117e+06   0   6.90747e-15      0.370061   1.70454e-07\n",
      "63.8895      1.9961e+06    0   3.17213e-15      0.370868   1.71369e-07\n",
      "========================================\n",
      " Variances and Principal Axes\n",
      "                 1        2        3  \n",
      " 3.1131E-15| -0.0000  -0.0000   1.0000  \n",
      " 8.5991E-03| -0.7941  -0.6077  -0.0000  \n",
      " 5.3601E-02|  0.6077  -0.7941   0.0000  \n",
      "----------------------------------------\n",
      "\n",
      "====================================\n",
      "  Covariance Matrix\n",
      "        1           2           3   \n",
      "   2.522e-02  -2.172e-02   5.150e-09\n",
      "  -2.172e-02   3.698e-02   2.721e-09\n",
      "   5.150e-09   2.721e-09   6.967e-15\n",
      "------------------------------------\n",
      "\n",
      "========================================================================\n",
      "Model TBabs<1>*bbody<2> Source No.: 1   Active/On\n",
      "Model Model Component  Parameter  Unit     Value\n",
      " par  comp\n",
      "   1    1   TBabs      nH         10^22    3.17213E-15  +/-  0.158809     \n",
      "   2    2   bbody      kT         keV      0.370868     +/-  0.192300     \n",
      "   3    2   bbody      norm                1.71369E-07  +/-  8.34685E-08  \n",
      "________________________________________________________________________\n",
      "\n",
      "\n",
      "Fit statistic  : Chi-Squared                   63.89     using 19 bins.\n",
      "\n",
      "Test statistic : Chi-Squared                   63.89     using 19 bins.\n",
      " Null hypothesis probability of 1.14e-07 with 16 degrees of freedom\n"
     ]
    },
    {
     "data": {
      "image/svg+xml": [
       "<svg xmlns=\"http://www.w3.org/2000/svg\" xmlns:xlink=\"http://www.w3.org/1999/xlink\" style=\"fill-rule: nonzero; stroke-linecap: round; stroke-linejoin: round; transform: scale(1,-1);\" version=\"1.1\" viewbox=\"           -8.104365            27.140120          7591.653809          5564.965820\" width=\"100%\" height=\"100%\" preserveAspectRatio=\"xMidYMid\">\n",
       "<style>\n",
       "  .fn { font-family: Arial,Helvetica,sans-serif; }\n",
       "  .fN { font-family: Arial,Helvetica,sans-serif; font-weight: bold;}\n",
       "  .fr { font-family: Times,Times-Roman,Times New Roman,serif; }\n",
       "  .fR { font-family: Times,Times-Roman,Times New Roman,serif; font-weight: bold;}\n",
       "  .fi { font-family: Times,Times-Roman,Times New Roman,serif; font-style: italic;}\n",
       "  .fI { font-family: Times,Times-Roman,Times New Roman,serif; font-style: italic; font-weight: bold;}\n",
       "  .fs { font-family: Zapf-Chancery,Apple Chancery,URW Chancery L,cursive;}\n",
       "  .fS { font-family: Zapf-Chancery,Apple Chancery,URW Chancery L,cursive;font-weight:bold}\n",
       "  .fc { font-family: Arial Narrow,Helvetica Narrow,Arial,Helvetica,sans-serif;}\n",
       "  .fC { font-family: Arial Narrow,Helvetica Narrow,Arial,Helvetica,sans-serif; font-weight:bold;}\n",
       "</style>\n",
       "<g style=\"color: rgb(0, 0, 0); fill: currentColor; stroke: currentColor; stroke-width: 8\">\n",
       "\n",
       "<path fill=\"none\" d=\"M 742 2304 l 5935 0 l 0 2879 l -5935 0 l 0 -2879 M 1490 2304 l 0 28 M 1977 2304 l 0 28 M 2323 2304 l 0 28  M 2591 2304 l 0 28 M 2810 2304 l 0 28 M 2995 2304 l 0 28 M 3156 2304 l 0 28 M 3297 2304 l 0 28 M 3424 2304 l 0 56  M 4256 2304 l 0 28 M 4743 2304 l 0 28 M 5089 2304 l 0 28 M 5357 2304 l 0 28 M 5576 2304 l 0 28 M 5761 2304 l 0 28  M 5922 2304 l 0 28 M 6063 2304 l 0 28 M 6190 2304 l 0 56 M 1490 5155 l 0 28 M 1977 5155 l 0 28 M 2323 5155 l 0 28  M 2591 5155 l 0 28 M 2810 5155 l 0 28 M 2995 5155 l 0 28 M 3156 5155 l 0 28 M 3297 5155 l 0 28 M 3424 5127 l 0 56  M 4256 5155 l 0 28 M 4743 5155 l 0 28 M 5089 5155 l 0 28 M 5357 5155 l 0 28 M 5576 5155 l 0 28 M 5761 5155 l 0 28  M 5922 5155 l 0 28 M 6063 5155 l 0 28 M 6190 5127 l 0 56 M 742 2304 l 56 0 M 742 2538 l 28 0 M 742 2675 l 28 0  M 742 2772 l 28 0 M 742 2848 l 28 0 M 742 2909 l 28 0 M 742 2961 l 28 0 M 742 3007 l 28 0 M 742 3046 l 28 0  M 742 3082 l 56 0 M 742 3316 l 28 0 M 742 3453 l 28 0 M 742 3551 l 28 0 M 742 3626 l 28 0 M 742 3688 l 28 0  M 742 3740 l 28 0 M 742 3785 l 28 0 M 742 3825 l 28 0 M 742 3861 l 56 0 M 742 4095 l 28 0 M 742 4232 l 28 0  M 742 4329 l 28 0 M 742 4405 l 28 0 M 742 4466 l 28 0 M 742 4518 l 28 0 M 742 4564 l 28 0 M 742 4603 l 28 0  M 742 4639 l 56 0 M 742 4873 l 28 0 M 742 5010 l 28 0 M 742 5108 l 28 0 M 6621 2304 l 56 0 M 6649 2538 l 28 0  M 6649 2675 l 28 0 M 6649 2772 l 28 0 M 6649 2848 l 28 0 M 6649 2909 l 28 0 M 6649 2961 l 28 0 M 6649 3007 l 28 0  M 6649 3046 l 28 0 M 6621 3082 l 56 0 M 6649 3316 l 28 0 M 6649 3453 l 28 0 M 6649 3551 l 28 0 M 6649 3626 l 28 0  M 6649 3688 l 28 0 M 6649 3740 l 28 0 M 6649 3785 l 28 0 M 6649 3825 l 28 0 M 6621 3861 l 56 0 M 6649 4095 l 28 0  M 6649 4232 l 28 0 M 6649 4329 l 28 0 M 6649 4405 l 28 0 M 6649 4466 l 28 0 M 6649 4518 l 28 0 M 6649 4564 l 28 0  M 6649 4603 l 28 0 M 6621 4639 l 56 0 M 6649 4873 l 28 0 M 6649 5010 l 28 0 M 6649 5108 l 28 0 \"/>\n",
       "<text transform=\"translate(412,2266) scale(1,-1)\"><tspan class=\"fn\" style=\"font-size: 753.1%;\">10<tspan style=\"font-size: 60%;\" dy=\"-0.6em\">−5<tspan style=\"font-size: 166.667%;\" dy=\"+0.36em\"/></tspan></tspan></text>\n",
       "<text transform=\"translate(412,3045) scale(1,-1)\"><tspan class=\"fn\" style=\"font-size: 753.1%;\">10<tspan style=\"font-size: 60%;\" dy=\"-0.6em\">−4<tspan style=\"font-size: 166.667%;\" dy=\"+0.36em\"/></tspan></tspan></text>\n",
       "<text transform=\"translate(412,3823) scale(1,-1)\"><tspan class=\"fn\" style=\"font-size: 753.1%;\">10<tspan style=\"font-size: 60%;\" dy=\"-0.6em\">−3<tspan style=\"font-size: 166.667%;\" dy=\"+0.36em\"/></tspan></tspan></text>\n",
       "<text transform=\"translate(391,4602) scale(1,-1)\"><tspan class=\"fn\" style=\"font-size: 753.1%;\">0.01</tspan></text>\n",
       "</g>\n",
       "<g style=\"color: rgb(0, 0, 0); fill: currentColor; stroke: currentColor; stroke-width: 4\">\n",
       "<defs>\n",
       "<symbol id=\"M1\" overflow=\"visible\">\n",
       "<circle r=\"1\" fill=\"none\" stroke-width=\"1\"/>\n",
       "</symbol>\n",
       "</defs>\n",
       "<use xlink:href=\"#M1\" transform=\"translate(1079, 4854) scale(4.430)\"/>\n",
       "\n",
       "<path fill=\"none\" d=\"M 742 4854 l 600 0 M 1079 4735 l 0 207 \"/>\n",
       "<use xlink:href=\"#M1\" transform=\"translate(1763, 4970) scale(4.430)\"/>\n",
       "\n",
       "<path fill=\"none\" d=\"M 1630 4970 l 254 0 M 1763 4857 l 0 198 \"/>\n",
       "<use xlink:href=\"#M1\" transform=\"translate(2225, 4161) scale(4.430)\"/>\n",
       "\n",
       "<path fill=\"none\" d=\"M 1884 4161 l 607 0 M 2225 3238 l 0 1147 \"/>\n",
       "<use xlink:href=\"#M1\" transform=\"translate(2719, 4195) scale(4.430)\"/>\n",
       "\n",
       "<path fill=\"none\" d=\"M 2491 4195 l 420 0 M 2719 3656 l 0 737 \"/>\n",
       "<use xlink:href=\"#M1\" transform=\"translate(3135, 3758) scale(4.430)\"/>\n",
       "\n",
       "<path fill=\"none\" d=\"M 2911 3758 l 412 0 M 3135 2304 l 0 1842 \"/>\n",
       "<use xlink:href=\"#M1\" transform=\"translate(3485, 4069) scale(4.430)\"/>\n",
       "\n",
       "<path fill=\"none\" d=\"M 3323 4069 l 306 0 M 3485 3453 l 0 821 \"/>\n",
       "<use xlink:href=\"#M1\" transform=\"translate(3759, 4242) scale(4.430)\"/>\n",
       "\n",
       "<path fill=\"none\" d=\"M 3629 4242 l 248 0 M 3759 4021 l 0 353 \"/>\n",
       "<use xlink:href=\"#M1\" transform=\"translate(4020, 3756) scale(4.430)\"/>\n",
       "\n",
       "<path fill=\"none\" d=\"M 3877 3756 l 271 0 M 4020 2304 l 0 1769 \"/>\n",
       "<use xlink:href=\"#M1\" transform=\"translate(4247, 3917) scale(4.430)\"/>\n",
       "\n",
       "<path fill=\"none\" d=\"M 4148 3917 l 190 0 M 4247 2304 l 0 1869 \"/>\n",
       "<use xlink:href=\"#M1\" transform=\"translate(4410, 4315) scale(4.430)\"/>\n",
       "\n",
       "<path fill=\"none\" d=\"M 4338 4315 l 140 0 M 4410 4146 l 0 281 M 4615 2304 l 0 1391 \"/>\n",
       "<use xlink:href=\"#M1\" transform=\"translate(4797, 4258) scale(4.430)\"/>\n",
       "\n",
       "<path fill=\"none\" d=\"M 4737 4258 l 117 0 M 4797 4084 l 0 289 M 4989 2304 l 0 1353 \"/>\n",
       "<use xlink:href=\"#M1\" transform=\"translate(5215, 3738) scale(4.430)\"/>\n",
       "\n",
       "<path fill=\"none\" d=\"M 5110 3738 l 202 0 M 5215 3199 l 0 737 M 5429 2304 l 0 829 M 5657 2304 l 0 1178 M 6412 2304 l 0 671 \"/>\n",
       "</g>\n",
       "<g style=\"color: rgb(0, 0, 0); fill: currentColor; stroke: currentColor; stroke-width: 8\">\n",
       "\n",
       "<path fill=\"none\" d=\"M 742 3883 l 600 0 l 0 4 l 288 0 l 0 -10 l 254 0 l 0 83 l 607 0 l 0 122 l 420 0 l 0 88  l 412 0 l 0 -11 l 306 0 l 0 -72 l 248 0 l 0 -146 l 271 0 l 0 -227 l 190 0 l 0 -258 l 140 0  l 0 -301 l 259 0 l 0 -291 l 117 0 l 0 -346 l 256 0 l 0 -214 M 742 3883 l 600 0 M 1079 3883 l 0 0  M 1342 3887 l 288 0 M 1494 3887 l 0 0 M 1630 3877 l 254 0 M 1763 3877 l 0 0 M 1884 3960 l 607 0 M 2225 3960 l 0 0  M 2491 4082 l 420 0 M 2719 4082 l 0 0 M 2911 4170 l 412 0 M 3135 4170 l 0 0 M 3323 4159 l 306 0 M 3485 4159 l 0 0  M 3629 4087 l 248 0 M 3759 4087 l 0 0 M 3877 3941 l 271 0 M 4020 3941 l 0 0 M 4148 3714 l 190 0 M 4247 3714 l 0 0  M 4338 3456 l 140 0 M 4410 3456 l 0 0 M 4478 3155 l 259 0 M 4615 3155 l 0 0 M 4737 2864 l 117 0 M 4797 2864 l 0 0  M 4854 2518 l 256 0 M 4989 2518 l 0 0 \"/>\n",
       "<text transform=\"translate(111,3265) scale(1,-1) rotate(-90)\"><tspan class=\"fn\" style=\"font-size: 753.1%;\">counts s<tspan style=\"font-size: 60%;\" dy=\"-0.6em\">−1<tspan style=\"font-size: 166.667%;\" dy=\"+0.36em\"> keV<tspan style=\"font-size: 60%;\" dy=\"-0.6em\">−1<tspan style=\"font-size: 166.667%;\" dy=\"+0.36em\"/></tspan></tspan></tspan></tspan></text>\n",
       "<text transform=\"translate(2971,5403) scale(1,-1)\"><tspan class=\"fn\" style=\"font-size: 753.1%;\"><tspan class=\"fR\">data and folded model</tspan></tspan></text>\n",
       "\n",
       "<path fill=\"none\" d=\"M 742 576 l 5935 0 l 0 1728 l -5935 0 l 0 -1728 M 1490 576 l 0 28 M 1977 576 l 0 28 M 2323 576 l 0 28  M 2591 576 l 0 28 M 2810 576 l 0 28 M 2995 576 l 0 28 M 3156 576 l 0 28 M 3297 576 l 0 28 M 3424 576 l 0 56  M 4256 576 l 0 28 M 4743 576 l 0 28 M 5089 576 l 0 28 M 5357 576 l 0 28 M 5576 576 l 0 28 M 5761 576 l 0 28  M 5922 576 l 0 28 M 6063 576 l 0 28 M 6190 576 l 0 56 M 1490 2275 l 0 29 M 1977 2275 l 0 29 M 2323 2275 l 0 29  M 2591 2275 l 0 29 M 2810 2275 l 0 29 M 2995 2275 l 0 29 M 3156 2275 l 0 29 M 3297 2275 l 0 29 M 3424 2247 l 0 57  M 4256 2275 l 0 29 M 4743 2275 l 0 29 M 5089 2275 l 0 29 M 5357 2275 l 0 29 M 5576 2275 l 0 29 M 5761 2275 l 0 29  M 5922 2275 l 0 29 M 6063 2275 l 0 29 M 6190 2247 l 0 57 \"/>\n",
       "<text transform=\"translate(3385,429) scale(1,-1)\"><tspan class=\"fn\" style=\"font-size: 753.1%;\">1</tspan></text>\n",
       "<text transform=\"translate(6114,429) scale(1,-1)\"><tspan class=\"fn\" style=\"font-size: 753.1%;\">10</tspan></text>\n",
       "\n",
       "<path fill=\"none\" d=\"M 742 662 l 56 0 M 742 918 l 28 0 M 742 1174 l 56 0 M 742 1430 l 28 0 M 742 1687 l 56 0 M 742 1943 l 28 0  M 742 2199 l 56 0 M 6621 662 l 56 0 M 6649 918 l 28 0 M 6621 1174 l 56 0 M 6649 1430 l 28 0 M 6621 1687 l 56 0  M 6649 1943 l 28 0 M 6621 2199 l 56 0 \"/>\n",
       "<text transform=\"translate(580,625) scale(1,-1)\"><tspan class=\"fn\" style=\"font-size: 753.1%;\">0</tspan></text>\n",
       "<text transform=\"translate(391,1137) scale(1,-1)\"><tspan class=\"fn\" style=\"font-size: 753.1%;\">0.02</tspan></text>\n",
       "<text transform=\"translate(391,1649) scale(1,-1)\"><tspan class=\"fn\" style=\"font-size: 753.1%;\">0.04</tspan></text>\n",
       "<text transform=\"translate(391,2162) scale(1,-1)\"><tspan class=\"fn\" style=\"font-size: 753.1%;\">0.06</tspan></text>\n",
       "</g>\n",
       "<g style=\"color: rgb(0, 0, 0); fill: currentColor; stroke: currentColor; stroke-width: 4\">\n",
       "<use xlink:href=\"#M1\" transform=\"translate(1079, 1118) scale(4.430)\"/>\n",
       "\n",
       "<path fill=\"none\" d=\"M 742 1118 l 600 0 M 1079 975 l 0 287 \"/>\n",
       "<use xlink:href=\"#M1\" transform=\"translate(1494, 2262) scale(4.430)\"/>\n",
       "\n",
       "<path fill=\"none\" d=\"M 1342 2262 l 288 0 M 1494 1939 l 0 365 \"/>\n",
       "<use xlink:href=\"#M1\" transform=\"translate(1763, 1318) scale(4.430)\"/>\n",
       "\n",
       "<path fill=\"none\" d=\"M 1630 1318 l 254 0 M 1763 1123 l 0 389 \"/>\n",
       "<use xlink:href=\"#M1\" transform=\"translate(2225, 690) scale(4.430)\"/>\n",
       "\n",
       "<path fill=\"none\" d=\"M 1884 690 l 607 0 M 2225 632 l 0 116 \"/>\n",
       "<use xlink:href=\"#M1\" transform=\"translate(2719, 682) scale(4.430)\"/>\n",
       "\n",
       "<path fill=\"none\" d=\"M 2491 682 l 420 0 M 2719 627 l 0 110 \"/>\n",
       "<use xlink:href=\"#M1\" transform=\"translate(3135, 617) scale(4.430)\"/>\n",
       "\n",
       "<path fill=\"none\" d=\"M 2911 617 l 412 0 M 3135 576 l 0 82 \"/>\n",
       "<use xlink:href=\"#M1\" transform=\"translate(3485, 647) scale(4.430)\"/>\n",
       "\n",
       "<path fill=\"none\" d=\"M 3323 647 l 306 0 M 3485 608 l 0 79 \"/>\n",
       "<use xlink:href=\"#M1\" transform=\"translate(3759, 691) scale(4.430)\"/>\n",
       "\n",
       "<path fill=\"none\" d=\"M 3629 691 l 248 0 M 3759 653 l 0 76 \"/>\n",
       "<use xlink:href=\"#M1\" transform=\"translate(4020, 648) scale(4.430)\"/>\n",
       "\n",
       "<path fill=\"none\" d=\"M 3877 648 l 271 0 M 4020 619 l 0 59 \"/>\n",
       "<use xlink:href=\"#M1\" transform=\"translate(4247, 676) scale(4.430)\"/>\n",
       "\n",
       "<path fill=\"none\" d=\"M 4148 676 l 190 0 M 4247 641 l 0 69 \"/>\n",
       "<use xlink:href=\"#M1\" transform=\"translate(4410, 752) scale(4.430)\"/>\n",
       "\n",
       "<path fill=\"none\" d=\"M 4338 752 l 140 0 M 4410 714 l 0 77 \"/>\n",
       "<use xlink:href=\"#M1\" transform=\"translate(4615, 655) scale(4.430)\"/>\n",
       "\n",
       "<path fill=\"none\" d=\"M 4478 655 l 259 0 M 4615 636 l 0 39 \"/>\n",
       "<use xlink:href=\"#M1\" transform=\"translate(4797, 744) scale(4.430)\"/>\n",
       "\n",
       "<path fill=\"none\" d=\"M 4737 744 l 117 0 M 4797 710 l 0 67 \"/>\n",
       "<use xlink:href=\"#M1\" transform=\"translate(4989, 661) scale(4.430)\"/>\n",
       "\n",
       "<path fill=\"none\" d=\"M 4854 661 l 256 0 M 4989 647 l 0 29 \"/>\n",
       "<use xlink:href=\"#M1\" transform=\"translate(5215, 680) scale(4.430)\"/>\n",
       "\n",
       "<path fill=\"none\" d=\"M 5110 680 l 202 0 M 5215 666 l 0 28 \"/>\n",
       "<use xlink:href=\"#M1\" transform=\"translate(5429, 654) scale(4.430)\"/>\n",
       "\n",
       "<path fill=\"none\" d=\"M 5312 654 l 224 0 M 5429 642 l 0 23 \"/>\n",
       "<use xlink:href=\"#M1\" transform=\"translate(5657, 661) scale(4.430)\"/>\n",
       "\n",
       "<path fill=\"none\" d=\"M 5536 661 l 231 0 M 5657 653 l 0 17 \"/>\n",
       "<use xlink:href=\"#M1\" transform=\"translate(5929, 655) scale(4.430)\"/>\n",
       "\n",
       "<path fill=\"none\" d=\"M 5767 655 l 304 0 M 5929 649 l 0 12 \"/>\n",
       "<use xlink:href=\"#M1\" transform=\"translate(6412, 662) scale(4.430)\"/>\n",
       "\n",
       "<path fill=\"none\" d=\"M 6071 662 l 606 0 M 6412 659 l 0 5 \"/>\n",
       "</g>\n",
       "<g style=\"color: rgb(0, 0, 0); fill: currentColor; stroke: currentColor; stroke-width: 8\">\n",
       "<text transform=\"translate(111,962) scale(1,-1) rotate(-90)\"><tspan class=\"fn\" style=\"font-size: 753.1%;\">counts s<tspan style=\"font-size: 60%;\" dy=\"-0.6em\">−1<tspan style=\"font-size: 166.667%;\" dy=\"+0.36em\"> keV<tspan style=\"font-size: 60%;\" dy=\"-0.6em\">−1<tspan style=\"font-size: 166.667%;\" dy=\"+0.36em\"/></tspan></tspan></tspan></tspan></text>\n",
       "<text transform=\"translate(3323,269) scale(1,-1)\"><tspan class=\"fn\" style=\"font-size: 753.1%;\">Energy (keV)</tspan></text>\n",
       "</g>\n",
       "<g style=\"color: rgb(0, 255, 0); fill: currentColor; stroke: currentColor; stroke-width: 8\">\n",
       "\n",
       "<path fill=\"none\" d=\"M 742 662 l 5935 0 \"/>\n",
       "</g>\n",
       "<g style=\"color: rgb(0, 0, 0); fill: currentColor; stroke: currentColor; stroke-width: 4\">\n",
       "<text transform=\"translate(6246,46) scale(1,-1)\"><tspan class=\"fn\" style=\"font-size: 531.6%;\">rwebbe  3−Sep−2025 10:41</tspan></text>\n",
       "</g>\n",
       "<!-- _PGPLOT_SVG_ATEND: viewbox=\"           -8.104365            27.140120          7591.653809          5564.965820\" -->\n",
       "</svg>"
      ],
      "text/plain": [
       "<IPython.core.display.SVG object>"
      ]
     },
     "metadata": {},
     "output_type": "display_data"
    },
    {
     "name": "stdout",
     "output_type": "stream",
     "text": [
      " Model Flux 8.4951e-06 photons (1.4264e-14 ergs/cm^2/s) range (0.20000 - 12.000 keV)\n"
     ]
    }
   ],
   "source": [
    "#spec.ignore(\"**-0.2 12.0-**\")\n",
    "AllModels.clear()\n",
    "mo1 = Model(\"tbabs*bbody\")\n",
    "Fit.perform()\n",
    "Plot(\"data resid\")\n",
    "AllModels.calcFlux(\"0.2 12.0\")"
   ]
  },
  {
   "cell_type": "code",
   "execution_count": 6,
   "metadata": {},
   "outputs": [
    {
     "name": "stdout",
     "output_type": "stream",
     "text": [
      "Cannot do error calc: Reduced Chi^2 (= 3.99309) > maximum (2)\n"
     ]
    },
    {
     "ename": "Exception",
     "evalue": "Error executing command: error",
     "output_type": "error",
     "traceback": [
      "\u001b[0;31m---------------------------------------------------------------------------\u001b[0m",
      "\u001b[0;31mException\u001b[0m                                 Traceback (most recent call last)",
      "\u001b[0;32m<ipython-input-6-21d339ad0c88>\u001b[0m in \u001b[0;36m<module>\u001b[0;34m\u001b[0m\n\u001b[0;32m----> 1\u001b[0;31m \u001b[0mFit\u001b[0m\u001b[0;34m.\u001b[0m\u001b[0merror\u001b[0m\u001b[0;34m(\u001b[0m\u001b[0;34m\"1\"\u001b[0m\u001b[0;34m)\u001b[0m\u001b[0;34m\u001b[0m\u001b[0;34m\u001b[0m\u001b[0m\n\u001b[0m\u001b[1;32m      2\u001b[0m \u001b[0mFit\u001b[0m\u001b[0;34m.\u001b[0m\u001b[0merror\u001b[0m\u001b[0;34m(\u001b[0m\u001b[0;34m\"2\"\u001b[0m\u001b[0;34m)\u001b[0m\u001b[0;34m\u001b[0m\u001b[0;34m\u001b[0m\u001b[0m\n\u001b[1;32m      3\u001b[0m \u001b[0;34m\u001b[0m\u001b[0m\n\u001b[1;32m      4\u001b[0m \u001b[0mout_arr\u001b[0m\u001b[0;34m[\u001b[0m\u001b[0;36m0\u001b[0m\u001b[0;34m,\u001b[0m\u001b[0;36m0\u001b[0m\u001b[0;34m]\u001b[0m \u001b[0;34m=\u001b[0m \u001b[0;34m'bbody'\u001b[0m\u001b[0;34m\u001b[0m\u001b[0;34m\u001b[0m\u001b[0m\n\u001b[1;32m      5\u001b[0m \u001b[0mout_arr\u001b[0m\u001b[0;34m[\u001b[0m\u001b[0;36m0\u001b[0m\u001b[0;34m,\u001b[0m\u001b[0;36m1\u001b[0m\u001b[0;34m:\u001b[0m\u001b[0;36m4\u001b[0m\u001b[0;34m]\u001b[0m \u001b[0;34m=\u001b[0m \u001b[0mmo\u001b[0m\u001b[0;34m.\u001b[0m\u001b[0mTBabs\u001b[0m\u001b[0;34m.\u001b[0m\u001b[0mnH\u001b[0m\u001b[0;34m.\u001b[0m\u001b[0mvalues\u001b[0m\u001b[0;34m[\u001b[0m\u001b[0;36m0\u001b[0m\u001b[0;34m]\u001b[0m\u001b[0;34m,\u001b[0m \u001b[0mmo\u001b[0m\u001b[0;34m.\u001b[0m\u001b[0mTBabs\u001b[0m\u001b[0;34m.\u001b[0m\u001b[0mnH\u001b[0m\u001b[0;34m.\u001b[0m\u001b[0mvalues\u001b[0m\u001b[0;34m[\u001b[0m\u001b[0;36m0\u001b[0m\u001b[0;34m]\u001b[0m \u001b[0;34m-\u001b[0m \u001b[0mmo\u001b[0m\u001b[0;34m.\u001b[0m\u001b[0mTBabs\u001b[0m\u001b[0;34m.\u001b[0m\u001b[0mnH\u001b[0m\u001b[0;34m.\u001b[0m\u001b[0merror\u001b[0m\u001b[0;34m[\u001b[0m\u001b[0;36m0\u001b[0m\u001b[0;34m]\u001b[0m\u001b[0;34m,\u001b[0m \u001b[0mmo\u001b[0m\u001b[0;34m.\u001b[0m\u001b[0mTBabs\u001b[0m\u001b[0;34m.\u001b[0m\u001b[0mnH\u001b[0m\u001b[0;34m.\u001b[0m\u001b[0merror\u001b[0m\u001b[0;34m[\u001b[0m\u001b[0;36m1\u001b[0m\u001b[0;34m]\u001b[0m \u001b[0;34m-\u001b[0m \u001b[0mmo\u001b[0m\u001b[0;34m.\u001b[0m\u001b[0mTBabs\u001b[0m\u001b[0;34m.\u001b[0m\u001b[0mnH\u001b[0m\u001b[0;34m.\u001b[0m\u001b[0mvalues\u001b[0m\u001b[0;34m[\u001b[0m\u001b[0;36m0\u001b[0m\u001b[0;34m]\u001b[0m\u001b[0;34m\u001b[0m\u001b[0;34m\u001b[0m\u001b[0m\n",
      "\u001b[0;32m~/astro_soft/heasoft-6.32.1/x86_64-pc-linux-gnu-libc2.31/lib/python/xspec/fit.py\u001b[0m in \u001b[0;36merror\u001b[0;34m(self, argString, respPar)\u001b[0m\n\u001b[1;32m    423\u001b[0m             \u001b[0merrorArgs\u001b[0m \u001b[0;34m=\u001b[0m \u001b[0;34m[\u001b[0m\u001b[0;34m\"error\"\u001b[0m\u001b[0;34m]\u001b[0m\u001b[0;34m\u001b[0m\u001b[0;34m\u001b[0m\u001b[0m\n\u001b[1;32m    424\u001b[0m         \u001b[0merrorArgs\u001b[0m \u001b[0;34m+=\u001b[0m \u001b[0margString\u001b[0m\u001b[0;34m.\u001b[0m\u001b[0msplit\u001b[0m\u001b[0;34m(\u001b[0m\u001b[0;34m)\u001b[0m\u001b[0;34m\u001b[0m\u001b[0;34m\u001b[0m\u001b[0m\n\u001b[0;32m--> 425\u001b[0;31m         \u001b[0m_pyXspec\u001b[0m\u001b[0;34m.\u001b[0m\u001b[0mdoXspecCmd\u001b[0m\u001b[0;34m(\u001b[0m\u001b[0merrorArgs\u001b[0m\u001b[0;34m)\u001b[0m\u001b[0;34m\u001b[0m\u001b[0;34m\u001b[0m\u001b[0m\n\u001b[0m\u001b[1;32m    426\u001b[0m \u001b[0;34m\u001b[0m\u001b[0m\n\u001b[1;32m    427\u001b[0m     \u001b[0;32mdef\u001b[0m \u001b[0mftest\u001b[0m\u001b[0;34m(\u001b[0m\u001b[0mself\u001b[0m\u001b[0;34m,\u001b[0m \u001b[0mchisq2\u001b[0m\u001b[0;34m,\u001b[0m \u001b[0mdof2\u001b[0m\u001b[0;34m,\u001b[0m \u001b[0mchisq1\u001b[0m\u001b[0;34m,\u001b[0m \u001b[0mdof1\u001b[0m\u001b[0;34m)\u001b[0m\u001b[0;34m:\u001b[0m\u001b[0;34m\u001b[0m\u001b[0;34m\u001b[0m\u001b[0m\n",
      "\u001b[0;31mException\u001b[0m: Error executing command: error"
     ]
    }
   ],
   "source": [
    "Fit.error(\"1\")\n",
    "Fit.error(\"2\")\n",
    "\n",
    "out_arr[0,0] = 'bbody'\n",
    "out_arr[0,1:4] = mo.TBabs.nH.values[0], mo.TBabs.nH.values[0] - mo.TBabs.nH.error[0], mo.TBabs.nH.error[1] - mo.TBabs.nH.values[0]\n",
    "out_arr[0,4:7] = mo.bbody.kT.values[0], mo.bbody.kT.values[0] - mo.bbody.kT.error[0], mo.bbody.kT.error[1] - mo.bbody.kT.values[0]\n",
    "out_arr[0,-2:] = Fit.dof, Fit.statistic / Fit.dof\n"
   ]
  },
  {
   "cell_type": "code",
   "execution_count": null,
   "metadata": {
    "scrolled": false
   },
   "outputs": [],
   "source": [
    "AllModels.clear()\n",
    "mo = Model(\"tbabs*powerlaw\")\n",
    "Fit.perform()\n",
    "Plot(\"data resid\")"
   ]
  },
  {
   "cell_type": "code",
   "execution_count": null,
   "metadata": {},
   "outputs": [],
   "source": [
    "Fit.error(\"1\")\n",
    "Fit.error(\"2\")\n",
    "\n",
    "out_arr[1,0] = 'powerlaw'\n",
    "out_arr[1,1:4] = mo.TBabs.nH.values[0], mo.TBabs.nH.values[0] - mo.TBabs.nH.error[0], mo.TBabs.nH.error[1] - mo.TBabs.nH.values[0]\n",
    "out_arr[1,14:17] = mo.powerlaw.PhoIndex.values[0], mo.powerlaw.PhoIndex.values[0] - mo.powerlaw.PhoIndex.error[0], mo.powerlaw.PhoIndex.error[1] - mo.powerlaw.PhoIndex.values[0]\n",
    "out_arr[1,-2:] = Fit.dof, Fit.statistic / Fit.dof\n"
   ]
  },
  {
   "cell_type": "code",
   "execution_count": null,
   "metadata": {
    "scrolled": false
   },
   "outputs": [],
   "source": [
    "AllModels.clear()\n",
    "mo = Model(\"tbabs*bremss\")\n",
    "Fit.perform()\n",
    "Plot(\"data resid\")"
   ]
  },
  {
   "cell_type": "code",
   "execution_count": null,
   "metadata": {},
   "outputs": [],
   "source": [
    "Fit.error(\"1\")\n",
    "Fit.error(\"2\")\n",
    "\n",
    "out_arr[3,0] = 'bremss'\n",
    "out_arr[3,1:4] = mo.TBabs.nH.values[0], mo.TBabs.nH.values[0] - mo.TBabs.nH.error[0], mo.TBabs.nH.error[1] - mo.TBabs.nH.values[0]\n",
    "out_arr[3,4:7] = mo.bremss.kT.values[0], mo.bremss.kT.values[0] - mo.bremss.kT.error[0], mo.bremss.kT.error[1] - mo.bremss.kT.values[0]\n",
    "out_arr[3,-2:] = Fit.dof, Fit.statistic / Fit.dof\n"
   ]
  },
  {
   "cell_type": "code",
   "execution_count": null,
   "metadata": {},
   "outputs": [],
   "source": [
    "AllModels.clear()\n",
    "mo = Model(\"tbabs*apec\")\n",
    "Fit.perform()\n",
    "Plot(\"data resid\")"
   ]
  },
  {
   "cell_type": "code",
   "execution_count": null,
   "metadata": {
    "scrolled": false
   },
   "outputs": [],
   "source": [
    "AllModels.clear()\n",
    "mo = Model(\"tbabs*(apec+apec)\")\n",
    "mo.apec.kT = 0.25\n",
    "mo.apec_3.kT = 4.0\n",
    "Fit.perform()\n",
    "Plot(\"data resid\")"
   ]
  },
  {
   "cell_type": "code",
   "execution_count": null,
   "metadata": {},
   "outputs": [],
   "source": [
    "Fit.error(\"1\")\n",
    "Fit.error(\"2\")\n",
    "Fit.error(\"6\")\n",
    "\n",
    "out_arr[2,0] = 'apec+apec'\n",
    "out_arr[2,1:4] = mo.TBabs.nH.values[0], mo.TBabs.nH.values[0] - mo.TBabs.nH.error[0], mo.TBabs.nH.error[1] - mo.TBabs.nH.values[0]\n",
    "out_arr[2,13] = mo.apec.Abundanc.values[0]\n",
    "out_arr[2,4:7] = mo.apec.kT.values[0], mo.apec.kT.values[0] - mo.apec.kT.error[0], mo.apec.kT.error[1] - mo.apec.kT.values[0]\n",
    "out_arr[2,7:10] = mo.apec.kT_3.values[0], mo.apec_3.kT.values[0] - mo.apec_3.kT.error[0], mo.apec_3.kT.error[1] - mo.apec_3.kT.values[0]\n",
    "out_arr[2,-2:] = Fit.dof, Fit.statistic / Fit.dof\n"
   ]
  },
  {
   "cell_type": "code",
   "execution_count": null,
   "metadata": {},
   "outputs": [],
   "source": [
    "np.savetxt('../spec11_output.csv',out_arr,fmt=['%s','%.2f','%.2f','%.2f','%.2f','%.2f','%.2f','%.2f','%.2f','%.2f','%.2f','%.2f','%.2f','%.1f','%.2f','%.2f','%.2f','%i','%.2f'],delimiter=',')\n"
   ]
  },
  {
   "cell_type": "code",
   "execution_count": null,
   "metadata": {},
   "outputs": [],
   "source": [
    "AllModels.calcFlux(\".2 12.0\")"
   ]
  },
  {
   "cell_type": "code",
   "execution_count": null,
   "metadata": {},
   "outputs": [],
   "source": [
    "#plx = 0.6016\n",
    "d_kpc = 8\n",
    "F_x = 1.546*10**-13\n",
    "\n",
    "L_x = 4*3.14*F_x*(d_kpc*3.086*10**21)**2\n",
    "print(L_x)"
   ]
  },
  {
   "cell_type": "code",
   "execution_count": null,
   "metadata": {},
   "outputs": [],
   "source": [
    "import numpy as np\n",
    "print(d_kpc)\n",
    "print(np.log10(L_x))"
   ]
  },
  {
   "cell_type": "code",
   "execution_count": null,
   "metadata": {},
   "outputs": [],
   "source": [
    "F_opt = 1.05*10**-5 * 10**(-0.4*20.7)\n",
    "print('Optical Flux: ',F_opt)\n",
    "print('F_x / F_opt: ', np.log10(F_x/F_opt))"
   ]
  },
  {
   "cell_type": "code",
   "execution_count": null,
   "metadata": {
    "scrolled": false
   },
   "outputs": [],
   "source": [
    "AllModels.clear()\n",
    "mo = Model(\"tbabs*(bbody+bremss)\")\n",
    "mo.bbody.kT = 0.1\n",
    "Fit.perform()\n",
    "Plot(\"data resid\")"
   ]
  }
 ],
 "metadata": {
  "kernelspec": {
   "display_name": "Python 3 (ipykernel)",
   "language": "python",
   "name": "python3"
  },
  "language_info": {
   "codemirror_mode": {
    "name": "ipython",
    "version": 3
   },
   "file_extension": ".py",
   "mimetype": "text/x-python",
   "name": "python",
   "nbconvert_exporter": "python",
   "pygments_lexer": "ipython3",
   "version": "3.8.10"
  }
 },
 "nbformat": 4,
 "nbformat_minor": 4
}
