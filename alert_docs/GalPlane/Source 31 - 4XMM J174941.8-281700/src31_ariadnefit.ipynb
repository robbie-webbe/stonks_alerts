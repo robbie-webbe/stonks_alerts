{
 "cells": [
  {
   "cell_type": "code",
   "execution_count": 1,
   "metadata": {},
   "outputs": [
    {
     "name": "stderr",
     "output_type": "stream",
     "text": [
      "Holoviews not imported. Some visualizations will not be available.\n",
      "PyMultiNest not imported.  MultiNest fits will not work.\n",
      "/home/rwebbe/.local/lib/python3.8/site-packages/astroARIADNE/fitter.py:43: UserWarning: (py)MultiNest installation (or libmultinest.dylib) not detected.\n",
      "  warnings.warn(\n"
     ]
    }
   ],
   "source": [
    "from astroARIADNE.star import Star\n",
    "from astroARIADNE.fitter import Fitter\n",
    "from dustmaps.config import config\n",
    "config['data_dir'] = '/home/rwebbe/data/dustmaps'"
   ]
  },
  {
   "cell_type": "code",
   "execution_count": 2,
   "metadata": {
    "scrolled": true
   },
   "outputs": [
    {
     "name": "stdout",
     "output_type": "stream",
     "text": [
      "\n",
      "\t\t#####################################\n",
      "\t\t##             ARIADNE             ##\n",
      "\t\t#####################################\n",
      "   spectrAl eneRgy dIstribution bAyesian moDel averagiNg fittEr\n",
      "\n",
      "\t\t\tAuthor : Jose Vines\n",
      "\t\t\tContact : jose . vines at ug . uchile . cl\n",
      "\t\t\tStar : 4057614866224108032\n",
      "\t\t*** LOOKING UP ARCHIVAL INFORMATION ***\n",
      "INFO: Query finished. [astroquery.utils.tap.core]\n",
      "Warning!: CatalogWarning\n",
      "Warning message: Invalid parallax found (plx <= 0)\n",
      "Warning!: CatalogWarning\n",
      "Warning message: Parameter teff not found! Be advised.\n",
      "Warning!: CatalogWarning\n",
      "Warning message: Parameter radius not found! Be advised.\n",
      "Warning!: CatalogWarning\n",
      "Warning message: Parameter lum not found! Be advised.\n",
      "INFO: Query finished. [astroquery.utils.tap.core]\n",
      "Star not found in catalog TYCHO2.\n",
      "INFO: Query finished. [astroquery.utils.tap.core]\n",
      "INFO: Query finished. [astroquery.utils.tap.core]\n",
      "Star not found in catalog SDSS.\n",
      "INFO: Query finished. [astroquery.utils.tap.core]\n",
      "Star not found in catalog Wise.\n",
      "INFO: Query finished. [astroquery.utils.tap.core]\n",
      "Star not found in catalog 2MASS.\n",
      "INFO: Query finished. [astroquery.utils.tap.core]\n",
      "Star not found in catalog APASS.\n",
      "Looking online for archival magnitudes for star 4057614866224108032\n",
      "Checking catalog Pan-STARRS1\n",
      "Warning!: CatalogWarning\n",
      "Warning message: gmag magnitude not found! Skipping.\n",
      "Checking catalog Gaia DR3\n",
      "Warning!: CatalogWarning\n",
      "Warning message: Star is not available in catalog GALEX. Skipping\n",
      "Checking catalog TICv8\n",
      "Checking catalog SkyMapper DR1.1\n",
      "Warning!: CatalogWarning\n",
      "Warning message: Catalog SkyMapper entry is either an extended source, is of bad quality or is contaminated. Skipping.\n",
      "Warning!: CatalogWarning\n",
      "Warning message: Star is not available in catalog STROMGREN_PAUNZ. Skipping\n",
      "Warning!: CatalogWarning\n",
      "Warning message: Star is not available in catalog STROMGREN_HAUCK. Skipping\n",
      "Warning!: CatalogWarning\n",
      "Warning message: Star is not available in catalog MERMILLIOD. Skipping\n",
      "\t\t\tGaia DR3 ID : 4057614866224108032\n",
      "\t\t\tTIC : 1427509698\n",
      "\t\t\tGaia Effective temperature : 0.000 +/- 0.000\n",
      "\t\t\tGaia Stellar radius : 0.000 +/- 0.000\n",
      "\t\t\tGaia Stellar Luminosity : 0.000 +/- 0.000\n",
      "\t\t\tGaia Parallax : -1.000 +/- -1.000\n",
      "\t\t\tBailer-Jones distance : 5132.276 +/- 2103.237\n",
      "\t\t\tMaximum Av : 41.831\n",
      "\n",
      "\t\t       Filter       \tMagnitude\tUncertainty\n",
      "\t\t--------------------\t---------\t-----------\n",
      "\t\t    GaiaDR2v2_BP    \t 21.2058 \t  0.1955   \n",
      "\t\t       PS1_r        \t 21.0472 \t  0.0296   \n",
      "\t\t    GaiaDR2v2_G     \t 20.6836 \t  0.0116   \n",
      "\t\t       PS1_i        \t 20.0446 \t  0.0106   \n",
      "\t\t    GaiaDR2v2_RP    \t 19.6402 \t  0.0818   \n",
      "\t\t        TESS        \t 20.2717 \t  0.0463   \n",
      "\t\t       PS1_z        \t 19.4632 \t  0.0242   \n",
      "\t\t       PS1_y        \t 18.9865 \t  0.0611   \n",
      "\n"
     ]
    }
   ],
   "source": [
    "gaia_id = 4057614866224108032\n",
    "ra = 267.4250571\n",
    "dec = -28.2839837\n",
    "starname = str(gaia_id)\n",
    "s = Star(starname, ra, dec, g_id = gaia_id, dustmap='Planck16')"
   ]
  },
  {
   "cell_type": "code",
   "execution_count": 3,
   "metadata": {},
   "outputs": [
    {
     "name": "stdout",
     "output_type": "stream",
     "text": [
      "Created the directory ariadnefit\n",
      "\n",
      "\t\t*** EXECUTING MAIN FITTING ROUTINE ***\n",
      "\t\t\tSelected engine : Bayesian Model Averaging\n",
      "\t\t\tLive points : 500\n",
      "\t\t\tlog Evidence tolerance : 0.5\n",
      "\t\t\tFree parameters : 14\n",
      "\t\t\tBounding : multi\n",
      "\t\t\tSampling : rwalk\n",
      "\t\t\tN threads : 4\n",
      "\n"
     ]
    }
   ],
   "source": [
    "out_folder = 'ariadnefit'\n",
    "\n",
    "engine = 'dynesty'\n",
    "nlive = 500\n",
    "dlogz = 0.5\n",
    "bound = 'multi'\n",
    "sample = 'rwalk'\n",
    "threads = 4\n",
    "dynamic = False\n",
    "setup = [engine, nlive, dlogz, bound, sample, threads, dynamic]\n",
    "\n",
    "models = ['phoenix','btsettl','btnextgen','btcond','kurucz','ck04']\n",
    "f = Fitter()\n",
    "f.star = s\n",
    "f.setup = setup\n",
    "f.av_law = 'fitzpatrick'\n",
    "f.out_folder = out_folder\n",
    "f.bma = True\n",
    "f.models = models\n",
    "f.n_samples = 100000\n",
    "\n",
    "f.prior_setup = {'teff': ('default'),'logg': ('default'),'z': ('default'),'dist': ('default'),'rad': ('default'),'Av': ('default')}\n",
    "f.initialize()\n"
   ]
  },
  {
   "cell_type": "code",
   "execution_count": 4,
   "metadata": {},
   "outputs": [
    {
     "name": "stdout",
     "output_type": "stream",
     "text": [
      "\t\t\tFITTING MODEL : phoenix\n"
     ]
    },
    {
     "name": "stderr",
     "output_type": "stream",
     "text": [
      "7574it [02:51, 44.13it/s, +500 | bound: 78 | nc: 1 | ncall: 163782 | eff(%):  4.945 | loglstar:   -inf < 239.730 <    inf | logz: 225.169 +/-  0.173 | dlogz:  0.001 >  0.500]\n"
     ]
    },
    {
     "name": "stdout",
     "output_type": "stream",
     "text": [
      "\t\t\tFITTING MODEL : btsettl\n"
     ]
    },
    {
     "name": "stderr",
     "output_type": "stream",
     "text": [
      "8459it [03:09, 44.64it/s, +500 | bound: 91 | nc: 1 | ncall: 186365 | eff(%):  4.820 | loglstar:   -inf < 240.124 <    inf | logz: 223.706 +/-    nan | dlogz:  0.001 >  0.500]\n"
     ]
    },
    {
     "name": "stdout",
     "output_type": "stream",
     "text": [
      "\t\t\tFITTING MODEL : btnextgen\n"
     ]
    },
    {
     "name": "stderr",
     "output_type": "stream",
     "text": [
      "8167it [02:56, 46.17it/s, +500 | bound: 88 | nc: 1 | ncall: 178017 | eff(%):  4.882 | loglstar:   -inf < 240.932 <    inf | logz: 225.155 +/-    nan | dlogz:  0.001 >  0.500]\n"
     ]
    },
    {
     "name": "stdout",
     "output_type": "stream",
     "text": [
      "\t\t\tFITTING MODEL : btcond\n"
     ]
    },
    {
     "name": "stderr",
     "output_type": "stream",
     "text": [
      "7828it [02:46, 46.95it/s, +500 | bound: 84 | nc: 1 | ncall: 170284 | eff(%):  4.905 | loglstar:   -inf < 240.643 <    inf | logz: 225.516 +/-    nan | dlogz:  0.001 >  0.500] \n"
     ]
    },
    {
     "name": "stdout",
     "output_type": "stream",
     "text": [
      "\t\t*** AVERAGING POSTERIOR SAMPLES ***\n"
     ]
    },
    {
     "name": "stderr",
     "output_type": "stream",
     "text": [
      "100%|██████████| 18/18 [00:00<00:00, 35.97it/s]\n"
     ]
    },
    {
     "name": "stdout",
     "output_type": "stream",
     "text": [
      "\t\t*** ESTIMATING AGE AND MASS USING MIST ISOCHRONES ***\n"
     ]
    },
    {
     "name": "stderr",
     "output_type": "stream",
     "text": [
      "10907it [00:47, 229.30it/s, +500 | bound: 124 | nc: 1 | ncall: 285133 | eff(%):  4.008 | loglstar:   -inf < -12.058 <    inf | logz: -29.420 +/- 10.823 | dlogz:  0.000 >  0.010]\n"
     ]
    },
    {
     "name": "stdout",
     "output_type": "stream",
     "text": [
      "\n",
      "\t\t\tFitting finished.\n",
      "\t\t\tBest fit parameters are:\n",
      "\t\t\tteff : 4530.9561 + 691.7771 - 458.1901 [3767.3060, 6444.5734]\n",
      "\t\t\tlogg : 4.1548 + 0.5353 - 0.4357 [3.5386, 5.3996]\n",
      "\t\t\t[Fe/H] : -0.1243 + 0.2053 - 0.1261 [-0.4938, 0.3830]\n",
      "\t\t\tdist : 10977.0268 + 3969.9086 - 3534.8502 [5538.7958, 21744.7242]\n",
      "\t\t\trad : 2.8343 + 1.3069 - 0.9994 [1.2007, 6.9471]\n",
      "\t\t\tAv : 2.4209 + 1.0230 - 0.9453 [0.8799, 4.7389]\n",
      "\t\t\tAngular Diameter : 0.0023 + 0.0015 - 0.0010 [0.0006, 0.0081]\n",
      "\t\t\tGrav mass : 2.8612 + 8.6397 - 2.1599 [0.2692, 85.8028]\n",
      "\t\t\tLuminosity : 3.0056 + 4.2320 - 1.9915 [0.3917, 26.5304]\n",
      "\t\t\tIso mass : 0.7595 + 0.1313 - 0.1364 [0.3730, 1.1257]\n",
      "\t\t\tAge (Gyr) : 1.0390 + 10.1499 - 1.0375 [0.0015, 13.4444]\n",
      "\t\t\tEEP : 343.4653 + 17.3469 - 56.1224 [124.0777, 428.1591]\n",
      "\t\t\tExcess BP noise : 0.8417 + 0.8573 - 0.3786 [0.1402, 3.4693]\n",
      "\t\t\tExcess PS1_r noise : 0.2291 + 0.1462 - 0.1150 [0.0302, 0.7466]\n",
      "\t\t\tExcess G noise : 0.0937 + 0.0532 - 0.0592 [0.0094, 0.3086]\n",
      "\t\t\tExcess PS1_i noise : 0.0878 + 0.0452 - 0.0360 [0.0219, 0.2501]\n",
      "\t\t\tExcess RP noise : 0.2401 + 0.2008 - 0.1365 [0.0192, 1.2200]\n",
      "\t\t\tExcess TESS noise : 0.6923 + 0.2413 - 0.1749 [0.3216, 1.3673]\n",
      "\t\t\tExcess PS1_z noise : 0.1240 + 0.0983 - 0.0713 [0.0065, 0.5827]\n",
      "\t\t\tExcess PS1_y noise : 0.4229 + 0.2886 - 0.2133 [0.0340, 1.2845]\n",
      "\t\t\tMamajek Spectral Type : K4.5V\n",
      "\t\t\tphoenix probability : 0.2753\n",
      "\t\t\tbtsettl probability : 0.0638\n",
      "\t\t\tbtnextgen probability : 0.2715\n",
      "\t\t\tbtcond probability : 0.3894\n",
      "\t\t\tElapsed time : 13 minutes and 9.20 seconds\n"
     ]
    }
   ],
   "source": [
    "f.fit_bma()"
   ]
  },
  {
   "cell_type": "code",
   "execution_count": 6,
   "metadata": {},
   "outputs": [
    {
     "name": "stdout",
     "output_type": "stream",
     "text": [
      "L_X / L_Bol:  0.06737423476177802 -1.1715061545046408\n"
     ]
    }
   ],
   "source": [
    "import numpy as np\n",
    "\n",
    "Lbol_sun = 4 * 10**33\n",
    "L_bol = Lbol_sun * 3.0056\n",
    "L_x = 8.1*10**32\n",
    "\n",
    "print(\"L_X / L_Bol: \",L_x/L_bol,np.log10(L_x/L_bol))"
   ]
  }
 ],
 "metadata": {
  "kernelspec": {
   "display_name": "Python 3 (ipykernel)",
   "language": "python",
   "name": "python3"
  },
  "language_info": {
   "codemirror_mode": {
    "name": "ipython",
    "version": 3
   },
   "file_extension": ".py",
   "mimetype": "text/x-python",
   "name": "python",
   "nbconvert_exporter": "python",
   "pygments_lexer": "ipython3",
   "version": "3.8.10"
  }
 },
 "nbformat": 4,
 "nbformat_minor": 4
}
